{
 "cells": [
  {
   "cell_type": "markdown",
   "metadata": {},
   "source": [
    "# Analyze 2021 Citibike Data Anomalies\n",
    "Gender and \"user type\" distributions in February+March 2021 Citibike data are way out of line with historical averages; [skip to plots at the end](#gender)."
   ]
  },
  {
   "cell_type": "code",
   "execution_count": 1,
   "metadata": {},
   "outputs": [],
   "source": [
    "from boto3 import client\n",
    "from datetime import datetime as dt\n",
    "import pandas as pd\n",
    "from tempfile import TemporaryDirectory\n",
    "from zipfile import ZipFile"
   ]
  },
  {
   "cell_type": "markdown",
   "metadata": {},
   "source": [
    "Public Citibike data is published to the `tripdata` Amazon S3 bucket:"
   ]
  },
  {
   "cell_type": "code",
   "execution_count": 2,
   "metadata": {},
   "outputs": [],
   "source": [
    "s3 = client('s3')\n",
    "bucket = 'tripdata'"
   ]
  },
  {
   "cell_type": "markdown",
   "metadata": {},
   "source": [
    "We'll look at 2020 and 2021 data:"
   ]
  },
  {
   "cell_type": "code",
   "execution_count": 3,
   "metadata": {
    "tags": [
     "parameters"
    ]
   },
   "outputs": [],
   "source": [
    "start = (2020, 1)\n",
    "end = (2021, 3)"
   ]
  },
  {
   "cell_type": "code",
   "execution_count": 4,
   "metadata": {},
   "outputs": [],
   "source": [
    "months = pd.date_range(*[ pd.to_datetime('%d-%02d' % (y, m)) for y,m in [start, end]], freq='MS').to_series()"
   ]
  },
  {
   "cell_type": "markdown",
   "metadata": {},
   "source": [
    "Download one {month,region}'s data, tag it with {year,month,region}:"
   ]
  },
  {
   "cell_type": "code",
   "execution_count": 7,
   "metadata": {},
   "outputs": [],
   "source": [
    "def load_csv(date, jc=False):\n",
    "    y, m = date.year, date.month\n",
    "    if jc:\n",
    "        base = 'JC-'\n",
    "    else:\n",
    "        base = ''\n",
    "    base += '%d%02d-citibike-tripdata' % (y, m)\n",
    "    zip_key = f'{base}.csv.zip'\n",
    "    with TemporaryDirectory() as d:\n",
    "            zip_path = f'{d}/{base}.zip'\n",
    "            s3.download_file(bucket, zip_key, zip_path)\n",
    "            z = ZipFile(zip_path)\n",
    "            names = z.namelist()\n",
    "            print(f'{zip_key} contains names: {names}')\n",
    "            [ name ] = [ f for f in names if f.endswith('.csv') and not f.startswith('_') ]\n",
    "            with z.open(name,'r') as i:\n",
    "                df = pd.read_csv(i)\n",
    "                df = df[['gender','usertype']]\n",
    "                df['year'] = y\n",
    "                df['month'] = m\n",
    "                if jc:\n",
    "                    df['region'] = 'JC'\n",
    "                else:\n",
    "                    df['region'] = 'NYC'\n",
    "                return df"
   ]
  },
  {
   "cell_type": "markdown",
   "metadata": {},
   "source": [
    "Download + Concatenate all applicable months' data:"
   ]
  },
  {
   "cell_type": "code",
   "execution_count": 8,
   "metadata": {},
   "outputs": [
    {
     "name": "stdout",
     "output_type": "stream",
     "text": [
      "202012-citibike-tripdata.csv.zip contains names: ['202012-citibike-tripdata.csv']\n",
      "JC-202012-citibike-tripdata.csv.zip contains names: ['JC-202012-citibike-tripdata.csv']\n",
      "202101-citibike-tripdata.csv.zip contains names: ['202101-citibike-tripdata.csv']\n",
      "JC-202101-citibike-tripdata.csv.zip contains names: ['JC-202101-citibike-tripdata.csv']\n",
      "202102-citibike-tripdata.csv.zip contains names: ['202102-citibike-tripdata.csv']\n",
      "JC-202102-citibike-tripdata.csv.zip contains names: ['JC-202102-citibike-tripdata.csv', '__MACOSX/._JC-202102-citibike-tripdata.csv']\n",
      "202103-citibike-tripdata.csv.zip contains names: ['202103-citibike-tripdata.csv', '__MACOSX/._202103-citibike-tripdata.csv']\n",
      "JC-202103-citibike-tripdata.csv.zip contains names: ['JC-202103-citibike-tripdata.csv', '__MACOSX/._JC-202103-citibike-tripdata.csv']\n"
     ]
    },
    {
     "data": {
      "text/html": [
       "<div>\n",
       "<style scoped>\n",
       "    .dataframe tbody tr th:only-of-type {\n",
       "        vertical-align: middle;\n",
       "    }\n",
       "\n",
       "    .dataframe tbody tr th {\n",
       "        vertical-align: top;\n",
       "    }\n",
       "\n",
       "    .dataframe thead th {\n",
       "        text-align: right;\n",
       "    }\n",
       "</style>\n",
       "<table border=\"1\" class=\"dataframe\">\n",
       "  <thead>\n",
       "    <tr style=\"text-align: right;\">\n",
       "      <th></th>\n",
       "      <th>gender</th>\n",
       "      <th>usertype</th>\n",
       "      <th>year</th>\n",
       "      <th>month</th>\n",
       "      <th>region</th>\n",
       "    </tr>\n",
       "  </thead>\n",
       "  <tbody>\n",
       "    <tr>\n",
       "      <th>0</th>\n",
       "      <td>2</td>\n",
       "      <td>Customer</td>\n",
       "      <td>2020</td>\n",
       "      <td>12</td>\n",
       "      <td>NYC</td>\n",
       "    </tr>\n",
       "    <tr>\n",
       "      <th>1</th>\n",
       "      <td>1</td>\n",
       "      <td>Subscriber</td>\n",
       "      <td>2020</td>\n",
       "      <td>12</td>\n",
       "      <td>NYC</td>\n",
       "    </tr>\n",
       "    <tr>\n",
       "      <th>2</th>\n",
       "      <td>2</td>\n",
       "      <td>Subscriber</td>\n",
       "      <td>2020</td>\n",
       "      <td>12</td>\n",
       "      <td>NYC</td>\n",
       "    </tr>\n",
       "    <tr>\n",
       "      <th>3</th>\n",
       "      <td>0</td>\n",
       "      <td>Subscriber</td>\n",
       "      <td>2020</td>\n",
       "      <td>12</td>\n",
       "      <td>NYC</td>\n",
       "    </tr>\n",
       "    <tr>\n",
       "      <th>4</th>\n",
       "      <td>1</td>\n",
       "      <td>Customer</td>\n",
       "      <td>2020</td>\n",
       "      <td>12</td>\n",
       "      <td>NYC</td>\n",
       "    </tr>\n",
       "    <tr>\n",
       "      <th>...</th>\n",
       "      <td>...</td>\n",
       "      <td>...</td>\n",
       "      <td>...</td>\n",
       "      <td>...</td>\n",
       "      <td>...</td>\n",
       "    </tr>\n",
       "    <tr>\n",
       "      <th>16838</th>\n",
       "      <td>0</td>\n",
       "      <td>Customer</td>\n",
       "      <td>2021</td>\n",
       "      <td>3</td>\n",
       "      <td>JC</td>\n",
       "    </tr>\n",
       "    <tr>\n",
       "      <th>16839</th>\n",
       "      <td>0</td>\n",
       "      <td>Customer</td>\n",
       "      <td>2021</td>\n",
       "      <td>3</td>\n",
       "      <td>JC</td>\n",
       "    </tr>\n",
       "    <tr>\n",
       "      <th>16840</th>\n",
       "      <td>0</td>\n",
       "      <td>Customer</td>\n",
       "      <td>2021</td>\n",
       "      <td>3</td>\n",
       "      <td>JC</td>\n",
       "    </tr>\n",
       "    <tr>\n",
       "      <th>16841</th>\n",
       "      <td>0</td>\n",
       "      <td>Customer</td>\n",
       "      <td>2021</td>\n",
       "      <td>3</td>\n",
       "      <td>JC</td>\n",
       "    </tr>\n",
       "    <tr>\n",
       "      <th>16842</th>\n",
       "      <td>0</td>\n",
       "      <td>Customer</td>\n",
       "      <td>2021</td>\n",
       "      <td>3</td>\n",
       "      <td>JC</td>\n",
       "    </tr>\n",
       "  </tbody>\n",
       "</table>\n",
       "<p>4357849 rows × 5 columns</p>\n",
       "</div>"
      ],
      "text/plain": [
       "       gender    usertype  year  month region\n",
       "0           2    Customer  2020     12    NYC\n",
       "1           1  Subscriber  2020     12    NYC\n",
       "2           2  Subscriber  2020     12    NYC\n",
       "3           0  Subscriber  2020     12    NYC\n",
       "4           1    Customer  2020     12    NYC\n",
       "...       ...         ...   ...    ...    ...\n",
       "16838       0    Customer  2021      3     JC\n",
       "16839       0    Customer  2021      3     JC\n",
       "16840       0    Customer  2021      3     JC\n",
       "16841       0    Customer  2021      3     JC\n",
       "16842       0    Customer  2021      3     JC\n",
       "\n",
       "[4357849 rows x 5 columns]"
      ]
     },
     "execution_count": 8,
     "metadata": {},
     "output_type": "execute_result"
    }
   ],
   "source": [
    "df = pd.concat([\n",
    "    load_csv(month, jc=jc)\n",
    "    for month in months.tolist()\n",
    "    for jc in [False,True]\n",
    "])\n",
    "df"
   ]
  },
  {
   "cell_type": "markdown",
   "metadata": {},
   "source": [
    "Map 0, 1, 2 \"gender\" values to \"U\" (unspecified), \"M\" (male), and \"F\" (female):"
   ]
  },
  {
   "cell_type": "code",
   "execution_count": 9,
   "metadata": {},
   "outputs": [],
   "source": [
    "df['gender'] = df['gender'].apply(lambda g: 'UMF'[int(g)])"
   ]
  },
  {
   "cell_type": "markdown",
   "metadata": {},
   "source": [
    "Build count and percentage tables:"
   ]
  },
  {
   "cell_type": "code",
   "execution_count": 10,
   "metadata": {},
   "outputs": [],
   "source": [
    "def column_hist(df, k, region=False):\n",
    "    idx_keys = ['year','month']\n",
    "    if region:\n",
    "        idx_keys += ['region']\n",
    "    all_keys = idx_keys + [k]\n",
    "    counts = df[all_keys].value_counts().rename('count')\n",
    "    counts = counts.reset_index().sort_values(all_keys).set_index(idx_keys)\n",
    "    hist = counts.pivot_table(values='count', index=counts.index, columns=k, aggfunc='sum')\n",
    "    hist = hist.set_index(pd.MultiIndex.from_tuples(hist.index))\n",
    "    total = hist.sum(axis=1)\n",
    "    for c in hist.columns:\n",
    "        hist[f'{c}%'] = round(hist[c] / total * 100, 1)\n",
    "    counts['date'] = counts.index.to_frame().apply(lambda r: pd.to_datetime('%d-%02d' % (r['year'], r['month'])), axis=1)\n",
    "    return counts, hist"
   ]
  },
  {
   "cell_type": "markdown",
   "metadata": {},
   "source": [
    "## Counts, Percentages <a id=\"counts\"></a>"
   ]
  },
  {
   "cell_type": "code",
   "execution_count": 11,
   "metadata": {},
   "outputs": [
    {
     "data": {
      "text/html": [
       "<div>\n",
       "<style scoped>\n",
       "    .dataframe tbody tr th:only-of-type {\n",
       "        vertical-align: middle;\n",
       "    }\n",
       "\n",
       "    .dataframe tbody tr th {\n",
       "        vertical-align: top;\n",
       "    }\n",
       "\n",
       "    .dataframe thead th {\n",
       "        text-align: right;\n",
       "    }\n",
       "</style>\n",
       "<table border=\"1\" class=\"dataframe\">\n",
       "  <thead>\n",
       "    <tr style=\"text-align: right;\">\n",
       "      <th></th>\n",
       "      <th></th>\n",
       "      <th>F</th>\n",
       "      <th>M</th>\n",
       "      <th>U</th>\n",
       "      <th>F%</th>\n",
       "      <th>M%</th>\n",
       "      <th>U%</th>\n",
       "      <th>Customer</th>\n",
       "      <th>Subscriber</th>\n",
       "      <th>Customer%</th>\n",
       "      <th>Subscriber%</th>\n",
       "    </tr>\n",
       "  </thead>\n",
       "  <tbody>\n",
       "    <tr>\n",
       "      <th>2020</th>\n",
       "      <th>12</th>\n",
       "      <td>293184</td>\n",
       "      <td>711540</td>\n",
       "      <td>95899</td>\n",
       "      <td>26.6</td>\n",
       "      <td>64.6</td>\n",
       "      <td>8.7</td>\n",
       "      <td>170602</td>\n",
       "      <td>930021</td>\n",
       "      <td>15.5</td>\n",
       "      <td>84.5</td>\n",
       "    </tr>\n",
       "    <tr>\n",
       "      <th rowspan=\"3\" valign=\"top\">2021</th>\n",
       "      <th>1</th>\n",
       "      <td>292460</td>\n",
       "      <td>722418</td>\n",
       "      <td>92092</td>\n",
       "      <td>26.4</td>\n",
       "      <td>65.3</td>\n",
       "      <td>8.3</td>\n",
       "      <td>152153</td>\n",
       "      <td>954817</td>\n",
       "      <td>13.7</td>\n",
       "      <td>86.3</td>\n",
       "    </tr>\n",
       "    <tr>\n",
       "      <th>2</th>\n",
       "      <td>46415</td>\n",
       "      <td>125890</td>\n",
       "      <td>467051</td>\n",
       "      <td>7.3</td>\n",
       "      <td>19.7</td>\n",
       "      <td>73.1</td>\n",
       "      <td>472083</td>\n",
       "      <td>167273</td>\n",
       "      <td>73.8</td>\n",
       "      <td>26.2</td>\n",
       "    </tr>\n",
       "    <tr>\n",
       "      <th>3</th>\n",
       "      <td>59984</td>\n",
       "      <td>129357</td>\n",
       "      <td>1321559</td>\n",
       "      <td>4.0</td>\n",
       "      <td>8.6</td>\n",
       "      <td>87.5</td>\n",
       "      <td>1331580</td>\n",
       "      <td>179320</td>\n",
       "      <td>88.1</td>\n",
       "      <td>11.9</td>\n",
       "    </tr>\n",
       "  </tbody>\n",
       "</table>\n",
       "</div>"
      ],
      "text/plain": [
       "              F       M        U    F%    M%    U%  Customer  Subscriber  \\\n",
       "2020 12  293184  711540    95899  26.6  64.6   8.7    170602      930021   \n",
       "2021 1   292460  722418    92092  26.4  65.3   8.3    152153      954817   \n",
       "     2    46415  125890   467051   7.3  19.7  73.1    472083      167273   \n",
       "     3    59984  129357  1321559   4.0   8.6  87.5   1331580      179320   \n",
       "\n",
       "         Customer%  Subscriber%  \n",
       "2020 12       15.5         84.5  \n",
       "2021 1        13.7         86.3  \n",
       "     2        73.8         26.2  \n",
       "     3        88.1         11.9  "
      ]
     },
     "execution_count": 11,
     "metadata": {},
     "output_type": "execute_result"
    }
   ],
   "source": [
    "gc, gh = column_hist(df, 'gender')\n",
    "uc, uh = column_hist(df, 'usertype')\n",
    "hist = pd.concat([gh, uh], axis=1)\n",
    "hist"
   ]
  },
  {
   "cell_type": "code",
   "execution_count": 12,
   "metadata": {},
   "outputs": [
    {
     "data": {
      "text/html": [
       "<div>\n",
       "<style scoped>\n",
       "    .dataframe tbody tr th:only-of-type {\n",
       "        vertical-align: middle;\n",
       "    }\n",
       "\n",
       "    .dataframe tbody tr th {\n",
       "        vertical-align: top;\n",
       "    }\n",
       "\n",
       "    .dataframe thead th {\n",
       "        text-align: right;\n",
       "    }\n",
       "</style>\n",
       "<table border=\"1\" class=\"dataframe\">\n",
       "  <thead>\n",
       "    <tr style=\"text-align: right;\">\n",
       "      <th></th>\n",
       "      <th></th>\n",
       "      <th>gender</th>\n",
       "      <th>count</th>\n",
       "      <th>date</th>\n",
       "    </tr>\n",
       "    <tr>\n",
       "      <th>year</th>\n",
       "      <th>month</th>\n",
       "      <th></th>\n",
       "      <th></th>\n",
       "      <th></th>\n",
       "    </tr>\n",
       "  </thead>\n",
       "  <tbody>\n",
       "    <tr>\n",
       "      <th rowspan=\"3\" valign=\"top\">2020</th>\n",
       "      <th>12</th>\n",
       "      <td>F</td>\n",
       "      <td>293184</td>\n",
       "      <td>2020-12-01</td>\n",
       "    </tr>\n",
       "    <tr>\n",
       "      <th>12</th>\n",
       "      <td>M</td>\n",
       "      <td>711540</td>\n",
       "      <td>2020-12-01</td>\n",
       "    </tr>\n",
       "    <tr>\n",
       "      <th>12</th>\n",
       "      <td>U</td>\n",
       "      <td>95899</td>\n",
       "      <td>2020-12-01</td>\n",
       "    </tr>\n",
       "    <tr>\n",
       "      <th rowspan=\"9\" valign=\"top\">2021</th>\n",
       "      <th>1</th>\n",
       "      <td>F</td>\n",
       "      <td>292460</td>\n",
       "      <td>2021-01-01</td>\n",
       "    </tr>\n",
       "    <tr>\n",
       "      <th>1</th>\n",
       "      <td>M</td>\n",
       "      <td>722418</td>\n",
       "      <td>2021-01-01</td>\n",
       "    </tr>\n",
       "    <tr>\n",
       "      <th>1</th>\n",
       "      <td>U</td>\n",
       "      <td>92092</td>\n",
       "      <td>2021-01-01</td>\n",
       "    </tr>\n",
       "    <tr>\n",
       "      <th>2</th>\n",
       "      <td>F</td>\n",
       "      <td>46415</td>\n",
       "      <td>2021-02-01</td>\n",
       "    </tr>\n",
       "    <tr>\n",
       "      <th>2</th>\n",
       "      <td>M</td>\n",
       "      <td>125890</td>\n",
       "      <td>2021-02-01</td>\n",
       "    </tr>\n",
       "    <tr>\n",
       "      <th>2</th>\n",
       "      <td>U</td>\n",
       "      <td>467051</td>\n",
       "      <td>2021-02-01</td>\n",
       "    </tr>\n",
       "    <tr>\n",
       "      <th>3</th>\n",
       "      <td>F</td>\n",
       "      <td>59984</td>\n",
       "      <td>2021-03-01</td>\n",
       "    </tr>\n",
       "    <tr>\n",
       "      <th>3</th>\n",
       "      <td>M</td>\n",
       "      <td>129357</td>\n",
       "      <td>2021-03-01</td>\n",
       "    </tr>\n",
       "    <tr>\n",
       "      <th>3</th>\n",
       "      <td>U</td>\n",
       "      <td>1321559</td>\n",
       "      <td>2021-03-01</td>\n",
       "    </tr>\n",
       "  </tbody>\n",
       "</table>\n",
       "</div>"
      ],
      "text/plain": [
       "           gender    count       date\n",
       "year month                           \n",
       "2020 12         F   293184 2020-12-01\n",
       "     12         M   711540 2020-12-01\n",
       "     12         U    95899 2020-12-01\n",
       "2021 1          F   292460 2021-01-01\n",
       "     1          M   722418 2021-01-01\n",
       "     1          U    92092 2021-01-01\n",
       "     2          F    46415 2021-02-01\n",
       "     2          M   125890 2021-02-01\n",
       "     2          U   467051 2021-02-01\n",
       "     3          F    59984 2021-03-01\n",
       "     3          M   129357 2021-03-01\n",
       "     3          U  1321559 2021-03-01"
      ]
     },
     "execution_count": 12,
     "metadata": {},
     "output_type": "execute_result"
    }
   ],
   "source": [
    "gc"
   ]
  },
  {
   "cell_type": "code",
   "execution_count": 13,
   "metadata": {},
   "outputs": [
    {
     "data": {
      "text/html": [
       "<div>\n",
       "<style scoped>\n",
       "    .dataframe tbody tr th:only-of-type {\n",
       "        vertical-align: middle;\n",
       "    }\n",
       "\n",
       "    .dataframe tbody tr th {\n",
       "        vertical-align: top;\n",
       "    }\n",
       "\n",
       "    .dataframe thead th {\n",
       "        text-align: right;\n",
       "    }\n",
       "</style>\n",
       "<table border=\"1\" class=\"dataframe\">\n",
       "  <thead>\n",
       "    <tr style=\"text-align: right;\">\n",
       "      <th></th>\n",
       "      <th></th>\n",
       "      <th>usertype</th>\n",
       "      <th>count</th>\n",
       "      <th>date</th>\n",
       "    </tr>\n",
       "    <tr>\n",
       "      <th>year</th>\n",
       "      <th>month</th>\n",
       "      <th></th>\n",
       "      <th></th>\n",
       "      <th></th>\n",
       "    </tr>\n",
       "  </thead>\n",
       "  <tbody>\n",
       "    <tr>\n",
       "      <th rowspan=\"2\" valign=\"top\">2020</th>\n",
       "      <th>12</th>\n",
       "      <td>Customer</td>\n",
       "      <td>170602</td>\n",
       "      <td>2020-12-01</td>\n",
       "    </tr>\n",
       "    <tr>\n",
       "      <th>12</th>\n",
       "      <td>Subscriber</td>\n",
       "      <td>930021</td>\n",
       "      <td>2020-12-01</td>\n",
       "    </tr>\n",
       "    <tr>\n",
       "      <th rowspan=\"6\" valign=\"top\">2021</th>\n",
       "      <th>1</th>\n",
       "      <td>Customer</td>\n",
       "      <td>152153</td>\n",
       "      <td>2021-01-01</td>\n",
       "    </tr>\n",
       "    <tr>\n",
       "      <th>1</th>\n",
       "      <td>Subscriber</td>\n",
       "      <td>954817</td>\n",
       "      <td>2021-01-01</td>\n",
       "    </tr>\n",
       "    <tr>\n",
       "      <th>2</th>\n",
       "      <td>Customer</td>\n",
       "      <td>472083</td>\n",
       "      <td>2021-02-01</td>\n",
       "    </tr>\n",
       "    <tr>\n",
       "      <th>2</th>\n",
       "      <td>Subscriber</td>\n",
       "      <td>167273</td>\n",
       "      <td>2021-02-01</td>\n",
       "    </tr>\n",
       "    <tr>\n",
       "      <th>3</th>\n",
       "      <td>Customer</td>\n",
       "      <td>1331580</td>\n",
       "      <td>2021-03-01</td>\n",
       "    </tr>\n",
       "    <tr>\n",
       "      <th>3</th>\n",
       "      <td>Subscriber</td>\n",
       "      <td>179320</td>\n",
       "      <td>2021-03-01</td>\n",
       "    </tr>\n",
       "  </tbody>\n",
       "</table>\n",
       "</div>"
      ],
      "text/plain": [
       "              usertype    count       date\n",
       "year month                                \n",
       "2020 12       Customer   170602 2020-12-01\n",
       "     12     Subscriber   930021 2020-12-01\n",
       "2021 1        Customer   152153 2021-01-01\n",
       "     1      Subscriber   954817 2021-01-01\n",
       "     2        Customer   472083 2021-02-01\n",
       "     2      Subscriber   167273 2021-02-01\n",
       "     3        Customer  1331580 2021-03-01\n",
       "     3      Subscriber   179320 2021-03-01"
      ]
     },
     "execution_count": 13,
     "metadata": {},
     "output_type": "execute_result"
    }
   ],
   "source": [
    "uc"
   ]
  },
  {
   "cell_type": "code",
   "execution_count": 14,
   "metadata": {},
   "outputs": [],
   "source": [
    "import plotly.express as px"
   ]
  },
  {
   "cell_type": "markdown",
   "metadata": {},
   "source": [
    "## Gender breakdown <a id=\"gender\"></a>"
   ]
  },
  {
   "cell_type": "code",
   "execution_count": 15,
   "metadata": {},
   "outputs": [
    {
     "data": {
      "image/png": "[encoded data removed]"
     },
     "metadata": {},
     "output_type": "display_data"
    }
   ],
   "source": [
    "px.bar(\n",
    "    gc,\n",
    "    x='date',\n",
    "    y='count',\n",
    "    color='gender',\n",
    "    barmode='stack',\n",
    ").show(renderer='png')"
   ]
  },
  {
   "cell_type": "markdown",
   "metadata": {},
   "source": [
    "## \"User type\" plot <a id=\"usertype\"></a>"
   ]
  },
  {
   "cell_type": "code",
   "execution_count": 16,
   "metadata": {},
   "outputs": [
    {
     "data": {
      "image/png": "[encoded data removed]"
     },
     "metadata": {},
     "output_type": "display_data"
    }
   ],
   "source": [
    "px.bar(\n",
    "    uc,\n",
    "    x='date',\n",
    "    y='count',\n",
    "    color='usertype',\n",
    "    barmode='stack',\n",
    ").show(renderer='png')"
   ]
  }
 ],
 "metadata": {
  "kernelspec": {
   "display_name": "Python 3",
   "language": "python",
   "name": "python3"
  },
  "language_info": {
   "codemirror_mode": {
    "name": "ipython",
    "version": 3
   },
   "file_extension": ".py",
   "mimetype": "text/x-python",
   "name": "python",
   "nbconvert_exporter": "python",
   "pygments_lexer": "ipython3",
   "version": "3.8.6"
  }
 },
 "nbformat": 4,
 "nbformat_minor": 4
}
