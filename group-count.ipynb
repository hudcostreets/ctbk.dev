{
 "cells": [
  {
   "cell_type": "code",
   "execution_count": 1,
   "metadata": {},
   "outputs": [],
   "source": [
    "from utz import *\n",
    "import plotly.express as px"
   ]
  },
  {
   "cell_type": "code",
   "execution_count": 2,
   "metadata": {},
   "outputs": [],
   "source": [
    "Bucket = 'ctbk'\n",
    "\n",
    "from boto3 import client\n",
    "from botocore import UNSIGNED\n",
    "from botocore.client import Config\n",
    "s3 = client('s3', config=Config())\n",
    "resp = s3.list_objects_v2(Bucket=Bucket)\n",
    "contents = pd.DataFrame(resp['Contents'])\n",
    "keys = contents.Key"
   ]
  },
  {
   "cell_type": "code",
   "execution_count": 3,
   "metadata": {},
   "outputs": [
    {
     "data": {
      "text/plain": [
       "Timestamp('2021-02-01 00:00:00')"
      ]
     },
     "execution_count": 3,
     "metadata": {},
     "output_type": "execute_result"
    }
   ],
   "source": [
    "months = keys.str.extract('^(?:JC-)?(?P<yyyy>\\d{4})(?P<mm>\\d{2}).*\\.parquet').dropna()\n",
    "cur_month = months.apply(lambda m: to_dt('%s-%s' % (m.yyyy, m.mm)), axis=1).max()\n",
    "cur_month"
   ]
  },
  {
   "cell_type": "code",
   "execution_count": 4,
   "metadata": {},
   "outputs": [],
   "source": [
    "def sum_by_wd_gender(key):\n",
    "    print(f'Aggregating {key}')\n",
    "    df = read_parquet(f's3://{Bucket}/{key}')\n",
    "    m = match('(?:(?P<region>JC)-)?(?P<year>\\d{4})(?P<month>\\d{2})', basename(key))\n",
    "    year, month = int(m['year']), int(m['month'])\n",
    "    region = m['region'] or 'NYC'\n",
    "    df['Region'] = region\n",
    "    df['Start Year'] = df['Start Time'].dt.year\n",
    "    df['Start Month'] = df['Start Time'].dt.month\n",
    "    df['Start Day'] = df['Start Time'].dt.day\n",
    "    df['Start Weekday'] = df['Start Time'].dt.weekday\n",
    "    grouped = df.groupby(['Start Year','Start Month','Region','Gender','Start Weekday'])['Start Year'].count().rename('Count')\n",
    "    return grouped"
   ]
  },
  {
   "cell_type": "code",
   "execution_count": 5,
   "metadata": {},
   "outputs": [],
   "source": [
    "def group_paths(paths):\n",
    "    p = Parallel(n_jobs=cpu_count())\n",
    "    df = concat(p(delayed(sum_by_wd_gender)(path) for path in paths))\n",
    "    df = df.reset_index()\n",
    "    df['Month'] = df.apply(lambda r: to_dt('%d-%02d' % (int(r['Start Year']), int(r['Start Month']))), axis=1)\n",
    "    return df"
   ]
  },
  {
   "cell_type": "code",
   "execution_count": 6,
   "metadata": {},
   "outputs": [
    {
     "name": "stdout",
     "output_type": "stream",
     "text": [
      "Aggregating 2 new paths:\n",
      "\t202102-citibike-tripdata.parquet\n",
      "\tJC-202102-citibike-tripdata.parquet\n",
      "CPU times: user 646 ms, sys: 165 ms, total: 812 ms\n",
      "Wall time: 5.96 s\n"
     ]
    }
   ],
   "source": [
    "%%time\n",
    "grouped_path = 'year-month-region-gender-weekday.parquet'\n",
    "if exists(grouped_path):\n",
    "    df = read_parquet(grouped_path)\n",
    "    last_month = df.apply(lambda r: to_dt('%d-%02d' % (r['Start Year'], r['Start Month'])), axis=1).max()\n",
    "    if cur_month > last_month:\n",
    "        new_months = date_range(last_month, cur_month, freq='MS', closed='right')\n",
    "    new_paths = \\\n",
    "        concat([\n",
    "            new_months \\\n",
    "            .to_series() \\\n",
    "            .apply(lambda m: '%s%d%02d-citibike-tripdata.parquet' % (region, m.year, m.month))\n",
    "            for region in ['', 'JC-']\n",
    "        ])\n",
    "    print('Aggregating %d new paths:\\n\\t%s' % (len(new_paths), '\\n\\t'.join(new_paths)))\n",
    "    df = concat([df, group_paths(new_paths)])\n",
    "    df.to_parquet(grouped_path)\n",
    "    s3.upload_file(grouped_path, Bucket, grouped_path)\n",
    "else:\n",
    "    df = group_paths(paths)\n",
    "    df.to_parquet(grouped_path)"
   ]
  }
 ],
 "metadata": {
  "kernelspec": {
   "display_name": "Python 3",
   "language": "python",
   "name": "python3"
  },
  "language_info": {
   "codemirror_mode": {
    "name": "ipython",
    "version": 3
   },
   "file_extension": ".py",
   "mimetype": "text/x-python",
   "name": "python",
   "nbconvert_exporter": "python",
   "pygments_lexer": "ipython3",
   "version": "3.8.6"
  }
 },
 "nbformat": 4,
 "nbformat_minor": 4
}
