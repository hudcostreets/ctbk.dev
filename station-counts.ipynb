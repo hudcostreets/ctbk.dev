{
 "cells": [
  {
   "cell_type": "code",
   "execution_count": 119,
   "id": "17a2353d",
   "metadata": {},
   "outputs": [],
   "source": [
    "import plotly.express as px\n",
    "from utz import *"
   ]
  },
  {
   "cell_type": "markdown",
   "id": "5849f4bd",
   "metadata": {},
   "source": [
    "### Load September 2021 data"
   ]
  },
  {
   "cell_type": "code",
   "execution_count": 2,
   "id": "ff227075",
   "metadata": {},
   "outputs": [
    {
     "data": {
      "text/html": [
       "<div>\n",
       "<style scoped>\n",
       "    .dataframe tbody tr th:only-of-type {\n",
       "        vertical-align: middle;\n",
       "    }\n",
       "\n",
       "    .dataframe tbody tr th {\n",
       "        vertical-align: top;\n",
       "    }\n",
       "\n",
       "    .dataframe thead th {\n",
       "        text-align: right;\n",
       "    }\n",
       "</style>\n",
       "<table border=\"1\" class=\"dataframe\">\n",
       "  <thead>\n",
       "    <tr style=\"text-align: right;\">\n",
       "      <th></th>\n",
       "      <th>Ride ID</th>\n",
       "      <th>Rideable Type</th>\n",
       "      <th>Start Time</th>\n",
       "      <th>Stop Time</th>\n",
       "      <th>Start Station Name</th>\n",
       "      <th>Start Station ID</th>\n",
       "      <th>End Station Name</th>\n",
       "      <th>End Station ID</th>\n",
       "      <th>Start Station Latitude</th>\n",
       "      <th>Start Station Longitude</th>\n",
       "      <th>End Station Latitude</th>\n",
       "      <th>End Station Longitude</th>\n",
       "      <th>Gender</th>\n",
       "      <th>User Type</th>\n",
       "      <th>Region</th>\n",
       "    </tr>\n",
       "  </thead>\n",
       "  <tbody>\n",
       "    <tr>\n",
       "      <th>0</th>\n",
       "      <td>22C33F42C6A0E28E</td>\n",
       "      <td>classic_bike</td>\n",
       "      <td>2021-09-01 10:26:45</td>\n",
       "      <td>2021-09-01 10:43:23</td>\n",
       "      <td>Central Park West &amp; W 72 St</td>\n",
       "      <td>7141.07</td>\n",
       "      <td>E 51 St &amp; 1 Ave</td>\n",
       "      <td>6532.06</td>\n",
       "      <td>40.775794</td>\n",
       "      <td>-73.976206</td>\n",
       "      <td>40.754557</td>\n",
       "      <td>-73.965930</td>\n",
       "      <td>0</td>\n",
       "      <td>Subscriber</td>\n",
       "      <td>NYC</td>\n",
       "    </tr>\n",
       "    <tr>\n",
       "      <th>1</th>\n",
       "      <td>035F743147FCFCDE</td>\n",
       "      <td>classic_bike</td>\n",
       "      <td>2021-09-04 09:52:40</td>\n",
       "      <td>2021-09-04 10:09:19</td>\n",
       "      <td>William St &amp; Pine St</td>\n",
       "      <td>5065.12</td>\n",
       "      <td>None</td>\n",
       "      <td>None</td>\n",
       "      <td>40.707179</td>\n",
       "      <td>-74.008873</td>\n",
       "      <td>40.720000</td>\n",
       "      <td>-74.010000</td>\n",
       "      <td>0</td>\n",
       "      <td>Subscriber</td>\n",
       "      <td>NYC</td>\n",
       "    </tr>\n",
       "    <tr>\n",
       "      <th>2</th>\n",
       "      <td>9C43CF6A07DACBC6</td>\n",
       "      <td>classic_bike</td>\n",
       "      <td>2021-09-06 17:07:40</td>\n",
       "      <td>2021-09-06 17:34:44</td>\n",
       "      <td>Fulton St &amp; Broadway</td>\n",
       "      <td>5175.08</td>\n",
       "      <td>Jay St &amp; Tech Pl</td>\n",
       "      <td>4710.06</td>\n",
       "      <td>40.711066</td>\n",
       "      <td>-74.009447</td>\n",
       "      <td>40.695065</td>\n",
       "      <td>-73.987167</td>\n",
       "      <td>0</td>\n",
       "      <td>Customer</td>\n",
       "      <td>NYC</td>\n",
       "    </tr>\n",
       "    <tr>\n",
       "      <th>3</th>\n",
       "      <td>253A1A5B20CC78EE</td>\n",
       "      <td>classic_bike</td>\n",
       "      <td>2021-09-28 16:53:43</td>\n",
       "      <td>2021-09-28 17:03:00</td>\n",
       "      <td>West Drive &amp; Prospect Park West</td>\n",
       "      <td>3651.04</td>\n",
       "      <td>Ocean Pkwy &amp; Church Ave</td>\n",
       "      <td>3125.09</td>\n",
       "      <td>40.661063</td>\n",
       "      <td>-73.979453</td>\n",
       "      <td>40.644719</td>\n",
       "      <td>-73.974515</td>\n",
       "      <td>0</td>\n",
       "      <td>Subscriber</td>\n",
       "      <td>NYC</td>\n",
       "    </tr>\n",
       "    <tr>\n",
       "      <th>4</th>\n",
       "      <td>5E8F164D6798CEFA</td>\n",
       "      <td>classic_bike</td>\n",
       "      <td>2021-09-19 09:37:47</td>\n",
       "      <td>2021-09-19 09:53:42</td>\n",
       "      <td>Lorimer St &amp; Broadway</td>\n",
       "      <td>4965.01</td>\n",
       "      <td>Jay St &amp; Tech Pl</td>\n",
       "      <td>4710.06</td>\n",
       "      <td>40.704118</td>\n",
       "      <td>-73.948186</td>\n",
       "      <td>40.695065</td>\n",
       "      <td>-73.987167</td>\n",
       "      <td>0</td>\n",
       "      <td>Subscriber</td>\n",
       "      <td>NYC</td>\n",
       "    </tr>\n",
       "    <tr>\n",
       "      <th>...</th>\n",
       "      <td>...</td>\n",
       "      <td>...</td>\n",
       "      <td>...</td>\n",
       "      <td>...</td>\n",
       "      <td>...</td>\n",
       "      <td>...</td>\n",
       "      <td>...</td>\n",
       "      <td>...</td>\n",
       "      <td>...</td>\n",
       "      <td>...</td>\n",
       "      <td>...</td>\n",
       "      <td>...</td>\n",
       "      <td>...</td>\n",
       "      <td>...</td>\n",
       "      <td>...</td>\n",
       "    </tr>\n",
       "    <tr>\n",
       "      <th>97285</th>\n",
       "      <td>DA808C4DE967D604</td>\n",
       "      <td>classic_bike</td>\n",
       "      <td>2021-09-23 19:08:20</td>\n",
       "      <td>2021-09-23 19:44:02</td>\n",
       "      <td>Harborside</td>\n",
       "      <td>JC104</td>\n",
       "      <td>Union St</td>\n",
       "      <td>JC051</td>\n",
       "      <td>40.719252</td>\n",
       "      <td>-74.034234</td>\n",
       "      <td>40.718211</td>\n",
       "      <td>-74.083639</td>\n",
       "      <td>0</td>\n",
       "      <td>Customer</td>\n",
       "      <td>JC</td>\n",
       "    </tr>\n",
       "    <tr>\n",
       "      <th>97286</th>\n",
       "      <td>667A3B00C664DBAF</td>\n",
       "      <td>classic_bike</td>\n",
       "      <td>2021-09-10 15:47:24</td>\n",
       "      <td>2021-09-10 16:36:17</td>\n",
       "      <td>8 St &amp; Washington St</td>\n",
       "      <td>HB603</td>\n",
       "      <td>Union St</td>\n",
       "      <td>JC051</td>\n",
       "      <td>40.745984</td>\n",
       "      <td>-74.028199</td>\n",
       "      <td>40.718211</td>\n",
       "      <td>-74.083639</td>\n",
       "      <td>0</td>\n",
       "      <td>Customer</td>\n",
       "      <td>JC</td>\n",
       "    </tr>\n",
       "    <tr>\n",
       "      <th>97287</th>\n",
       "      <td>62E1888ABDE1464E</td>\n",
       "      <td>classic_bike</td>\n",
       "      <td>2021-09-30 13:28:29</td>\n",
       "      <td>2021-09-30 13:54:09</td>\n",
       "      <td>Harborside</td>\n",
       "      <td>JC104</td>\n",
       "      <td>Union St</td>\n",
       "      <td>JC051</td>\n",
       "      <td>40.719252</td>\n",
       "      <td>-74.034234</td>\n",
       "      <td>40.718211</td>\n",
       "      <td>-74.083639</td>\n",
       "      <td>0</td>\n",
       "      <td>Subscriber</td>\n",
       "      <td>JC</td>\n",
       "    </tr>\n",
       "    <tr>\n",
       "      <th>97288</th>\n",
       "      <td>475AA9DFCF196D50</td>\n",
       "      <td>classic_bike</td>\n",
       "      <td>2021-09-14 03:31:22</td>\n",
       "      <td>2021-09-14 04:18:35</td>\n",
       "      <td>Harborside</td>\n",
       "      <td>JC104</td>\n",
       "      <td>Union St</td>\n",
       "      <td>JC051</td>\n",
       "      <td>40.719252</td>\n",
       "      <td>-74.034234</td>\n",
       "      <td>40.718211</td>\n",
       "      <td>-74.083639</td>\n",
       "      <td>0</td>\n",
       "      <td>Customer</td>\n",
       "      <td>JC</td>\n",
       "    </tr>\n",
       "    <tr>\n",
       "      <th>97289</th>\n",
       "      <td>54A2D7AE30FE238F</td>\n",
       "      <td>classic_bike</td>\n",
       "      <td>2021-09-19 02:29:04</td>\n",
       "      <td>2021-09-19 02:54:14</td>\n",
       "      <td>Dixon Mills</td>\n",
       "      <td>JC076</td>\n",
       "      <td>Union St</td>\n",
       "      <td>JC051</td>\n",
       "      <td>40.721630</td>\n",
       "      <td>-74.049968</td>\n",
       "      <td>40.718211</td>\n",
       "      <td>-74.083639</td>\n",
       "      <td>0</td>\n",
       "      <td>Customer</td>\n",
       "      <td>JC</td>\n",
       "    </tr>\n",
       "  </tbody>\n",
       "</table>\n",
       "<p>3377511 rows × 15 columns</p>\n",
       "</div>"
      ],
      "text/plain": [
       "                Ride ID Rideable Type          Start Time           Stop Time  \\\n",
       "0      22C33F42C6A0E28E  classic_bike 2021-09-01 10:26:45 2021-09-01 10:43:23   \n",
       "1      035F743147FCFCDE  classic_bike 2021-09-04 09:52:40 2021-09-04 10:09:19   \n",
       "2      9C43CF6A07DACBC6  classic_bike 2021-09-06 17:07:40 2021-09-06 17:34:44   \n",
       "3      253A1A5B20CC78EE  classic_bike 2021-09-28 16:53:43 2021-09-28 17:03:00   \n",
       "4      5E8F164D6798CEFA  classic_bike 2021-09-19 09:37:47 2021-09-19 09:53:42   \n",
       "...                 ...           ...                 ...                 ...   \n",
       "97285  DA808C4DE967D604  classic_bike 2021-09-23 19:08:20 2021-09-23 19:44:02   \n",
       "97286  667A3B00C664DBAF  classic_bike 2021-09-10 15:47:24 2021-09-10 16:36:17   \n",
       "97287  62E1888ABDE1464E  classic_bike 2021-09-30 13:28:29 2021-09-30 13:54:09   \n",
       "97288  475AA9DFCF196D50  classic_bike 2021-09-14 03:31:22 2021-09-14 04:18:35   \n",
       "97289  54A2D7AE30FE238F  classic_bike 2021-09-19 02:29:04 2021-09-19 02:54:14   \n",
       "\n",
       "                    Start Station Name Start Station ID  \\\n",
       "0          Central Park West & W 72 St          7141.07   \n",
       "1                 William St & Pine St          5065.12   \n",
       "2                 Fulton St & Broadway          5175.08   \n",
       "3      West Drive & Prospect Park West          3651.04   \n",
       "4                Lorimer St & Broadway          4965.01   \n",
       "...                                ...              ...   \n",
       "97285                       Harborside            JC104   \n",
       "97286             8 St & Washington St            HB603   \n",
       "97287                       Harborside            JC104   \n",
       "97288                       Harborside            JC104   \n",
       "97289                      Dixon Mills            JC076   \n",
       "\n",
       "              End Station Name End Station ID  Start Station Latitude  \\\n",
       "0              E 51 St & 1 Ave        6532.06               40.775794   \n",
       "1                         None           None               40.707179   \n",
       "2             Jay St & Tech Pl        4710.06               40.711066   \n",
       "3      Ocean Pkwy & Church Ave        3125.09               40.661063   \n",
       "4             Jay St & Tech Pl        4710.06               40.704118   \n",
       "...                        ...            ...                     ...   \n",
       "97285                 Union St          JC051               40.719252   \n",
       "97286                 Union St          JC051               40.745984   \n",
       "97287                 Union St          JC051               40.719252   \n",
       "97288                 Union St          JC051               40.719252   \n",
       "97289                 Union St          JC051               40.721630   \n",
       "\n",
       "       Start Station Longitude  End Station Latitude  End Station Longitude  \\\n",
       "0                   -73.976206             40.754557             -73.965930   \n",
       "1                   -74.008873             40.720000             -74.010000   \n",
       "2                   -74.009447             40.695065             -73.987167   \n",
       "3                   -73.979453             40.644719             -73.974515   \n",
       "4                   -73.948186             40.695065             -73.987167   \n",
       "...                        ...                   ...                    ...   \n",
       "97285               -74.034234             40.718211             -74.083639   \n",
       "97286               -74.028199             40.718211             -74.083639   \n",
       "97287               -74.034234             40.718211             -74.083639   \n",
       "97288               -74.034234             40.718211             -74.083639   \n",
       "97289               -74.049968             40.718211             -74.083639   \n",
       "\n",
       "       Gender   User Type Region  \n",
       "0           0  Subscriber    NYC  \n",
       "1           0  Subscriber    NYC  \n",
       "2           0    Customer    NYC  \n",
       "3           0  Subscriber    NYC  \n",
       "4           0  Subscriber    NYC  \n",
       "...       ...         ...    ...  \n",
       "97285       0    Customer     JC  \n",
       "97286       0    Customer     JC  \n",
       "97287       0  Subscriber     JC  \n",
       "97288       0    Customer     JC  \n",
       "97289       0    Customer     JC  \n",
       "\n",
       "[3377511 rows x 15 columns]"
      ]
     },
     "execution_count": 2,
     "metadata": {},
     "output_type": "execute_result"
    }
   ],
   "source": [
    "d = read_parquet('ctbk/normalized/202109.parquet')\n",
    "d"
   ]
  },
  {
   "cell_type": "markdown",
   "id": "1f568121",
   "metadata": {},
   "source": [
    "### Parse Station Names, IDs, Lat/Lngs"
   ]
  },
  {
   "cell_type": "code",
   "execution_count": 163,
   "id": "76a929e2",
   "metadata": {},
   "outputs": [],
   "source": [
    "r0, r1 = d[d['Start Station ID'] == '3125.09'][columns.keys()].drop_duplicates().values"
   ]
  },
  {
   "cell_type": "code",
   "execution_count": 164,
   "id": "b99dd785",
   "metadata": {},
   "outputs": [
    {
     "data": {
      "text/plain": [
       "array(['3125.09', 'Ocean Pkwy & Church Ave', 40.644718957635746,\n",
       "       -73.97451460361481], dtype=object)"
      ]
     },
     "execution_count": 164,
     "metadata": {},
     "output_type": "execute_result"
    }
   ],
   "source": [
    "r0"
   ]
  },
  {
   "cell_type": "code",
   "execution_count": 165,
   "id": "4d3f5d26",
   "metadata": {},
   "outputs": [
    {
     "data": {
      "text/plain": [
       "array(['3125.09', 'Ocean Pkwy & Church Ave', 40.644719, -73.974515],\n",
       "      dtype=object)"
      ]
     },
     "execution_count": 165,
     "metadata": {},
     "output_type": "execute_result"
    }
   ],
   "source": [
    "r1"
   ]
  },
  {
   "cell_type": "code",
   "execution_count": 174,
   "id": "1b415234",
   "metadata": {
    "scrolled": false
   },
   "outputs": [
    {
     "data": {
      "text/html": [
       "<div>\n",
       "<style scoped>\n",
       "    .dataframe tbody tr th:only-of-type {\n",
       "        vertical-align: middle;\n",
       "    }\n",
       "\n",
       "    .dataframe tbody tr th {\n",
       "        vertical-align: top;\n",
       "    }\n",
       "\n",
       "    .dataframe thead th {\n",
       "        text-align: right;\n",
       "    }\n",
       "</style>\n",
       "<table border=\"1\" class=\"dataframe\">\n",
       "  <thead>\n",
       "    <tr style=\"text-align: right;\">\n",
       "      <th></th>\n",
       "      <th>Station Name</th>\n",
       "      <th>Latitude</th>\n",
       "      <th>Longitude</th>\n",
       "    </tr>\n",
       "    <tr>\n",
       "      <th>Station ID</th>\n",
       "      <th></th>\n",
       "      <th></th>\n",
       "      <th></th>\n",
       "    </tr>\n",
       "  </thead>\n",
       "  <tbody>\n",
       "    <tr>\n",
       "      <th>2733.03</th>\n",
       "      <td>67 St &amp; Erik Pl</td>\n",
       "      <td>40.6334</td>\n",
       "      <td>-74.0166</td>\n",
       "    </tr>\n",
       "    <tr>\n",
       "      <th>2782.02</th>\n",
       "      <td>5 Ave &amp; 66 St</td>\n",
       "      <td>40.6357</td>\n",
       "      <td>-74.0200</td>\n",
       "    </tr>\n",
       "    <tr>\n",
       "      <th>2832.03</th>\n",
       "      <td>4 Ave &amp; Shore Road Dr</td>\n",
       "      <td>40.6370</td>\n",
       "      <td>-74.0221</td>\n",
       "    </tr>\n",
       "    <tr>\n",
       "      <th>2872.02</th>\n",
       "      <td>63 St &amp; 5 Ave</td>\n",
       "      <td>40.6377</td>\n",
       "      <td>-74.0178</td>\n",
       "    </tr>\n",
       "    <tr>\n",
       "      <th>2883.03</th>\n",
       "      <td>3 Ave &amp; Wakeman Pl</td>\n",
       "      <td>40.6382</td>\n",
       "      <td>-74.0247</td>\n",
       "    </tr>\n",
       "    <tr>\n",
       "      <th>...</th>\n",
       "      <td>...</td>\n",
       "      <td>...</td>\n",
       "      <td>...</td>\n",
       "    </tr>\n",
       "    <tr>\n",
       "      <th>JC108</th>\n",
       "      <td>Bergen Ave &amp; Stegman St</td>\n",
       "      <td>40.7066</td>\n",
       "      <td>-74.0867</td>\n",
       "    </tr>\n",
       "    <tr>\n",
       "      <th>JCSYS</th>\n",
       "      <td>JCBS Depot</td>\n",
       "      <td>40.7097</td>\n",
       "      <td>-74.0686</td>\n",
       "    </tr>\n",
       "    <tr>\n",
       "      <th>SYS014</th>\n",
       "      <td>NYCBS DEPOT - DELANCEY</td>\n",
       "      <td>40.7164</td>\n",
       "      <td>-73.9823</td>\n",
       "    </tr>\n",
       "    <tr>\n",
       "      <th>SYS033</th>\n",
       "      <td>Pier 40 X2</td>\n",
       "      <td>40.7285</td>\n",
       "      <td>-74.0117</td>\n",
       "    </tr>\n",
       "    <tr>\n",
       "      <th>SYS035</th>\n",
       "      <td>Pier 40 Dock Station</td>\n",
       "      <td>40.7287</td>\n",
       "      <td>-74.0120</td>\n",
       "    </tr>\n",
       "  </tbody>\n",
       "</table>\n",
       "<p>1566 rows × 3 columns</p>\n",
       "</div>"
      ],
      "text/plain": [
       "                       Station Name  Latitude  Longitude\n",
       "Station ID                                              \n",
       "2733.03             67 St & Erik Pl   40.6334   -74.0166\n",
       "2782.02               5 Ave & 66 St   40.6357   -74.0200\n",
       "2832.03       4 Ave & Shore Road Dr   40.6370   -74.0221\n",
       "2872.02               63 St & 5 Ave   40.6377   -74.0178\n",
       "2883.03          3 Ave & Wakeman Pl   40.6382   -74.0247\n",
       "...                             ...       ...        ...\n",
       "JC108       Bergen Ave & Stegman St   40.7066   -74.0867\n",
       "JCSYS                    JCBS Depot   40.7097   -74.0686\n",
       "SYS014       NYCBS DEPOT - DELANCEY   40.7164   -73.9823\n",
       "SYS033                   Pier 40 X2   40.7285   -74.0117\n",
       "SYS035         Pier 40 Dock Station   40.7287   -74.0120\n",
       "\n",
       "[1566 rows x 3 columns]"
      ]
     },
     "execution_count": 174,
     "metadata": {},
     "output_type": "execute_result"
    }
   ],
   "source": [
    "columns ={\n",
    "    'Start Station ID': 'Station ID', \n",
    "    'Start Station Name': 'Station Name',\n",
    "    'Start Station Latitude': 'Latitude',\n",
    "    'Start Station Longitude': 'Longitude',\n",
    "}\n",
    "starts = (\n",
    "    d[columns.keys()]\n",
    "    .rename(columns=columns)\n",
    ")\n",
    "starts['Start'] = True\n",
    "columns ={\n",
    "    'End Station ID': 'Station ID', \n",
    "    'End Station Name': 'Station Name',\n",
    "    'End Station Latitude': 'Latitude',\n",
    "    'End Station Longitude': 'Longitude',\n",
    "}\n",
    "ends = (\n",
    "    d[columns.keys()]\n",
    "    .rename(columns=columns)\n",
    ")\n",
    "ends['Start'] = True\n",
    "\n",
    "station_ends = pd.concat([starts, ends])\n",
    "station_ends['Latitude'] = station_ends['Latitude'].apply(lambda f: round(f, 4))\n",
    "station_ends['Longitude'] = station_ends['Longitude'].apply(lambda f: round(f, 4))\n",
    "\n",
    "\n",
    "def find_conflicting_stations(df):\n",
    "    dd = df.drop_duplicates()\n",
    "    if len(dd) == 1:\n",
    "        dd = dd.iloc[0:0]\n",
    "    return dd\n",
    "\n",
    "conflicting_entries = (\n",
    "    station_ends\n",
    "    .drop(columns=['Start'])\n",
    "    .groupby('Station ID')\n",
    "    .apply(find_conflicting_stations)\n",
    "    .reset_index(drop=True)\n",
    ")\n",
    "\n",
    "def squash_station_group(df):\n",
    "    dd = df.drop_duplicates()\n",
    "    dd = dd.iloc[-1:]\n",
    "    return dd\n",
    "\n",
    "station_entries = (\n",
    "    station_ends\n",
    "    .drop(columns=['Start'])\n",
    "    .groupby('Station ID')\n",
    "    .apply(squash_station_group)\n",
    "    .reset_index(drop=True)\n",
    ")\n",
    "\n",
    "stations = station_entries.set_index('Station ID')\n",
    "stations"
   ]
  },
  {
   "cell_type": "markdown",
   "id": "ad152f24",
   "metadata": {},
   "source": [
    "### Create unifed \"dockings\" with melted start/end"
   ]
  },
  {
   "cell_type": "code",
   "execution_count": 73,
   "id": "26a5b81c",
   "metadata": {},
   "outputs": [
    {
     "data": {
      "text/html": [
       "<div>\n",
       "<style scoped>\n",
       "    .dataframe tbody tr th:only-of-type {\n",
       "        vertical-align: middle;\n",
       "    }\n",
       "\n",
       "    .dataframe tbody tr th {\n",
       "        vertical-align: top;\n",
       "    }\n",
       "\n",
       "    .dataframe thead th {\n",
       "        text-align: right;\n",
       "    }\n",
       "</style>\n",
       "<table border=\"1\" class=\"dataframe\">\n",
       "  <thead>\n",
       "    <tr style=\"text-align: right;\">\n",
       "      <th></th>\n",
       "      <th>Station ID</th>\n",
       "      <th>Day</th>\n",
       "      <th>Hour</th>\n",
       "      <th>Weekday</th>\n",
       "      <th>Start</th>\n",
       "    </tr>\n",
       "  </thead>\n",
       "  <tbody>\n",
       "    <tr>\n",
       "      <th>0</th>\n",
       "      <td>7141.07</td>\n",
       "      <td>1</td>\n",
       "      <td>10</td>\n",
       "      <td>2</td>\n",
       "      <td>True</td>\n",
       "    </tr>\n",
       "    <tr>\n",
       "      <th>1</th>\n",
       "      <td>5065.12</td>\n",
       "      <td>4</td>\n",
       "      <td>9</td>\n",
       "      <td>5</td>\n",
       "      <td>True</td>\n",
       "    </tr>\n",
       "    <tr>\n",
       "      <th>2</th>\n",
       "      <td>5175.08</td>\n",
       "      <td>6</td>\n",
       "      <td>17</td>\n",
       "      <td>0</td>\n",
       "      <td>True</td>\n",
       "    </tr>\n",
       "    <tr>\n",
       "      <th>3</th>\n",
       "      <td>3651.04</td>\n",
       "      <td>28</td>\n",
       "      <td>16</td>\n",
       "      <td>1</td>\n",
       "      <td>True</td>\n",
       "    </tr>\n",
       "    <tr>\n",
       "      <th>4</th>\n",
       "      <td>4965.01</td>\n",
       "      <td>19</td>\n",
       "      <td>9</td>\n",
       "      <td>6</td>\n",
       "      <td>True</td>\n",
       "    </tr>\n",
       "    <tr>\n",
       "      <th>...</th>\n",
       "      <td>...</td>\n",
       "      <td>...</td>\n",
       "      <td>...</td>\n",
       "      <td>...</td>\n",
       "      <td>...</td>\n",
       "    </tr>\n",
       "    <tr>\n",
       "      <th>97285</th>\n",
       "      <td>JC051</td>\n",
       "      <td>23</td>\n",
       "      <td>19</td>\n",
       "      <td>3</td>\n",
       "      <td>False</td>\n",
       "    </tr>\n",
       "    <tr>\n",
       "      <th>97286</th>\n",
       "      <td>JC051</td>\n",
       "      <td>10</td>\n",
       "      <td>16</td>\n",
       "      <td>4</td>\n",
       "      <td>False</td>\n",
       "    </tr>\n",
       "    <tr>\n",
       "      <th>97287</th>\n",
       "      <td>JC051</td>\n",
       "      <td>30</td>\n",
       "      <td>13</td>\n",
       "      <td>3</td>\n",
       "      <td>False</td>\n",
       "    </tr>\n",
       "    <tr>\n",
       "      <th>97288</th>\n",
       "      <td>JC051</td>\n",
       "      <td>14</td>\n",
       "      <td>4</td>\n",
       "      <td>1</td>\n",
       "      <td>False</td>\n",
       "    </tr>\n",
       "    <tr>\n",
       "      <th>97289</th>\n",
       "      <td>JC051</td>\n",
       "      <td>19</td>\n",
       "      <td>2</td>\n",
       "      <td>6</td>\n",
       "      <td>False</td>\n",
       "    </tr>\n",
       "  </tbody>\n",
       "</table>\n",
       "<p>6755022 rows × 5 columns</p>\n",
       "</div>"
      ],
      "text/plain": [
       "      Station ID  Day  Hour  Weekday  Start\n",
       "0        7141.07    1    10        2   True\n",
       "1        5065.12    4     9        5   True\n",
       "2        5175.08    6    17        0   True\n",
       "3        3651.04   28    16        1   True\n",
       "4        4965.01   19     9        6   True\n",
       "...          ...  ...   ...      ...    ...\n",
       "97285      JC051   23    19        3  False\n",
       "97286      JC051   10    16        4  False\n",
       "97287      JC051   30    13        3  False\n",
       "97288      JC051   14     4        1  False\n",
       "97289      JC051   19     2        6  False\n",
       "\n",
       "[6755022 rows x 5 columns]"
      ]
     },
     "execution_count": 73,
     "metadata": {},
     "output_type": "execute_result"
    }
   ],
   "source": [
    "starts = d[['Start Station ID']].copy()\n",
    "start_times = d['Start Time']\n",
    "ends = d[['End Station ID']].copy()\n",
    "end_times = d['Stop Time']\n",
    "\n",
    "starts['Day'] = start_times.dt.day\n",
    "starts['Hour'] = start_times.dt.hour\n",
    "starts['Weekday'] = start_times.dt.weekday\n",
    "ends['Day'] = end_times.dt.day\n",
    "ends['Hour'] = end_times.dt.hour\n",
    "ends['Weekday'] = end_times.dt.weekday\n",
    "\n",
    "starts = starts.rename(columns={'Start Station ID': 'Station ID'})\n",
    "starts['Start'] = True\n",
    "ends = ends.rename(columns={'End Station ID': 'Station ID'})\n",
    "ends['Start'] = False\n",
    "dockings = pd.concat([starts, ends])\n",
    "dockings"
   ]
  },
  {
   "cell_type": "markdown",
   "id": "5b27ec9e",
   "metadata": {},
   "source": [
    "#### JC overall start/end counts"
   ]
  },
  {
   "cell_type": "code",
   "execution_count": 149,
   "id": "a1012951",
   "metadata": {},
   "outputs": [
    {
     "data": {
      "text/plain": [
       "True     97290\n",
       "False    96702\n",
       "Name: Start, dtype: int64"
      ]
     },
     "execution_count": 149,
     "metadata": {},
     "output_type": "execute_result"
    }
   ],
   "source": [
    "jcs = dockings[dockings['Station ID'].str.match('(?:JC|HB)', na=False)]\n",
    "jcs.Start.value_counts()"
   ]
  },
  {
   "cell_type": "code",
   "execution_count": 179,
   "id": "56973f09",
   "metadata": {},
   "outputs": [
    {
     "data": {
      "text/html": [
       "<div>\n",
       "<style scoped>\n",
       "    .dataframe tbody tr th:only-of-type {\n",
       "        vertical-align: middle;\n",
       "    }\n",
       "\n",
       "    .dataframe tbody tr th {\n",
       "        vertical-align: top;\n",
       "    }\n",
       "\n",
       "    .dataframe thead th {\n",
       "        text-align: right;\n",
       "    }\n",
       "</style>\n",
       "<table border=\"1\" class=\"dataframe\">\n",
       "  <thead>\n",
       "    <tr style=\"text-align: right;\">\n",
       "      <th></th>\n",
       "      <th>Station Name</th>\n",
       "      <th>Latitude</th>\n",
       "      <th>Longitude</th>\n",
       "    </tr>\n",
       "    <tr>\n",
       "      <th>Station ID</th>\n",
       "      <th></th>\n",
       "      <th></th>\n",
       "      <th></th>\n",
       "    </tr>\n",
       "  </thead>\n",
       "  <tbody>\n",
       "    <tr>\n",
       "      <th>2733.03</th>\n",
       "      <td>67 St &amp; Erik Pl</td>\n",
       "      <td>40.6334</td>\n",
       "      <td>-74.0166</td>\n",
       "    </tr>\n",
       "    <tr>\n",
       "      <th>2782.02</th>\n",
       "      <td>5 Ave &amp; 66 St</td>\n",
       "      <td>40.6357</td>\n",
       "      <td>-74.0200</td>\n",
       "    </tr>\n",
       "    <tr>\n",
       "      <th>2832.03</th>\n",
       "      <td>4 Ave &amp; Shore Road Dr</td>\n",
       "      <td>40.6370</td>\n",
       "      <td>-74.0221</td>\n",
       "    </tr>\n",
       "    <tr>\n",
       "      <th>2872.02</th>\n",
       "      <td>63 St &amp; 5 Ave</td>\n",
       "      <td>40.6377</td>\n",
       "      <td>-74.0178</td>\n",
       "    </tr>\n",
       "    <tr>\n",
       "      <th>2883.03</th>\n",
       "      <td>3 Ave &amp; Wakeman Pl</td>\n",
       "      <td>40.6382</td>\n",
       "      <td>-74.0247</td>\n",
       "    </tr>\n",
       "    <tr>\n",
       "      <th>...</th>\n",
       "      <td>...</td>\n",
       "      <td>...</td>\n",
       "      <td>...</td>\n",
       "    </tr>\n",
       "    <tr>\n",
       "      <th>JC108</th>\n",
       "      <td>Bergen Ave &amp; Stegman St</td>\n",
       "      <td>40.7066</td>\n",
       "      <td>-74.0867</td>\n",
       "    </tr>\n",
       "    <tr>\n",
       "      <th>JCSYS</th>\n",
       "      <td>JCBS Depot</td>\n",
       "      <td>40.7097</td>\n",
       "      <td>-74.0686</td>\n",
       "    </tr>\n",
       "    <tr>\n",
       "      <th>SYS014</th>\n",
       "      <td>NYCBS DEPOT - DELANCEY</td>\n",
       "      <td>40.7164</td>\n",
       "      <td>-73.9823</td>\n",
       "    </tr>\n",
       "    <tr>\n",
       "      <th>SYS033</th>\n",
       "      <td>Pier 40 X2</td>\n",
       "      <td>40.7285</td>\n",
       "      <td>-74.0117</td>\n",
       "    </tr>\n",
       "    <tr>\n",
       "      <th>SYS035</th>\n",
       "      <td>Pier 40 Dock Station</td>\n",
       "      <td>40.7287</td>\n",
       "      <td>-74.0120</td>\n",
       "    </tr>\n",
       "  </tbody>\n",
       "</table>\n",
       "<p>1566 rows × 3 columns</p>\n",
       "</div>"
      ],
      "text/plain": [
       "                       Station Name  Latitude  Longitude\n",
       "Station ID                                              \n",
       "2733.03             67 St & Erik Pl   40.6334   -74.0166\n",
       "2782.02               5 Ave & 66 St   40.6357   -74.0200\n",
       "2832.03       4 Ave & Shore Road Dr   40.6370   -74.0221\n",
       "2872.02               63 St & 5 Ave   40.6377   -74.0178\n",
       "2883.03          3 Ave & Wakeman Pl   40.6382   -74.0247\n",
       "...                             ...       ...        ...\n",
       "JC108       Bergen Ave & Stegman St   40.7066   -74.0867\n",
       "JCSYS                    JCBS Depot   40.7097   -74.0686\n",
       "SYS014       NYCBS DEPOT - DELANCEY   40.7164   -73.9823\n",
       "SYS033                   Pier 40 X2   40.7285   -74.0117\n",
       "SYS035         Pier 40 Dock Station   40.7287   -74.0120\n",
       "\n",
       "[1566 rows x 3 columns]"
      ]
     },
     "execution_count": 179,
     "metadata": {},
     "output_type": "execute_result"
    }
   ],
   "source": [
    "stations"
   ]
  },
  {
   "cell_type": "code",
   "execution_count": 181,
   "id": "2435c723",
   "metadata": {
    "scrolled": true
   },
   "outputs": [
    {
     "data": {
      "text/html": [
       "<div>\n",
       "<style scoped>\n",
       "    .dataframe tbody tr th:only-of-type {\n",
       "        vertical-align: middle;\n",
       "    }\n",
       "\n",
       "    .dataframe tbody tr th {\n",
       "        vertical-align: top;\n",
       "    }\n",
       "\n",
       "    .dataframe thead th {\n",
       "        text-align: right;\n",
       "    }\n",
       "</style>\n",
       "<table border=\"1\" class=\"dataframe\">\n",
       "  <thead>\n",
       "    <tr style=\"text-align: right;\">\n",
       "      <th></th>\n",
       "      <th>Count</th>\n",
       "      <th>Station Name</th>\n",
       "      <th>Latitude</th>\n",
       "      <th>Longitude</th>\n",
       "    </tr>\n",
       "    <tr>\n",
       "      <th>Station ID</th>\n",
       "      <th></th>\n",
       "      <th></th>\n",
       "      <th></th>\n",
       "      <th></th>\n",
       "    </tr>\n",
       "  </thead>\n",
       "  <tbody>\n",
       "    <tr>\n",
       "      <th>HB101</th>\n",
       "      <td>3728</td>\n",
       "      <td>Hoboken Terminal - Hudson St &amp; Hudson Pl</td>\n",
       "      <td>40.7359</td>\n",
       "      <td>-74.0303</td>\n",
       "    </tr>\n",
       "    <tr>\n",
       "      <th>HB102</th>\n",
       "      <td>4415</td>\n",
       "      <td>Hoboken Terminal - River St &amp; Hudson Pl</td>\n",
       "      <td>40.7361</td>\n",
       "      <td>-74.0291</td>\n",
       "    </tr>\n",
       "    <tr>\n",
       "      <th>HB103</th>\n",
       "      <td>4607</td>\n",
       "      <td>South Waterfront Walkway - Sinatra Dr &amp; 1 St</td>\n",
       "      <td>40.7370</td>\n",
       "      <td>-74.0278</td>\n",
       "    </tr>\n",
       "    <tr>\n",
       "      <th>HB201</th>\n",
       "      <td>1746</td>\n",
       "      <td>12 St &amp; Sinatra Dr N</td>\n",
       "      <td>40.7506</td>\n",
       "      <td>-74.0240</td>\n",
       "    </tr>\n",
       "    <tr>\n",
       "      <th>HB202</th>\n",
       "      <td>2222</td>\n",
       "      <td>14 St Ferry - 14 St &amp; Shipyard Ln</td>\n",
       "      <td>40.7530</td>\n",
       "      <td>-74.0244</td>\n",
       "    </tr>\n",
       "    <tr>\n",
       "      <th>HB203</th>\n",
       "      <td>1193</td>\n",
       "      <td>Bloomfield St &amp; 15 St</td>\n",
       "      <td>40.7545</td>\n",
       "      <td>-74.0266</td>\n",
       "    </tr>\n",
       "    <tr>\n",
       "      <th>HB301</th>\n",
       "      <td>961</td>\n",
       "      <td>4 St &amp; Grand St</td>\n",
       "      <td>40.7423</td>\n",
       "      <td>-74.0351</td>\n",
       "    </tr>\n",
       "    <tr>\n",
       "      <th>HB302</th>\n",
       "      <td>990</td>\n",
       "      <td>6 St &amp; Grand St</td>\n",
       "      <td>40.7444</td>\n",
       "      <td>-74.0345</td>\n",
       "    </tr>\n",
       "    <tr>\n",
       "      <th>HB303</th>\n",
       "      <td>684</td>\n",
       "      <td>Clinton St &amp; 7 St</td>\n",
       "      <td>40.7454</td>\n",
       "      <td>-74.0333</td>\n",
       "    </tr>\n",
       "    <tr>\n",
       "      <th>HB304</th>\n",
       "      <td>1190</td>\n",
       "      <td>7 St &amp; Monroe St</td>\n",
       "      <td>40.7464</td>\n",
       "      <td>-74.0380</td>\n",
       "    </tr>\n",
       "    <tr>\n",
       "      <th>HB305</th>\n",
       "      <td>1036</td>\n",
       "      <td>9 St HBLR - Jackson St &amp; 8 St</td>\n",
       "      <td>40.7479</td>\n",
       "      <td>-74.0384</td>\n",
       "    </tr>\n",
       "    <tr>\n",
       "      <th>HB401</th>\n",
       "      <td>1226</td>\n",
       "      <td>Southwest Park - Jackson St &amp; Observer Hwy</td>\n",
       "      <td>40.7376</td>\n",
       "      <td>-74.0417</td>\n",
       "    </tr>\n",
       "    <tr>\n",
       "      <th>HB402</th>\n",
       "      <td>2048</td>\n",
       "      <td>Madison St &amp; 1 St</td>\n",
       "      <td>40.7388</td>\n",
       "      <td>-74.0393</td>\n",
       "    </tr>\n",
       "    <tr>\n",
       "      <th>HB404</th>\n",
       "      <td>556</td>\n",
       "      <td>Mama Johnson Field - 4 St &amp; Jackson St</td>\n",
       "      <td>40.7431</td>\n",
       "      <td>-74.0400</td>\n",
       "    </tr>\n",
       "    <tr>\n",
       "      <th>HB405</th>\n",
       "      <td>1506</td>\n",
       "      <td>Grand St &amp; 2 St</td>\n",
       "      <td>40.7391</td>\n",
       "      <td>-74.0362</td>\n",
       "    </tr>\n",
       "    <tr>\n",
       "      <th>HB501</th>\n",
       "      <td>1452</td>\n",
       "      <td>Columbus Park - Clinton St &amp; 9 St</td>\n",
       "      <td>40.7482</td>\n",
       "      <td>-74.0325</td>\n",
       "    </tr>\n",
       "    <tr>\n",
       "      <th>HB502</th>\n",
       "      <td>2049</td>\n",
       "      <td>11 St &amp; Washington St</td>\n",
       "      <td>40.7500</td>\n",
       "      <td>-74.0272</td>\n",
       "    </tr>\n",
       "    <tr>\n",
       "      <th>HB503</th>\n",
       "      <td>876</td>\n",
       "      <td>Madison St &amp; 10 St</td>\n",
       "      <td>40.7499</td>\n",
       "      <td>-74.0359</td>\n",
       "    </tr>\n",
       "    <tr>\n",
       "      <th>HB505</th>\n",
       "      <td>863</td>\n",
       "      <td>Willow Ave &amp; 12 St</td>\n",
       "      <td>40.7519</td>\n",
       "      <td>-74.0304</td>\n",
       "    </tr>\n",
       "    <tr>\n",
       "      <th>HB506</th>\n",
       "      <td>1458</td>\n",
       "      <td>Grand St &amp; 14 St</td>\n",
       "      <td>40.7541</td>\n",
       "      <td>-74.0316</td>\n",
       "    </tr>\n",
       "    <tr>\n",
       "      <th>HB507</th>\n",
       "      <td>690</td>\n",
       "      <td>Adams St &amp; 11 St</td>\n",
       "      <td>40.7509</td>\n",
       "      <td>-74.0335</td>\n",
       "    </tr>\n",
       "    <tr>\n",
       "      <th>HB601</th>\n",
       "      <td>1774</td>\n",
       "      <td>Church Sq Park - 5 St &amp; Park Ave</td>\n",
       "      <td>40.7427</td>\n",
       "      <td>-74.0322</td>\n",
       "    </tr>\n",
       "    <tr>\n",
       "      <th>HB603</th>\n",
       "      <td>2205</td>\n",
       "      <td>8 St &amp; Washington St</td>\n",
       "      <td>40.7460</td>\n",
       "      <td>-74.0282</td>\n",
       "    </tr>\n",
       "    <tr>\n",
       "      <th>JC002</th>\n",
       "      <td>1237</td>\n",
       "      <td>Paulus Hook</td>\n",
       "      <td>40.7141</td>\n",
       "      <td>-74.0336</td>\n",
       "    </tr>\n",
       "    <tr>\n",
       "      <th>JC003</th>\n",
       "      <td>1809</td>\n",
       "      <td>City Hall</td>\n",
       "      <td>40.7177</td>\n",
       "      <td>-74.0438</td>\n",
       "    </tr>\n",
       "    <tr>\n",
       "      <th>JC005</th>\n",
       "      <td>4213</td>\n",
       "      <td>Grove St PATH</td>\n",
       "      <td>40.7196</td>\n",
       "      <td>-74.0431</td>\n",
       "    </tr>\n",
       "    <tr>\n",
       "      <th>JC006</th>\n",
       "      <td>1425</td>\n",
       "      <td>Warren St</td>\n",
       "      <td>40.7211</td>\n",
       "      <td>-74.0381</td>\n",
       "    </tr>\n",
       "    <tr>\n",
       "      <th>JC008</th>\n",
       "      <td>2869</td>\n",
       "      <td>Newport Pkwy</td>\n",
       "      <td>40.7287</td>\n",
       "      <td>-74.0321</td>\n",
       "    </tr>\n",
       "    <tr>\n",
       "      <th>JC009</th>\n",
       "      <td>2672</td>\n",
       "      <td>Hamilton Park</td>\n",
       "      <td>40.7276</td>\n",
       "      <td>-74.0442</td>\n",
       "    </tr>\n",
       "    <tr>\n",
       "      <th>JC011</th>\n",
       "      <td>1329</td>\n",
       "      <td>JC Medical Center</td>\n",
       "      <td>40.7165</td>\n",
       "      <td>-74.0496</td>\n",
       "    </tr>\n",
       "    <tr>\n",
       "      <th>JC013</th>\n",
       "      <td>2250</td>\n",
       "      <td>Marin Light Rail</td>\n",
       "      <td>40.7146</td>\n",
       "      <td>-74.0428</td>\n",
       "    </tr>\n",
       "    <tr>\n",
       "      <th>JC014</th>\n",
       "      <td>1533</td>\n",
       "      <td>Columbus Drive</td>\n",
       "      <td>40.7184</td>\n",
       "      <td>-74.0389</td>\n",
       "    </tr>\n",
       "    <tr>\n",
       "      <th>JC018</th>\n",
       "      <td>244</td>\n",
       "      <td>5 Corners Library</td>\n",
       "      <td>40.7350</td>\n",
       "      <td>-74.0595</td>\n",
       "    </tr>\n",
       "    <tr>\n",
       "      <th>JC019</th>\n",
       "      <td>740</td>\n",
       "      <td>Hilltop</td>\n",
       "      <td>40.7312</td>\n",
       "      <td>-74.0576</td>\n",
       "    </tr>\n",
       "    <tr>\n",
       "      <th>JC020</th>\n",
       "      <td>1010</td>\n",
       "      <td>Baldwin at Montgomery</td>\n",
       "      <td>40.7237</td>\n",
       "      <td>-74.0642</td>\n",
       "    </tr>\n",
       "    <tr>\n",
       "      <th>JC022</th>\n",
       "      <td>540</td>\n",
       "      <td>Oakland Ave</td>\n",
       "      <td>40.7376</td>\n",
       "      <td>-74.0525</td>\n",
       "    </tr>\n",
       "    <tr>\n",
       "      <th>JC023</th>\n",
       "      <td>1100</td>\n",
       "      <td>Brunswick St</td>\n",
       "      <td>40.7242</td>\n",
       "      <td>-74.0507</td>\n",
       "    </tr>\n",
       "    <tr>\n",
       "      <th>JC024</th>\n",
       "      <td>776</td>\n",
       "      <td>Pershing Field</td>\n",
       "      <td>40.7427</td>\n",
       "      <td>-74.0518</td>\n",
       "    </tr>\n",
       "    <tr>\n",
       "      <th>JC027</th>\n",
       "      <td>749</td>\n",
       "      <td>Jersey &amp; 6th St</td>\n",
       "      <td>40.7253</td>\n",
       "      <td>-74.0456</td>\n",
       "    </tr>\n",
       "    <tr>\n",
       "      <th>JC032</th>\n",
       "      <td>1430</td>\n",
       "      <td>Newark Ave</td>\n",
       "      <td>40.7215</td>\n",
       "      <td>-74.0463</td>\n",
       "    </tr>\n",
       "    <tr>\n",
       "      <th>JC034</th>\n",
       "      <td>454</td>\n",
       "      <td>Christ Hospital</td>\n",
       "      <td>40.7348</td>\n",
       "      <td>-74.0504</td>\n",
       "    </tr>\n",
       "    <tr>\n",
       "      <th>JC035</th>\n",
       "      <td>1302</td>\n",
       "      <td>Van Vorst Park</td>\n",
       "      <td>40.7185</td>\n",
       "      <td>-74.0477</td>\n",
       "    </tr>\n",
       "    <tr>\n",
       "      <th>JC038</th>\n",
       "      <td>617</td>\n",
       "      <td>Essex Light Rail</td>\n",
       "      <td>40.7128</td>\n",
       "      <td>-74.0365</td>\n",
       "    </tr>\n",
       "    <tr>\n",
       "      <th>JC051</th>\n",
       "      <td>205</td>\n",
       "      <td>Union St</td>\n",
       "      <td>40.7182</td>\n",
       "      <td>-74.0836</td>\n",
       "    </tr>\n",
       "    <tr>\n",
       "      <th>JC052</th>\n",
       "      <td>1880</td>\n",
       "      <td>Liberty Light Rail</td>\n",
       "      <td>40.7112</td>\n",
       "      <td>-74.0557</td>\n",
       "    </tr>\n",
       "    <tr>\n",
       "      <th>JC053</th>\n",
       "      <td>695</td>\n",
       "      <td>Lincoln Park</td>\n",
       "      <td>40.7246</td>\n",
       "      <td>-74.0784</td>\n",
       "    </tr>\n",
       "    <tr>\n",
       "      <th>JC055</th>\n",
       "      <td>1019</td>\n",
       "      <td>McGinley Square</td>\n",
       "      <td>40.7253</td>\n",
       "      <td>-74.0676</td>\n",
       "    </tr>\n",
       "    <tr>\n",
       "      <th>JC056</th>\n",
       "      <td>2238</td>\n",
       "      <td>Sip Ave</td>\n",
       "      <td>40.7309</td>\n",
       "      <td>-74.0639</td>\n",
       "    </tr>\n",
       "    <tr>\n",
       "      <th>JC057</th>\n",
       "      <td>588</td>\n",
       "      <td>Riverview Park</td>\n",
       "      <td>40.7443</td>\n",
       "      <td>-74.0440</td>\n",
       "    </tr>\n",
       "    <tr>\n",
       "      <th>JC059</th>\n",
       "      <td>578</td>\n",
       "      <td>Heights Elevator</td>\n",
       "      <td>40.7487</td>\n",
       "      <td>-74.0404</td>\n",
       "    </tr>\n",
       "    <tr>\n",
       "      <th>JC063</th>\n",
       "      <td>134</td>\n",
       "      <td>Jackson Square</td>\n",
       "      <td>40.7111</td>\n",
       "      <td>-74.0789</td>\n",
       "    </tr>\n",
       "    <tr>\n",
       "      <th>JC065</th>\n",
       "      <td>251</td>\n",
       "      <td>Dey St</td>\n",
       "      <td>40.7377</td>\n",
       "      <td>-74.0669</td>\n",
       "    </tr>\n",
       "    <tr>\n",
       "      <th>JC066</th>\n",
       "      <td>2293</td>\n",
       "      <td>Newport PATH</td>\n",
       "      <td>40.7272</td>\n",
       "      <td>-74.0338</td>\n",
       "    </tr>\n",
       "    <tr>\n",
       "      <th>JC072</th>\n",
       "      <td>1077</td>\n",
       "      <td>Morris Canal</td>\n",
       "      <td>40.7124</td>\n",
       "      <td>-74.0385</td>\n",
       "    </tr>\n",
       "    <tr>\n",
       "      <th>JC074</th>\n",
       "      <td>860</td>\n",
       "      <td>Jersey &amp; 3rd</td>\n",
       "      <td>40.7233</td>\n",
       "      <td>-74.0460</td>\n",
       "    </tr>\n",
       "    <tr>\n",
       "      <th>JC075</th>\n",
       "      <td>683</td>\n",
       "      <td>Monmouth and 6th</td>\n",
       "      <td>40.7257</td>\n",
       "      <td>-74.0488</td>\n",
       "    </tr>\n",
       "    <tr>\n",
       "      <th>JC076</th>\n",
       "      <td>794</td>\n",
       "      <td>Dixon Mills</td>\n",
       "      <td>40.7216</td>\n",
       "      <td>-74.0500</td>\n",
       "    </tr>\n",
       "    <tr>\n",
       "      <th>JC077</th>\n",
       "      <td>495</td>\n",
       "      <td>Astor Place</td>\n",
       "      <td>40.7193</td>\n",
       "      <td>-74.0713</td>\n",
       "    </tr>\n",
       "    <tr>\n",
       "      <th>JC078</th>\n",
       "      <td>764</td>\n",
       "      <td>Lafayette Park</td>\n",
       "      <td>40.7135</td>\n",
       "      <td>-74.0629</td>\n",
       "    </tr>\n",
       "    <tr>\n",
       "      <th>JC080</th>\n",
       "      <td>298</td>\n",
       "      <td>Leonard Gordon Park</td>\n",
       "      <td>40.7459</td>\n",
       "      <td>-74.0573</td>\n",
       "    </tr>\n",
       "    <tr>\n",
       "      <th>JC081</th>\n",
       "      <td>711</td>\n",
       "      <td>Brunswick &amp; 6th</td>\n",
       "      <td>40.7260</td>\n",
       "      <td>-74.0504</td>\n",
       "    </tr>\n",
       "    <tr>\n",
       "      <th>JC082</th>\n",
       "      <td>1101</td>\n",
       "      <td>Manila &amp; 1st</td>\n",
       "      <td>40.7217</td>\n",
       "      <td>-74.0429</td>\n",
       "    </tr>\n",
       "    <tr>\n",
       "      <th>JC084</th>\n",
       "      <td>392</td>\n",
       "      <td>Communipaw &amp; Berry Lane</td>\n",
       "      <td>40.7144</td>\n",
       "      <td>-74.0666</td>\n",
       "    </tr>\n",
       "    <tr>\n",
       "      <th>JC094</th>\n",
       "      <td>405</td>\n",
       "      <td>Glenwood Ave</td>\n",
       "      <td>40.7276</td>\n",
       "      <td>-74.0711</td>\n",
       "    </tr>\n",
       "    <tr>\n",
       "      <th>JC095</th>\n",
       "      <td>728</td>\n",
       "      <td>Bergen Ave</td>\n",
       "      <td>40.7221</td>\n",
       "      <td>-74.0715</td>\n",
       "    </tr>\n",
       "    <tr>\n",
       "      <th>JC098</th>\n",
       "      <td>2007</td>\n",
       "      <td>Washington St</td>\n",
       "      <td>40.7243</td>\n",
       "      <td>-74.0355</td>\n",
       "    </tr>\n",
       "    <tr>\n",
       "      <th>JC099</th>\n",
       "      <td>629</td>\n",
       "      <td>Montgomery St</td>\n",
       "      <td>40.7194</td>\n",
       "      <td>-74.0510</td>\n",
       "    </tr>\n",
       "    <tr>\n",
       "      <th>JC102</th>\n",
       "      <td>1168</td>\n",
       "      <td>Grand St</td>\n",
       "      <td>40.7152</td>\n",
       "      <td>-74.0377</td>\n",
       "    </tr>\n",
       "    <tr>\n",
       "      <th>JC103</th>\n",
       "      <td>676</td>\n",
       "      <td>Journal Square</td>\n",
       "      <td>40.7337</td>\n",
       "      <td>-74.0625</td>\n",
       "    </tr>\n",
       "    <tr>\n",
       "      <th>JC104</th>\n",
       "      <td>2103</td>\n",
       "      <td>Harborside</td>\n",
       "      <td>40.7193</td>\n",
       "      <td>-74.0342</td>\n",
       "    </tr>\n",
       "    <tr>\n",
       "      <th>JC105</th>\n",
       "      <td>2462</td>\n",
       "      <td>Hoboken Ave at Monmouth St</td>\n",
       "      <td>40.7352</td>\n",
       "      <td>-74.0470</td>\n",
       "    </tr>\n",
       "    <tr>\n",
       "      <th>JC106</th>\n",
       "      <td>1983</td>\n",
       "      <td>Columbus Dr at Exchange Pl</td>\n",
       "      <td>40.7169</td>\n",
       "      <td>-74.0328</td>\n",
       "    </tr>\n",
       "    <tr>\n",
       "      <th>JC107</th>\n",
       "      <td>83</td>\n",
       "      <td>Grant Ave &amp; MLK Dr</td>\n",
       "      <td>40.7092</td>\n",
       "      <td>-74.0808</td>\n",
       "    </tr>\n",
       "    <tr>\n",
       "      <th>JC108</th>\n",
       "      <td>216</td>\n",
       "      <td>Bergen Ave &amp; Stegman St</td>\n",
       "      <td>40.7066</td>\n",
       "      <td>-74.0867</td>\n",
       "    </tr>\n",
       "  </tbody>\n",
       "</table>\n",
       "</div>"
      ],
      "text/plain": [
       "            Count                                  Station Name  Latitude  \\\n",
       "Station ID                                                                  \n",
       "HB101        3728      Hoboken Terminal - Hudson St & Hudson Pl   40.7359   \n",
       "HB102        4415       Hoboken Terminal - River St & Hudson Pl   40.7361   \n",
       "HB103        4607  South Waterfront Walkway - Sinatra Dr & 1 St   40.7370   \n",
       "HB201        1746                          12 St & Sinatra Dr N   40.7506   \n",
       "HB202        2222             14 St Ferry - 14 St & Shipyard Ln   40.7530   \n",
       "HB203        1193                         Bloomfield St & 15 St   40.7545   \n",
       "HB301         961                               4 St & Grand St   40.7423   \n",
       "HB302         990                               6 St & Grand St   40.7444   \n",
       "HB303         684                             Clinton St & 7 St   40.7454   \n",
       "HB304        1190                              7 St & Monroe St   40.7464   \n",
       "HB305        1036                 9 St HBLR - Jackson St & 8 St   40.7479   \n",
       "HB401        1226    Southwest Park - Jackson St & Observer Hwy   40.7376   \n",
       "HB402        2048                             Madison St & 1 St   40.7388   \n",
       "HB404         556        Mama Johnson Field - 4 St & Jackson St   40.7431   \n",
       "HB405        1506                               Grand St & 2 St   40.7391   \n",
       "HB501        1452             Columbus Park - Clinton St & 9 St   40.7482   \n",
       "HB502        2049                         11 St & Washington St   40.7500   \n",
       "HB503         876                            Madison St & 10 St   40.7499   \n",
       "HB505         863                            Willow Ave & 12 St   40.7519   \n",
       "HB506        1458                              Grand St & 14 St   40.7541   \n",
       "HB507         690                              Adams St & 11 St   40.7509   \n",
       "HB601        1774              Church Sq Park - 5 St & Park Ave   40.7427   \n",
       "HB603        2205                          8 St & Washington St   40.7460   \n",
       "JC002        1237                                   Paulus Hook   40.7141   \n",
       "JC003        1809                                     City Hall   40.7177   \n",
       "JC005        4213                                 Grove St PATH   40.7196   \n",
       "JC006        1425                                     Warren St   40.7211   \n",
       "JC008        2869                                  Newport Pkwy   40.7287   \n",
       "JC009        2672                                 Hamilton Park   40.7276   \n",
       "JC011        1329                             JC Medical Center   40.7165   \n",
       "JC013        2250                              Marin Light Rail   40.7146   \n",
       "JC014        1533                                Columbus Drive   40.7184   \n",
       "JC018         244                             5 Corners Library   40.7350   \n",
       "JC019         740                                       Hilltop   40.7312   \n",
       "JC020        1010                         Baldwin at Montgomery   40.7237   \n",
       "JC022         540                                   Oakland Ave   40.7376   \n",
       "JC023        1100                                  Brunswick St   40.7242   \n",
       "JC024         776                                Pershing Field   40.7427   \n",
       "JC027         749                               Jersey & 6th St   40.7253   \n",
       "JC032        1430                                    Newark Ave   40.7215   \n",
       "JC034         454                               Christ Hospital   40.7348   \n",
       "JC035        1302                                Van Vorst Park   40.7185   \n",
       "JC038         617                              Essex Light Rail   40.7128   \n",
       "JC051         205                                      Union St   40.7182   \n",
       "JC052        1880                            Liberty Light Rail   40.7112   \n",
       "JC053         695                                  Lincoln Park   40.7246   \n",
       "JC055        1019                               McGinley Square   40.7253   \n",
       "JC056        2238                                       Sip Ave   40.7309   \n",
       "JC057         588                                Riverview Park   40.7443   \n",
       "JC059         578                              Heights Elevator   40.7487   \n",
       "JC063         134                                Jackson Square   40.7111   \n",
       "JC065         251                                        Dey St   40.7377   \n",
       "JC066        2293                                  Newport PATH   40.7272   \n",
       "JC072        1077                                  Morris Canal   40.7124   \n",
       "JC074         860                                  Jersey & 3rd   40.7233   \n",
       "JC075         683                              Monmouth and 6th   40.7257   \n",
       "JC076         794                                   Dixon Mills   40.7216   \n",
       "JC077         495                                   Astor Place   40.7193   \n",
       "JC078         764                                Lafayette Park   40.7135   \n",
       "JC080         298                           Leonard Gordon Park   40.7459   \n",
       "JC081         711                               Brunswick & 6th   40.7260   \n",
       "JC082        1101                                  Manila & 1st   40.7217   \n",
       "JC084         392                       Communipaw & Berry Lane   40.7144   \n",
       "JC094         405                                  Glenwood Ave   40.7276   \n",
       "JC095         728                                    Bergen Ave   40.7221   \n",
       "JC098        2007                                 Washington St   40.7243   \n",
       "JC099         629                                 Montgomery St   40.7194   \n",
       "JC102        1168                                      Grand St   40.7152   \n",
       "JC103         676                                Journal Square   40.7337   \n",
       "JC104        2103                                    Harborside   40.7193   \n",
       "JC105        2462                    Hoboken Ave at Monmouth St   40.7352   \n",
       "JC106        1983                    Columbus Dr at Exchange Pl   40.7169   \n",
       "JC107          83                            Grant Ave & MLK Dr   40.7092   \n",
       "JC108         216                       Bergen Ave & Stegman St   40.7066   \n",
       "\n",
       "            Longitude  \n",
       "Station ID             \n",
       "HB101        -74.0303  \n",
       "HB102        -74.0291  \n",
       "HB103        -74.0278  \n",
       "HB201        -74.0240  \n",
       "HB202        -74.0244  \n",
       "HB203        -74.0266  \n",
       "HB301        -74.0351  \n",
       "HB302        -74.0345  \n",
       "HB303        -74.0333  \n",
       "HB304        -74.0380  \n",
       "HB305        -74.0384  \n",
       "HB401        -74.0417  \n",
       "HB402        -74.0393  \n",
       "HB404        -74.0400  \n",
       "HB405        -74.0362  \n",
       "HB501        -74.0325  \n",
       "HB502        -74.0272  \n",
       "HB503        -74.0359  \n",
       "HB505        -74.0304  \n",
       "HB506        -74.0316  \n",
       "HB507        -74.0335  \n",
       "HB601        -74.0322  \n",
       "HB603        -74.0282  \n",
       "JC002        -74.0336  \n",
       "JC003        -74.0438  \n",
       "JC005        -74.0431  \n",
       "JC006        -74.0381  \n",
       "JC008        -74.0321  \n",
       "JC009        -74.0442  \n",
       "JC011        -74.0496  \n",
       "JC013        -74.0428  \n",
       "JC014        -74.0389  \n",
       "JC018        -74.0595  \n",
       "JC019        -74.0576  \n",
       "JC020        -74.0642  \n",
       "JC022        -74.0525  \n",
       "JC023        -74.0507  \n",
       "JC024        -74.0518  \n",
       "JC027        -74.0456  \n",
       "JC032        -74.0463  \n",
       "JC034        -74.0504  \n",
       "JC035        -74.0477  \n",
       "JC038        -74.0365  \n",
       "JC051        -74.0836  \n",
       "JC052        -74.0557  \n",
       "JC053        -74.0784  \n",
       "JC055        -74.0676  \n",
       "JC056        -74.0639  \n",
       "JC057        -74.0440  \n",
       "JC059        -74.0404  \n",
       "JC063        -74.0789  \n",
       "JC065        -74.0669  \n",
       "JC066        -74.0338  \n",
       "JC072        -74.0385  \n",
       "JC074        -74.0460  \n",
       "JC075        -74.0488  \n",
       "JC076        -74.0500  \n",
       "JC077        -74.0713  \n",
       "JC078        -74.0629  \n",
       "JC080        -74.0573  \n",
       "JC081        -74.0504  \n",
       "JC082        -74.0429  \n",
       "JC084        -74.0666  \n",
       "JC094        -74.0711  \n",
       "JC095        -74.0715  \n",
       "JC098        -74.0355  \n",
       "JC099        -74.0510  \n",
       "JC102        -74.0377  \n",
       "JC103        -74.0625  \n",
       "JC104        -74.0342  \n",
       "JC105        -74.0470  \n",
       "JC106        -74.0328  \n",
       "JC107        -74.0808  \n",
       "JC108        -74.0867  "
      ]
     },
     "execution_count": 181,
     "metadata": {},
     "output_type": "execute_result"
    }
   ],
   "source": [
    "jc_starts = jcs[jcs.Start].groupby('Station ID').size().rename('Count')\n",
    "jc_llcs = jc_starts.to_frame().merge(stations, left_index=True, right_index=True)\n",
    "jc_llcs"
   ]
  },
  {
   "cell_type": "markdown",
   "id": "56b635a8",
   "metadata": {},
   "source": [
    "#### Build date range (incl. weekday vs. weekends)"
   ]
  },
  {
   "cell_type": "code",
   "execution_count": 92,
   "id": "3c1d52d1",
   "metadata": {},
   "outputs": [
    {
     "data": {
      "text/plain": [
       "(22, 8)"
      ]
     },
     "execution_count": 92,
     "metadata": {},
     "output_type": "execute_result"
    }
   ],
   "source": [
    "dates = pd.date_range('2021-09-01', '2021-09-30')\n",
    "week_dts = dates[dates.weekday < 5]\n",
    "wknd_dts = dates[dates.weekday >= 5]\n",
    "len(week_dts), len(wknd_dts)"
   ]
  },
  {
   "cell_type": "markdown",
   "id": "77f8ccdf",
   "metadata": {},
   "source": [
    "### Station Counts helper"
   ]
  },
  {
   "cell_type": "code",
   "execution_count": 112,
   "id": "a5f4df07",
   "metadata": {},
   "outputs": [],
   "source": [
    "from typing import Collection\n",
    "\n",
    "def station_counts(*keys, jc=None, weekdays=None, daily_avg=None):\n",
    "    keys = list(keys)\n",
    "    df = dockings\n",
    "    dts = dates\n",
    "    if weekdays is not None:\n",
    "        if weekdays is True:\n",
    "            df = df[df.Weekday < 5]\n",
    "            dts = week_dts\n",
    "        elif weekdays is False:\n",
    "            df = df[df.Weekday >= 5]\n",
    "            dts = wknd_dts\n",
    "        elif isinstance(weekdays, Collection):\n",
    "            weekdays = set(weekdays)\n",
    "            df = df[df.Weekday.apply(lambda wd: wd in weekdays)]\n",
    "            dts = dts[dts.weekday.apply(lambda wd: wd in weekdays)]\n",
    "        else:\n",
    "            raise ValueError(f'Unrecognized weekdays: {weekdays}')\n",
    "\n",
    "    counts = df.groupby(['Station ID'] + keys).size().rename('Count')\n",
    "    counts = counts.reset_index().merge(stations, left_on='Station ID', right_index=True).sort_values('Count')\n",
    "    cols = ['Station Name'] + keys + ['Count']\n",
    "    if daily_avg is None:\n",
    "        if 'Day' in keys or 'Weekday' in keys:\n",
    "            daily_avg = False\n",
    "        else:\n",
    "            daily_avg = True\n",
    "    elif daily_avg:\n",
    "        if 'Day' in keys or 'Weekday' in keys:\n",
    "            raise ValueError(\"Can only compute daily averages if daily grouping is not applied\")\n",
    "        counts['Avg'] = counts['Count'] / len(dts)\n",
    "        cols += ['Avg']\n",
    "\n",
    "    counts = counts.set_index('Station ID')[cols]\n",
    "\n",
    "    if jc is True:\n",
    "        counts = counts[counts.index.to_series().str.match('(?:JC|HB)')]\n",
    "    elif js is False:\n",
    "        counts = counts[~counts.index.to_series().str.match('(?:JC|HB)')]\n",
    "\n",
    "    return counts"
   ]
  },
  {
   "cell_type": "markdown",
   "id": "418b6e8c",
   "metadata": {},
   "source": [
    "#### JC counts, by {day,station}"
   ]
  },
  {
   "cell_type": "code",
   "execution_count": 113,
   "id": "79b72f7a",
   "metadata": {},
   "outputs": [
    {
     "data": {
      "text/html": [
       "<div>\n",
       "<style scoped>\n",
       "    .dataframe tbody tr th:only-of-type {\n",
       "        vertical-align: middle;\n",
       "    }\n",
       "\n",
       "    .dataframe tbody tr th {\n",
       "        vertical-align: top;\n",
       "    }\n",
       "\n",
       "    .dataframe thead th {\n",
       "        text-align: right;\n",
       "    }\n",
       "</style>\n",
       "<table border=\"1\" class=\"dataframe\">\n",
       "  <thead>\n",
       "    <tr style=\"text-align: right;\">\n",
       "      <th></th>\n",
       "      <th>Station Name</th>\n",
       "      <th>Day</th>\n",
       "      <th>Count</th>\n",
       "    </tr>\n",
       "    <tr>\n",
       "      <th>Station ID</th>\n",
       "      <th></th>\n",
       "      <th></th>\n",
       "      <th></th>\n",
       "    </tr>\n",
       "  </thead>\n",
       "  <tbody>\n",
       "    <tr>\n",
       "      <th>HB404</th>\n",
       "      <td>Mama Johnson Field - 4 St &amp; Jackson St</td>\n",
       "      <td>2</td>\n",
       "      <td>1</td>\n",
       "    </tr>\n",
       "    <tr>\n",
       "      <th>HB303</th>\n",
       "      <td>Clinton St &amp; 7 St</td>\n",
       "      <td>30</td>\n",
       "      <td>1</td>\n",
       "    </tr>\n",
       "    <tr>\n",
       "      <th>JC099</th>\n",
       "      <td>Montgomery St</td>\n",
       "      <td>19</td>\n",
       "      <td>1</td>\n",
       "    </tr>\n",
       "    <tr>\n",
       "      <th>JC018</th>\n",
       "      <td>5 Corners Library</td>\n",
       "      <td>6</td>\n",
       "      <td>1</td>\n",
       "    </tr>\n",
       "    <tr>\n",
       "      <th>JC107</th>\n",
       "      <td>Grant Ave &amp; MLK Dr</td>\n",
       "      <td>30</td>\n",
       "      <td>1</td>\n",
       "    </tr>\n",
       "    <tr>\n",
       "      <th>...</th>\n",
       "      <td>...</td>\n",
       "      <td>...</td>\n",
       "      <td>...</td>\n",
       "    </tr>\n",
       "    <tr>\n",
       "      <th>HB103</th>\n",
       "      <td>South Waterfront Walkway - Sinatra Dr &amp; 1 St</td>\n",
       "      <td>19</td>\n",
       "      <td>452</td>\n",
       "    </tr>\n",
       "    <tr>\n",
       "      <th>HB103</th>\n",
       "      <td>South Waterfront Walkway - Sinatra Dr &amp; 1 St</td>\n",
       "      <td>12</td>\n",
       "      <td>458</td>\n",
       "    </tr>\n",
       "    <tr>\n",
       "      <th>HB103</th>\n",
       "      <td>South Waterfront Walkway - Sinatra Dr &amp; 1 St</td>\n",
       "      <td>11</td>\n",
       "      <td>461</td>\n",
       "    </tr>\n",
       "    <tr>\n",
       "      <th>HB103</th>\n",
       "      <td>South Waterfront Walkway - Sinatra Dr &amp; 1 St</td>\n",
       "      <td>6</td>\n",
       "      <td>491</td>\n",
       "    </tr>\n",
       "    <tr>\n",
       "      <th>HB103</th>\n",
       "      <td>South Waterfront Walkway - Sinatra Dr &amp; 1 St</td>\n",
       "      <td>18</td>\n",
       "      <td>501</td>\n",
       "    </tr>\n",
       "  </tbody>\n",
       "</table>\n",
       "<p>2204 rows × 3 columns</p>\n",
       "</div>"
      ],
      "text/plain": [
       "                                            Station Name  Day  Count\n",
       "Station ID                                                          \n",
       "HB404             Mama Johnson Field - 4 St & Jackson St    2      1\n",
       "HB303                                  Clinton St & 7 St   30      1\n",
       "JC099                                      Montgomery St   19      1\n",
       "JC018                                  5 Corners Library    6      1\n",
       "JC107                                 Grant Ave & MLK Dr   30      1\n",
       "...                                                  ...  ...    ...\n",
       "HB103       South Waterfront Walkway - Sinatra Dr & 1 St   19    452\n",
       "HB103       South Waterfront Walkway - Sinatra Dr & 1 St   12    458\n",
       "HB103       South Waterfront Walkway - Sinatra Dr & 1 St   11    461\n",
       "HB103       South Waterfront Walkway - Sinatra Dr & 1 St    6    491\n",
       "HB103       South Waterfront Walkway - Sinatra Dr & 1 St   18    501\n",
       "\n",
       "[2204 rows x 3 columns]"
      ]
     },
     "execution_count": 113,
     "metadata": {},
     "output_type": "execute_result"
    }
   ],
   "source": [
    "jcd = station_counts('Day', jc=True)\n",
    "jcd"
   ]
  },
  {
   "cell_type": "markdown",
   "id": "49eaf4c3",
   "metadata": {},
   "source": [
    "#### Biggest {station,day}s in JC"
   ]
  },
  {
   "cell_type": "code",
   "execution_count": 72,
   "id": "e7449b04",
   "metadata": {
    "scrolled": true
   },
   "outputs": [
    {
     "data": {
      "text/html": [
       "<div>\n",
       "<style scoped>\n",
       "    .dataframe tbody tr th:only-of-type {\n",
       "        vertical-align: middle;\n",
       "    }\n",
       "\n",
       "    .dataframe tbody tr th {\n",
       "        vertical-align: top;\n",
       "    }\n",
       "\n",
       "    .dataframe thead th {\n",
       "        text-align: right;\n",
       "    }\n",
       "</style>\n",
       "<table border=\"1\" class=\"dataframe\">\n",
       "  <thead>\n",
       "    <tr style=\"text-align: right;\">\n",
       "      <th></th>\n",
       "      <th>Station Name</th>\n",
       "      <th>Day</th>\n",
       "      <th>Count</th>\n",
       "    </tr>\n",
       "    <tr>\n",
       "      <th>Station ID</th>\n",
       "      <th></th>\n",
       "      <th></th>\n",
       "      <th></th>\n",
       "    </tr>\n",
       "  </thead>\n",
       "  <tbody>\n",
       "    <tr>\n",
       "      <th>JC005</th>\n",
       "      <td>Grove St PATH</td>\n",
       "      <td>12</td>\n",
       "      <td>216</td>\n",
       "    </tr>\n",
       "    <tr>\n",
       "      <th>JC009</th>\n",
       "      <td>Hamilton Park</td>\n",
       "      <td>27</td>\n",
       "      <td>216</td>\n",
       "    </tr>\n",
       "    <tr>\n",
       "      <th>JC008</th>\n",
       "      <td>Newport Pkwy</td>\n",
       "      <td>15</td>\n",
       "      <td>219</td>\n",
       "    </tr>\n",
       "    <tr>\n",
       "      <th>JC008</th>\n",
       "      <td>Newport Pkwy</td>\n",
       "      <td>6</td>\n",
       "      <td>220</td>\n",
       "    </tr>\n",
       "    <tr>\n",
       "      <th>JC052</th>\n",
       "      <td>Liberty Light Rail</td>\n",
       "      <td>19</td>\n",
       "      <td>221</td>\n",
       "    </tr>\n",
       "    <tr>\n",
       "      <th>JC008</th>\n",
       "      <td>Newport Pkwy</td>\n",
       "      <td>8</td>\n",
       "      <td>223</td>\n",
       "    </tr>\n",
       "    <tr>\n",
       "      <th>JC008</th>\n",
       "      <td>Newport Pkwy</td>\n",
       "      <td>19</td>\n",
       "      <td>224</td>\n",
       "    </tr>\n",
       "    <tr>\n",
       "      <th>JC105</th>\n",
       "      <td>Hoboken Ave at Monmouth St</td>\n",
       "      <td>12</td>\n",
       "      <td>225</td>\n",
       "    </tr>\n",
       "    <tr>\n",
       "      <th>JC013</th>\n",
       "      <td>Marin Light Rail</td>\n",
       "      <td>18</td>\n",
       "      <td>225</td>\n",
       "    </tr>\n",
       "    <tr>\n",
       "      <th>JC105</th>\n",
       "      <td>Hoboken Ave at Monmouth St</td>\n",
       "      <td>18</td>\n",
       "      <td>228</td>\n",
       "    </tr>\n",
       "    <tr>\n",
       "      <th>JC009</th>\n",
       "      <td>Hamilton Park</td>\n",
       "      <td>24</td>\n",
       "      <td>228</td>\n",
       "    </tr>\n",
       "    <tr>\n",
       "      <th>JC005</th>\n",
       "      <td>Grove St PATH</td>\n",
       "      <td>9</td>\n",
       "      <td>229</td>\n",
       "    </tr>\n",
       "    <tr>\n",
       "      <th>JC008</th>\n",
       "      <td>Newport Pkwy</td>\n",
       "      <td>17</td>\n",
       "      <td>230</td>\n",
       "    </tr>\n",
       "    <tr>\n",
       "      <th>JC009</th>\n",
       "      <td>Hamilton Park</td>\n",
       "      <td>11</td>\n",
       "      <td>232</td>\n",
       "    </tr>\n",
       "    <tr>\n",
       "      <th>JC005</th>\n",
       "      <td>Grove St PATH</td>\n",
       "      <td>26</td>\n",
       "      <td>234</td>\n",
       "    </tr>\n",
       "    <tr>\n",
       "      <th>JC066</th>\n",
       "      <td>Newport PATH</td>\n",
       "      <td>10</td>\n",
       "      <td>237</td>\n",
       "    </tr>\n",
       "    <tr>\n",
       "      <th>JC009</th>\n",
       "      <td>Hamilton Park</td>\n",
       "      <td>25</td>\n",
       "      <td>239</td>\n",
       "    </tr>\n",
       "    <tr>\n",
       "      <th>JC008</th>\n",
       "      <td>Newport Pkwy</td>\n",
       "      <td>26</td>\n",
       "      <td>239</td>\n",
       "    </tr>\n",
       "    <tr>\n",
       "      <th>JC056</th>\n",
       "      <td>Sip Ave</td>\n",
       "      <td>22</td>\n",
       "      <td>239</td>\n",
       "    </tr>\n",
       "    <tr>\n",
       "      <th>JC005</th>\n",
       "      <td>Grove St PATH</td>\n",
       "      <td>6</td>\n",
       "      <td>245</td>\n",
       "    </tr>\n",
       "    <tr>\n",
       "      <th>JC105</th>\n",
       "      <td>Hoboken Ave at Monmouth St</td>\n",
       "      <td>25</td>\n",
       "      <td>246</td>\n",
       "    </tr>\n",
       "    <tr>\n",
       "      <th>JC008</th>\n",
       "      <td>Newport Pkwy</td>\n",
       "      <td>16</td>\n",
       "      <td>249</td>\n",
       "    </tr>\n",
       "    <tr>\n",
       "      <th>JC005</th>\n",
       "      <td>Grove St PATH</td>\n",
       "      <td>4</td>\n",
       "      <td>250</td>\n",
       "    </tr>\n",
       "    <tr>\n",
       "      <th>JC008</th>\n",
       "      <td>Newport Pkwy</td>\n",
       "      <td>25</td>\n",
       "      <td>253</td>\n",
       "    </tr>\n",
       "    <tr>\n",
       "      <th>JC005</th>\n",
       "      <td>Grove St PATH</td>\n",
       "      <td>23</td>\n",
       "      <td>255</td>\n",
       "    </tr>\n",
       "    <tr>\n",
       "      <th>JC005</th>\n",
       "      <td>Grove St PATH</td>\n",
       "      <td>13</td>\n",
       "      <td>260</td>\n",
       "    </tr>\n",
       "    <tr>\n",
       "      <th>JC005</th>\n",
       "      <td>Grove St PATH</td>\n",
       "      <td>11</td>\n",
       "      <td>265</td>\n",
       "    </tr>\n",
       "    <tr>\n",
       "      <th>JC005</th>\n",
       "      <td>Grove St PATH</td>\n",
       "      <td>19</td>\n",
       "      <td>269</td>\n",
       "    </tr>\n",
       "    <tr>\n",
       "      <th>JC008</th>\n",
       "      <td>Newport Pkwy</td>\n",
       "      <td>18</td>\n",
       "      <td>271</td>\n",
       "    </tr>\n",
       "    <tr>\n",
       "      <th>JC005</th>\n",
       "      <td>Grove St PATH</td>\n",
       "      <td>24</td>\n",
       "      <td>272</td>\n",
       "    </tr>\n",
       "    <tr>\n",
       "      <th>JC104</th>\n",
       "      <td>Harborside</td>\n",
       "      <td>11</td>\n",
       "      <td>273</td>\n",
       "    </tr>\n",
       "    <tr>\n",
       "      <th>JC005</th>\n",
       "      <td>Grove St PATH</td>\n",
       "      <td>2</td>\n",
       "      <td>274</td>\n",
       "    </tr>\n",
       "    <tr>\n",
       "      <th>JC005</th>\n",
       "      <td>Grove St PATH</td>\n",
       "      <td>27</td>\n",
       "      <td>279</td>\n",
       "    </tr>\n",
       "    <tr>\n",
       "      <th>JC005</th>\n",
       "      <td>Grove St PATH</td>\n",
       "      <td>14</td>\n",
       "      <td>281</td>\n",
       "    </tr>\n",
       "    <tr>\n",
       "      <th>JC105</th>\n",
       "      <td>Hoboken Ave at Monmouth St</td>\n",
       "      <td>11</td>\n",
       "      <td>281</td>\n",
       "    </tr>\n",
       "    <tr>\n",
       "      <th>JC005</th>\n",
       "      <td>Grove St PATH</td>\n",
       "      <td>7</td>\n",
       "      <td>289</td>\n",
       "    </tr>\n",
       "    <tr>\n",
       "      <th>JC005</th>\n",
       "      <td>Grove St PATH</td>\n",
       "      <td>21</td>\n",
       "      <td>297</td>\n",
       "    </tr>\n",
       "    <tr>\n",
       "      <th>JC005</th>\n",
       "      <td>Grove St PATH</td>\n",
       "      <td>3</td>\n",
       "      <td>301</td>\n",
       "    </tr>\n",
       "    <tr>\n",
       "      <th>JC005</th>\n",
       "      <td>Grove St PATH</td>\n",
       "      <td>25</td>\n",
       "      <td>302</td>\n",
       "    </tr>\n",
       "    <tr>\n",
       "      <th>JC005</th>\n",
       "      <td>Grove St PATH</td>\n",
       "      <td>28</td>\n",
       "      <td>303</td>\n",
       "    </tr>\n",
       "    <tr>\n",
       "      <th>JC005</th>\n",
       "      <td>Grove St PATH</td>\n",
       "      <td>8</td>\n",
       "      <td>309</td>\n",
       "    </tr>\n",
       "    <tr>\n",
       "      <th>JC005</th>\n",
       "      <td>Grove St PATH</td>\n",
       "      <td>20</td>\n",
       "      <td>313</td>\n",
       "    </tr>\n",
       "    <tr>\n",
       "      <th>JC005</th>\n",
       "      <td>Grove St PATH</td>\n",
       "      <td>30</td>\n",
       "      <td>327</td>\n",
       "    </tr>\n",
       "    <tr>\n",
       "      <th>JC005</th>\n",
       "      <td>Grove St PATH</td>\n",
       "      <td>10</td>\n",
       "      <td>332</td>\n",
       "    </tr>\n",
       "    <tr>\n",
       "      <th>JC005</th>\n",
       "      <td>Grove St PATH</td>\n",
       "      <td>22</td>\n",
       "      <td>339</td>\n",
       "    </tr>\n",
       "    <tr>\n",
       "      <th>JC005</th>\n",
       "      <td>Grove St PATH</td>\n",
       "      <td>18</td>\n",
       "      <td>339</td>\n",
       "    </tr>\n",
       "    <tr>\n",
       "      <th>JC005</th>\n",
       "      <td>Grove St PATH</td>\n",
       "      <td>16</td>\n",
       "      <td>352</td>\n",
       "    </tr>\n",
       "    <tr>\n",
       "      <th>JC005</th>\n",
       "      <td>Grove St PATH</td>\n",
       "      <td>17</td>\n",
       "      <td>370</td>\n",
       "    </tr>\n",
       "    <tr>\n",
       "      <th>JC005</th>\n",
       "      <td>Grove St PATH</td>\n",
       "      <td>29</td>\n",
       "      <td>379</td>\n",
       "    </tr>\n",
       "    <tr>\n",
       "      <th>JC005</th>\n",
       "      <td>Grove St PATH</td>\n",
       "      <td>15</td>\n",
       "      <td>395</td>\n",
       "    </tr>\n",
       "  </tbody>\n",
       "</table>\n",
       "</div>"
      ],
      "text/plain": [
       "                          Station Name  Day  Count\n",
       "Station ID                                        \n",
       "JC005                    Grove St PATH   12    216\n",
       "JC009                    Hamilton Park   27    216\n",
       "JC008                     Newport Pkwy   15    219\n",
       "JC008                     Newport Pkwy    6    220\n",
       "JC052               Liberty Light Rail   19    221\n",
       "JC008                     Newport Pkwy    8    223\n",
       "JC008                     Newport Pkwy   19    224\n",
       "JC105       Hoboken Ave at Monmouth St   12    225\n",
       "JC013                 Marin Light Rail   18    225\n",
       "JC105       Hoboken Ave at Monmouth St   18    228\n",
       "JC009                    Hamilton Park   24    228\n",
       "JC005                    Grove St PATH    9    229\n",
       "JC008                     Newport Pkwy   17    230\n",
       "JC009                    Hamilton Park   11    232\n",
       "JC005                    Grove St PATH   26    234\n",
       "JC066                     Newport PATH   10    237\n",
       "JC009                    Hamilton Park   25    239\n",
       "JC008                     Newport Pkwy   26    239\n",
       "JC056                          Sip Ave   22    239\n",
       "JC005                    Grove St PATH    6    245\n",
       "JC105       Hoboken Ave at Monmouth St   25    246\n",
       "JC008                     Newport Pkwy   16    249\n",
       "JC005                    Grove St PATH    4    250\n",
       "JC008                     Newport Pkwy   25    253\n",
       "JC005                    Grove St PATH   23    255\n",
       "JC005                    Grove St PATH   13    260\n",
       "JC005                    Grove St PATH   11    265\n",
       "JC005                    Grove St PATH   19    269\n",
       "JC008                     Newport Pkwy   18    271\n",
       "JC005                    Grove St PATH   24    272\n",
       "JC104                       Harborside   11    273\n",
       "JC005                    Grove St PATH    2    274\n",
       "JC005                    Grove St PATH   27    279\n",
       "JC005                    Grove St PATH   14    281\n",
       "JC105       Hoboken Ave at Monmouth St   11    281\n",
       "JC005                    Grove St PATH    7    289\n",
       "JC005                    Grove St PATH   21    297\n",
       "JC005                    Grove St PATH    3    301\n",
       "JC005                    Grove St PATH   25    302\n",
       "JC005                    Grove St PATH   28    303\n",
       "JC005                    Grove St PATH    8    309\n",
       "JC005                    Grove St PATH   20    313\n",
       "JC005                    Grove St PATH   30    327\n",
       "JC005                    Grove St PATH   10    332\n",
       "JC005                    Grove St PATH   22    339\n",
       "JC005                    Grove St PATH   18    339\n",
       "JC005                    Grove St PATH   16    352\n",
       "JC005                    Grove St PATH   17    370\n",
       "JC005                    Grove St PATH   29    379\n",
       "JC005                    Grove St PATH   15    395"
      ]
     },
     "execution_count": 72,
     "metadata": {},
     "output_type": "execute_result"
    }
   ],
   "source": [
    "jcd[jcd.index.to_series().str.startswith('JC')].iloc[-50:]"
   ]
  },
  {
   "cell_type": "markdown",
   "id": "00405570",
   "metadata": {},
   "source": [
    "### Monthly sum + Daily avg (all JC+HB)"
   ]
  },
  {
   "cell_type": "code",
   "execution_count": 96,
   "id": "edd882d3",
   "metadata": {
    "scrolled": true
   },
   "outputs": [
    {
     "data": {
      "text/html": [
       "<div>\n",
       "<style scoped>\n",
       "    .dataframe tbody tr th:only-of-type {\n",
       "        vertical-align: middle;\n",
       "    }\n",
       "\n",
       "    .dataframe tbody tr th {\n",
       "        vertical-align: top;\n",
       "    }\n",
       "\n",
       "    .dataframe thead th {\n",
       "        text-align: right;\n",
       "    }\n",
       "</style>\n",
       "<table border=\"1\" class=\"dataframe\">\n",
       "  <thead>\n",
       "    <tr style=\"text-align: right;\">\n",
       "      <th></th>\n",
       "      <th>Station Name</th>\n",
       "      <th>Count</th>\n",
       "      <th>Avg</th>\n",
       "    </tr>\n",
       "    <tr>\n",
       "      <th>Station ID</th>\n",
       "      <th></th>\n",
       "      <th></th>\n",
       "      <th></th>\n",
       "    </tr>\n",
       "  </thead>\n",
       "  <tbody>\n",
       "    <tr>\n",
       "      <th>JC107</th>\n",
       "      <td>Grant Ave &amp; MLK Dr</td>\n",
       "      <td>163</td>\n",
       "      <td>5.433333</td>\n",
       "    </tr>\n",
       "    <tr>\n",
       "      <th>JC063</th>\n",
       "      <td>Jackson Square</td>\n",
       "      <td>264</td>\n",
       "      <td>8.800000</td>\n",
       "    </tr>\n",
       "    <tr>\n",
       "      <th>JC051</th>\n",
       "      <td>Union St</td>\n",
       "      <td>413</td>\n",
       "      <td>13.766667</td>\n",
       "    </tr>\n",
       "    <tr>\n",
       "      <th>JC108</th>\n",
       "      <td>Bergen Ave &amp; Stegman St</td>\n",
       "      <td>421</td>\n",
       "      <td>14.033333</td>\n",
       "    </tr>\n",
       "    <tr>\n",
       "      <th>JC018</th>\n",
       "      <td>5 Corners Library</td>\n",
       "      <td>461</td>\n",
       "      <td>15.366667</td>\n",
       "    </tr>\n",
       "    <tr>\n",
       "      <th>JC065</th>\n",
       "      <td>Dey St</td>\n",
       "      <td>485</td>\n",
       "      <td>16.166667</td>\n",
       "    </tr>\n",
       "    <tr>\n",
       "      <th>JC080</th>\n",
       "      <td>Leonard Gordon Park</td>\n",
       "      <td>590</td>\n",
       "      <td>19.666667</td>\n",
       "    </tr>\n",
       "    <tr>\n",
       "      <th>JC094</th>\n",
       "      <td>Glenwood Ave</td>\n",
       "      <td>765</td>\n",
       "      <td>25.500000</td>\n",
       "    </tr>\n",
       "    <tr>\n",
       "      <th>JC084</th>\n",
       "      <td>Communipaw &amp; Berry Lane</td>\n",
       "      <td>802</td>\n",
       "      <td>26.733333</td>\n",
       "    </tr>\n",
       "    <tr>\n",
       "      <th>JC034</th>\n",
       "      <td>Christ Hospital</td>\n",
       "      <td>893</td>\n",
       "      <td>29.766667</td>\n",
       "    </tr>\n",
       "    <tr>\n",
       "      <th>JC022</th>\n",
       "      <td>Oakland Ave</td>\n",
       "      <td>945</td>\n",
       "      <td>31.500000</td>\n",
       "    </tr>\n",
       "    <tr>\n",
       "      <th>JC077</th>\n",
       "      <td>Astor Place</td>\n",
       "      <td>989</td>\n",
       "      <td>32.966667</td>\n",
       "    </tr>\n",
       "    <tr>\n",
       "      <th>JC059</th>\n",
       "      <td>Heights Elevator</td>\n",
       "      <td>1072</td>\n",
       "      <td>35.733333</td>\n",
       "    </tr>\n",
       "    <tr>\n",
       "      <th>HB404</th>\n",
       "      <td>Mama Johnson Field - 4 St &amp; Jackson St</td>\n",
       "      <td>1112</td>\n",
       "      <td>37.066667</td>\n",
       "    </tr>\n",
       "    <tr>\n",
       "      <th>JC057</th>\n",
       "      <td>Riverview Park</td>\n",
       "      <td>1129</td>\n",
       "      <td>37.633333</td>\n",
       "    </tr>\n",
       "    <tr>\n",
       "      <th>JC038</th>\n",
       "      <td>Essex Light Rail</td>\n",
       "      <td>1201</td>\n",
       "      <td>40.033333</td>\n",
       "    </tr>\n",
       "    <tr>\n",
       "      <th>JC099</th>\n",
       "      <td>Montgomery St</td>\n",
       "      <td>1252</td>\n",
       "      <td>41.733333</td>\n",
       "    </tr>\n",
       "    <tr>\n",
       "      <th>JC103</th>\n",
       "      <td>Journal Square</td>\n",
       "      <td>1320</td>\n",
       "      <td>44.000000</td>\n",
       "    </tr>\n",
       "    <tr>\n",
       "      <th>JC019</th>\n",
       "      <td>Hilltop</td>\n",
       "      <td>1357</td>\n",
       "      <td>45.233333</td>\n",
       "    </tr>\n",
       "    <tr>\n",
       "      <th>JC075</th>\n",
       "      <td>Monmouth and 6th</td>\n",
       "      <td>1358</td>\n",
       "      <td>45.266667</td>\n",
       "    </tr>\n",
       "    <tr>\n",
       "      <th>HB507</th>\n",
       "      <td>Adams St &amp; 11 St</td>\n",
       "      <td>1360</td>\n",
       "      <td>45.333333</td>\n",
       "    </tr>\n",
       "    <tr>\n",
       "      <th>HB303</th>\n",
       "      <td>Clinton St &amp; 7 St</td>\n",
       "      <td>1361</td>\n",
       "      <td>45.366667</td>\n",
       "    </tr>\n",
       "    <tr>\n",
       "      <th>JC081</th>\n",
       "      <td>Brunswick &amp; 6th</td>\n",
       "      <td>1361</td>\n",
       "      <td>45.366667</td>\n",
       "    </tr>\n",
       "    <tr>\n",
       "      <th>JC095</th>\n",
       "      <td>Bergen Ave</td>\n",
       "      <td>1366</td>\n",
       "      <td>45.533333</td>\n",
       "    </tr>\n",
       "    <tr>\n",
       "      <th>JC053</th>\n",
       "      <td>Lincoln Park</td>\n",
       "      <td>1386</td>\n",
       "      <td>46.200000</td>\n",
       "    </tr>\n",
       "    <tr>\n",
       "      <th>JC027</th>\n",
       "      <td>Jersey &amp; 6th St</td>\n",
       "      <td>1477</td>\n",
       "      <td>49.233333</td>\n",
       "    </tr>\n",
       "    <tr>\n",
       "      <th>JC024</th>\n",
       "      <td>Pershing Field</td>\n",
       "      <td>1521</td>\n",
       "      <td>50.700000</td>\n",
       "    </tr>\n",
       "    <tr>\n",
       "      <th>JC078</th>\n",
       "      <td>Lafayette Park</td>\n",
       "      <td>1530</td>\n",
       "      <td>51.000000</td>\n",
       "    </tr>\n",
       "    <tr>\n",
       "      <th>JC076</th>\n",
       "      <td>Dixon Mills</td>\n",
       "      <td>1574</td>\n",
       "      <td>52.466667</td>\n",
       "    </tr>\n",
       "    <tr>\n",
       "      <th>JC074</th>\n",
       "      <td>Jersey &amp; 3rd</td>\n",
       "      <td>1715</td>\n",
       "      <td>57.166667</td>\n",
       "    </tr>\n",
       "    <tr>\n",
       "      <th>HB505</th>\n",
       "      <td>Willow Ave &amp; 12 St</td>\n",
       "      <td>1716</td>\n",
       "      <td>57.200000</td>\n",
       "    </tr>\n",
       "    <tr>\n",
       "      <th>HB503</th>\n",
       "      <td>Madison St &amp; 10 St</td>\n",
       "      <td>1755</td>\n",
       "      <td>58.500000</td>\n",
       "    </tr>\n",
       "    <tr>\n",
       "      <th>HB301</th>\n",
       "      <td>4 St &amp; Grand St</td>\n",
       "      <td>1909</td>\n",
       "      <td>63.633333</td>\n",
       "    </tr>\n",
       "    <tr>\n",
       "      <th>JC055</th>\n",
       "      <td>McGinley Square</td>\n",
       "      <td>1932</td>\n",
       "      <td>64.400000</td>\n",
       "    </tr>\n",
       "    <tr>\n",
       "      <th>HB302</th>\n",
       "      <td>6 St &amp; Grand St</td>\n",
       "      <td>1959</td>\n",
       "      <td>65.300000</td>\n",
       "    </tr>\n",
       "    <tr>\n",
       "      <th>JC020</th>\n",
       "      <td>Baldwin at Montgomery</td>\n",
       "      <td>2006</td>\n",
       "      <td>66.866667</td>\n",
       "    </tr>\n",
       "    <tr>\n",
       "      <th>HB305</th>\n",
       "      <td>9 St HBLR - Jackson St &amp; 8 St</td>\n",
       "      <td>2063</td>\n",
       "      <td>68.766667</td>\n",
       "    </tr>\n",
       "    <tr>\n",
       "      <th>JC072</th>\n",
       "      <td>Morris Canal</td>\n",
       "      <td>2141</td>\n",
       "      <td>71.366667</td>\n",
       "    </tr>\n",
       "    <tr>\n",
       "      <th>JC023</th>\n",
       "      <td>Brunswick St</td>\n",
       "      <td>2215</td>\n",
       "      <td>73.833333</td>\n",
       "    </tr>\n",
       "    <tr>\n",
       "      <th>JC082</th>\n",
       "      <td>Manila &amp; 1st</td>\n",
       "      <td>2269</td>\n",
       "      <td>75.633333</td>\n",
       "    </tr>\n",
       "    <tr>\n",
       "      <th>JC102</th>\n",
       "      <td>Grand St</td>\n",
       "      <td>2315</td>\n",
       "      <td>77.166667</td>\n",
       "    </tr>\n",
       "    <tr>\n",
       "      <th>HB304</th>\n",
       "      <td>7 St &amp; Monroe St</td>\n",
       "      <td>2363</td>\n",
       "      <td>78.766667</td>\n",
       "    </tr>\n",
       "    <tr>\n",
       "      <th>HB203</th>\n",
       "      <td>Bloomfield St &amp; 15 St</td>\n",
       "      <td>2392</td>\n",
       "      <td>79.733333</td>\n",
       "    </tr>\n",
       "    <tr>\n",
       "      <th>HB401</th>\n",
       "      <td>Southwest Park - Jackson St &amp; Observer Hwy</td>\n",
       "      <td>2451</td>\n",
       "      <td>81.700000</td>\n",
       "    </tr>\n",
       "    <tr>\n",
       "      <th>JC002</th>\n",
       "      <td>Paulus Hook</td>\n",
       "      <td>2485</td>\n",
       "      <td>82.833333</td>\n",
       "    </tr>\n",
       "    <tr>\n",
       "      <th>JC035</th>\n",
       "      <td>Van Vorst Park</td>\n",
       "      <td>2621</td>\n",
       "      <td>87.366667</td>\n",
       "    </tr>\n",
       "    <tr>\n",
       "      <th>JC011</th>\n",
       "      <td>JC Medical Center</td>\n",
       "      <td>2646</td>\n",
       "      <td>88.200000</td>\n",
       "    </tr>\n",
       "    <tr>\n",
       "      <th>HB501</th>\n",
       "      <td>Columbus Park - Clinton St &amp; 9 St</td>\n",
       "      <td>2879</td>\n",
       "      <td>95.966667</td>\n",
       "    </tr>\n",
       "    <tr>\n",
       "      <th>JC006</th>\n",
       "      <td>Warren St</td>\n",
       "      <td>2893</td>\n",
       "      <td>96.433333</td>\n",
       "    </tr>\n",
       "    <tr>\n",
       "      <th>JC032</th>\n",
       "      <td>Newark Ave</td>\n",
       "      <td>2919</td>\n",
       "      <td>97.300000</td>\n",
       "    </tr>\n",
       "    <tr>\n",
       "      <th>HB506</th>\n",
       "      <td>Grand St &amp; 14 St</td>\n",
       "      <td>2932</td>\n",
       "      <td>97.733333</td>\n",
       "    </tr>\n",
       "    <tr>\n",
       "      <th>HB405</th>\n",
       "      <td>Grand St &amp; 2 St</td>\n",
       "      <td>3006</td>\n",
       "      <td>100.200000</td>\n",
       "    </tr>\n",
       "    <tr>\n",
       "      <th>JC014</th>\n",
       "      <td>Columbus Drive</td>\n",
       "      <td>3078</td>\n",
       "      <td>102.600000</td>\n",
       "    </tr>\n",
       "    <tr>\n",
       "      <th>HB201</th>\n",
       "      <td>12 St &amp; Sinatra Dr N</td>\n",
       "      <td>3511</td>\n",
       "      <td>117.033333</td>\n",
       "    </tr>\n",
       "    <tr>\n",
       "      <th>HB601</th>\n",
       "      <td>Church Sq Park - 5 St &amp; Park Ave</td>\n",
       "      <td>3550</td>\n",
       "      <td>118.333333</td>\n",
       "    </tr>\n",
       "    <tr>\n",
       "      <th>JC003</th>\n",
       "      <td>City Hall</td>\n",
       "      <td>3707</td>\n",
       "      <td>123.566667</td>\n",
       "    </tr>\n",
       "    <tr>\n",
       "      <th>JC052</th>\n",
       "      <td>Liberty Light Rail</td>\n",
       "      <td>3767</td>\n",
       "      <td>125.566667</td>\n",
       "    </tr>\n",
       "    <tr>\n",
       "      <th>JC106</th>\n",
       "      <td>Columbus Dr at Exchange Pl</td>\n",
       "      <td>3970</td>\n",
       "      <td>132.333333</td>\n",
       "    </tr>\n",
       "    <tr>\n",
       "      <th>HB402</th>\n",
       "      <td>Madison St &amp; 1 St</td>\n",
       "      <td>4033</td>\n",
       "      <td>134.433333</td>\n",
       "    </tr>\n",
       "    <tr>\n",
       "      <th>JC098</th>\n",
       "      <td>Washington St</td>\n",
       "      <td>4048</td>\n",
       "      <td>134.933333</td>\n",
       "    </tr>\n",
       "    <tr>\n",
       "      <th>HB502</th>\n",
       "      <td>11 St &amp; Washington St</td>\n",
       "      <td>4070</td>\n",
       "      <td>135.666667</td>\n",
       "    </tr>\n",
       "    <tr>\n",
       "      <th>JC104</th>\n",
       "      <td>Harborside</td>\n",
       "      <td>4161</td>\n",
       "      <td>138.700000</td>\n",
       "    </tr>\n",
       "    <tr>\n",
       "      <th>HB603</th>\n",
       "      <td>8 St &amp; Washington St</td>\n",
       "      <td>4431</td>\n",
       "      <td>147.700000</td>\n",
       "    </tr>\n",
       "    <tr>\n",
       "      <th>JC056</th>\n",
       "      <td>Sip Ave</td>\n",
       "      <td>4487</td>\n",
       "      <td>149.566667</td>\n",
       "    </tr>\n",
       "    <tr>\n",
       "      <th>HB202</th>\n",
       "      <td>14 St Ferry - 14 St &amp; Shipyard Ln</td>\n",
       "      <td>4495</td>\n",
       "      <td>149.833333</td>\n",
       "    </tr>\n",
       "    <tr>\n",
       "      <th>JC013</th>\n",
       "      <td>Marin Light Rail</td>\n",
       "      <td>4506</td>\n",
       "      <td>150.200000</td>\n",
       "    </tr>\n",
       "    <tr>\n",
       "      <th>JC066</th>\n",
       "      <td>Newport PATH</td>\n",
       "      <td>4563</td>\n",
       "      <td>152.100000</td>\n",
       "    </tr>\n",
       "    <tr>\n",
       "      <th>JC105</th>\n",
       "      <td>Hoboken Ave at Monmouth St</td>\n",
       "      <td>4906</td>\n",
       "      <td>163.533333</td>\n",
       "    </tr>\n",
       "    <tr>\n",
       "      <th>JC009</th>\n",
       "      <td>Hamilton Park</td>\n",
       "      <td>5351</td>\n",
       "      <td>178.366667</td>\n",
       "    </tr>\n",
       "    <tr>\n",
       "      <th>JC008</th>\n",
       "      <td>Newport Pkwy</td>\n",
       "      <td>5714</td>\n",
       "      <td>190.466667</td>\n",
       "    </tr>\n",
       "    <tr>\n",
       "      <th>HB101</th>\n",
       "      <td>Hoboken Terminal - Hudson St &amp; Hudson Pl</td>\n",
       "      <td>7492</td>\n",
       "      <td>249.733333</td>\n",
       "    </tr>\n",
       "    <tr>\n",
       "      <th>JC005</th>\n",
       "      <td>Grove St PATH</td>\n",
       "      <td>8563</td>\n",
       "      <td>285.433333</td>\n",
       "    </tr>\n",
       "    <tr>\n",
       "      <th>HB102</th>\n",
       "      <td>Hoboken Terminal - River St &amp; Hudson Pl</td>\n",
       "      <td>8843</td>\n",
       "      <td>294.766667</td>\n",
       "    </tr>\n",
       "    <tr>\n",
       "      <th>HB103</th>\n",
       "      <td>South Waterfront Walkway - Sinatra Dr &amp; 1 St</td>\n",
       "      <td>9232</td>\n",
       "      <td>307.733333</td>\n",
       "    </tr>\n",
       "  </tbody>\n",
       "</table>\n",
       "</div>"
      ],
      "text/plain": [
       "                                            Station Name  Count         Avg\n",
       "Station ID                                                                 \n",
       "JC107                                 Grant Ave & MLK Dr    163    5.433333\n",
       "JC063                                     Jackson Square    264    8.800000\n",
       "JC051                                           Union St    413   13.766667\n",
       "JC108                            Bergen Ave & Stegman St    421   14.033333\n",
       "JC018                                  5 Corners Library    461   15.366667\n",
       "JC065                                             Dey St    485   16.166667\n",
       "JC080                                Leonard Gordon Park    590   19.666667\n",
       "JC094                                       Glenwood Ave    765   25.500000\n",
       "JC084                            Communipaw & Berry Lane    802   26.733333\n",
       "JC034                                    Christ Hospital    893   29.766667\n",
       "JC022                                        Oakland Ave    945   31.500000\n",
       "JC077                                        Astor Place    989   32.966667\n",
       "JC059                                   Heights Elevator   1072   35.733333\n",
       "HB404             Mama Johnson Field - 4 St & Jackson St   1112   37.066667\n",
       "JC057                                     Riverview Park   1129   37.633333\n",
       "JC038                                   Essex Light Rail   1201   40.033333\n",
       "JC099                                      Montgomery St   1252   41.733333\n",
       "JC103                                     Journal Square   1320   44.000000\n",
       "JC019                                            Hilltop   1357   45.233333\n",
       "JC075                                   Monmouth and 6th   1358   45.266667\n",
       "HB507                                   Adams St & 11 St   1360   45.333333\n",
       "HB303                                  Clinton St & 7 St   1361   45.366667\n",
       "JC081                                    Brunswick & 6th   1361   45.366667\n",
       "JC095                                         Bergen Ave   1366   45.533333\n",
       "JC053                                       Lincoln Park   1386   46.200000\n",
       "JC027                                    Jersey & 6th St   1477   49.233333\n",
       "JC024                                     Pershing Field   1521   50.700000\n",
       "JC078                                     Lafayette Park   1530   51.000000\n",
       "JC076                                        Dixon Mills   1574   52.466667\n",
       "JC074                                       Jersey & 3rd   1715   57.166667\n",
       "HB505                                 Willow Ave & 12 St   1716   57.200000\n",
       "HB503                                 Madison St & 10 St   1755   58.500000\n",
       "HB301                                    4 St & Grand St   1909   63.633333\n",
       "JC055                                    McGinley Square   1932   64.400000\n",
       "HB302                                    6 St & Grand St   1959   65.300000\n",
       "JC020                              Baldwin at Montgomery   2006   66.866667\n",
       "HB305                      9 St HBLR - Jackson St & 8 St   2063   68.766667\n",
       "JC072                                       Morris Canal   2141   71.366667\n",
       "JC023                                       Brunswick St   2215   73.833333\n",
       "JC082                                       Manila & 1st   2269   75.633333\n",
       "JC102                                           Grand St   2315   77.166667\n",
       "HB304                                   7 St & Monroe St   2363   78.766667\n",
       "HB203                              Bloomfield St & 15 St   2392   79.733333\n",
       "HB401         Southwest Park - Jackson St & Observer Hwy   2451   81.700000\n",
       "JC002                                        Paulus Hook   2485   82.833333\n",
       "JC035                                     Van Vorst Park   2621   87.366667\n",
       "JC011                                  JC Medical Center   2646   88.200000\n",
       "HB501                  Columbus Park - Clinton St & 9 St   2879   95.966667\n",
       "JC006                                          Warren St   2893   96.433333\n",
       "JC032                                         Newark Ave   2919   97.300000\n",
       "HB506                                   Grand St & 14 St   2932   97.733333\n",
       "HB405                                    Grand St & 2 St   3006  100.200000\n",
       "JC014                                     Columbus Drive   3078  102.600000\n",
       "HB201                               12 St & Sinatra Dr N   3511  117.033333\n",
       "HB601                   Church Sq Park - 5 St & Park Ave   3550  118.333333\n",
       "JC003                                          City Hall   3707  123.566667\n",
       "JC052                                 Liberty Light Rail   3767  125.566667\n",
       "JC106                         Columbus Dr at Exchange Pl   3970  132.333333\n",
       "HB402                                  Madison St & 1 St   4033  134.433333\n",
       "JC098                                      Washington St   4048  134.933333\n",
       "HB502                              11 St & Washington St   4070  135.666667\n",
       "JC104                                         Harborside   4161  138.700000\n",
       "HB603                               8 St & Washington St   4431  147.700000\n",
       "JC056                                            Sip Ave   4487  149.566667\n",
       "HB202                  14 St Ferry - 14 St & Shipyard Ln   4495  149.833333\n",
       "JC013                                   Marin Light Rail   4506  150.200000\n",
       "JC066                                       Newport PATH   4563  152.100000\n",
       "JC105                         Hoboken Ave at Monmouth St   4906  163.533333\n",
       "JC009                                      Hamilton Park   5351  178.366667\n",
       "JC008                                       Newport Pkwy   5714  190.466667\n",
       "HB101           Hoboken Terminal - Hudson St & Hudson Pl   7492  249.733333\n",
       "JC005                                      Grove St PATH   8563  285.433333\n",
       "HB102            Hoboken Terminal - River St & Hudson Pl   8843  294.766667\n",
       "HB103       South Waterfront Walkway - Sinatra Dr & 1 St   9232  307.733333"
      ]
     },
     "execution_count": 96,
     "metadata": {},
     "output_type": "execute_result"
    }
   ],
   "source": [
    "sc_all = station_counts(jc=True)\n",
    "sc_all"
   ]
  },
  {
   "cell_type": "markdown",
   "id": "abd01620",
   "metadata": {},
   "source": [
    "### Monthly sum + Daily avg, weekdays only (all JC+HB)"
   ]
  },
  {
   "cell_type": "code",
   "execution_count": 97,
   "id": "052101af",
   "metadata": {
    "scrolled": true
   },
   "outputs": [
    {
     "data": {
      "text/html": [
       "<div>\n",
       "<style scoped>\n",
       "    .dataframe tbody tr th:only-of-type {\n",
       "        vertical-align: middle;\n",
       "    }\n",
       "\n",
       "    .dataframe tbody tr th {\n",
       "        vertical-align: top;\n",
       "    }\n",
       "\n",
       "    .dataframe thead th {\n",
       "        text-align: right;\n",
       "    }\n",
       "</style>\n",
       "<table border=\"1\" class=\"dataframe\">\n",
       "  <thead>\n",
       "    <tr style=\"text-align: right;\">\n",
       "      <th></th>\n",
       "      <th>Station Name</th>\n",
       "      <th>Count</th>\n",
       "      <th>Avg</th>\n",
       "    </tr>\n",
       "    <tr>\n",
       "      <th>Station ID</th>\n",
       "      <th></th>\n",
       "      <th></th>\n",
       "      <th></th>\n",
       "    </tr>\n",
       "  </thead>\n",
       "  <tbody>\n",
       "    <tr>\n",
       "      <th>JC107</th>\n",
       "      <td>Grant Ave &amp; MLK Dr</td>\n",
       "      <td>107</td>\n",
       "      <td>4.863636</td>\n",
       "    </tr>\n",
       "    <tr>\n",
       "      <th>JC063</th>\n",
       "      <td>Jackson Square</td>\n",
       "      <td>213</td>\n",
       "      <td>9.681818</td>\n",
       "    </tr>\n",
       "    <tr>\n",
       "      <th>JC051</th>\n",
       "      <td>Union St</td>\n",
       "      <td>284</td>\n",
       "      <td>12.909091</td>\n",
       "    </tr>\n",
       "    <tr>\n",
       "      <th>JC018</th>\n",
       "      <td>5 Corners Library</td>\n",
       "      <td>315</td>\n",
       "      <td>14.318182</td>\n",
       "    </tr>\n",
       "    <tr>\n",
       "      <th>JC108</th>\n",
       "      <td>Bergen Ave &amp; Stegman St</td>\n",
       "      <td>329</td>\n",
       "      <td>14.954545</td>\n",
       "    </tr>\n",
       "    <tr>\n",
       "      <th>JC065</th>\n",
       "      <td>Dey St</td>\n",
       "      <td>370</td>\n",
       "      <td>16.818182</td>\n",
       "    </tr>\n",
       "    <tr>\n",
       "      <th>JC080</th>\n",
       "      <td>Leonard Gordon Park</td>\n",
       "      <td>429</td>\n",
       "      <td>19.500000</td>\n",
       "    </tr>\n",
       "    <tr>\n",
       "      <th>JC084</th>\n",
       "      <td>Communipaw &amp; Berry Lane</td>\n",
       "      <td>542</td>\n",
       "      <td>24.636364</td>\n",
       "    </tr>\n",
       "    <tr>\n",
       "      <th>JC094</th>\n",
       "      <td>Glenwood Ave</td>\n",
       "      <td>625</td>\n",
       "      <td>28.409091</td>\n",
       "    </tr>\n",
       "    <tr>\n",
       "      <th>JC034</th>\n",
       "      <td>Christ Hospital</td>\n",
       "      <td>706</td>\n",
       "      <td>32.090909</td>\n",
       "    </tr>\n",
       "    <tr>\n",
       "      <th>JC022</th>\n",
       "      <td>Oakland Ave</td>\n",
       "      <td>749</td>\n",
       "      <td>34.045455</td>\n",
       "    </tr>\n",
       "    <tr>\n",
       "      <th>JC057</th>\n",
       "      <td>Riverview Park</td>\n",
       "      <td>763</td>\n",
       "      <td>34.681818</td>\n",
       "    </tr>\n",
       "    <tr>\n",
       "      <th>JC077</th>\n",
       "      <td>Astor Place</td>\n",
       "      <td>765</td>\n",
       "      <td>34.772727</td>\n",
       "    </tr>\n",
       "    <tr>\n",
       "      <th>HB404</th>\n",
       "      <td>Mama Johnson Field - 4 St &amp; Jackson St</td>\n",
       "      <td>767</td>\n",
       "      <td>34.863636</td>\n",
       "    </tr>\n",
       "    <tr>\n",
       "      <th>JC059</th>\n",
       "      <td>Heights Elevator</td>\n",
       "      <td>803</td>\n",
       "      <td>36.500000</td>\n",
       "    </tr>\n",
       "    <tr>\n",
       "      <th>JC038</th>\n",
       "      <td>Essex Light Rail</td>\n",
       "      <td>841</td>\n",
       "      <td>38.227273</td>\n",
       "    </tr>\n",
       "    <tr>\n",
       "      <th>HB507</th>\n",
       "      <td>Adams St &amp; 11 St</td>\n",
       "      <td>903</td>\n",
       "      <td>41.045455</td>\n",
       "    </tr>\n",
       "    <tr>\n",
       "      <th>JC053</th>\n",
       "      <td>Lincoln Park</td>\n",
       "      <td>959</td>\n",
       "      <td>43.590909</td>\n",
       "    </tr>\n",
       "    <tr>\n",
       "      <th>HB303</th>\n",
       "      <td>Clinton St &amp; 7 St</td>\n",
       "      <td>959</td>\n",
       "      <td>43.590909</td>\n",
       "    </tr>\n",
       "    <tr>\n",
       "      <th>JC099</th>\n",
       "      <td>Montgomery St</td>\n",
       "      <td>963</td>\n",
       "      <td>43.772727</td>\n",
       "    </tr>\n",
       "    <tr>\n",
       "      <th>JC019</th>\n",
       "      <td>Hilltop</td>\n",
       "      <td>1043</td>\n",
       "      <td>47.409091</td>\n",
       "    </tr>\n",
       "    <tr>\n",
       "      <th>JC095</th>\n",
       "      <td>Bergen Ave</td>\n",
       "      <td>1047</td>\n",
       "      <td>47.590909</td>\n",
       "    </tr>\n",
       "    <tr>\n",
       "      <th>JC075</th>\n",
       "      <td>Monmouth and 6th</td>\n",
       "      <td>1049</td>\n",
       "      <td>47.681818</td>\n",
       "    </tr>\n",
       "    <tr>\n",
       "      <th>JC103</th>\n",
       "      <td>Journal Square</td>\n",
       "      <td>1060</td>\n",
       "      <td>48.181818</td>\n",
       "    </tr>\n",
       "    <tr>\n",
       "      <th>HB505</th>\n",
       "      <td>Willow Ave &amp; 12 St</td>\n",
       "      <td>1075</td>\n",
       "      <td>48.863636</td>\n",
       "    </tr>\n",
       "    <tr>\n",
       "      <th>JC078</th>\n",
       "      <td>Lafayette Park</td>\n",
       "      <td>1093</td>\n",
       "      <td>49.681818</td>\n",
       "    </tr>\n",
       "    <tr>\n",
       "      <th>JC081</th>\n",
       "      <td>Brunswick &amp; 6th</td>\n",
       "      <td>1103</td>\n",
       "      <td>50.136364</td>\n",
       "    </tr>\n",
       "    <tr>\n",
       "      <th>JC027</th>\n",
       "      <td>Jersey &amp; 6th St</td>\n",
       "      <td>1143</td>\n",
       "      <td>51.954545</td>\n",
       "    </tr>\n",
       "    <tr>\n",
       "      <th>JC024</th>\n",
       "      <td>Pershing Field</td>\n",
       "      <td>1174</td>\n",
       "      <td>53.363636</td>\n",
       "    </tr>\n",
       "    <tr>\n",
       "      <th>HB503</th>\n",
       "      <td>Madison St &amp; 10 St</td>\n",
       "      <td>1177</td>\n",
       "      <td>53.500000</td>\n",
       "    </tr>\n",
       "    <tr>\n",
       "      <th>JC076</th>\n",
       "      <td>Dixon Mills</td>\n",
       "      <td>1177</td>\n",
       "      <td>53.500000</td>\n",
       "    </tr>\n",
       "    <tr>\n",
       "      <th>JC074</th>\n",
       "      <td>Jersey &amp; 3rd</td>\n",
       "      <td>1195</td>\n",
       "      <td>54.318182</td>\n",
       "    </tr>\n",
       "    <tr>\n",
       "      <th>HB301</th>\n",
       "      <td>4 St &amp; Grand St</td>\n",
       "      <td>1313</td>\n",
       "      <td>59.681818</td>\n",
       "    </tr>\n",
       "    <tr>\n",
       "      <th>HB302</th>\n",
       "      <td>6 St &amp; Grand St</td>\n",
       "      <td>1357</td>\n",
       "      <td>61.681818</td>\n",
       "    </tr>\n",
       "    <tr>\n",
       "      <th>HB203</th>\n",
       "      <td>Bloomfield St &amp; 15 St</td>\n",
       "      <td>1478</td>\n",
       "      <td>67.181818</td>\n",
       "    </tr>\n",
       "    <tr>\n",
       "      <th>HB305</th>\n",
       "      <td>9 St HBLR - Jackson St &amp; 8 St</td>\n",
       "      <td>1508</td>\n",
       "      <td>68.545455</td>\n",
       "    </tr>\n",
       "    <tr>\n",
       "      <th>JC055</th>\n",
       "      <td>McGinley Square</td>\n",
       "      <td>1525</td>\n",
       "      <td>69.318182</td>\n",
       "    </tr>\n",
       "    <tr>\n",
       "      <th>JC072</th>\n",
       "      <td>Morris Canal</td>\n",
       "      <td>1529</td>\n",
       "      <td>69.500000</td>\n",
       "    </tr>\n",
       "    <tr>\n",
       "      <th>JC020</th>\n",
       "      <td>Baldwin at Montgomery</td>\n",
       "      <td>1541</td>\n",
       "      <td>70.045455</td>\n",
       "    </tr>\n",
       "    <tr>\n",
       "      <th>JC102</th>\n",
       "      <td>Grand St</td>\n",
       "      <td>1578</td>\n",
       "      <td>71.727273</td>\n",
       "    </tr>\n",
       "    <tr>\n",
       "      <th>JC023</th>\n",
       "      <td>Brunswick St</td>\n",
       "      <td>1614</td>\n",
       "      <td>73.363636</td>\n",
       "    </tr>\n",
       "    <tr>\n",
       "      <th>JC011</th>\n",
       "      <td>JC Medical Center</td>\n",
       "      <td>1661</td>\n",
       "      <td>75.500000</td>\n",
       "    </tr>\n",
       "    <tr>\n",
       "      <th>HB304</th>\n",
       "      <td>7 St &amp; Monroe St</td>\n",
       "      <td>1685</td>\n",
       "      <td>76.590909</td>\n",
       "    </tr>\n",
       "    <tr>\n",
       "      <th>JC082</th>\n",
       "      <td>Manila &amp; 1st</td>\n",
       "      <td>1690</td>\n",
       "      <td>76.818182</td>\n",
       "    </tr>\n",
       "    <tr>\n",
       "      <th>HB401</th>\n",
       "      <td>Southwest Park - Jackson St &amp; Observer Hwy</td>\n",
       "      <td>1709</td>\n",
       "      <td>77.681818</td>\n",
       "    </tr>\n",
       "    <tr>\n",
       "      <th>JC035</th>\n",
       "      <td>Van Vorst Park</td>\n",
       "      <td>1746</td>\n",
       "      <td>79.363636</td>\n",
       "    </tr>\n",
       "    <tr>\n",
       "      <th>JC002</th>\n",
       "      <td>Paulus Hook</td>\n",
       "      <td>1787</td>\n",
       "      <td>81.227273</td>\n",
       "    </tr>\n",
       "    <tr>\n",
       "      <th>HB506</th>\n",
       "      <td>Grand St &amp; 14 St</td>\n",
       "      <td>1980</td>\n",
       "      <td>90.000000</td>\n",
       "    </tr>\n",
       "    <tr>\n",
       "      <th>HB501</th>\n",
       "      <td>Columbus Park - Clinton St &amp; 9 St</td>\n",
       "      <td>1984</td>\n",
       "      <td>90.181818</td>\n",
       "    </tr>\n",
       "    <tr>\n",
       "      <th>HB405</th>\n",
       "      <td>Grand St &amp; 2 St</td>\n",
       "      <td>2017</td>\n",
       "      <td>91.681818</td>\n",
       "    </tr>\n",
       "    <tr>\n",
       "      <th>JC032</th>\n",
       "      <td>Newark Ave</td>\n",
       "      <td>2049</td>\n",
       "      <td>93.136364</td>\n",
       "    </tr>\n",
       "    <tr>\n",
       "      <th>JC006</th>\n",
       "      <td>Warren St</td>\n",
       "      <td>2114</td>\n",
       "      <td>96.090909</td>\n",
       "    </tr>\n",
       "    <tr>\n",
       "      <th>JC014</th>\n",
       "      <td>Columbus Drive</td>\n",
       "      <td>2129</td>\n",
       "      <td>96.772727</td>\n",
       "    </tr>\n",
       "    <tr>\n",
       "      <th>HB201</th>\n",
       "      <td>12 St &amp; Sinatra Dr N</td>\n",
       "      <td>2231</td>\n",
       "      <td>101.409091</td>\n",
       "    </tr>\n",
       "    <tr>\n",
       "      <th>JC052</th>\n",
       "      <td>Liberty Light Rail</td>\n",
       "      <td>2240</td>\n",
       "      <td>101.818182</td>\n",
       "    </tr>\n",
       "    <tr>\n",
       "      <th>HB601</th>\n",
       "      <td>Church Sq Park - 5 St &amp; Park Ave</td>\n",
       "      <td>2425</td>\n",
       "      <td>110.227273</td>\n",
       "    </tr>\n",
       "    <tr>\n",
       "      <th>JC003</th>\n",
       "      <td>City Hall</td>\n",
       "      <td>2626</td>\n",
       "      <td>119.363636</td>\n",
       "    </tr>\n",
       "    <tr>\n",
       "      <th>JC106</th>\n",
       "      <td>Columbus Dr at Exchange Pl</td>\n",
       "      <td>2700</td>\n",
       "      <td>122.727273</td>\n",
       "    </tr>\n",
       "    <tr>\n",
       "      <th>HB502</th>\n",
       "      <td>11 St &amp; Washington St</td>\n",
       "      <td>2710</td>\n",
       "      <td>123.181818</td>\n",
       "    </tr>\n",
       "    <tr>\n",
       "      <th>HB202</th>\n",
       "      <td>14 St Ferry - 14 St &amp; Shipyard Ln</td>\n",
       "      <td>2712</td>\n",
       "      <td>123.272727</td>\n",
       "    </tr>\n",
       "    <tr>\n",
       "      <th>HB402</th>\n",
       "      <td>Madison St &amp; 1 St</td>\n",
       "      <td>2758</td>\n",
       "      <td>125.363636</td>\n",
       "    </tr>\n",
       "    <tr>\n",
       "      <th>JC104</th>\n",
       "      <td>Harborside</td>\n",
       "      <td>2809</td>\n",
       "      <td>127.681818</td>\n",
       "    </tr>\n",
       "    <tr>\n",
       "      <th>JC098</th>\n",
       "      <td>Washington St</td>\n",
       "      <td>2871</td>\n",
       "      <td>130.500000</td>\n",
       "    </tr>\n",
       "    <tr>\n",
       "      <th>JC013</th>\n",
       "      <td>Marin Light Rail</td>\n",
       "      <td>3073</td>\n",
       "      <td>139.681818</td>\n",
       "    </tr>\n",
       "    <tr>\n",
       "      <th>JC066</th>\n",
       "      <td>Newport PATH</td>\n",
       "      <td>3125</td>\n",
       "      <td>142.045455</td>\n",
       "    </tr>\n",
       "    <tr>\n",
       "      <th>JC105</th>\n",
       "      <td>Hoboken Ave at Monmouth St</td>\n",
       "      <td>3238</td>\n",
       "      <td>147.181818</td>\n",
       "    </tr>\n",
       "    <tr>\n",
       "      <th>HB603</th>\n",
       "      <td>8 St &amp; Washington St</td>\n",
       "      <td>3271</td>\n",
       "      <td>148.681818</td>\n",
       "    </tr>\n",
       "    <tr>\n",
       "      <th>JC056</th>\n",
       "      <td>Sip Ave</td>\n",
       "      <td>3565</td>\n",
       "      <td>162.045455</td>\n",
       "    </tr>\n",
       "    <tr>\n",
       "      <th>JC009</th>\n",
       "      <td>Hamilton Park</td>\n",
       "      <td>3873</td>\n",
       "      <td>176.045455</td>\n",
       "    </tr>\n",
       "    <tr>\n",
       "      <th>JC008</th>\n",
       "      <td>Newport Pkwy</td>\n",
       "      <td>3989</td>\n",
       "      <td>181.318182</td>\n",
       "    </tr>\n",
       "    <tr>\n",
       "      <th>HB101</th>\n",
       "      <td>Hoboken Terminal - Hudson St &amp; Hudson Pl</td>\n",
       "      <td>5119</td>\n",
       "      <td>232.681818</td>\n",
       "    </tr>\n",
       "    <tr>\n",
       "      <th>HB103</th>\n",
       "      <td>South Waterfront Walkway - Sinatra Dr &amp; 1 St</td>\n",
       "      <td>5862</td>\n",
       "      <td>266.454545</td>\n",
       "    </tr>\n",
       "    <tr>\n",
       "      <th>HB102</th>\n",
       "      <td>Hoboken Terminal - River St &amp; Hudson Pl</td>\n",
       "      <td>6318</td>\n",
       "      <td>287.181818</td>\n",
       "    </tr>\n",
       "    <tr>\n",
       "      <th>JC005</th>\n",
       "      <td>Grove St PATH</td>\n",
       "      <td>6495</td>\n",
       "      <td>295.227273</td>\n",
       "    </tr>\n",
       "  </tbody>\n",
       "</table>\n",
       "</div>"
      ],
      "text/plain": [
       "                                            Station Name  Count         Avg\n",
       "Station ID                                                                 \n",
       "JC107                                 Grant Ave & MLK Dr    107    4.863636\n",
       "JC063                                     Jackson Square    213    9.681818\n",
       "JC051                                           Union St    284   12.909091\n",
       "JC018                                  5 Corners Library    315   14.318182\n",
       "JC108                            Bergen Ave & Stegman St    329   14.954545\n",
       "JC065                                             Dey St    370   16.818182\n",
       "JC080                                Leonard Gordon Park    429   19.500000\n",
       "JC084                            Communipaw & Berry Lane    542   24.636364\n",
       "JC094                                       Glenwood Ave    625   28.409091\n",
       "JC034                                    Christ Hospital    706   32.090909\n",
       "JC022                                        Oakland Ave    749   34.045455\n",
       "JC057                                     Riverview Park    763   34.681818\n",
       "JC077                                        Astor Place    765   34.772727\n",
       "HB404             Mama Johnson Field - 4 St & Jackson St    767   34.863636\n",
       "JC059                                   Heights Elevator    803   36.500000\n",
       "JC038                                   Essex Light Rail    841   38.227273\n",
       "HB507                                   Adams St & 11 St    903   41.045455\n",
       "JC053                                       Lincoln Park    959   43.590909\n",
       "HB303                                  Clinton St & 7 St    959   43.590909\n",
       "JC099                                      Montgomery St    963   43.772727\n",
       "JC019                                            Hilltop   1043   47.409091\n",
       "JC095                                         Bergen Ave   1047   47.590909\n",
       "JC075                                   Monmouth and 6th   1049   47.681818\n",
       "JC103                                     Journal Square   1060   48.181818\n",
       "HB505                                 Willow Ave & 12 St   1075   48.863636\n",
       "JC078                                     Lafayette Park   1093   49.681818\n",
       "JC081                                    Brunswick & 6th   1103   50.136364\n",
       "JC027                                    Jersey & 6th St   1143   51.954545\n",
       "JC024                                     Pershing Field   1174   53.363636\n",
       "HB503                                 Madison St & 10 St   1177   53.500000\n",
       "JC076                                        Dixon Mills   1177   53.500000\n",
       "JC074                                       Jersey & 3rd   1195   54.318182\n",
       "HB301                                    4 St & Grand St   1313   59.681818\n",
       "HB302                                    6 St & Grand St   1357   61.681818\n",
       "HB203                              Bloomfield St & 15 St   1478   67.181818\n",
       "HB305                      9 St HBLR - Jackson St & 8 St   1508   68.545455\n",
       "JC055                                    McGinley Square   1525   69.318182\n",
       "JC072                                       Morris Canal   1529   69.500000\n",
       "JC020                              Baldwin at Montgomery   1541   70.045455\n",
       "JC102                                           Grand St   1578   71.727273\n",
       "JC023                                       Brunswick St   1614   73.363636\n",
       "JC011                                  JC Medical Center   1661   75.500000\n",
       "HB304                                   7 St & Monroe St   1685   76.590909\n",
       "JC082                                       Manila & 1st   1690   76.818182\n",
       "HB401         Southwest Park - Jackson St & Observer Hwy   1709   77.681818\n",
       "JC035                                     Van Vorst Park   1746   79.363636\n",
       "JC002                                        Paulus Hook   1787   81.227273\n",
       "HB506                                   Grand St & 14 St   1980   90.000000\n",
       "HB501                  Columbus Park - Clinton St & 9 St   1984   90.181818\n",
       "HB405                                    Grand St & 2 St   2017   91.681818\n",
       "JC032                                         Newark Ave   2049   93.136364\n",
       "JC006                                          Warren St   2114   96.090909\n",
       "JC014                                     Columbus Drive   2129   96.772727\n",
       "HB201                               12 St & Sinatra Dr N   2231  101.409091\n",
       "JC052                                 Liberty Light Rail   2240  101.818182\n",
       "HB601                   Church Sq Park - 5 St & Park Ave   2425  110.227273\n",
       "JC003                                          City Hall   2626  119.363636\n",
       "JC106                         Columbus Dr at Exchange Pl   2700  122.727273\n",
       "HB502                              11 St & Washington St   2710  123.181818\n",
       "HB202                  14 St Ferry - 14 St & Shipyard Ln   2712  123.272727\n",
       "HB402                                  Madison St & 1 St   2758  125.363636\n",
       "JC104                                         Harborside   2809  127.681818\n",
       "JC098                                      Washington St   2871  130.500000\n",
       "JC013                                   Marin Light Rail   3073  139.681818\n",
       "JC066                                       Newport PATH   3125  142.045455\n",
       "JC105                         Hoboken Ave at Monmouth St   3238  147.181818\n",
       "HB603                               8 St & Washington St   3271  148.681818\n",
       "JC056                                            Sip Ave   3565  162.045455\n",
       "JC009                                      Hamilton Park   3873  176.045455\n",
       "JC008                                       Newport Pkwy   3989  181.318182\n",
       "HB101           Hoboken Terminal - Hudson St & Hudson Pl   5119  232.681818\n",
       "HB103       South Waterfront Walkway - Sinatra Dr & 1 St   5862  266.454545\n",
       "HB102            Hoboken Terminal - River St & Hudson Pl   6318  287.181818\n",
       "JC005                                      Grove St PATH   6495  295.227273"
      ]
     },
     "execution_count": 97,
     "metadata": {},
     "output_type": "execute_result"
    }
   ],
   "source": [
    "sc_wkdy = station_counts(jc=True, weekdays=True)\n",
    "sc_wkdy"
   ]
  },
  {
   "cell_type": "markdown",
   "id": "a2a08c37",
   "metadata": {},
   "source": [
    "### Monthly sum + Daily avg, weekends only (all JC+HB)"
   ]
  },
  {
   "cell_type": "code",
   "execution_count": 98,
   "id": "ada38a5c",
   "metadata": {
    "scrolled": true
   },
   "outputs": [
    {
     "data": {
      "text/html": [
       "<div>\n",
       "<style scoped>\n",
       "    .dataframe tbody tr th:only-of-type {\n",
       "        vertical-align: middle;\n",
       "    }\n",
       "\n",
       "    .dataframe tbody tr th {\n",
       "        vertical-align: top;\n",
       "    }\n",
       "\n",
       "    .dataframe thead th {\n",
       "        text-align: right;\n",
       "    }\n",
       "</style>\n",
       "<table border=\"1\" class=\"dataframe\">\n",
       "  <thead>\n",
       "    <tr style=\"text-align: right;\">\n",
       "      <th></th>\n",
       "      <th>Station Name</th>\n",
       "      <th>Count</th>\n",
       "      <th>Avg</th>\n",
       "    </tr>\n",
       "    <tr>\n",
       "      <th>Station ID</th>\n",
       "      <th></th>\n",
       "      <th></th>\n",
       "      <th></th>\n",
       "    </tr>\n",
       "  </thead>\n",
       "  <tbody>\n",
       "    <tr>\n",
       "      <th>JC063</th>\n",
       "      <td>Jackson Square</td>\n",
       "      <td>51</td>\n",
       "      <td>6.375</td>\n",
       "    </tr>\n",
       "    <tr>\n",
       "      <th>JC107</th>\n",
       "      <td>Grant Ave &amp; MLK Dr</td>\n",
       "      <td>56</td>\n",
       "      <td>7.000</td>\n",
       "    </tr>\n",
       "    <tr>\n",
       "      <th>JC108</th>\n",
       "      <td>Bergen Ave &amp; Stegman St</td>\n",
       "      <td>92</td>\n",
       "      <td>11.500</td>\n",
       "    </tr>\n",
       "    <tr>\n",
       "      <th>JC065</th>\n",
       "      <td>Dey St</td>\n",
       "      <td>115</td>\n",
       "      <td>14.375</td>\n",
       "    </tr>\n",
       "    <tr>\n",
       "      <th>JC051</th>\n",
       "      <td>Union St</td>\n",
       "      <td>129</td>\n",
       "      <td>16.125</td>\n",
       "    </tr>\n",
       "    <tr>\n",
       "      <th>JC094</th>\n",
       "      <td>Glenwood Ave</td>\n",
       "      <td>140</td>\n",
       "      <td>17.500</td>\n",
       "    </tr>\n",
       "    <tr>\n",
       "      <th>JC018</th>\n",
       "      <td>5 Corners Library</td>\n",
       "      <td>146</td>\n",
       "      <td>18.250</td>\n",
       "    </tr>\n",
       "    <tr>\n",
       "      <th>JC080</th>\n",
       "      <td>Leonard Gordon Park</td>\n",
       "      <td>161</td>\n",
       "      <td>20.125</td>\n",
       "    </tr>\n",
       "    <tr>\n",
       "      <th>JC034</th>\n",
       "      <td>Christ Hospital</td>\n",
       "      <td>187</td>\n",
       "      <td>23.375</td>\n",
       "    </tr>\n",
       "    <tr>\n",
       "      <th>JC022</th>\n",
       "      <td>Oakland Ave</td>\n",
       "      <td>196</td>\n",
       "      <td>24.500</td>\n",
       "    </tr>\n",
       "    <tr>\n",
       "      <th>JC077</th>\n",
       "      <td>Astor Place</td>\n",
       "      <td>224</td>\n",
       "      <td>28.000</td>\n",
       "    </tr>\n",
       "    <tr>\n",
       "      <th>JC081</th>\n",
       "      <td>Brunswick &amp; 6th</td>\n",
       "      <td>258</td>\n",
       "      <td>32.250</td>\n",
       "    </tr>\n",
       "    <tr>\n",
       "      <th>JC103</th>\n",
       "      <td>Journal Square</td>\n",
       "      <td>260</td>\n",
       "      <td>32.500</td>\n",
       "    </tr>\n",
       "    <tr>\n",
       "      <th>JC084</th>\n",
       "      <td>Communipaw &amp; Berry Lane</td>\n",
       "      <td>260</td>\n",
       "      <td>32.500</td>\n",
       "    </tr>\n",
       "    <tr>\n",
       "      <th>JC059</th>\n",
       "      <td>Heights Elevator</td>\n",
       "      <td>269</td>\n",
       "      <td>33.625</td>\n",
       "    </tr>\n",
       "    <tr>\n",
       "      <th>JC099</th>\n",
       "      <td>Montgomery St</td>\n",
       "      <td>289</td>\n",
       "      <td>36.125</td>\n",
       "    </tr>\n",
       "    <tr>\n",
       "      <th>JC075</th>\n",
       "      <td>Monmouth and 6th</td>\n",
       "      <td>309</td>\n",
       "      <td>38.625</td>\n",
       "    </tr>\n",
       "    <tr>\n",
       "      <th>JC019</th>\n",
       "      <td>Hilltop</td>\n",
       "      <td>314</td>\n",
       "      <td>39.250</td>\n",
       "    </tr>\n",
       "    <tr>\n",
       "      <th>JC095</th>\n",
       "      <td>Bergen Ave</td>\n",
       "      <td>319</td>\n",
       "      <td>39.875</td>\n",
       "    </tr>\n",
       "    <tr>\n",
       "      <th>JC027</th>\n",
       "      <td>Jersey &amp; 6th St</td>\n",
       "      <td>334</td>\n",
       "      <td>41.750</td>\n",
       "    </tr>\n",
       "    <tr>\n",
       "      <th>HB404</th>\n",
       "      <td>Mama Johnson Field - 4 St &amp; Jackson St</td>\n",
       "      <td>345</td>\n",
       "      <td>43.125</td>\n",
       "    </tr>\n",
       "    <tr>\n",
       "      <th>JC024</th>\n",
       "      <td>Pershing Field</td>\n",
       "      <td>347</td>\n",
       "      <td>43.375</td>\n",
       "    </tr>\n",
       "    <tr>\n",
       "      <th>JC038</th>\n",
       "      <td>Essex Light Rail</td>\n",
       "      <td>360</td>\n",
       "      <td>45.000</td>\n",
       "    </tr>\n",
       "    <tr>\n",
       "      <th>JC057</th>\n",
       "      <td>Riverview Park</td>\n",
       "      <td>366</td>\n",
       "      <td>45.750</td>\n",
       "    </tr>\n",
       "    <tr>\n",
       "      <th>JC076</th>\n",
       "      <td>Dixon Mills</td>\n",
       "      <td>397</td>\n",
       "      <td>49.625</td>\n",
       "    </tr>\n",
       "    <tr>\n",
       "      <th>HB303</th>\n",
       "      <td>Clinton St &amp; 7 St</td>\n",
       "      <td>402</td>\n",
       "      <td>50.250</td>\n",
       "    </tr>\n",
       "    <tr>\n",
       "      <th>JC055</th>\n",
       "      <td>McGinley Square</td>\n",
       "      <td>407</td>\n",
       "      <td>50.875</td>\n",
       "    </tr>\n",
       "    <tr>\n",
       "      <th>JC053</th>\n",
       "      <td>Lincoln Park</td>\n",
       "      <td>427</td>\n",
       "      <td>53.375</td>\n",
       "    </tr>\n",
       "    <tr>\n",
       "      <th>JC078</th>\n",
       "      <td>Lafayette Park</td>\n",
       "      <td>437</td>\n",
       "      <td>54.625</td>\n",
       "    </tr>\n",
       "    <tr>\n",
       "      <th>HB507</th>\n",
       "      <td>Adams St &amp; 11 St</td>\n",
       "      <td>457</td>\n",
       "      <td>57.125</td>\n",
       "    </tr>\n",
       "    <tr>\n",
       "      <th>JC020</th>\n",
       "      <td>Baldwin at Montgomery</td>\n",
       "      <td>465</td>\n",
       "      <td>58.125</td>\n",
       "    </tr>\n",
       "    <tr>\n",
       "      <th>JC074</th>\n",
       "      <td>Jersey &amp; 3rd</td>\n",
       "      <td>520</td>\n",
       "      <td>65.000</td>\n",
       "    </tr>\n",
       "    <tr>\n",
       "      <th>HB305</th>\n",
       "      <td>9 St HBLR - Jackson St &amp; 8 St</td>\n",
       "      <td>555</td>\n",
       "      <td>69.375</td>\n",
       "    </tr>\n",
       "    <tr>\n",
       "      <th>HB503</th>\n",
       "      <td>Madison St &amp; 10 St</td>\n",
       "      <td>578</td>\n",
       "      <td>72.250</td>\n",
       "    </tr>\n",
       "    <tr>\n",
       "      <th>JC082</th>\n",
       "      <td>Manila &amp; 1st</td>\n",
       "      <td>579</td>\n",
       "      <td>72.375</td>\n",
       "    </tr>\n",
       "    <tr>\n",
       "      <th>HB301</th>\n",
       "      <td>4 St &amp; Grand St</td>\n",
       "      <td>596</td>\n",
       "      <td>74.500</td>\n",
       "    </tr>\n",
       "    <tr>\n",
       "      <th>JC023</th>\n",
       "      <td>Brunswick St</td>\n",
       "      <td>601</td>\n",
       "      <td>75.125</td>\n",
       "    </tr>\n",
       "    <tr>\n",
       "      <th>HB302</th>\n",
       "      <td>6 St &amp; Grand St</td>\n",
       "      <td>602</td>\n",
       "      <td>75.250</td>\n",
       "    </tr>\n",
       "    <tr>\n",
       "      <th>JC072</th>\n",
       "      <td>Morris Canal</td>\n",
       "      <td>612</td>\n",
       "      <td>76.500</td>\n",
       "    </tr>\n",
       "    <tr>\n",
       "      <th>HB505</th>\n",
       "      <td>Willow Ave &amp; 12 St</td>\n",
       "      <td>641</td>\n",
       "      <td>80.125</td>\n",
       "    </tr>\n",
       "    <tr>\n",
       "      <th>HB304</th>\n",
       "      <td>7 St &amp; Monroe St</td>\n",
       "      <td>678</td>\n",
       "      <td>84.750</td>\n",
       "    </tr>\n",
       "    <tr>\n",
       "      <th>JC002</th>\n",
       "      <td>Paulus Hook</td>\n",
       "      <td>698</td>\n",
       "      <td>87.250</td>\n",
       "    </tr>\n",
       "    <tr>\n",
       "      <th>JC102</th>\n",
       "      <td>Grand St</td>\n",
       "      <td>737</td>\n",
       "      <td>92.125</td>\n",
       "    </tr>\n",
       "    <tr>\n",
       "      <th>HB401</th>\n",
       "      <td>Southwest Park - Jackson St &amp; Observer Hwy</td>\n",
       "      <td>742</td>\n",
       "      <td>92.750</td>\n",
       "    </tr>\n",
       "    <tr>\n",
       "      <th>JC006</th>\n",
       "      <td>Warren St</td>\n",
       "      <td>779</td>\n",
       "      <td>97.375</td>\n",
       "    </tr>\n",
       "    <tr>\n",
       "      <th>JC032</th>\n",
       "      <td>Newark Ave</td>\n",
       "      <td>870</td>\n",
       "      <td>108.750</td>\n",
       "    </tr>\n",
       "    <tr>\n",
       "      <th>JC035</th>\n",
       "      <td>Van Vorst Park</td>\n",
       "      <td>875</td>\n",
       "      <td>109.375</td>\n",
       "    </tr>\n",
       "    <tr>\n",
       "      <th>HB501</th>\n",
       "      <td>Columbus Park - Clinton St &amp; 9 St</td>\n",
       "      <td>895</td>\n",
       "      <td>111.875</td>\n",
       "    </tr>\n",
       "    <tr>\n",
       "      <th>HB203</th>\n",
       "      <td>Bloomfield St &amp; 15 St</td>\n",
       "      <td>914</td>\n",
       "      <td>114.250</td>\n",
       "    </tr>\n",
       "    <tr>\n",
       "      <th>JC056</th>\n",
       "      <td>Sip Ave</td>\n",
       "      <td>922</td>\n",
       "      <td>115.250</td>\n",
       "    </tr>\n",
       "    <tr>\n",
       "      <th>JC014</th>\n",
       "      <td>Columbus Drive</td>\n",
       "      <td>949</td>\n",
       "      <td>118.625</td>\n",
       "    </tr>\n",
       "    <tr>\n",
       "      <th>HB506</th>\n",
       "      <td>Grand St &amp; 14 St</td>\n",
       "      <td>952</td>\n",
       "      <td>119.000</td>\n",
       "    </tr>\n",
       "    <tr>\n",
       "      <th>JC011</th>\n",
       "      <td>JC Medical Center</td>\n",
       "      <td>985</td>\n",
       "      <td>123.125</td>\n",
       "    </tr>\n",
       "    <tr>\n",
       "      <th>HB405</th>\n",
       "      <td>Grand St &amp; 2 St</td>\n",
       "      <td>989</td>\n",
       "      <td>123.625</td>\n",
       "    </tr>\n",
       "    <tr>\n",
       "      <th>JC003</th>\n",
       "      <td>City Hall</td>\n",
       "      <td>1081</td>\n",
       "      <td>135.125</td>\n",
       "    </tr>\n",
       "    <tr>\n",
       "      <th>HB601</th>\n",
       "      <td>Church Sq Park - 5 St &amp; Park Ave</td>\n",
       "      <td>1125</td>\n",
       "      <td>140.625</td>\n",
       "    </tr>\n",
       "    <tr>\n",
       "      <th>HB603</th>\n",
       "      <td>8 St &amp; Washington St</td>\n",
       "      <td>1160</td>\n",
       "      <td>145.000</td>\n",
       "    </tr>\n",
       "    <tr>\n",
       "      <th>JC098</th>\n",
       "      <td>Washington St</td>\n",
       "      <td>1177</td>\n",
       "      <td>147.125</td>\n",
       "    </tr>\n",
       "    <tr>\n",
       "      <th>JC106</th>\n",
       "      <td>Columbus Dr at Exchange Pl</td>\n",
       "      <td>1270</td>\n",
       "      <td>158.750</td>\n",
       "    </tr>\n",
       "    <tr>\n",
       "      <th>HB402</th>\n",
       "      <td>Madison St &amp; 1 St</td>\n",
       "      <td>1275</td>\n",
       "      <td>159.375</td>\n",
       "    </tr>\n",
       "    <tr>\n",
       "      <th>HB201</th>\n",
       "      <td>12 St &amp; Sinatra Dr N</td>\n",
       "      <td>1280</td>\n",
       "      <td>160.000</td>\n",
       "    </tr>\n",
       "    <tr>\n",
       "      <th>JC104</th>\n",
       "      <td>Harborside</td>\n",
       "      <td>1352</td>\n",
       "      <td>169.000</td>\n",
       "    </tr>\n",
       "    <tr>\n",
       "      <th>HB502</th>\n",
       "      <td>11 St &amp; Washington St</td>\n",
       "      <td>1360</td>\n",
       "      <td>170.000</td>\n",
       "    </tr>\n",
       "    <tr>\n",
       "      <th>JC013</th>\n",
       "      <td>Marin Light Rail</td>\n",
       "      <td>1433</td>\n",
       "      <td>179.125</td>\n",
       "    </tr>\n",
       "    <tr>\n",
       "      <th>JC066</th>\n",
       "      <td>Newport PATH</td>\n",
       "      <td>1438</td>\n",
       "      <td>179.750</td>\n",
       "    </tr>\n",
       "    <tr>\n",
       "      <th>JC009</th>\n",
       "      <td>Hamilton Park</td>\n",
       "      <td>1478</td>\n",
       "      <td>184.750</td>\n",
       "    </tr>\n",
       "    <tr>\n",
       "      <th>JC052</th>\n",
       "      <td>Liberty Light Rail</td>\n",
       "      <td>1527</td>\n",
       "      <td>190.875</td>\n",
       "    </tr>\n",
       "    <tr>\n",
       "      <th>JC105</th>\n",
       "      <td>Hoboken Ave at Monmouth St</td>\n",
       "      <td>1668</td>\n",
       "      <td>208.500</td>\n",
       "    </tr>\n",
       "    <tr>\n",
       "      <th>JC008</th>\n",
       "      <td>Newport Pkwy</td>\n",
       "      <td>1725</td>\n",
       "      <td>215.625</td>\n",
       "    </tr>\n",
       "    <tr>\n",
       "      <th>HB202</th>\n",
       "      <td>14 St Ferry - 14 St &amp; Shipyard Ln</td>\n",
       "      <td>1783</td>\n",
       "      <td>222.875</td>\n",
       "    </tr>\n",
       "    <tr>\n",
       "      <th>JC005</th>\n",
       "      <td>Grove St PATH</td>\n",
       "      <td>2068</td>\n",
       "      <td>258.500</td>\n",
       "    </tr>\n",
       "    <tr>\n",
       "      <th>HB101</th>\n",
       "      <td>Hoboken Terminal - Hudson St &amp; Hudson Pl</td>\n",
       "      <td>2373</td>\n",
       "      <td>296.625</td>\n",
       "    </tr>\n",
       "    <tr>\n",
       "      <th>HB102</th>\n",
       "      <td>Hoboken Terminal - River St &amp; Hudson Pl</td>\n",
       "      <td>2525</td>\n",
       "      <td>315.625</td>\n",
       "    </tr>\n",
       "    <tr>\n",
       "      <th>HB103</th>\n",
       "      <td>South Waterfront Walkway - Sinatra Dr &amp; 1 St</td>\n",
       "      <td>3370</td>\n",
       "      <td>421.250</td>\n",
       "    </tr>\n",
       "  </tbody>\n",
       "</table>\n",
       "</div>"
      ],
      "text/plain": [
       "                                            Station Name  Count      Avg\n",
       "Station ID                                                              \n",
       "JC063                                     Jackson Square     51    6.375\n",
       "JC107                                 Grant Ave & MLK Dr     56    7.000\n",
       "JC108                            Bergen Ave & Stegman St     92   11.500\n",
       "JC065                                             Dey St    115   14.375\n",
       "JC051                                           Union St    129   16.125\n",
       "JC094                                       Glenwood Ave    140   17.500\n",
       "JC018                                  5 Corners Library    146   18.250\n",
       "JC080                                Leonard Gordon Park    161   20.125\n",
       "JC034                                    Christ Hospital    187   23.375\n",
       "JC022                                        Oakland Ave    196   24.500\n",
       "JC077                                        Astor Place    224   28.000\n",
       "JC081                                    Brunswick & 6th    258   32.250\n",
       "JC103                                     Journal Square    260   32.500\n",
       "JC084                            Communipaw & Berry Lane    260   32.500\n",
       "JC059                                   Heights Elevator    269   33.625\n",
       "JC099                                      Montgomery St    289   36.125\n",
       "JC075                                   Monmouth and 6th    309   38.625\n",
       "JC019                                            Hilltop    314   39.250\n",
       "JC095                                         Bergen Ave    319   39.875\n",
       "JC027                                    Jersey & 6th St    334   41.750\n",
       "HB404             Mama Johnson Field - 4 St & Jackson St    345   43.125\n",
       "JC024                                     Pershing Field    347   43.375\n",
       "JC038                                   Essex Light Rail    360   45.000\n",
       "JC057                                     Riverview Park    366   45.750\n",
       "JC076                                        Dixon Mills    397   49.625\n",
       "HB303                                  Clinton St & 7 St    402   50.250\n",
       "JC055                                    McGinley Square    407   50.875\n",
       "JC053                                       Lincoln Park    427   53.375\n",
       "JC078                                     Lafayette Park    437   54.625\n",
       "HB507                                   Adams St & 11 St    457   57.125\n",
       "JC020                              Baldwin at Montgomery    465   58.125\n",
       "JC074                                       Jersey & 3rd    520   65.000\n",
       "HB305                      9 St HBLR - Jackson St & 8 St    555   69.375\n",
       "HB503                                 Madison St & 10 St    578   72.250\n",
       "JC082                                       Manila & 1st    579   72.375\n",
       "HB301                                    4 St & Grand St    596   74.500\n",
       "JC023                                       Brunswick St    601   75.125\n",
       "HB302                                    6 St & Grand St    602   75.250\n",
       "JC072                                       Morris Canal    612   76.500\n",
       "HB505                                 Willow Ave & 12 St    641   80.125\n",
       "HB304                                   7 St & Monroe St    678   84.750\n",
       "JC002                                        Paulus Hook    698   87.250\n",
       "JC102                                           Grand St    737   92.125\n",
       "HB401         Southwest Park - Jackson St & Observer Hwy    742   92.750\n",
       "JC006                                          Warren St    779   97.375\n",
       "JC032                                         Newark Ave    870  108.750\n",
       "JC035                                     Van Vorst Park    875  109.375\n",
       "HB501                  Columbus Park - Clinton St & 9 St    895  111.875\n",
       "HB203                              Bloomfield St & 15 St    914  114.250\n",
       "JC056                                            Sip Ave    922  115.250\n",
       "JC014                                     Columbus Drive    949  118.625\n",
       "HB506                                   Grand St & 14 St    952  119.000\n",
       "JC011                                  JC Medical Center    985  123.125\n",
       "HB405                                    Grand St & 2 St    989  123.625\n",
       "JC003                                          City Hall   1081  135.125\n",
       "HB601                   Church Sq Park - 5 St & Park Ave   1125  140.625\n",
       "HB603                               8 St & Washington St   1160  145.000\n",
       "JC098                                      Washington St   1177  147.125\n",
       "JC106                         Columbus Dr at Exchange Pl   1270  158.750\n",
       "HB402                                  Madison St & 1 St   1275  159.375\n",
       "HB201                               12 St & Sinatra Dr N   1280  160.000\n",
       "JC104                                         Harborside   1352  169.000\n",
       "HB502                              11 St & Washington St   1360  170.000\n",
       "JC013                                   Marin Light Rail   1433  179.125\n",
       "JC066                                       Newport PATH   1438  179.750\n",
       "JC009                                      Hamilton Park   1478  184.750\n",
       "JC052                                 Liberty Light Rail   1527  190.875\n",
       "JC105                         Hoboken Ave at Monmouth St   1668  208.500\n",
       "JC008                                       Newport Pkwy   1725  215.625\n",
       "HB202                  14 St Ferry - 14 St & Shipyard Ln   1783  222.875\n",
       "JC005                                      Grove St PATH   2068  258.500\n",
       "HB101           Hoboken Terminal - Hudson St & Hudson Pl   2373  296.625\n",
       "HB102            Hoboken Terminal - River St & Hudson Pl   2525  315.625\n",
       "HB103       South Waterfront Walkway - Sinatra Dr & 1 St   3370  421.250"
      ]
     },
     "execution_count": 98,
     "metadata": {},
     "output_type": "execute_result"
    }
   ],
   "source": [
    "sc_wknd = station_counts(jc=True, weekdays=False)\n",
    "sc_wknd"
   ]
  },
  {
   "cell_type": "markdown",
   "id": "e7e531c0",
   "metadata": {},
   "source": [
    "### Busiest 5 stations"
   ]
  },
  {
   "cell_type": "code",
   "execution_count": 108,
   "id": "6afcee7b",
   "metadata": {},
   "outputs": [
    {
     "data": {
      "text/plain": [
       "Station ID\n",
       "JC008                                    Newport Pkwy\n",
       "HB101        Hoboken Terminal - Hudson St & Hudson Pl\n",
       "JC005                                   Grove St PATH\n",
       "HB102         Hoboken Terminal - River St & Hudson Pl\n",
       "HB103    South Waterfront Walkway - Sinatra Dr & 1 St\n",
       "Name: Station Name, dtype: object"
      ]
     },
     "execution_count": 108,
     "metadata": {},
     "output_type": "execute_result"
    }
   ],
   "source": [
    "top_stations = sc_all.iloc[-5:]['Station Name']\n",
    "top_stations\n",
    "# top_stations = pd.concat([sc_all.iloc[-5:], sc_wkdy.iloc[-5:], sc_wknd.iloc[-5:]])\n",
    "# top_stations.index.drop_duplicates()"
   ]
  },
  {
   "cell_type": "markdown",
   "id": "ed0137bf",
   "metadata": {},
   "source": [
    "### Daily dockings (start+end), top 5 JC+HB stations"
   ]
  },
  {
   "cell_type": "code",
   "execution_count": 139,
   "id": "35489407",
   "metadata": {},
   "outputs": [
    {
     "data": {
      "text/html": [
       "<div>\n",
       "<style scoped>\n",
       "    .dataframe tbody tr th:only-of-type {\n",
       "        vertical-align: middle;\n",
       "    }\n",
       "\n",
       "    .dataframe tbody tr th {\n",
       "        vertical-align: top;\n",
       "    }\n",
       "\n",
       "    .dataframe thead th {\n",
       "        text-align: right;\n",
       "    }\n",
       "</style>\n",
       "<table border=\"1\" class=\"dataframe\">\n",
       "  <thead>\n",
       "    <tr style=\"text-align: right;\">\n",
       "      <th></th>\n",
       "      <th>Station Name</th>\n",
       "      <th>Day</th>\n",
       "      <th>Count</th>\n",
       "      <th>Date</th>\n",
       "      <th>Weekday</th>\n",
       "    </tr>\n",
       "    <tr>\n",
       "      <th>Station ID</th>\n",
       "      <th></th>\n",
       "      <th></th>\n",
       "      <th></th>\n",
       "      <th></th>\n",
       "      <th></th>\n",
       "    </tr>\n",
       "  </thead>\n",
       "  <tbody>\n",
       "    <tr>\n",
       "      <th>JC008</th>\n",
       "      <td>Newport Pkwy</td>\n",
       "      <td>1</td>\n",
       "      <td>67</td>\n",
       "      <td>2021-09-01</td>\n",
       "      <td>True</td>\n",
       "    </tr>\n",
       "    <tr>\n",
       "      <th>HB103</th>\n",
       "      <td>South Waterfront Walkway - Sinatra Dr &amp; 1 St</td>\n",
       "      <td>1</td>\n",
       "      <td>76</td>\n",
       "      <td>2021-09-01</td>\n",
       "      <td>True</td>\n",
       "    </tr>\n",
       "    <tr>\n",
       "      <th>JC005</th>\n",
       "      <td>Grove St PATH</td>\n",
       "      <td>1</td>\n",
       "      <td>94</td>\n",
       "      <td>2021-09-01</td>\n",
       "      <td>True</td>\n",
       "    </tr>\n",
       "    <tr>\n",
       "      <th>HB102</th>\n",
       "      <td>Hoboken Terminal - River St &amp; Hudson Pl</td>\n",
       "      <td>1</td>\n",
       "      <td>103</td>\n",
       "      <td>2021-09-01</td>\n",
       "      <td>True</td>\n",
       "    </tr>\n",
       "    <tr>\n",
       "      <th>HB101</th>\n",
       "      <td>Hoboken Terminal - Hudson St &amp; Hudson Pl</td>\n",
       "      <td>1</td>\n",
       "      <td>142</td>\n",
       "      <td>2021-09-01</td>\n",
       "      <td>True</td>\n",
       "    </tr>\n",
       "    <tr>\n",
       "      <th>...</th>\n",
       "      <td>...</td>\n",
       "      <td>...</td>\n",
       "      <td>...</td>\n",
       "      <td>...</td>\n",
       "      <td>...</td>\n",
       "    </tr>\n",
       "    <tr>\n",
       "      <th>HB102</th>\n",
       "      <td>Hoboken Terminal - River St &amp; Hudson Pl</td>\n",
       "      <td>30</td>\n",
       "      <td>316</td>\n",
       "      <td>2021-09-30</td>\n",
       "      <td>True</td>\n",
       "    </tr>\n",
       "    <tr>\n",
       "      <th>HB101</th>\n",
       "      <td>Hoboken Terminal - Hudson St &amp; Hudson Pl</td>\n",
       "      <td>30</td>\n",
       "      <td>249</td>\n",
       "      <td>2021-09-30</td>\n",
       "      <td>True</td>\n",
       "    </tr>\n",
       "    <tr>\n",
       "      <th>HB103</th>\n",
       "      <td>South Waterfront Walkway - Sinatra Dr &amp; 1 St</td>\n",
       "      <td>30</td>\n",
       "      <td>227</td>\n",
       "      <td>2021-09-30</td>\n",
       "      <td>True</td>\n",
       "    </tr>\n",
       "    <tr>\n",
       "      <th>JC008</th>\n",
       "      <td>Newport Pkwy</td>\n",
       "      <td>30</td>\n",
       "      <td>165</td>\n",
       "      <td>2021-09-30</td>\n",
       "      <td>True</td>\n",
       "    </tr>\n",
       "    <tr>\n",
       "      <th>JC005</th>\n",
       "      <td>Grove St PATH</td>\n",
       "      <td>30</td>\n",
       "      <td>327</td>\n",
       "      <td>2021-09-30</td>\n",
       "      <td>True</td>\n",
       "    </tr>\n",
       "  </tbody>\n",
       "</table>\n",
       "<p>150 rows × 5 columns</p>\n",
       "</div>"
      ],
      "text/plain": [
       "                                            Station Name  Day  Count  \\\n",
       "Station ID                                                             \n",
       "JC008                                       Newport Pkwy    1     67   \n",
       "HB103       South Waterfront Walkway - Sinatra Dr & 1 St    1     76   \n",
       "JC005                                      Grove St PATH    1     94   \n",
       "HB102            Hoboken Terminal - River St & Hudson Pl    1    103   \n",
       "HB101           Hoboken Terminal - Hudson St & Hudson Pl    1    142   \n",
       "...                                                  ...  ...    ...   \n",
       "HB102            Hoboken Terminal - River St & Hudson Pl   30    316   \n",
       "HB101           Hoboken Terminal - Hudson St & Hudson Pl   30    249   \n",
       "HB103       South Waterfront Walkway - Sinatra Dr & 1 St   30    227   \n",
       "JC008                                       Newport Pkwy   30    165   \n",
       "JC005                                      Grove St PATH   30    327   \n",
       "\n",
       "                 Date  Weekday  \n",
       "Station ID                      \n",
       "JC008      2021-09-01     True  \n",
       "HB103      2021-09-01     True  \n",
       "JC005      2021-09-01     True  \n",
       "HB102      2021-09-01     True  \n",
       "HB101      2021-09-01     True  \n",
       "...               ...      ...  \n",
       "HB102      2021-09-30     True  \n",
       "HB101      2021-09-30     True  \n",
       "HB103      2021-09-30     True  \n",
       "JC008      2021-09-30     True  \n",
       "JC005      2021-09-30     True  \n",
       "\n",
       "[150 rows x 5 columns]"
      ]
     },
     "execution_count": 139,
     "metadata": {},
     "output_type": "execute_result"
    }
   ],
   "source": [
    "ts = jcd[jcd.index.isin(top_stations.index)].copy()\n",
    "ts['Date'] = ts.Day.apply(lambda d: to_dt('2021-09-%02d' % d).date()).astype('datetime64')\n",
    "ts = ts.sort_values('Date')\n",
    "ts['Weekday'] = False\n",
    "ts.loc[ts['Date'].dt.weekday < 5, 'Weekday'] = True\n",
    "ts"
   ]
  },
  {
   "cell_type": "code",
   "execution_count": 128,
   "id": "2b10badd",
   "metadata": {},
   "outputs": [
    {
     "data": {
      "application/vnd.plotly.v1+json": {
       "config": {
        "plotlyServerURL": "https://plot.ly"
       },
       "data": [
        {
         "hovertemplate": "Station Name=Newport Pkwy<br>Date=%{x}<br>Daily ride starts+stops=%{y}<extra></extra>",
         "legendgroup": "Newport Pkwy",
         "line": {
          "color": "#636efa",
          "dash": "solid"
         },
         "marker": {
          "symbol": "circle"
         },
         "mode": "lines",
         "name": "Newport Pkwy",
         "orientation": "v",
         "showlegend": true,
         "type": "scatter",
         "x": [
          "2021-09-01",
          "2021-09-02",
          "2021-09-03",
          "2021-09-04",
          "2021-09-05",
          "2021-09-06",
          "2021-09-07",
          "2021-09-08",
          "2021-09-09",
          "2021-09-10",
          "2021-09-11",
          "2021-09-12",
          "2021-09-13",
          "2021-09-14",
          "2021-09-15",
          "2021-09-16",
          "2021-09-17",
          "2021-09-18",
          "2021-09-19",
          "2021-09-20",
          "2021-09-21",
          "2021-09-22",
          "2021-09-23",
          "2021-09-24",
          "2021-09-25",
          "2021-09-26",
          "2021-09-27",
          "2021-09-28",
          "2021-09-29",
          "2021-09-30"
         ],
         "xaxis": "x",
         "y": [
          67,
          196,
          148,
          171,
          163,
          220,
          161,
          223,
          127,
          210,
          201,
          203,
          180,
          200,
          219,
          249,
          230,
          271,
          224,
          177,
          205,
          185,
          109,
          193,
          253,
          239,
          189,
          164,
          172,
          165
         ],
         "yaxis": "y"
        },
        {
         "hovertemplate": "Station Name=South Waterfront Walkway - Sinatra Dr & 1 St<br>Date=%{x}<br>Daily ride starts+stops=%{y}<extra></extra>",
         "legendgroup": "South Waterfront Walkway - Sinatra Dr & 1 St",
         "line": {
          "color": "#EF553B",
          "dash": "solid"
         },
         "marker": {
          "symbol": "circle"
         },
         "mode": "lines",
         "name": "South Waterfront Walkway - Sinatra Dr & 1 St",
         "orientation": "v",
         "showlegend": true,
         "type": "scatter",
         "x": [
          "2021-09-01",
          "2021-09-02",
          "2021-09-03",
          "2021-09-04",
          "2021-09-05",
          "2021-09-06",
          "2021-09-07",
          "2021-09-08",
          "2021-09-09",
          "2021-09-10",
          "2021-09-11",
          "2021-09-12",
          "2021-09-13",
          "2021-09-14",
          "2021-09-15",
          "2021-09-16",
          "2021-09-17",
          "2021-09-18",
          "2021-09-19",
          "2021-09-20",
          "2021-09-21",
          "2021-09-22",
          "2021-09-23",
          "2021-09-24",
          "2021-09-25",
          "2021-09-26",
          "2021-09-27",
          "2021-09-28",
          "2021-09-29",
          "2021-09-30"
         ],
         "xaxis": "x",
         "y": [
          76,
          273,
          298,
          367,
          297,
          491,
          256,
          252,
          175,
          388,
          461,
          458,
          263,
          236,
          274,
          285,
          301,
          501,
          452,
          266,
          284,
          251,
          165,
          293,
          421,
          413,
          258,
          213,
          337,
          227
         ],
         "yaxis": "y"
        },
        {
         "hovertemplate": "Station Name=Grove St PATH<br>Date=%{x}<br>Daily ride starts+stops=%{y}<extra></extra>",
         "legendgroup": "Grove St PATH",
         "line": {
          "color": "#00cc96",
          "dash": "solid"
         },
         "marker": {
          "symbol": "circle"
         },
         "mode": "lines",
         "name": "Grove St PATH",
         "orientation": "v",
         "showlegend": true,
         "type": "scatter",
         "x": [
          "2021-09-01",
          "2021-09-02",
          "2021-09-03",
          "2021-09-04",
          "2021-09-05",
          "2021-09-06",
          "2021-09-07",
          "2021-09-08",
          "2021-09-09",
          "2021-09-10",
          "2021-09-11",
          "2021-09-12",
          "2021-09-13",
          "2021-09-14",
          "2021-09-15",
          "2021-09-16",
          "2021-09-17",
          "2021-09-18",
          "2021-09-19",
          "2021-09-20",
          "2021-09-21",
          "2021-09-22",
          "2021-09-23",
          "2021-09-24",
          "2021-09-25",
          "2021-09-26",
          "2021-09-27",
          "2021-09-28",
          "2021-09-29",
          "2021-09-30"
         ],
         "xaxis": "x",
         "y": [
          94,
          274,
          301,
          250,
          193,
          245,
          289,
          309,
          229,
          332,
          265,
          216,
          260,
          281,
          395,
          352,
          370,
          339,
          269,
          313,
          297,
          339,
          255,
          272,
          302,
          234,
          279,
          303,
          379,
          327
         ],
         "yaxis": "y"
        },
        {
         "hovertemplate": "Station Name=Hoboken Terminal - River St & Hudson Pl<br>Date=%{x}<br>Daily ride starts+stops=%{y}<extra></extra>",
         "legendgroup": "Hoboken Terminal - River St & Hudson Pl",
         "line": {
          "color": "#ab63fa",
          "dash": "solid"
         },
         "marker": {
          "symbol": "circle"
         },
         "mode": "lines",
         "name": "Hoboken Terminal - River St & Hudson Pl",
         "orientation": "v",
         "showlegend": true,
         "type": "scatter",
         "x": [
          "2021-09-01",
          "2021-09-02",
          "2021-09-03",
          "2021-09-04",
          "2021-09-05",
          "2021-09-06",
          "2021-09-07",
          "2021-09-08",
          "2021-09-09",
          "2021-09-10",
          "2021-09-11",
          "2021-09-12",
          "2021-09-13",
          "2021-09-14",
          "2021-09-15",
          "2021-09-16",
          "2021-09-17",
          "2021-09-18",
          "2021-09-19",
          "2021-09-20",
          "2021-09-21",
          "2021-09-22",
          "2021-09-23",
          "2021-09-24",
          "2021-09-25",
          "2021-09-26",
          "2021-09-27",
          "2021-09-28",
          "2021-09-29",
          "2021-09-30"
         ],
         "xaxis": "x",
         "y": [
          103,
          268,
          365,
          289,
          185,
          244,
          266,
          339,
          147,
          303,
          402,
          319,
          253,
          354,
          327,
          404,
          331,
          356,
          332,
          262,
          320,
          318,
          204,
          341,
          371,
          271,
          272,
          278,
          303,
          316
         ],
         "yaxis": "y"
        },
        {
         "hovertemplate": "Station Name=Hoboken Terminal - Hudson St & Hudson Pl<br>Date=%{x}<br>Daily ride starts+stops=%{y}<extra></extra>",
         "legendgroup": "Hoboken Terminal - Hudson St & Hudson Pl",
         "line": {
          "color": "#FFA15A",
          "dash": "solid"
         },
         "marker": {
          "symbol": "circle"
         },
         "mode": "lines",
         "name": "Hoboken Terminal - Hudson St & Hudson Pl",
         "orientation": "v",
         "showlegend": true,
         "type": "scatter",
         "x": [
          "2021-09-01",
          "2021-09-02",
          "2021-09-03",
          "2021-09-04",
          "2021-09-05",
          "2021-09-06",
          "2021-09-07",
          "2021-09-08",
          "2021-09-09",
          "2021-09-10",
          "2021-09-11",
          "2021-09-12",
          "2021-09-13",
          "2021-09-14",
          "2021-09-15",
          "2021-09-16",
          "2021-09-17",
          "2021-09-18",
          "2021-09-19",
          "2021-09-20",
          "2021-09-21",
          "2021-09-22",
          "2021-09-23",
          "2021-09-24",
          "2021-09-25",
          "2021-09-26",
          "2021-09-27",
          "2021-09-28",
          "2021-09-29",
          "2021-09-30"
         ],
         "xaxis": "x",
         "y": [
          142,
          247,
          237,
          189,
          210,
          202,
          231,
          235,
          228,
          299,
          349,
          313,
          217,
          248,
          244,
          280,
          284,
          365,
          314,
          207,
          221,
          265,
          187,
          286,
          353,
          280,
          231,
          190,
          189,
          249
         ],
         "yaxis": "y"
        }
       ],
       "layout": {
        "legend": {
         "bgcolor": "rgba(0,0,0,0)",
         "title": {
          "text": "Station Name"
         },
         "tracegroupgap": 0,
         "x": 0.01,
         "xanchor": "left",
         "y": 0.99,
         "yanchor": "top"
        },
        "margin": {
         "t": 60
        },
        "template": {
         "data": {
          "bar": [
           {
            "error_x": {
             "color": "#2a3f5f"
            },
            "error_y": {
             "color": "#2a3f5f"
            },
            "marker": {
             "line": {
              "color": "#E5ECF6",
              "width": 0.5
             },
             "pattern": {
              "fillmode": "overlay",
              "size": 10,
              "solidity": 0.2
             }
            },
            "type": "bar"
           }
          ],
          "barpolar": [
           {
            "marker": {
             "line": {
              "color": "#E5ECF6",
              "width": 0.5
             },
             "pattern": {
              "fillmode": "overlay",
              "size": 10,
              "solidity": 0.2
             }
            },
            "type": "barpolar"
           }
          ],
          "carpet": [
           {
            "aaxis": {
             "endlinecolor": "#2a3f5f",
             "gridcolor": "white",
             "linecolor": "white",
             "minorgridcolor": "white",
             "startlinecolor": "#2a3f5f"
            },
            "baxis": {
             "endlinecolor": "#2a3f5f",
             "gridcolor": "white",
             "linecolor": "white",
             "minorgridcolor": "white",
             "startlinecolor": "#2a3f5f"
            },
            "type": "carpet"
           }
          ],
          "choropleth": [
           {
            "colorbar": {
             "outlinewidth": 0,
             "ticks": ""
            },
            "type": "choropleth"
           }
          ],
          "contour": [
           {
            "colorbar": {
             "outlinewidth": 0,
             "ticks": ""
            },
            "colorscale": [
             [
              0,
              "#0d0887"
             ],
             [
              0.1111111111111111,
              "#46039f"
             ],
             [
              0.2222222222222222,
              "#7201a8"
             ],
             [
              0.3333333333333333,
              "#9c179e"
             ],
             [
              0.4444444444444444,
              "#bd3786"
             ],
             [
              0.5555555555555556,
              "#d8576b"
             ],
             [
              0.6666666666666666,
              "#ed7953"
             ],
             [
              0.7777777777777778,
              "#fb9f3a"
             ],
             [
              0.8888888888888888,
              "#fdca26"
             ],
             [
              1,
              "#f0f921"
             ]
            ],
            "type": "contour"
           }
          ],
          "contourcarpet": [
           {
            "colorbar": {
             "outlinewidth": 0,
             "ticks": ""
            },
            "type": "contourcarpet"
           }
          ],
          "heatmap": [
           {
            "colorbar": {
             "outlinewidth": 0,
             "ticks": ""
            },
            "colorscale": [
             [
              0,
              "#0d0887"
             ],
             [
              0.1111111111111111,
              "#46039f"
             ],
             [
              0.2222222222222222,
              "#7201a8"
             ],
             [
              0.3333333333333333,
              "#9c179e"
             ],
             [
              0.4444444444444444,
              "#bd3786"
             ],
             [
              0.5555555555555556,
              "#d8576b"
             ],
             [
              0.6666666666666666,
              "#ed7953"
             ],
             [
              0.7777777777777778,
              "#fb9f3a"
             ],
             [
              0.8888888888888888,
              "#fdca26"
             ],
             [
              1,
              "#f0f921"
             ]
            ],
            "type": "heatmap"
           }
          ],
          "heatmapgl": [
           {
            "colorbar": {
             "outlinewidth": 0,
             "ticks": ""
            },
            "colorscale": [
             [
              0,
              "#0d0887"
             ],
             [
              0.1111111111111111,
              "#46039f"
             ],
             [
              0.2222222222222222,
              "#7201a8"
             ],
             [
              0.3333333333333333,
              "#9c179e"
             ],
             [
              0.4444444444444444,
              "#bd3786"
             ],
             [
              0.5555555555555556,
              "#d8576b"
             ],
             [
              0.6666666666666666,
              "#ed7953"
             ],
             [
              0.7777777777777778,
              "#fb9f3a"
             ],
             [
              0.8888888888888888,
              "#fdca26"
             ],
             [
              1,
              "#f0f921"
             ]
            ],
            "type": "heatmapgl"
           }
          ],
          "histogram": [
           {
            "marker": {
             "pattern": {
              "fillmode": "overlay",
              "size": 10,
              "solidity": 0.2
             }
            },
            "type": "histogram"
           }
          ],
          "histogram2d": [
           {
            "colorbar": {
             "outlinewidth": 0,
             "ticks": ""
            },
            "colorscale": [
             [
              0,
              "#0d0887"
             ],
             [
              0.1111111111111111,
              "#46039f"
             ],
             [
              0.2222222222222222,
              "#7201a8"
             ],
             [
              0.3333333333333333,
              "#9c179e"
             ],
             [
              0.4444444444444444,
              "#bd3786"
             ],
             [
              0.5555555555555556,
              "#d8576b"
             ],
             [
              0.6666666666666666,
              "#ed7953"
             ],
             [
              0.7777777777777778,
              "#fb9f3a"
             ],
             [
              0.8888888888888888,
              "#fdca26"
             ],
             [
              1,
              "#f0f921"
             ]
            ],
            "type": "histogram2d"
           }
          ],
          "histogram2dcontour": [
           {
            "colorbar": {
             "outlinewidth": 0,
             "ticks": ""
            },
            "colorscale": [
             [
              0,
              "#0d0887"
             ],
             [
              0.1111111111111111,
              "#46039f"
             ],
             [
              0.2222222222222222,
              "#7201a8"
             ],
             [
              0.3333333333333333,
              "#9c179e"
             ],
             [
              0.4444444444444444,
              "#bd3786"
             ],
             [
              0.5555555555555556,
              "#d8576b"
             ],
             [
              0.6666666666666666,
              "#ed7953"
             ],
             [
              0.7777777777777778,
              "#fb9f3a"
             ],
             [
              0.8888888888888888,
              "#fdca26"
             ],
             [
              1,
              "#f0f921"
             ]
            ],
            "type": "histogram2dcontour"
           }
          ],
          "mesh3d": [
           {
            "colorbar": {
             "outlinewidth": 0,
             "ticks": ""
            },
            "type": "mesh3d"
           }
          ],
          "parcoords": [
           {
            "line": {
             "colorbar": {
              "outlinewidth": 0,
              "ticks": ""
             }
            },
            "type": "parcoords"
           }
          ],
          "pie": [
           {
            "automargin": true,
            "type": "pie"
           }
          ],
          "scatter": [
           {
            "marker": {
             "colorbar": {
              "outlinewidth": 0,
              "ticks": ""
             }
            },
            "type": "scatter"
           }
          ],
          "scatter3d": [
           {
            "line": {
             "colorbar": {
              "outlinewidth": 0,
              "ticks": ""
             }
            },
            "marker": {
             "colorbar": {
              "outlinewidth": 0,
              "ticks": ""
             }
            },
            "type": "scatter3d"
           }
          ],
          "scattercarpet": [
           {
            "marker": {
             "colorbar": {
              "outlinewidth": 0,
              "ticks": ""
             }
            },
            "type": "scattercarpet"
           }
          ],
          "scattergeo": [
           {
            "marker": {
             "colorbar": {
              "outlinewidth": 0,
              "ticks": ""
             }
            },
            "type": "scattergeo"
           }
          ],
          "scattergl": [
           {
            "marker": {
             "colorbar": {
              "outlinewidth": 0,
              "ticks": ""
             }
            },
            "type": "scattergl"
           }
          ],
          "scattermapbox": [
           {
            "marker": {
             "colorbar": {
              "outlinewidth": 0,
              "ticks": ""
             }
            },
            "type": "scattermapbox"
           }
          ],
          "scatterpolar": [
           {
            "marker": {
             "colorbar": {
              "outlinewidth": 0,
              "ticks": ""
             }
            },
            "type": "scatterpolar"
           }
          ],
          "scatterpolargl": [
           {
            "marker": {
             "colorbar": {
              "outlinewidth": 0,
              "ticks": ""
             }
            },
            "type": "scatterpolargl"
           }
          ],
          "scatterternary": [
           {
            "marker": {
             "colorbar": {
              "outlinewidth": 0,
              "ticks": ""
             }
            },
            "type": "scatterternary"
           }
          ],
          "surface": [
           {
            "colorbar": {
             "outlinewidth": 0,
             "ticks": ""
            },
            "colorscale": [
             [
              0,
              "#0d0887"
             ],
             [
              0.1111111111111111,
              "#46039f"
             ],
             [
              0.2222222222222222,
              "#7201a8"
             ],
             [
              0.3333333333333333,
              "#9c179e"
             ],
             [
              0.4444444444444444,
              "#bd3786"
             ],
             [
              0.5555555555555556,
              "#d8576b"
             ],
             [
              0.6666666666666666,
              "#ed7953"
             ],
             [
              0.7777777777777778,
              "#fb9f3a"
             ],
             [
              0.8888888888888888,
              "#fdca26"
             ],
             [
              1,
              "#f0f921"
             ]
            ],
            "type": "surface"
           }
          ],
          "table": [
           {
            "cells": {
             "fill": {
              "color": "#EBF0F8"
             },
             "line": {
              "color": "white"
             }
            },
            "header": {
             "fill": {
              "color": "#C8D4E3"
             },
             "line": {
              "color": "white"
             }
            },
            "type": "table"
           }
          ]
         },
         "layout": {
          "annotationdefaults": {
           "arrowcolor": "#2a3f5f",
           "arrowhead": 0,
           "arrowwidth": 1
          },
          "autotypenumbers": "strict",
          "coloraxis": {
           "colorbar": {
            "outlinewidth": 0,
            "ticks": ""
           }
          },
          "colorscale": {
           "diverging": [
            [
             0,
             "#8e0152"
            ],
            [
             0.1,
             "#c51b7d"
            ],
            [
             0.2,
             "#de77ae"
            ],
            [
             0.3,
             "#f1b6da"
            ],
            [
             0.4,
             "#fde0ef"
            ],
            [
             0.5,
             "#f7f7f7"
            ],
            [
             0.6,
             "#e6f5d0"
            ],
            [
             0.7,
             "#b8e186"
            ],
            [
             0.8,
             "#7fbc41"
            ],
            [
             0.9,
             "#4d9221"
            ],
            [
             1,
             "#276419"
            ]
           ],
           "sequential": [
            [
             0,
             "#0d0887"
            ],
            [
             0.1111111111111111,
             "#46039f"
            ],
            [
             0.2222222222222222,
             "#7201a8"
            ],
            [
             0.3333333333333333,
             "#9c179e"
            ],
            [
             0.4444444444444444,
             "#bd3786"
            ],
            [
             0.5555555555555556,
             "#d8576b"
            ],
            [
             0.6666666666666666,
             "#ed7953"
            ],
            [
             0.7777777777777778,
             "#fb9f3a"
            ],
            [
             0.8888888888888888,
             "#fdca26"
            ],
            [
             1,
             "#f0f921"
            ]
           ],
           "sequentialminus": [
            [
             0,
             "#0d0887"
            ],
            [
             0.1111111111111111,
             "#46039f"
            ],
            [
             0.2222222222222222,
             "#7201a8"
            ],
            [
             0.3333333333333333,
             "#9c179e"
            ],
            [
             0.4444444444444444,
             "#bd3786"
            ],
            [
             0.5555555555555556,
             "#d8576b"
            ],
            [
             0.6666666666666666,
             "#ed7953"
            ],
            [
             0.7777777777777778,
             "#fb9f3a"
            ],
            [
             0.8888888888888888,
             "#fdca26"
            ],
            [
             1,
             "#f0f921"
            ]
           ]
          },
          "colorway": [
           "#636efa",
           "#EF553B",
           "#00cc96",
           "#ab63fa",
           "#FFA15A",
           "#19d3f3",
           "#FF6692",
           "#B6E880",
           "#FF97FF",
           "#FECB52"
          ],
          "font": {
           "color": "#2a3f5f"
          },
          "geo": {
           "bgcolor": "white",
           "lakecolor": "white",
           "landcolor": "#E5ECF6",
           "showlakes": true,
           "showland": true,
           "subunitcolor": "white"
          },
          "hoverlabel": {
           "align": "left"
          },
          "hovermode": "closest",
          "mapbox": {
           "style": "light"
          },
          "paper_bgcolor": "white",
          "plot_bgcolor": "#E5ECF6",
          "polar": {
           "angularaxis": {
            "gridcolor": "white",
            "linecolor": "white",
            "ticks": ""
           },
           "bgcolor": "#E5ECF6",
           "radialaxis": {
            "gridcolor": "white",
            "linecolor": "white",
            "ticks": ""
           }
          },
          "scene": {
           "xaxis": {
            "backgroundcolor": "#E5ECF6",
            "gridcolor": "white",
            "gridwidth": 2,
            "linecolor": "white",
            "showbackground": true,
            "ticks": "",
            "zerolinecolor": "white"
           },
           "yaxis": {
            "backgroundcolor": "#E5ECF6",
            "gridcolor": "white",
            "gridwidth": 2,
            "linecolor": "white",
            "showbackground": true,
            "ticks": "",
            "zerolinecolor": "white"
           },
           "zaxis": {
            "backgroundcolor": "#E5ECF6",
            "gridcolor": "white",
            "gridwidth": 2,
            "linecolor": "white",
            "showbackground": true,
            "ticks": "",
            "zerolinecolor": "white"
           }
          },
          "shapedefaults": {
           "line": {
            "color": "#2a3f5f"
           }
          },
          "ternary": {
           "aaxis": {
            "gridcolor": "white",
            "linecolor": "white",
            "ticks": ""
           },
           "baxis": {
            "gridcolor": "white",
            "linecolor": "white",
            "ticks": ""
           },
           "bgcolor": "#E5ECF6",
           "caxis": {
            "gridcolor": "white",
            "linecolor": "white",
            "ticks": ""
           }
          },
          "title": {
           "x": 0.05
          },
          "xaxis": {
           "automargin": true,
           "gridcolor": "white",
           "linecolor": "white",
           "ticks": "",
           "title": {
            "standoff": 15
           },
           "zerolinecolor": "white",
           "zerolinewidth": 2
          },
          "yaxis": {
           "automargin": true,
           "gridcolor": "white",
           "linecolor": "white",
           "ticks": "",
           "title": {
            "standoff": 15
           },
           "zerolinecolor": "white",
           "zerolinewidth": 2
          }
         }
        },
        "xaxis": {
         "anchor": "y",
         "domain": [
          0,
          1
         ],
         "title": {
          "text": "Date"
         }
        },
        "yaxis": {
         "anchor": "x",
         "domain": [
          0,
          1
         ],
         "title": {
          "text": "Daily ride starts+stops"
         }
        }
       }
      },
      "text/html": [
       "<div>                            <div id=\"4dea41a7-d4ba-4ef5-99c4-b8c45cae3d9d\" class=\"plotly-graph-div\" style=\"height:525px; width:100%;\"></div>            <script type=\"text/javascript\">                require([\"plotly\"], function(Plotly) {                    window.PLOTLYENV=window.PLOTLYENV || {};                                    if (document.getElementById(\"4dea41a7-d4ba-4ef5-99c4-b8c45cae3d9d\")) {                    Plotly.newPlot(                        \"4dea41a7-d4ba-4ef5-99c4-b8c45cae3d9d\",                        [{\"hovertemplate\":\"Station Name=Newport Pkwy<br>Date=%{x}<br>Daily ride starts+stops=%{y}<extra></extra>\",\"legendgroup\":\"Newport Pkwy\",\"line\":{\"color\":\"#636efa\",\"dash\":\"solid\"},\"marker\":{\"symbol\":\"circle\"},\"mode\":\"lines\",\"name\":\"Newport Pkwy\",\"orientation\":\"v\",\"showlegend\":true,\"type\":\"scatter\",\"x\":[\"2021-09-01\",\"2021-09-02\",\"2021-09-03\",\"2021-09-04\",\"2021-09-05\",\"2021-09-06\",\"2021-09-07\",\"2021-09-08\",\"2021-09-09\",\"2021-09-10\",\"2021-09-11\",\"2021-09-12\",\"2021-09-13\",\"2021-09-14\",\"2021-09-15\",\"2021-09-16\",\"2021-09-17\",\"2021-09-18\",\"2021-09-19\",\"2021-09-20\",\"2021-09-21\",\"2021-09-22\",\"2021-09-23\",\"2021-09-24\",\"2021-09-25\",\"2021-09-26\",\"2021-09-27\",\"2021-09-28\",\"2021-09-29\",\"2021-09-30\"],\"xaxis\":\"x\",\"y\":[67,196,148,171,163,220,161,223,127,210,201,203,180,200,219,249,230,271,224,177,205,185,109,193,253,239,189,164,172,165],\"yaxis\":\"y\"},{\"hovertemplate\":\"Station Name=South Waterfront Walkway - Sinatra Dr & 1 St<br>Date=%{x}<br>Daily ride starts+stops=%{y}<extra></extra>\",\"legendgroup\":\"South Waterfront Walkway - Sinatra Dr & 1 St\",\"line\":{\"color\":\"#EF553B\",\"dash\":\"solid\"},\"marker\":{\"symbol\":\"circle\"},\"mode\":\"lines\",\"name\":\"South Waterfront Walkway - Sinatra Dr & 1 St\",\"orientation\":\"v\",\"showlegend\":true,\"type\":\"scatter\",\"x\":[\"2021-09-01\",\"2021-09-02\",\"2021-09-03\",\"2021-09-04\",\"2021-09-05\",\"2021-09-06\",\"2021-09-07\",\"2021-09-08\",\"2021-09-09\",\"2021-09-10\",\"2021-09-11\",\"2021-09-12\",\"2021-09-13\",\"2021-09-14\",\"2021-09-15\",\"2021-09-16\",\"2021-09-17\",\"2021-09-18\",\"2021-09-19\",\"2021-09-20\",\"2021-09-21\",\"2021-09-22\",\"2021-09-23\",\"2021-09-24\",\"2021-09-25\",\"2021-09-26\",\"2021-09-27\",\"2021-09-28\",\"2021-09-29\",\"2021-09-30\"],\"xaxis\":\"x\",\"y\":[76,273,298,367,297,491,256,252,175,388,461,458,263,236,274,285,301,501,452,266,284,251,165,293,421,413,258,213,337,227],\"yaxis\":\"y\"},{\"hovertemplate\":\"Station Name=Grove St PATH<br>Date=%{x}<br>Daily ride starts+stops=%{y}<extra></extra>\",\"legendgroup\":\"Grove St PATH\",\"line\":{\"color\":\"#00cc96\",\"dash\":\"solid\"},\"marker\":{\"symbol\":\"circle\"},\"mode\":\"lines\",\"name\":\"Grove St PATH\",\"orientation\":\"v\",\"showlegend\":true,\"type\":\"scatter\",\"x\":[\"2021-09-01\",\"2021-09-02\",\"2021-09-03\",\"2021-09-04\",\"2021-09-05\",\"2021-09-06\",\"2021-09-07\",\"2021-09-08\",\"2021-09-09\",\"2021-09-10\",\"2021-09-11\",\"2021-09-12\",\"2021-09-13\",\"2021-09-14\",\"2021-09-15\",\"2021-09-16\",\"2021-09-17\",\"2021-09-18\",\"2021-09-19\",\"2021-09-20\",\"2021-09-21\",\"2021-09-22\",\"2021-09-23\",\"2021-09-24\",\"2021-09-25\",\"2021-09-26\",\"2021-09-27\",\"2021-09-28\",\"2021-09-29\",\"2021-09-30\"],\"xaxis\":\"x\",\"y\":[94,274,301,250,193,245,289,309,229,332,265,216,260,281,395,352,370,339,269,313,297,339,255,272,302,234,279,303,379,327],\"yaxis\":\"y\"},{\"hovertemplate\":\"Station Name=Hoboken Terminal - River St & Hudson Pl<br>Date=%{x}<br>Daily ride starts+stops=%{y}<extra></extra>\",\"legendgroup\":\"Hoboken Terminal - River St & Hudson Pl\",\"line\":{\"color\":\"#ab63fa\",\"dash\":\"solid\"},\"marker\":{\"symbol\":\"circle\"},\"mode\":\"lines\",\"name\":\"Hoboken Terminal - River St & Hudson Pl\",\"orientation\":\"v\",\"showlegend\":true,\"type\":\"scatter\",\"x\":[\"2021-09-01\",\"2021-09-02\",\"2021-09-03\",\"2021-09-04\",\"2021-09-05\",\"2021-09-06\",\"2021-09-07\",\"2021-09-08\",\"2021-09-09\",\"2021-09-10\",\"2021-09-11\",\"2021-09-12\",\"2021-09-13\",\"2021-09-14\",\"2021-09-15\",\"2021-09-16\",\"2021-09-17\",\"2021-09-18\",\"2021-09-19\",\"2021-09-20\",\"2021-09-21\",\"2021-09-22\",\"2021-09-23\",\"2021-09-24\",\"2021-09-25\",\"2021-09-26\",\"2021-09-27\",\"2021-09-28\",\"2021-09-29\",\"2021-09-30\"],\"xaxis\":\"x\",\"y\":[103,268,365,289,185,244,266,339,147,303,402,319,253,354,327,404,331,356,332,262,320,318,204,341,371,271,272,278,303,316],\"yaxis\":\"y\"},{\"hovertemplate\":\"Station Name=Hoboken Terminal - Hudson St & Hudson Pl<br>Date=%{x}<br>Daily ride starts+stops=%{y}<extra></extra>\",\"legendgroup\":\"Hoboken Terminal - Hudson St & Hudson Pl\",\"line\":{\"color\":\"#FFA15A\",\"dash\":\"solid\"},\"marker\":{\"symbol\":\"circle\"},\"mode\":\"lines\",\"name\":\"Hoboken Terminal - Hudson St & Hudson Pl\",\"orientation\":\"v\",\"showlegend\":true,\"type\":\"scatter\",\"x\":[\"2021-09-01\",\"2021-09-02\",\"2021-09-03\",\"2021-09-04\",\"2021-09-05\",\"2021-09-06\",\"2021-09-07\",\"2021-09-08\",\"2021-09-09\",\"2021-09-10\",\"2021-09-11\",\"2021-09-12\",\"2021-09-13\",\"2021-09-14\",\"2021-09-15\",\"2021-09-16\",\"2021-09-17\",\"2021-09-18\",\"2021-09-19\",\"2021-09-20\",\"2021-09-21\",\"2021-09-22\",\"2021-09-23\",\"2021-09-24\",\"2021-09-25\",\"2021-09-26\",\"2021-09-27\",\"2021-09-28\",\"2021-09-29\",\"2021-09-30\"],\"xaxis\":\"x\",\"y\":[142,247,237,189,210,202,231,235,228,299,349,313,217,248,244,280,284,365,314,207,221,265,187,286,353,280,231,190,189,249],\"yaxis\":\"y\"}],                        {\"legend\":{\"bgcolor\":\"rgba(0,0,0,0)\",\"title\":{\"text\":\"Station Name\"},\"tracegroupgap\":0,\"x\":0.01,\"xanchor\":\"left\",\"y\":0.99,\"yanchor\":\"top\"},\"margin\":{\"t\":60},\"template\":{\"data\":{\"bar\":[{\"error_x\":{\"color\":\"#2a3f5f\"},\"error_y\":{\"color\":\"#2a3f5f\"},\"marker\":{\"line\":{\"color\":\"#E5ECF6\",\"width\":0.5},\"pattern\":{\"fillmode\":\"overlay\",\"size\":10,\"solidity\":0.2}},\"type\":\"bar\"}],\"barpolar\":[{\"marker\":{\"line\":{\"color\":\"#E5ECF6\",\"width\":0.5},\"pattern\":{\"fillmode\":\"overlay\",\"size\":10,\"solidity\":0.2}},\"type\":\"barpolar\"}],\"carpet\":[{\"aaxis\":{\"endlinecolor\":\"#2a3f5f\",\"gridcolor\":\"white\",\"linecolor\":\"white\",\"minorgridcolor\":\"white\",\"startlinecolor\":\"#2a3f5f\"},\"baxis\":{\"endlinecolor\":\"#2a3f5f\",\"gridcolor\":\"white\",\"linecolor\":\"white\",\"minorgridcolor\":\"white\",\"startlinecolor\":\"#2a3f5f\"},\"type\":\"carpet\"}],\"choropleth\":[{\"colorbar\":{\"outlinewidth\":0,\"ticks\":\"\"},\"type\":\"choropleth\"}],\"contour\":[{\"colorbar\":{\"outlinewidth\":0,\"ticks\":\"\"},\"colorscale\":[[0.0,\"#0d0887\"],[0.1111111111111111,\"#46039f\"],[0.2222222222222222,\"#7201a8\"],[0.3333333333333333,\"#9c179e\"],[0.4444444444444444,\"#bd3786\"],[0.5555555555555556,\"#d8576b\"],[0.6666666666666666,\"#ed7953\"],[0.7777777777777778,\"#fb9f3a\"],[0.8888888888888888,\"#fdca26\"],[1.0,\"#f0f921\"]],\"type\":\"contour\"}],\"contourcarpet\":[{\"colorbar\":{\"outlinewidth\":0,\"ticks\":\"\"},\"type\":\"contourcarpet\"}],\"heatmap\":[{\"colorbar\":{\"outlinewidth\":0,\"ticks\":\"\"},\"colorscale\":[[0.0,\"#0d0887\"],[0.1111111111111111,\"#46039f\"],[0.2222222222222222,\"#7201a8\"],[0.3333333333333333,\"#9c179e\"],[0.4444444444444444,\"#bd3786\"],[0.5555555555555556,\"#d8576b\"],[0.6666666666666666,\"#ed7953\"],[0.7777777777777778,\"#fb9f3a\"],[0.8888888888888888,\"#fdca26\"],[1.0,\"#f0f921\"]],\"type\":\"heatmap\"}],\"heatmapgl\":[{\"colorbar\":{\"outlinewidth\":0,\"ticks\":\"\"},\"colorscale\":[[0.0,\"#0d0887\"],[0.1111111111111111,\"#46039f\"],[0.2222222222222222,\"#7201a8\"],[0.3333333333333333,\"#9c179e\"],[0.4444444444444444,\"#bd3786\"],[0.5555555555555556,\"#d8576b\"],[0.6666666666666666,\"#ed7953\"],[0.7777777777777778,\"#fb9f3a\"],[0.8888888888888888,\"#fdca26\"],[1.0,\"#f0f921\"]],\"type\":\"heatmapgl\"}],\"histogram\":[{\"marker\":{\"pattern\":{\"fillmode\":\"overlay\",\"size\":10,\"solidity\":0.2}},\"type\":\"histogram\"}],\"histogram2d\":[{\"colorbar\":{\"outlinewidth\":0,\"ticks\":\"\"},\"colorscale\":[[0.0,\"#0d0887\"],[0.1111111111111111,\"#46039f\"],[0.2222222222222222,\"#7201a8\"],[0.3333333333333333,\"#9c179e\"],[0.4444444444444444,\"#bd3786\"],[0.5555555555555556,\"#d8576b\"],[0.6666666666666666,\"#ed7953\"],[0.7777777777777778,\"#fb9f3a\"],[0.8888888888888888,\"#fdca26\"],[1.0,\"#f0f921\"]],\"type\":\"histogram2d\"}],\"histogram2dcontour\":[{\"colorbar\":{\"outlinewidth\":0,\"ticks\":\"\"},\"colorscale\":[[0.0,\"#0d0887\"],[0.1111111111111111,\"#46039f\"],[0.2222222222222222,\"#7201a8\"],[0.3333333333333333,\"#9c179e\"],[0.4444444444444444,\"#bd3786\"],[0.5555555555555556,\"#d8576b\"],[0.6666666666666666,\"#ed7953\"],[0.7777777777777778,\"#fb9f3a\"],[0.8888888888888888,\"#fdca26\"],[1.0,\"#f0f921\"]],\"type\":\"histogram2dcontour\"}],\"mesh3d\":[{\"colorbar\":{\"outlinewidth\":0,\"ticks\":\"\"},\"type\":\"mesh3d\"}],\"parcoords\":[{\"line\":{\"colorbar\":{\"outlinewidth\":0,\"ticks\":\"\"}},\"type\":\"parcoords\"}],\"pie\":[{\"automargin\":true,\"type\":\"pie\"}],\"scatter\":[{\"marker\":{\"colorbar\":{\"outlinewidth\":0,\"ticks\":\"\"}},\"type\":\"scatter\"}],\"scatter3d\":[{\"line\":{\"colorbar\":{\"outlinewidth\":0,\"ticks\":\"\"}},\"marker\":{\"colorbar\":{\"outlinewidth\":0,\"ticks\":\"\"}},\"type\":\"scatter3d\"}],\"scattercarpet\":[{\"marker\":{\"colorbar\":{\"outlinewidth\":0,\"ticks\":\"\"}},\"type\":\"scattercarpet\"}],\"scattergeo\":[{\"marker\":{\"colorbar\":{\"outlinewidth\":0,\"ticks\":\"\"}},\"type\":\"scattergeo\"}],\"scattergl\":[{\"marker\":{\"colorbar\":{\"outlinewidth\":0,\"ticks\":\"\"}},\"type\":\"scattergl\"}],\"scattermapbox\":[{\"marker\":{\"colorbar\":{\"outlinewidth\":0,\"ticks\":\"\"}},\"type\":\"scattermapbox\"}],\"scatterpolar\":[{\"marker\":{\"colorbar\":{\"outlinewidth\":0,\"ticks\":\"\"}},\"type\":\"scatterpolar\"}],\"scatterpolargl\":[{\"marker\":{\"colorbar\":{\"outlinewidth\":0,\"ticks\":\"\"}},\"type\":\"scatterpolargl\"}],\"scatterternary\":[{\"marker\":{\"colorbar\":{\"outlinewidth\":0,\"ticks\":\"\"}},\"type\":\"scatterternary\"}],\"surface\":[{\"colorbar\":{\"outlinewidth\":0,\"ticks\":\"\"},\"colorscale\":[[0.0,\"#0d0887\"],[0.1111111111111111,\"#46039f\"],[0.2222222222222222,\"#7201a8\"],[0.3333333333333333,\"#9c179e\"],[0.4444444444444444,\"#bd3786\"],[0.5555555555555556,\"#d8576b\"],[0.6666666666666666,\"#ed7953\"],[0.7777777777777778,\"#fb9f3a\"],[0.8888888888888888,\"#fdca26\"],[1.0,\"#f0f921\"]],\"type\":\"surface\"}],\"table\":[{\"cells\":{\"fill\":{\"color\":\"#EBF0F8\"},\"line\":{\"color\":\"white\"}},\"header\":{\"fill\":{\"color\":\"#C8D4E3\"},\"line\":{\"color\":\"white\"}},\"type\":\"table\"}]},\"layout\":{\"annotationdefaults\":{\"arrowcolor\":\"#2a3f5f\",\"arrowhead\":0,\"arrowwidth\":1},\"autotypenumbers\":\"strict\",\"coloraxis\":{\"colorbar\":{\"outlinewidth\":0,\"ticks\":\"\"}},\"colorscale\":{\"diverging\":[[0,\"#8e0152\"],[0.1,\"#c51b7d\"],[0.2,\"#de77ae\"],[0.3,\"#f1b6da\"],[0.4,\"#fde0ef\"],[0.5,\"#f7f7f7\"],[0.6,\"#e6f5d0\"],[0.7,\"#b8e186\"],[0.8,\"#7fbc41\"],[0.9,\"#4d9221\"],[1,\"#276419\"]],\"sequential\":[[0.0,\"#0d0887\"],[0.1111111111111111,\"#46039f\"],[0.2222222222222222,\"#7201a8\"],[0.3333333333333333,\"#9c179e\"],[0.4444444444444444,\"#bd3786\"],[0.5555555555555556,\"#d8576b\"],[0.6666666666666666,\"#ed7953\"],[0.7777777777777778,\"#fb9f3a\"],[0.8888888888888888,\"#fdca26\"],[1.0,\"#f0f921\"]],\"sequentialminus\":[[0.0,\"#0d0887\"],[0.1111111111111111,\"#46039f\"],[0.2222222222222222,\"#7201a8\"],[0.3333333333333333,\"#9c179e\"],[0.4444444444444444,\"#bd3786\"],[0.5555555555555556,\"#d8576b\"],[0.6666666666666666,\"#ed7953\"],[0.7777777777777778,\"#fb9f3a\"],[0.8888888888888888,\"#fdca26\"],[1.0,\"#f0f921\"]]},\"colorway\":[\"#636efa\",\"#EF553B\",\"#00cc96\",\"#ab63fa\",\"#FFA15A\",\"#19d3f3\",\"#FF6692\",\"#B6E880\",\"#FF97FF\",\"#FECB52\"],\"font\":{\"color\":\"#2a3f5f\"},\"geo\":{\"bgcolor\":\"white\",\"lakecolor\":\"white\",\"landcolor\":\"#E5ECF6\",\"showlakes\":true,\"showland\":true,\"subunitcolor\":\"white\"},\"hoverlabel\":{\"align\":\"left\"},\"hovermode\":\"closest\",\"mapbox\":{\"style\":\"light\"},\"paper_bgcolor\":\"white\",\"plot_bgcolor\":\"#E5ECF6\",\"polar\":{\"angularaxis\":{\"gridcolor\":\"white\",\"linecolor\":\"white\",\"ticks\":\"\"},\"bgcolor\":\"#E5ECF6\",\"radialaxis\":{\"gridcolor\":\"white\",\"linecolor\":\"white\",\"ticks\":\"\"}},\"scene\":{\"xaxis\":{\"backgroundcolor\":\"#E5ECF6\",\"gridcolor\":\"white\",\"gridwidth\":2,\"linecolor\":\"white\",\"showbackground\":true,\"ticks\":\"\",\"zerolinecolor\":\"white\"},\"yaxis\":{\"backgroundcolor\":\"#E5ECF6\",\"gridcolor\":\"white\",\"gridwidth\":2,\"linecolor\":\"white\",\"showbackground\":true,\"ticks\":\"\",\"zerolinecolor\":\"white\"},\"zaxis\":{\"backgroundcolor\":\"#E5ECF6\",\"gridcolor\":\"white\",\"gridwidth\":2,\"linecolor\":\"white\",\"showbackground\":true,\"ticks\":\"\",\"zerolinecolor\":\"white\"}},\"shapedefaults\":{\"line\":{\"color\":\"#2a3f5f\"}},\"ternary\":{\"aaxis\":{\"gridcolor\":\"white\",\"linecolor\":\"white\",\"ticks\":\"\"},\"baxis\":{\"gridcolor\":\"white\",\"linecolor\":\"white\",\"ticks\":\"\"},\"bgcolor\":\"#E5ECF6\",\"caxis\":{\"gridcolor\":\"white\",\"linecolor\":\"white\",\"ticks\":\"\"}},\"title\":{\"x\":0.05},\"xaxis\":{\"automargin\":true,\"gridcolor\":\"white\",\"linecolor\":\"white\",\"ticks\":\"\",\"title\":{\"standoff\":15},\"zerolinecolor\":\"white\",\"zerolinewidth\":2},\"yaxis\":{\"automargin\":true,\"gridcolor\":\"white\",\"linecolor\":\"white\",\"ticks\":\"\",\"title\":{\"standoff\":15},\"zerolinecolor\":\"white\",\"zerolinewidth\":2}}},\"xaxis\":{\"anchor\":\"y\",\"domain\":[0.0,1.0],\"title\":{\"text\":\"Date\"}},\"yaxis\":{\"anchor\":\"x\",\"domain\":[0.0,1.0],\"title\":{\"text\":\"Daily ride starts+stops\"}}},                        {\"responsive\": true}                    ).then(function(){\n",
       "                            \n",
       "var gd = document.getElementById('4dea41a7-d4ba-4ef5-99c4-b8c45cae3d9d');\n",
       "var x = new MutationObserver(function (mutations, observer) {{\n",
       "        var display = window.getComputedStyle(gd).display;\n",
       "        if (!display || display === 'none') {{\n",
       "            console.log([gd, 'removed!']);\n",
       "            Plotly.purge(gd);\n",
       "            observer.disconnect();\n",
       "        }}\n",
       "}});\n",
       "\n",
       "// Listen for the removal of the full notebook cells\n",
       "var notebookContainer = gd.closest('#notebook-container');\n",
       "if (notebookContainer) {{\n",
       "    x.observe(notebookContainer, {childList: true});\n",
       "}}\n",
       "\n",
       "// Listen for the clearing of the current output cell\n",
       "var outputEl = gd.closest('.output');\n",
       "if (outputEl) {{\n",
       "    x.observe(outputEl, {childList: true});\n",
       "}}\n",
       "\n",
       "                        })                };                });            </script>        </div>"
      ]
     },
     "metadata": {},
     "output_type": "display_data"
    }
   ],
   "source": [
    "fig = px.line(ts, x='Date', y='Count', color='Station Name', labels={'Count': 'Daily ride starts+stops'})\n",
    "fig.update_layout(legend=dict(\n",
    "    yanchor=\"top\",\n",
    "    y=0.99,\n",
    "    xanchor=\"left\",\n",
    "    x=0.01,\n",
    "    bgcolor='rgba(0,0,0,0)' ,\n",
    "))\n",
    "fig"
   ]
  },
  {
   "cell_type": "markdown",
   "id": "706ac21f",
   "metadata": {},
   "source": [
    "### Daily dockings (start+end), Grove St PATH"
   ]
  },
  {
   "cell_type": "code",
   "execution_count": 196,
   "id": "a69f7898",
   "metadata": {},
   "outputs": [
    {
     "data": {
      "application/vnd.plotly.v1+json": {
       "config": {
        "plotlyServerURL": "https://plot.ly"
       },
       "data": [
        {
         "alignmentgroup": "True",
         "hovertemplate": "Weekday=True<br>Date=%{x}<br>Daily ride starts+stops=%{y}<extra></extra>",
         "legendgroup": "True",
         "marker": {
          "color": "#636efa",
          "pattern": {
           "shape": ""
          }
         },
         "name": "True",
         "offsetgroup": "True",
         "orientation": "v",
         "showlegend": true,
         "textposition": "auto",
         "type": "bar",
         "x": [
          "2021-09-01T00:00:00",
          "2021-09-02T00:00:00",
          "2021-09-03T00:00:00",
          "2021-09-06T00:00:00",
          "2021-09-07T00:00:00",
          "2021-09-08T00:00:00",
          "2021-09-09T00:00:00",
          "2021-09-10T00:00:00",
          "2021-09-13T00:00:00",
          "2021-09-14T00:00:00",
          "2021-09-15T00:00:00",
          "2021-09-16T00:00:00",
          "2021-09-17T00:00:00",
          "2021-09-20T00:00:00",
          "2021-09-21T00:00:00",
          "2021-09-22T00:00:00",
          "2021-09-23T00:00:00",
          "2021-09-24T00:00:00",
          "2021-09-27T00:00:00",
          "2021-09-28T00:00:00",
          "2021-09-29T00:00:00",
          "2021-09-30T00:00:00"
         ],
         "xaxis": "x",
         "y": [
          94,
          274,
          301,
          245,
          289,
          309,
          229,
          332,
          260,
          281,
          395,
          352,
          370,
          313,
          297,
          339,
          255,
          272,
          279,
          303,
          379,
          327
         ],
         "yaxis": "y"
        },
        {
         "alignmentgroup": "True",
         "hovertemplate": "Weekday=False<br>Date=%{x}<br>Daily ride starts+stops=%{y}<extra></extra>",
         "legendgroup": "False",
         "marker": {
          "color": "#EF553B",
          "pattern": {
           "shape": ""
          }
         },
         "name": "False",
         "offsetgroup": "False",
         "orientation": "v",
         "showlegend": true,
         "textposition": "auto",
         "type": "bar",
         "x": [
          "2021-09-04T00:00:00",
          "2021-09-05T00:00:00",
          "2021-09-11T00:00:00",
          "2021-09-12T00:00:00",
          "2021-09-18T00:00:00",
          "2021-09-19T00:00:00",
          "2021-09-25T00:00:00",
          "2021-09-26T00:00:00"
         ],
         "xaxis": "x",
         "y": [
          250,
          193,
          265,
          216,
          339,
          269,
          302,
          234
         ],
         "yaxis": "y"
        }
       ],
       "layout": {
        "barmode": "relative",
        "legend": {
         "title": {
          "text": "Weekday"
         },
         "tracegroupgap": 0
        },
        "margin": {
         "t": 60
        },
        "template": {
         "data": {
          "bar": [
           {
            "error_x": {
             "color": "#2a3f5f"
            },
            "error_y": {
             "color": "#2a3f5f"
            },
            "marker": {
             "line": {
              "color": "#E5ECF6",
              "width": 0.5
             },
             "pattern": {
              "fillmode": "overlay",
              "size": 10,
              "solidity": 0.2
             }
            },
            "type": "bar"
           }
          ],
          "barpolar": [
           {
            "marker": {
             "line": {
              "color": "#E5ECF6",
              "width": 0.5
             },
             "pattern": {
              "fillmode": "overlay",
              "size": 10,
              "solidity": 0.2
             }
            },
            "type": "barpolar"
           }
          ],
          "carpet": [
           {
            "aaxis": {
             "endlinecolor": "#2a3f5f",
             "gridcolor": "white",
             "linecolor": "white",
             "minorgridcolor": "white",
             "startlinecolor": "#2a3f5f"
            },
            "baxis": {
             "endlinecolor": "#2a3f5f",
             "gridcolor": "white",
             "linecolor": "white",
             "minorgridcolor": "white",
             "startlinecolor": "#2a3f5f"
            },
            "type": "carpet"
           }
          ],
          "choropleth": [
           {
            "colorbar": {
             "outlinewidth": 0,
             "ticks": ""
            },
            "type": "choropleth"
           }
          ],
          "contour": [
           {
            "colorbar": {
             "outlinewidth": 0,
             "ticks": ""
            },
            "colorscale": [
             [
              0,
              "#0d0887"
             ],
             [
              0.1111111111111111,
              "#46039f"
             ],
             [
              0.2222222222222222,
              "#7201a8"
             ],
             [
              0.3333333333333333,
              "#9c179e"
             ],
             [
              0.4444444444444444,
              "#bd3786"
             ],
             [
              0.5555555555555556,
              "#d8576b"
             ],
             [
              0.6666666666666666,
              "#ed7953"
             ],
             [
              0.7777777777777778,
              "#fb9f3a"
             ],
             [
              0.8888888888888888,
              "#fdca26"
             ],
             [
              1,
              "#f0f921"
             ]
            ],
            "type": "contour"
           }
          ],
          "contourcarpet": [
           {
            "colorbar": {
             "outlinewidth": 0,
             "ticks": ""
            },
            "type": "contourcarpet"
           }
          ],
          "heatmap": [
           {
            "colorbar": {
             "outlinewidth": 0,
             "ticks": ""
            },
            "colorscale": [
             [
              0,
              "#0d0887"
             ],
             [
              0.1111111111111111,
              "#46039f"
             ],
             [
              0.2222222222222222,
              "#7201a8"
             ],
             [
              0.3333333333333333,
              "#9c179e"
             ],
             [
              0.4444444444444444,
              "#bd3786"
             ],
             [
              0.5555555555555556,
              "#d8576b"
             ],
             [
              0.6666666666666666,
              "#ed7953"
             ],
             [
              0.7777777777777778,
              "#fb9f3a"
             ],
             [
              0.8888888888888888,
              "#fdca26"
             ],
             [
              1,
              "#f0f921"
             ]
            ],
            "type": "heatmap"
           }
          ],
          "heatmapgl": [
           {
            "colorbar": {
             "outlinewidth": 0,
             "ticks": ""
            },
            "colorscale": [
             [
              0,
              "#0d0887"
             ],
             [
              0.1111111111111111,
              "#46039f"
             ],
             [
              0.2222222222222222,
              "#7201a8"
             ],
             [
              0.3333333333333333,
              "#9c179e"
             ],
             [
              0.4444444444444444,
              "#bd3786"
             ],
             [
              0.5555555555555556,
              "#d8576b"
             ],
             [
              0.6666666666666666,
              "#ed7953"
             ],
             [
              0.7777777777777778,
              "#fb9f3a"
             ],
             [
              0.8888888888888888,
              "#fdca26"
             ],
             [
              1,
              "#f0f921"
             ]
            ],
            "type": "heatmapgl"
           }
          ],
          "histogram": [
           {
            "marker": {
             "pattern": {
              "fillmode": "overlay",
              "size": 10,
              "solidity": 0.2
             }
            },
            "type": "histogram"
           }
          ],
          "histogram2d": [
           {
            "colorbar": {
             "outlinewidth": 0,
             "ticks": ""
            },
            "colorscale": [
             [
              0,
              "#0d0887"
             ],
             [
              0.1111111111111111,
              "#46039f"
             ],
             [
              0.2222222222222222,
              "#7201a8"
             ],
             [
              0.3333333333333333,
              "#9c179e"
             ],
             [
              0.4444444444444444,
              "#bd3786"
             ],
             [
              0.5555555555555556,
              "#d8576b"
             ],
             [
              0.6666666666666666,
              "#ed7953"
             ],
             [
              0.7777777777777778,
              "#fb9f3a"
             ],
             [
              0.8888888888888888,
              "#fdca26"
             ],
             [
              1,
              "#f0f921"
             ]
            ],
            "type": "histogram2d"
           }
          ],
          "histogram2dcontour": [
           {
            "colorbar": {
             "outlinewidth": 0,
             "ticks": ""
            },
            "colorscale": [
             [
              0,
              "#0d0887"
             ],
             [
              0.1111111111111111,
              "#46039f"
             ],
             [
              0.2222222222222222,
              "#7201a8"
             ],
             [
              0.3333333333333333,
              "#9c179e"
             ],
             [
              0.4444444444444444,
              "#bd3786"
             ],
             [
              0.5555555555555556,
              "#d8576b"
             ],
             [
              0.6666666666666666,
              "#ed7953"
             ],
             [
              0.7777777777777778,
              "#fb9f3a"
             ],
             [
              0.8888888888888888,
              "#fdca26"
             ],
             [
              1,
              "#f0f921"
             ]
            ],
            "type": "histogram2dcontour"
           }
          ],
          "mesh3d": [
           {
            "colorbar": {
             "outlinewidth": 0,
             "ticks": ""
            },
            "type": "mesh3d"
           }
          ],
          "parcoords": [
           {
            "line": {
             "colorbar": {
              "outlinewidth": 0,
              "ticks": ""
             }
            },
            "type": "parcoords"
           }
          ],
          "pie": [
           {
            "automargin": true,
            "type": "pie"
           }
          ],
          "scatter": [
           {
            "marker": {
             "colorbar": {
              "outlinewidth": 0,
              "ticks": ""
             }
            },
            "type": "scatter"
           }
          ],
          "scatter3d": [
           {
            "line": {
             "colorbar": {
              "outlinewidth": 0,
              "ticks": ""
             }
            },
            "marker": {
             "colorbar": {
              "outlinewidth": 0,
              "ticks": ""
             }
            },
            "type": "scatter3d"
           }
          ],
          "scattercarpet": [
           {
            "marker": {
             "colorbar": {
              "outlinewidth": 0,
              "ticks": ""
             }
            },
            "type": "scattercarpet"
           }
          ],
          "scattergeo": [
           {
            "marker": {
             "colorbar": {
              "outlinewidth": 0,
              "ticks": ""
             }
            },
            "type": "scattergeo"
           }
          ],
          "scattergl": [
           {
            "marker": {
             "colorbar": {
              "outlinewidth": 0,
              "ticks": ""
             }
            },
            "type": "scattergl"
           }
          ],
          "scattermapbox": [
           {
            "marker": {
             "colorbar": {
              "outlinewidth": 0,
              "ticks": ""
             }
            },
            "type": "scattermapbox"
           }
          ],
          "scatterpolar": [
           {
            "marker": {
             "colorbar": {
              "outlinewidth": 0,
              "ticks": ""
             }
            },
            "type": "scatterpolar"
           }
          ],
          "scatterpolargl": [
           {
            "marker": {
             "colorbar": {
              "outlinewidth": 0,
              "ticks": ""
             }
            },
            "type": "scatterpolargl"
           }
          ],
          "scatterternary": [
           {
            "marker": {
             "colorbar": {
              "outlinewidth": 0,
              "ticks": ""
             }
            },
            "type": "scatterternary"
           }
          ],
          "surface": [
           {
            "colorbar": {
             "outlinewidth": 0,
             "ticks": ""
            },
            "colorscale": [
             [
              0,
              "#0d0887"
             ],
             [
              0.1111111111111111,
              "#46039f"
             ],
             [
              0.2222222222222222,
              "#7201a8"
             ],
             [
              0.3333333333333333,
              "#9c179e"
             ],
             [
              0.4444444444444444,
              "#bd3786"
             ],
             [
              0.5555555555555556,
              "#d8576b"
             ],
             [
              0.6666666666666666,
              "#ed7953"
             ],
             [
              0.7777777777777778,
              "#fb9f3a"
             ],
             [
              0.8888888888888888,
              "#fdca26"
             ],
             [
              1,
              "#f0f921"
             ]
            ],
            "type": "surface"
           }
          ],
          "table": [
           {
            "cells": {
             "fill": {
              "color": "#EBF0F8"
             },
             "line": {
              "color": "white"
             }
            },
            "header": {
             "fill": {
              "color": "#C8D4E3"
             },
             "line": {
              "color": "white"
             }
            },
            "type": "table"
           }
          ]
         },
         "layout": {
          "annotationdefaults": {
           "arrowcolor": "#2a3f5f",
           "arrowhead": 0,
           "arrowwidth": 1
          },
          "autotypenumbers": "strict",
          "coloraxis": {
           "colorbar": {
            "outlinewidth": 0,
            "ticks": ""
           }
          },
          "colorscale": {
           "diverging": [
            [
             0,
             "#8e0152"
            ],
            [
             0.1,
             "#c51b7d"
            ],
            [
             0.2,
             "#de77ae"
            ],
            [
             0.3,
             "#f1b6da"
            ],
            [
             0.4,
             "#fde0ef"
            ],
            [
             0.5,
             "#f7f7f7"
            ],
            [
             0.6,
             "#e6f5d0"
            ],
            [
             0.7,
             "#b8e186"
            ],
            [
             0.8,
             "#7fbc41"
            ],
            [
             0.9,
             "#4d9221"
            ],
            [
             1,
             "#276419"
            ]
           ],
           "sequential": [
            [
             0,
             "#0d0887"
            ],
            [
             0.1111111111111111,
             "#46039f"
            ],
            [
             0.2222222222222222,
             "#7201a8"
            ],
            [
             0.3333333333333333,
             "#9c179e"
            ],
            [
             0.4444444444444444,
             "#bd3786"
            ],
            [
             0.5555555555555556,
             "#d8576b"
            ],
            [
             0.6666666666666666,
             "#ed7953"
            ],
            [
             0.7777777777777778,
             "#fb9f3a"
            ],
            [
             0.8888888888888888,
             "#fdca26"
            ],
            [
             1,
             "#f0f921"
            ]
           ],
           "sequentialminus": [
            [
             0,
             "#0d0887"
            ],
            [
             0.1111111111111111,
             "#46039f"
            ],
            [
             0.2222222222222222,
             "#7201a8"
            ],
            [
             0.3333333333333333,
             "#9c179e"
            ],
            [
             0.4444444444444444,
             "#bd3786"
            ],
            [
             0.5555555555555556,
             "#d8576b"
            ],
            [
             0.6666666666666666,
             "#ed7953"
            ],
            [
             0.7777777777777778,
             "#fb9f3a"
            ],
            [
             0.8888888888888888,
             "#fdca26"
            ],
            [
             1,
             "#f0f921"
            ]
           ]
          },
          "colorway": [
           "#636efa",
           "#EF553B",
           "#00cc96",
           "#ab63fa",
           "#FFA15A",
           "#19d3f3",
           "#FF6692",
           "#B6E880",
           "#FF97FF",
           "#FECB52"
          ],
          "font": {
           "color": "#2a3f5f"
          },
          "geo": {
           "bgcolor": "white",
           "lakecolor": "white",
           "landcolor": "#E5ECF6",
           "showlakes": true,
           "showland": true,
           "subunitcolor": "white"
          },
          "hoverlabel": {
           "align": "left"
          },
          "hovermode": "closest",
          "mapbox": {
           "style": "light"
          },
          "paper_bgcolor": "white",
          "plot_bgcolor": "#E5ECF6",
          "polar": {
           "angularaxis": {
            "gridcolor": "white",
            "linecolor": "white",
            "ticks": ""
           },
           "bgcolor": "#E5ECF6",
           "radialaxis": {
            "gridcolor": "white",
            "linecolor": "white",
            "ticks": ""
           }
          },
          "scene": {
           "xaxis": {
            "backgroundcolor": "#E5ECF6",
            "gridcolor": "white",
            "gridwidth": 2,
            "linecolor": "white",
            "showbackground": true,
            "ticks": "",
            "zerolinecolor": "white"
           },
           "yaxis": {
            "backgroundcolor": "#E5ECF6",
            "gridcolor": "white",
            "gridwidth": 2,
            "linecolor": "white",
            "showbackground": true,
            "ticks": "",
            "zerolinecolor": "white"
           },
           "zaxis": {
            "backgroundcolor": "#E5ECF6",
            "gridcolor": "white",
            "gridwidth": 2,
            "linecolor": "white",
            "showbackground": true,
            "ticks": "",
            "zerolinecolor": "white"
           }
          },
          "shapedefaults": {
           "line": {
            "color": "#2a3f5f"
           }
          },
          "ternary": {
           "aaxis": {
            "gridcolor": "white",
            "linecolor": "white",
            "ticks": ""
           },
           "baxis": {
            "gridcolor": "white",
            "linecolor": "white",
            "ticks": ""
           },
           "bgcolor": "#E5ECF6",
           "caxis": {
            "gridcolor": "white",
            "linecolor": "white",
            "ticks": ""
           }
          },
          "title": {
           "x": 0.05
          },
          "xaxis": {
           "automargin": true,
           "gridcolor": "white",
           "linecolor": "white",
           "ticks": "",
           "title": {
            "standoff": 15
           },
           "zerolinecolor": "white",
           "zerolinewidth": 2
          },
          "yaxis": {
           "automargin": true,
           "gridcolor": "white",
           "linecolor": "white",
           "ticks": "",
           "title": {
            "standoff": 15
           },
           "zerolinecolor": "white",
           "zerolinewidth": 2
          }
         }
        },
        "title": {
         "text": "Grove St PATH Citibike Station, daily starts+ends",
         "x": 0.5,
         "xanchor": "center",
         "yanchor": "top"
        },
        "xaxis": {
         "anchor": "y",
         "domain": [
          0,
          1
         ],
         "title": {
          "text": "Date"
         }
        },
        "yaxis": {
         "anchor": "x",
         "domain": [
          0,
          1
         ],
         "title": {
          "text": "Daily ride starts+stops"
         }
        }
       }
      },
      "text/html": [
       "<div>                            <div id=\"5a9b2893-db8d-4e89-ba45-1e82e2b7cf7d\" class=\"plotly-graph-div\" style=\"height:525px; width:100%;\"></div>            <script type=\"text/javascript\">                require([\"plotly\"], function(Plotly) {                    window.PLOTLYENV=window.PLOTLYENV || {};                                    if (document.getElementById(\"5a9b2893-db8d-4e89-ba45-1e82e2b7cf7d\")) {                    Plotly.newPlot(                        \"5a9b2893-db8d-4e89-ba45-1e82e2b7cf7d\",                        [{\"alignmentgroup\":\"True\",\"hovertemplate\":\"Weekday=True<br>Date=%{x}<br>Daily ride starts+stops=%{y}<extra></extra>\",\"legendgroup\":\"True\",\"marker\":{\"color\":\"#636efa\",\"pattern\":{\"shape\":\"\"}},\"name\":\"True\",\"offsetgroup\":\"True\",\"orientation\":\"v\",\"showlegend\":true,\"textposition\":\"auto\",\"type\":\"bar\",\"x\":[\"2021-09-01T00:00:00\",\"2021-09-02T00:00:00\",\"2021-09-03T00:00:00\",\"2021-09-06T00:00:00\",\"2021-09-07T00:00:00\",\"2021-09-08T00:00:00\",\"2021-09-09T00:00:00\",\"2021-09-10T00:00:00\",\"2021-09-13T00:00:00\",\"2021-09-14T00:00:00\",\"2021-09-15T00:00:00\",\"2021-09-16T00:00:00\",\"2021-09-17T00:00:00\",\"2021-09-20T00:00:00\",\"2021-09-21T00:00:00\",\"2021-09-22T00:00:00\",\"2021-09-23T00:00:00\",\"2021-09-24T00:00:00\",\"2021-09-27T00:00:00\",\"2021-09-28T00:00:00\",\"2021-09-29T00:00:00\",\"2021-09-30T00:00:00\"],\"xaxis\":\"x\",\"y\":[94,274,301,245,289,309,229,332,260,281,395,352,370,313,297,339,255,272,279,303,379,327],\"yaxis\":\"y\"},{\"alignmentgroup\":\"True\",\"hovertemplate\":\"Weekday=False<br>Date=%{x}<br>Daily ride starts+stops=%{y}<extra></extra>\",\"legendgroup\":\"False\",\"marker\":{\"color\":\"#EF553B\",\"pattern\":{\"shape\":\"\"}},\"name\":\"False\",\"offsetgroup\":\"False\",\"orientation\":\"v\",\"showlegend\":true,\"textposition\":\"auto\",\"type\":\"bar\",\"x\":[\"2021-09-04T00:00:00\",\"2021-09-05T00:00:00\",\"2021-09-11T00:00:00\",\"2021-09-12T00:00:00\",\"2021-09-18T00:00:00\",\"2021-09-19T00:00:00\",\"2021-09-25T00:00:00\",\"2021-09-26T00:00:00\"],\"xaxis\":\"x\",\"y\":[250,193,265,216,339,269,302,234],\"yaxis\":\"y\"}],                        {\"barmode\":\"relative\",\"legend\":{\"title\":{\"text\":\"Weekday\"},\"tracegroupgap\":0},\"margin\":{\"t\":60},\"template\":{\"data\":{\"bar\":[{\"error_x\":{\"color\":\"#2a3f5f\"},\"error_y\":{\"color\":\"#2a3f5f\"},\"marker\":{\"line\":{\"color\":\"#E5ECF6\",\"width\":0.5},\"pattern\":{\"fillmode\":\"overlay\",\"size\":10,\"solidity\":0.2}},\"type\":\"bar\"}],\"barpolar\":[{\"marker\":{\"line\":{\"color\":\"#E5ECF6\",\"width\":0.5},\"pattern\":{\"fillmode\":\"overlay\",\"size\":10,\"solidity\":0.2}},\"type\":\"barpolar\"}],\"carpet\":[{\"aaxis\":{\"endlinecolor\":\"#2a3f5f\",\"gridcolor\":\"white\",\"linecolor\":\"white\",\"minorgridcolor\":\"white\",\"startlinecolor\":\"#2a3f5f\"},\"baxis\":{\"endlinecolor\":\"#2a3f5f\",\"gridcolor\":\"white\",\"linecolor\":\"white\",\"minorgridcolor\":\"white\",\"startlinecolor\":\"#2a3f5f\"},\"type\":\"carpet\"}],\"choropleth\":[{\"colorbar\":{\"outlinewidth\":0,\"ticks\":\"\"},\"type\":\"choropleth\"}],\"contour\":[{\"colorbar\":{\"outlinewidth\":0,\"ticks\":\"\"},\"colorscale\":[[0.0,\"#0d0887\"],[0.1111111111111111,\"#46039f\"],[0.2222222222222222,\"#7201a8\"],[0.3333333333333333,\"#9c179e\"],[0.4444444444444444,\"#bd3786\"],[0.5555555555555556,\"#d8576b\"],[0.6666666666666666,\"#ed7953\"],[0.7777777777777778,\"#fb9f3a\"],[0.8888888888888888,\"#fdca26\"],[1.0,\"#f0f921\"]],\"type\":\"contour\"}],\"contourcarpet\":[{\"colorbar\":{\"outlinewidth\":0,\"ticks\":\"\"},\"type\":\"contourcarpet\"}],\"heatmap\":[{\"colorbar\":{\"outlinewidth\":0,\"ticks\":\"\"},\"colorscale\":[[0.0,\"#0d0887\"],[0.1111111111111111,\"#46039f\"],[0.2222222222222222,\"#7201a8\"],[0.3333333333333333,\"#9c179e\"],[0.4444444444444444,\"#bd3786\"],[0.5555555555555556,\"#d8576b\"],[0.6666666666666666,\"#ed7953\"],[0.7777777777777778,\"#fb9f3a\"],[0.8888888888888888,\"#fdca26\"],[1.0,\"#f0f921\"]],\"type\":\"heatmap\"}],\"heatmapgl\":[{\"colorbar\":{\"outlinewidth\":0,\"ticks\":\"\"},\"colorscale\":[[0.0,\"#0d0887\"],[0.1111111111111111,\"#46039f\"],[0.2222222222222222,\"#7201a8\"],[0.3333333333333333,\"#9c179e\"],[0.4444444444444444,\"#bd3786\"],[0.5555555555555556,\"#d8576b\"],[0.6666666666666666,\"#ed7953\"],[0.7777777777777778,\"#fb9f3a\"],[0.8888888888888888,\"#fdca26\"],[1.0,\"#f0f921\"]],\"type\":\"heatmapgl\"}],\"histogram\":[{\"marker\":{\"pattern\":{\"fillmode\":\"overlay\",\"size\":10,\"solidity\":0.2}},\"type\":\"histogram\"}],\"histogram2d\":[{\"colorbar\":{\"outlinewidth\":0,\"ticks\":\"\"},\"colorscale\":[[0.0,\"#0d0887\"],[0.1111111111111111,\"#46039f\"],[0.2222222222222222,\"#7201a8\"],[0.3333333333333333,\"#9c179e\"],[0.4444444444444444,\"#bd3786\"],[0.5555555555555556,\"#d8576b\"],[0.6666666666666666,\"#ed7953\"],[0.7777777777777778,\"#fb9f3a\"],[0.8888888888888888,\"#fdca26\"],[1.0,\"#f0f921\"]],\"type\":\"histogram2d\"}],\"histogram2dcontour\":[{\"colorbar\":{\"outlinewidth\":0,\"ticks\":\"\"},\"colorscale\":[[0.0,\"#0d0887\"],[0.1111111111111111,\"#46039f\"],[0.2222222222222222,\"#7201a8\"],[0.3333333333333333,\"#9c179e\"],[0.4444444444444444,\"#bd3786\"],[0.5555555555555556,\"#d8576b\"],[0.6666666666666666,\"#ed7953\"],[0.7777777777777778,\"#fb9f3a\"],[0.8888888888888888,\"#fdca26\"],[1.0,\"#f0f921\"]],\"type\":\"histogram2dcontour\"}],\"mesh3d\":[{\"colorbar\":{\"outlinewidth\":0,\"ticks\":\"\"},\"type\":\"mesh3d\"}],\"parcoords\":[{\"line\":{\"colorbar\":{\"outlinewidth\":0,\"ticks\":\"\"}},\"type\":\"parcoords\"}],\"pie\":[{\"automargin\":true,\"type\":\"pie\"}],\"scatter\":[{\"marker\":{\"colorbar\":{\"outlinewidth\":0,\"ticks\":\"\"}},\"type\":\"scatter\"}],\"scatter3d\":[{\"line\":{\"colorbar\":{\"outlinewidth\":0,\"ticks\":\"\"}},\"marker\":{\"colorbar\":{\"outlinewidth\":0,\"ticks\":\"\"}},\"type\":\"scatter3d\"}],\"scattercarpet\":[{\"marker\":{\"colorbar\":{\"outlinewidth\":0,\"ticks\":\"\"}},\"type\":\"scattercarpet\"}],\"scattergeo\":[{\"marker\":{\"colorbar\":{\"outlinewidth\":0,\"ticks\":\"\"}},\"type\":\"scattergeo\"}],\"scattergl\":[{\"marker\":{\"colorbar\":{\"outlinewidth\":0,\"ticks\":\"\"}},\"type\":\"scattergl\"}],\"scattermapbox\":[{\"marker\":{\"colorbar\":{\"outlinewidth\":0,\"ticks\":\"\"}},\"type\":\"scattermapbox\"}],\"scatterpolar\":[{\"marker\":{\"colorbar\":{\"outlinewidth\":0,\"ticks\":\"\"}},\"type\":\"scatterpolar\"}],\"scatterpolargl\":[{\"marker\":{\"colorbar\":{\"outlinewidth\":0,\"ticks\":\"\"}},\"type\":\"scatterpolargl\"}],\"scatterternary\":[{\"marker\":{\"colorbar\":{\"outlinewidth\":0,\"ticks\":\"\"}},\"type\":\"scatterternary\"}],\"surface\":[{\"colorbar\":{\"outlinewidth\":0,\"ticks\":\"\"},\"colorscale\":[[0.0,\"#0d0887\"],[0.1111111111111111,\"#46039f\"],[0.2222222222222222,\"#7201a8\"],[0.3333333333333333,\"#9c179e\"],[0.4444444444444444,\"#bd3786\"],[0.5555555555555556,\"#d8576b\"],[0.6666666666666666,\"#ed7953\"],[0.7777777777777778,\"#fb9f3a\"],[0.8888888888888888,\"#fdca26\"],[1.0,\"#f0f921\"]],\"type\":\"surface\"}],\"table\":[{\"cells\":{\"fill\":{\"color\":\"#EBF0F8\"},\"line\":{\"color\":\"white\"}},\"header\":{\"fill\":{\"color\":\"#C8D4E3\"},\"line\":{\"color\":\"white\"}},\"type\":\"table\"}]},\"layout\":{\"annotationdefaults\":{\"arrowcolor\":\"#2a3f5f\",\"arrowhead\":0,\"arrowwidth\":1},\"autotypenumbers\":\"strict\",\"coloraxis\":{\"colorbar\":{\"outlinewidth\":0,\"ticks\":\"\"}},\"colorscale\":{\"diverging\":[[0,\"#8e0152\"],[0.1,\"#c51b7d\"],[0.2,\"#de77ae\"],[0.3,\"#f1b6da\"],[0.4,\"#fde0ef\"],[0.5,\"#f7f7f7\"],[0.6,\"#e6f5d0\"],[0.7,\"#b8e186\"],[0.8,\"#7fbc41\"],[0.9,\"#4d9221\"],[1,\"#276419\"]],\"sequential\":[[0.0,\"#0d0887\"],[0.1111111111111111,\"#46039f\"],[0.2222222222222222,\"#7201a8\"],[0.3333333333333333,\"#9c179e\"],[0.4444444444444444,\"#bd3786\"],[0.5555555555555556,\"#d8576b\"],[0.6666666666666666,\"#ed7953\"],[0.7777777777777778,\"#fb9f3a\"],[0.8888888888888888,\"#fdca26\"],[1.0,\"#f0f921\"]],\"sequentialminus\":[[0.0,\"#0d0887\"],[0.1111111111111111,\"#46039f\"],[0.2222222222222222,\"#7201a8\"],[0.3333333333333333,\"#9c179e\"],[0.4444444444444444,\"#bd3786\"],[0.5555555555555556,\"#d8576b\"],[0.6666666666666666,\"#ed7953\"],[0.7777777777777778,\"#fb9f3a\"],[0.8888888888888888,\"#fdca26\"],[1.0,\"#f0f921\"]]},\"colorway\":[\"#636efa\",\"#EF553B\",\"#00cc96\",\"#ab63fa\",\"#FFA15A\",\"#19d3f3\",\"#FF6692\",\"#B6E880\",\"#FF97FF\",\"#FECB52\"],\"font\":{\"color\":\"#2a3f5f\"},\"geo\":{\"bgcolor\":\"white\",\"lakecolor\":\"white\",\"landcolor\":\"#E5ECF6\",\"showlakes\":true,\"showland\":true,\"subunitcolor\":\"white\"},\"hoverlabel\":{\"align\":\"left\"},\"hovermode\":\"closest\",\"mapbox\":{\"style\":\"light\"},\"paper_bgcolor\":\"white\",\"plot_bgcolor\":\"#E5ECF6\",\"polar\":{\"angularaxis\":{\"gridcolor\":\"white\",\"linecolor\":\"white\",\"ticks\":\"\"},\"bgcolor\":\"#E5ECF6\",\"radialaxis\":{\"gridcolor\":\"white\",\"linecolor\":\"white\",\"ticks\":\"\"}},\"scene\":{\"xaxis\":{\"backgroundcolor\":\"#E5ECF6\",\"gridcolor\":\"white\",\"gridwidth\":2,\"linecolor\":\"white\",\"showbackground\":true,\"ticks\":\"\",\"zerolinecolor\":\"white\"},\"yaxis\":{\"backgroundcolor\":\"#E5ECF6\",\"gridcolor\":\"white\",\"gridwidth\":2,\"linecolor\":\"white\",\"showbackground\":true,\"ticks\":\"\",\"zerolinecolor\":\"white\"},\"zaxis\":{\"backgroundcolor\":\"#E5ECF6\",\"gridcolor\":\"white\",\"gridwidth\":2,\"linecolor\":\"white\",\"showbackground\":true,\"ticks\":\"\",\"zerolinecolor\":\"white\"}},\"shapedefaults\":{\"line\":{\"color\":\"#2a3f5f\"}},\"ternary\":{\"aaxis\":{\"gridcolor\":\"white\",\"linecolor\":\"white\",\"ticks\":\"\"},\"baxis\":{\"gridcolor\":\"white\",\"linecolor\":\"white\",\"ticks\":\"\"},\"bgcolor\":\"#E5ECF6\",\"caxis\":{\"gridcolor\":\"white\",\"linecolor\":\"white\",\"ticks\":\"\"}},\"title\":{\"x\":0.05},\"xaxis\":{\"automargin\":true,\"gridcolor\":\"white\",\"linecolor\":\"white\",\"ticks\":\"\",\"title\":{\"standoff\":15},\"zerolinecolor\":\"white\",\"zerolinewidth\":2},\"yaxis\":{\"automargin\":true,\"gridcolor\":\"white\",\"linecolor\":\"white\",\"ticks\":\"\",\"title\":{\"standoff\":15},\"zerolinecolor\":\"white\",\"zerolinewidth\":2}}},\"title\":{\"text\":\"Grove St PATH Citibike Station, daily starts+ends\",\"x\":0.5,\"xanchor\":\"center\",\"yanchor\":\"top\"},\"xaxis\":{\"anchor\":\"y\",\"domain\":[0.0,1.0],\"title\":{\"text\":\"Date\"}},\"yaxis\":{\"anchor\":\"x\",\"domain\":[0.0,1.0],\"title\":{\"text\":\"Daily ride starts+stops\"}}},                        {\"responsive\": true}                    ).then(function(){\n",
       "                            \n",
       "var gd = document.getElementById('5a9b2893-db8d-4e89-ba45-1e82e2b7cf7d');\n",
       "var x = new MutationObserver(function (mutations, observer) {{\n",
       "        var display = window.getComputedStyle(gd).display;\n",
       "        if (!display || display === 'none') {{\n",
       "            console.log([gd, 'removed!']);\n",
       "            Plotly.purge(gd);\n",
       "            observer.disconnect();\n",
       "        }}\n",
       "}});\n",
       "\n",
       "// Listen for the removal of the full notebook cells\n",
       "var notebookContainer = gd.closest('#notebook-container');\n",
       "if (notebookContainer) {{\n",
       "    x.observe(notebookContainer, {childList: true});\n",
       "}}\n",
       "\n",
       "// Listen for the clearing of the current output cell\n",
       "var outputEl = gd.closest('.output');\n",
       "if (outputEl) {{\n",
       "    x.observe(outputEl, {childList: true});\n",
       "}}\n",
       "\n",
       "                        })                };                });            </script>        </div>"
      ]
     },
     "metadata": {},
     "output_type": "display_data"
    }
   ],
   "source": [
    "title = 'Grove St PATH Citibike Station, daily starts+ends'\n",
    "fig = px.bar(\n",
    "    ts[ts['Station Name'] == 'Grove St PATH'], \n",
    "    x='Date', y='Count', \n",
    "    color='Weekday', \n",
    "    labels={'Count': 'Daily ride starts+stops'},\n",
    ")\n",
    "fig.update_layout(\n",
    "    title={\n",
    "        'text': title,\n",
    "        'x':0.5,\n",
    "        'xanchor': 'center',\n",
    "        'yanchor': 'top',\n",
    "    },\n",
    ")\n",
    "fig"
   ]
  },
  {
   "cell_type": "code",
   "execution_count": 182,
   "id": "45c2139d",
   "metadata": {},
   "outputs": [
    {
     "data": {
      "text/html": [
       "<div>\n",
       "<style scoped>\n",
       "    .dataframe tbody tr th:only-of-type {\n",
       "        vertical-align: middle;\n",
       "    }\n",
       "\n",
       "    .dataframe tbody tr th {\n",
       "        vertical-align: top;\n",
       "    }\n",
       "\n",
       "    .dataframe thead th {\n",
       "        text-align: right;\n",
       "    }\n",
       "</style>\n",
       "<table border=\"1\" class=\"dataframe\">\n",
       "  <thead>\n",
       "    <tr style=\"text-align: right;\">\n",
       "      <th></th>\n",
       "      <th>country</th>\n",
       "      <th>continent</th>\n",
       "      <th>year</th>\n",
       "      <th>lifeExp</th>\n",
       "      <th>pop</th>\n",
       "      <th>gdpPercap</th>\n",
       "      <th>iso_alpha</th>\n",
       "      <th>iso_num</th>\n",
       "    </tr>\n",
       "  </thead>\n",
       "  <tbody>\n",
       "    <tr>\n",
       "      <th>11</th>\n",
       "      <td>Afghanistan</td>\n",
       "      <td>Asia</td>\n",
       "      <td>2007</td>\n",
       "      <td>43.828</td>\n",
       "      <td>31889923</td>\n",
       "      <td>974.580338</td>\n",
       "      <td>AFG</td>\n",
       "      <td>4</td>\n",
       "    </tr>\n",
       "    <tr>\n",
       "      <th>23</th>\n",
       "      <td>Albania</td>\n",
       "      <td>Europe</td>\n",
       "      <td>2007</td>\n",
       "      <td>76.423</td>\n",
       "      <td>3600523</td>\n",
       "      <td>5937.029526</td>\n",
       "      <td>ALB</td>\n",
       "      <td>8</td>\n",
       "    </tr>\n",
       "    <tr>\n",
       "      <th>35</th>\n",
       "      <td>Algeria</td>\n",
       "      <td>Africa</td>\n",
       "      <td>2007</td>\n",
       "      <td>72.301</td>\n",
       "      <td>33333216</td>\n",
       "      <td>6223.367465</td>\n",
       "      <td>DZA</td>\n",
       "      <td>12</td>\n",
       "    </tr>\n",
       "    <tr>\n",
       "      <th>47</th>\n",
       "      <td>Angola</td>\n",
       "      <td>Africa</td>\n",
       "      <td>2007</td>\n",
       "      <td>42.731</td>\n",
       "      <td>12420476</td>\n",
       "      <td>4797.231267</td>\n",
       "      <td>AGO</td>\n",
       "      <td>24</td>\n",
       "    </tr>\n",
       "    <tr>\n",
       "      <th>59</th>\n",
       "      <td>Argentina</td>\n",
       "      <td>Americas</td>\n",
       "      <td>2007</td>\n",
       "      <td>75.320</td>\n",
       "      <td>40301927</td>\n",
       "      <td>12779.379640</td>\n",
       "      <td>ARG</td>\n",
       "      <td>32</td>\n",
       "    </tr>\n",
       "    <tr>\n",
       "      <th>...</th>\n",
       "      <td>...</td>\n",
       "      <td>...</td>\n",
       "      <td>...</td>\n",
       "      <td>...</td>\n",
       "      <td>...</td>\n",
       "      <td>...</td>\n",
       "      <td>...</td>\n",
       "      <td>...</td>\n",
       "    </tr>\n",
       "    <tr>\n",
       "      <th>1655</th>\n",
       "      <td>Vietnam</td>\n",
       "      <td>Asia</td>\n",
       "      <td>2007</td>\n",
       "      <td>74.249</td>\n",
       "      <td>85262356</td>\n",
       "      <td>2441.576404</td>\n",
       "      <td>VNM</td>\n",
       "      <td>704</td>\n",
       "    </tr>\n",
       "    <tr>\n",
       "      <th>1667</th>\n",
       "      <td>West Bank and Gaza</td>\n",
       "      <td>Asia</td>\n",
       "      <td>2007</td>\n",
       "      <td>73.422</td>\n",
       "      <td>4018332</td>\n",
       "      <td>3025.349798</td>\n",
       "      <td>PSE</td>\n",
       "      <td>275</td>\n",
       "    </tr>\n",
       "    <tr>\n",
       "      <th>1679</th>\n",
       "      <td>Yemen, Rep.</td>\n",
       "      <td>Asia</td>\n",
       "      <td>2007</td>\n",
       "      <td>62.698</td>\n",
       "      <td>22211743</td>\n",
       "      <td>2280.769906</td>\n",
       "      <td>YEM</td>\n",
       "      <td>887</td>\n",
       "    </tr>\n",
       "    <tr>\n",
       "      <th>1691</th>\n",
       "      <td>Zambia</td>\n",
       "      <td>Africa</td>\n",
       "      <td>2007</td>\n",
       "      <td>42.384</td>\n",
       "      <td>11746035</td>\n",
       "      <td>1271.211593</td>\n",
       "      <td>ZMB</td>\n",
       "      <td>894</td>\n",
       "    </tr>\n",
       "    <tr>\n",
       "      <th>1703</th>\n",
       "      <td>Zimbabwe</td>\n",
       "      <td>Africa</td>\n",
       "      <td>2007</td>\n",
       "      <td>43.487</td>\n",
       "      <td>12311143</td>\n",
       "      <td>469.709298</td>\n",
       "      <td>ZWE</td>\n",
       "      <td>716</td>\n",
       "    </tr>\n",
       "  </tbody>\n",
       "</table>\n",
       "<p>142 rows × 8 columns</p>\n",
       "</div>"
      ],
      "text/plain": [
       "                 country continent  year  lifeExp       pop     gdpPercap  \\\n",
       "11           Afghanistan      Asia  2007   43.828  31889923    974.580338   \n",
       "23               Albania    Europe  2007   76.423   3600523   5937.029526   \n",
       "35               Algeria    Africa  2007   72.301  33333216   6223.367465   \n",
       "47                Angola    Africa  2007   42.731  12420476   4797.231267   \n",
       "59             Argentina  Americas  2007   75.320  40301927  12779.379640   \n",
       "...                  ...       ...   ...      ...       ...           ...   \n",
       "1655             Vietnam      Asia  2007   74.249  85262356   2441.576404   \n",
       "1667  West Bank and Gaza      Asia  2007   73.422   4018332   3025.349798   \n",
       "1679         Yemen, Rep.      Asia  2007   62.698  22211743   2280.769906   \n",
       "1691              Zambia    Africa  2007   42.384  11746035   1271.211593   \n",
       "1703            Zimbabwe    Africa  2007   43.487  12311143    469.709298   \n",
       "\n",
       "     iso_alpha  iso_num  \n",
       "11         AFG        4  \n",
       "23         ALB        8  \n",
       "35         DZA       12  \n",
       "47         AGO       24  \n",
       "59         ARG       32  \n",
       "...        ...      ...  \n",
       "1655       VNM      704  \n",
       "1667       PSE      275  \n",
       "1679       YEM      887  \n",
       "1691       ZMB      894  \n",
       "1703       ZWE      716  \n",
       "\n",
       "[142 rows x 8 columns]"
      ]
     },
     "execution_count": 182,
     "metadata": {},
     "output_type": "execute_result"
    }
   ],
   "source": [
    "df = px.data.gapminder().query(\"year==2007\")\n",
    "df"
   ]
  },
  {
   "cell_type": "code",
   "execution_count": 183,
   "id": "6d8fff55",
   "metadata": {},
   "outputs": [],
   "source": [
    "import plotly.graph_objects as go"
   ]
  },
  {
   "cell_type": "code",
   "execution_count": 187,
   "id": "3b6df04d",
   "metadata": {},
   "outputs": [
    {
     "data": {
      "application/vnd.plotly.v1+json": {
       "config": {
        "plotlyServerURL": "https://plot.ly"
       },
       "data": [
        {
         "lat": [
          40.7359,
          40.7361,
          40.737,
          40.7506,
          40.753,
          40.7545,
          40.7423,
          40.7444,
          40.7454,
          40.7464,
          40.7479,
          40.7376,
          40.7388,
          40.7431,
          40.7391,
          40.7482,
          40.75,
          40.7499,
          40.7519,
          40.7541,
          40.7509,
          40.7427,
          40.746,
          40.7141,
          40.7177,
          40.7196,
          40.7211,
          40.7287,
          40.7276,
          40.7165,
          40.7146,
          40.7184,
          40.735,
          40.7312,
          40.7237,
          40.7376,
          40.7242,
          40.7427,
          40.7253,
          40.7215,
          40.7348,
          40.7185,
          40.7128,
          40.7182,
          40.7112,
          40.7246,
          40.7253,
          40.7309,
          40.7443,
          40.7487,
          40.7111,
          40.7377,
          40.7272,
          40.7124,
          40.7233,
          40.7257,
          40.7216,
          40.7193,
          40.7135,
          40.7459,
          40.726,
          40.7217,
          40.7144,
          40.7276,
          40.7221,
          40.7243,
          40.7194,
          40.7152,
          40.7337,
          40.7193,
          40.7352,
          40.7169,
          40.7092,
          40.7066
         ],
         "lon": [
          -74.0303,
          -74.0291,
          -74.0278,
          -74.024,
          -74.0244,
          -74.0266,
          -74.0351,
          -74.0345,
          -74.0333,
          -74.038,
          -74.0384,
          -74.0417,
          -74.0393,
          -74.04,
          -74.0362,
          -74.0325,
          -74.0272,
          -74.0359,
          -74.0304,
          -74.0316,
          -74.0335,
          -74.0322,
          -74.0282,
          -74.0336,
          -74.0438,
          -74.0431,
          -74.0381,
          -74.0321,
          -74.0442,
          -74.0496,
          -74.0428,
          -74.0389,
          -74.0595,
          -74.0576,
          -74.0642,
          -74.0525,
          -74.0507,
          -74.0518,
          -74.0456,
          -74.0463,
          -74.0504,
          -74.0477,
          -74.0365,
          -74.0836,
          -74.0557,
          -74.0784,
          -74.0676,
          -74.0639,
          -74.044,
          -74.0404,
          -74.0789,
          -74.0669,
          -74.0338,
          -74.0385,
          -74.046,
          -74.0488,
          -74.05,
          -74.0713,
          -74.0629,
          -74.0573,
          -74.0504,
          -74.0429,
          -74.0666,
          -74.0711,
          -74.0715,
          -74.0355,
          -74.051,
          -74.0377,
          -74.0625,
          -74.0342,
          -74.047,
          -74.0328,
          -74.0808,
          -74.0867
         ],
         "marker": {
          "color": "royalblue",
          "size": [
           3728,
           4415,
           4607,
           1746,
           2222,
           1193,
           961,
           990,
           684,
           1190,
           1036,
           1226,
           2048,
           556,
           1506,
           1452,
           2049,
           876,
           863,
           1458,
           690,
           1774,
           2205,
           1237,
           1809,
           4213,
           1425,
           2869,
           2672,
           1329,
           2250,
           1533,
           244,
           740,
           1010,
           540,
           1100,
           776,
           749,
           1430,
           454,
           1302,
           617,
           205,
           1880,
           695,
           1019,
           2238,
           588,
           578,
           134,
           251,
           2293,
           1077,
           860,
           683,
           794,
           495,
           764,
           298,
           711,
           1101,
           392,
           405,
           728,
           2007,
           629,
           1168,
           676,
           2103,
           2462,
           1983,
           83,
           216
          ],
          "sizemode": "area"
         },
         "text": [
          "Hoboken Terminal - Hudson St & Hudson Pl",
          "Hoboken Terminal - River St & Hudson Pl",
          "South Waterfront Walkway - Sinatra Dr & 1 St",
          "12 St & Sinatra Dr N",
          "14 St Ferry - 14 St & Shipyard Ln",
          "Bloomfield St & 15 St",
          "4 St & Grand St",
          "6 St & Grand St",
          "Clinton St & 7 St",
          "7 St & Monroe St",
          "9 St HBLR - Jackson St & 8 St",
          "Southwest Park - Jackson St & Observer Hwy",
          "Madison St & 1 St",
          "Mama Johnson Field - 4 St & Jackson St",
          "Grand St & 2 St",
          "Columbus Park - Clinton St & 9 St",
          "11 St & Washington St",
          "Madison St & 10 St",
          "Willow Ave & 12 St",
          "Grand St & 14 St",
          "Adams St & 11 St",
          "Church Sq Park - 5 St & Park Ave",
          "8 St & Washington St",
          "Paulus Hook",
          "City Hall",
          "Grove St PATH",
          "Warren St",
          "Newport Pkwy",
          "Hamilton Park",
          "JC Medical Center",
          "Marin Light Rail",
          "Columbus Drive",
          "5 Corners Library",
          "Hilltop",
          "Baldwin at Montgomery",
          "Oakland Ave",
          "Brunswick St",
          "Pershing Field",
          "Jersey & 6th St",
          "Newark Ave",
          "Christ Hospital",
          "Van Vorst Park",
          "Essex Light Rail",
          "Union St",
          "Liberty Light Rail",
          "Lincoln Park",
          "McGinley Square",
          "Sip Ave",
          "Riverview Park",
          "Heights Elevator",
          "Jackson Square",
          "Dey St",
          "Newport PATH",
          "Morris Canal",
          "Jersey & 3rd",
          "Monmouth and 6th",
          "Dixon Mills",
          "Astor Place",
          "Lafayette Park",
          "Leonard Gordon Park",
          "Brunswick & 6th",
          "Manila & 1st",
          "Communipaw & Berry Lane",
          "Glenwood Ave",
          "Bergen Ave",
          "Washington St",
          "Montgomery St",
          "Grand St",
          "Journal Square",
          "Harborside",
          "Hoboken Ave at Monmouth St",
          "Columbus Dr at Exchange Pl",
          "Grant Ave & MLK Dr",
          "Bergen Ave & Stegman St"
         ],
         "type": "scattergeo"
        }
       ],
       "layout": {
        "geo": {
         "fitbounds": "locations"
        },
        "height": 300,
        "margin": {
         "b": 0,
         "l": 0,
         "r": 0,
         "t": 0
        },
        "template": {
         "data": {
          "bar": [
           {
            "error_x": {
             "color": "#2a3f5f"
            },
            "error_y": {
             "color": "#2a3f5f"
            },
            "marker": {
             "line": {
              "color": "#E5ECF6",
              "width": 0.5
             },
             "pattern": {
              "fillmode": "overlay",
              "size": 10,
              "solidity": 0.2
             }
            },
            "type": "bar"
           }
          ],
          "barpolar": [
           {
            "marker": {
             "line": {
              "color": "#E5ECF6",
              "width": 0.5
             },
             "pattern": {
              "fillmode": "overlay",
              "size": 10,
              "solidity": 0.2
             }
            },
            "type": "barpolar"
           }
          ],
          "carpet": [
           {
            "aaxis": {
             "endlinecolor": "#2a3f5f",
             "gridcolor": "white",
             "linecolor": "white",
             "minorgridcolor": "white",
             "startlinecolor": "#2a3f5f"
            },
            "baxis": {
             "endlinecolor": "#2a3f5f",
             "gridcolor": "white",
             "linecolor": "white",
             "minorgridcolor": "white",
             "startlinecolor": "#2a3f5f"
            },
            "type": "carpet"
           }
          ],
          "choropleth": [
           {
            "colorbar": {
             "outlinewidth": 0,
             "ticks": ""
            },
            "type": "choropleth"
           }
          ],
          "contour": [
           {
            "colorbar": {
             "outlinewidth": 0,
             "ticks": ""
            },
            "colorscale": [
             [
              0,
              "#0d0887"
             ],
             [
              0.1111111111111111,
              "#46039f"
             ],
             [
              0.2222222222222222,
              "#7201a8"
             ],
             [
              0.3333333333333333,
              "#9c179e"
             ],
             [
              0.4444444444444444,
              "#bd3786"
             ],
             [
              0.5555555555555556,
              "#d8576b"
             ],
             [
              0.6666666666666666,
              "#ed7953"
             ],
             [
              0.7777777777777778,
              "#fb9f3a"
             ],
             [
              0.8888888888888888,
              "#fdca26"
             ],
             [
              1,
              "#f0f921"
             ]
            ],
            "type": "contour"
           }
          ],
          "contourcarpet": [
           {
            "colorbar": {
             "outlinewidth": 0,
             "ticks": ""
            },
            "type": "contourcarpet"
           }
          ],
          "heatmap": [
           {
            "colorbar": {
             "outlinewidth": 0,
             "ticks": ""
            },
            "colorscale": [
             [
              0,
              "#0d0887"
             ],
             [
              0.1111111111111111,
              "#46039f"
             ],
             [
              0.2222222222222222,
              "#7201a8"
             ],
             [
              0.3333333333333333,
              "#9c179e"
             ],
             [
              0.4444444444444444,
              "#bd3786"
             ],
             [
              0.5555555555555556,
              "#d8576b"
             ],
             [
              0.6666666666666666,
              "#ed7953"
             ],
             [
              0.7777777777777778,
              "#fb9f3a"
             ],
             [
              0.8888888888888888,
              "#fdca26"
             ],
             [
              1,
              "#f0f921"
             ]
            ],
            "type": "heatmap"
           }
          ],
          "heatmapgl": [
           {
            "colorbar": {
             "outlinewidth": 0,
             "ticks": ""
            },
            "colorscale": [
             [
              0,
              "#0d0887"
             ],
             [
              0.1111111111111111,
              "#46039f"
             ],
             [
              0.2222222222222222,
              "#7201a8"
             ],
             [
              0.3333333333333333,
              "#9c179e"
             ],
             [
              0.4444444444444444,
              "#bd3786"
             ],
             [
              0.5555555555555556,
              "#d8576b"
             ],
             [
              0.6666666666666666,
              "#ed7953"
             ],
             [
              0.7777777777777778,
              "#fb9f3a"
             ],
             [
              0.8888888888888888,
              "#fdca26"
             ],
             [
              1,
              "#f0f921"
             ]
            ],
            "type": "heatmapgl"
           }
          ],
          "histogram": [
           {
            "marker": {
             "pattern": {
              "fillmode": "overlay",
              "size": 10,
              "solidity": 0.2
             }
            },
            "type": "histogram"
           }
          ],
          "histogram2d": [
           {
            "colorbar": {
             "outlinewidth": 0,
             "ticks": ""
            },
            "colorscale": [
             [
              0,
              "#0d0887"
             ],
             [
              0.1111111111111111,
              "#46039f"
             ],
             [
              0.2222222222222222,
              "#7201a8"
             ],
             [
              0.3333333333333333,
              "#9c179e"
             ],
             [
              0.4444444444444444,
              "#bd3786"
             ],
             [
              0.5555555555555556,
              "#d8576b"
             ],
             [
              0.6666666666666666,
              "#ed7953"
             ],
             [
              0.7777777777777778,
              "#fb9f3a"
             ],
             [
              0.8888888888888888,
              "#fdca26"
             ],
             [
              1,
              "#f0f921"
             ]
            ],
            "type": "histogram2d"
           }
          ],
          "histogram2dcontour": [
           {
            "colorbar": {
             "outlinewidth": 0,
             "ticks": ""
            },
            "colorscale": [
             [
              0,
              "#0d0887"
             ],
             [
              0.1111111111111111,
              "#46039f"
             ],
             [
              0.2222222222222222,
              "#7201a8"
             ],
             [
              0.3333333333333333,
              "#9c179e"
             ],
             [
              0.4444444444444444,
              "#bd3786"
             ],
             [
              0.5555555555555556,
              "#d8576b"
             ],
             [
              0.6666666666666666,
              "#ed7953"
             ],
             [
              0.7777777777777778,
              "#fb9f3a"
             ],
             [
              0.8888888888888888,
              "#fdca26"
             ],
             [
              1,
              "#f0f921"
             ]
            ],
            "type": "histogram2dcontour"
           }
          ],
          "mesh3d": [
           {
            "colorbar": {
             "outlinewidth": 0,
             "ticks": ""
            },
            "type": "mesh3d"
           }
          ],
          "parcoords": [
           {
            "line": {
             "colorbar": {
              "outlinewidth": 0,
              "ticks": ""
             }
            },
            "type": "parcoords"
           }
          ],
          "pie": [
           {
            "automargin": true,
            "type": "pie"
           }
          ],
          "scatter": [
           {
            "marker": {
             "colorbar": {
              "outlinewidth": 0,
              "ticks": ""
             }
            },
            "type": "scatter"
           }
          ],
          "scatter3d": [
           {
            "line": {
             "colorbar": {
              "outlinewidth": 0,
              "ticks": ""
             }
            },
            "marker": {
             "colorbar": {
              "outlinewidth": 0,
              "ticks": ""
             }
            },
            "type": "scatter3d"
           }
          ],
          "scattercarpet": [
           {
            "marker": {
             "colorbar": {
              "outlinewidth": 0,
              "ticks": ""
             }
            },
            "type": "scattercarpet"
           }
          ],
          "scattergeo": [
           {
            "marker": {
             "colorbar": {
              "outlinewidth": 0,
              "ticks": ""
             }
            },
            "type": "scattergeo"
           }
          ],
          "scattergl": [
           {
            "marker": {
             "colorbar": {
              "outlinewidth": 0,
              "ticks": ""
             }
            },
            "type": "scattergl"
           }
          ],
          "scattermapbox": [
           {
            "marker": {
             "colorbar": {
              "outlinewidth": 0,
              "ticks": ""
             }
            },
            "type": "scattermapbox"
           }
          ],
          "scatterpolar": [
           {
            "marker": {
             "colorbar": {
              "outlinewidth": 0,
              "ticks": ""
             }
            },
            "type": "scatterpolar"
           }
          ],
          "scatterpolargl": [
           {
            "marker": {
             "colorbar": {
              "outlinewidth": 0,
              "ticks": ""
             }
            },
            "type": "scatterpolargl"
           }
          ],
          "scatterternary": [
           {
            "marker": {
             "colorbar": {
              "outlinewidth": 0,
              "ticks": ""
             }
            },
            "type": "scatterternary"
           }
          ],
          "surface": [
           {
            "colorbar": {
             "outlinewidth": 0,
             "ticks": ""
            },
            "colorscale": [
             [
              0,
              "#0d0887"
             ],
             [
              0.1111111111111111,
              "#46039f"
             ],
             [
              0.2222222222222222,
              "#7201a8"
             ],
             [
              0.3333333333333333,
              "#9c179e"
             ],
             [
              0.4444444444444444,
              "#bd3786"
             ],
             [
              0.5555555555555556,
              "#d8576b"
             ],
             [
              0.6666666666666666,
              "#ed7953"
             ],
             [
              0.7777777777777778,
              "#fb9f3a"
             ],
             [
              0.8888888888888888,
              "#fdca26"
             ],
             [
              1,
              "#f0f921"
             ]
            ],
            "type": "surface"
           }
          ],
          "table": [
           {
            "cells": {
             "fill": {
              "color": "#EBF0F8"
             },
             "line": {
              "color": "white"
             }
            },
            "header": {
             "fill": {
              "color": "#C8D4E3"
             },
             "line": {
              "color": "white"
             }
            },
            "type": "table"
           }
          ]
         },
         "layout": {
          "annotationdefaults": {
           "arrowcolor": "#2a3f5f",
           "arrowhead": 0,
           "arrowwidth": 1
          },
          "autotypenumbers": "strict",
          "coloraxis": {
           "colorbar": {
            "outlinewidth": 0,
            "ticks": ""
           }
          },
          "colorscale": {
           "diverging": [
            [
             0,
             "#8e0152"
            ],
            [
             0.1,
             "#c51b7d"
            ],
            [
             0.2,
             "#de77ae"
            ],
            [
             0.3,
             "#f1b6da"
            ],
            [
             0.4,
             "#fde0ef"
            ],
            [
             0.5,
             "#f7f7f7"
            ],
            [
             0.6,
             "#e6f5d0"
            ],
            [
             0.7,
             "#b8e186"
            ],
            [
             0.8,
             "#7fbc41"
            ],
            [
             0.9,
             "#4d9221"
            ],
            [
             1,
             "#276419"
            ]
           ],
           "sequential": [
            [
             0,
             "#0d0887"
            ],
            [
             0.1111111111111111,
             "#46039f"
            ],
            [
             0.2222222222222222,
             "#7201a8"
            ],
            [
             0.3333333333333333,
             "#9c179e"
            ],
            [
             0.4444444444444444,
             "#bd3786"
            ],
            [
             0.5555555555555556,
             "#d8576b"
            ],
            [
             0.6666666666666666,
             "#ed7953"
            ],
            [
             0.7777777777777778,
             "#fb9f3a"
            ],
            [
             0.8888888888888888,
             "#fdca26"
            ],
            [
             1,
             "#f0f921"
            ]
           ],
           "sequentialminus": [
            [
             0,
             "#0d0887"
            ],
            [
             0.1111111111111111,
             "#46039f"
            ],
            [
             0.2222222222222222,
             "#7201a8"
            ],
            [
             0.3333333333333333,
             "#9c179e"
            ],
            [
             0.4444444444444444,
             "#bd3786"
            ],
            [
             0.5555555555555556,
             "#d8576b"
            ],
            [
             0.6666666666666666,
             "#ed7953"
            ],
            [
             0.7777777777777778,
             "#fb9f3a"
            ],
            [
             0.8888888888888888,
             "#fdca26"
            ],
            [
             1,
             "#f0f921"
            ]
           ]
          },
          "colorway": [
           "#636efa",
           "#EF553B",
           "#00cc96",
           "#ab63fa",
           "#FFA15A",
           "#19d3f3",
           "#FF6692",
           "#B6E880",
           "#FF97FF",
           "#FECB52"
          ],
          "font": {
           "color": "#2a3f5f"
          },
          "geo": {
           "bgcolor": "white",
           "lakecolor": "white",
           "landcolor": "#E5ECF6",
           "showlakes": true,
           "showland": true,
           "subunitcolor": "white"
          },
          "hoverlabel": {
           "align": "left"
          },
          "hovermode": "closest",
          "mapbox": {
           "style": "light"
          },
          "paper_bgcolor": "white",
          "plot_bgcolor": "#E5ECF6",
          "polar": {
           "angularaxis": {
            "gridcolor": "white",
            "linecolor": "white",
            "ticks": ""
           },
           "bgcolor": "#E5ECF6",
           "radialaxis": {
            "gridcolor": "white",
            "linecolor": "white",
            "ticks": ""
           }
          },
          "scene": {
           "xaxis": {
            "backgroundcolor": "#E5ECF6",
            "gridcolor": "white",
            "gridwidth": 2,
            "linecolor": "white",
            "showbackground": true,
            "ticks": "",
            "zerolinecolor": "white"
           },
           "yaxis": {
            "backgroundcolor": "#E5ECF6",
            "gridcolor": "white",
            "gridwidth": 2,
            "linecolor": "white",
            "showbackground": true,
            "ticks": "",
            "zerolinecolor": "white"
           },
           "zaxis": {
            "backgroundcolor": "#E5ECF6",
            "gridcolor": "white",
            "gridwidth": 2,
            "linecolor": "white",
            "showbackground": true,
            "ticks": "",
            "zerolinecolor": "white"
           }
          },
          "shapedefaults": {
           "line": {
            "color": "#2a3f5f"
           }
          },
          "ternary": {
           "aaxis": {
            "gridcolor": "white",
            "linecolor": "white",
            "ticks": ""
           },
           "baxis": {
            "gridcolor": "white",
            "linecolor": "white",
            "ticks": ""
           },
           "bgcolor": "#E5ECF6",
           "caxis": {
            "gridcolor": "white",
            "linecolor": "white",
            "ticks": ""
           }
          },
          "title": {
           "x": 0.05
          },
          "xaxis": {
           "automargin": true,
           "gridcolor": "white",
           "linecolor": "white",
           "ticks": "",
           "title": {
            "standoff": 15
           },
           "zerolinecolor": "white",
           "zerolinewidth": 2
          },
          "yaxis": {
           "automargin": true,
           "gridcolor": "white",
           "linecolor": "white",
           "ticks": "",
           "title": {
            "standoff": 15
           },
           "zerolinecolor": "white",
           "zerolinewidth": 2
          }
         }
        }
       }
      },
      "text/html": [
       "<div>                            <div id=\"4b164c46-974c-4a4d-b7d1-33e08f75c0e8\" class=\"plotly-graph-div\" style=\"height:300px; width:100%;\"></div>            <script type=\"text/javascript\">                require([\"plotly\"], function(Plotly) {                    window.PLOTLYENV=window.PLOTLYENV || {};                                    if (document.getElementById(\"4b164c46-974c-4a4d-b7d1-33e08f75c0e8\")) {                    Plotly.newPlot(                        \"4b164c46-974c-4a4d-b7d1-33e08f75c0e8\",                        [{\"lat\":[40.7359,40.7361,40.737,40.7506,40.753,40.7545,40.7423,40.7444,40.7454,40.7464,40.7479,40.7376,40.7388,40.7431,40.7391,40.7482,40.75,40.7499,40.7519,40.7541,40.7509,40.7427,40.746,40.7141,40.7177,40.7196,40.7211,40.7287,40.7276,40.7165,40.7146,40.7184,40.735,40.7312,40.7237,40.7376,40.7242,40.7427,40.7253,40.7215,40.7348,40.7185,40.7128,40.7182,40.7112,40.7246,40.7253,40.7309,40.7443,40.7487,40.7111,40.7377,40.7272,40.7124,40.7233,40.7257,40.7216,40.7193,40.7135,40.7459,40.726,40.7217,40.7144,40.7276,40.7221,40.7243,40.7194,40.7152,40.7337,40.7193,40.7352,40.7169,40.7092,40.7066],\"lon\":[-74.0303,-74.0291,-74.0278,-74.024,-74.0244,-74.0266,-74.0351,-74.0345,-74.0333,-74.038,-74.0384,-74.0417,-74.0393,-74.04,-74.0362,-74.0325,-74.0272,-74.0359,-74.0304,-74.0316,-74.0335,-74.0322,-74.0282,-74.0336,-74.0438,-74.0431,-74.0381,-74.0321,-74.0442,-74.0496,-74.0428,-74.0389,-74.0595,-74.0576,-74.0642,-74.0525,-74.0507,-74.0518,-74.0456,-74.0463,-74.0504,-74.0477,-74.0365,-74.0836,-74.0557,-74.0784,-74.0676,-74.0639,-74.044,-74.0404,-74.0789,-74.0669,-74.0338,-74.0385,-74.046,-74.0488,-74.05,-74.0713,-74.0629,-74.0573,-74.0504,-74.0429,-74.0666,-74.0711,-74.0715,-74.0355,-74.051,-74.0377,-74.0625,-74.0342,-74.047,-74.0328,-74.0808,-74.0867],\"marker\":{\"color\":\"royalblue\",\"size\":[3728,4415,4607,1746,2222,1193,961,990,684,1190,1036,1226,2048,556,1506,1452,2049,876,863,1458,690,1774,2205,1237,1809,4213,1425,2869,2672,1329,2250,1533,244,740,1010,540,1100,776,749,1430,454,1302,617,205,1880,695,1019,2238,588,578,134,251,2293,1077,860,683,794,495,764,298,711,1101,392,405,728,2007,629,1168,676,2103,2462,1983,83,216],\"sizemode\":\"area\"},\"text\":[\"Hoboken Terminal - Hudson St & Hudson Pl\",\"Hoboken Terminal - River St & Hudson Pl\",\"South Waterfront Walkway - Sinatra Dr & 1 St\",\"12 St & Sinatra Dr N\",\"14 St Ferry - 14 St & Shipyard Ln\",\"Bloomfield St & 15 St\",\"4 St & Grand St\",\"6 St & Grand St\",\"Clinton St & 7 St\",\"7 St & Monroe St\",\"9 St HBLR - Jackson St & 8 St\",\"Southwest Park - Jackson St & Observer Hwy\",\"Madison St & 1 St\",\"Mama Johnson Field - 4 St & Jackson St\",\"Grand St & 2 St\",\"Columbus Park - Clinton St & 9 St\",\"11 St & Washington St\",\"Madison St & 10 St\",\"Willow Ave & 12 St\",\"Grand St & 14 St\",\"Adams St & 11 St\",\"Church Sq Park - 5 St & Park Ave\",\"8 St & Washington St\",\"Paulus Hook\",\"City Hall\",\"Grove St PATH\",\"Warren St\",\"Newport Pkwy\",\"Hamilton Park\",\"JC Medical Center\",\"Marin Light Rail\",\"Columbus Drive\",\"5 Corners Library\",\"Hilltop\",\"Baldwin at Montgomery\",\"Oakland Ave\",\"Brunswick St\",\"Pershing Field\",\"Jersey & 6th St\",\"Newark Ave\",\"Christ Hospital\",\"Van Vorst Park\",\"Essex Light Rail\",\"Union St\",\"Liberty Light Rail\",\"Lincoln Park\",\"McGinley Square\",\"Sip Ave\",\"Riverview Park\",\"Heights Elevator\",\"Jackson Square\",\"Dey St\",\"Newport PATH\",\"Morris Canal\",\"Jersey & 3rd\",\"Monmouth and 6th\",\"Dixon Mills\",\"Astor Place\",\"Lafayette Park\",\"Leonard Gordon Park\",\"Brunswick & 6th\",\"Manila & 1st\",\"Communipaw & Berry Lane\",\"Glenwood Ave\",\"Bergen Ave\",\"Washington St\",\"Montgomery St\",\"Grand St\",\"Journal Square\",\"Harborside\",\"Hoboken Ave at Monmouth St\",\"Columbus Dr at Exchange Pl\",\"Grant Ave & MLK Dr\",\"Bergen Ave & Stegman St\"],\"type\":\"scattergeo\"}],                        {\"geo\":{\"fitbounds\":\"locations\"},\"height\":300,\"margin\":{\"b\":0,\"l\":0,\"r\":0,\"t\":0},\"template\":{\"data\":{\"bar\":[{\"error_x\":{\"color\":\"#2a3f5f\"},\"error_y\":{\"color\":\"#2a3f5f\"},\"marker\":{\"line\":{\"color\":\"#E5ECF6\",\"width\":0.5},\"pattern\":{\"fillmode\":\"overlay\",\"size\":10,\"solidity\":0.2}},\"type\":\"bar\"}],\"barpolar\":[{\"marker\":{\"line\":{\"color\":\"#E5ECF6\",\"width\":0.5},\"pattern\":{\"fillmode\":\"overlay\",\"size\":10,\"solidity\":0.2}},\"type\":\"barpolar\"}],\"carpet\":[{\"aaxis\":{\"endlinecolor\":\"#2a3f5f\",\"gridcolor\":\"white\",\"linecolor\":\"white\",\"minorgridcolor\":\"white\",\"startlinecolor\":\"#2a3f5f\"},\"baxis\":{\"endlinecolor\":\"#2a3f5f\",\"gridcolor\":\"white\",\"linecolor\":\"white\",\"minorgridcolor\":\"white\",\"startlinecolor\":\"#2a3f5f\"},\"type\":\"carpet\"}],\"choropleth\":[{\"colorbar\":{\"outlinewidth\":0,\"ticks\":\"\"},\"type\":\"choropleth\"}],\"contour\":[{\"colorbar\":{\"outlinewidth\":0,\"ticks\":\"\"},\"colorscale\":[[0.0,\"#0d0887\"],[0.1111111111111111,\"#46039f\"],[0.2222222222222222,\"#7201a8\"],[0.3333333333333333,\"#9c179e\"],[0.4444444444444444,\"#bd3786\"],[0.5555555555555556,\"#d8576b\"],[0.6666666666666666,\"#ed7953\"],[0.7777777777777778,\"#fb9f3a\"],[0.8888888888888888,\"#fdca26\"],[1.0,\"#f0f921\"]],\"type\":\"contour\"}],\"contourcarpet\":[{\"colorbar\":{\"outlinewidth\":0,\"ticks\":\"\"},\"type\":\"contourcarpet\"}],\"heatmap\":[{\"colorbar\":{\"outlinewidth\":0,\"ticks\":\"\"},\"colorscale\":[[0.0,\"#0d0887\"],[0.1111111111111111,\"#46039f\"],[0.2222222222222222,\"#7201a8\"],[0.3333333333333333,\"#9c179e\"],[0.4444444444444444,\"#bd3786\"],[0.5555555555555556,\"#d8576b\"],[0.6666666666666666,\"#ed7953\"],[0.7777777777777778,\"#fb9f3a\"],[0.8888888888888888,\"#fdca26\"],[1.0,\"#f0f921\"]],\"type\":\"heatmap\"}],\"heatmapgl\":[{\"colorbar\":{\"outlinewidth\":0,\"ticks\":\"\"},\"colorscale\":[[0.0,\"#0d0887\"],[0.1111111111111111,\"#46039f\"],[0.2222222222222222,\"#7201a8\"],[0.3333333333333333,\"#9c179e\"],[0.4444444444444444,\"#bd3786\"],[0.5555555555555556,\"#d8576b\"],[0.6666666666666666,\"#ed7953\"],[0.7777777777777778,\"#fb9f3a\"],[0.8888888888888888,\"#fdca26\"],[1.0,\"#f0f921\"]],\"type\":\"heatmapgl\"}],\"histogram\":[{\"marker\":{\"pattern\":{\"fillmode\":\"overlay\",\"size\":10,\"solidity\":0.2}},\"type\":\"histogram\"}],\"histogram2d\":[{\"colorbar\":{\"outlinewidth\":0,\"ticks\":\"\"},\"colorscale\":[[0.0,\"#0d0887\"],[0.1111111111111111,\"#46039f\"],[0.2222222222222222,\"#7201a8\"],[0.3333333333333333,\"#9c179e\"],[0.4444444444444444,\"#bd3786\"],[0.5555555555555556,\"#d8576b\"],[0.6666666666666666,\"#ed7953\"],[0.7777777777777778,\"#fb9f3a\"],[0.8888888888888888,\"#fdca26\"],[1.0,\"#f0f921\"]],\"type\":\"histogram2d\"}],\"histogram2dcontour\":[{\"colorbar\":{\"outlinewidth\":0,\"ticks\":\"\"},\"colorscale\":[[0.0,\"#0d0887\"],[0.1111111111111111,\"#46039f\"],[0.2222222222222222,\"#7201a8\"],[0.3333333333333333,\"#9c179e\"],[0.4444444444444444,\"#bd3786\"],[0.5555555555555556,\"#d8576b\"],[0.6666666666666666,\"#ed7953\"],[0.7777777777777778,\"#fb9f3a\"],[0.8888888888888888,\"#fdca26\"],[1.0,\"#f0f921\"]],\"type\":\"histogram2dcontour\"}],\"mesh3d\":[{\"colorbar\":{\"outlinewidth\":0,\"ticks\":\"\"},\"type\":\"mesh3d\"}],\"parcoords\":[{\"line\":{\"colorbar\":{\"outlinewidth\":0,\"ticks\":\"\"}},\"type\":\"parcoords\"}],\"pie\":[{\"automargin\":true,\"type\":\"pie\"}],\"scatter\":[{\"marker\":{\"colorbar\":{\"outlinewidth\":0,\"ticks\":\"\"}},\"type\":\"scatter\"}],\"scatter3d\":[{\"line\":{\"colorbar\":{\"outlinewidth\":0,\"ticks\":\"\"}},\"marker\":{\"colorbar\":{\"outlinewidth\":0,\"ticks\":\"\"}},\"type\":\"scatter3d\"}],\"scattercarpet\":[{\"marker\":{\"colorbar\":{\"outlinewidth\":0,\"ticks\":\"\"}},\"type\":\"scattercarpet\"}],\"scattergeo\":[{\"marker\":{\"colorbar\":{\"outlinewidth\":0,\"ticks\":\"\"}},\"type\":\"scattergeo\"}],\"scattergl\":[{\"marker\":{\"colorbar\":{\"outlinewidth\":0,\"ticks\":\"\"}},\"type\":\"scattergl\"}],\"scattermapbox\":[{\"marker\":{\"colorbar\":{\"outlinewidth\":0,\"ticks\":\"\"}},\"type\":\"scattermapbox\"}],\"scatterpolar\":[{\"marker\":{\"colorbar\":{\"outlinewidth\":0,\"ticks\":\"\"}},\"type\":\"scatterpolar\"}],\"scatterpolargl\":[{\"marker\":{\"colorbar\":{\"outlinewidth\":0,\"ticks\":\"\"}},\"type\":\"scatterpolargl\"}],\"scatterternary\":[{\"marker\":{\"colorbar\":{\"outlinewidth\":0,\"ticks\":\"\"}},\"type\":\"scatterternary\"}],\"surface\":[{\"colorbar\":{\"outlinewidth\":0,\"ticks\":\"\"},\"colorscale\":[[0.0,\"#0d0887\"],[0.1111111111111111,\"#46039f\"],[0.2222222222222222,\"#7201a8\"],[0.3333333333333333,\"#9c179e\"],[0.4444444444444444,\"#bd3786\"],[0.5555555555555556,\"#d8576b\"],[0.6666666666666666,\"#ed7953\"],[0.7777777777777778,\"#fb9f3a\"],[0.8888888888888888,\"#fdca26\"],[1.0,\"#f0f921\"]],\"type\":\"surface\"}],\"table\":[{\"cells\":{\"fill\":{\"color\":\"#EBF0F8\"},\"line\":{\"color\":\"white\"}},\"header\":{\"fill\":{\"color\":\"#C8D4E3\"},\"line\":{\"color\":\"white\"}},\"type\":\"table\"}]},\"layout\":{\"annotationdefaults\":{\"arrowcolor\":\"#2a3f5f\",\"arrowhead\":0,\"arrowwidth\":1},\"autotypenumbers\":\"strict\",\"coloraxis\":{\"colorbar\":{\"outlinewidth\":0,\"ticks\":\"\"}},\"colorscale\":{\"diverging\":[[0,\"#8e0152\"],[0.1,\"#c51b7d\"],[0.2,\"#de77ae\"],[0.3,\"#f1b6da\"],[0.4,\"#fde0ef\"],[0.5,\"#f7f7f7\"],[0.6,\"#e6f5d0\"],[0.7,\"#b8e186\"],[0.8,\"#7fbc41\"],[0.9,\"#4d9221\"],[1,\"#276419\"]],\"sequential\":[[0.0,\"#0d0887\"],[0.1111111111111111,\"#46039f\"],[0.2222222222222222,\"#7201a8\"],[0.3333333333333333,\"#9c179e\"],[0.4444444444444444,\"#bd3786\"],[0.5555555555555556,\"#d8576b\"],[0.6666666666666666,\"#ed7953\"],[0.7777777777777778,\"#fb9f3a\"],[0.8888888888888888,\"#fdca26\"],[1.0,\"#f0f921\"]],\"sequentialminus\":[[0.0,\"#0d0887\"],[0.1111111111111111,\"#46039f\"],[0.2222222222222222,\"#7201a8\"],[0.3333333333333333,\"#9c179e\"],[0.4444444444444444,\"#bd3786\"],[0.5555555555555556,\"#d8576b\"],[0.6666666666666666,\"#ed7953\"],[0.7777777777777778,\"#fb9f3a\"],[0.8888888888888888,\"#fdca26\"],[1.0,\"#f0f921\"]]},\"colorway\":[\"#636efa\",\"#EF553B\",\"#00cc96\",\"#ab63fa\",\"#FFA15A\",\"#19d3f3\",\"#FF6692\",\"#B6E880\",\"#FF97FF\",\"#FECB52\"],\"font\":{\"color\":\"#2a3f5f\"},\"geo\":{\"bgcolor\":\"white\",\"lakecolor\":\"white\",\"landcolor\":\"#E5ECF6\",\"showlakes\":true,\"showland\":true,\"subunitcolor\":\"white\"},\"hoverlabel\":{\"align\":\"left\"},\"hovermode\":\"closest\",\"mapbox\":{\"style\":\"light\"},\"paper_bgcolor\":\"white\",\"plot_bgcolor\":\"#E5ECF6\",\"polar\":{\"angularaxis\":{\"gridcolor\":\"white\",\"linecolor\":\"white\",\"ticks\":\"\"},\"bgcolor\":\"#E5ECF6\",\"radialaxis\":{\"gridcolor\":\"white\",\"linecolor\":\"white\",\"ticks\":\"\"}},\"scene\":{\"xaxis\":{\"backgroundcolor\":\"#E5ECF6\",\"gridcolor\":\"white\",\"gridwidth\":2,\"linecolor\":\"white\",\"showbackground\":true,\"ticks\":\"\",\"zerolinecolor\":\"white\"},\"yaxis\":{\"backgroundcolor\":\"#E5ECF6\",\"gridcolor\":\"white\",\"gridwidth\":2,\"linecolor\":\"white\",\"showbackground\":true,\"ticks\":\"\",\"zerolinecolor\":\"white\"},\"zaxis\":{\"backgroundcolor\":\"#E5ECF6\",\"gridcolor\":\"white\",\"gridwidth\":2,\"linecolor\":\"white\",\"showbackground\":true,\"ticks\":\"\",\"zerolinecolor\":\"white\"}},\"shapedefaults\":{\"line\":{\"color\":\"#2a3f5f\"}},\"ternary\":{\"aaxis\":{\"gridcolor\":\"white\",\"linecolor\":\"white\",\"ticks\":\"\"},\"baxis\":{\"gridcolor\":\"white\",\"linecolor\":\"white\",\"ticks\":\"\"},\"bgcolor\":\"#E5ECF6\",\"caxis\":{\"gridcolor\":\"white\",\"linecolor\":\"white\",\"ticks\":\"\"}},\"title\":{\"x\":0.05},\"xaxis\":{\"automargin\":true,\"gridcolor\":\"white\",\"linecolor\":\"white\",\"ticks\":\"\",\"title\":{\"standoff\":15},\"zerolinecolor\":\"white\",\"zerolinewidth\":2},\"yaxis\":{\"automargin\":true,\"gridcolor\":\"white\",\"linecolor\":\"white\",\"ticks\":\"\",\"title\":{\"standoff\":15},\"zerolinecolor\":\"white\",\"zerolinewidth\":2}}}},                        {\"responsive\": true}                    ).then(function(){\n",
       "                            \n",
       "var gd = document.getElementById('4b164c46-974c-4a4d-b7d1-33e08f75c0e8');\n",
       "var x = new MutationObserver(function (mutations, observer) {{\n",
       "        var display = window.getComputedStyle(gd).display;\n",
       "        if (!display || display === 'none') {{\n",
       "            console.log([gd, 'removed!']);\n",
       "            Plotly.purge(gd);\n",
       "            observer.disconnect();\n",
       "        }}\n",
       "}});\n",
       "\n",
       "// Listen for the removal of the full notebook cells\n",
       "var notebookContainer = gd.closest('#notebook-container');\n",
       "if (notebookContainer) {{\n",
       "    x.observe(notebookContainer, {childList: true});\n",
       "}}\n",
       "\n",
       "// Listen for the clearing of the current output cell\n",
       "var outputEl = gd.closest('.output');\n",
       "if (outputEl) {{\n",
       "    x.observe(outputEl, {childList: true});\n",
       "}}\n",
       "\n",
       "                        })                };                });            </script>        </div>"
      ]
     },
     "metadata": {},
     "output_type": "display_data"
    }
   ],
   "source": [
    "fig = go.Figure()\n",
    "fig.add_trace(\n",
    "    go.Scattergeo(\n",
    "        #locationmode = 'USA-states',\n",
    "        lon = jc_llcs['Longitude'],\n",
    "        lat = jc_llcs['Latitude'],\n",
    "        text = jc_llcs['Station Name'],\n",
    "        marker = dict(\n",
    "            size = jc_llcs['Count'],\n",
    "            color = 'royalblue',\n",
    "#             line_color='rgb(40,40,40)',\n",
    "#             line_width=0.5,\n",
    "            sizemode = 'area'\n",
    "        ),\n",
    "        #name = '{0} - {1}'.format(lim[0],lim[1])\n",
    "    )\n",
    ")\n",
    "fig.update_geos(fitbounds=\"locations\")\n",
    "fig.update_layout(height=300, margin={\"r\":0,\"t\":0,\"l\":0,\"b\":0})\n",
    "fig"
   ]
  },
  {
   "cell_type": "code",
   "execution_count": 188,
   "id": "a76374ca",
   "metadata": {},
   "outputs": [
    {
     "data": {
      "application/vnd.plotly.v1+json": {
       "config": {
        "plotlyServerURL": "https://plot.ly"
       },
       "data": [
        {
         "customdata": [
          [
           "Washington",
           63269
          ],
          [
           "California",
           72326
          ],
          [
           "Ohio",
           390113
          ],
          [
           "Massachusetts",
           182544
          ],
          [
           "South Carolina",
           133358
          ],
          [
           "Connecticut",
           109676
          ],
          [
           "Minnesota",
           65453
          ],
          [
           "Michigan",
           73006
          ],
          [
           "Louisiana",
           124276
          ],
          [
           "Idaho",
           214237
          ],
          [
           "Indiana",
           51265
          ],
          [
           "California",
           82882
          ],
          [
           "Georgia",
           59089
          ],
          [
           "Colorado",
           48608
          ],
          [
           "Florida",
           102436
          ],
          [
           "Massachusetts",
           42544
          ],
          [
           "Illinois",
           199963
          ],
          [
           "Virginia",
           47673
          ],
          [
           "Florida",
           50213
          ],
          [
           "California",
           91739
          ],
          [
           "Texas",
           239538
          ],
          [
           "Kansas",
           181260
          ],
          [
           "Mississippi",
           172638
          ],
          [
           "North Carolina",
           73209
          ],
          [
           "Florida",
           62316
          ],
          [
           "Missouri",
           467007
          ],
          [
           "California",
           42448
          ],
          [
           "Minnesota",
           61434
          ],
          [
           "Texas",
           58043
          ],
          [
           "New Mexico",
           48611
          ],
          [
           "Alabama",
           201332
          ],
          [
           "Utah",
           48913
          ],
          [
           "Massachusetts",
           39083
          ],
          [
           "Pennsylvania",
           118577
          ],
          [
           "South Carolina",
           74885
          ],
          [
           "Georgia",
           202824
          ],
          [
           "New York",
           258959
          ],
          [
           "Wisconsin",
           39834
          ],
          [
           "Texas",
           67317
          ],
          [
           "Ohio",
           38355
          ],
          [
           "California",
           479686
          ],
          [
           "Arkansas",
           87650
          ],
          [
           "Rhode Island",
           47149
          ],
          [
           "Iowa",
           41776
          ],
          [
           "New York",
           68224
          ],
          [
           "Colorado",
           147214
          ],
          [
           "Nevada",
           270811
          ],
          [
           "California",
           48508
          ],
          [
           "Connecticut",
           126456
          ],
          [
           "Indiana",
           82575
          ],
          [
           "Tennessee",
           52962
          ],
          [
           "Washington",
           210721
          ],
          [
           "Washington",
           76762
          ],
          [
           "Pennsylvania",
           1553165
          ],
          [
           "Washington",
           82631
          ],
          [
           "California",
           127763
          ],
          [
           "Wisconsin",
           51522
          ],
          [
           "Iowa",
           61969
          ],
          [
           "Florida",
           42757
          ],
          [
           "Texas",
           1257676
          ],
          [
           "California",
           107100
          ],
          [
           "Michigan",
           131224
          ],
          [
           "Florida",
           78041
          ],
          [
           "Indiana",
           83891
          ],
          [
           "Wyoming",
           62448
          ],
          [
           "California",
           107479
          ],
          [
           "Kansas",
           50344
          ],
          [
           "Indiana",
           56540
          ],
          [
           "Mississippi",
           50997
          ],
          [
           "California",
           80988
          ],
          [
           "Maryland",
           65690
          ],
          [
           "California",
           56707
          ],
          [
           "Maryland",
           66893
          ],
          [
           "North Carolina",
           89130
          ],
          [
           "Illinois",
           43849
          ],
          [
           "Wisconsin",
           60697
          ],
          [
           "Colorado",
           127359
          ],
          [
           "Iowa",
           61255
          ],
          [
           "Massachusetts",
           88697
          ],
          [
           "California",
           61170
          ],
          [
           "California",
           256780
          ],
          [
           "Florida",
           126604
          ],
          [
           "North Carolina",
           83506
          ],
          [
           "Georgia",
           53438
          ],
          [
           "Florida",
           45587
          ],
          [
           "North Dakota",
           54932
          ],
          [
           "Ohio",
           39325
          ],
          [
           "Illinois",
           144864
          ],
          [
           "Florida",
           146526
          ],
          [
           "Arkansas",
           60112
          ],
          [
           "Louisiana",
           378715
          ],
          [
           "Washington",
           59097
          ],
          [
           "Illinois",
           57073
          ],
          [
           "Idaho",
           48957
          ],
          [
           "Oregon",
           609456
          ],
          [
           "California",
           125880
          ],
          [
           "Washington",
           49858
          ],
          [
           "Missouri",
           67569
          ],
          [
           "Wisconsin",
           71016
          ],
          [
           "Arizona",
           68667
          ],
          [
           "Washington",
           38609
          ],
          [
           "New York",
           65902
          ],
          [
           "Colorado",
           649495
          ],
          [
           "Illinois",
           117006
          ],
          [
           "California",
           40584
          ],
          [
           "California",
           201175
          ],
          [
           "Ohio",
           55870
          ],
          [
           "Michigan",
           37313
          ],
          [
           "Arizona",
           52844
          ],
          [
           "Arkansas",
           66075
          ],
          [
           "Nevada",
           233294
          ],
          [
           "Colorado",
           44275
          ],
          [
           "Arizona",
           40590
          ],
          [
           "California",
           52105
          ],
          [
           "Texas",
           37442
          ],
          [
           "Maine",
           66318
          ],
          [
           "Minnesota",
           78373
          ],
          [
           "Connecticut",
           55046
          ],
          [
           "California",
           43363
          ],
          [
           "Texas",
           39458
          ],
          [
           "Michigan",
           99763
          ],
          [
           "California",
           66695
          ],
          [
           "Arizona",
           56683
          ],
          [
           "California",
           40963
          ],
          [
           "California",
           83539
          ],
          [
           "Arizona",
           226918
          ],
          [
           "Ohio",
           822553
          ],
          [
           "Pennsylvania",
           59325
          ],
          [
           "Nebraska",
           268738
          ],
          [
           "New Jersey",
           84349
          ],
          [
           "Massachusetts",
           645966
          ],
          [
           "California",
           51074
          ],
          [
           "Minnesota",
           110742
          ],
          [
           "Missouri",
           52363
          ],
          [
           "Maryland",
           38722
          ],
          [
           "North Carolina",
           59635
          ],
          [
           "Indiana",
           47135
          ],
          [
           "California",
           39389
          ],
          [
           "Illinois",
           37240
          ],
          [
           "Montana",
           69122
          ],
          [
           "California",
           99769
          ],
          [
           "Texas",
           100065
          ],
          [
           "Arizona",
           229972
          ],
          [
           "Wisconsin",
           39309
          ],
          [
           "North Carolina",
           431746
          ],
          [
           "California",
           139969
          ],
          [
           "California",
           66900
          ],
          [
           "Washington",
           39056
          ],
          [
           "California",
           55174
          ],
          [
           "Arizona",
           38290
          ],
          [
           "Florida",
           186411
          ],
          [
           "Texas",
           63032
          ],
          [
           "Virginia",
           43609
          ],
          [
           "Texas",
           1409019
          ],
          [
           "Connecticut",
           125017
          ],
          [
           "Iowa",
           68366
          ],
          [
           "New York",
           46444
          ],
          [
           "Idaho",
           83596
          ],
          [
           "Wisconsin",
           42970
          ],
          [
           "Texas",
           75418
          ],
          [
           "North Carolina",
           151088
          ],
          [
           "Massachusetts",
           55419
          ],
          [
           "Oklahoma",
           398121
          ],
          [
           "Texas",
           81050
          ],
          [
           "Ohio",
           49267
          ],
          [
           "Massachusetts",
           60509
          ],
          [
           "Texas",
           92020
          ],
          [
           "Arizona",
           526116
          ],
          [
           "Tennessee",
           68886
          ],
          [
           "Minnesota",
           39167
          ],
          [
           "Florida",
           842583
          ],
          [
           "New Jersey",
           39551
          ],
          [
           "Pennsylvania",
           100671
          ],
          [
           "California",
           81102
          ],
          [
           "Texas",
           120099
          ],
          [
           "California",
           67032
          ],
          [
           "South Carolina",
           61397
          ],
          [
           "North Carolina",
           50458
          ],
          [
           "Michigan",
           60070
          ],
          [
           "Pennsylvania",
           49188
          ],
          [
           "California",
           108817
          ],
          [
           "California",
           224922
          ],
          [
           "Colorado",
           108249
          ],
          [
           "Massachusetts",
           37670
          ],
          [
           "Illinois",
           42895
          ],
          [
           "Minnesota",
           400070
          ],
          [
           "Tennessee",
           58226
          ],
          [
           "Texas",
           104898
          ],
          [
           "Texas",
           70185
          ],
          [
           "Missouri",
           318416
          ],
          [
           "Texas",
           73790
          ],
          [
           "New Mexico",
           556495
          ],
          [
           "Georgia",
           119980
          ],
          [
           "Utah",
           59366
          ],
          [
           "Nevada",
           226877
          ],
          [
           "California",
           151348
          ],
          [
           "California",
           55191
          ],
          [
           "Ohio",
           37490
          ],
          [
           "Kansas",
           90811
          ],
          [
           "Texas",
           123933
          ],
          [
           "Oklahoma",
           610613
          ],
          [
           "Arizona",
           41627
          ],
          [
           "Arizona",
           457587
          ],
          [
           "Connecticut",
           87776
          ],
          [
           "Michigan",
           50233
          ],
          [
           "Wisconsin",
           37999
          ],
          [
           "Texas",
           40922
          ],
          [
           "Indiana",
           47989
          ],
          [
           "California",
           78327
          ],
          [
           "Minnesota",
           66297
          ],
          [
           "New Jersey",
           70868
          ],
          [
           "California",
           148738
          ],
          [
           "California",
           42443
          ],
          [
           "California",
           116768
          ],
          [
           "California",
           65040
          ],
          [
           "Oklahoma",
           97151
          ],
          [
           "Wisconsin",
           67545
          ],
          [
           "Arizona",
           45508
          ],
          [
           "Texas",
           51483
          ],
          [
           "Indiana",
           256496
          ],
          [
           "Washington",
           54790
          ],
          [
           "Massachusetts",
           57170
          ],
          [
           "California",
           61653
          ],
          [
           "New York",
           98424
          ],
          [
           "California",
           104739
          ],
          [
           "Michigan",
           61817
          ],
          [
           "Virginia",
           78014
          ],
          [
           "Maryland",
           56759
          ],
          [
           "Connecticut",
           83684
          ],
          [
           "Virginia",
           44349
          ],
          [
           "Florida",
           49631
          ],
          [
           "Idaho",
           46402
          ],
          [
           "California",
           115708
          ],
          [
           "Illinois",
           40388
          ],
          [
           "California",
           43341
          ],
          [
           "Arizona",
           72864
          ],
          [
           "New Jersey",
           145948
          ],
          [
           "Oregon",
           160614
          ],
          [
           "Florida",
           65173
          ],
          [
           "Michigan",
           50303
          ],
          [
           "Texas",
           181860
          ],
          [
           "Texas",
           68609
          ],
          [
           "Texas",
           50195
          ],
          [
           "Minnesota",
           49376
          ],
          [
           "Michigan",
           688701
          ],
          [
           "Ohio",
           42635
          ],
          [
           "Texas",
           60872
          ],
          [
           "New York",
           210358
          ],
          [
           "Alabama",
           212113
          ],
          [
           "Texas",
           885400
          ],
          [
           "California",
           90412
          ],
          [
           "Illinois",
           37385
          ],
          [
           "New Mexico",
           91956
          ],
          [
           "Illinois",
           54664
          ],
          [
           "Illinois",
           39650
          ],
          [
           "Minnesota",
           62103
          ],
          [
           "California",
           101128
          ],
          [
           "Florida",
           255483
          ],
          [
           "Wyoming",
           59628
          ],
          [
           "Texas",
           48592
          ],
          [
           "North Carolina",
           112067
          ],
          [
           "Florida",
           49998
          ],
          [
           "Florida",
           43250
          ],
          [
           "Kansas",
           148483
          ],
          [
           "Massachusetts",
           40383
          ],
          [
           "Illinois",
           38015
          ],
          [
           "Massachusetts",
           87971
          ],
          [
           "Florida",
           61007
          ],
          [
           "Connecticut",
           40347
          ],
          [
           "New Jersey",
           278427
          ],
          [
           "Louisiana",
           48426
          ],
          [
           "Minnesota",
           60407
          ],
          [
           "Texas",
           65665
          ],
          [
           "California",
           43509
          ],
          [
           "Texas",
           123099
          ],
          [
           "Texas",
           48733
          ],
          [
           "Indiana",
           53665
          ],
          [
           "California",
           155662
          ],
          [
           "Florida",
           111378
          ],
          [
           "West Virginia",
           49177
          ],
          [
           "Texas",
           248142
          ],
          [
           "Florida",
           77508
          ],
          [
           "Texas",
           43580
          ],
          [
           "Florida",
           104898
          ],
          [
           "North Carolina",
           49628
          ],
          [
           "Utah",
           43023
          ],
          [
           "California",
           46714
          ],
          [
           "Ohio",
           80429
          ],
          [
           "South Dakota",
           70812
          ],
          [
           "California",
           42889
          ],
          [
           "Colorado",
           49799
          ],
          [
           "Massachusetts",
           153703
          ],
          [
           "Colorado",
           152061
          ],
          [
           "California",
           87965
          ],
          [
           "California",
           96929
          ],
          [
           "New York",
           199766
          ],
          [
           "Ohio",
           297517
          ],
          [
           "Maryland",
           40612
          ],
          [
           "Florida",
           56002
          ],
          [
           "New Jersey",
           68247
          ],
          [
           "Ohio",
           282313
          ],
          [
           "Arizona",
           45129
          ],
          [
           "Virginia",
           182020
          ],
          [
           "Indiana",
           78967
          ],
          [
           "Illinois",
           41778
          ],
          [
           "Texas",
           83860
          ],
          [
           "Alabama",
           186254
          ],
          [
           "California",
           63338
          ],
          [
           "Washington",
           40727
          ],
          [
           "Texas",
           39605
          ],
          [
           "North Carolina",
           56954
          ],
          [
           "Michigan",
           59887
          ],
          [
           "California",
           59834
          ],
          [
           "California",
           151574
          ],
          [
           "New York",
           49468
          ],
          [
           "Nevada",
           93282
          ],
          [
           "California",
           54686
          ],
          [
           "California",
           49087
          ],
          [
           "Ohio",
           65184
          ],
          [
           "Alabama",
           45799
          ],
          [
           "California",
           69999
          ],
          [
           "Missouri",
           38816
          ],
          [
           "Idaho",
           86518
          ],
          [
           "District of Columbia",
           646449
          ],
          [
           "Illinois",
           53648
          ],
          [
           "Texas",
           38071
          ],
          [
           "California",
           101910
          ],
          [
           "North Dakota",
           113658
          ],
          [
           "Illinois",
           116513
          ],
          [
           "Nebraska",
           434353
          ],
          [
           "California",
           49228
          ],
          [
           "Kansas",
           56143
          ],
          [
           "California",
           46281
          ],
          [
           "California",
           1355896
          ],
          [
           "California",
           171990
          ],
          [
           "Massachusetts",
           108861
          ],
          [
           "Oklahoma",
           103500
          ],
          [
           "Washington",
           124435
          ],
          [
           "Tennessee",
           634464
          ],
          [
           "New Jersey",
           44113
          ],
          [
           "Colorado",
           59471
          ],
          [
           "North Carolina",
           245475
          ],
          [
           "Kansas",
           386552
          ],
          [
           "California",
           52977
          ],
          [
           "Minnesota",
           58562
          ],
          [
           "Illinois",
           45556
          ],
          [
           "Texas",
           37093
          ],
          [
           "Wisconsin",
           37159
          ],
          [
           "California",
           147559
          ],
          [
           "California",
           62864
          ],
          [
           "Wisconsin",
           99889
          ],
          [
           "Pennsylvania",
           41757
          ],
          [
           "Ohio",
           46454
          ],
          [
           "Illinois",
           40915
          ],
          [
           "Florida",
           104410
          ],
          [
           "Texas",
           97492
          ],
          [
           "Illinois",
           78902
          ],
          [
           "California",
           84691
          ],
          [
           "South Carolina",
           37647
          ],
          [
           "New Hampshire",
           87137
          ],
          [
           "Georgia",
           89981
          ],
          [
           "New York",
           55361
          ],
          [
           "New Jersey",
           76903
          ],
          [
           "California",
           50508
          ],
          [
           "Illinois",
           40351
          ],
          [
           "Virginia",
           230571
          ],
          [
           "Ohio",
           43607
          ],
          [
           "California",
           66086
          ],
          [
           "Michigan",
           37213
          ],
          [
           "New Jersey",
           127558
          ],
          [
           "Alaska",
           300950
          ],
          [
           "North Dakota",
           46321
          ],
          [
           "Florida",
           96830
          ],
          [
           "Texas",
           136639
          ],
          [
           "Texas",
           148559
          ],
          [
           "Texas",
           137147
          ],
          [
           "Ohio",
           41512
          ],
          [
           "California",
           406253
          ],
          [
           "California",
           77846
          ],
          [
           "California",
           57525
          ],
          [
           "Texas",
           196429
          ],
          [
           "Utah",
           116288
          ],
          [
           "Georgia",
           447841
          ],
          [
           "California",
           61085
          ],
          [
           "Ohio",
           44730
          ],
          [
           "California",
           63105
          ],
          [
           "Illinois",
           74710
          ],
          [
           "Rhode Island",
           41026
          ],
          [
           "Alabama",
           194899
          ],
          [
           "California",
           118837
          ],
          [
           "California",
           57639
          ],
          [
           "Tennessee",
           47333
          ],
          [
           "Missouri",
           43330
          ],
          [
           "Texas",
           81443
          ],
          [
           "Arizona",
           249146
          ],
          [
           "Colorado",
           111707
          ],
          [
           "California",
           84577
          ],
          [
           "Indiana",
           56895
          ],
          [
           "Florida",
           43286
          ],
          [
           "Indiana",
           843393
          ],
          [
           "Florida",
           71097
          ],
          [
           "Arizona",
           37130
          ],
          [
           "Illinois",
           54771
          ],
          [
           "Rhode Island",
           80566
          ],
          [
           "Indiana",
           70373
          ],
          [
           "Kansas",
           131885
          ],
          [
           "Georgia",
           82788
          ],
          [
           "North Carolina",
           279639
          ],
          [
           "Michigan",
           75548
          ],
          [
           "Oregon",
           50444
          ],
          [
           "North Carolina",
           69079
          ],
          [
           "California",
           85285
          ],
          [
           "Alabama",
           95334
          ],
          [
           "Iowa",
           51567
          ],
          [
           "California",
           86199
          ],
          [
           "Alabama",
           84126
          ],
          [
           "Florida",
           64072
          ],
          [
           "Florida",
           60202
          ],
          [
           "Arizona",
           39383
          ],
          [
           "Florida",
           68388
          ],
          [
           "Michigan",
           82821
          ],
          [
           "New York",
           79446
          ],
          [
           "California",
           298118
          ],
          [
           "Michigan",
           58946
          ],
          [
           "Florida",
           44206
          ],
          [
           "California",
           64652
          ],
          [
           "Washington",
           91113
          ],
          [
           "California",
           112174
          ],
          [
           "Texas",
           183372
          ],
          [
           "Virginia",
           96205
          ],
          [
           "Washington",
           44919
          ],
          [
           "North Carolina",
           42214
          ],
          [
           "Iowa",
           82459
          ],
          [
           "California",
           61588
          ],
          [
           "Utah",
           36956
          ],
          [
           "California",
           58879
          ],
          [
           "Minnesota",
           62603
          ],
          [
           "Arizona",
           162592
          ],
          [
           "Arizona",
           168228
          ],
          [
           "Delaware",
           71525
          ],
          [
           "Utah",
           60519
          ],
          [
           "Michigan",
           82578
          ],
          [
           "Texas",
           143484
          ],
          [
           "North Carolina",
           51510
          ],
          [
           "Texas",
           234566
          ],
          [
           "California",
           107571
          ],
          [
           "North Dakota",
           67034
          ],
          [
           "Nevada",
           54080
          ],
          [
           "Oklahoma",
           38863
          ],
          [
           "Georgia",
           197350
          ],
          [
           "North Carolina",
           204408
          ],
          [
           "Georgia",
           76185
          ],
          [
           "New Jersey",
           44412
          ],
          [
           "California",
           44096
          ],
          [
           "California",
           56449
          ],
          [
           "Alabama",
           55816
          ],
          [
           "Tennessee",
           173366
          ],
          [
           "Indiana",
           45929
          ],
          [
           "Illinois",
           41679
          ],
          [
           "California",
           76635
          ],
          [
           "Florida",
           91026
          ],
          [
           "Tennessee",
           67685
          ],
          [
           "Texas",
           54135
          ],
          [
           "California",
           46377
          ],
          [
           "Texas",
           40714
          ],
          [
           "California",
           87273
          ],
          [
           "Utah",
           40921
          ],
          [
           "Washington",
           93257
          ],
          [
           "Ohio",
           143355
          ],
          [
           "Mississippi",
           71012
          ],
          [
           "California",
           469428
          ],
          [
           "California",
           88077
          ],
          [
           "Mississippi",
           47556
          ],
          [
           "Oregon",
           159190
          ],
          [
           "California",
           53243
          ],
          [
           "California",
           63495
          ],
          [
           "California",
           74110
          ],
          [
           "Washington",
           105370
          ],
          [
           "Kansas",
           41889
          ],
          [
           "California",
           109320
          ],
          [
           "Arizona",
           78822
          ],
          [
           "Ohio",
           48139
          ],
          [
           "Michigan",
           51848
          ],
          [
           "Minnesota",
           86319
          ],
          [
           "Illinois",
           38877
          ],
          [
           "Oregon",
           93542
          ],
          [
           "Louisiana",
           66975
          ],
          [
           "New Mexico",
           39508
          ],
          [
           "New York",
           49974
          ],
          [
           "California",
           69783
          ],
          [
           "Illinois",
           58918
          ],
          [
           "California",
           52206
          ],
          [
           "Massachusetts",
           56069
          ],
          [
           "California",
           38027
          ],
          [
           "Tennessee",
           65123
          ],
          [
           "Georgia",
           142772
          ],
          [
           "Ohio",
           40768
          ],
          [
           "Washington",
           167405
          ],
          [
           "Florida",
           90116
          ],
          [
           "Indiana",
           70316
          ],
          [
           "Utah",
           54382
          ],
          [
           "California",
           837442
          ],
          [
           "California",
           203003
          ],
          [
           "Texas",
           136791
          ],
          [
           "California",
           76572
          ],
          [
           "California",
           49417
          ],
          [
           "Ohio",
           38142
          ],
          [
           "New Jersey",
           55831
          ],
          [
           "Virginia",
           246139
          ],
          [
           "Oregon",
           97368
          ],
          [
           "California",
           45851
          ],
          [
           "Florida",
           52703
          ],
          [
           "Ohio",
           62258
          ],
          [
           "South Carolina",
           37792
          ],
          [
           "California",
           213708
          ],
          [
           "Georgia",
           40059
          ],
          [
           "California",
           121096
          ],
          [
           "Indiana",
           78450
          ],
          [
           "Arizona",
           50111
          ],
          [
           "California",
           40836
          ],
          [
           "Iowa",
           58253
          ],
          [
           "New York",
           144669
          ],
          [
           "Tennessee",
           142357
          ],
          [
           "Florida",
           100710
          ],
          [
           "New York",
           37659
          ],
          [
           "Delaware",
           37366
          ],
          [
           "Minnesota",
           39398
          ],
          [
           "California",
           39428
          ],
          [
           "Illinois",
           69350
          ],
          [
           "Washington",
           652405
          ],
          [
           "Kentucky",
           40956
          ],
          [
           "California",
           161007
          ],
          [
           "Louisiana",
           200327
          ],
          [
           "Utah",
           84249
          ],
          [
           "Virginia",
           51395
          ],
          [
           "California",
           111542
          ],
          [
           "California",
           139731
          ],
          [
           "Massachusetts",
           77657
          ],
          [
           "Oregon",
           37610
          ],
          [
           "California",
           59440
          ],
          [
           "Ohio",
           59357
          ],
          [
           "California",
           79068
          ],
          [
           "Colorado",
           345803
          ],
          [
           "Minnesota",
           86128
          ],
          [
           "Virginia",
           98465
          ],
          [
           "Oregon",
           81236
          ],
          [
           "California",
           70924
          ],
          [
           "Massachusetts",
           62227
          ],
          [
           "Florida",
           68190
          ],
          [
           "Florida",
           352957
          ],
          [
           "California",
           75413
          ],
          [
           "Virginia",
           42907
          ],
          [
           "Wisconsin",
           36888
          ],
          [
           "Florida",
           90268
          ],
          [
           "Colorado",
           439886
          ],
          [
           "California",
           204933
          ],
          [
           "Michigan",
           192294
          ],
          [
           "Illinois",
           52066
          ],
          [
           "Florida",
           53326
          ],
          [
           "California",
           98030
          ],
          [
           "California",
           77593
          ],
          [
           "Colorado",
           103166
          ],
          [
           "New Mexico",
           69976
          ],
          [
           "California",
           43092
          ],
          [
           "Massachusetts",
           39414
          ],
          [
           "California",
           316619
          ],
          [
           "California",
           157161
          ],
          [
           "California",
           54194
          ],
          [
           "Utah",
           70790
          ],
          [
           "Illinois",
           73936
          ],
          [
           "California",
           96346
          ],
          [
           "Illinois",
           45417
          ],
          [
           "California",
           45237
          ],
          [
           "California",
           73098
          ],
          [
           "Arizona",
           39791
          ],
          [
           "New Mexico",
           101324
          ],
          [
           "Montana",
           39860
          ],
          [
           "Illinois",
           74907
          ],
          [
           "Michigan",
           134873
          ],
          [
           "Missouri",
           54842
          ],
          [
           "Iowa",
           61792
          ],
          [
           "Arizona",
           123546
          ],
          [
           "Texas",
           104475
          ],
          [
           "Michigan",
           42181
          ],
          [
           "Texas",
           54076
          ],
          [
           "Pennsylvania",
           41108
          ],
          [
           "Wisconsin",
           73596
          ],
          [
           "Kansas",
           64323
          ],
          [
           "Ohio",
           46979
          ],
          [
           "California",
           85156
          ],
          [
           "North Carolina",
           792862
          ],
          [
           "Kentucky",
           58416
          ],
          [
           "Florida",
           58298
          ],
          [
           "California",
           41398
          ],
          [
           "Illinois",
           2718782
          ],
          [
           "Montana",
           109059
          ],
          [
           "Wisconsin",
           47134
          ],
          [
           "Illinois",
           43907
          ],
          [
           "Connecticut",
           130660
          ],
          [
           "Pennsylvania",
           43935
          ],
          [
           "Tennessee",
           183270
          ],
          [
           "Ohio",
           53956
          ],
          [
           "Massachusetts",
           44641
          ],
          [
           "Utah",
           48612
          ],
          [
           "California",
           76419
          ],
          [
           "California",
           71948
          ],
          [
           "Minnesota",
           39765
          ],
          [
           "Oregon",
           77677
          ],
          [
           "Tennessee",
           117044
          ],
          [
           "California",
           65416
          ],
          [
           "Connecticut",
           40999
          ],
          [
           "Iowa",
           40566
          ],
          [
           "Tennessee",
           39375
          ],
          [
           "Pennsylvania",
           75806
          ],
          [
           "Alabama",
           58582
          ],
          [
           "Virginia",
           41705
          ],
          [
           "California",
           94275
          ],
          [
           "California",
           92472
          ],
          [
           "Virginia",
           85728
          ],
          [
           "Michigan",
           72952
          ],
          [
           "California",
           39331
          ],
          [
           "West Virginia",
           50821
          ],
          [
           "California",
           52403
          ],
          [
           "Florida",
           40918
          ],
          [
           "South Carolina",
           127999
          ],
          [
           "North Carolina",
           44359
          ],
          [
           "California",
           159503
          ],
          [
           "California",
           59738
          ],
          [
           "Missouri",
           93184
          ],
          [
           "Florida",
           78740
          ],
          [
           "Utah",
           90231
          ],
          [
           "Arkansas",
           40167
          ],
          [
           "California",
           179590
          ],
          [
           "Florida",
           42150
          ],
          [
           "Texas",
           63279
          ],
          [
           "Tennessee",
           653450
          ],
          [
           "Texas",
           228653
          ],
          [
           "Virginia",
           148892
          ],
          [
           "California",
           92147
          ],
          [
           "Massachusetts",
           40249
          ],
          [
           "Georgia",
           47591
          ],
          [
           "Illinois",
           65176
          ],
          [
           "New Jersey",
           41664
          ],
          [
           "Pennsylvania",
           75018
          ],
          [
           "Missouri",
           77147
          ],
          [
           "California",
           67815
          ],
          [
           "Texas",
           2195914
          ],
          [
           "California",
           106780
          ],
          [
           "Michigan",
           117025
          ],
          [
           "Texas",
           117796
          ],
          [
           "Michigan",
           48554
          ],
          [
           "California",
           56105
          ],
          [
           "Florida",
           63155
          ],
          [
           "Nebraska",
           53663
          ],
          [
           "Florida",
           162329
          ],
          [
           "Arkansas",
           75229
          ],
          [
           "California",
           203007
          ],
          [
           "Texas",
           110720
          ],
          [
           "Oklahoma",
           47186
          ],
          [
           "Massachusetts",
           94089
          ],
          [
           "New Jersey",
           65028
          ],
          [
           "California",
           54980
          ],
          [
           "Illinois",
           43116
          ],
          [
           "Mississippi",
           40921
          ],
          [
           "Tennessee",
           42774
          ],
          [
           "New Jersey",
           257342
          ],
          [
           "Minnesota",
           294873
          ],
          [
           "Florida",
           86290
          ],
          [
           "New York",
           43167
          ],
          [
           "Iowa",
           71591
          ],
          [
           "California",
           345012
          ],
          [
           "Minnesota",
           50201
          ],
          [
           "Montana",
           59351
          ],
          [
           "Utah",
           133579
          ],
          [
           "Virginia",
           136699
          ],
          [
           "Texas",
           54898
          ],
          [
           "Utah",
           91648
          ],
          [
           "California",
           37101
          ],
          [
           "Texas",
           42907
          ],
          [
           "South Carolina",
           39823
          ],
          [
           "Arkansas",
           197357
          ],
          [
           "California",
           334227
          ],
          [
           "New York",
           57866
          ],
          [
           "Idaho",
           58292
          ],
          [
           "Washington",
           133992
          ],
          [
           "California",
           127035
          ],
          [
           "New Jersey",
           51982
          ],
          [
           "Massachusetts",
           52044
          ],
          [
           "Nebraska",
           50550
          ],
          [
           "Missouri",
           115276
          ],
          [
           "Wisconsin",
           78199
          ],
          [
           "Indiana",
           85927
          ],
          [
           "Michigan",
           47523
          ],
          [
           "Ohio",
           48630
          ],
          [
           "California",
           56590
          ],
          [
           "Massachusetts",
           53756
          ],
          [
           "Texas",
           53224
          ],
          [
           "Illinois",
           75994
          ],
          [
           "California",
           81750
          ],
          [
           "North Carolina",
           107741
          ],
          [
           "Ohio",
           47777
          ],
          [
           "Oklahoma",
           56756
          ],
          [
           "California",
           89387
          ],
          [
           "Florida",
           57203
          ],
          [
           "California",
           81121
          ],
          [
           "Ohio",
           37530
          ],
          [
           "Illinois",
           150251
          ],
          [
           "California",
           102211
          ],
          [
           "Florida",
           249688
          ],
          [
           "Illinois",
           49670
          ],
          [
           "Connecticut",
           51644
          ],
          [
           "Oregon",
           51583
          ],
          [
           "Nevada",
           603488
          ],
          [
           "Texas",
           152735
          ],
          [
           "Florida",
           171016
          ],
          [
           "Iowa",
           128429
          ],
          [
           "Florida",
           38661
          ],
          [
           "Massachusetts",
           93494
          ],
          [
           "Florida",
           130288
          ],
          [
           "Texas",
           674433
          ],
          [
           "Kansas",
           127679
          ],
          [
           "California",
           54561
          ],
          [
           "Oregon",
           37064
          ],
          [
           "Minnesota",
           51368
          ],
          [
           "Ohio",
           198100
          ],
          [
           "Texas",
           80836
          ],
          [
           "California",
           171386
          ],
          [
           "South Carolina",
           104054
          ],
          [
           "Kentucky",
           609893
          ],
          [
           "California",
           52477
          ],
          [
           "Florida",
           56792
          ],
          [
           "Florida",
           51763
          ],
          [
           "California",
           110972
          ],
          [
           "Texas",
           46081
          ],
          [
           "California",
           91119
          ],
          [
           "Michigan",
           74100
          ],
          [
           "Ohio",
           63710
          ],
          [
           "Utah",
           37733
          ],
          [
           "Florida",
           172389
          ],
          [
           "Georgia",
           72531
          ],
          [
           "Florida",
           109703
          ],
          [
           "Florida",
           43328
          ],
          [
           "Alabama",
           40059
          ],
          [
           "Indiana",
           61025
          ],
          [
           "Texas",
           70190
          ],
          [
           "Ohio",
           45712
          ],
          [
           "South Dakota",
           164676
          ],
          [
           "Indiana",
           45775
          ],
          [
           "Florida",
           55456
          ],
          [
           "Massachusetts",
           41002
          ],
          [
           "Rhode Island",
           81971
          ],
          [
           "California",
           363630
          ],
          [
           "Florida",
           417650
          ],
          [
           "Louisiana",
           74024
          ],
          [
           "Washington",
           52413
          ],
          [
           "North Carolina",
           40361
          ],
          [
           "California",
           66174
          ],
          [
           "Minnesota",
           73987
          ],
          [
           "Indiana",
           100886
          ],
          [
           "Oklahoma",
           87004
          ],
          [
           "Iowa",
           207510
          ],
          [
           "Florida",
           47547
          ],
          [
           "Utah",
           45285
          ],
          [
           "California",
           86635
          ],
          [
           "Michigan",
           95208
          ],
          [
           "Wisconsin",
           599164
          ],
          [
           "Washington",
           74860
          ],
          [
           "South Carolina",
           41190
          ],
          [
           "Massachusetts",
           40664
          ],
          [
           "Washington",
           97003
          ],
          [
           "Colorado",
           106114
          ],
          [
           "Virginia",
           214114
          ],
          [
           "Indiana",
           55670
          ],
          [
           "California",
           40481
          ],
          [
           "Texas",
           53752
          ],
          [
           "New Jersey",
           52575
          ],
          [
           "Kentucky",
           308428
          ],
          [
           "California",
           106589
          ],
          [
           "Arizona",
           91923
          ],
          [
           "California",
           54291
          ],
          [
           "Illinois",
           40379
          ],
          [
           "Illinois",
           147806
          ],
          [
           "South Carolina",
           69103
          ],
          [
           "California",
           67911
          ],
          [
           "Michigan",
           56620
          ],
          [
           "Hawaii",
           347884
          ],
          [
           "Texas",
           65098
          ],
          [
           "Massachusetts",
           43886
          ],
          [
           "Texas",
           44575
          ],
          [
           "Texas",
           126700
          ],
          [
           "Illinois",
           41734
          ],
          [
           "Illinois",
           52398
          ],
          [
           "Massachusetts",
           48514
          ],
          [
           "Florida",
           59212
          ],
          [
           "Maryland",
           64072
          ],
          [
           "California",
           104709
          ],
          [
           "California",
           138981
          ],
          [
           "Wisconsin",
           66778
          ],
          [
           "Texas",
           39795
          ],
          [
           "Michigan",
           81295
          ],
          [
           "California",
           63771
          ],
          [
           "California",
           49707
          ],
          [
           "California",
           40435
          ],
          [
           "Colorado",
           59778
          ],
          [
           "Oklahoma",
           50725
          ],
          [
           "California",
           998537
          ],
          [
           "Texas",
           109821
          ],
          [
           "Minnesota",
           65415
          ],
          [
           "Oklahoma",
           118197
          ],
          [
           "Florida",
           64079
          ],
          [
           "Texas",
           37587
          ],
          [
           "California",
           236716
          ],
          [
           "Idaho",
           54350
          ],
          [
           "California",
           38606
          ],
          [
           "Wisconsin",
           48725
          ],
          [
           "Louisiana",
           66333
          ],
          [
           "Texas",
           61238
          ],
          [
           "Georgia",
           99770
          ],
          [
           "Illinois",
           83424
          ],
          [
           "New Jersey",
           85390
          ],
          [
           "Oklahoma",
           58414
          ],
          [
           "Missouri",
           53294
          ],
          [
           "California",
           159523
          ],
          [
           "Texas",
           78709
          ],
          [
           "Texas",
           38448
          ],
          [
           "Florida",
           165831
          ],
          [
           "California",
           60189
          ],
          [
           "Massachusetts",
           44057
          ],
          [
           "California",
           51701
          ],
          [
           "New Hampshire",
           110378
          ],
          [
           "Virginia",
           448479
          ],
          [
           "Kansas",
           47846
          ],
          [
           "Massachusetts",
           78804
          ],
          [
           "Florida",
           78409
          ],
          [
           "California",
           509924
          ],
          [
           "Alabama",
           37498
          ],
          [
           "Illinois",
           56758
          ],
          [
           "Florida",
           50699
          ],
          [
           "Rhode Island",
           71172
          ],
          [
           "California",
           40275
          ],
          [
           "North Carolina",
           236441
          ],
          [
           "Georgia",
           62298
          ],
          [
           "Missouri",
           82809
          ],
          [
           "California",
           80872
          ],
          [
           "California",
           72528
          ],
          [
           "Florida",
           38632
          ],
          [
           "Minnesota",
           40641
          ],
          [
           "California",
           50175
          ],
          [
           "California",
           83447
          ],
          [
           "Colorado",
           71334
          ],
          [
           "Illinois",
           38241
          ],
          [
           "Rhode Island",
           177994
          ],
          [
           "Florida",
           233394
          ],
          [
           "California",
           74513
          ],
          [
           "California",
           167500
          ],
          [
           "Washington",
           84430
          ],
          [
           "Utah",
           76817
          ],
          [
           "South Carolina",
           39412
          ],
          [
           "California",
           196021
          ],
          [
           "Connecticut",
           60456
          ],
          [
           "California",
           59957
          ],
          [
           "Massachusetts",
           41301
          ],
          [
           "Illinois",
           110145
          ],
          [
           "Texas",
           274409
          ],
          [
           "Colorado",
           89919
          ],
          [
           "Texas",
           40342
          ],
          [
           "Ohio",
           51143
          ],
          [
           "Arkansas",
           71551
          ],
          [
           "Texas",
           100050
          ],
          [
           "Michigan",
           95884
          ],
          [
           "New York",
           61808
          ],
          [
           "Louisiana",
           49761
          ],
          [
           "Maryland",
           622104
          ],
          [
           "Missouri",
           164122
          ],
          [
           "Arkansas",
           46094
          ],
          [
           "New Jersey",
           50588
          ],
          [
           "Massachusetts",
           91589
          ],
          [
           "Minnesota",
           65656
          ],
          [
           "Florida",
           127488
          ],
          [
           "California",
           49891
          ],
          [
           "Washington",
           50169
          ],
          [
           "Florida",
           37199
          ],
          [
           "Arkansas",
           78960
          ],
          [
           "California",
           58994
          ],
          [
           "Arkansas",
           63816
          ],
          [
           "Washington",
           203446
          ],
          [
           "Connecticut",
           47333
          ],
          [
           "Vermont",
           42284
          ],
          [
           "Idaho",
           45981
          ],
          [
           "Texas",
           39296
          ],
          [
           "New York",
           8405837
          ],
          [
           "California",
           126181
          ],
          [
           "California",
           107740
          ],
          [
           "Colorado",
           53063
          ],
          [
           "Georgia",
           56481
          ],
          [
           "Texas",
           792727
          ],
          [
           "California",
           92599
          ],
          [
           "Indiana",
           120310
          ],
          [
           "California",
           102216
          ],
          [
           "Tennessee",
           40021
          ],
          [
           "California",
           58642
          ],
          [
           "Colorado",
           110945
          ],
          [
           "Pennsylvania",
           87893
          ],
          [
           "California",
           70365
          ],
          [
           "Colorado",
           96539
          ],
          [
           "Texas",
           100223
          ],
          [
           "Florida",
           37711
          ],
          [
           "Texas",
           129030
          ],
          [
           "California",
           37165
          ],
          [
           "California",
           128731
          ],
          [
           "California",
           47842
          ],
          [
           "Connecticut",
           147216
          ],
          [
           "Minnesota",
           47411
          ],
          [
           "Missouri",
           47749
          ],
          [
           "Florida",
           38696
          ],
          [
           "Washington",
           67599
          ],
          [
           "California",
           147478
          ],
          [
           "Wisconsin",
           243344
          ],
          [
           "Wisconsin",
           63820
          ],
          [
           "Illinois",
           88826
          ],
          [
           "Kentucky",
           61488
          ],
          [
           "Texas",
           379577
          ],
          [
           "Texas",
           101074
          ],
          [
           "New Mexico",
           45426
          ],
          [
           "California",
           38194
          ],
          [
           "California",
           66642
          ],
          [
           "Oregon",
           60177
          ],
          [
           "Massachusetts",
           95078
          ],
          [
           "Washington",
           57530
          ],
          [
           "California",
           55000
          ],
          [
           "California",
           66205
          ],
          [
           "California",
           49133
          ],
          [
           "Tennessee",
           43060
          ],
          [
           "Pennsylvania",
           45796
          ],
          [
           "Alabama",
           68001
          ],
          [
           "New Jersey",
           64544
          ],
          [
           "Illinois",
           57282
          ],
          [
           "Mississippi",
           44820
          ],
          [
           "Illinois",
           41752
          ],
          [
           "California",
           175140
          ],
          [
           "California",
           71371
          ],
          [
           "Colorado",
           37499
          ],
          [
           "Ohio",
           72535
          ],
          [
           "Georgia",
           50603
          ],
          [
           "Louisiana",
           229426
          ],
          [
           "Connecticut",
           60568
          ],
          [
           "Missouri",
           117240
          ],
          [
           "Michigan",
           113972
          ],
          [
           "Illinois",
           58590
          ],
          [
           "New Jersey",
           61050
          ],
          [
           "Wisconsin",
           104779
          ],
          [
           "Illinois",
           75570
          ],
          [
           "Florida",
           39172
          ],
          [
           "California",
           3884307
          ],
          [
           "Washington",
           92734
          ],
          [
           "Utah",
           110077
          ],
          [
           "California",
           52536
          ],
          [
           "Pennsylvania",
           305841
          ],
          [
           "California",
           113242
          ],
          [
           "Illinois",
           84103
          ],
          [
           "California",
           95677
          ],
          [
           "Florida",
           36877
          ],
          [
           "Missouri",
           50789
          ],
          [
           "Texas",
           90983
          ],
          [
           "Utah",
           191180
          ],
          [
           "Florida",
           43074
          ],
          [
           "Arizona",
           1513367
          ],
          [
           "Oregon",
           55298
          ],
          [
           "Texas",
           46663
          ],
          [
           "Massachusetts",
           55717
          ],
          [
           "Florida",
           57468
          ],
          [
           "Georgia",
           94034
          ],
          [
           "Illinois",
           37839
          ],
          [
           "New Hampshire",
           42419
          ],
          [
           "Washington",
           48338
          ],
          [
           "California",
           197575
          ],
          [
           "Texas",
           316381
          ],
          [
           "Massachusetts",
           62088
          ],
          [
           "Illinois",
           38510
          ],
          [
           "Massachusetts",
           107289
          ],
          [
           "Arizona",
           234632
          ],
          [
           "California",
           38623
          ],
          [
           "South Carolina",
           46074
          ],
          [
           "Iowa",
           102157
          ],
          [
           "Florida",
           89407
          ],
          [
           "Connecticut",
           72939
          ],
          [
           "Michigan",
           47555
          ],
          [
           "Ohio",
           45394
          ],
          [
           "Oregon",
           109397
          ],
          [
           "Florida",
           69813
          ],
          [
           "Tennessee",
           54068
          ],
          [
           "California",
           120245
          ],
          [
           "California",
           172794
          ],
          [
           "California",
           79312
          ],
          [
           "Michigan",
           57960
          ],
          [
           "New Jersey",
           52122
          ],
          [
           "Massachusetts",
           42935
          ],
          [
           "New Jersey",
           41301
          ],
          [
           "North Carolina",
           87236
          ],
          [
           "California",
           97877
          ]
         ],
         "hovertemplate": "<b>%{hovertext}</b><br><br>lat=%{lat}<br>lon=%{lon}<br>State=%{customdata[0]}<br>Population=%{customdata[1]}<extra></extra>",
         "hovertext": [
          "Marysville",
          "Perris",
          "Cleveland",
          "Worcester",
          "Columbia",
          "Waterbury",
          "Eagan",
          "Southfield",
          "Lafayette",
          "Boise City",
          "Elkhart",
          "Buena Park",
          "Marietta",
          "Parker",
          "West Palm Beach",
          "Salem",
          "Aurora",
          "Leesburg",
          "Doral",
          "Westminster",
          "Lubbock",
          "Overland Park",
          "Jackson",
          "Gastonia",
          "Daytona Beach",
          "Kansas City",
          "Rancho Palos Verdes",
          "Burnsville",
          "Rowlett",
          "Roswell",
          "Montgomery",
          "Logan",
          "Woburn",
          "Allentown",
          "Mount Pleasant",
          "Columbus",
          "Buffalo",
          "New Berlin",
          "North Richland Hills",
          "Lima",
          "Sacramento",
          "Fort Smith",
          "East Providence",
          "Urbandale",
          "Mount Vernon",
          "Lakewood",
          "Henderson",
          "Covina",
          "Stamford",
          "Bloomington",
          "Kingsport",
          "Spokane",
          "Kennewick",
          "Philadelphia",
          "Bellingham",
          "Visalia",
          "La Crosse",
          "Council Bluffs",
          "North Lauderdale",
          "Dallas",
          "Antioch",
          "Sterling Heights",
          "Deerfield Beach",
          "Fishers",
          "Cheyenne",
          "Murrieta",
          "Lenexa",
          "Noblesville",
          "Southaven",
          "Chino",
          "Gaithersburg",
          "Fountain Valley",
          "Frederick",
          "Greenville",
          "DeKalb",
          "West Allis",
          "Thornton",
          "West Des Moines",
          "Fall River",
          "Tulare",
          "Chula Vista",
          "Coral Springs",
          "Concord",
          "Smyrna",
          "Apopka",
          "Grand Forks",
          "Lancaster",
          "Naperville",
          "Hollywood",
          "Rogers",
          "New Orleans",
          "Lakewood",
          "Oak Lawn",
          "Caldwell",
          "Portland",
          "Concord",
          "Burien",
          "St. Charles",
          "Waukesha",
          "Flagstaff",
          "Puyallup",
          "Schenectady",
          "Denver",
          "Springfield",
          "Campbell",
          "Moreno Valley",
          "Kettering",
          "Lincoln Park",
          "Lake Havasu City",
          "North Little Rock",
          "Reno",
          "Littleton",
          "Prescott",
          "Dublin",
          "Texarkana",
          "Portland",
          "Brooklyn Park",
          "West Haven",
          "El Centro",
          "The Colony",
          "Flint",
          "Pittsburg",
          "Buckeye",
          "Brea",
          "Indio",
          "Scottsdale",
          "Columbus",
          "Lancaster",
          "Lincoln",
          "Trenton",
          "Boston",
          "Glendora",
          "Rochester",
          "Florissant",
          "Annapolis",
          "Chapel Hill",
          "Lawrence",
          "Calexico",
          "Calumet City",
          "Missoula",
          "Clovis",
          "Pearland",
          "Gilbert",
          "Wausau",
          "Raleigh",
          "Orange",
          "Walnut Creek",
          "Bremerton",
          "Porterville",
          "Marana",
          "Tallahassee",
          "Conroe",
          "Blacksburg",
          "San Antonio",
          "Hartford",
          "Waterloo",
          "Binghamton",
          "Meridian",
          "Fond du Lac",
          "Baytown",
          "Cary",
          "Weymouth Town",
          "Tulsa",
          "Mission",
          "Cuyahoga Falls",
          "Malden",
          "Allen",
          "Tucson",
          "Franklin",
          "Shakopee",
          "Jacksonville",
          "Atlantic City",
          "Erie",
          "Merced",
          "Abilene",
          "Yorba Linda",
          "Greenville",
          "Huntersville",
          "St. Clair Shores",
          "Harrisburg",
          "San Buenaventura (Ventura)",
          "Fremont",
          "Pueblo",
          "Chelsea",
          "Belleville",
          "Minneapolis",
          "Bartlett",
          "Wichita Falls",
          "Missouri City",
          "St. Louis",
          "Pharr",
          "Albuquerque",
          "Athens-Clarke County",
          "South Jordan",
          "North Las Vegas",
          "Pomona",
          "Eastvale",
          "Grove City",
          "Lawrence",
          "Midland",
          "Oklahoma City",
          "Oro Valley",
          "Mesa",
          "Norwalk",
          "Kentwood",
          "Brookfield",
          "Rockwall",
          "Mishawaka",
          "Tustin",
          "St. Cloud",
          "Passaic",
          "Escondido",
          "San Bruno",
          "Berkeley",
          "San Clemente",
          "Lawton",
          "Eau Claire",
          "Maricopa",
          "DeSoto",
          "Fort Wayne",
          "Shoreline",
          "Medford",
          "La Habra",
          "Albany",
          "Daly City",
          "Taylor",
          "Lynchburg",
          "Bowie",
          "Danbury",
          "Charlottesville",
          "Coral Gables",
          "Coeur d'Alene",
          "El Monte",
          "Crystal Lake",
          "Danville",
          "Goodyear",
          "Paterson",
          "Salem",
          "Kissimmee",
          "Saginaw",
          "Brownsville",
          "Flower Mound",
          "Grapevine",
          "Edina",
          "Detroit",
          "Fairfield",
          "Mansfield",
          "Rochester",
          "Birmingham",
          "Austin",
          "Santa Barbara",
          "Addison",
          "Rio Rancho",
          "Normal",
          "Romeoville",
          "Coon Rapids",
          "San Mateo",
          "Orlando",
          "Casper",
          "Bedford",
          "Wilmington",
          "Pinellas Park",
          "North Miami Beach",
          "Kansas City",
          "Fitchburg",
          "Wheeling",
          "Newton",
          "North Miami",
          "Norwich",
          "Newark",
          "Alexandria",
          "Blaine",
          "Harlingen",
          "Lompoc",
          "Denton",
          "Galveston",
          "Greenwood",
          "Salinas",
          "Miami Gardens",
          "Huntington",
          "Laredo",
          "Melbourne",
          "Haltom City",
          "Palm Bay",
          "Wilson",
          "Bountiful",
          "Ceres",
          "Parma",
          "Rapid City",
          "Bell Gardens",
          "Commerce City",
          "Springfield",
          "Fort Collins",
          "San Leandro",
          "Vista",
          "Yonkers",
          "Cincinnati",
          "Hagerstown",
          "Sanford",
          "Union City",
          "Toledo",
          "Sierra Vista",
          "Newport News",
          "Hammond",
          "Buffalo Grove",
          "Sugar Land",
          "Huntsville",
          "Lodi",
          "Edmonds",
          "Duncanville",
          "Rocky Mount",
          "Pontiac",
          "National City",
          "Hayward",
          "Niagara Falls",
          "Sparks",
          "Hanford",
          "Cypress",
          "Youngstown",
          "Madison",
          "Redlands",
          "Cape Girardeau",
          "Nampa",
          "Washington",
          "Wheaton",
          "Lancaster",
          "Rialto",
          "Fargo",
          "Peoria",
          "Omaha",
          "Rancho Santa Margarita",
          "Manhattan",
          "Palm Springs",
          "San Diego",
          "Santa Rosa",
          "Lowell",
          "Broken Arrow",
          "Kent",
          "Nashville",
          "Hackensack",
          "Broomfield",
          "Durham",
          "Wichita",
          "Cathedral City",
          "Lakeville",
          "Elmhurst",
          "Weslaco",
          "Greenfield",
          "Sunnyvale",
          "Santa Cruz",
          "Kenosha",
          "State College",
          "Mansfield",
          "Quincy",
          "Pompano Beach",
          "San Angelo",
          "Bloomington",
          "Tracy",
          "Spartanburg",
          "Nashua",
          "Macon",
          "Hempstead",
          "Camden",
          "Palm Desert",
          "Streamwood",
          "Chesapeake",
          "Dublin",
          "Camarillo",
          "Muskegon",
          "Elizabeth",
          "Anchorage",
          "Minot",
          "Davie",
          "McAllen",
          "McKinney",
          "Killeen",
          "Findlay",
          "Oakland",
          "Mountain View",
          "Lake Elsinore",
          "Amarillo",
          "Provo",
          "Atlanta",
          "Monterey Park",
          "Strongsville",
          "Madera",
          "Decatur",
          "Woonsocket",
          "Mobile",
          "Vallejo",
          "Arcadia",
          "Collierville",
          "Jefferson City",
          "Longview",
          "Chandler",
          "Arvada",
          "Alhambra",
          "Kokomo",
          "Oakland Park",
          "Indianapolis",
          "Boynton Beach",
          "Apache Junction",
          "Mount Prospect",
          "Cranston",
          "Lafayette",
          "Olathe",
          "Johns Creek",
          "Greensboro",
          "Kalamazoo",
          "Tigard",
          "Jacksonville",
          "Citrus Heights",
          "Tuscaloosa",
          "Ankeny",
          "Hawthorne",
          "Hoover",
          "Delray Beach",
          "Wellington",
          "Bullhead City",
          "Weston",
          "Troy",
          "New Rochelle",
          "Stockton",
          "Royal Oak",
          "Titusville",
          "Laguna Niguel",
          "Spokane Valley",
          "Costa Mesa",
          "Grand Prairie",
          "Portsmouth",
          "Lacey",
          "Apex",
          "Sioux City",
          "Encinitas",
          "Spanish Fork",
          "Huntington Park",
          "Eden Prairie",
          "Peoria",
          "Tempe",
          "Wilmington",
          "Taylorsville",
          "Westland",
          "Mesquite",
          "Burlington",
          "Garland",
          "Richmond",
          "Bismarck",
          "Carson City",
          "Muskogee",
          "Augusta-Richmond County",
          "Fayetteville",
          "Albany",
          "Sayreville",
          "Newark",
          "Diamond Bar",
          "Decatur",
          "Chattanooga",
          "Jeffersonville",
          "Bartlett",
          "Baldwin Park",
          "Miami Beach",
          "Jackson",
          "Port Arthur",
          "San Luis Obispo",
          "Burleson",
          "Newport Beach",
          "Riverton",
          "Yakima",
          "Dayton",
          "Gulfport",
          "Long Beach",
          "Chico",
          "Hattiesburg",
          "Eugene",
          "Colton",
          "Montebello",
          "Pleasanton",
          "Everett",
          "Hutchinson",
          "Fairfield",
          "Avondale",
          "Euclid",
          "Battle Creek",
          "Bloomington",
          "Rock Island",
          "Beaverton",
          "Kenner",
          "Clovis",
          "Troy",
          "Milpitas",
          "Des Plaines",
          "Placentia",
          "Taunton",
          "Montclair",
          "Johnson City",
          "Savannah",
          "Warren",
          "Vancouver",
          "Sunrise",
          "Muncie",
          "Lehi",
          "San Francisco",
          "Fontana",
          "Frisco",
          "Chino Hills",
          "Poway",
          "Huber Heights",
          "New Brunswick",
          "Norfolk",
          "Hillsboro",
          "San Jacinto",
          "Pensacola",
          "Hamilton",
          "Florence",
          "San Bernardino",
          "Peachtree Corners",
          "Victorville",
          "Gary",
          "Casa Grande",
          "Morgan Hill",
          "Dubuque",
          "Syracuse",
          "Clarksville",
          "Lakeland",
          "Valley Stream",
          "Dover",
          "Moorhead",
          "Culver City",
          "Palatine",
          "Seattle",
          "Covington",
          "Elk Grove",
          "Shreveport",
          "Ogden",
          "Harrisonburg",
          "Inglewood",
          "Pasadena",
          "Lawrence",
          "Lake Oswego",
          "Petaluma",
          "Springfield",
          "Napa",
          "Aurora",
          "Duluth",
          "Roanoke",
          "Bend",
          "Apple Valley",
          "Waltham",
          "Fort Myers",
          "Tampa",
          "Upland",
          "Danville",
          "Beloit",
          "Plantation",
          "Colorado Springs",
          "Modesto",
          "Grand Rapids",
          "Oak Park",
          "Sarasota",
          "Jurupa Valley",
          "Bellflower",
          "Boulder",
          "Santa Fe",
          "Coachella",
          "Marlborough",
          "Riverside",
          "Palmdale",
          "Novato",
          "Layton",
          "Bolingbrook",
          "Mission Viejo",
          "Glenview",
          "Lincoln",
          "Folsom",
          "Prescott Valley",
          "Las Cruces",
          "Bozeman",
          "Schaumburg",
          "Warren",
          "St. Peters",
          "Ames",
          "Surprise",
          "Richardson",
          "Midland",
          "San Marcos",
          "Wilkes-Barre",
          "Appleton",
          "Shawnee",
          "Mentor",
          "Livermore",
          "Charlotte",
          "Owensboro",
          "Jupiter",
          "Rohnert Park",
          "Chicago",
          "Billings",
          "Wauwatosa",
          "Lombard",
          "New Haven",
          "York",
          "Knoxville",
          "Elyria",
          "Barnstable Town",
          "Murray",
          "Alameda",
          "Manteca",
          "Maplewood",
          "Medford",
          "Murfreesboro",
          "Yuba City",
          "Shelton",
          "Cedar Falls",
          "Germantown",
          "Scranton",
          "Auburn",
          "Manassas",
          "Vacaville",
          "Santa Monica",
          "Suffolk",
          "Rochester Hills",
          "La Quinta",
          "Charleston",
          "Delano",
          "St. Cloud",
          "Charleston",
          "Kannapolis",
          "Corona",
          "Rocklin",
          "Lee's Summit",
          "Palm Coast",
          "Sandy",
          "Bentonville",
          "Santa Clarita",
          "Altamonte Springs",
          "New Braunfels",
          "Memphis",
          "Irving",
          "Alexandria",
          "Hesperia",
          "Holyoke",
          "Dunwoody",
          "Skokie",
          "Kearny",
          "Bethlehem",
          "St. Joseph",
          "Redondo Beach",
          "Houston",
          "Temecula",
          "Ann Arbor",
          "Beaumont",
          "East Lansing",
          "Santee",
          "Tamarac",
          "Bellevue",
          "Pembroke Pines",
          "Springdale",
          "Oxnard",
          "Odessa",
          "Stillwater",
          "Brockton",
          "Bayonne",
          "Paramount",
          "Moline",
          "Meridian",
          "Cleveland",
          "Jersey City",
          "St. Paul",
          "Deltona",
          "Freeport",
          "Iowa City",
          "Anaheim",
          "Apple Valley",
          "Great Falls",
          "West Valley City",
          "Hampton",
          "Georgetown",
          "Orem",
          "Monrovia",
          "Keller",
          "Goose Creek",
          "Little Rock",
          "Santa Ana",
          "White Plains",
          "Idaho Falls",
          "Bellevue",
          "Roseville",
          "Perth Amboy",
          "Peabody",
          "Grand Island",
          "Columbia",
          "Racine",
          "Carmel",
          "Portage",
          "Middletown",
          "Woodland",
          "Revere",
          "Euless",
          "Arlington Heights",
          "Hemet",
          "High Point",
          "Newark",
          "Midwest City",
          "San Marcos",
          "Port Orange",
          "Lakewood",
          "Westerville",
          "Rockford",
          "El Cajon",
          "St. Petersburg",
          "Downers Grove",
          "Milford",
          "Albany",
          "Las Vegas",
          "Pasadena",
          "Port St. Lucie",
          "Cedar Rapids",
          "Ormond Beach",
          "Quincy",
          "Miramar",
          "El Paso",
          "Topeka",
          "Rosemead",
          "Keizer",
          "Minnetonka",
          "Akron",
          "Edinburg",
          "Rancho Cucamonga",
          "North Charleston",
          "Louisville",
          "Watsonville",
          "Coconut Creek",
          "Bradenton",
          "Carlsbad",
          "Texas City",
          "Redding",
          "Wyoming",
          "Lorain",
          "Roy",
          "Fort Lauderdale",
          "Warner Robins",
          "Clearwater",
          "Cutler Bay",
          "Florence",
          "Terre Haute",
          "Temple",
          "Beavercreek",
          "Sioux Falls",
          "Columbus",
          "Margate",
          "Leominster",
          "Warwick",
          "Bakersfield",
          "Miami",
          "Lake Charles",
          "Richland",
          "Hickory",
          "South San Francisco",
          "Plymouth",
          "South Bend",
          "Edmond",
          "Des Moines",
          "Bonita Springs",
          "Draper",
          "Whittier",
          "Livonia",
          "Milwaukee",
          "Auburn",
          "Sumter",
          "Beverly",
          "Renton",
          "Centennial",
          "Richmond",
          "Anderson",
          "Beaumont",
          "Pflugerville",
          "Hoboken",
          "Lexington-Fayette",
          "Norwalk",
          "Yuma",
          "Highland",
          "Carol Stream",
          "Joliet",
          "Rock Hill",
          "Rancho Cordova",
          "Dearborn Heights",
          "Honolulu",
          "Victoria",
          "Attleboro",
          "Wylie",
          "Carrollton",
          "Plainfield",
          "Hoffman Estates",
          "Methuen",
          "North Port",
          "Rockville",
          "Burbank",
          "Fullerton",
          "Oshkosh",
          "Huntsville",
          "Farmington Hills",
          "Pico Rivera",
          "Cerritos",
          "La Puente",
          "Grand Junction",
          "Enid",
          "San Jose",
          "Round Rock",
          "Maple Grove",
          "Norman",
          "Homestead",
          "Friendswood",
          "Irvine",
          "Pocatello",
          "Pacifica",
          "Sheboygan",
          "Bossier City",
          "Cedar Park",
          "Sandy Springs",
          "Champaign",
          "Clifton",
          "Moore",
          "Blue Springs",
          "Lancaster",
          "Bryan",
          "Hurst",
          "Cape Coral",
          "Cupertino",
          "Pittsfield",
          "Gilroy",
          "Manchester",
          "Virginia Beach",
          "Salina",
          "Somerville",
          "Largo",
          "Fresno",
          "Phenix City",
          "Berwyn",
          "Palm Beach Gardens",
          "Pawtucket",
          "San Gabriel",
          "Winston-Salem",
          "Alpharetta",
          "O'Fallon",
          "Redwood City",
          "Union City",
          "Hallandale Beach",
          "Mankato",
          "Aliso Viejo",
          "Menifee",
          "Loveland",
          "Carpentersville",
          "Providence",
          "Hialeah",
          "San Ramon",
          "Ontario",
          "Kirkland",
          "St. George",
          "Hilton Head Island",
          "Glendale",
          "Meriden",
          "Gardena",
          "Westfield",
          "Elgin",
          "Plano",
          "Longmont",
          "Coppell",
          "Lakewood",
          "Jonesboro",
          "College Station",
          "Dearborn",
          "Utica",
          "Monroe",
          "Baltimore",
          "Springfield",
          "Pine Bluff",
          "Plainfield",
          "Lynn",
          "Woodbury",
          "Gainesville",
          "West Sacramento",
          "Sammamish",
          "Aventura",
          "Fayetteville",
          "San Rafael",
          "Conway",
          "Tacoma",
          "Middletown",
          "Burlington",
          "Twin Falls",
          "Sherman",
          "New York",
          "Simi Valley",
          "West Covina",
          "Castle Rock",
          "Valdosta",
          "Fort Worth",
          "Carson",
          "Evansville",
          "Santa Maria",
          "Brentwood",
          "La Mesa",
          "Westminster",
          "Reading",
          "Turlock",
          "Greeley",
          "Tyler",
          "Winter Garden",
          "Waco",
          "Martinez",
          "Thousand Oaks",
          "Azusa",
          "Bridgeport",
          "St. Louis Park",
          "Chesterfield",
          "Greenacres",
          "Pasco",
          "Torrance",
          "Madison",
          "Janesville",
          "Waukegan",
          "Bowling Green",
          "Arlington",
          "Lewisville",
          "Farmington",
          "Oakley",
          "Palo Alto",
          "Springfield",
          "New Bedford",
          "Redmond",
          "Brentwood",
          "Davis",
          "La Mirada",
          "Smyrna",
          "Altoona",
          "Dothan",
          "East Orange",
          "Tinley Park",
          "Biloxi",
          "Urbana",
          "Garden Grove",
          "Lynwood",
          "Northglenn",
          "Canton",
          "Brookhaven",
          "Baton Rouge",
          "Bristol",
          "Independence",
          "Lansing",
          "Orland Park",
          "Vineland",
          "Green Bay",
          "Evanston",
          "Ocoee",
          "Los Angeles",
          "Federal Way",
          "West Jordan",
          "Yucaipa",
          "Pittsburgh",
          "Downey",
          "Cicero",
          "South Gate",
          "Panama City",
          "Joplin",
          "League City",
          "Salt Lake City",
          "Fort Pierce",
          "Phoenix",
          "Corvallis",
          "Cedar Hill",
          "Chicopee",
          "Ocala",
          "Roswell",
          "Park Ridge",
          "Concord",
          "Olympia",
          "Huntington Beach",
          "Corpus Christi",
          "Haverhill",
          "Hanover Park",
          "Cambridge",
          "Glendale",
          "Stanton",
          "Summerville",
          "Davenport",
          "Boca Raton",
          "New Britain",
          "Roseville",
          "Cleveland Heights",
          "Gresham",
          "Lauderhill",
          "Hendersonville",
          "Santa Clara",
          "Oceanside",
          "Lake Forest",
          "Novi",
          "West New York",
          "Everett",
          "Linden",
          "Asheville",
          "Compton"
         ],
         "lat": [
          48.0517637,
          33.7825194,
          41.49932,
          42.26259320000001,
          34.0007104,
          41.55815250000001,
          44.80413220000001,
          42.4733688,
          30.2240897,
          43.6187102,
          41.6819935,
          33.867514299999996,
          33.952602,
          39.5186002,
          26.7153424,
          42.51954,
          41.7605849,
          39.1156615,
          25.8195424,
          33.7513419,
          33.5778631,
          38.9822282,
          32.298757300000005,
          35.262082,
          29.2108147,
          39.0997265,
          33.7444613,
          44.7677424,
          32.9029017,
          33.3942655,
          32.366805199999995,
          41.7369803,
          42.4792618,
          40.6084305,
          32.8323225,
          32.4609764,
          42.8864468,
          42.9764027,
          32.8342952,
          40.742551,
          38.5815719,
          35.38592420000001,
          41.81371160000001,
          41.6266555,
          40.9125992,
          39.7047095,
          36.0395247,
          34.0900091,
          41.0534302,
          39.165325,
          36.548434,
          47.6587802,
          46.2112458,
          39.9525839,
          48.74908,
          36.3302284,
          43.8013556,
          41.2619444,
          26.217305,
          32.7766642,
          38.0049214,
          42.5803122,
          26.3184123,
          39.95675479999999,
          41.1399814,
          33.553914299999995,
          38.9536174,
          40.0455917,
          34.9889818,
          34.0122346,
          39.14344060000001,
          33.7091847,
          39.41426879999999,
          35.61266099999999,
          41.9294736,
          43.0166806,
          39.8680412,
          41.5772115,
          41.7014912,
          36.20772879999999,
          32.6400541,
          26.271192,
          35.4087517,
          33.883992600000006,
          28.6934076,
          47.9252568,
          39.71367539999999,
          41.7508391,
          26.0112014,
          36.3320196,
          29.9510658,
          47.1717649,
          41.71997800000001,
          43.66293839999999,
          45.52306220000001,
          37.9779776,
          47.4703767,
          38.7881062,
          43.0116784,
          35.1982836,
          47.1853785,
          42.8142432,
          39.7392358,
          39.7817213,
          37.2871651,
          33.9424658,
          39.6895036,
          42.2505943,
          34.483901,
          34.769535999999995,
          39.5296329,
          39.613321,
          34.540024200000005,
          37.7021521,
          33.425125,
          43.661471,
          45.0941315,
          41.2705484,
          32.792,
          33.0806083,
          43.0125274,
          38.02797620000001,
          33.370319699999996,
          33.9166805,
          33.7205771,
          33.49417039999999,
          39.9611755,
          40.0378755,
          40.8257625,
          40.2170534,
          42.3600825,
          34.136118700000004,
          44.0121221,
          38.789217,
          38.9784453,
          35.91319960000001,
          39.8386516,
          32.6789476,
          41.6155909,
          46.8787176,
          36.8252277,
          29.5635666,
          33.3528264,
          44.9591352,
          35.7795897,
          33.787794399999996,
          37.9100783,
          47.56732020000001,
          36.06523,
          32.436381,
          30.4382559,
          30.3118769,
          37.2295733,
          29.4241219,
          41.7637111,
          42.49278599999999,
          42.0986867,
          43.61210870000001,
          43.7730448,
          29.735504700000003,
          35.79154000000001,
          42.2180724,
          36.1539816,
          26.2159066,
          41.1339449,
          42.4250964,
          33.1031744,
          32.2217429,
          35.9250637,
          44.79739620000001,
          30.3321838,
          39.3642834,
          42.1292241,
          37.3021632,
          32.4487364,
          33.888625899999994,
          34.8526176,
          35.410694,
          42.4974085,
          40.27319110000001,
          34.274646000000004,
          37.54826970000001,
          38.2544472,
          42.3917638,
          38.52005039999999,
          44.977753,
          35.20453279999999,
          33.91370850000001,
          29.6185669,
          38.6270025,
          26.1947962,
          35.0853336,
          33.9519347,
          40.5621704,
          36.1988592,
          34.055103,
          33.952463,
          39.88145189999999,
          38.9716689,
          31.9973456,
          35.4675602,
          32.3909071,
          33.4151843,
          41.117744,
          42.8694731,
          43.0605671,
          32.9312336,
          41.6619927,
          33.7458511,
          45.5579451,
          40.8567662,
          33.1192068,
          37.6304904,
          37.87159260000001,
          33.4269728,
          34.6035669,
          44.811349,
          33.05810630000001,
          32.589699800000005,
          41.079273,
          47.7556531,
          42.4184296,
          33.9319578,
          42.65257929999999,
          37.6879241,
          42.240872,
          37.4137536,
          39.0067768,
          41.394817,
          38.0293059,
          25.72149,
          47.6776832,
          34.0686206,
          42.2411344,
          37.8215929,
          33.4353394,
          40.9167654,
          44.9428975,
          28.291955699999995,
          43.4194699,
          25.9017472,
          33.0145673,
          32.9342919,
          44.88968660000001,
          42.33142700000001,
          39.3454673,
          32.5631924,
          43.16103,
          33.5206608,
          30.267153000000004,
          34.4208305,
          41.931696,
          35.2327544,
          40.5142026,
          41.6475306,
          45.1732394,
          37.56299170000001,
          28.5383355,
          42.866632,
          32.844017,
          34.2257255,
          27.8428025,
          25.9331488,
          39.11405300000001,
          42.583422799999994,
          42.1391927,
          42.3370413,
          25.8900949,
          41.5242649,
          40.735657,
          31.3112936,
          45.1607987,
          26.1906306,
          34.6391501,
          33.2148412,
          29.3013479,
          39.6136578,
          36.6777372,
          25.942037699999997,
          38.41924960000001,
          27.530567100000006,
          28.0836269,
          32.799573800000005,
          28.03446210000001,
          35.7212689,
          40.8893895,
          37.5949316,
          41.40477420000001,
          44.0805434,
          33.965291799999996,
          39.8083196,
          42.1014831,
          40.5852602,
          37.7249296,
          33.2000368,
          40.9312099,
          39.1031182,
          39.6417629,
          28.802861199999995,
          40.6975898,
          41.6639383,
          31.5455001,
          37.0870821,
          41.58336879999999,
          42.1662831,
          29.6196787,
          34.730368799999994,
          38.1341477,
          47.8106521,
          32.6518004,
          35.93821029999999,
          42.6389216,
          32.6781085,
          37.6688205,
          43.0962143,
          39.5349112,
          36.3274502,
          33.8169599,
          41.0997803,
          34.6992579,
          34.055569299999995,
          37.3058839,
          43.5407172,
          38.9071923,
          41.8661403,
          32.5920798,
          34.1064001,
          46.8771863,
          40.6936488,
          41.25236339999999,
          33.640855,
          39.1836082,
          33.8302961,
          32.715738,
          38.44042899999999,
          42.633424700000006,
          36.060949,
          47.38093350000001,
          36.1626638,
          40.8859325,
          39.9205411,
          35.99403289999999,
          37.688889,
          33.780538799999995,
          44.6496868,
          41.8994744,
          26.159519399999994,
          42.9614039,
          37.36883,
          36.9741171,
          42.5847425,
          40.7933949,
          40.75839000000001,
          39.9356016,
          26.2378597,
          31.4637723,
          40.4842027,
          37.7396513,
          34.949567200000004,
          42.7653662,
          32.8406946,
          40.7062128,
          39.9259463,
          33.7222445,
          42.02558270000001,
          36.7682088,
          40.0992294,
          34.216393700000005,
          43.2341813,
          40.6639916,
          61.2180556,
          48.23296679999999,
          26.0764783,
          26.203407100000003,
          33.19724650000001,
          31.117119399999996,
          41.04422,
          37.8043637,
          37.3860517,
          33.668077200000006,
          35.2219971,
          40.23384379999999,
          33.7489954,
          34.0625106,
          41.3144966,
          36.96133560000001,
          39.84031470000001,
          42.0028761,
          30.6953657,
          38.1040864,
          34.139729200000005,
          35.042035999999996,
          38.57670170000001,
          32.5007037,
          33.3061605,
          39.802764399999994,
          34.095287,
          40.486427,
          26.1723065,
          39.768403,
          26.531786600000004,
          33.4150485,
          42.06641670000001,
          41.7798226,
          40.4167022,
          38.8813958,
          34.0289259,
          36.0726354,
          42.29170689999999,
          45.4312294,
          34.7540524,
          38.7071247,
          33.2098407,
          41.7317884,
          33.9164032,
          33.405386699999994,
          26.4614625,
          26.6617635,
          35.1359386,
          26.1003654,
          42.6064095,
          40.9114882,
          37.9577016,
          42.4894801,
          28.612218699999996,
          33.5225261,
          47.6732281,
          33.6411316,
          32.7459645,
          36.8354258,
          47.03426289999999,
          35.732652,
          42.4999942,
          33.0369867,
          40.114955,
          33.981681200000004,
          44.8546856,
          33.5805955,
          33.4255104,
          39.7390721,
          40.66772479999999,
          42.32420399999999,
          32.7667955,
          36.0956918,
          32.912624,
          37.9357576,
          46.8083268,
          39.1637984,
          35.74787689999999,
          33.4734978,
          35.0526641,
          31.578507399999996,
          40.4594021,
          37.5296593,
          34.02862260000001,
          34.605925299999996,
          35.0456297,
          38.27757020000001,
          41.9950276,
          34.0852868,
          25.790654,
          35.6145169,
          29.884950399999994,
          35.2827524,
          32.5420821,
          33.6189101,
          40.521893,
          46.6020711,
          39.75894779999999,
          30.367419800000004,
          33.770050399999995,
          39.72849439999999,
          31.3271189,
          44.0520691,
          34.0739016,
          34.0165053,
          37.6624312,
          47.9789848,
          38.0608445,
          38.2493581,
          33.4355977,
          41.5931049,
          42.32115220000001,
          44.840798,
          41.5094771,
          45.487062,
          29.9940924,
          34.4047987,
          42.7284117,
          37.4323341,
          42.03336229999999,
          33.87223710000001,
          41.900101,
          34.0775104,
          36.3134397,
          32.0835407,
          41.23755689999999,
          45.6387281,
          26.1669711,
          40.1933767,
          40.3916172,
          37.7749295,
          34.0922335,
          33.1506744,
          33.989818799999995,
          32.9628232,
          39.843947,
          40.4862157,
          36.8507689,
          45.5228939,
          33.78390839999999,
          30.421309,
          39.3995008,
          34.1954331,
          34.1083449,
          33.9698929,
          34.5362184,
          41.5933696,
          32.8795022,
          37.13050120000001,
          42.5005583,
          43.0481221,
          36.5297706,
          28.039465399999994,
          40.664269899999994,
          39.158168,
          46.8737648,
          34.021122399999996,
          42.1103041,
          47.6062095,
          39.08367120000001,
          38.4087993,
          32.5251516,
          41.223,
          38.44956879999999,
          33.9616801,
          34.1477849,
          42.7070354,
          45.4206749,
          38.232417,
          39.9242266,
          38.2975381,
          39.72943189999999,
          46.7866719,
          37.2709704,
          44.05817279999999,
          34.5008311,
          42.37648520000001,
          26.640628000000003,
          27.950575,
          34.09751,
          36.5859718,
          42.5083482,
          26.1275862,
          38.8338816,
          37.6390972,
          42.9633599,
          41.885031700000006,
          27.3364347,
          33.9971974,
          33.881681799999996,
          40.0149856,
          35.686975200000006,
          33.6803003,
          42.3459271,
          33.9533487,
          34.5794343,
          38.10741979999999,
          41.0602216,
          41.6986416,
          33.6000232,
          42.06975089999999,
          38.891565,
          38.6779591,
          34.6100243,
          32.3199396,
          45.6769979,
          42.0333607,
          42.5144566,
          38.7874699,
          42.03472199999999,
          33.62923370000001,
          32.948333500000004,
          43.6155825,
          29.8832749,
          41.24591489999999,
          44.2619309,
          39.0228485,
          41.66615729999999,
          37.6818745,
          35.2270869,
          37.7719074,
          26.934224600000004,
          38.3396367,
          41.8781136,
          45.783285600000006,
          43.049457200000006,
          41.8800296,
          41.308274,
          39.9625984,
          35.96063839999999,
          41.36837979999999,
          41.7003208,
          40.6668916,
          37.7652065,
          37.79742729999999,
          44.95302150000001,
          42.3265152,
          35.8456213,
          39.1404477,
          41.3164856,
          42.5348993,
          35.08675770000001,
          41.408969,
          32.6098566,
          38.7509488,
          38.3565773,
          34.01945429999999,
          36.7282054,
          42.6583661,
          33.66335729999999,
          38.3498195,
          35.7688425,
          28.2489016,
          32.776474900000004,
          35.48736129999999,
          33.8752935,
          38.7907339,
          38.9108408,
          29.584452399999996,
          40.56497810000001,
          36.37285379999999,
          34.3916641,
          28.6611089,
          29.7030024,
          35.1495343,
          32.814017699999994,
          38.8048355,
          34.4263886,
          42.2042586,
          33.9462125,
          42.0324025,
          40.7684342,
          40.6259316,
          39.76745779999999,
          33.8491816,
          29.7604267,
          33.4936391,
          42.2808256,
          30.080174,
          42.7369792,
          32.8383828,
          26.2128609,
          41.15436229999999,
          26.007765,
          36.18674420000001,
          34.1975048,
          31.8456816,
          36.1156071,
          42.08343350000001,
          40.6687141,
          33.8894598,
          41.5067003,
          32.3643098,
          35.1595182,
          40.7281575,
          44.9537029,
          28.9005446,
          40.65760220000001,
          41.6611277,
          33.8352932,
          44.7319094,
          47.4941836,
          40.691613200000006,
          37.0298687,
          30.633261800000003,
          40.2968979,
          34.14426160000001,
          32.9341893,
          32.9810059,
          34.7464809,
          33.7455731,
          41.0339862,
          43.49165139999999,
          47.610377,
          38.7521235,
          40.5067723,
          42.5278731,
          40.92639570000001,
          38.95170529999999,
          42.7261309,
          39.978371,
          42.20115379999999,
          39.5150576,
          38.6785157,
          42.40843020000001,
          32.8370727,
          42.0883603,
          33.7475203,
          35.95569229999999,
          40.0581205,
          35.4495065,
          33.1433723,
          29.1383165,
          33.853626899999995,
          40.12617429999999,
          42.2711311,
          32.7947731,
          27.773056,
          41.8089191,
          41.2306979,
          44.6365107,
          36.1699412,
          29.6910625,
          27.273049199999996,
          41.9778795,
          29.285812899999996,
          42.25287720000001,
          25.9860762,
          31.7775757,
          39.05582349999999,
          34.0805651,
          44.9901194,
          44.9211836,
          41.08144470000001,
          26.3017374,
          34.1063989,
          32.8546197,
          38.2526647,
          36.910231,
          26.2517482,
          27.4989278,
          33.158093300000004,
          29.383845,
          40.5865396,
          42.9133602,
          41.452819,
          41.1616108,
          26.1224386,
          32.6130007,
          27.9658533,
          25.5808323,
          34.79981,
          39.4667034,
          31.0982344,
          39.7092262,
          43.5445959,
          39.2014404,
          26.244526300000004,
          42.5250906,
          41.70010089999999,
          35.3732921,
          25.7616798,
          30.226594899999995,
          46.2856907,
          35.7344538,
          37.654656,
          45.01051939999999,
          41.67635449999999,
          35.6528323,
          41.60054479999999,
          26.339806,
          40.5246711,
          33.97917929999999,
          42.36837,
          43.0389025,
          47.30732279999999,
          33.9204354,
          42.5584283,
          47.4828776,
          39.5807452,
          37.5407246,
          40.1053196,
          33.92946060000001,
          30.4393696,
          40.7439905,
          38.040583700000006,
          33.9022367,
          32.6926512,
          34.1283442,
          41.9125286,
          41.525031,
          34.9248667,
          38.5890723,
          42.3369816,
          21.3069444,
          28.8052674,
          41.9445441,
          33.0151201,
          32.975641499999995,
          41.632223,
          42.06299149999999,
          42.7262016,
          27.044224,
          39.0839973,
          34.18083920000001,
          33.8703596,
          44.0247062,
          30.723526300000003,
          42.4989936,
          33.9830688,
          33.858348299999996,
          34.0200114,
          39.0638705,
          36.3955891,
          37.3382082,
          30.508255100000003,
          45.07246420000001,
          35.22256679999999,
          25.468722399999994,
          29.529399800000004,
          33.6839473,
          42.8713032,
          37.61382529999999,
          43.7508284,
          32.5159852,
          30.505197999999996,
          33.9304352,
          40.1164204,
          40.8584328,
          35.339507899999994,
          39.0169509,
          34.6867846,
          30.674364299999993,
          32.82346210000001,
          26.5628537,
          37.3229978,
          42.4500845,
          37.0057816,
          42.99563970000001,
          36.8529263,
          38.8402805,
          42.3875968,
          27.909466499999994,
          36.7468422,
          32.4709761,
          41.8505874,
          26.8233946,
          41.878711,
          34.0961111,
          36.0998596,
          34.07537620000001,
          38.8106075,
          37.4852152,
          37.59339179999999,
          25.981202399999994,
          44.1635775,
          33.5676842,
          33.6971468,
          40.39776120000001,
          42.1211364,
          41.8239891,
          25.8575963,
          37.7799273,
          34.0633443,
          47.6814875,
          37.0965278,
          32.216316,
          34.1425078,
          41.5381535,
          33.8883487,
          42.1250929,
          42.03540839999999,
          33.0198431,
          40.16720679999999,
          32.954568699999996,
          41.48199320000001,
          35.8422967,
          30.627977,
          42.3222599,
          43.100903,
          32.5093109,
          39.2903848,
          37.20895720000001,
          34.2284312,
          40.6337136,
          42.466763,
          44.92385520000001,
          29.6516344,
          38.5804609,
          47.61626829999999,
          25.9564812,
          36.0625795,
          37.9735346,
          35.0886963,
          47.2528768,
          41.5623209,
          44.4758825,
          42.5629668,
          33.63566179999999,
          40.7127837,
          34.2694474,
          34.0686208,
          39.37221210000001,
          30.8327022,
          32.7554883,
          33.8316745,
          37.9715592,
          34.95303370000001,
          36.0331164,
          32.7678287,
          39.8366528,
          40.33564829999999,
          37.49465679999999,
          40.42331420000001,
          32.351260100000005,
          28.5652787,
          31.549333,
          38.0193657,
          34.1705609,
          34.1336186,
          41.18654779999999,
          44.9597376,
          38.6631083,
          26.6276276,
          46.23957929999999,
          33.83584920000001,
          43.07305170000001,
          42.6827885,
          42.3636331,
          36.9685219,
          32.735687,
          33.046233,
          36.7280583,
          37.9974219,
          37.44188339999999,
          44.0462362,
          41.6362152,
          47.6739881,
          37.931868,
          38.5449065,
          33.9172357,
          35.9828412,
          40.5186809,
          31.2232313,
          40.767323,
          41.5731442,
          30.396031800000006,
          40.1105875,
          33.773905299999996,
          33.930293,
          39.8961821,
          40.7989473,
          33.8651033,
          30.458282899999997,
          41.6717648,
          39.0911161,
          42.732535,
          41.6303103,
          39.4863773,
          44.519159,
          42.0450722,
          28.5691677,
          34.0522342,
          47.3223221,
          40.6096698,
          34.033625,
          40.44062479999999,
          33.9401088,
          41.8455877,
          33.954737,
          30.158812899999994,
          37.0842271,
          29.5074538,
          40.7607793,
          27.446705600000005,
          33.4483771,
          44.5645659,
          32.5884689,
          42.14870429999999,
          29.1871986,
          34.0232431,
          42.0111412,
          43.2081366,
          47.0378741,
          33.660297,
          27.800582799999994,
          42.7762015,
          41.9994722,
          42.3736158,
          33.538652299999995,
          33.802515500000005,
          33.0185039,
          41.5236437,
          26.3683064,
          41.6612104,
          42.4972583,
          41.5200518,
          45.5001357,
          26.1403635,
          36.3047735,
          37.35410789999999,
          33.1958696,
          33.6469661,
          42.48059,
          40.78787879999999,
          42.40843,
          40.6220478,
          35.5950581,
          33.8958492
         ],
         "legendgroup": "",
         "lon": [
          -122.1770818,
          -117.2286478,
          -81.6943605,
          -71.8022934,
          -81.0348144,
          -73.0514965,
          -93.1668858,
          -83.2218731,
          -92.0198427,
          -116.2146068,
          -85.9766671,
          -117.9981181,
          -84.5499327,
          -104.7613633,
          -80.0533746,
          -70.8967155,
          -88.3200715,
          -77.5636015,
          -80.3553302,
          -117.9939921,
          -101.8551665,
          -94.6707917,
          -90.1848103,
          -81.1873005,
          -81.02283309999999,
          -94.5785667,
          -118.3870173,
          -93.2777226,
          -96.56388,
          -104.5230242,
          -86.2999689,
          -111.8338359,
          -71.1522765,
          -75.4901833,
          -79.82842579999998,
          -84.9877094,
          -78.8783689,
          -88.10842240000002,
          -97.2289029,
          -84.1052256,
          -121.4943996,
          -94.3985475,
          -71.37005450000002,
          -93.7121656,
          -73.8370786,
          -105.08137340000002,
          -114.9817213,
          -117.8903397,
          -73.53873409999999,
          -86.5263857,
          -82.5618186,
          -117.4260466,
          -119.1372338,
          -75.1652215,
          -122.4781473,
          -119.2920585,
          -91.2395807,
          -95.8608333,
          -80.2258811,
          -96.7969879,
          -121.805789,
          -83.0302033,
          -80.0997657,
          -86.01335,
          -104.8202462,
          -117.2139232,
          -94.7335709,
          -86.0085955,
          -90.0125913,
          -117.688944,
          -77.2013705,
          -117.9536697,
          -77.41054090000002,
          -77.3663538,
          -88.7503647,
          -88.0070315,
          -104.9719243,
          -93.711332,
          -71.1550451,
          -119.3473379,
          -117.0841955,
          -80.27060440000002,
          -80.579511,
          -84.51437609999998,
          -81.53221490000001,
          -97.0328547,
          -82.59932940000002,
          -88.15353520000002,
          -80.1494901,
          -94.1185366,
          -90.0715323,
          -122.518458,
          -87.7479528,
          -116.6873596,
          -122.6764816,
          -122.0310733,
          -122.3467918,
          -90.4974359,
          -88.2314813,
          -111.651302,
          -122.29289740000002,
          -73.93956870000002,
          -104.990251,
          -89.6501481,
          -121.9499568,
          -117.2296717,
          -84.16882740000001,
          -83.17853609999997,
          -114.3224548,
          -92.2670941,
          -119.8138027,
          -105.0166498,
          -112.4685025,
          -121.9357918,
          -94.0476882,
          -70.2553259,
          -93.3563405,
          -72.94697109999998,
          -115.5630514,
          -96.8928309,
          -83.6874562,
          -121.88468059999998,
          -112.58377659999998,
          -117.9000604,
          -116.2155619,
          -111.9260519,
          -82.9987942,
          -76.3055144,
          -96.6851982,
          -74.74293840000001,
          -71.0588801,
          -117.865339,
          -92.4801989,
          -90.322614,
          -76.4921829,
          -79.05584449999998,
          -86.0252612,
          -115.4988834,
          -87.5294871,
          -113.996586,
          -119.7029194,
          -95.2860474,
          -111.789027,
          -89.6301221,
          -78.6381787,
          -117.8531119,
          -122.0651819,
          -122.6329356,
          -119.0167679,
          -111.2224422,
          -84.2807329,
          -95.4560512,
          -80.4139393,
          -98.4936282,
          -72.6850932,
          -92.3425775,
          -75.9179738,
          -116.3915131,
          -88.44705079999999,
          -94.9774274,
          -78.78111690000001,
          -70.94103559999998,
          -95.992775,
          -98.3252932,
          -81.48455849999998,
          -71.066163,
          -96.6705503,
          -110.926479,
          -86.86888990000001,
          -93.5272861,
          -81.655651,
          -74.4229266,
          -80.085059,
          -120.48296770000002,
          -99.7331439,
          -117.8131125,
          -82.3940104,
          -80.8428504,
          -82.8963604,
          -76.88670079999999,
          -119.22903159999998,
          -121.9885719,
          -104.6091409,
          -71.03282840000001,
          -89.98399350000003,
          -93.2650108,
          -89.8739753,
          -98.4933873,
          -95.5377215,
          -90.1994042,
          -98.1836216,
          -106.6055534,
          -83.357567,
          -111.929658,
          -115.1175013,
          -117.7499909,
          -117.5848025,
          -83.09296440000001,
          -95.2352501,
          -102.0779146,
          -97.5164276,
          -110.96648799999998,
          -111.8314724,
          -73.4081575,
          -85.6447492,
          -88.1064787,
          -96.4597089,
          -86.15861559999998,
          -117.826166,
          -94.1632404,
          -74.12847640000003,
          -117.086421,
          -122.4110835,
          -122.272747,
          -117.6119925,
          -98.3959291,
          -91.4984941,
          -112.0476423,
          -96.8570738,
          -85.13935129999999,
          -122.3415178,
          -71.10616390000001,
          -117.94617340000002,
          -73.7562317,
          -122.47020790000002,
          -83.2696509,
          -79.1422464,
          -76.77913649999998,
          -73.45401109999997,
          -78.4766781,
          -80.2683838,
          -116.7804664,
          -118.0275667,
          -88.3161965,
          -121.9999606,
          -112.3576567,
          -74.171811,
          -123.0350963,
          -81.40757099999998,
          -83.9508068,
          -97.4974838,
          -97.0969552,
          -97.0780654,
          -93.3499489,
          -83.0457538,
          -84.56031870000002,
          -97.1416768,
          -77.61092190000002,
          -86.80249,
          -97.7430608,
          -119.6981901,
          -87.9889556,
          -106.6630437,
          -88.99063120000002,
          -88.0895061,
          -93.3030063,
          -122.3255254,
          -81.3792365,
          -106.313081,
          -97.1430671,
          -77.9447102,
          -82.6995443,
          -80.1625463,
          -94.6274636,
          -71.8022955,
          -87.92895909999999,
          -71.2092214,
          -80.18671379999998,
          -72.07591049999998,
          -74.1723667,
          -92.4451371,
          -93.2349489,
          -97.6961026,
          -120.4579409,
          -97.1330683,
          -94.7976958,
          -86.10665259999998,
          -121.6555013,
          -80.2456045,
          -82.445154,
          -99.4803241,
          -80.6081089,
          -97.2691817,
          -80.5886646,
          -77.91553950000002,
          -111.880771,
          -120.9577098,
          -81.72290859999998,
          -103.2310149,
          -118.1514588,
          -104.9338675,
          -72.589811,
          -105.084423,
          -122.1560768,
          -117.2425355,
          -73.8987469,
          -84.5120196,
          -77.7199932,
          -81.269453,
          -74.2631635,
          -83.555212,
          -110.27728559999998,
          -76.4730122,
          -87.5000412,
          -87.9631308,
          -95.6349463,
          -86.5861037,
          -121.2722194,
          -122.3773552,
          -96.9083366,
          -77.7905339,
          -83.2910468,
          -117.0991967,
          -122.0807964,
          -79.03773879999999,
          -119.7526886,
          -119.6456844,
          -118.0372852,
          -80.6495194,
          -86.7483318,
          -117.1825381,
          -89.51814759999998,
          -116.5634624,
          -77.03687070000002,
          -88.1070127,
          -96.7561082,
          -117.3703235,
          -96.7898034,
          -89.58898640000002,
          -95.9979883,
          -117.603104,
          -96.5716694,
          -116.54529209999998,
          -117.1610838,
          -122.7140548,
          -71.3161718,
          -95.7974526,
          -122.2348431,
          -86.78160159999999,
          -74.0434736,
          -105.0866504,
          -78.898619,
          -97.336111,
          -116.4668036,
          -93.24272,
          -87.9403418,
          -97.9908366,
          -88.0125865,
          -122.0363496,
          -122.0307963,
          -87.8211854,
          -77.8600012,
          -82.51544709999997,
          -91.4098726,
          -80.1247667,
          -100.4370375,
          -88.9936873,
          -121.4252227,
          -81.93204820000003,
          -71.467566,
          -83.6324022,
          -73.6187397,
          -75.1196199,
          -116.3744556,
          -88.1784085,
          -76.2874927,
          -83.11407709999997,
          -119.0376023,
          -86.2483921,
          -74.2107006,
          -149.90027780000003,
          -101.2922906,
          -80.2521157,
          -98.2300124,
          -96.6397822,
          -97.7277959,
          -83.6499321,
          -122.27111370000002,
          -122.0838511,
          -117.3272615,
          -101.8312969,
          -111.6585337,
          -84.3879824,
          -118.1228476,
          -81.83569,
          -120.0607176,
          -88.9548001,
          -71.5147839,
          -88.0398912,
          -122.25663670000002,
          -118.0353449,
          -89.66452659999999,
          -92.1735164,
          -94.7404891,
          -111.8412502,
          -105.0874842,
          -118.1270146,
          -86.13360329999998,
          -80.13198929999999,
          -86.158068,
          -80.0905465,
          -111.5495777,
          -87.9372908,
          -71.4372796,
          -86.8752869,
          -94.8191285,
          -84.19857900000002,
          -79.79197540000001,
          -85.5872286,
          -122.7714861,
          -77.43024140000001,
          -121.2810611,
          -87.5691735,
          -93.6001278,
          -118.3525748,
          -86.8113781,
          -80.07282009999999,
          -80.2683571,
          -114.5285981,
          -80.3997748,
          -83.1497751,
          -73.78235490000002,
          -121.29077959999998,
          -83.1446485,
          -80.8075537,
          -117.7075526,
          -117.2393748,
          -117.9186689,
          -96.9977846,
          -76.29827420000002,
          -122.8231915,
          -78.85028559999998,
          -96.4003069,
          -117.2919818,
          -111.654923,
          -118.2250725,
          -93.470786,
          -112.2373779,
          -111.9400054,
          -75.5397878,
          -111.9388258,
          -83.400211,
          -96.5991593,
          -79.43779909999998,
          -96.6388833,
          -122.3477486,
          -100.7837392,
          -119.7674034,
          -95.3696909,
          -82.0105148,
          -78.87835849999998,
          -84.155741,
          -74.360846,
          -122.0402399,
          -117.8103367,
          -86.9833417,
          -85.3096801,
          -85.7371847,
          -88.1856301,
          -117.96089779999998,
          -80.1300455,
          -88.8139469,
          -93.939947,
          -120.6596156,
          -97.3208492,
          -117.9289469,
          -111.9391023,
          -120.5058987,
          -84.1916069,
          -89.0928155,
          -118.1937395,
          -121.8374777,
          -89.2903392,
          -123.08675359999998,
          -117.3136547,
          -118.1137535,
          -121.8746789,
          -122.2020794,
          -97.9297743,
          -122.0399663,
          -112.3496021,
          -81.5267873,
          -85.17971419999998,
          -93.2982799,
          -90.5787476,
          -122.8037102,
          -90.2417434,
          -103.2052272,
          -73.69178509999998,
          -121.8995741,
          -87.88339909999998,
          -117.8703363,
          -71.08976740000001,
          -117.6897776,
          -82.35347270000003,
          -81.0998342,
          -80.81841659999998,
          -122.6614861,
          -80.25659499999998,
          -85.3863599,
          -111.8507662,
          -122.4194155,
          -117.435048,
          -96.8236116,
          -117.7325848,
          -117.0358646,
          -84.1246608,
          -74.4518188,
          -76.28587259999998,
          -122.989827,
          -116.95863500000002,
          -87.2169149,
          -84.5613355,
          -79.7625625,
          -117.2897652,
          -84.2214551,
          -117.2927641,
          -87.3464271,
          -111.7573521,
          -121.6543901,
          -90.6645718,
          -76.1474244,
          -87.3594528,
          -81.9498042,
          -73.7084645,
          -75.5243682,
          -96.7678039,
          -118.3964665,
          -88.03424,
          -122.33207079999998,
          -84.5085536,
          -121.3716178,
          -93.7501789,
          -111.9738304,
          -78.8689155,
          -118.3531311,
          -118.1445155,
          -71.1631137,
          -122.6706498,
          -122.6366524,
          -83.8088171,
          -122.286865,
          -104.8319195,
          -92.1004852,
          -79.9414266,
          -121.3153096,
          -117.1858759,
          -71.2356113,
          -81.87230840000002,
          -82.4571776,
          -117.6483876,
          -79.3950228,
          -89.0317765,
          -80.23310359999998,
          -104.8213634,
          -120.9968782,
          -85.6680863,
          -87.7845025,
          -82.5306527,
          -117.4854802,
          -118.1170117,
          -105.2705456,
          -105.937799,
          -116.173894,
          -71.55228740000003,
          -117.3961564,
          -118.11646129999998,
          -122.5697032,
          -111.9710529,
          -88.0683955,
          -117.6719953,
          -87.7878408,
          -121.29300790000002,
          -121.17605829999998,
          -112.315721,
          -106.7636538,
          -111.0429339,
          -88.0834059,
          -83.01465259999998,
          -90.6298922,
          -93.62,
          -112.3679279,
          -96.7298519,
          -84.24721159999999,
          -97.9413941,
          -75.88130749999998,
          -88.4153847,
          -94.7151865,
          -81.339552,
          -121.7680088,
          -80.8431267,
          -87.1111676,
          -80.09420870000002,
          -122.70109840000002,
          -87.62979820000002,
          -108.5006904,
          -88.0075875,
          -88.0078435,
          -72.9278835,
          -76.727745,
          -83.9207392,
          -82.10764859999998,
          -70.3002024,
          -111.8879909,
          -122.2416355,
          -121.21605259999998,
          -92.9952153,
          -122.8755949,
          -86.39027,
          -121.6169108,
          -73.0931641,
          -92.4453161,
          -89.8100858,
          -75.66241219999998,
          -85.48078249999998,
          -77.4752667,
          -121.9877444,
          -118.4911912,
          -76.5835621,
          -83.14993220000002,
          -116.3100095,
          -81.6326234,
          -119.2470536,
          -81.2811801,
          -79.9310512,
          -80.62173409999998,
          -117.5664384,
          -121.2357828,
          -94.3821724,
          -81.2078699,
          -111.8389726,
          -94.2088172,
          -118.542586,
          -81.36562420000001,
          -98.1244531,
          -90.0489801,
          -96.9488945,
          -77.0469214,
          -117.3008784,
          -72.61620090000002,
          -84.3346473,
          -87.7416246,
          -74.1454214,
          -75.3704579,
          -94.846681,
          -118.3884078,
          -95.3698028,
          -117.1483648,
          -83.7430378,
          -94.1265562,
          -84.48386540000001,
          -116.97391670000002,
          -80.2497707,
          -95.9145568,
          -80.2962555,
          -94.1288141,
          -119.17705159999998,
          -102.3676431,
          -97.0583681,
          -71.0183787,
          -74.11430909999999,
          -118.15979109999998,
          -90.5151342,
          -88.70365600000002,
          -84.8766115,
          -74.0776417,
          -93.0899578,
          -81.2636738,
          -73.58318349999998,
          -91.5301683,
          -117.9145036,
          -93.21772,
          -111.2833449,
          -112.0010501,
          -76.3452218,
          -97.6779842,
          -111.69464750000002,
          -118.0019482,
          -97.229298,
          -80.03258670000002,
          -92.2895948,
          -117.8678338,
          -73.76290970000002,
          -112.0339645,
          -122.2006786,
          -121.28800590000002,
          -74.2654234,
          -70.92866090000003,
          -98.3420118,
          -92.3340724,
          -87.78285229999999,
          -86.1180435,
          -85.5800022,
          -84.39827629999998,
          -121.7732971,
          -71.0119948,
          -97.0819541,
          -87.9806265,
          -116.9719684,
          -80.0053176,
          -82.4012642,
          -97.3967019,
          -117.1661449,
          -80.9956105,
          -118.1339563,
          -82.9290696,
          -89.09399520000002,
          -116.9625269,
          -82.64,
          -88.01117459999998,
          -73.064036,
          -123.1059282,
          -115.13982959999998,
          -95.2091006,
          -80.3582261,
          -91.6656232,
          -81.05588940000001,
          -71.0022705,
          -80.3035602,
          -106.4424559,
          -95.6890185,
          -118.072846,
          -123.0262077,
          -93.4687489,
          -81.51900529999998,
          -98.1633432,
          -117.5931084,
          -79.9748103,
          -85.7584557,
          -121.7568946,
          -80.17893509999998,
          -82.5748194,
          -117.3505939,
          -94.9027002,
          -122.3916754,
          -85.7053085,
          -82.18237459999997,
          -112.0263313,
          -80.13731740000001,
          -83.624201,
          -82.8001026,
          -80.3468593,
          -87.677251,
          -87.4139092,
          -97.342782,
          -84.0632685,
          -96.7311034,
          -85.9213796,
          -80.206436,
          -71.759794,
          -71.4161671,
          -119.0187125,
          -80.1917902,
          -93.2173758,
          -119.2844621,
          -81.3444573,
          -122.4077498,
          -93.4555093,
          -86.25198979999998,
          -97.4780954,
          -93.6091064,
          -81.77869720000002,
          -111.8638226,
          -118.032844,
          -83.3527097,
          -87.9064736,
          -122.22845320000002,
          -80.3414693,
          -70.880049,
          -122.21706609999998,
          -104.8771726,
          -77.4360481,
          -85.6802541,
          -116.977248,
          -97.6200043,
          -74.0323626,
          -84.50371640000002,
          -118.081733,
          -114.6276916,
          -117.2086513,
          -88.1347927,
          -88.0817251,
          -81.02507840000001,
          -121.302728,
          -83.2732627,
          -157.8583333,
          -97.0035982,
          -71.2856082,
          -96.5388789,
          -96.8899636,
          -88.2120315,
          -88.1227199,
          -71.19089240000002,
          -82.23592540000001,
          -77.1527578,
          -118.30896609999998,
          -117.9242966,
          -88.5426136,
          -95.5507771,
          -83.3677168,
          -118.096735,
          -118.0647871,
          -117.9495083,
          -108.5506486,
          -97.8783911,
          -121.88632859999998,
          -97.678896,
          -93.4557877,
          -97.4394777,
          -80.4775569,
          -95.2010447,
          -117.7946942,
          -112.4455344,
          -122.48691940000002,
          -87.71453000000002,
          -93.7321228,
          -97.8202888,
          -84.3733147,
          -88.2433829,
          -74.16375529999998,
          -97.4867028,
          -94.2816148,
          -118.1541632,
          -96.3699632,
          -97.1705678,
          -81.94953309999998,
          -122.0321823,
          -73.2453824,
          -121.5682751,
          -71.4547891,
          -75.977985,
          -97.6114237,
          -71.0994968,
          -82.7873244,
          -119.7725868,
          -85.0007653,
          -87.79366850000002,
          -80.1386547,
          -71.38255579999998,
          -118.1058333,
          -80.24421600000002,
          -84.2940899,
          -90.6998477,
          -122.2363548,
          -122.0438298,
          -80.148379,
          -93.9993996,
          -117.7256083,
          -117.185294,
          -105.0749801,
          -88.2578582,
          -71.4128343,
          -80.2781057,
          -121.9780153,
          -117.6508876,
          -122.2087353,
          -113.5684164,
          -80.752608,
          -118.255075,
          -72.8070435,
          -118.3089624,
          -72.749538,
          -88.2825668,
          -96.6988856,
          -105.1019275,
          -97.0150078,
          -81.7981908,
          -90.704279,
          -96.3344068,
          -83.1763145,
          -75.232664,
          -92.1193012,
          -76.6121893,
          -93.2922989,
          -92.0031955,
          -74.40737359999999,
          -70.9494938,
          -92.9593797,
          -82.3248262,
          -121.530234,
          -122.0355736,
          -80.1392121,
          -94.1574263,
          -122.5310874,
          -92.4421011,
          -122.4442906,
          -72.6506488,
          -73.21207199999998,
          -114.4608711,
          -96.6088805,
          -74.00594129999998,
          -118.781482,
          -117.93895259999998,
          -104.8560902,
          -83.2784851,
          -97.3307658,
          -118.281693,
          -87.5710898,
          -120.4357191,
          -86.7827772,
          -117.02308390000002,
          -105.03720459999998,
          -75.9268747,
          -120.8465941,
          -104.7091322,
          -95.3010624,
          -81.5861847,
          -97.1466695,
          -122.1341321,
          -118.8375937,
          -117.9075627,
          -73.1951767,
          -93.3702186,
          -90.5770675,
          -80.1353896,
          -119.10056570000002,
          -118.3406288,
          -89.4012302,
          -89.01872220000001,
          -87.84479379999998,
          -86.48080429999997,
          -97.1080656,
          -96.994174,
          -108.2186856,
          -121.7124536,
          -122.1430195,
          -123.0220289,
          -70.934205,
          -122.121512,
          -121.6957863,
          -121.7405167,
          -118.0120086,
          -86.51860450000002,
          -78.3947359,
          -85.39048879999999,
          -74.20486770000002,
          -87.7932939,
          -88.88530779999998,
          -88.2072697,
          -117.9414477,
          -118.21146029999998,
          -104.9811468,
          -81.378447,
          -84.3365917,
          -91.1403196,
          -72.9492703,
          -94.4155068,
          -84.55553470000002,
          -87.8539425,
          -75.0259637,
          -88.019826,
          -87.6876969,
          -81.5439619,
          -118.24368490000002,
          -122.3126222,
          -111.9391031,
          -117.0430865,
          -79.9958864,
          -118.1331593,
          -87.7539448,
          -118.2120161,
          -85.6602058,
          -94.513281,
          -95.0949303,
          -111.89104740000002,
          -80.3256056,
          -112.0740373,
          -123.2620435,
          -96.9561152,
          -72.6078672,
          -82.14009229999998,
          -84.36155550000002,
          -87.8406192,
          -71.5375718,
          -122.9006951,
          -117.9992265,
          -97.396381,
          -71.0772796,
          -88.1450735,
          -71.10973349999998,
          -112.1859866,
          -117.9931165,
          -80.17564809999998,
          -90.5776367,
          -80.1289321,
          -72.77954190000001,
          -82.93714090000002,
          -81.556235,
          -122.4302013,
          -80.2133808,
          -86.6199957,
          -121.9552356,
          -117.3794834,
          -117.689218,
          -83.47549129999999,
          -74.0143064,
          -71.0536625,
          -74.2445902,
          -82.5514869,
          -118.2200712
         ],
         "marker": {
          "color": "fuchsia"
         },
         "mode": "markers",
         "name": "",
         "showlegend": false,
         "subplot": "mapbox",
         "type": "scattermapbox"
        }
       ],
       "layout": {
        "height": 300,
        "legend": {
         "tracegroupgap": 0
        },
        "mapbox": {
         "center": {
          "lat": 37.3382407015,
          "lon": -96.4830233607
         },
         "domain": {
          "x": [
           0,
           1
          ],
          "y": [
           0,
           1
          ]
         },
         "style": "open-street-map",
         "zoom": 3
        },
        "margin": {
         "b": 0,
         "l": 0,
         "r": 0,
         "t": 0
        },
        "template": {
         "data": {
          "bar": [
           {
            "error_x": {
             "color": "#2a3f5f"
            },
            "error_y": {
             "color": "#2a3f5f"
            },
            "marker": {
             "line": {
              "color": "#E5ECF6",
              "width": 0.5
             },
             "pattern": {
              "fillmode": "overlay",
              "size": 10,
              "solidity": 0.2
             }
            },
            "type": "bar"
           }
          ],
          "barpolar": [
           {
            "marker": {
             "line": {
              "color": "#E5ECF6",
              "width": 0.5
             },
             "pattern": {
              "fillmode": "overlay",
              "size": 10,
              "solidity": 0.2
             }
            },
            "type": "barpolar"
           }
          ],
          "carpet": [
           {
            "aaxis": {
             "endlinecolor": "#2a3f5f",
             "gridcolor": "white",
             "linecolor": "white",
             "minorgridcolor": "white",
             "startlinecolor": "#2a3f5f"
            },
            "baxis": {
             "endlinecolor": "#2a3f5f",
             "gridcolor": "white",
             "linecolor": "white",
             "minorgridcolor": "white",
             "startlinecolor": "#2a3f5f"
            },
            "type": "carpet"
           }
          ],
          "choropleth": [
           {
            "colorbar": {
             "outlinewidth": 0,
             "ticks": ""
            },
            "type": "choropleth"
           }
          ],
          "contour": [
           {
            "colorbar": {
             "outlinewidth": 0,
             "ticks": ""
            },
            "colorscale": [
             [
              0,
              "#0d0887"
             ],
             [
              0.1111111111111111,
              "#46039f"
             ],
             [
              0.2222222222222222,
              "#7201a8"
             ],
             [
              0.3333333333333333,
              "#9c179e"
             ],
             [
              0.4444444444444444,
              "#bd3786"
             ],
             [
              0.5555555555555556,
              "#d8576b"
             ],
             [
              0.6666666666666666,
              "#ed7953"
             ],
             [
              0.7777777777777778,
              "#fb9f3a"
             ],
             [
              0.8888888888888888,
              "#fdca26"
             ],
             [
              1,
              "#f0f921"
             ]
            ],
            "type": "contour"
           }
          ],
          "contourcarpet": [
           {
            "colorbar": {
             "outlinewidth": 0,
             "ticks": ""
            },
            "type": "contourcarpet"
           }
          ],
          "heatmap": [
           {
            "colorbar": {
             "outlinewidth": 0,
             "ticks": ""
            },
            "colorscale": [
             [
              0,
              "#0d0887"
             ],
             [
              0.1111111111111111,
              "#46039f"
             ],
             [
              0.2222222222222222,
              "#7201a8"
             ],
             [
              0.3333333333333333,
              "#9c179e"
             ],
             [
              0.4444444444444444,
              "#bd3786"
             ],
             [
              0.5555555555555556,
              "#d8576b"
             ],
             [
              0.6666666666666666,
              "#ed7953"
             ],
             [
              0.7777777777777778,
              "#fb9f3a"
             ],
             [
              0.8888888888888888,
              "#fdca26"
             ],
             [
              1,
              "#f0f921"
             ]
            ],
            "type": "heatmap"
           }
          ],
          "heatmapgl": [
           {
            "colorbar": {
             "outlinewidth": 0,
             "ticks": ""
            },
            "colorscale": [
             [
              0,
              "#0d0887"
             ],
             [
              0.1111111111111111,
              "#46039f"
             ],
             [
              0.2222222222222222,
              "#7201a8"
             ],
             [
              0.3333333333333333,
              "#9c179e"
             ],
             [
              0.4444444444444444,
              "#bd3786"
             ],
             [
              0.5555555555555556,
              "#d8576b"
             ],
             [
              0.6666666666666666,
              "#ed7953"
             ],
             [
              0.7777777777777778,
              "#fb9f3a"
             ],
             [
              0.8888888888888888,
              "#fdca26"
             ],
             [
              1,
              "#f0f921"
             ]
            ],
            "type": "heatmapgl"
           }
          ],
          "histogram": [
           {
            "marker": {
             "pattern": {
              "fillmode": "overlay",
              "size": 10,
              "solidity": 0.2
             }
            },
            "type": "histogram"
           }
          ],
          "histogram2d": [
           {
            "colorbar": {
             "outlinewidth": 0,
             "ticks": ""
            },
            "colorscale": [
             [
              0,
              "#0d0887"
             ],
             [
              0.1111111111111111,
              "#46039f"
             ],
             [
              0.2222222222222222,
              "#7201a8"
             ],
             [
              0.3333333333333333,
              "#9c179e"
             ],
             [
              0.4444444444444444,
              "#bd3786"
             ],
             [
              0.5555555555555556,
              "#d8576b"
             ],
             [
              0.6666666666666666,
              "#ed7953"
             ],
             [
              0.7777777777777778,
              "#fb9f3a"
             ],
             [
              0.8888888888888888,
              "#fdca26"
             ],
             [
              1,
              "#f0f921"
             ]
            ],
            "type": "histogram2d"
           }
          ],
          "histogram2dcontour": [
           {
            "colorbar": {
             "outlinewidth": 0,
             "ticks": ""
            },
            "colorscale": [
             [
              0,
              "#0d0887"
             ],
             [
              0.1111111111111111,
              "#46039f"
             ],
             [
              0.2222222222222222,
              "#7201a8"
             ],
             [
              0.3333333333333333,
              "#9c179e"
             ],
             [
              0.4444444444444444,
              "#bd3786"
             ],
             [
              0.5555555555555556,
              "#d8576b"
             ],
             [
              0.6666666666666666,
              "#ed7953"
             ],
             [
              0.7777777777777778,
              "#fb9f3a"
             ],
             [
              0.8888888888888888,
              "#fdca26"
             ],
             [
              1,
              "#f0f921"
             ]
            ],
            "type": "histogram2dcontour"
           }
          ],
          "mesh3d": [
           {
            "colorbar": {
             "outlinewidth": 0,
             "ticks": ""
            },
            "type": "mesh3d"
           }
          ],
          "parcoords": [
           {
            "line": {
             "colorbar": {
              "outlinewidth": 0,
              "ticks": ""
             }
            },
            "type": "parcoords"
           }
          ],
          "pie": [
           {
            "automargin": true,
            "type": "pie"
           }
          ],
          "scatter": [
           {
            "marker": {
             "colorbar": {
              "outlinewidth": 0,
              "ticks": ""
             }
            },
            "type": "scatter"
           }
          ],
          "scatter3d": [
           {
            "line": {
             "colorbar": {
              "outlinewidth": 0,
              "ticks": ""
             }
            },
            "marker": {
             "colorbar": {
              "outlinewidth": 0,
              "ticks": ""
             }
            },
            "type": "scatter3d"
           }
          ],
          "scattercarpet": [
           {
            "marker": {
             "colorbar": {
              "outlinewidth": 0,
              "ticks": ""
             }
            },
            "type": "scattercarpet"
           }
          ],
          "scattergeo": [
           {
            "marker": {
             "colorbar": {
              "outlinewidth": 0,
              "ticks": ""
             }
            },
            "type": "scattergeo"
           }
          ],
          "scattergl": [
           {
            "marker": {
             "colorbar": {
              "outlinewidth": 0,
              "ticks": ""
             }
            },
            "type": "scattergl"
           }
          ],
          "scattermapbox": [
           {
            "marker": {
             "colorbar": {
              "outlinewidth": 0,
              "ticks": ""
             }
            },
            "type": "scattermapbox"
           }
          ],
          "scatterpolar": [
           {
            "marker": {
             "colorbar": {
              "outlinewidth": 0,
              "ticks": ""
             }
            },
            "type": "scatterpolar"
           }
          ],
          "scatterpolargl": [
           {
            "marker": {
             "colorbar": {
              "outlinewidth": 0,
              "ticks": ""
             }
            },
            "type": "scatterpolargl"
           }
          ],
          "scatterternary": [
           {
            "marker": {
             "colorbar": {
              "outlinewidth": 0,
              "ticks": ""
             }
            },
            "type": "scatterternary"
           }
          ],
          "surface": [
           {
            "colorbar": {
             "outlinewidth": 0,
             "ticks": ""
            },
            "colorscale": [
             [
              0,
              "#0d0887"
             ],
             [
              0.1111111111111111,
              "#46039f"
             ],
             [
              0.2222222222222222,
              "#7201a8"
             ],
             [
              0.3333333333333333,
              "#9c179e"
             ],
             [
              0.4444444444444444,
              "#bd3786"
             ],
             [
              0.5555555555555556,
              "#d8576b"
             ],
             [
              0.6666666666666666,
              "#ed7953"
             ],
             [
              0.7777777777777778,
              "#fb9f3a"
             ],
             [
              0.8888888888888888,
              "#fdca26"
             ],
             [
              1,
              "#f0f921"
             ]
            ],
            "type": "surface"
           }
          ],
          "table": [
           {
            "cells": {
             "fill": {
              "color": "#EBF0F8"
             },
             "line": {
              "color": "white"
             }
            },
            "header": {
             "fill": {
              "color": "#C8D4E3"
             },
             "line": {
              "color": "white"
             }
            },
            "type": "table"
           }
          ]
         },
         "layout": {
          "annotationdefaults": {
           "arrowcolor": "#2a3f5f",
           "arrowhead": 0,
           "arrowwidth": 1
          },
          "autotypenumbers": "strict",
          "coloraxis": {
           "colorbar": {
            "outlinewidth": 0,
            "ticks": ""
           }
          },
          "colorscale": {
           "diverging": [
            [
             0,
             "#8e0152"
            ],
            [
             0.1,
             "#c51b7d"
            ],
            [
             0.2,
             "#de77ae"
            ],
            [
             0.3,
             "#f1b6da"
            ],
            [
             0.4,
             "#fde0ef"
            ],
            [
             0.5,
             "#f7f7f7"
            ],
            [
             0.6,
             "#e6f5d0"
            ],
            [
             0.7,
             "#b8e186"
            ],
            [
             0.8,
             "#7fbc41"
            ],
            [
             0.9,
             "#4d9221"
            ],
            [
             1,
             "#276419"
            ]
           ],
           "sequential": [
            [
             0,
             "#0d0887"
            ],
            [
             0.1111111111111111,
             "#46039f"
            ],
            [
             0.2222222222222222,
             "#7201a8"
            ],
            [
             0.3333333333333333,
             "#9c179e"
            ],
            [
             0.4444444444444444,
             "#bd3786"
            ],
            [
             0.5555555555555556,
             "#d8576b"
            ],
            [
             0.6666666666666666,
             "#ed7953"
            ],
            [
             0.7777777777777778,
             "#fb9f3a"
            ],
            [
             0.8888888888888888,
             "#fdca26"
            ],
            [
             1,
             "#f0f921"
            ]
           ],
           "sequentialminus": [
            [
             0,
             "#0d0887"
            ],
            [
             0.1111111111111111,
             "#46039f"
            ],
            [
             0.2222222222222222,
             "#7201a8"
            ],
            [
             0.3333333333333333,
             "#9c179e"
            ],
            [
             0.4444444444444444,
             "#bd3786"
            ],
            [
             0.5555555555555556,
             "#d8576b"
            ],
            [
             0.6666666666666666,
             "#ed7953"
            ],
            [
             0.7777777777777778,
             "#fb9f3a"
            ],
            [
             0.8888888888888888,
             "#fdca26"
            ],
            [
             1,
             "#f0f921"
            ]
           ]
          },
          "colorway": [
           "#636efa",
           "#EF553B",
           "#00cc96",
           "#ab63fa",
           "#FFA15A",
           "#19d3f3",
           "#FF6692",
           "#B6E880",
           "#FF97FF",
           "#FECB52"
          ],
          "font": {
           "color": "#2a3f5f"
          },
          "geo": {
           "bgcolor": "white",
           "lakecolor": "white",
           "landcolor": "#E5ECF6",
           "showlakes": true,
           "showland": true,
           "subunitcolor": "white"
          },
          "hoverlabel": {
           "align": "left"
          },
          "hovermode": "closest",
          "mapbox": {
           "style": "light"
          },
          "paper_bgcolor": "white",
          "plot_bgcolor": "#E5ECF6",
          "polar": {
           "angularaxis": {
            "gridcolor": "white",
            "linecolor": "white",
            "ticks": ""
           },
           "bgcolor": "#E5ECF6",
           "radialaxis": {
            "gridcolor": "white",
            "linecolor": "white",
            "ticks": ""
           }
          },
          "scene": {
           "xaxis": {
            "backgroundcolor": "#E5ECF6",
            "gridcolor": "white",
            "gridwidth": 2,
            "linecolor": "white",
            "showbackground": true,
            "ticks": "",
            "zerolinecolor": "white"
           },
           "yaxis": {
            "backgroundcolor": "#E5ECF6",
            "gridcolor": "white",
            "gridwidth": 2,
            "linecolor": "white",
            "showbackground": true,
            "ticks": "",
            "zerolinecolor": "white"
           },
           "zaxis": {
            "backgroundcolor": "#E5ECF6",
            "gridcolor": "white",
            "gridwidth": 2,
            "linecolor": "white",
            "showbackground": true,
            "ticks": "",
            "zerolinecolor": "white"
           }
          },
          "shapedefaults": {
           "line": {
            "color": "#2a3f5f"
           }
          },
          "ternary": {
           "aaxis": {
            "gridcolor": "white",
            "linecolor": "white",
            "ticks": ""
           },
           "baxis": {
            "gridcolor": "white",
            "linecolor": "white",
            "ticks": ""
           },
           "bgcolor": "#E5ECF6",
           "caxis": {
            "gridcolor": "white",
            "linecolor": "white",
            "ticks": ""
           }
          },
          "title": {
           "x": 0.05
          },
          "xaxis": {
           "automargin": true,
           "gridcolor": "white",
           "linecolor": "white",
           "ticks": "",
           "title": {
            "standoff": 15
           },
           "zerolinecolor": "white",
           "zerolinewidth": 2
          },
          "yaxis": {
           "automargin": true,
           "gridcolor": "white",
           "linecolor": "white",
           "ticks": "",
           "title": {
            "standoff": 15
           },
           "zerolinecolor": "white",
           "zerolinewidth": 2
          }
         }
        }
       }
      },
      "text/html": [
       "<div>                            <div id=\"e086fbc8-f224-4611-ac77-1803a12d2e40\" class=\"plotly-graph-div\" style=\"height:300px; width:100%;\"></div>            <script type=\"text/javascript\">                require([\"plotly\"], function(Plotly) {                    window.PLOTLYENV=window.PLOTLYENV || {};                                    if (document.getElementById(\"e086fbc8-f224-4611-ac77-1803a12d2e40\")) {                    Plotly.newPlot(                        \"e086fbc8-f224-4611-ac77-1803a12d2e40\",                        [{\"customdata\":[[\"Washington\",63269],[\"California\",72326],[\"Ohio\",390113],[\"Massachusetts\",182544],[\"South Carolina\",133358],[\"Connecticut\",109676],[\"Minnesota\",65453],[\"Michigan\",73006],[\"Louisiana\",124276],[\"Idaho\",214237],[\"Indiana\",51265],[\"California\",82882],[\"Georgia\",59089],[\"Colorado\",48608],[\"Florida\",102436],[\"Massachusetts\",42544],[\"Illinois\",199963],[\"Virginia\",47673],[\"Florida\",50213],[\"California\",91739],[\"Texas\",239538],[\"Kansas\",181260],[\"Mississippi\",172638],[\"North Carolina\",73209],[\"Florida\",62316],[\"Missouri\",467007],[\"California\",42448],[\"Minnesota\",61434],[\"Texas\",58043],[\"New Mexico\",48611],[\"Alabama\",201332],[\"Utah\",48913],[\"Massachusetts\",39083],[\"Pennsylvania\",118577],[\"South Carolina\",74885],[\"Georgia\",202824],[\"New York\",258959],[\"Wisconsin\",39834],[\"Texas\",67317],[\"Ohio\",38355],[\"California\",479686],[\"Arkansas\",87650],[\"Rhode Island\",47149],[\"Iowa\",41776],[\"New York\",68224],[\"Colorado\",147214],[\"Nevada\",270811],[\"California\",48508],[\"Connecticut\",126456],[\"Indiana\",82575],[\"Tennessee\",52962],[\"Washington\",210721],[\"Washington\",76762],[\"Pennsylvania\",1553165],[\"Washington\",82631],[\"California\",127763],[\"Wisconsin\",51522],[\"Iowa\",61969],[\"Florida\",42757],[\"Texas\",1257676],[\"California\",107100],[\"Michigan\",131224],[\"Florida\",78041],[\"Indiana\",83891],[\"Wyoming\",62448],[\"California\",107479],[\"Kansas\",50344],[\"Indiana\",56540],[\"Mississippi\",50997],[\"California\",80988],[\"Maryland\",65690],[\"California\",56707],[\"Maryland\",66893],[\"North Carolina\",89130],[\"Illinois\",43849],[\"Wisconsin\",60697],[\"Colorado\",127359],[\"Iowa\",61255],[\"Massachusetts\",88697],[\"California\",61170],[\"California\",256780],[\"Florida\",126604],[\"North Carolina\",83506],[\"Georgia\",53438],[\"Florida\",45587],[\"North Dakota\",54932],[\"Ohio\",39325],[\"Illinois\",144864],[\"Florida\",146526],[\"Arkansas\",60112],[\"Louisiana\",378715],[\"Washington\",59097],[\"Illinois\",57073],[\"Idaho\",48957],[\"Oregon\",609456],[\"California\",125880],[\"Washington\",49858],[\"Missouri\",67569],[\"Wisconsin\",71016],[\"Arizona\",68667],[\"Washington\",38609],[\"New York\",65902],[\"Colorado\",649495],[\"Illinois\",117006],[\"California\",40584],[\"California\",201175],[\"Ohio\",55870],[\"Michigan\",37313],[\"Arizona\",52844],[\"Arkansas\",66075],[\"Nevada\",233294],[\"Colorado\",44275],[\"Arizona\",40590],[\"California\",52105],[\"Texas\",37442],[\"Maine\",66318],[\"Minnesota\",78373],[\"Connecticut\",55046],[\"California\",43363],[\"Texas\",39458],[\"Michigan\",99763],[\"California\",66695],[\"Arizona\",56683],[\"California\",40963],[\"California\",83539],[\"Arizona\",226918],[\"Ohio\",822553],[\"Pennsylvania\",59325],[\"Nebraska\",268738],[\"New Jersey\",84349],[\"Massachusetts\",645966],[\"California\",51074],[\"Minnesota\",110742],[\"Missouri\",52363],[\"Maryland\",38722],[\"North Carolina\",59635],[\"Indiana\",47135],[\"California\",39389],[\"Illinois\",37240],[\"Montana\",69122],[\"California\",99769],[\"Texas\",100065],[\"Arizona\",229972],[\"Wisconsin\",39309],[\"North Carolina\",431746],[\"California\",139969],[\"California\",66900],[\"Washington\",39056],[\"California\",55174],[\"Arizona\",38290],[\"Florida\",186411],[\"Texas\",63032],[\"Virginia\",43609],[\"Texas\",1409019],[\"Connecticut\",125017],[\"Iowa\",68366],[\"New York\",46444],[\"Idaho\",83596],[\"Wisconsin\",42970],[\"Texas\",75418],[\"North Carolina\",151088],[\"Massachusetts\",55419],[\"Oklahoma\",398121],[\"Texas\",81050],[\"Ohio\",49267],[\"Massachusetts\",60509],[\"Texas\",92020],[\"Arizona\",526116],[\"Tennessee\",68886],[\"Minnesota\",39167],[\"Florida\",842583],[\"New Jersey\",39551],[\"Pennsylvania\",100671],[\"California\",81102],[\"Texas\",120099],[\"California\",67032],[\"South Carolina\",61397],[\"North Carolina\",50458],[\"Michigan\",60070],[\"Pennsylvania\",49188],[\"California\",108817],[\"California\",224922],[\"Colorado\",108249],[\"Massachusetts\",37670],[\"Illinois\",42895],[\"Minnesota\",400070],[\"Tennessee\",58226],[\"Texas\",104898],[\"Texas\",70185],[\"Missouri\",318416],[\"Texas\",73790],[\"New Mexico\",556495],[\"Georgia\",119980],[\"Utah\",59366],[\"Nevada\",226877],[\"California\",151348],[\"California\",55191],[\"Ohio\",37490],[\"Kansas\",90811],[\"Texas\",123933],[\"Oklahoma\",610613],[\"Arizona\",41627],[\"Arizona\",457587],[\"Connecticut\",87776],[\"Michigan\",50233],[\"Wisconsin\",37999],[\"Texas\",40922],[\"Indiana\",47989],[\"California\",78327],[\"Minnesota\",66297],[\"New Jersey\",70868],[\"California\",148738],[\"California\",42443],[\"California\",116768],[\"California\",65040],[\"Oklahoma\",97151],[\"Wisconsin\",67545],[\"Arizona\",45508],[\"Texas\",51483],[\"Indiana\",256496],[\"Washington\",54790],[\"Massachusetts\",57170],[\"California\",61653],[\"New York\",98424],[\"California\",104739],[\"Michigan\",61817],[\"Virginia\",78014],[\"Maryland\",56759],[\"Connecticut\",83684],[\"Virginia\",44349],[\"Florida\",49631],[\"Idaho\",46402],[\"California\",115708],[\"Illinois\",40388],[\"California\",43341],[\"Arizona\",72864],[\"New Jersey\",145948],[\"Oregon\",160614],[\"Florida\",65173],[\"Michigan\",50303],[\"Texas\",181860],[\"Texas\",68609],[\"Texas\",50195],[\"Minnesota\",49376],[\"Michigan\",688701],[\"Ohio\",42635],[\"Texas\",60872],[\"New York\",210358],[\"Alabama\",212113],[\"Texas\",885400],[\"California\",90412],[\"Illinois\",37385],[\"New Mexico\",91956],[\"Illinois\",54664],[\"Illinois\",39650],[\"Minnesota\",62103],[\"California\",101128],[\"Florida\",255483],[\"Wyoming\",59628],[\"Texas\",48592],[\"North Carolina\",112067],[\"Florida\",49998],[\"Florida\",43250],[\"Kansas\",148483],[\"Massachusetts\",40383],[\"Illinois\",38015],[\"Massachusetts\",87971],[\"Florida\",61007],[\"Connecticut\",40347],[\"New Jersey\",278427],[\"Louisiana\",48426],[\"Minnesota\",60407],[\"Texas\",65665],[\"California\",43509],[\"Texas\",123099],[\"Texas\",48733],[\"Indiana\",53665],[\"California\",155662],[\"Florida\",111378],[\"West Virginia\",49177],[\"Texas\",248142],[\"Florida\",77508],[\"Texas\",43580],[\"Florida\",104898],[\"North Carolina\",49628],[\"Utah\",43023],[\"California\",46714],[\"Ohio\",80429],[\"South Dakota\",70812],[\"California\",42889],[\"Colorado\",49799],[\"Massachusetts\",153703],[\"Colorado\",152061],[\"California\",87965],[\"California\",96929],[\"New York\",199766],[\"Ohio\",297517],[\"Maryland\",40612],[\"Florida\",56002],[\"New Jersey\",68247],[\"Ohio\",282313],[\"Arizona\",45129],[\"Virginia\",182020],[\"Indiana\",78967],[\"Illinois\",41778],[\"Texas\",83860],[\"Alabama\",186254],[\"California\",63338],[\"Washington\",40727],[\"Texas\",39605],[\"North Carolina\",56954],[\"Michigan\",59887],[\"California\",59834],[\"California\",151574],[\"New York\",49468],[\"Nevada\",93282],[\"California\",54686],[\"California\",49087],[\"Ohio\",65184],[\"Alabama\",45799],[\"California\",69999],[\"Missouri\",38816],[\"Idaho\",86518],[\"District of Columbia\",646449],[\"Illinois\",53648],[\"Texas\",38071],[\"California\",101910],[\"North Dakota\",113658],[\"Illinois\",116513],[\"Nebraska\",434353],[\"California\",49228],[\"Kansas\",56143],[\"California\",46281],[\"California\",1355896],[\"California\",171990],[\"Massachusetts\",108861],[\"Oklahoma\",103500],[\"Washington\",124435],[\"Tennessee\",634464],[\"New Jersey\",44113],[\"Colorado\",59471],[\"North Carolina\",245475],[\"Kansas\",386552],[\"California\",52977],[\"Minnesota\",58562],[\"Illinois\",45556],[\"Texas\",37093],[\"Wisconsin\",37159],[\"California\",147559],[\"California\",62864],[\"Wisconsin\",99889],[\"Pennsylvania\",41757],[\"Ohio\",46454],[\"Illinois\",40915],[\"Florida\",104410],[\"Texas\",97492],[\"Illinois\",78902],[\"California\",84691],[\"South Carolina\",37647],[\"New Hampshire\",87137],[\"Georgia\",89981],[\"New York\",55361],[\"New Jersey\",76903],[\"California\",50508],[\"Illinois\",40351],[\"Virginia\",230571],[\"Ohio\",43607],[\"California\",66086],[\"Michigan\",37213],[\"New Jersey\",127558],[\"Alaska\",300950],[\"North Dakota\",46321],[\"Florida\",96830],[\"Texas\",136639],[\"Texas\",148559],[\"Texas\",137147],[\"Ohio\",41512],[\"California\",406253],[\"California\",77846],[\"California\",57525],[\"Texas\",196429],[\"Utah\",116288],[\"Georgia\",447841],[\"California\",61085],[\"Ohio\",44730],[\"California\",63105],[\"Illinois\",74710],[\"Rhode Island\",41026],[\"Alabama\",194899],[\"California\",118837],[\"California\",57639],[\"Tennessee\",47333],[\"Missouri\",43330],[\"Texas\",81443],[\"Arizona\",249146],[\"Colorado\",111707],[\"California\",84577],[\"Indiana\",56895],[\"Florida\",43286],[\"Indiana\",843393],[\"Florida\",71097],[\"Arizona\",37130],[\"Illinois\",54771],[\"Rhode Island\",80566],[\"Indiana\",70373],[\"Kansas\",131885],[\"Georgia\",82788],[\"North Carolina\",279639],[\"Michigan\",75548],[\"Oregon\",50444],[\"North Carolina\",69079],[\"California\",85285],[\"Alabama\",95334],[\"Iowa\",51567],[\"California\",86199],[\"Alabama\",84126],[\"Florida\",64072],[\"Florida\",60202],[\"Arizona\",39383],[\"Florida\",68388],[\"Michigan\",82821],[\"New York\",79446],[\"California\",298118],[\"Michigan\",58946],[\"Florida\",44206],[\"California\",64652],[\"Washington\",91113],[\"California\",112174],[\"Texas\",183372],[\"Virginia\",96205],[\"Washington\",44919],[\"North Carolina\",42214],[\"Iowa\",82459],[\"California\",61588],[\"Utah\",36956],[\"California\",58879],[\"Minnesota\",62603],[\"Arizona\",162592],[\"Arizona\",168228],[\"Delaware\",71525],[\"Utah\",60519],[\"Michigan\",82578],[\"Texas\",143484],[\"North Carolina\",51510],[\"Texas\",234566],[\"California\",107571],[\"North Dakota\",67034],[\"Nevada\",54080],[\"Oklahoma\",38863],[\"Georgia\",197350],[\"North Carolina\",204408],[\"Georgia\",76185],[\"New Jersey\",44412],[\"California\",44096],[\"California\",56449],[\"Alabama\",55816],[\"Tennessee\",173366],[\"Indiana\",45929],[\"Illinois\",41679],[\"California\",76635],[\"Florida\",91026],[\"Tennessee\",67685],[\"Texas\",54135],[\"California\",46377],[\"Texas\",40714],[\"California\",87273],[\"Utah\",40921],[\"Washington\",93257],[\"Ohio\",143355],[\"Mississippi\",71012],[\"California\",469428],[\"California\",88077],[\"Mississippi\",47556],[\"Oregon\",159190],[\"California\",53243],[\"California\",63495],[\"California\",74110],[\"Washington\",105370],[\"Kansas\",41889],[\"California\",109320],[\"Arizona\",78822],[\"Ohio\",48139],[\"Michigan\",51848],[\"Minnesota\",86319],[\"Illinois\",38877],[\"Oregon\",93542],[\"Louisiana\",66975],[\"New Mexico\",39508],[\"New York\",49974],[\"California\",69783],[\"Illinois\",58918],[\"California\",52206],[\"Massachusetts\",56069],[\"California\",38027],[\"Tennessee\",65123],[\"Georgia\",142772],[\"Ohio\",40768],[\"Washington\",167405],[\"Florida\",90116],[\"Indiana\",70316],[\"Utah\",54382],[\"California\",837442],[\"California\",203003],[\"Texas\",136791],[\"California\",76572],[\"California\",49417],[\"Ohio\",38142],[\"New Jersey\",55831],[\"Virginia\",246139],[\"Oregon\",97368],[\"California\",45851],[\"Florida\",52703],[\"Ohio\",62258],[\"South Carolina\",37792],[\"California\",213708],[\"Georgia\",40059],[\"California\",121096],[\"Indiana\",78450],[\"Arizona\",50111],[\"California\",40836],[\"Iowa\",58253],[\"New York\",144669],[\"Tennessee\",142357],[\"Florida\",100710],[\"New York\",37659],[\"Delaware\",37366],[\"Minnesota\",39398],[\"California\",39428],[\"Illinois\",69350],[\"Washington\",652405],[\"Kentucky\",40956],[\"California\",161007],[\"Louisiana\",200327],[\"Utah\",84249],[\"Virginia\",51395],[\"California\",111542],[\"California\",139731],[\"Massachusetts\",77657],[\"Oregon\",37610],[\"California\",59440],[\"Ohio\",59357],[\"California\",79068],[\"Colorado\",345803],[\"Minnesota\",86128],[\"Virginia\",98465],[\"Oregon\",81236],[\"California\",70924],[\"Massachusetts\",62227],[\"Florida\",68190],[\"Florida\",352957],[\"California\",75413],[\"Virginia\",42907],[\"Wisconsin\",36888],[\"Florida\",90268],[\"Colorado\",439886],[\"California\",204933],[\"Michigan\",192294],[\"Illinois\",52066],[\"Florida\",53326],[\"California\",98030],[\"California\",77593],[\"Colorado\",103166],[\"New Mexico\",69976],[\"California\",43092],[\"Massachusetts\",39414],[\"California\",316619],[\"California\",157161],[\"California\",54194],[\"Utah\",70790],[\"Illinois\",73936],[\"California\",96346],[\"Illinois\",45417],[\"California\",45237],[\"California\",73098],[\"Arizona\",39791],[\"New Mexico\",101324],[\"Montana\",39860],[\"Illinois\",74907],[\"Michigan\",134873],[\"Missouri\",54842],[\"Iowa\",61792],[\"Arizona\",123546],[\"Texas\",104475],[\"Michigan\",42181],[\"Texas\",54076],[\"Pennsylvania\",41108],[\"Wisconsin\",73596],[\"Kansas\",64323],[\"Ohio\",46979],[\"California\",85156],[\"North Carolina\",792862],[\"Kentucky\",58416],[\"Florida\",58298],[\"California\",41398],[\"Illinois\",2718782],[\"Montana\",109059],[\"Wisconsin\",47134],[\"Illinois\",43907],[\"Connecticut\",130660],[\"Pennsylvania\",43935],[\"Tennessee\",183270],[\"Ohio\",53956],[\"Massachusetts\",44641],[\"Utah\",48612],[\"California\",76419],[\"California\",71948],[\"Minnesota\",39765],[\"Oregon\",77677],[\"Tennessee\",117044],[\"California\",65416],[\"Connecticut\",40999],[\"Iowa\",40566],[\"Tennessee\",39375],[\"Pennsylvania\",75806],[\"Alabama\",58582],[\"Virginia\",41705],[\"California\",94275],[\"California\",92472],[\"Virginia\",85728],[\"Michigan\",72952],[\"California\",39331],[\"West Virginia\",50821],[\"California\",52403],[\"Florida\",40918],[\"South Carolina\",127999],[\"North Carolina\",44359],[\"California\",159503],[\"California\",59738],[\"Missouri\",93184],[\"Florida\",78740],[\"Utah\",90231],[\"Arkansas\",40167],[\"California\",179590],[\"Florida\",42150],[\"Texas\",63279],[\"Tennessee\",653450],[\"Texas\",228653],[\"Virginia\",148892],[\"California\",92147],[\"Massachusetts\",40249],[\"Georgia\",47591],[\"Illinois\",65176],[\"New Jersey\",41664],[\"Pennsylvania\",75018],[\"Missouri\",77147],[\"California\",67815],[\"Texas\",2195914],[\"California\",106780],[\"Michigan\",117025],[\"Texas\",117796],[\"Michigan\",48554],[\"California\",56105],[\"Florida\",63155],[\"Nebraska\",53663],[\"Florida\",162329],[\"Arkansas\",75229],[\"California\",203007],[\"Texas\",110720],[\"Oklahoma\",47186],[\"Massachusetts\",94089],[\"New Jersey\",65028],[\"California\",54980],[\"Illinois\",43116],[\"Mississippi\",40921],[\"Tennessee\",42774],[\"New Jersey\",257342],[\"Minnesota\",294873],[\"Florida\",86290],[\"New York\",43167],[\"Iowa\",71591],[\"California\",345012],[\"Minnesota\",50201],[\"Montana\",59351],[\"Utah\",133579],[\"Virginia\",136699],[\"Texas\",54898],[\"Utah\",91648],[\"California\",37101],[\"Texas\",42907],[\"South Carolina\",39823],[\"Arkansas\",197357],[\"California\",334227],[\"New York\",57866],[\"Idaho\",58292],[\"Washington\",133992],[\"California\",127035],[\"New Jersey\",51982],[\"Massachusetts\",52044],[\"Nebraska\",50550],[\"Missouri\",115276],[\"Wisconsin\",78199],[\"Indiana\",85927],[\"Michigan\",47523],[\"Ohio\",48630],[\"California\",56590],[\"Massachusetts\",53756],[\"Texas\",53224],[\"Illinois\",75994],[\"California\",81750],[\"North Carolina\",107741],[\"Ohio\",47777],[\"Oklahoma\",56756],[\"California\",89387],[\"Florida\",57203],[\"California\",81121],[\"Ohio\",37530],[\"Illinois\",150251],[\"California\",102211],[\"Florida\",249688],[\"Illinois\",49670],[\"Connecticut\",51644],[\"Oregon\",51583],[\"Nevada\",603488],[\"Texas\",152735],[\"Florida\",171016],[\"Iowa\",128429],[\"Florida\",38661],[\"Massachusetts\",93494],[\"Florida\",130288],[\"Texas\",674433],[\"Kansas\",127679],[\"California\",54561],[\"Oregon\",37064],[\"Minnesota\",51368],[\"Ohio\",198100],[\"Texas\",80836],[\"California\",171386],[\"South Carolina\",104054],[\"Kentucky\",609893],[\"California\",52477],[\"Florida\",56792],[\"Florida\",51763],[\"California\",110972],[\"Texas\",46081],[\"California\",91119],[\"Michigan\",74100],[\"Ohio\",63710],[\"Utah\",37733],[\"Florida\",172389],[\"Georgia\",72531],[\"Florida\",109703],[\"Florida\",43328],[\"Alabama\",40059],[\"Indiana\",61025],[\"Texas\",70190],[\"Ohio\",45712],[\"South Dakota\",164676],[\"Indiana\",45775],[\"Florida\",55456],[\"Massachusetts\",41002],[\"Rhode Island\",81971],[\"California\",363630],[\"Florida\",417650],[\"Louisiana\",74024],[\"Washington\",52413],[\"North Carolina\",40361],[\"California\",66174],[\"Minnesota\",73987],[\"Indiana\",100886],[\"Oklahoma\",87004],[\"Iowa\",207510],[\"Florida\",47547],[\"Utah\",45285],[\"California\",86635],[\"Michigan\",95208],[\"Wisconsin\",599164],[\"Washington\",74860],[\"South Carolina\",41190],[\"Massachusetts\",40664],[\"Washington\",97003],[\"Colorado\",106114],[\"Virginia\",214114],[\"Indiana\",55670],[\"California\",40481],[\"Texas\",53752],[\"New Jersey\",52575],[\"Kentucky\",308428],[\"California\",106589],[\"Arizona\",91923],[\"California\",54291],[\"Illinois\",40379],[\"Illinois\",147806],[\"South Carolina\",69103],[\"California\",67911],[\"Michigan\",56620],[\"Hawaii\",347884],[\"Texas\",65098],[\"Massachusetts\",43886],[\"Texas\",44575],[\"Texas\",126700],[\"Illinois\",41734],[\"Illinois\",52398],[\"Massachusetts\",48514],[\"Florida\",59212],[\"Maryland\",64072],[\"California\",104709],[\"California\",138981],[\"Wisconsin\",66778],[\"Texas\",39795],[\"Michigan\",81295],[\"California\",63771],[\"California\",49707],[\"California\",40435],[\"Colorado\",59778],[\"Oklahoma\",50725],[\"California\",998537],[\"Texas\",109821],[\"Minnesota\",65415],[\"Oklahoma\",118197],[\"Florida\",64079],[\"Texas\",37587],[\"California\",236716],[\"Idaho\",54350],[\"California\",38606],[\"Wisconsin\",48725],[\"Louisiana\",66333],[\"Texas\",61238],[\"Georgia\",99770],[\"Illinois\",83424],[\"New Jersey\",85390],[\"Oklahoma\",58414],[\"Missouri\",53294],[\"California\",159523],[\"Texas\",78709],[\"Texas\",38448],[\"Florida\",165831],[\"California\",60189],[\"Massachusetts\",44057],[\"California\",51701],[\"New Hampshire\",110378],[\"Virginia\",448479],[\"Kansas\",47846],[\"Massachusetts\",78804],[\"Florida\",78409],[\"California\",509924],[\"Alabama\",37498],[\"Illinois\",56758],[\"Florida\",50699],[\"Rhode Island\",71172],[\"California\",40275],[\"North Carolina\",236441],[\"Georgia\",62298],[\"Missouri\",82809],[\"California\",80872],[\"California\",72528],[\"Florida\",38632],[\"Minnesota\",40641],[\"California\",50175],[\"California\",83447],[\"Colorado\",71334],[\"Illinois\",38241],[\"Rhode Island\",177994],[\"Florida\",233394],[\"California\",74513],[\"California\",167500],[\"Washington\",84430],[\"Utah\",76817],[\"South Carolina\",39412],[\"California\",196021],[\"Connecticut\",60456],[\"California\",59957],[\"Massachusetts\",41301],[\"Illinois\",110145],[\"Texas\",274409],[\"Colorado\",89919],[\"Texas\",40342],[\"Ohio\",51143],[\"Arkansas\",71551],[\"Texas\",100050],[\"Michigan\",95884],[\"New York\",61808],[\"Louisiana\",49761],[\"Maryland\",622104],[\"Missouri\",164122],[\"Arkansas\",46094],[\"New Jersey\",50588],[\"Massachusetts\",91589],[\"Minnesota\",65656],[\"Florida\",127488],[\"California\",49891],[\"Washington\",50169],[\"Florida\",37199],[\"Arkansas\",78960],[\"California\",58994],[\"Arkansas\",63816],[\"Washington\",203446],[\"Connecticut\",47333],[\"Vermont\",42284],[\"Idaho\",45981],[\"Texas\",39296],[\"New York\",8405837],[\"California\",126181],[\"California\",107740],[\"Colorado\",53063],[\"Georgia\",56481],[\"Texas\",792727],[\"California\",92599],[\"Indiana\",120310],[\"California\",102216],[\"Tennessee\",40021],[\"California\",58642],[\"Colorado\",110945],[\"Pennsylvania\",87893],[\"California\",70365],[\"Colorado\",96539],[\"Texas\",100223],[\"Florida\",37711],[\"Texas\",129030],[\"California\",37165],[\"California\",128731],[\"California\",47842],[\"Connecticut\",147216],[\"Minnesota\",47411],[\"Missouri\",47749],[\"Florida\",38696],[\"Washington\",67599],[\"California\",147478],[\"Wisconsin\",243344],[\"Wisconsin\",63820],[\"Illinois\",88826],[\"Kentucky\",61488],[\"Texas\",379577],[\"Texas\",101074],[\"New Mexico\",45426],[\"California\",38194],[\"California\",66642],[\"Oregon\",60177],[\"Massachusetts\",95078],[\"Washington\",57530],[\"California\",55000],[\"California\",66205],[\"California\",49133],[\"Tennessee\",43060],[\"Pennsylvania\",45796],[\"Alabama\",68001],[\"New Jersey\",64544],[\"Illinois\",57282],[\"Mississippi\",44820],[\"Illinois\",41752],[\"California\",175140],[\"California\",71371],[\"Colorado\",37499],[\"Ohio\",72535],[\"Georgia\",50603],[\"Louisiana\",229426],[\"Connecticut\",60568],[\"Missouri\",117240],[\"Michigan\",113972],[\"Illinois\",58590],[\"New Jersey\",61050],[\"Wisconsin\",104779],[\"Illinois\",75570],[\"Florida\",39172],[\"California\",3884307],[\"Washington\",92734],[\"Utah\",110077],[\"California\",52536],[\"Pennsylvania\",305841],[\"California\",113242],[\"Illinois\",84103],[\"California\",95677],[\"Florida\",36877],[\"Missouri\",50789],[\"Texas\",90983],[\"Utah\",191180],[\"Florida\",43074],[\"Arizona\",1513367],[\"Oregon\",55298],[\"Texas\",46663],[\"Massachusetts\",55717],[\"Florida\",57468],[\"Georgia\",94034],[\"Illinois\",37839],[\"New Hampshire\",42419],[\"Washington\",48338],[\"California\",197575],[\"Texas\",316381],[\"Massachusetts\",62088],[\"Illinois\",38510],[\"Massachusetts\",107289],[\"Arizona\",234632],[\"California\",38623],[\"South Carolina\",46074],[\"Iowa\",102157],[\"Florida\",89407],[\"Connecticut\",72939],[\"Michigan\",47555],[\"Ohio\",45394],[\"Oregon\",109397],[\"Florida\",69813],[\"Tennessee\",54068],[\"California\",120245],[\"California\",172794],[\"California\",79312],[\"Michigan\",57960],[\"New Jersey\",52122],[\"Massachusetts\",42935],[\"New Jersey\",41301],[\"North Carolina\",87236],[\"California\",97877]],\"hovertemplate\":\"<b>%{hovertext}</b><br><br>lat=%{lat}<br>lon=%{lon}<br>State=%{customdata[0]}<br>Population=%{customdata[1]}<extra></extra>\",\"hovertext\":[\"Marysville\",\"Perris\",\"Cleveland\",\"Worcester\",\"Columbia\",\"Waterbury\",\"Eagan\",\"Southfield\",\"Lafayette\",\"Boise City\",\"Elkhart\",\"Buena Park\",\"Marietta\",\"Parker\",\"West Palm Beach\",\"Salem\",\"Aurora\",\"Leesburg\",\"Doral\",\"Westminster\",\"Lubbock\",\"Overland Park\",\"Jackson\",\"Gastonia\",\"Daytona Beach\",\"Kansas City\",\"Rancho Palos Verdes\",\"Burnsville\",\"Rowlett\",\"Roswell\",\"Montgomery\",\"Logan\",\"Woburn\",\"Allentown\",\"Mount Pleasant\",\"Columbus\",\"Buffalo\",\"New Berlin\",\"North Richland Hills\",\"Lima\",\"Sacramento\",\"Fort Smith\",\"East Providence\",\"Urbandale\",\"Mount Vernon\",\"Lakewood\",\"Henderson\",\"Covina\",\"Stamford\",\"Bloomington\",\"Kingsport\",\"Spokane\",\"Kennewick\",\"Philadelphia\",\"Bellingham\",\"Visalia\",\"La Crosse\",\"Council Bluffs\",\"North Lauderdale\",\"Dallas\",\"Antioch\",\"Sterling Heights\",\"Deerfield Beach\",\"Fishers\",\"Cheyenne\",\"Murrieta\",\"Lenexa\",\"Noblesville\",\"Southaven\",\"Chino\",\"Gaithersburg\",\"Fountain Valley\",\"Frederick\",\"Greenville\",\"DeKalb\",\"West Allis\",\"Thornton\",\"West Des Moines\",\"Fall River\",\"Tulare\",\"Chula Vista\",\"Coral Springs\",\"Concord\",\"Smyrna\",\"Apopka\",\"Grand Forks\",\"Lancaster\",\"Naperville\",\"Hollywood\",\"Rogers\",\"New Orleans\",\"Lakewood\",\"Oak Lawn\",\"Caldwell\",\"Portland\",\"Concord\",\"Burien\",\"St. Charles\",\"Waukesha\",\"Flagstaff\",\"Puyallup\",\"Schenectady\",\"Denver\",\"Springfield\",\"Campbell\",\"Moreno Valley\",\"Kettering\",\"Lincoln Park\",\"Lake Havasu City\",\"North Little Rock\",\"Reno\",\"Littleton\",\"Prescott\",\"Dublin\",\"Texarkana\",\"Portland\",\"Brooklyn Park\",\"West Haven\",\"El Centro\",\"The Colony\",\"Flint\",\"Pittsburg\",\"Buckeye\",\"Brea\",\"Indio\",\"Scottsdale\",\"Columbus\",\"Lancaster\",\"Lincoln\",\"Trenton\",\"Boston\",\"Glendora\",\"Rochester\",\"Florissant\",\"Annapolis\",\"Chapel Hill\",\"Lawrence\",\"Calexico\",\"Calumet City\",\"Missoula\",\"Clovis\",\"Pearland\",\"Gilbert\",\"Wausau\",\"Raleigh\",\"Orange\",\"Walnut Creek\",\"Bremerton\",\"Porterville\",\"Marana\",\"Tallahassee\",\"Conroe\",\"Blacksburg\",\"San Antonio\",\"Hartford\",\"Waterloo\",\"Binghamton\",\"Meridian\",\"Fond du Lac\",\"Baytown\",\"Cary\",\"Weymouth Town\",\"Tulsa\",\"Mission\",\"Cuyahoga Falls\",\"Malden\",\"Allen\",\"Tucson\",\"Franklin\",\"Shakopee\",\"Jacksonville\",\"Atlantic City\",\"Erie\",\"Merced\",\"Abilene\",\"Yorba Linda\",\"Greenville\",\"Huntersville\",\"St. Clair Shores\",\"Harrisburg\",\"San Buenaventura (Ventura)\",\"Fremont\",\"Pueblo\",\"Chelsea\",\"Belleville\",\"Minneapolis\",\"Bartlett\",\"Wichita Falls\",\"Missouri City\",\"St. Louis\",\"Pharr\",\"Albuquerque\",\"Athens-Clarke County\",\"South Jordan\",\"North Las Vegas\",\"Pomona\",\"Eastvale\",\"Grove City\",\"Lawrence\",\"Midland\",\"Oklahoma City\",\"Oro Valley\",\"Mesa\",\"Norwalk\",\"Kentwood\",\"Brookfield\",\"Rockwall\",\"Mishawaka\",\"Tustin\",\"St. Cloud\",\"Passaic\",\"Escondido\",\"San Bruno\",\"Berkeley\",\"San Clemente\",\"Lawton\",\"Eau Claire\",\"Maricopa\",\"DeSoto\",\"Fort Wayne\",\"Shoreline\",\"Medford\",\"La Habra\",\"Albany\",\"Daly City\",\"Taylor\",\"Lynchburg\",\"Bowie\",\"Danbury\",\"Charlottesville\",\"Coral Gables\",\"Coeur d'Alene\",\"El Monte\",\"Crystal Lake\",\"Danville\",\"Goodyear\",\"Paterson\",\"Salem\",\"Kissimmee\",\"Saginaw\",\"Brownsville\",\"Flower Mound\",\"Grapevine\",\"Edina\",\"Detroit\",\"Fairfield\",\"Mansfield\",\"Rochester\",\"Birmingham\",\"Austin\",\"Santa Barbara\",\"Addison\",\"Rio Rancho\",\"Normal\",\"Romeoville\",\"Coon Rapids\",\"San Mateo\",\"Orlando\",\"Casper\",\"Bedford\",\"Wilmington\",\"Pinellas Park\",\"North Miami Beach\",\"Kansas City\",\"Fitchburg\",\"Wheeling\",\"Newton\",\"North Miami\",\"Norwich\",\"Newark\",\"Alexandria\",\"Blaine\",\"Harlingen\",\"Lompoc\",\"Denton\",\"Galveston\",\"Greenwood\",\"Salinas\",\"Miami Gardens\",\"Huntington\",\"Laredo\",\"Melbourne\",\"Haltom City\",\"Palm Bay\",\"Wilson\",\"Bountiful\",\"Ceres\",\"Parma\",\"Rapid City\",\"Bell Gardens\",\"Commerce City\",\"Springfield\",\"Fort Collins\",\"San Leandro\",\"Vista\",\"Yonkers\",\"Cincinnati\",\"Hagerstown\",\"Sanford\",\"Union City\",\"Toledo\",\"Sierra Vista\",\"Newport News\",\"Hammond\",\"Buffalo Grove\",\"Sugar Land\",\"Huntsville\",\"Lodi\",\"Edmonds\",\"Duncanville\",\"Rocky Mount\",\"Pontiac\",\"National City\",\"Hayward\",\"Niagara Falls\",\"Sparks\",\"Hanford\",\"Cypress\",\"Youngstown\",\"Madison\",\"Redlands\",\"Cape Girardeau\",\"Nampa\",\"Washington\",\"Wheaton\",\"Lancaster\",\"Rialto\",\"Fargo\",\"Peoria\",\"Omaha\",\"Rancho Santa Margarita\",\"Manhattan\",\"Palm Springs\",\"San Diego\",\"Santa Rosa\",\"Lowell\",\"Broken Arrow\",\"Kent\",\"Nashville\",\"Hackensack\",\"Broomfield\",\"Durham\",\"Wichita\",\"Cathedral City\",\"Lakeville\",\"Elmhurst\",\"Weslaco\",\"Greenfield\",\"Sunnyvale\",\"Santa Cruz\",\"Kenosha\",\"State College\",\"Mansfield\",\"Quincy\",\"Pompano Beach\",\"San Angelo\",\"Bloomington\",\"Tracy\",\"Spartanburg\",\"Nashua\",\"Macon\",\"Hempstead\",\"Camden\",\"Palm Desert\",\"Streamwood\",\"Chesapeake\",\"Dublin\",\"Camarillo\",\"Muskegon\",\"Elizabeth\",\"Anchorage\",\"Minot\",\"Davie\",\"McAllen\",\"McKinney\",\"Killeen\",\"Findlay\",\"Oakland\",\"Mountain View\",\"Lake Elsinore\",\"Amarillo\",\"Provo\",\"Atlanta\",\"Monterey Park\",\"Strongsville\",\"Madera\",\"Decatur\",\"Woonsocket\",\"Mobile\",\"Vallejo\",\"Arcadia\",\"Collierville\",\"Jefferson City\",\"Longview\",\"Chandler\",\"Arvada\",\"Alhambra\",\"Kokomo\",\"Oakland Park\",\"Indianapolis\",\"Boynton Beach\",\"Apache Junction\",\"Mount Prospect\",\"Cranston\",\"Lafayette\",\"Olathe\",\"Johns Creek\",\"Greensboro\",\"Kalamazoo\",\"Tigard\",\"Jacksonville\",\"Citrus Heights\",\"Tuscaloosa\",\"Ankeny\",\"Hawthorne\",\"Hoover\",\"Delray Beach\",\"Wellington\",\"Bullhead City\",\"Weston\",\"Troy\",\"New Rochelle\",\"Stockton\",\"Royal Oak\",\"Titusville\",\"Laguna Niguel\",\"Spokane Valley\",\"Costa Mesa\",\"Grand Prairie\",\"Portsmouth\",\"Lacey\",\"Apex\",\"Sioux City\",\"Encinitas\",\"Spanish Fork\",\"Huntington Park\",\"Eden Prairie\",\"Peoria\",\"Tempe\",\"Wilmington\",\"Taylorsville\",\"Westland\",\"Mesquite\",\"Burlington\",\"Garland\",\"Richmond\",\"Bismarck\",\"Carson City\",\"Muskogee\",\"Augusta-Richmond County\",\"Fayetteville\",\"Albany\",\"Sayreville\",\"Newark\",\"Diamond Bar\",\"Decatur\",\"Chattanooga\",\"Jeffersonville\",\"Bartlett\",\"Baldwin Park\",\"Miami Beach\",\"Jackson\",\"Port Arthur\",\"San Luis Obispo\",\"Burleson\",\"Newport Beach\",\"Riverton\",\"Yakima\",\"Dayton\",\"Gulfport\",\"Long Beach\",\"Chico\",\"Hattiesburg\",\"Eugene\",\"Colton\",\"Montebello\",\"Pleasanton\",\"Everett\",\"Hutchinson\",\"Fairfield\",\"Avondale\",\"Euclid\",\"Battle Creek\",\"Bloomington\",\"Rock Island\",\"Beaverton\",\"Kenner\",\"Clovis\",\"Troy\",\"Milpitas\",\"Des Plaines\",\"Placentia\",\"Taunton\",\"Montclair\",\"Johnson City\",\"Savannah\",\"Warren\",\"Vancouver\",\"Sunrise\",\"Muncie\",\"Lehi\",\"San Francisco\",\"Fontana\",\"Frisco\",\"Chino Hills\",\"Poway\",\"Huber Heights\",\"New Brunswick\",\"Norfolk\",\"Hillsboro\",\"San Jacinto\",\"Pensacola\",\"Hamilton\",\"Florence\",\"San Bernardino\",\"Peachtree Corners\",\"Victorville\",\"Gary\",\"Casa Grande\",\"Morgan Hill\",\"Dubuque\",\"Syracuse\",\"Clarksville\",\"Lakeland\",\"Valley Stream\",\"Dover\",\"Moorhead\",\"Culver City\",\"Palatine\",\"Seattle\",\"Covington\",\"Elk Grove\",\"Shreveport\",\"Ogden\",\"Harrisonburg\",\"Inglewood\",\"Pasadena\",\"Lawrence\",\"Lake Oswego\",\"Petaluma\",\"Springfield\",\"Napa\",\"Aurora\",\"Duluth\",\"Roanoke\",\"Bend\",\"Apple Valley\",\"Waltham\",\"Fort Myers\",\"Tampa\",\"Upland\",\"Danville\",\"Beloit\",\"Plantation\",\"Colorado Springs\",\"Modesto\",\"Grand Rapids\",\"Oak Park\",\"Sarasota\",\"Jurupa Valley\",\"Bellflower\",\"Boulder\",\"Santa Fe\",\"Coachella\",\"Marlborough\",\"Riverside\",\"Palmdale\",\"Novato\",\"Layton\",\"Bolingbrook\",\"Mission Viejo\",\"Glenview\",\"Lincoln\",\"Folsom\",\"Prescott Valley\",\"Las Cruces\",\"Bozeman\",\"Schaumburg\",\"Warren\",\"St. Peters\",\"Ames\",\"Surprise\",\"Richardson\",\"Midland\",\"San Marcos\",\"Wilkes-Barre\",\"Appleton\",\"Shawnee\",\"Mentor\",\"Livermore\",\"Charlotte\",\"Owensboro\",\"Jupiter\",\"Rohnert Park\",\"Chicago\",\"Billings\",\"Wauwatosa\",\"Lombard\",\"New Haven\",\"York\",\"Knoxville\",\"Elyria\",\"Barnstable Town\",\"Murray\",\"Alameda\",\"Manteca\",\"Maplewood\",\"Medford\",\"Murfreesboro\",\"Yuba City\",\"Shelton\",\"Cedar Falls\",\"Germantown\",\"Scranton\",\"Auburn\",\"Manassas\",\"Vacaville\",\"Santa Monica\",\"Suffolk\",\"Rochester Hills\",\"La Quinta\",\"Charleston\",\"Delano\",\"St. Cloud\",\"Charleston\",\"Kannapolis\",\"Corona\",\"Rocklin\",\"Lee's Summit\",\"Palm Coast\",\"Sandy\",\"Bentonville\",\"Santa Clarita\",\"Altamonte Springs\",\"New Braunfels\",\"Memphis\",\"Irving\",\"Alexandria\",\"Hesperia\",\"Holyoke\",\"Dunwoody\",\"Skokie\",\"Kearny\",\"Bethlehem\",\"St. Joseph\",\"Redondo Beach\",\"Houston\",\"Temecula\",\"Ann Arbor\",\"Beaumont\",\"East Lansing\",\"Santee\",\"Tamarac\",\"Bellevue\",\"Pembroke Pines\",\"Springdale\",\"Oxnard\",\"Odessa\",\"Stillwater\",\"Brockton\",\"Bayonne\",\"Paramount\",\"Moline\",\"Meridian\",\"Cleveland\",\"Jersey City\",\"St. Paul\",\"Deltona\",\"Freeport\",\"Iowa City\",\"Anaheim\",\"Apple Valley\",\"Great Falls\",\"West Valley City\",\"Hampton\",\"Georgetown\",\"Orem\",\"Monrovia\",\"Keller\",\"Goose Creek\",\"Little Rock\",\"Santa Ana\",\"White Plains\",\"Idaho Falls\",\"Bellevue\",\"Roseville\",\"Perth Amboy\",\"Peabody\",\"Grand Island\",\"Columbia\",\"Racine\",\"Carmel\",\"Portage\",\"Middletown\",\"Woodland\",\"Revere\",\"Euless\",\"Arlington Heights\",\"Hemet\",\"High Point\",\"Newark\",\"Midwest City\",\"San Marcos\",\"Port Orange\",\"Lakewood\",\"Westerville\",\"Rockford\",\"El Cajon\",\"St. Petersburg\",\"Downers Grove\",\"Milford\",\"Albany\",\"Las Vegas\",\"Pasadena\",\"Port St. Lucie\",\"Cedar Rapids\",\"Ormond Beach\",\"Quincy\",\"Miramar\",\"El Paso\",\"Topeka\",\"Rosemead\",\"Keizer\",\"Minnetonka\",\"Akron\",\"Edinburg\",\"Rancho Cucamonga\",\"North Charleston\",\"Louisville\",\"Watsonville\",\"Coconut Creek\",\"Bradenton\",\"Carlsbad\",\"Texas City\",\"Redding\",\"Wyoming\",\"Lorain\",\"Roy\",\"Fort Lauderdale\",\"Warner Robins\",\"Clearwater\",\"Cutler Bay\",\"Florence\",\"Terre Haute\",\"Temple\",\"Beavercreek\",\"Sioux Falls\",\"Columbus\",\"Margate\",\"Leominster\",\"Warwick\",\"Bakersfield\",\"Miami\",\"Lake Charles\",\"Richland\",\"Hickory\",\"South San Francisco\",\"Plymouth\",\"South Bend\",\"Edmond\",\"Des Moines\",\"Bonita Springs\",\"Draper\",\"Whittier\",\"Livonia\",\"Milwaukee\",\"Auburn\",\"Sumter\",\"Beverly\",\"Renton\",\"Centennial\",\"Richmond\",\"Anderson\",\"Beaumont\",\"Pflugerville\",\"Hoboken\",\"Lexington-Fayette\",\"Norwalk\",\"Yuma\",\"Highland\",\"Carol Stream\",\"Joliet\",\"Rock Hill\",\"Rancho Cordova\",\"Dearborn Heights\",\"Honolulu\",\"Victoria\",\"Attleboro\",\"Wylie\",\"Carrollton\",\"Plainfield\",\"Hoffman Estates\",\"Methuen\",\"North Port\",\"Rockville\",\"Burbank\",\"Fullerton\",\"Oshkosh\",\"Huntsville\",\"Farmington Hills\",\"Pico Rivera\",\"Cerritos\",\"La Puente\",\"Grand Junction\",\"Enid\",\"San Jose\",\"Round Rock\",\"Maple Grove\",\"Norman\",\"Homestead\",\"Friendswood\",\"Irvine\",\"Pocatello\",\"Pacifica\",\"Sheboygan\",\"Bossier City\",\"Cedar Park\",\"Sandy Springs\",\"Champaign\",\"Clifton\",\"Moore\",\"Blue Springs\",\"Lancaster\",\"Bryan\",\"Hurst\",\"Cape Coral\",\"Cupertino\",\"Pittsfield\",\"Gilroy\",\"Manchester\",\"Virginia Beach\",\"Salina\",\"Somerville\",\"Largo\",\"Fresno\",\"Phenix City\",\"Berwyn\",\"Palm Beach Gardens\",\"Pawtucket\",\"San Gabriel\",\"Winston-Salem\",\"Alpharetta\",\"O'Fallon\",\"Redwood City\",\"Union City\",\"Hallandale Beach\",\"Mankato\",\"Aliso Viejo\",\"Menifee\",\"Loveland\",\"Carpentersville\",\"Providence\",\"Hialeah\",\"San Ramon\",\"Ontario\",\"Kirkland\",\"St. George\",\"Hilton Head Island\",\"Glendale\",\"Meriden\",\"Gardena\",\"Westfield\",\"Elgin\",\"Plano\",\"Longmont\",\"Coppell\",\"Lakewood\",\"Jonesboro\",\"College Station\",\"Dearborn\",\"Utica\",\"Monroe\",\"Baltimore\",\"Springfield\",\"Pine Bluff\",\"Plainfield\",\"Lynn\",\"Woodbury\",\"Gainesville\",\"West Sacramento\",\"Sammamish\",\"Aventura\",\"Fayetteville\",\"San Rafael\",\"Conway\",\"Tacoma\",\"Middletown\",\"Burlington\",\"Twin Falls\",\"Sherman\",\"New York\",\"Simi Valley\",\"West Covina\",\"Castle Rock\",\"Valdosta\",\"Fort Worth\",\"Carson\",\"Evansville\",\"Santa Maria\",\"Brentwood\",\"La Mesa\",\"Westminster\",\"Reading\",\"Turlock\",\"Greeley\",\"Tyler\",\"Winter Garden\",\"Waco\",\"Martinez\",\"Thousand Oaks\",\"Azusa\",\"Bridgeport\",\"St. Louis Park\",\"Chesterfield\",\"Greenacres\",\"Pasco\",\"Torrance\",\"Madison\",\"Janesville\",\"Waukegan\",\"Bowling Green\",\"Arlington\",\"Lewisville\",\"Farmington\",\"Oakley\",\"Palo Alto\",\"Springfield\",\"New Bedford\",\"Redmond\",\"Brentwood\",\"Davis\",\"La Mirada\",\"Smyrna\",\"Altoona\",\"Dothan\",\"East Orange\",\"Tinley Park\",\"Biloxi\",\"Urbana\",\"Garden Grove\",\"Lynwood\",\"Northglenn\",\"Canton\",\"Brookhaven\",\"Baton Rouge\",\"Bristol\",\"Independence\",\"Lansing\",\"Orland Park\",\"Vineland\",\"Green Bay\",\"Evanston\",\"Ocoee\",\"Los Angeles\",\"Federal Way\",\"West Jordan\",\"Yucaipa\",\"Pittsburgh\",\"Downey\",\"Cicero\",\"South Gate\",\"Panama City\",\"Joplin\",\"League City\",\"Salt Lake City\",\"Fort Pierce\",\"Phoenix\",\"Corvallis\",\"Cedar Hill\",\"Chicopee\",\"Ocala\",\"Roswell\",\"Park Ridge\",\"Concord\",\"Olympia\",\"Huntington Beach\",\"Corpus Christi\",\"Haverhill\",\"Hanover Park\",\"Cambridge\",\"Glendale\",\"Stanton\",\"Summerville\",\"Davenport\",\"Boca Raton\",\"New Britain\",\"Roseville\",\"Cleveland Heights\",\"Gresham\",\"Lauderhill\",\"Hendersonville\",\"Santa Clara\",\"Oceanside\",\"Lake Forest\",\"Novi\",\"West New York\",\"Everett\",\"Linden\",\"Asheville\",\"Compton\"],\"lat\":[48.0517637,33.7825194,41.49932,42.26259320000001,34.0007104,41.55815250000001,44.80413220000001,42.4733688,30.2240897,43.6187102,41.6819935,33.867514299999996,33.952602,39.5186002,26.7153424,42.51954,41.7605849,39.1156615,25.8195424,33.7513419,33.5778631,38.9822282,32.298757300000005,35.262082,29.2108147,39.0997265,33.7444613,44.7677424,32.9029017,33.3942655,32.366805199999995,41.7369803,42.4792618,40.6084305,32.8323225,32.4609764,42.8864468,42.9764027,32.8342952,40.742551,38.5815719,35.38592420000001,41.81371160000001,41.6266555,40.9125992,39.7047095,36.0395247,34.0900091,41.0534302,39.165325,36.548434,47.6587802,46.2112458,39.9525839,48.74908,36.3302284,43.8013556,41.2619444,26.217305,32.7766642,38.0049214,42.5803122,26.3184123,39.95675479999999,41.1399814,33.553914299999995,38.9536174,40.0455917,34.9889818,34.0122346,39.14344060000001,33.7091847,39.41426879999999,35.61266099999999,41.9294736,43.0166806,39.8680412,41.5772115,41.7014912,36.20772879999999,32.6400541,26.271192,35.4087517,33.883992600000006,28.6934076,47.9252568,39.71367539999999,41.7508391,26.0112014,36.3320196,29.9510658,47.1717649,41.71997800000001,43.66293839999999,45.52306220000001,37.9779776,47.4703767,38.7881062,43.0116784,35.1982836,47.1853785,42.8142432,39.7392358,39.7817213,37.2871651,33.9424658,39.6895036,42.2505943,34.483901,34.769535999999995,39.5296329,39.613321,34.540024200000005,37.7021521,33.425125,43.661471,45.0941315,41.2705484,32.792,33.0806083,43.0125274,38.02797620000001,33.370319699999996,33.9166805,33.7205771,33.49417039999999,39.9611755,40.0378755,40.8257625,40.2170534,42.3600825,34.136118700000004,44.0121221,38.789217,38.9784453,35.91319960000001,39.8386516,32.6789476,41.6155909,46.8787176,36.8252277,29.5635666,33.3528264,44.9591352,35.7795897,33.787794399999996,37.9100783,47.56732020000001,36.06523,32.436381,30.4382559,30.3118769,37.2295733,29.4241219,41.7637111,42.49278599999999,42.0986867,43.61210870000001,43.7730448,29.735504700000003,35.79154000000001,42.2180724,36.1539816,26.2159066,41.1339449,42.4250964,33.1031744,32.2217429,35.9250637,44.79739620000001,30.3321838,39.3642834,42.1292241,37.3021632,32.4487364,33.888625899999994,34.8526176,35.410694,42.4974085,40.27319110000001,34.274646000000004,37.54826970000001,38.2544472,42.3917638,38.52005039999999,44.977753,35.20453279999999,33.91370850000001,29.6185669,38.6270025,26.1947962,35.0853336,33.9519347,40.5621704,36.1988592,34.055103,33.952463,39.88145189999999,38.9716689,31.9973456,35.4675602,32.3909071,33.4151843,41.117744,42.8694731,43.0605671,32.9312336,41.6619927,33.7458511,45.5579451,40.8567662,33.1192068,37.6304904,37.87159260000001,33.4269728,34.6035669,44.811349,33.05810630000001,32.589699800000005,41.079273,47.7556531,42.4184296,33.9319578,42.65257929999999,37.6879241,42.240872,37.4137536,39.0067768,41.394817,38.0293059,25.72149,47.6776832,34.0686206,42.2411344,37.8215929,33.4353394,40.9167654,44.9428975,28.291955699999995,43.4194699,25.9017472,33.0145673,32.9342919,44.88968660000001,42.33142700000001,39.3454673,32.5631924,43.16103,33.5206608,30.267153000000004,34.4208305,41.931696,35.2327544,40.5142026,41.6475306,45.1732394,37.56299170000001,28.5383355,42.866632,32.844017,34.2257255,27.8428025,25.9331488,39.11405300000001,42.583422799999994,42.1391927,42.3370413,25.8900949,41.5242649,40.735657,31.3112936,45.1607987,26.1906306,34.6391501,33.2148412,29.3013479,39.6136578,36.6777372,25.942037699999997,38.41924960000001,27.530567100000006,28.0836269,32.799573800000005,28.03446210000001,35.7212689,40.8893895,37.5949316,41.40477420000001,44.0805434,33.965291799999996,39.8083196,42.1014831,40.5852602,37.7249296,33.2000368,40.9312099,39.1031182,39.6417629,28.802861199999995,40.6975898,41.6639383,31.5455001,37.0870821,41.58336879999999,42.1662831,29.6196787,34.730368799999994,38.1341477,47.8106521,32.6518004,35.93821029999999,42.6389216,32.6781085,37.6688205,43.0962143,39.5349112,36.3274502,33.8169599,41.0997803,34.6992579,34.055569299999995,37.3058839,43.5407172,38.9071923,41.8661403,32.5920798,34.1064001,46.8771863,40.6936488,41.25236339999999,33.640855,39.1836082,33.8302961,32.715738,38.44042899999999,42.633424700000006,36.060949,47.38093350000001,36.1626638,40.8859325,39.9205411,35.99403289999999,37.688889,33.780538799999995,44.6496868,41.8994744,26.159519399999994,42.9614039,37.36883,36.9741171,42.5847425,40.7933949,40.75839000000001,39.9356016,26.2378597,31.4637723,40.4842027,37.7396513,34.949567200000004,42.7653662,32.8406946,40.7062128,39.9259463,33.7222445,42.02558270000001,36.7682088,40.0992294,34.216393700000005,43.2341813,40.6639916,61.2180556,48.23296679999999,26.0764783,26.203407100000003,33.19724650000001,31.117119399999996,41.04422,37.8043637,37.3860517,33.668077200000006,35.2219971,40.23384379999999,33.7489954,34.0625106,41.3144966,36.96133560000001,39.84031470000001,42.0028761,30.6953657,38.1040864,34.139729200000005,35.042035999999996,38.57670170000001,32.5007037,33.3061605,39.802764399999994,34.095287,40.486427,26.1723065,39.768403,26.531786600000004,33.4150485,42.06641670000001,41.7798226,40.4167022,38.8813958,34.0289259,36.0726354,42.29170689999999,45.4312294,34.7540524,38.7071247,33.2098407,41.7317884,33.9164032,33.405386699999994,26.4614625,26.6617635,35.1359386,26.1003654,42.6064095,40.9114882,37.9577016,42.4894801,28.612218699999996,33.5225261,47.6732281,33.6411316,32.7459645,36.8354258,47.03426289999999,35.732652,42.4999942,33.0369867,40.114955,33.981681200000004,44.8546856,33.5805955,33.4255104,39.7390721,40.66772479999999,42.32420399999999,32.7667955,36.0956918,32.912624,37.9357576,46.8083268,39.1637984,35.74787689999999,33.4734978,35.0526641,31.578507399999996,40.4594021,37.5296593,34.02862260000001,34.605925299999996,35.0456297,38.27757020000001,41.9950276,34.0852868,25.790654,35.6145169,29.884950399999994,35.2827524,32.5420821,33.6189101,40.521893,46.6020711,39.75894779999999,30.367419800000004,33.770050399999995,39.72849439999999,31.3271189,44.0520691,34.0739016,34.0165053,37.6624312,47.9789848,38.0608445,38.2493581,33.4355977,41.5931049,42.32115220000001,44.840798,41.5094771,45.487062,29.9940924,34.4047987,42.7284117,37.4323341,42.03336229999999,33.87223710000001,41.900101,34.0775104,36.3134397,32.0835407,41.23755689999999,45.6387281,26.1669711,40.1933767,40.3916172,37.7749295,34.0922335,33.1506744,33.989818799999995,32.9628232,39.843947,40.4862157,36.8507689,45.5228939,33.78390839999999,30.421309,39.3995008,34.1954331,34.1083449,33.9698929,34.5362184,41.5933696,32.8795022,37.13050120000001,42.5005583,43.0481221,36.5297706,28.039465399999994,40.664269899999994,39.158168,46.8737648,34.021122399999996,42.1103041,47.6062095,39.08367120000001,38.4087993,32.5251516,41.223,38.44956879999999,33.9616801,34.1477849,42.7070354,45.4206749,38.232417,39.9242266,38.2975381,39.72943189999999,46.7866719,37.2709704,44.05817279999999,34.5008311,42.37648520000001,26.640628000000003,27.950575,34.09751,36.5859718,42.5083482,26.1275862,38.8338816,37.6390972,42.9633599,41.885031700000006,27.3364347,33.9971974,33.881681799999996,40.0149856,35.686975200000006,33.6803003,42.3459271,33.9533487,34.5794343,38.10741979999999,41.0602216,41.6986416,33.6000232,42.06975089999999,38.891565,38.6779591,34.6100243,32.3199396,45.6769979,42.0333607,42.5144566,38.7874699,42.03472199999999,33.62923370000001,32.948333500000004,43.6155825,29.8832749,41.24591489999999,44.2619309,39.0228485,41.66615729999999,37.6818745,35.2270869,37.7719074,26.934224600000004,38.3396367,41.8781136,45.783285600000006,43.049457200000006,41.8800296,41.308274,39.9625984,35.96063839999999,41.36837979999999,41.7003208,40.6668916,37.7652065,37.79742729999999,44.95302150000001,42.3265152,35.8456213,39.1404477,41.3164856,42.5348993,35.08675770000001,41.408969,32.6098566,38.7509488,38.3565773,34.01945429999999,36.7282054,42.6583661,33.66335729999999,38.3498195,35.7688425,28.2489016,32.776474900000004,35.48736129999999,33.8752935,38.7907339,38.9108408,29.584452399999996,40.56497810000001,36.37285379999999,34.3916641,28.6611089,29.7030024,35.1495343,32.814017699999994,38.8048355,34.4263886,42.2042586,33.9462125,42.0324025,40.7684342,40.6259316,39.76745779999999,33.8491816,29.7604267,33.4936391,42.2808256,30.080174,42.7369792,32.8383828,26.2128609,41.15436229999999,26.007765,36.18674420000001,34.1975048,31.8456816,36.1156071,42.08343350000001,40.6687141,33.8894598,41.5067003,32.3643098,35.1595182,40.7281575,44.9537029,28.9005446,40.65760220000001,41.6611277,33.8352932,44.7319094,47.4941836,40.691613200000006,37.0298687,30.633261800000003,40.2968979,34.14426160000001,32.9341893,32.9810059,34.7464809,33.7455731,41.0339862,43.49165139999999,47.610377,38.7521235,40.5067723,42.5278731,40.92639570000001,38.95170529999999,42.7261309,39.978371,42.20115379999999,39.5150576,38.6785157,42.40843020000001,32.8370727,42.0883603,33.7475203,35.95569229999999,40.0581205,35.4495065,33.1433723,29.1383165,33.853626899999995,40.12617429999999,42.2711311,32.7947731,27.773056,41.8089191,41.2306979,44.6365107,36.1699412,29.6910625,27.273049199999996,41.9778795,29.285812899999996,42.25287720000001,25.9860762,31.7775757,39.05582349999999,34.0805651,44.9901194,44.9211836,41.08144470000001,26.3017374,34.1063989,32.8546197,38.2526647,36.910231,26.2517482,27.4989278,33.158093300000004,29.383845,40.5865396,42.9133602,41.452819,41.1616108,26.1224386,32.6130007,27.9658533,25.5808323,34.79981,39.4667034,31.0982344,39.7092262,43.5445959,39.2014404,26.244526300000004,42.5250906,41.70010089999999,35.3732921,25.7616798,30.226594899999995,46.2856907,35.7344538,37.654656,45.01051939999999,41.67635449999999,35.6528323,41.60054479999999,26.339806,40.5246711,33.97917929999999,42.36837,43.0389025,47.30732279999999,33.9204354,42.5584283,47.4828776,39.5807452,37.5407246,40.1053196,33.92946060000001,30.4393696,40.7439905,38.040583700000006,33.9022367,32.6926512,34.1283442,41.9125286,41.525031,34.9248667,38.5890723,42.3369816,21.3069444,28.8052674,41.9445441,33.0151201,32.975641499999995,41.632223,42.06299149999999,42.7262016,27.044224,39.0839973,34.18083920000001,33.8703596,44.0247062,30.723526300000003,42.4989936,33.9830688,33.858348299999996,34.0200114,39.0638705,36.3955891,37.3382082,30.508255100000003,45.07246420000001,35.22256679999999,25.468722399999994,29.529399800000004,33.6839473,42.8713032,37.61382529999999,43.7508284,32.5159852,30.505197999999996,33.9304352,40.1164204,40.8584328,35.339507899999994,39.0169509,34.6867846,30.674364299999993,32.82346210000001,26.5628537,37.3229978,42.4500845,37.0057816,42.99563970000001,36.8529263,38.8402805,42.3875968,27.909466499999994,36.7468422,32.4709761,41.8505874,26.8233946,41.878711,34.0961111,36.0998596,34.07537620000001,38.8106075,37.4852152,37.59339179999999,25.981202399999994,44.1635775,33.5676842,33.6971468,40.39776120000001,42.1211364,41.8239891,25.8575963,37.7799273,34.0633443,47.6814875,37.0965278,32.216316,34.1425078,41.5381535,33.8883487,42.1250929,42.03540839999999,33.0198431,40.16720679999999,32.954568699999996,41.48199320000001,35.8422967,30.627977,42.3222599,43.100903,32.5093109,39.2903848,37.20895720000001,34.2284312,40.6337136,42.466763,44.92385520000001,29.6516344,38.5804609,47.61626829999999,25.9564812,36.0625795,37.9735346,35.0886963,47.2528768,41.5623209,44.4758825,42.5629668,33.63566179999999,40.7127837,34.2694474,34.0686208,39.37221210000001,30.8327022,32.7554883,33.8316745,37.9715592,34.95303370000001,36.0331164,32.7678287,39.8366528,40.33564829999999,37.49465679999999,40.42331420000001,32.351260100000005,28.5652787,31.549333,38.0193657,34.1705609,34.1336186,41.18654779999999,44.9597376,38.6631083,26.6276276,46.23957929999999,33.83584920000001,43.07305170000001,42.6827885,42.3636331,36.9685219,32.735687,33.046233,36.7280583,37.9974219,37.44188339999999,44.0462362,41.6362152,47.6739881,37.931868,38.5449065,33.9172357,35.9828412,40.5186809,31.2232313,40.767323,41.5731442,30.396031800000006,40.1105875,33.773905299999996,33.930293,39.8961821,40.7989473,33.8651033,30.458282899999997,41.6717648,39.0911161,42.732535,41.6303103,39.4863773,44.519159,42.0450722,28.5691677,34.0522342,47.3223221,40.6096698,34.033625,40.44062479999999,33.9401088,41.8455877,33.954737,30.158812899999994,37.0842271,29.5074538,40.7607793,27.446705600000005,33.4483771,44.5645659,32.5884689,42.14870429999999,29.1871986,34.0232431,42.0111412,43.2081366,47.0378741,33.660297,27.800582799999994,42.7762015,41.9994722,42.3736158,33.538652299999995,33.802515500000005,33.0185039,41.5236437,26.3683064,41.6612104,42.4972583,41.5200518,45.5001357,26.1403635,36.3047735,37.35410789999999,33.1958696,33.6469661,42.48059,40.78787879999999,42.40843,40.6220478,35.5950581,33.8958492],\"legendgroup\":\"\",\"lon\":[-122.1770818,-117.2286478,-81.6943605,-71.8022934,-81.0348144,-73.0514965,-93.1668858,-83.2218731,-92.0198427,-116.2146068,-85.9766671,-117.9981181,-84.5499327,-104.7613633,-80.0533746,-70.8967155,-88.3200715,-77.5636015,-80.3553302,-117.9939921,-101.8551665,-94.6707917,-90.1848103,-81.1873005,-81.02283309999999,-94.5785667,-118.3870173,-93.2777226,-96.56388,-104.5230242,-86.2999689,-111.8338359,-71.1522765,-75.4901833,-79.82842579999998,-84.9877094,-78.8783689,-88.10842240000002,-97.2289029,-84.1052256,-121.4943996,-94.3985475,-71.37005450000002,-93.7121656,-73.8370786,-105.08137340000002,-114.9817213,-117.8903397,-73.53873409999999,-86.5263857,-82.5618186,-117.4260466,-119.1372338,-75.1652215,-122.4781473,-119.2920585,-91.2395807,-95.8608333,-80.2258811,-96.7969879,-121.805789,-83.0302033,-80.0997657,-86.01335,-104.8202462,-117.2139232,-94.7335709,-86.0085955,-90.0125913,-117.688944,-77.2013705,-117.9536697,-77.41054090000002,-77.3663538,-88.7503647,-88.0070315,-104.9719243,-93.711332,-71.1550451,-119.3473379,-117.0841955,-80.27060440000002,-80.579511,-84.51437609999998,-81.53221490000001,-97.0328547,-82.59932940000002,-88.15353520000002,-80.1494901,-94.1185366,-90.0715323,-122.518458,-87.7479528,-116.6873596,-122.6764816,-122.0310733,-122.3467918,-90.4974359,-88.2314813,-111.651302,-122.29289740000002,-73.93956870000002,-104.990251,-89.6501481,-121.9499568,-117.2296717,-84.16882740000001,-83.17853609999997,-114.3224548,-92.2670941,-119.8138027,-105.0166498,-112.4685025,-121.9357918,-94.0476882,-70.2553259,-93.3563405,-72.94697109999998,-115.5630514,-96.8928309,-83.6874562,-121.88468059999998,-112.58377659999998,-117.9000604,-116.2155619,-111.9260519,-82.9987942,-76.3055144,-96.6851982,-74.74293840000001,-71.0588801,-117.865339,-92.4801989,-90.322614,-76.4921829,-79.05584449999998,-86.0252612,-115.4988834,-87.5294871,-113.996586,-119.7029194,-95.2860474,-111.789027,-89.6301221,-78.6381787,-117.8531119,-122.0651819,-122.6329356,-119.0167679,-111.2224422,-84.2807329,-95.4560512,-80.4139393,-98.4936282,-72.6850932,-92.3425775,-75.9179738,-116.3915131,-88.44705079999999,-94.9774274,-78.78111690000001,-70.94103559999998,-95.992775,-98.3252932,-81.48455849999998,-71.066163,-96.6705503,-110.926479,-86.86888990000001,-93.5272861,-81.655651,-74.4229266,-80.085059,-120.48296770000002,-99.7331439,-117.8131125,-82.3940104,-80.8428504,-82.8963604,-76.88670079999999,-119.22903159999998,-121.9885719,-104.6091409,-71.03282840000001,-89.98399350000003,-93.2650108,-89.8739753,-98.4933873,-95.5377215,-90.1994042,-98.1836216,-106.6055534,-83.357567,-111.929658,-115.1175013,-117.7499909,-117.5848025,-83.09296440000001,-95.2352501,-102.0779146,-97.5164276,-110.96648799999998,-111.8314724,-73.4081575,-85.6447492,-88.1064787,-96.4597089,-86.15861559999998,-117.826166,-94.1632404,-74.12847640000003,-117.086421,-122.4110835,-122.272747,-117.6119925,-98.3959291,-91.4984941,-112.0476423,-96.8570738,-85.13935129999999,-122.3415178,-71.10616390000001,-117.94617340000002,-73.7562317,-122.47020790000002,-83.2696509,-79.1422464,-76.77913649999998,-73.45401109999997,-78.4766781,-80.2683838,-116.7804664,-118.0275667,-88.3161965,-121.9999606,-112.3576567,-74.171811,-123.0350963,-81.40757099999998,-83.9508068,-97.4974838,-97.0969552,-97.0780654,-93.3499489,-83.0457538,-84.56031870000002,-97.1416768,-77.61092190000002,-86.80249,-97.7430608,-119.6981901,-87.9889556,-106.6630437,-88.99063120000002,-88.0895061,-93.3030063,-122.3255254,-81.3792365,-106.313081,-97.1430671,-77.9447102,-82.6995443,-80.1625463,-94.6274636,-71.8022955,-87.92895909999999,-71.2092214,-80.18671379999998,-72.07591049999998,-74.1723667,-92.4451371,-93.2349489,-97.6961026,-120.4579409,-97.1330683,-94.7976958,-86.10665259999998,-121.6555013,-80.2456045,-82.445154,-99.4803241,-80.6081089,-97.2691817,-80.5886646,-77.91553950000002,-111.880771,-120.9577098,-81.72290859999998,-103.2310149,-118.1514588,-104.9338675,-72.589811,-105.084423,-122.1560768,-117.2425355,-73.8987469,-84.5120196,-77.7199932,-81.269453,-74.2631635,-83.555212,-110.27728559999998,-76.4730122,-87.5000412,-87.9631308,-95.6349463,-86.5861037,-121.2722194,-122.3773552,-96.9083366,-77.7905339,-83.2910468,-117.0991967,-122.0807964,-79.03773879999999,-119.7526886,-119.6456844,-118.0372852,-80.6495194,-86.7483318,-117.1825381,-89.51814759999998,-116.5634624,-77.03687070000002,-88.1070127,-96.7561082,-117.3703235,-96.7898034,-89.58898640000002,-95.9979883,-117.603104,-96.5716694,-116.54529209999998,-117.1610838,-122.7140548,-71.3161718,-95.7974526,-122.2348431,-86.78160159999999,-74.0434736,-105.0866504,-78.898619,-97.336111,-116.4668036,-93.24272,-87.9403418,-97.9908366,-88.0125865,-122.0363496,-122.0307963,-87.8211854,-77.8600012,-82.51544709999997,-91.4098726,-80.1247667,-100.4370375,-88.9936873,-121.4252227,-81.93204820000003,-71.467566,-83.6324022,-73.6187397,-75.1196199,-116.3744556,-88.1784085,-76.2874927,-83.11407709999997,-119.0376023,-86.2483921,-74.2107006,-149.90027780000003,-101.2922906,-80.2521157,-98.2300124,-96.6397822,-97.7277959,-83.6499321,-122.27111370000002,-122.0838511,-117.3272615,-101.8312969,-111.6585337,-84.3879824,-118.1228476,-81.83569,-120.0607176,-88.9548001,-71.5147839,-88.0398912,-122.25663670000002,-118.0353449,-89.66452659999999,-92.1735164,-94.7404891,-111.8412502,-105.0874842,-118.1270146,-86.13360329999998,-80.13198929999999,-86.158068,-80.0905465,-111.5495777,-87.9372908,-71.4372796,-86.8752869,-94.8191285,-84.19857900000002,-79.79197540000001,-85.5872286,-122.7714861,-77.43024140000001,-121.2810611,-87.5691735,-93.6001278,-118.3525748,-86.8113781,-80.07282009999999,-80.2683571,-114.5285981,-80.3997748,-83.1497751,-73.78235490000002,-121.29077959999998,-83.1446485,-80.8075537,-117.7075526,-117.2393748,-117.9186689,-96.9977846,-76.29827420000002,-122.8231915,-78.85028559999998,-96.4003069,-117.2919818,-111.654923,-118.2250725,-93.470786,-112.2373779,-111.9400054,-75.5397878,-111.9388258,-83.400211,-96.5991593,-79.43779909999998,-96.6388833,-122.3477486,-100.7837392,-119.7674034,-95.3696909,-82.0105148,-78.87835849999998,-84.155741,-74.360846,-122.0402399,-117.8103367,-86.9833417,-85.3096801,-85.7371847,-88.1856301,-117.96089779999998,-80.1300455,-88.8139469,-93.939947,-120.6596156,-97.3208492,-117.9289469,-111.9391023,-120.5058987,-84.1916069,-89.0928155,-118.1937395,-121.8374777,-89.2903392,-123.08675359999998,-117.3136547,-118.1137535,-121.8746789,-122.2020794,-97.9297743,-122.0399663,-112.3496021,-81.5267873,-85.17971419999998,-93.2982799,-90.5787476,-122.8037102,-90.2417434,-103.2052272,-73.69178509999998,-121.8995741,-87.88339909999998,-117.8703363,-71.08976740000001,-117.6897776,-82.35347270000003,-81.0998342,-80.81841659999998,-122.6614861,-80.25659499999998,-85.3863599,-111.8507662,-122.4194155,-117.435048,-96.8236116,-117.7325848,-117.0358646,-84.1246608,-74.4518188,-76.28587259999998,-122.989827,-116.95863500000002,-87.2169149,-84.5613355,-79.7625625,-117.2897652,-84.2214551,-117.2927641,-87.3464271,-111.7573521,-121.6543901,-90.6645718,-76.1474244,-87.3594528,-81.9498042,-73.7084645,-75.5243682,-96.7678039,-118.3964665,-88.03424,-122.33207079999998,-84.5085536,-121.3716178,-93.7501789,-111.9738304,-78.8689155,-118.3531311,-118.1445155,-71.1631137,-122.6706498,-122.6366524,-83.8088171,-122.286865,-104.8319195,-92.1004852,-79.9414266,-121.3153096,-117.1858759,-71.2356113,-81.87230840000002,-82.4571776,-117.6483876,-79.3950228,-89.0317765,-80.23310359999998,-104.8213634,-120.9968782,-85.6680863,-87.7845025,-82.5306527,-117.4854802,-118.1170117,-105.2705456,-105.937799,-116.173894,-71.55228740000003,-117.3961564,-118.11646129999998,-122.5697032,-111.9710529,-88.0683955,-117.6719953,-87.7878408,-121.29300790000002,-121.17605829999998,-112.315721,-106.7636538,-111.0429339,-88.0834059,-83.01465259999998,-90.6298922,-93.62,-112.3679279,-96.7298519,-84.24721159999999,-97.9413941,-75.88130749999998,-88.4153847,-94.7151865,-81.339552,-121.7680088,-80.8431267,-87.1111676,-80.09420870000002,-122.70109840000002,-87.62979820000002,-108.5006904,-88.0075875,-88.0078435,-72.9278835,-76.727745,-83.9207392,-82.10764859999998,-70.3002024,-111.8879909,-122.2416355,-121.21605259999998,-92.9952153,-122.8755949,-86.39027,-121.6169108,-73.0931641,-92.4453161,-89.8100858,-75.66241219999998,-85.48078249999998,-77.4752667,-121.9877444,-118.4911912,-76.5835621,-83.14993220000002,-116.3100095,-81.6326234,-119.2470536,-81.2811801,-79.9310512,-80.62173409999998,-117.5664384,-121.2357828,-94.3821724,-81.2078699,-111.8389726,-94.2088172,-118.542586,-81.36562420000001,-98.1244531,-90.0489801,-96.9488945,-77.0469214,-117.3008784,-72.61620090000002,-84.3346473,-87.7416246,-74.1454214,-75.3704579,-94.846681,-118.3884078,-95.3698028,-117.1483648,-83.7430378,-94.1265562,-84.48386540000001,-116.97391670000002,-80.2497707,-95.9145568,-80.2962555,-94.1288141,-119.17705159999998,-102.3676431,-97.0583681,-71.0183787,-74.11430909999999,-118.15979109999998,-90.5151342,-88.70365600000002,-84.8766115,-74.0776417,-93.0899578,-81.2636738,-73.58318349999998,-91.5301683,-117.9145036,-93.21772,-111.2833449,-112.0010501,-76.3452218,-97.6779842,-111.69464750000002,-118.0019482,-97.229298,-80.03258670000002,-92.2895948,-117.8678338,-73.76290970000002,-112.0339645,-122.2006786,-121.28800590000002,-74.2654234,-70.92866090000003,-98.3420118,-92.3340724,-87.78285229999999,-86.1180435,-85.5800022,-84.39827629999998,-121.7732971,-71.0119948,-97.0819541,-87.9806265,-116.9719684,-80.0053176,-82.4012642,-97.3967019,-117.1661449,-80.9956105,-118.1339563,-82.9290696,-89.09399520000002,-116.9625269,-82.64,-88.01117459999998,-73.064036,-123.1059282,-115.13982959999998,-95.2091006,-80.3582261,-91.6656232,-81.05588940000001,-71.0022705,-80.3035602,-106.4424559,-95.6890185,-118.072846,-123.0262077,-93.4687489,-81.51900529999998,-98.1633432,-117.5931084,-79.9748103,-85.7584557,-121.7568946,-80.17893509999998,-82.5748194,-117.3505939,-94.9027002,-122.3916754,-85.7053085,-82.18237459999997,-112.0263313,-80.13731740000001,-83.624201,-82.8001026,-80.3468593,-87.677251,-87.4139092,-97.342782,-84.0632685,-96.7311034,-85.9213796,-80.206436,-71.759794,-71.4161671,-119.0187125,-80.1917902,-93.2173758,-119.2844621,-81.3444573,-122.4077498,-93.4555093,-86.25198979999998,-97.4780954,-93.6091064,-81.77869720000002,-111.8638226,-118.032844,-83.3527097,-87.9064736,-122.22845320000002,-80.3414693,-70.880049,-122.21706609999998,-104.8771726,-77.4360481,-85.6802541,-116.977248,-97.6200043,-74.0323626,-84.50371640000002,-118.081733,-114.6276916,-117.2086513,-88.1347927,-88.0817251,-81.02507840000001,-121.302728,-83.2732627,-157.8583333,-97.0035982,-71.2856082,-96.5388789,-96.8899636,-88.2120315,-88.1227199,-71.19089240000002,-82.23592540000001,-77.1527578,-118.30896609999998,-117.9242966,-88.5426136,-95.5507771,-83.3677168,-118.096735,-118.0647871,-117.9495083,-108.5506486,-97.8783911,-121.88632859999998,-97.678896,-93.4557877,-97.4394777,-80.4775569,-95.2010447,-117.7946942,-112.4455344,-122.48691940000002,-87.71453000000002,-93.7321228,-97.8202888,-84.3733147,-88.2433829,-74.16375529999998,-97.4867028,-94.2816148,-118.1541632,-96.3699632,-97.1705678,-81.94953309999998,-122.0321823,-73.2453824,-121.5682751,-71.4547891,-75.977985,-97.6114237,-71.0994968,-82.7873244,-119.7725868,-85.0007653,-87.79366850000002,-80.1386547,-71.38255579999998,-118.1058333,-80.24421600000002,-84.2940899,-90.6998477,-122.2363548,-122.0438298,-80.148379,-93.9993996,-117.7256083,-117.185294,-105.0749801,-88.2578582,-71.4128343,-80.2781057,-121.9780153,-117.6508876,-122.2087353,-113.5684164,-80.752608,-118.255075,-72.8070435,-118.3089624,-72.749538,-88.2825668,-96.6988856,-105.1019275,-97.0150078,-81.7981908,-90.704279,-96.3344068,-83.1763145,-75.232664,-92.1193012,-76.6121893,-93.2922989,-92.0031955,-74.40737359999999,-70.9494938,-92.9593797,-82.3248262,-121.530234,-122.0355736,-80.1392121,-94.1574263,-122.5310874,-92.4421011,-122.4442906,-72.6506488,-73.21207199999998,-114.4608711,-96.6088805,-74.00594129999998,-118.781482,-117.93895259999998,-104.8560902,-83.2784851,-97.3307658,-118.281693,-87.5710898,-120.4357191,-86.7827772,-117.02308390000002,-105.03720459999998,-75.9268747,-120.8465941,-104.7091322,-95.3010624,-81.5861847,-97.1466695,-122.1341321,-118.8375937,-117.9075627,-73.1951767,-93.3702186,-90.5770675,-80.1353896,-119.10056570000002,-118.3406288,-89.4012302,-89.01872220000001,-87.84479379999998,-86.48080429999997,-97.1080656,-96.994174,-108.2186856,-121.7124536,-122.1430195,-123.0220289,-70.934205,-122.121512,-121.6957863,-121.7405167,-118.0120086,-86.51860450000002,-78.3947359,-85.39048879999999,-74.20486770000002,-87.7932939,-88.88530779999998,-88.2072697,-117.9414477,-118.21146029999998,-104.9811468,-81.378447,-84.3365917,-91.1403196,-72.9492703,-94.4155068,-84.55553470000002,-87.8539425,-75.0259637,-88.019826,-87.6876969,-81.5439619,-118.24368490000002,-122.3126222,-111.9391031,-117.0430865,-79.9958864,-118.1331593,-87.7539448,-118.2120161,-85.6602058,-94.513281,-95.0949303,-111.89104740000002,-80.3256056,-112.0740373,-123.2620435,-96.9561152,-72.6078672,-82.14009229999998,-84.36155550000002,-87.8406192,-71.5375718,-122.9006951,-117.9992265,-97.396381,-71.0772796,-88.1450735,-71.10973349999998,-112.1859866,-117.9931165,-80.17564809999998,-90.5776367,-80.1289321,-72.77954190000001,-82.93714090000002,-81.556235,-122.4302013,-80.2133808,-86.6199957,-121.9552356,-117.3794834,-117.689218,-83.47549129999999,-74.0143064,-71.0536625,-74.2445902,-82.5514869,-118.2200712],\"marker\":{\"color\":\"fuchsia\"},\"mode\":\"markers\",\"name\":\"\",\"showlegend\":false,\"subplot\":\"mapbox\",\"type\":\"scattermapbox\"}],                        {\"height\":300,\"legend\":{\"tracegroupgap\":0},\"mapbox\":{\"center\":{\"lat\":37.3382407015,\"lon\":-96.4830233607},\"domain\":{\"x\":[0.0,1.0],\"y\":[0.0,1.0]},\"style\":\"open-street-map\",\"zoom\":3},\"margin\":{\"b\":0,\"l\":0,\"r\":0,\"t\":0},\"template\":{\"data\":{\"bar\":[{\"error_x\":{\"color\":\"#2a3f5f\"},\"error_y\":{\"color\":\"#2a3f5f\"},\"marker\":{\"line\":{\"color\":\"#E5ECF6\",\"width\":0.5},\"pattern\":{\"fillmode\":\"overlay\",\"size\":10,\"solidity\":0.2}},\"type\":\"bar\"}],\"barpolar\":[{\"marker\":{\"line\":{\"color\":\"#E5ECF6\",\"width\":0.5},\"pattern\":{\"fillmode\":\"overlay\",\"size\":10,\"solidity\":0.2}},\"type\":\"barpolar\"}],\"carpet\":[{\"aaxis\":{\"endlinecolor\":\"#2a3f5f\",\"gridcolor\":\"white\",\"linecolor\":\"white\",\"minorgridcolor\":\"white\",\"startlinecolor\":\"#2a3f5f\"},\"baxis\":{\"endlinecolor\":\"#2a3f5f\",\"gridcolor\":\"white\",\"linecolor\":\"white\",\"minorgridcolor\":\"white\",\"startlinecolor\":\"#2a3f5f\"},\"type\":\"carpet\"}],\"choropleth\":[{\"colorbar\":{\"outlinewidth\":0,\"ticks\":\"\"},\"type\":\"choropleth\"}],\"contour\":[{\"colorbar\":{\"outlinewidth\":0,\"ticks\":\"\"},\"colorscale\":[[0.0,\"#0d0887\"],[0.1111111111111111,\"#46039f\"],[0.2222222222222222,\"#7201a8\"],[0.3333333333333333,\"#9c179e\"],[0.4444444444444444,\"#bd3786\"],[0.5555555555555556,\"#d8576b\"],[0.6666666666666666,\"#ed7953\"],[0.7777777777777778,\"#fb9f3a\"],[0.8888888888888888,\"#fdca26\"],[1.0,\"#f0f921\"]],\"type\":\"contour\"}],\"contourcarpet\":[{\"colorbar\":{\"outlinewidth\":0,\"ticks\":\"\"},\"type\":\"contourcarpet\"}],\"heatmap\":[{\"colorbar\":{\"outlinewidth\":0,\"ticks\":\"\"},\"colorscale\":[[0.0,\"#0d0887\"],[0.1111111111111111,\"#46039f\"],[0.2222222222222222,\"#7201a8\"],[0.3333333333333333,\"#9c179e\"],[0.4444444444444444,\"#bd3786\"],[0.5555555555555556,\"#d8576b\"],[0.6666666666666666,\"#ed7953\"],[0.7777777777777778,\"#fb9f3a\"],[0.8888888888888888,\"#fdca26\"],[1.0,\"#f0f921\"]],\"type\":\"heatmap\"}],\"heatmapgl\":[{\"colorbar\":{\"outlinewidth\":0,\"ticks\":\"\"},\"colorscale\":[[0.0,\"#0d0887\"],[0.1111111111111111,\"#46039f\"],[0.2222222222222222,\"#7201a8\"],[0.3333333333333333,\"#9c179e\"],[0.4444444444444444,\"#bd3786\"],[0.5555555555555556,\"#d8576b\"],[0.6666666666666666,\"#ed7953\"],[0.7777777777777778,\"#fb9f3a\"],[0.8888888888888888,\"#fdca26\"],[1.0,\"#f0f921\"]],\"type\":\"heatmapgl\"}],\"histogram\":[{\"marker\":{\"pattern\":{\"fillmode\":\"overlay\",\"size\":10,\"solidity\":0.2}},\"type\":\"histogram\"}],\"histogram2d\":[{\"colorbar\":{\"outlinewidth\":0,\"ticks\":\"\"},\"colorscale\":[[0.0,\"#0d0887\"],[0.1111111111111111,\"#46039f\"],[0.2222222222222222,\"#7201a8\"],[0.3333333333333333,\"#9c179e\"],[0.4444444444444444,\"#bd3786\"],[0.5555555555555556,\"#d8576b\"],[0.6666666666666666,\"#ed7953\"],[0.7777777777777778,\"#fb9f3a\"],[0.8888888888888888,\"#fdca26\"],[1.0,\"#f0f921\"]],\"type\":\"histogram2d\"}],\"histogram2dcontour\":[{\"colorbar\":{\"outlinewidth\":0,\"ticks\":\"\"},\"colorscale\":[[0.0,\"#0d0887\"],[0.1111111111111111,\"#46039f\"],[0.2222222222222222,\"#7201a8\"],[0.3333333333333333,\"#9c179e\"],[0.4444444444444444,\"#bd3786\"],[0.5555555555555556,\"#d8576b\"],[0.6666666666666666,\"#ed7953\"],[0.7777777777777778,\"#fb9f3a\"],[0.8888888888888888,\"#fdca26\"],[1.0,\"#f0f921\"]],\"type\":\"histogram2dcontour\"}],\"mesh3d\":[{\"colorbar\":{\"outlinewidth\":0,\"ticks\":\"\"},\"type\":\"mesh3d\"}],\"parcoords\":[{\"line\":{\"colorbar\":{\"outlinewidth\":0,\"ticks\":\"\"}},\"type\":\"parcoords\"}],\"pie\":[{\"automargin\":true,\"type\":\"pie\"}],\"scatter\":[{\"marker\":{\"colorbar\":{\"outlinewidth\":0,\"ticks\":\"\"}},\"type\":\"scatter\"}],\"scatter3d\":[{\"line\":{\"colorbar\":{\"outlinewidth\":0,\"ticks\":\"\"}},\"marker\":{\"colorbar\":{\"outlinewidth\":0,\"ticks\":\"\"}},\"type\":\"scatter3d\"}],\"scattercarpet\":[{\"marker\":{\"colorbar\":{\"outlinewidth\":0,\"ticks\":\"\"}},\"type\":\"scattercarpet\"}],\"scattergeo\":[{\"marker\":{\"colorbar\":{\"outlinewidth\":0,\"ticks\":\"\"}},\"type\":\"scattergeo\"}],\"scattergl\":[{\"marker\":{\"colorbar\":{\"outlinewidth\":0,\"ticks\":\"\"}},\"type\":\"scattergl\"}],\"scattermapbox\":[{\"marker\":{\"colorbar\":{\"outlinewidth\":0,\"ticks\":\"\"}},\"type\":\"scattermapbox\"}],\"scatterpolar\":[{\"marker\":{\"colorbar\":{\"outlinewidth\":0,\"ticks\":\"\"}},\"type\":\"scatterpolar\"}],\"scatterpolargl\":[{\"marker\":{\"colorbar\":{\"outlinewidth\":0,\"ticks\":\"\"}},\"type\":\"scatterpolargl\"}],\"scatterternary\":[{\"marker\":{\"colorbar\":{\"outlinewidth\":0,\"ticks\":\"\"}},\"type\":\"scatterternary\"}],\"surface\":[{\"colorbar\":{\"outlinewidth\":0,\"ticks\":\"\"},\"colorscale\":[[0.0,\"#0d0887\"],[0.1111111111111111,\"#46039f\"],[0.2222222222222222,\"#7201a8\"],[0.3333333333333333,\"#9c179e\"],[0.4444444444444444,\"#bd3786\"],[0.5555555555555556,\"#d8576b\"],[0.6666666666666666,\"#ed7953\"],[0.7777777777777778,\"#fb9f3a\"],[0.8888888888888888,\"#fdca26\"],[1.0,\"#f0f921\"]],\"type\":\"surface\"}],\"table\":[{\"cells\":{\"fill\":{\"color\":\"#EBF0F8\"},\"line\":{\"color\":\"white\"}},\"header\":{\"fill\":{\"color\":\"#C8D4E3\"},\"line\":{\"color\":\"white\"}},\"type\":\"table\"}]},\"layout\":{\"annotationdefaults\":{\"arrowcolor\":\"#2a3f5f\",\"arrowhead\":0,\"arrowwidth\":1},\"autotypenumbers\":\"strict\",\"coloraxis\":{\"colorbar\":{\"outlinewidth\":0,\"ticks\":\"\"}},\"colorscale\":{\"diverging\":[[0,\"#8e0152\"],[0.1,\"#c51b7d\"],[0.2,\"#de77ae\"],[0.3,\"#f1b6da\"],[0.4,\"#fde0ef\"],[0.5,\"#f7f7f7\"],[0.6,\"#e6f5d0\"],[0.7,\"#b8e186\"],[0.8,\"#7fbc41\"],[0.9,\"#4d9221\"],[1,\"#276419\"]],\"sequential\":[[0.0,\"#0d0887\"],[0.1111111111111111,\"#46039f\"],[0.2222222222222222,\"#7201a8\"],[0.3333333333333333,\"#9c179e\"],[0.4444444444444444,\"#bd3786\"],[0.5555555555555556,\"#d8576b\"],[0.6666666666666666,\"#ed7953\"],[0.7777777777777778,\"#fb9f3a\"],[0.8888888888888888,\"#fdca26\"],[1.0,\"#f0f921\"]],\"sequentialminus\":[[0.0,\"#0d0887\"],[0.1111111111111111,\"#46039f\"],[0.2222222222222222,\"#7201a8\"],[0.3333333333333333,\"#9c179e\"],[0.4444444444444444,\"#bd3786\"],[0.5555555555555556,\"#d8576b\"],[0.6666666666666666,\"#ed7953\"],[0.7777777777777778,\"#fb9f3a\"],[0.8888888888888888,\"#fdca26\"],[1.0,\"#f0f921\"]]},\"colorway\":[\"#636efa\",\"#EF553B\",\"#00cc96\",\"#ab63fa\",\"#FFA15A\",\"#19d3f3\",\"#FF6692\",\"#B6E880\",\"#FF97FF\",\"#FECB52\"],\"font\":{\"color\":\"#2a3f5f\"},\"geo\":{\"bgcolor\":\"white\",\"lakecolor\":\"white\",\"landcolor\":\"#E5ECF6\",\"showlakes\":true,\"showland\":true,\"subunitcolor\":\"white\"},\"hoverlabel\":{\"align\":\"left\"},\"hovermode\":\"closest\",\"mapbox\":{\"style\":\"light\"},\"paper_bgcolor\":\"white\",\"plot_bgcolor\":\"#E5ECF6\",\"polar\":{\"angularaxis\":{\"gridcolor\":\"white\",\"linecolor\":\"white\",\"ticks\":\"\"},\"bgcolor\":\"#E5ECF6\",\"radialaxis\":{\"gridcolor\":\"white\",\"linecolor\":\"white\",\"ticks\":\"\"}},\"scene\":{\"xaxis\":{\"backgroundcolor\":\"#E5ECF6\",\"gridcolor\":\"white\",\"gridwidth\":2,\"linecolor\":\"white\",\"showbackground\":true,\"ticks\":\"\",\"zerolinecolor\":\"white\"},\"yaxis\":{\"backgroundcolor\":\"#E5ECF6\",\"gridcolor\":\"white\",\"gridwidth\":2,\"linecolor\":\"white\",\"showbackground\":true,\"ticks\":\"\",\"zerolinecolor\":\"white\"},\"zaxis\":{\"backgroundcolor\":\"#E5ECF6\",\"gridcolor\":\"white\",\"gridwidth\":2,\"linecolor\":\"white\",\"showbackground\":true,\"ticks\":\"\",\"zerolinecolor\":\"white\"}},\"shapedefaults\":{\"line\":{\"color\":\"#2a3f5f\"}},\"ternary\":{\"aaxis\":{\"gridcolor\":\"white\",\"linecolor\":\"white\",\"ticks\":\"\"},\"baxis\":{\"gridcolor\":\"white\",\"linecolor\":\"white\",\"ticks\":\"\"},\"bgcolor\":\"#E5ECF6\",\"caxis\":{\"gridcolor\":\"white\",\"linecolor\":\"white\",\"ticks\":\"\"}},\"title\":{\"x\":0.05},\"xaxis\":{\"automargin\":true,\"gridcolor\":\"white\",\"linecolor\":\"white\",\"ticks\":\"\",\"title\":{\"standoff\":15},\"zerolinecolor\":\"white\",\"zerolinewidth\":2},\"yaxis\":{\"automargin\":true,\"gridcolor\":\"white\",\"linecolor\":\"white\",\"ticks\":\"\",\"title\":{\"standoff\":15},\"zerolinecolor\":\"white\",\"zerolinewidth\":2}}}},                        {\"responsive\": true}                    ).then(function(){\n",
       "                            \n",
       "var gd = document.getElementById('e086fbc8-f224-4611-ac77-1803a12d2e40');\n",
       "var x = new MutationObserver(function (mutations, observer) {{\n",
       "        var display = window.getComputedStyle(gd).display;\n",
       "        if (!display || display === 'none') {{\n",
       "            console.log([gd, 'removed!']);\n",
       "            Plotly.purge(gd);\n",
       "            observer.disconnect();\n",
       "        }}\n",
       "}});\n",
       "\n",
       "// Listen for the removal of the full notebook cells\n",
       "var notebookContainer = gd.closest('#notebook-container');\n",
       "if (notebookContainer) {{\n",
       "    x.observe(notebookContainer, {childList: true});\n",
       "}}\n",
       "\n",
       "// Listen for the clearing of the current output cell\n",
       "var outputEl = gd.closest('.output');\n",
       "if (outputEl) {{\n",
       "    x.observe(outputEl, {childList: true});\n",
       "}}\n",
       "\n",
       "                        })                };                });            </script>        </div>"
      ]
     },
     "metadata": {},
     "output_type": "display_data"
    }
   ],
   "source": [
    "import pandas as pd\n",
    "us_cities = pd.read_csv(\"https://raw.githubusercontent.com/plotly/datasets/master/us-cities-top-1k.csv\")\n",
    "\n",
    "import plotly.express as px\n",
    "\n",
    "fig = px.scatter_mapbox(us_cities, lat=\"lat\", lon=\"lon\", hover_name=\"City\", hover_data=[\"State\", \"Population\"],\n",
    "                        color_discrete_sequence=[\"fuchsia\"], zoom=3, height=300)\n",
    "fig.update_layout(mapbox_style=\"open-street-map\")\n",
    "fig.update_layout(margin={\"r\":0,\"t\":0,\"l\":0,\"b\":0})\n",
    "fig.show()"
   ]
  },
  {
   "cell_type": "code",
   "execution_count": 191,
   "id": "83bae767",
   "metadata": {
    "scrolled": true
   },
   "outputs": [
    {
     "data": {
      "text/plain": [
       "['Constant',\n",
       " 'IdentityMap',\n",
       " 'NO_COLOR',\n",
       " 'Range',\n",
       " '__all__',\n",
       " '__builtins__',\n",
       " '__cached__',\n",
       " '__doc__',\n",
       " '__file__',\n",
       " '__loader__',\n",
       " '__name__',\n",
       " '__package__',\n",
       " '__path__',\n",
       " '__spec__',\n",
       " '_chart_types',\n",
       " '_core',\n",
       " '_doc',\n",
       " '_imshow',\n",
       " '_special_inputs',\n",
       " 'absolute_import',\n",
       " 'area',\n",
       " 'bar',\n",
       " 'bar_polar',\n",
       " 'box',\n",
       " 'choropleth',\n",
       " 'choropleth_mapbox',\n",
       " 'colors',\n",
       " 'data',\n",
       " 'defaults',\n",
       " 'density_contour',\n",
       " 'density_heatmap',\n",
       " 'density_mapbox',\n",
       " 'ecdf',\n",
       " 'funnel',\n",
       " 'funnel_area',\n",
       " 'get_trendline_results',\n",
       " 'histogram',\n",
       " 'icicle',\n",
       " 'imshow',\n",
       " 'imshow_utils',\n",
       " 'line',\n",
       " 'line_3d',\n",
       " 'line_geo',\n",
       " 'line_mapbox',\n",
       " 'line_polar',\n",
       " 'line_ternary',\n",
       " 'optional_imports',\n",
       " 'parallel_categories',\n",
       " 'parallel_coordinates',\n",
       " 'pd',\n",
       " 'pie',\n",
       " 'scatter',\n",
       " 'scatter_3d',\n",
       " 'scatter_geo',\n",
       " 'scatter_mapbox',\n",
       " 'scatter_matrix',\n",
       " 'scatter_polar',\n",
       " 'scatter_ternary',\n",
       " 'set_mapbox_access_token',\n",
       " 'strip',\n",
       " 'sunburst',\n",
       " 'timeline',\n",
       " 'treemap',\n",
       " 'trendline_functions',\n",
       " 'violin']"
      ]
     },
     "execution_count": 191,
     "metadata": {},
     "output_type": "execute_result"
    }
   ],
   "source": [
    "#import pandas as pd\n",
    "#us_cities = pd.read_csv(\"https://raw.githubusercontent.com/plotly/datasets/master/us-cities-top-1k.csv\")\n",
    "\n",
    "#import plotly.express as px\n",
    "\n",
    "dir(px)"
   ]
  },
  {
   "cell_type": "code",
   "execution_count": null,
   "id": "6d59d808",
   "metadata": {},
   "outputs": [],
   "source": [
    "px.scatter_mapbox("
   ]
  },
  {
   "cell_type": "code",
   "execution_count": 192,
   "id": "ee08b46f",
   "metadata": {},
   "outputs": [
    {
     "data": {
      "application/vnd.plotly.v1+json": {
       "config": {
        "plotlyServerURL": "https://plot.ly"
       },
       "data": [
        {
         "customdata": [
          [
           "Hoboken Terminal - Hudson St & Hudson Pl",
           3728
          ],
          [
           "Hoboken Terminal - River St & Hudson Pl",
           4415
          ],
          [
           "South Waterfront Walkway - Sinatra Dr & 1 St",
           4607
          ],
          [
           "12 St & Sinatra Dr N",
           1746
          ],
          [
           "14 St Ferry - 14 St & Shipyard Ln",
           2222
          ],
          [
           "Bloomfield St & 15 St",
           1193
          ],
          [
           "4 St & Grand St",
           961
          ],
          [
           "6 St & Grand St",
           990
          ],
          [
           "Clinton St & 7 St",
           684
          ],
          [
           "7 St & Monroe St",
           1190
          ],
          [
           "9 St HBLR - Jackson St & 8 St",
           1036
          ],
          [
           "Southwest Park - Jackson St & Observer Hwy",
           1226
          ],
          [
           "Madison St & 1 St",
           2048
          ],
          [
           "Mama Johnson Field - 4 St & Jackson St",
           556
          ],
          [
           "Grand St & 2 St",
           1506
          ],
          [
           "Columbus Park - Clinton St & 9 St",
           1452
          ],
          [
           "11 St & Washington St",
           2049
          ],
          [
           "Madison St & 10 St",
           876
          ],
          [
           "Willow Ave & 12 St",
           863
          ],
          [
           "Grand St & 14 St",
           1458
          ],
          [
           "Adams St & 11 St",
           690
          ],
          [
           "Church Sq Park - 5 St & Park Ave",
           1774
          ],
          [
           "8 St & Washington St",
           2205
          ],
          [
           "Paulus Hook",
           1237
          ],
          [
           "City Hall",
           1809
          ],
          [
           "Grove St PATH",
           4213
          ],
          [
           "Warren St",
           1425
          ],
          [
           "Newport Pkwy",
           2869
          ],
          [
           "Hamilton Park",
           2672
          ],
          [
           "JC Medical Center",
           1329
          ],
          [
           "Marin Light Rail",
           2250
          ],
          [
           "Columbus Drive",
           1533
          ],
          [
           "5 Corners Library",
           244
          ],
          [
           "Hilltop",
           740
          ],
          [
           "Baldwin at Montgomery",
           1010
          ],
          [
           "Oakland Ave",
           540
          ],
          [
           "Brunswick St",
           1100
          ],
          [
           "Pershing Field",
           776
          ],
          [
           "Jersey & 6th St",
           749
          ],
          [
           "Newark Ave",
           1430
          ],
          [
           "Christ Hospital",
           454
          ],
          [
           "Van Vorst Park",
           1302
          ],
          [
           "Essex Light Rail",
           617
          ],
          [
           "Union St",
           205
          ],
          [
           "Liberty Light Rail",
           1880
          ],
          [
           "Lincoln Park",
           695
          ],
          [
           "McGinley Square",
           1019
          ],
          [
           "Sip Ave",
           2238
          ],
          [
           "Riverview Park",
           588
          ],
          [
           "Heights Elevator",
           578
          ],
          [
           "Jackson Square",
           134
          ],
          [
           "Dey St",
           251
          ],
          [
           "Newport PATH",
           2293
          ],
          [
           "Morris Canal",
           1077
          ],
          [
           "Jersey & 3rd",
           860
          ],
          [
           "Monmouth and 6th",
           683
          ],
          [
           "Dixon Mills",
           794
          ],
          [
           "Astor Place",
           495
          ],
          [
           "Lafayette Park",
           764
          ],
          [
           "Leonard Gordon Park",
           298
          ],
          [
           "Brunswick & 6th",
           711
          ],
          [
           "Manila & 1st",
           1101
          ],
          [
           "Communipaw & Berry Lane",
           392
          ],
          [
           "Glenwood Ave",
           405
          ],
          [
           "Bergen Ave",
           728
          ],
          [
           "Washington St",
           2007
          ],
          [
           "Montgomery St",
           629
          ],
          [
           "Grand St",
           1168
          ],
          [
           "Journal Square",
           676
          ],
          [
           "Harborside",
           2103
          ],
          [
           "Hoboken Ave at Monmouth St",
           2462
          ],
          [
           "Columbus Dr at Exchange Pl",
           1983
          ],
          [
           "Grant Ave & MLK Dr",
           83
          ],
          [
           "Bergen Ave & Stegman St",
           216
          ]
         ],
         "hovertemplate": "<b>%{hovertext}</b><br><br>Count=%{customdata[1]}<br>Latitude=%{lat}<br>Longitude=%{lon}<br>Station Name=%{customdata[0]}<extra></extra>",
         "hovertext": [
          "Hoboken Terminal - Hudson St & Hudson Pl",
          "Hoboken Terminal - River St & Hudson Pl",
          "South Waterfront Walkway - Sinatra Dr & 1 St",
          "12 St & Sinatra Dr N",
          "14 St Ferry - 14 St & Shipyard Ln",
          "Bloomfield St & 15 St",
          "4 St & Grand St",
          "6 St & Grand St",
          "Clinton St & 7 St",
          "7 St & Monroe St",
          "9 St HBLR - Jackson St & 8 St",
          "Southwest Park - Jackson St & Observer Hwy",
          "Madison St & 1 St",
          "Mama Johnson Field - 4 St & Jackson St",
          "Grand St & 2 St",
          "Columbus Park - Clinton St & 9 St",
          "11 St & Washington St",
          "Madison St & 10 St",
          "Willow Ave & 12 St",
          "Grand St & 14 St",
          "Adams St & 11 St",
          "Church Sq Park - 5 St & Park Ave",
          "8 St & Washington St",
          "Paulus Hook",
          "City Hall",
          "Grove St PATH",
          "Warren St",
          "Newport Pkwy",
          "Hamilton Park",
          "JC Medical Center",
          "Marin Light Rail",
          "Columbus Drive",
          "5 Corners Library",
          "Hilltop",
          "Baldwin at Montgomery",
          "Oakland Ave",
          "Brunswick St",
          "Pershing Field",
          "Jersey & 6th St",
          "Newark Ave",
          "Christ Hospital",
          "Van Vorst Park",
          "Essex Light Rail",
          "Union St",
          "Liberty Light Rail",
          "Lincoln Park",
          "McGinley Square",
          "Sip Ave",
          "Riverview Park",
          "Heights Elevator",
          "Jackson Square",
          "Dey St",
          "Newport PATH",
          "Morris Canal",
          "Jersey & 3rd",
          "Monmouth and 6th",
          "Dixon Mills",
          "Astor Place",
          "Lafayette Park",
          "Leonard Gordon Park",
          "Brunswick & 6th",
          "Manila & 1st",
          "Communipaw & Berry Lane",
          "Glenwood Ave",
          "Bergen Ave",
          "Washington St",
          "Montgomery St",
          "Grand St",
          "Journal Square",
          "Harborside",
          "Hoboken Ave at Monmouth St",
          "Columbus Dr at Exchange Pl",
          "Grant Ave & MLK Dr",
          "Bergen Ave & Stegman St"
         ],
         "lat": [
          40.7359,
          40.7361,
          40.737,
          40.7506,
          40.753,
          40.7545,
          40.7423,
          40.7444,
          40.7454,
          40.7464,
          40.7479,
          40.7376,
          40.7388,
          40.7431,
          40.7391,
          40.7482,
          40.75,
          40.7499,
          40.7519,
          40.7541,
          40.7509,
          40.7427,
          40.746,
          40.7141,
          40.7177,
          40.7196,
          40.7211,
          40.7287,
          40.7276,
          40.7165,
          40.7146,
          40.7184,
          40.735,
          40.7312,
          40.7237,
          40.7376,
          40.7242,
          40.7427,
          40.7253,
          40.7215,
          40.7348,
          40.7185,
          40.7128,
          40.7182,
          40.7112,
          40.7246,
          40.7253,
          40.7309,
          40.7443,
          40.7487,
          40.7111,
          40.7377,
          40.7272,
          40.7124,
          40.7233,
          40.7257,
          40.7216,
          40.7193,
          40.7135,
          40.7459,
          40.726,
          40.7217,
          40.7144,
          40.7276,
          40.7221,
          40.7243,
          40.7194,
          40.7152,
          40.7337,
          40.7193,
          40.7352,
          40.7169,
          40.7092,
          40.7066
         ],
         "legendgroup": "",
         "lon": [
          -74.0303,
          -74.0291,
          -74.0278,
          -74.024,
          -74.0244,
          -74.0266,
          -74.0351,
          -74.0345,
          -74.0333,
          -74.038,
          -74.0384,
          -74.0417,
          -74.0393,
          -74.04,
          -74.0362,
          -74.0325,
          -74.0272,
          -74.0359,
          -74.0304,
          -74.0316,
          -74.0335,
          -74.0322,
          -74.0282,
          -74.0336,
          -74.0438,
          -74.0431,
          -74.0381,
          -74.0321,
          -74.0442,
          -74.0496,
          -74.0428,
          -74.0389,
          -74.0595,
          -74.0576,
          -74.0642,
          -74.0525,
          -74.0507,
          -74.0518,
          -74.0456,
          -74.0463,
          -74.0504,
          -74.0477,
          -74.0365,
          -74.0836,
          -74.0557,
          -74.0784,
          -74.0676,
          -74.0639,
          -74.044,
          -74.0404,
          -74.0789,
          -74.0669,
          -74.0338,
          -74.0385,
          -74.046,
          -74.0488,
          -74.05,
          -74.0713,
          -74.0629,
          -74.0573,
          -74.0504,
          -74.0429,
          -74.0666,
          -74.0711,
          -74.0715,
          -74.0355,
          -74.051,
          -74.0377,
          -74.0625,
          -74.0342,
          -74.047,
          -74.0328,
          -74.0808,
          -74.0867
         ],
         "marker": {
          "color": "#636efa",
          "size": [
           3728,
           4415,
           4607,
           1746,
           2222,
           1193,
           961,
           990,
           684,
           1190,
           1036,
           1226,
           2048,
           556,
           1506,
           1452,
           2049,
           876,
           863,
           1458,
           690,
           1774,
           2205,
           1237,
           1809,
           4213,
           1425,
           2869,
           2672,
           1329,
           2250,
           1533,
           244,
           740,
           1010,
           540,
           1100,
           776,
           749,
           1430,
           454,
           1302,
           617,
           205,
           1880,
           695,
           1019,
           2238,
           588,
           578,
           134,
           251,
           2293,
           1077,
           860,
           683,
           794,
           495,
           764,
           298,
           711,
           1101,
           392,
           405,
           728,
           2007,
           629,
           1168,
           676,
           2103,
           2462,
           1983,
           83,
           216
          ],
          "sizemode": "area",
          "sizeref": 11.5175
         },
         "mode": "markers",
         "name": "",
         "showlegend": false,
         "subplot": "mapbox",
         "type": "scattermapbox"
        }
       ],
       "layout": {
        "legend": {
         "itemsizing": "constant",
         "tracegroupgap": 0
        },
        "mapbox": {
         "center": {
          "lat": 40.73059324324324,
          "lon": -74.0464581081081
         },
         "domain": {
          "x": [
           0,
           1
          ],
          "y": [
           0,
           1
          ]
         },
         "style": "open-street-map",
         "zoom": 8
        },
        "margin": {
         "b": 0,
         "l": 0,
         "r": 0,
         "t": 0
        },
        "template": {
         "data": {
          "bar": [
           {
            "error_x": {
             "color": "#2a3f5f"
            },
            "error_y": {
             "color": "#2a3f5f"
            },
            "marker": {
             "line": {
              "color": "#E5ECF6",
              "width": 0.5
             },
             "pattern": {
              "fillmode": "overlay",
              "size": 10,
              "solidity": 0.2
             }
            },
            "type": "bar"
           }
          ],
          "barpolar": [
           {
            "marker": {
             "line": {
              "color": "#E5ECF6",
              "width": 0.5
             },
             "pattern": {
              "fillmode": "overlay",
              "size": 10,
              "solidity": 0.2
             }
            },
            "type": "barpolar"
           }
          ],
          "carpet": [
           {
            "aaxis": {
             "endlinecolor": "#2a3f5f",
             "gridcolor": "white",
             "linecolor": "white",
             "minorgridcolor": "white",
             "startlinecolor": "#2a3f5f"
            },
            "baxis": {
             "endlinecolor": "#2a3f5f",
             "gridcolor": "white",
             "linecolor": "white",
             "minorgridcolor": "white",
             "startlinecolor": "#2a3f5f"
            },
            "type": "carpet"
           }
          ],
          "choropleth": [
           {
            "colorbar": {
             "outlinewidth": 0,
             "ticks": ""
            },
            "type": "choropleth"
           }
          ],
          "contour": [
           {
            "colorbar": {
             "outlinewidth": 0,
             "ticks": ""
            },
            "colorscale": [
             [
              0,
              "#0d0887"
             ],
             [
              0.1111111111111111,
              "#46039f"
             ],
             [
              0.2222222222222222,
              "#7201a8"
             ],
             [
              0.3333333333333333,
              "#9c179e"
             ],
             [
              0.4444444444444444,
              "#bd3786"
             ],
             [
              0.5555555555555556,
              "#d8576b"
             ],
             [
              0.6666666666666666,
              "#ed7953"
             ],
             [
              0.7777777777777778,
              "#fb9f3a"
             ],
             [
              0.8888888888888888,
              "#fdca26"
             ],
             [
              1,
              "#f0f921"
             ]
            ],
            "type": "contour"
           }
          ],
          "contourcarpet": [
           {
            "colorbar": {
             "outlinewidth": 0,
             "ticks": ""
            },
            "type": "contourcarpet"
           }
          ],
          "heatmap": [
           {
            "colorbar": {
             "outlinewidth": 0,
             "ticks": ""
            },
            "colorscale": [
             [
              0,
              "#0d0887"
             ],
             [
              0.1111111111111111,
              "#46039f"
             ],
             [
              0.2222222222222222,
              "#7201a8"
             ],
             [
              0.3333333333333333,
              "#9c179e"
             ],
             [
              0.4444444444444444,
              "#bd3786"
             ],
             [
              0.5555555555555556,
              "#d8576b"
             ],
             [
              0.6666666666666666,
              "#ed7953"
             ],
             [
              0.7777777777777778,
              "#fb9f3a"
             ],
             [
              0.8888888888888888,
              "#fdca26"
             ],
             [
              1,
              "#f0f921"
             ]
            ],
            "type": "heatmap"
           }
          ],
          "heatmapgl": [
           {
            "colorbar": {
             "outlinewidth": 0,
             "ticks": ""
            },
            "colorscale": [
             [
              0,
              "#0d0887"
             ],
             [
              0.1111111111111111,
              "#46039f"
             ],
             [
              0.2222222222222222,
              "#7201a8"
             ],
             [
              0.3333333333333333,
              "#9c179e"
             ],
             [
              0.4444444444444444,
              "#bd3786"
             ],
             [
              0.5555555555555556,
              "#d8576b"
             ],
             [
              0.6666666666666666,
              "#ed7953"
             ],
             [
              0.7777777777777778,
              "#fb9f3a"
             ],
             [
              0.8888888888888888,
              "#fdca26"
             ],
             [
              1,
              "#f0f921"
             ]
            ],
            "type": "heatmapgl"
           }
          ],
          "histogram": [
           {
            "marker": {
             "pattern": {
              "fillmode": "overlay",
              "size": 10,
              "solidity": 0.2
             }
            },
            "type": "histogram"
           }
          ],
          "histogram2d": [
           {
            "colorbar": {
             "outlinewidth": 0,
             "ticks": ""
            },
            "colorscale": [
             [
              0,
              "#0d0887"
             ],
             [
              0.1111111111111111,
              "#46039f"
             ],
             [
              0.2222222222222222,
              "#7201a8"
             ],
             [
              0.3333333333333333,
              "#9c179e"
             ],
             [
              0.4444444444444444,
              "#bd3786"
             ],
             [
              0.5555555555555556,
              "#d8576b"
             ],
             [
              0.6666666666666666,
              "#ed7953"
             ],
             [
              0.7777777777777778,
              "#fb9f3a"
             ],
             [
              0.8888888888888888,
              "#fdca26"
             ],
             [
              1,
              "#f0f921"
             ]
            ],
            "type": "histogram2d"
           }
          ],
          "histogram2dcontour": [
           {
            "colorbar": {
             "outlinewidth": 0,
             "ticks": ""
            },
            "colorscale": [
             [
              0,
              "#0d0887"
             ],
             [
              0.1111111111111111,
              "#46039f"
             ],
             [
              0.2222222222222222,
              "#7201a8"
             ],
             [
              0.3333333333333333,
              "#9c179e"
             ],
             [
              0.4444444444444444,
              "#bd3786"
             ],
             [
              0.5555555555555556,
              "#d8576b"
             ],
             [
              0.6666666666666666,
              "#ed7953"
             ],
             [
              0.7777777777777778,
              "#fb9f3a"
             ],
             [
              0.8888888888888888,
              "#fdca26"
             ],
             [
              1,
              "#f0f921"
             ]
            ],
            "type": "histogram2dcontour"
           }
          ],
          "mesh3d": [
           {
            "colorbar": {
             "outlinewidth": 0,
             "ticks": ""
            },
            "type": "mesh3d"
           }
          ],
          "parcoords": [
           {
            "line": {
             "colorbar": {
              "outlinewidth": 0,
              "ticks": ""
             }
            },
            "type": "parcoords"
           }
          ],
          "pie": [
           {
            "automargin": true,
            "type": "pie"
           }
          ],
          "scatter": [
           {
            "marker": {
             "colorbar": {
              "outlinewidth": 0,
              "ticks": ""
             }
            },
            "type": "scatter"
           }
          ],
          "scatter3d": [
           {
            "line": {
             "colorbar": {
              "outlinewidth": 0,
              "ticks": ""
             }
            },
            "marker": {
             "colorbar": {
              "outlinewidth": 0,
              "ticks": ""
             }
            },
            "type": "scatter3d"
           }
          ],
          "scattercarpet": [
           {
            "marker": {
             "colorbar": {
              "outlinewidth": 0,
              "ticks": ""
             }
            },
            "type": "scattercarpet"
           }
          ],
          "scattergeo": [
           {
            "marker": {
             "colorbar": {
              "outlinewidth": 0,
              "ticks": ""
             }
            },
            "type": "scattergeo"
           }
          ],
          "scattergl": [
           {
            "marker": {
             "colorbar": {
              "outlinewidth": 0,
              "ticks": ""
             }
            },
            "type": "scattergl"
           }
          ],
          "scattermapbox": [
           {
            "marker": {
             "colorbar": {
              "outlinewidth": 0,
              "ticks": ""
             }
            },
            "type": "scattermapbox"
           }
          ],
          "scatterpolar": [
           {
            "marker": {
             "colorbar": {
              "outlinewidth": 0,
              "ticks": ""
             }
            },
            "type": "scatterpolar"
           }
          ],
          "scatterpolargl": [
           {
            "marker": {
             "colorbar": {
              "outlinewidth": 0,
              "ticks": ""
             }
            },
            "type": "scatterpolargl"
           }
          ],
          "scatterternary": [
           {
            "marker": {
             "colorbar": {
              "outlinewidth": 0,
              "ticks": ""
             }
            },
            "type": "scatterternary"
           }
          ],
          "surface": [
           {
            "colorbar": {
             "outlinewidth": 0,
             "ticks": ""
            },
            "colorscale": [
             [
              0,
              "#0d0887"
             ],
             [
              0.1111111111111111,
              "#46039f"
             ],
             [
              0.2222222222222222,
              "#7201a8"
             ],
             [
              0.3333333333333333,
              "#9c179e"
             ],
             [
              0.4444444444444444,
              "#bd3786"
             ],
             [
              0.5555555555555556,
              "#d8576b"
             ],
             [
              0.6666666666666666,
              "#ed7953"
             ],
             [
              0.7777777777777778,
              "#fb9f3a"
             ],
             [
              0.8888888888888888,
              "#fdca26"
             ],
             [
              1,
              "#f0f921"
             ]
            ],
            "type": "surface"
           }
          ],
          "table": [
           {
            "cells": {
             "fill": {
              "color": "#EBF0F8"
             },
             "line": {
              "color": "white"
             }
            },
            "header": {
             "fill": {
              "color": "#C8D4E3"
             },
             "line": {
              "color": "white"
             }
            },
            "type": "table"
           }
          ]
         },
         "layout": {
          "annotationdefaults": {
           "arrowcolor": "#2a3f5f",
           "arrowhead": 0,
           "arrowwidth": 1
          },
          "autotypenumbers": "strict",
          "coloraxis": {
           "colorbar": {
            "outlinewidth": 0,
            "ticks": ""
           }
          },
          "colorscale": {
           "diverging": [
            [
             0,
             "#8e0152"
            ],
            [
             0.1,
             "#c51b7d"
            ],
            [
             0.2,
             "#de77ae"
            ],
            [
             0.3,
             "#f1b6da"
            ],
            [
             0.4,
             "#fde0ef"
            ],
            [
             0.5,
             "#f7f7f7"
            ],
            [
             0.6,
             "#e6f5d0"
            ],
            [
             0.7,
             "#b8e186"
            ],
            [
             0.8,
             "#7fbc41"
            ],
            [
             0.9,
             "#4d9221"
            ],
            [
             1,
             "#276419"
            ]
           ],
           "sequential": [
            [
             0,
             "#0d0887"
            ],
            [
             0.1111111111111111,
             "#46039f"
            ],
            [
             0.2222222222222222,
             "#7201a8"
            ],
            [
             0.3333333333333333,
             "#9c179e"
            ],
            [
             0.4444444444444444,
             "#bd3786"
            ],
            [
             0.5555555555555556,
             "#d8576b"
            ],
            [
             0.6666666666666666,
             "#ed7953"
            ],
            [
             0.7777777777777778,
             "#fb9f3a"
            ],
            [
             0.8888888888888888,
             "#fdca26"
            ],
            [
             1,
             "#f0f921"
            ]
           ],
           "sequentialminus": [
            [
             0,
             "#0d0887"
            ],
            [
             0.1111111111111111,
             "#46039f"
            ],
            [
             0.2222222222222222,
             "#7201a8"
            ],
            [
             0.3333333333333333,
             "#9c179e"
            ],
            [
             0.4444444444444444,
             "#bd3786"
            ],
            [
             0.5555555555555556,
             "#d8576b"
            ],
            [
             0.6666666666666666,
             "#ed7953"
            ],
            [
             0.7777777777777778,
             "#fb9f3a"
            ],
            [
             0.8888888888888888,
             "#fdca26"
            ],
            [
             1,
             "#f0f921"
            ]
           ]
          },
          "colorway": [
           "#636efa",
           "#EF553B",
           "#00cc96",
           "#ab63fa",
           "#FFA15A",
           "#19d3f3",
           "#FF6692",
           "#B6E880",
           "#FF97FF",
           "#FECB52"
          ],
          "font": {
           "color": "#2a3f5f"
          },
          "geo": {
           "bgcolor": "white",
           "lakecolor": "white",
           "landcolor": "#E5ECF6",
           "showlakes": true,
           "showland": true,
           "subunitcolor": "white"
          },
          "hoverlabel": {
           "align": "left"
          },
          "hovermode": "closest",
          "mapbox": {
           "style": "light"
          },
          "paper_bgcolor": "white",
          "plot_bgcolor": "#E5ECF6",
          "polar": {
           "angularaxis": {
            "gridcolor": "white",
            "linecolor": "white",
            "ticks": ""
           },
           "bgcolor": "#E5ECF6",
           "radialaxis": {
            "gridcolor": "white",
            "linecolor": "white",
            "ticks": ""
           }
          },
          "scene": {
           "xaxis": {
            "backgroundcolor": "#E5ECF6",
            "gridcolor": "white",
            "gridwidth": 2,
            "linecolor": "white",
            "showbackground": true,
            "ticks": "",
            "zerolinecolor": "white"
           },
           "yaxis": {
            "backgroundcolor": "#E5ECF6",
            "gridcolor": "white",
            "gridwidth": 2,
            "linecolor": "white",
            "showbackground": true,
            "ticks": "",
            "zerolinecolor": "white"
           },
           "zaxis": {
            "backgroundcolor": "#E5ECF6",
            "gridcolor": "white",
            "gridwidth": 2,
            "linecolor": "white",
            "showbackground": true,
            "ticks": "",
            "zerolinecolor": "white"
           }
          },
          "shapedefaults": {
           "line": {
            "color": "#2a3f5f"
           }
          },
          "ternary": {
           "aaxis": {
            "gridcolor": "white",
            "linecolor": "white",
            "ticks": ""
           },
           "baxis": {
            "gridcolor": "white",
            "linecolor": "white",
            "ticks": ""
           },
           "bgcolor": "#E5ECF6",
           "caxis": {
            "gridcolor": "white",
            "linecolor": "white",
            "ticks": ""
           }
          },
          "title": {
           "x": 0.05
          },
          "xaxis": {
           "automargin": true,
           "gridcolor": "white",
           "linecolor": "white",
           "ticks": "",
           "title": {
            "standoff": 15
           },
           "zerolinecolor": "white",
           "zerolinewidth": 2
          },
          "yaxis": {
           "automargin": true,
           "gridcolor": "white",
           "linecolor": "white",
           "ticks": "",
           "title": {
            "standoff": 15
           },
           "zerolinecolor": "white",
           "zerolinewidth": 2
          }
         }
        }
       }
      },
      "text/html": [
       "<div>                            <div id=\"2ab05037-775d-4992-b70d-7af5a9771951\" class=\"plotly-graph-div\" style=\"height:525px; width:100%;\"></div>            <script type=\"text/javascript\">                require([\"plotly\"], function(Plotly) {                    window.PLOTLYENV=window.PLOTLYENV || {};                                    if (document.getElementById(\"2ab05037-775d-4992-b70d-7af5a9771951\")) {                    Plotly.newPlot(                        \"2ab05037-775d-4992-b70d-7af5a9771951\",                        [{\"customdata\":[[\"Hoboken Terminal - Hudson St & Hudson Pl\",3728],[\"Hoboken Terminal - River St & Hudson Pl\",4415],[\"South Waterfront Walkway - Sinatra Dr & 1 St\",4607],[\"12 St & Sinatra Dr N\",1746],[\"14 St Ferry - 14 St & Shipyard Ln\",2222],[\"Bloomfield St & 15 St\",1193],[\"4 St & Grand St\",961],[\"6 St & Grand St\",990],[\"Clinton St & 7 St\",684],[\"7 St & Monroe St\",1190],[\"9 St HBLR - Jackson St & 8 St\",1036],[\"Southwest Park - Jackson St & Observer Hwy\",1226],[\"Madison St & 1 St\",2048],[\"Mama Johnson Field - 4 St & Jackson St\",556],[\"Grand St & 2 St\",1506],[\"Columbus Park - Clinton St & 9 St\",1452],[\"11 St & Washington St\",2049],[\"Madison St & 10 St\",876],[\"Willow Ave & 12 St\",863],[\"Grand St & 14 St\",1458],[\"Adams St & 11 St\",690],[\"Church Sq Park - 5 St & Park Ave\",1774],[\"8 St & Washington St\",2205],[\"Paulus Hook\",1237],[\"City Hall\",1809],[\"Grove St PATH\",4213],[\"Warren St\",1425],[\"Newport Pkwy\",2869],[\"Hamilton Park\",2672],[\"JC Medical Center\",1329],[\"Marin Light Rail\",2250],[\"Columbus Drive\",1533],[\"5 Corners Library\",244],[\"Hilltop\",740],[\"Baldwin at Montgomery\",1010],[\"Oakland Ave\",540],[\"Brunswick St\",1100],[\"Pershing Field\",776],[\"Jersey & 6th St\",749],[\"Newark Ave\",1430],[\"Christ Hospital\",454],[\"Van Vorst Park\",1302],[\"Essex Light Rail\",617],[\"Union St\",205],[\"Liberty Light Rail\",1880],[\"Lincoln Park\",695],[\"McGinley Square\",1019],[\"Sip Ave\",2238],[\"Riverview Park\",588],[\"Heights Elevator\",578],[\"Jackson Square\",134],[\"Dey St\",251],[\"Newport PATH\",2293],[\"Morris Canal\",1077],[\"Jersey & 3rd\",860],[\"Monmouth and 6th\",683],[\"Dixon Mills\",794],[\"Astor Place\",495],[\"Lafayette Park\",764],[\"Leonard Gordon Park\",298],[\"Brunswick & 6th\",711],[\"Manila & 1st\",1101],[\"Communipaw & Berry Lane\",392],[\"Glenwood Ave\",405],[\"Bergen Ave\",728],[\"Washington St\",2007],[\"Montgomery St\",629],[\"Grand St\",1168],[\"Journal Square\",676],[\"Harborside\",2103],[\"Hoboken Ave at Monmouth St\",2462],[\"Columbus Dr at Exchange Pl\",1983],[\"Grant Ave & MLK Dr\",83],[\"Bergen Ave & Stegman St\",216]],\"hovertemplate\":\"<b>%{hovertext}</b><br><br>Count=%{customdata[1]}<br>Latitude=%{lat}<br>Longitude=%{lon}<br>Station Name=%{customdata[0]}<extra></extra>\",\"hovertext\":[\"Hoboken Terminal - Hudson St & Hudson Pl\",\"Hoboken Terminal - River St & Hudson Pl\",\"South Waterfront Walkway - Sinatra Dr & 1 St\",\"12 St & Sinatra Dr N\",\"14 St Ferry - 14 St & Shipyard Ln\",\"Bloomfield St & 15 St\",\"4 St & Grand St\",\"6 St & Grand St\",\"Clinton St & 7 St\",\"7 St & Monroe St\",\"9 St HBLR - Jackson St & 8 St\",\"Southwest Park - Jackson St & Observer Hwy\",\"Madison St & 1 St\",\"Mama Johnson Field - 4 St & Jackson St\",\"Grand St & 2 St\",\"Columbus Park - Clinton St & 9 St\",\"11 St & Washington St\",\"Madison St & 10 St\",\"Willow Ave & 12 St\",\"Grand St & 14 St\",\"Adams St & 11 St\",\"Church Sq Park - 5 St & Park Ave\",\"8 St & Washington St\",\"Paulus Hook\",\"City Hall\",\"Grove St PATH\",\"Warren St\",\"Newport Pkwy\",\"Hamilton Park\",\"JC Medical Center\",\"Marin Light Rail\",\"Columbus Drive\",\"5 Corners Library\",\"Hilltop\",\"Baldwin at Montgomery\",\"Oakland Ave\",\"Brunswick St\",\"Pershing Field\",\"Jersey & 6th St\",\"Newark Ave\",\"Christ Hospital\",\"Van Vorst Park\",\"Essex Light Rail\",\"Union St\",\"Liberty Light Rail\",\"Lincoln Park\",\"McGinley Square\",\"Sip Ave\",\"Riverview Park\",\"Heights Elevator\",\"Jackson Square\",\"Dey St\",\"Newport PATH\",\"Morris Canal\",\"Jersey & 3rd\",\"Monmouth and 6th\",\"Dixon Mills\",\"Astor Place\",\"Lafayette Park\",\"Leonard Gordon Park\",\"Brunswick & 6th\",\"Manila & 1st\",\"Communipaw & Berry Lane\",\"Glenwood Ave\",\"Bergen Ave\",\"Washington St\",\"Montgomery St\",\"Grand St\",\"Journal Square\",\"Harborside\",\"Hoboken Ave at Monmouth St\",\"Columbus Dr at Exchange Pl\",\"Grant Ave & MLK Dr\",\"Bergen Ave & Stegman St\"],\"lat\":[40.7359,40.7361,40.737,40.7506,40.753,40.7545,40.7423,40.7444,40.7454,40.7464,40.7479,40.7376,40.7388,40.7431,40.7391,40.7482,40.75,40.7499,40.7519,40.7541,40.7509,40.7427,40.746,40.7141,40.7177,40.7196,40.7211,40.7287,40.7276,40.7165,40.7146,40.7184,40.735,40.7312,40.7237,40.7376,40.7242,40.7427,40.7253,40.7215,40.7348,40.7185,40.7128,40.7182,40.7112,40.7246,40.7253,40.7309,40.7443,40.7487,40.7111,40.7377,40.7272,40.7124,40.7233,40.7257,40.7216,40.7193,40.7135,40.7459,40.726,40.7217,40.7144,40.7276,40.7221,40.7243,40.7194,40.7152,40.7337,40.7193,40.7352,40.7169,40.7092,40.7066],\"legendgroup\":\"\",\"lon\":[-74.0303,-74.0291,-74.0278,-74.024,-74.0244,-74.0266,-74.0351,-74.0345,-74.0333,-74.038,-74.0384,-74.0417,-74.0393,-74.04,-74.0362,-74.0325,-74.0272,-74.0359,-74.0304,-74.0316,-74.0335,-74.0322,-74.0282,-74.0336,-74.0438,-74.0431,-74.0381,-74.0321,-74.0442,-74.0496,-74.0428,-74.0389,-74.0595,-74.0576,-74.0642,-74.0525,-74.0507,-74.0518,-74.0456,-74.0463,-74.0504,-74.0477,-74.0365,-74.0836,-74.0557,-74.0784,-74.0676,-74.0639,-74.044,-74.0404,-74.0789,-74.0669,-74.0338,-74.0385,-74.046,-74.0488,-74.05,-74.0713,-74.0629,-74.0573,-74.0504,-74.0429,-74.0666,-74.0711,-74.0715,-74.0355,-74.051,-74.0377,-74.0625,-74.0342,-74.047,-74.0328,-74.0808,-74.0867],\"marker\":{\"color\":\"#636efa\",\"size\":[3728,4415,4607,1746,2222,1193,961,990,684,1190,1036,1226,2048,556,1506,1452,2049,876,863,1458,690,1774,2205,1237,1809,4213,1425,2869,2672,1329,2250,1533,244,740,1010,540,1100,776,749,1430,454,1302,617,205,1880,695,1019,2238,588,578,134,251,2293,1077,860,683,794,495,764,298,711,1101,392,405,728,2007,629,1168,676,2103,2462,1983,83,216],\"sizemode\":\"area\",\"sizeref\":11.5175},\"mode\":\"markers\",\"name\":\"\",\"showlegend\":false,\"subplot\":\"mapbox\",\"type\":\"scattermapbox\"}],                        {\"legend\":{\"itemsizing\":\"constant\",\"tracegroupgap\":0},\"mapbox\":{\"center\":{\"lat\":40.73059324324324,\"lon\":-74.0464581081081},\"domain\":{\"x\":[0.0,1.0],\"y\":[0.0,1.0]},\"style\":\"open-street-map\",\"zoom\":8},\"margin\":{\"b\":0,\"l\":0,\"r\":0,\"t\":0},\"template\":{\"data\":{\"bar\":[{\"error_x\":{\"color\":\"#2a3f5f\"},\"error_y\":{\"color\":\"#2a3f5f\"},\"marker\":{\"line\":{\"color\":\"#E5ECF6\",\"width\":0.5},\"pattern\":{\"fillmode\":\"overlay\",\"size\":10,\"solidity\":0.2}},\"type\":\"bar\"}],\"barpolar\":[{\"marker\":{\"line\":{\"color\":\"#E5ECF6\",\"width\":0.5},\"pattern\":{\"fillmode\":\"overlay\",\"size\":10,\"solidity\":0.2}},\"type\":\"barpolar\"}],\"carpet\":[{\"aaxis\":{\"endlinecolor\":\"#2a3f5f\",\"gridcolor\":\"white\",\"linecolor\":\"white\",\"minorgridcolor\":\"white\",\"startlinecolor\":\"#2a3f5f\"},\"baxis\":{\"endlinecolor\":\"#2a3f5f\",\"gridcolor\":\"white\",\"linecolor\":\"white\",\"minorgridcolor\":\"white\",\"startlinecolor\":\"#2a3f5f\"},\"type\":\"carpet\"}],\"choropleth\":[{\"colorbar\":{\"outlinewidth\":0,\"ticks\":\"\"},\"type\":\"choropleth\"}],\"contour\":[{\"colorbar\":{\"outlinewidth\":0,\"ticks\":\"\"},\"colorscale\":[[0.0,\"#0d0887\"],[0.1111111111111111,\"#46039f\"],[0.2222222222222222,\"#7201a8\"],[0.3333333333333333,\"#9c179e\"],[0.4444444444444444,\"#bd3786\"],[0.5555555555555556,\"#d8576b\"],[0.6666666666666666,\"#ed7953\"],[0.7777777777777778,\"#fb9f3a\"],[0.8888888888888888,\"#fdca26\"],[1.0,\"#f0f921\"]],\"type\":\"contour\"}],\"contourcarpet\":[{\"colorbar\":{\"outlinewidth\":0,\"ticks\":\"\"},\"type\":\"contourcarpet\"}],\"heatmap\":[{\"colorbar\":{\"outlinewidth\":0,\"ticks\":\"\"},\"colorscale\":[[0.0,\"#0d0887\"],[0.1111111111111111,\"#46039f\"],[0.2222222222222222,\"#7201a8\"],[0.3333333333333333,\"#9c179e\"],[0.4444444444444444,\"#bd3786\"],[0.5555555555555556,\"#d8576b\"],[0.6666666666666666,\"#ed7953\"],[0.7777777777777778,\"#fb9f3a\"],[0.8888888888888888,\"#fdca26\"],[1.0,\"#f0f921\"]],\"type\":\"heatmap\"}],\"heatmapgl\":[{\"colorbar\":{\"outlinewidth\":0,\"ticks\":\"\"},\"colorscale\":[[0.0,\"#0d0887\"],[0.1111111111111111,\"#46039f\"],[0.2222222222222222,\"#7201a8\"],[0.3333333333333333,\"#9c179e\"],[0.4444444444444444,\"#bd3786\"],[0.5555555555555556,\"#d8576b\"],[0.6666666666666666,\"#ed7953\"],[0.7777777777777778,\"#fb9f3a\"],[0.8888888888888888,\"#fdca26\"],[1.0,\"#f0f921\"]],\"type\":\"heatmapgl\"}],\"histogram\":[{\"marker\":{\"pattern\":{\"fillmode\":\"overlay\",\"size\":10,\"solidity\":0.2}},\"type\":\"histogram\"}],\"histogram2d\":[{\"colorbar\":{\"outlinewidth\":0,\"ticks\":\"\"},\"colorscale\":[[0.0,\"#0d0887\"],[0.1111111111111111,\"#46039f\"],[0.2222222222222222,\"#7201a8\"],[0.3333333333333333,\"#9c179e\"],[0.4444444444444444,\"#bd3786\"],[0.5555555555555556,\"#d8576b\"],[0.6666666666666666,\"#ed7953\"],[0.7777777777777778,\"#fb9f3a\"],[0.8888888888888888,\"#fdca26\"],[1.0,\"#f0f921\"]],\"type\":\"histogram2d\"}],\"histogram2dcontour\":[{\"colorbar\":{\"outlinewidth\":0,\"ticks\":\"\"},\"colorscale\":[[0.0,\"#0d0887\"],[0.1111111111111111,\"#46039f\"],[0.2222222222222222,\"#7201a8\"],[0.3333333333333333,\"#9c179e\"],[0.4444444444444444,\"#bd3786\"],[0.5555555555555556,\"#d8576b\"],[0.6666666666666666,\"#ed7953\"],[0.7777777777777778,\"#fb9f3a\"],[0.8888888888888888,\"#fdca26\"],[1.0,\"#f0f921\"]],\"type\":\"histogram2dcontour\"}],\"mesh3d\":[{\"colorbar\":{\"outlinewidth\":0,\"ticks\":\"\"},\"type\":\"mesh3d\"}],\"parcoords\":[{\"line\":{\"colorbar\":{\"outlinewidth\":0,\"ticks\":\"\"}},\"type\":\"parcoords\"}],\"pie\":[{\"automargin\":true,\"type\":\"pie\"}],\"scatter\":[{\"marker\":{\"colorbar\":{\"outlinewidth\":0,\"ticks\":\"\"}},\"type\":\"scatter\"}],\"scatter3d\":[{\"line\":{\"colorbar\":{\"outlinewidth\":0,\"ticks\":\"\"}},\"marker\":{\"colorbar\":{\"outlinewidth\":0,\"ticks\":\"\"}},\"type\":\"scatter3d\"}],\"scattercarpet\":[{\"marker\":{\"colorbar\":{\"outlinewidth\":0,\"ticks\":\"\"}},\"type\":\"scattercarpet\"}],\"scattergeo\":[{\"marker\":{\"colorbar\":{\"outlinewidth\":0,\"ticks\":\"\"}},\"type\":\"scattergeo\"}],\"scattergl\":[{\"marker\":{\"colorbar\":{\"outlinewidth\":0,\"ticks\":\"\"}},\"type\":\"scattergl\"}],\"scattermapbox\":[{\"marker\":{\"colorbar\":{\"outlinewidth\":0,\"ticks\":\"\"}},\"type\":\"scattermapbox\"}],\"scatterpolar\":[{\"marker\":{\"colorbar\":{\"outlinewidth\":0,\"ticks\":\"\"}},\"type\":\"scatterpolar\"}],\"scatterpolargl\":[{\"marker\":{\"colorbar\":{\"outlinewidth\":0,\"ticks\":\"\"}},\"type\":\"scatterpolargl\"}],\"scatterternary\":[{\"marker\":{\"colorbar\":{\"outlinewidth\":0,\"ticks\":\"\"}},\"type\":\"scatterternary\"}],\"surface\":[{\"colorbar\":{\"outlinewidth\":0,\"ticks\":\"\"},\"colorscale\":[[0.0,\"#0d0887\"],[0.1111111111111111,\"#46039f\"],[0.2222222222222222,\"#7201a8\"],[0.3333333333333333,\"#9c179e\"],[0.4444444444444444,\"#bd3786\"],[0.5555555555555556,\"#d8576b\"],[0.6666666666666666,\"#ed7953\"],[0.7777777777777778,\"#fb9f3a\"],[0.8888888888888888,\"#fdca26\"],[1.0,\"#f0f921\"]],\"type\":\"surface\"}],\"table\":[{\"cells\":{\"fill\":{\"color\":\"#EBF0F8\"},\"line\":{\"color\":\"white\"}},\"header\":{\"fill\":{\"color\":\"#C8D4E3\"},\"line\":{\"color\":\"white\"}},\"type\":\"table\"}]},\"layout\":{\"annotationdefaults\":{\"arrowcolor\":\"#2a3f5f\",\"arrowhead\":0,\"arrowwidth\":1},\"autotypenumbers\":\"strict\",\"coloraxis\":{\"colorbar\":{\"outlinewidth\":0,\"ticks\":\"\"}},\"colorscale\":{\"diverging\":[[0,\"#8e0152\"],[0.1,\"#c51b7d\"],[0.2,\"#de77ae\"],[0.3,\"#f1b6da\"],[0.4,\"#fde0ef\"],[0.5,\"#f7f7f7\"],[0.6,\"#e6f5d0\"],[0.7,\"#b8e186\"],[0.8,\"#7fbc41\"],[0.9,\"#4d9221\"],[1,\"#276419\"]],\"sequential\":[[0.0,\"#0d0887\"],[0.1111111111111111,\"#46039f\"],[0.2222222222222222,\"#7201a8\"],[0.3333333333333333,\"#9c179e\"],[0.4444444444444444,\"#bd3786\"],[0.5555555555555556,\"#d8576b\"],[0.6666666666666666,\"#ed7953\"],[0.7777777777777778,\"#fb9f3a\"],[0.8888888888888888,\"#fdca26\"],[1.0,\"#f0f921\"]],\"sequentialminus\":[[0.0,\"#0d0887\"],[0.1111111111111111,\"#46039f\"],[0.2222222222222222,\"#7201a8\"],[0.3333333333333333,\"#9c179e\"],[0.4444444444444444,\"#bd3786\"],[0.5555555555555556,\"#d8576b\"],[0.6666666666666666,\"#ed7953\"],[0.7777777777777778,\"#fb9f3a\"],[0.8888888888888888,\"#fdca26\"],[1.0,\"#f0f921\"]]},\"colorway\":[\"#636efa\",\"#EF553B\",\"#00cc96\",\"#ab63fa\",\"#FFA15A\",\"#19d3f3\",\"#FF6692\",\"#B6E880\",\"#FF97FF\",\"#FECB52\"],\"font\":{\"color\":\"#2a3f5f\"},\"geo\":{\"bgcolor\":\"white\",\"lakecolor\":\"white\",\"landcolor\":\"#E5ECF6\",\"showlakes\":true,\"showland\":true,\"subunitcolor\":\"white\"},\"hoverlabel\":{\"align\":\"left\"},\"hovermode\":\"closest\",\"mapbox\":{\"style\":\"light\"},\"paper_bgcolor\":\"white\",\"plot_bgcolor\":\"#E5ECF6\",\"polar\":{\"angularaxis\":{\"gridcolor\":\"white\",\"linecolor\":\"white\",\"ticks\":\"\"},\"bgcolor\":\"#E5ECF6\",\"radialaxis\":{\"gridcolor\":\"white\",\"linecolor\":\"white\",\"ticks\":\"\"}},\"scene\":{\"xaxis\":{\"backgroundcolor\":\"#E5ECF6\",\"gridcolor\":\"white\",\"gridwidth\":2,\"linecolor\":\"white\",\"showbackground\":true,\"ticks\":\"\",\"zerolinecolor\":\"white\"},\"yaxis\":{\"backgroundcolor\":\"#E5ECF6\",\"gridcolor\":\"white\",\"gridwidth\":2,\"linecolor\":\"white\",\"showbackground\":true,\"ticks\":\"\",\"zerolinecolor\":\"white\"},\"zaxis\":{\"backgroundcolor\":\"#E5ECF6\",\"gridcolor\":\"white\",\"gridwidth\":2,\"linecolor\":\"white\",\"showbackground\":true,\"ticks\":\"\",\"zerolinecolor\":\"white\"}},\"shapedefaults\":{\"line\":{\"color\":\"#2a3f5f\"}},\"ternary\":{\"aaxis\":{\"gridcolor\":\"white\",\"linecolor\":\"white\",\"ticks\":\"\"},\"baxis\":{\"gridcolor\":\"white\",\"linecolor\":\"white\",\"ticks\":\"\"},\"bgcolor\":\"#E5ECF6\",\"caxis\":{\"gridcolor\":\"white\",\"linecolor\":\"white\",\"ticks\":\"\"}},\"title\":{\"x\":0.05},\"xaxis\":{\"automargin\":true,\"gridcolor\":\"white\",\"linecolor\":\"white\",\"ticks\":\"\",\"title\":{\"standoff\":15},\"zerolinecolor\":\"white\",\"zerolinewidth\":2},\"yaxis\":{\"automargin\":true,\"gridcolor\":\"white\",\"linecolor\":\"white\",\"ticks\":\"\",\"title\":{\"standoff\":15},\"zerolinecolor\":\"white\",\"zerolinewidth\":2}}}},                        {\"responsive\": true}                    ).then(function(){\n",
       "                            \n",
       "var gd = document.getElementById('2ab05037-775d-4992-b70d-7af5a9771951');\n",
       "var x = new MutationObserver(function (mutations, observer) {{\n",
       "        var display = window.getComputedStyle(gd).display;\n",
       "        if (!display || display === 'none') {{\n",
       "            console.log([gd, 'removed!']);\n",
       "            Plotly.purge(gd);\n",
       "            observer.disconnect();\n",
       "        }}\n",
       "}});\n",
       "\n",
       "// Listen for the removal of the full notebook cells\n",
       "var notebookContainer = gd.closest('#notebook-container');\n",
       "if (notebookContainer) {{\n",
       "    x.observe(notebookContainer, {childList: true});\n",
       "}}\n",
       "\n",
       "// Listen for the clearing of the current output cell\n",
       "var outputEl = gd.closest('.output');\n",
       "if (outputEl) {{\n",
       "    x.observe(outputEl, {childList: true});\n",
       "}}\n",
       "\n",
       "                        })                };                });            </script>        </div>"
      ]
     },
     "metadata": {},
     "output_type": "display_data"
    }
   ],
   "source": [
    "fig = px.scatter_mapbox(\n",
    "    jc_llcs,\n",
    "    lat=\"Latitude\", lon=\"Longitude\",\n",
    "    hover_name=\"Station Name\",\n",
    "    hover_data=[\"Station Name\", \"Count\"],\n",
    "    size='Count',\n",
    "    #color_discrete_sequence=[\"fuchsia\"], zoom=3, height=300\n",
    ")\n",
    "fig.update_layout(mapbox_style=\"open-street-map\")\n",
    "fig.update_layout(margin={\"r\":0,\"t\":0,\"l\":0,\"b\":0})\n",
    "fig.show()"
   ]
  },
  {
   "cell_type": "code",
   "execution_count": null,
   "id": "324a5aa8",
   "metadata": {},
   "outputs": [],
   "source": [
    "px.scatter_geo(df, locations=\"iso_alpha\", color=\"continent\",\n",
    "                     hover_name=\"country\", size=\"pop\",\n",
    "                     projection=\"natural earth\")"
   ]
  },
  {
   "cell_type": "code",
   "execution_count": null,
   "id": "8f0ab104",
   "metadata": {},
   "outputs": [],
   "source": []
  }
 ],
 "metadata": {
  "kernelspec": {
   "display_name": "Python 3",
   "language": "python",
   "name": "python3"
  },
  "language_info": {
   "codemirror_mode": {
    "name": "ipython",
    "version": 3
   },
   "file_extension": ".py",
   "mimetype": "text/x-python",
   "name": "python",
   "nbconvert_exporter": "python",
   "pygments_lexer": "ipython3",
   "version": "3.9.5"
  }
 },
 "nbformat": 4,
 "nbformat_minor": 5
}
