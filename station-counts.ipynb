{
 "cells": [
  {
   "cell_type": "code",
   "execution_count": 1,
   "id": "17a2353d",
   "metadata": {},
   "outputs": [],
   "source": [
    "import plotly.express as px\n",
    "from utz import *\n",
    "\n",
    "from geopy.distance import distance"
   ]
  },
  {
   "cell_type": "markdown",
   "id": "5849f4bd",
   "metadata": {},
   "source": [
    "### Load August 2022 data"
   ]
  },
  {
   "cell_type": "code",
   "execution_count": 2,
   "id": "ff227075",
   "metadata": {
    "scrolled": true
   },
   "outputs": [
    {
     "data": {
      "text/html": [
       "<div>\n",
       "<style scoped>\n",
       "    .dataframe tbody tr th:only-of-type {\n",
       "        vertical-align: middle;\n",
       "    }\n",
       "\n",
       "    .dataframe tbody tr th {\n",
       "        vertical-align: top;\n",
       "    }\n",
       "\n",
       "    .dataframe thead th {\n",
       "        text-align: right;\n",
       "    }\n",
       "</style>\n",
       "<table border=\"1\" class=\"dataframe\">\n",
       "  <thead>\n",
       "    <tr style=\"text-align: right;\">\n",
       "      <th></th>\n",
       "      <th>Ride ID</th>\n",
       "      <th>Rideable Type</th>\n",
       "      <th>Start Time</th>\n",
       "      <th>Stop Time</th>\n",
       "      <th>Start Station Name</th>\n",
       "      <th>Start Station ID</th>\n",
       "      <th>End Station Name</th>\n",
       "      <th>End Station ID</th>\n",
       "      <th>Start Station Latitude</th>\n",
       "      <th>Start Station Longitude</th>\n",
       "      <th>End Station Latitude</th>\n",
       "      <th>End Station Longitude</th>\n",
       "      <th>Gender</th>\n",
       "      <th>User Type</th>\n",
       "      <th>Start Region</th>\n",
       "      <th>End Region</th>\n",
       "    </tr>\n",
       "  </thead>\n",
       "  <tbody>\n",
       "    <tr>\n",
       "      <th>0</th>\n",
       "      <td>428051654CF1145B</td>\n",
       "      <td>classic_bike</td>\n",
       "      <td>2022-08-28 00:34:58</td>\n",
       "      <td>2022-08-28 00:55:20</td>\n",
       "      <td>Walker St &amp; Baxter St</td>\n",
       "      <td>5351.07</td>\n",
       "      <td>Lexington Ave &amp; E 24 St</td>\n",
       "      <td>6089.07</td>\n",
       "      <td>40.717411</td>\n",
       "      <td>-73.999573</td>\n",
       "      <td>40.740259</td>\n",
       "      <td>-73.984092</td>\n",
       "      <td>0</td>\n",
       "      <td>Subscriber</td>\n",
       "      <td>NYC</td>\n",
       "      <td>NYC</td>\n",
       "    </tr>\n",
       "    <tr>\n",
       "      <th>1</th>\n",
       "      <td>7282036E3ECDDD65</td>\n",
       "      <td>classic_bike</td>\n",
       "      <td>2022-08-31 16:33:38</td>\n",
       "      <td>2022-08-31 16:35:17</td>\n",
       "      <td>Lexington Ave &amp; E 29 St</td>\n",
       "      <td>6164.09</td>\n",
       "      <td>Lexington Ave &amp; E 24 St</td>\n",
       "      <td>6089.07</td>\n",
       "      <td>40.743116</td>\n",
       "      <td>-73.982154</td>\n",
       "      <td>40.740259</td>\n",
       "      <td>-73.984092</td>\n",
       "      <td>0</td>\n",
       "      <td>Subscriber</td>\n",
       "      <td>NYC</td>\n",
       "      <td>NYC</td>\n",
       "    </tr>\n",
       "    <tr>\n",
       "      <th>2</th>\n",
       "      <td>375C59BE1271E31C</td>\n",
       "      <td>electric_bike</td>\n",
       "      <td>2022-08-27 23:22:10</td>\n",
       "      <td>2022-08-27 23:34:57</td>\n",
       "      <td>E 132 St &amp; Madison Ave</td>\n",
       "      <td>7748.02</td>\n",
       "      <td>Melrose Ave &amp; E 150 St</td>\n",
       "      <td>7879.01</td>\n",
       "      <td>40.810224</td>\n",
       "      <td>-73.937195</td>\n",
       "      <td>40.816827</td>\n",
       "      <td>-73.917338</td>\n",
       "      <td>0</td>\n",
       "      <td>Subscriber</td>\n",
       "      <td>NYC</td>\n",
       "      <td>NYC</td>\n",
       "    </tr>\n",
       "    <tr>\n",
       "      <th>3</th>\n",
       "      <td>7281A7F21CE571AF</td>\n",
       "      <td>classic_bike</td>\n",
       "      <td>2022-08-26 19:01:01</td>\n",
       "      <td>2022-08-26 19:09:26</td>\n",
       "      <td>Lexington Ave &amp; E 29 St</td>\n",
       "      <td>6164.09</td>\n",
       "      <td>E 13 St &amp; 2 Ave</td>\n",
       "      <td>5820.08</td>\n",
       "      <td>40.743116</td>\n",
       "      <td>-73.982154</td>\n",
       "      <td>40.731539</td>\n",
       "      <td>-73.985302</td>\n",
       "      <td>0</td>\n",
       "      <td>Subscriber</td>\n",
       "      <td>NYC</td>\n",
       "      <td>NYC</td>\n",
       "    </tr>\n",
       "    <tr>\n",
       "      <th>4</th>\n",
       "      <td>A5093D7D77713F87</td>\n",
       "      <td>classic_bike</td>\n",
       "      <td>2022-08-25 22:16:16</td>\n",
       "      <td>2022-08-25 22:29:13</td>\n",
       "      <td>E 16 St &amp; Irving Pl</td>\n",
       "      <td>5938.11</td>\n",
       "      <td>W 31 St &amp; 7 Ave</td>\n",
       "      <td>6331.01</td>\n",
       "      <td>40.735367</td>\n",
       "      <td>-73.987974</td>\n",
       "      <td>40.749156</td>\n",
       "      <td>-73.991600</td>\n",
       "      <td>0</td>\n",
       "      <td>Subscriber</td>\n",
       "      <td>NYC</td>\n",
       "      <td>NYC</td>\n",
       "    </tr>\n",
       "    <tr>\n",
       "      <th>...</th>\n",
       "      <td>...</td>\n",
       "      <td>...</td>\n",
       "      <td>...</td>\n",
       "      <td>...</td>\n",
       "      <td>...</td>\n",
       "      <td>...</td>\n",
       "      <td>...</td>\n",
       "      <td>...</td>\n",
       "      <td>...</td>\n",
       "      <td>...</td>\n",
       "      <td>...</td>\n",
       "      <td>...</td>\n",
       "      <td>...</td>\n",
       "      <td>...</td>\n",
       "      <td>...</td>\n",
       "      <td>...</td>\n",
       "    </tr>\n",
       "    <tr>\n",
       "      <th>115226</th>\n",
       "      <td>D0F075EEE4354A37</td>\n",
       "      <td>electric_bike</td>\n",
       "      <td>2022-08-03 19:00:22</td>\n",
       "      <td>2022-08-03 19:07:13</td>\n",
       "      <td>City Hall - Washington St &amp; 1 St</td>\n",
       "      <td>HB105</td>\n",
       "      <td>11 St &amp; Washington St</td>\n",
       "      <td>HB502</td>\n",
       "      <td>40.737360</td>\n",
       "      <td>-74.030970</td>\n",
       "      <td>40.749985</td>\n",
       "      <td>-74.027150</td>\n",
       "      <td>0</td>\n",
       "      <td>Subscriber</td>\n",
       "      <td>HB</td>\n",
       "      <td>HB</td>\n",
       "    </tr>\n",
       "    <tr>\n",
       "      <th>115227</th>\n",
       "      <td>15DE9EFD3E032E69</td>\n",
       "      <td>classic_bike</td>\n",
       "      <td>2022-08-31 18:42:27</td>\n",
       "      <td>2022-08-31 18:47:01</td>\n",
       "      <td>City Hall - Washington St &amp; 1 St</td>\n",
       "      <td>HB105</td>\n",
       "      <td>8 St &amp; Washington St</td>\n",
       "      <td>HB603</td>\n",
       "      <td>40.737360</td>\n",
       "      <td>-74.030970</td>\n",
       "      <td>40.745984</td>\n",
       "      <td>-74.028199</td>\n",
       "      <td>0</td>\n",
       "      <td>Subscriber</td>\n",
       "      <td>HB</td>\n",
       "      <td>HB</td>\n",
       "    </tr>\n",
       "    <tr>\n",
       "      <th>115228</th>\n",
       "      <td>899BAFD096248F46</td>\n",
       "      <td>classic_bike</td>\n",
       "      <td>2022-08-24 14:26:28</td>\n",
       "      <td>2022-08-24 14:30:47</td>\n",
       "      <td>City Hall - Washington St &amp; 1 St</td>\n",
       "      <td>HB105</td>\n",
       "      <td>8 St &amp; Washington St</td>\n",
       "      <td>HB603</td>\n",
       "      <td>40.737360</td>\n",
       "      <td>-74.030970</td>\n",
       "      <td>40.745984</td>\n",
       "      <td>-74.028199</td>\n",
       "      <td>0</td>\n",
       "      <td>Subscriber</td>\n",
       "      <td>HB</td>\n",
       "      <td>HB</td>\n",
       "    </tr>\n",
       "    <tr>\n",
       "      <th>115229</th>\n",
       "      <td>AB474610295F3330</td>\n",
       "      <td>classic_bike</td>\n",
       "      <td>2022-08-24 18:50:31</td>\n",
       "      <td>2022-08-24 19:01:00</td>\n",
       "      <td>Riverview Park</td>\n",
       "      <td>JC057</td>\n",
       "      <td>11 St &amp; Washington St</td>\n",
       "      <td>HB502</td>\n",
       "      <td>40.744757</td>\n",
       "      <td>-74.043725</td>\n",
       "      <td>40.749985</td>\n",
       "      <td>-74.027150</td>\n",
       "      <td>0</td>\n",
       "      <td>Subscriber</td>\n",
       "      <td>JC</td>\n",
       "      <td>HB</td>\n",
       "    </tr>\n",
       "    <tr>\n",
       "      <th>115230</th>\n",
       "      <td>1AC620345E6D2BF7</td>\n",
       "      <td>classic_bike</td>\n",
       "      <td>2022-08-31 08:52:20</td>\n",
       "      <td>2022-08-31 08:56:34</td>\n",
       "      <td>City Hall - Washington St &amp; 1 St</td>\n",
       "      <td>HB105</td>\n",
       "      <td>8 St &amp; Washington St</td>\n",
       "      <td>HB603</td>\n",
       "      <td>40.737360</td>\n",
       "      <td>-74.030970</td>\n",
       "      <td>40.745984</td>\n",
       "      <td>-74.028199</td>\n",
       "      <td>0</td>\n",
       "      <td>Subscriber</td>\n",
       "      <td>HB</td>\n",
       "      <td>HB</td>\n",
       "    </tr>\n",
       "  </tbody>\n",
       "</table>\n",
       "<p>3785470 rows × 16 columns</p>\n",
       "</div>"
      ],
      "text/plain": [
       "                 Ride ID  Rideable Type          Start Time  \\\n",
       "0       428051654CF1145B   classic_bike 2022-08-28 00:34:58   \n",
       "1       7282036E3ECDDD65   classic_bike 2022-08-31 16:33:38   \n",
       "2       375C59BE1271E31C  electric_bike 2022-08-27 23:22:10   \n",
       "3       7281A7F21CE571AF   classic_bike 2022-08-26 19:01:01   \n",
       "4       A5093D7D77713F87   classic_bike 2022-08-25 22:16:16   \n",
       "...                  ...            ...                 ...   \n",
       "115226  D0F075EEE4354A37  electric_bike 2022-08-03 19:00:22   \n",
       "115227  15DE9EFD3E032E69   classic_bike 2022-08-31 18:42:27   \n",
       "115228  899BAFD096248F46   classic_bike 2022-08-24 14:26:28   \n",
       "115229  AB474610295F3330   classic_bike 2022-08-24 18:50:31   \n",
       "115230  1AC620345E6D2BF7   classic_bike 2022-08-31 08:52:20   \n",
       "\n",
       "                 Stop Time                Start Station Name Start Station ID  \\\n",
       "0      2022-08-28 00:55:20             Walker St & Baxter St          5351.07   \n",
       "1      2022-08-31 16:35:17           Lexington Ave & E 29 St          6164.09   \n",
       "2      2022-08-27 23:34:57            E 132 St & Madison Ave          7748.02   \n",
       "3      2022-08-26 19:09:26           Lexington Ave & E 29 St          6164.09   \n",
       "4      2022-08-25 22:29:13               E 16 St & Irving Pl          5938.11   \n",
       "...                    ...                               ...              ...   \n",
       "115226 2022-08-03 19:07:13  City Hall - Washington St & 1 St            HB105   \n",
       "115227 2022-08-31 18:47:01  City Hall - Washington St & 1 St            HB105   \n",
       "115228 2022-08-24 14:30:47  City Hall - Washington St & 1 St            HB105   \n",
       "115229 2022-08-24 19:01:00                    Riverview Park            JC057   \n",
       "115230 2022-08-31 08:56:34  City Hall - Washington St & 1 St            HB105   \n",
       "\n",
       "               End Station Name End Station ID  Start Station Latitude  \\\n",
       "0       Lexington Ave & E 24 St        6089.07               40.717411   \n",
       "1       Lexington Ave & E 24 St        6089.07               40.743116   \n",
       "2        Melrose Ave & E 150 St        7879.01               40.810224   \n",
       "3               E 13 St & 2 Ave        5820.08               40.743116   \n",
       "4               W 31 St & 7 Ave        6331.01               40.735367   \n",
       "...                         ...            ...                     ...   \n",
       "115226    11 St & Washington St          HB502               40.737360   \n",
       "115227     8 St & Washington St          HB603               40.737360   \n",
       "115228     8 St & Washington St          HB603               40.737360   \n",
       "115229    11 St & Washington St          HB502               40.744757   \n",
       "115230     8 St & Washington St          HB603               40.737360   \n",
       "\n",
       "        Start Station Longitude  End Station Latitude  End Station Longitude  \\\n",
       "0                    -73.999573             40.740259             -73.984092   \n",
       "1                    -73.982154             40.740259             -73.984092   \n",
       "2                    -73.937195             40.816827             -73.917338   \n",
       "3                    -73.982154             40.731539             -73.985302   \n",
       "4                    -73.987974             40.749156             -73.991600   \n",
       "...                         ...                   ...                    ...   \n",
       "115226               -74.030970             40.749985             -74.027150   \n",
       "115227               -74.030970             40.745984             -74.028199   \n",
       "115228               -74.030970             40.745984             -74.028199   \n",
       "115229               -74.043725             40.749985             -74.027150   \n",
       "115230               -74.030970             40.745984             -74.028199   \n",
       "\n",
       "        Gender   User Type Start Region End Region  \n",
       "0            0  Subscriber          NYC        NYC  \n",
       "1            0  Subscriber          NYC        NYC  \n",
       "2            0  Subscriber          NYC        NYC  \n",
       "3            0  Subscriber          NYC        NYC  \n",
       "4            0  Subscriber          NYC        NYC  \n",
       "...        ...         ...          ...        ...  \n",
       "115226       0  Subscriber           HB         HB  \n",
       "115227       0  Subscriber           HB         HB  \n",
       "115228       0  Subscriber           HB         HB  \n",
       "115229       0  Subscriber           JC         HB  \n",
       "115230       0  Subscriber           HB         HB  \n",
       "\n",
       "[3785470 rows x 16 columns]"
      ]
     },
     "execution_count": 2,
     "metadata": {},
     "output_type": "execute_result"
    }
   ],
   "source": [
    "month = '202208'\n",
    "path = f'static/assets/{month}.parquet'\n",
    "if not exists(path):\n",
    "    path = f's3://ctbk/normalized/{month}.parquet'\n",
    "d = read_parquet(path)\n",
    "d"
   ]
  },
  {
   "cell_type": "markdown",
   "id": "1f568121",
   "metadata": {},
   "source": [
    "### Parse Station Names, IDs, Lat/Lngs"
   ]
  },
  {
   "cell_type": "code",
   "execution_count": 5,
   "id": "ed9ab01a",
   "metadata": {},
   "outputs": [
    {
     "data": {
      "text/html": [
       "<div>\n",
       "<style scoped>\n",
       "    .dataframe tbody tr th:only-of-type {\n",
       "        vertical-align: middle;\n",
       "    }\n",
       "\n",
       "    .dataframe tbody tr th {\n",
       "        vertical-align: top;\n",
       "    }\n",
       "\n",
       "    .dataframe thead th {\n",
       "        text-align: right;\n",
       "    }\n",
       "</style>\n",
       "<table border=\"1\" class=\"dataframe\">\n",
       "  <thead>\n",
       "    <tr style=\"text-align: right;\">\n",
       "      <th></th>\n",
       "      <th>Station ID</th>\n",
       "      <th>Station Name</th>\n",
       "      <th>Latitude</th>\n",
       "      <th>Longitude</th>\n",
       "      <th>Start</th>\n",
       "    </tr>\n",
       "  </thead>\n",
       "  <tbody>\n",
       "    <tr>\n",
       "      <th>0</th>\n",
       "      <td>5351.07</td>\n",
       "      <td>Walker St &amp; Baxter St</td>\n",
       "      <td>40.717411</td>\n",
       "      <td>-73.999573</td>\n",
       "      <td>True</td>\n",
       "    </tr>\n",
       "    <tr>\n",
       "      <th>1</th>\n",
       "      <td>6164.09</td>\n",
       "      <td>Lexington Ave &amp; E 29 St</td>\n",
       "      <td>40.743116</td>\n",
       "      <td>-73.982154</td>\n",
       "      <td>True</td>\n",
       "    </tr>\n",
       "    <tr>\n",
       "      <th>2</th>\n",
       "      <td>7748.02</td>\n",
       "      <td>E 132 St &amp; Madison Ave</td>\n",
       "      <td>40.810224</td>\n",
       "      <td>-73.937195</td>\n",
       "      <td>True</td>\n",
       "    </tr>\n",
       "    <tr>\n",
       "      <th>3</th>\n",
       "      <td>6164.09</td>\n",
       "      <td>Lexington Ave &amp; E 29 St</td>\n",
       "      <td>40.743116</td>\n",
       "      <td>-73.982154</td>\n",
       "      <td>True</td>\n",
       "    </tr>\n",
       "    <tr>\n",
       "      <th>4</th>\n",
       "      <td>5938.11</td>\n",
       "      <td>E 16 St &amp; Irving Pl</td>\n",
       "      <td>40.735367</td>\n",
       "      <td>-73.987974</td>\n",
       "      <td>True</td>\n",
       "    </tr>\n",
       "    <tr>\n",
       "      <th>...</th>\n",
       "      <td>...</td>\n",
       "      <td>...</td>\n",
       "      <td>...</td>\n",
       "      <td>...</td>\n",
       "      <td>...</td>\n",
       "    </tr>\n",
       "    <tr>\n",
       "      <th>115226</th>\n",
       "      <td>HB502</td>\n",
       "      <td>11 St &amp; Washington St</td>\n",
       "      <td>40.749985</td>\n",
       "      <td>-74.027150</td>\n",
       "      <td>False</td>\n",
       "    </tr>\n",
       "    <tr>\n",
       "      <th>115227</th>\n",
       "      <td>HB603</td>\n",
       "      <td>8 St &amp; Washington St</td>\n",
       "      <td>40.745984</td>\n",
       "      <td>-74.028199</td>\n",
       "      <td>False</td>\n",
       "    </tr>\n",
       "    <tr>\n",
       "      <th>115228</th>\n",
       "      <td>HB603</td>\n",
       "      <td>8 St &amp; Washington St</td>\n",
       "      <td>40.745984</td>\n",
       "      <td>-74.028199</td>\n",
       "      <td>False</td>\n",
       "    </tr>\n",
       "    <tr>\n",
       "      <th>115229</th>\n",
       "      <td>HB502</td>\n",
       "      <td>11 St &amp; Washington St</td>\n",
       "      <td>40.749985</td>\n",
       "      <td>-74.027150</td>\n",
       "      <td>False</td>\n",
       "    </tr>\n",
       "    <tr>\n",
       "      <th>115230</th>\n",
       "      <td>HB603</td>\n",
       "      <td>8 St &amp; Washington St</td>\n",
       "      <td>40.745984</td>\n",
       "      <td>-74.028199</td>\n",
       "      <td>False</td>\n",
       "    </tr>\n",
       "  </tbody>\n",
       "</table>\n",
       "<p>7570940 rows × 5 columns</p>\n",
       "</div>"
      ],
      "text/plain": [
       "       Station ID             Station Name   Latitude  Longitude  Start\n",
       "0         5351.07    Walker St & Baxter St  40.717411 -73.999573   True\n",
       "1         6164.09  Lexington Ave & E 29 St  40.743116 -73.982154   True\n",
       "2         7748.02   E 132 St & Madison Ave  40.810224 -73.937195   True\n",
       "3         6164.09  Lexington Ave & E 29 St  40.743116 -73.982154   True\n",
       "4         5938.11      E 16 St & Irving Pl  40.735367 -73.987974   True\n",
       "...           ...                      ...        ...        ...    ...\n",
       "115226      HB502    11 St & Washington St  40.749985 -74.027150  False\n",
       "115227      HB603     8 St & Washington St  40.745984 -74.028199  False\n",
       "115228      HB603     8 St & Washington St  40.745984 -74.028199  False\n",
       "115229      HB502    11 St & Washington St  40.749985 -74.027150  False\n",
       "115230      HB603     8 St & Washington St  40.745984 -74.028199  False\n",
       "\n",
       "[7570940 rows x 5 columns]"
      ]
     },
     "execution_count": 5,
     "metadata": {},
     "output_type": "execute_result"
    }
   ],
   "source": [
    "columns = {\n",
    "    'Start Station ID': 'Station ID', \n",
    "    'Start Station Name': 'Station Name',\n",
    "    'Start Station Latitude': 'Latitude',\n",
    "    'Start Station Longitude': 'Longitude',\n",
    "}\n",
    "starts = (\n",
    "    d[columns.keys()]\n",
    "    .rename(columns=columns)\n",
    ")\n",
    "starts['Start'] = True\n",
    "columns ={\n",
    "    'End Station ID': 'Station ID', \n",
    "    'End Station Name': 'Station Name',\n",
    "    'End Station Latitude': 'Latitude',\n",
    "    'End Station Longitude': 'Longitude',\n",
    "}\n",
    "ends = (\n",
    "    d[columns.keys()]\n",
    "    .rename(columns=columns)\n",
    ")\n",
    "ends['Start'] = False\n",
    "\n",
    "station_entries = pd.concat([starts, ends])\n",
    "station_entries"
   ]
  },
  {
   "cell_type": "code",
   "execution_count": 6,
   "id": "d92bd5ce",
   "metadata": {},
   "outputs": [],
   "source": [
    "idxd = station_entries.set_index('Station ID')\n",
    "names = idxd['Station Name']\n",
    "lats = idxd['Latitude']\n",
    "lngs = idxd['Longitude']"
   ]
  },
  {
   "cell_type": "code",
   "execution_count": 94,
   "id": "aae82463",
   "metadata": {},
   "outputs": [
    {
     "data": {
      "text/html": [
       "<div>\n",
       "<style scoped>\n",
       "    .dataframe tbody tr th:only-of-type {\n",
       "        vertical-align: middle;\n",
       "    }\n",
       "\n",
       "    .dataframe tbody tr th {\n",
       "        vertical-align: top;\n",
       "    }\n",
       "\n",
       "    .dataframe thead th {\n",
       "        text-align: right;\n",
       "    }\n",
       "</style>\n",
       "<table border=\"1\" class=\"dataframe\">\n",
       "  <thead>\n",
       "    <tr style=\"text-align: right;\">\n",
       "      <th></th>\n",
       "      <th>Station ID</th>\n",
       "      <th>Station Name</th>\n",
       "      <th>count</th>\n",
       "    </tr>\n",
       "  </thead>\n",
       "  <tbody>\n",
       "    <tr>\n",
       "      <th>1671</th>\n",
       "      <td>JC109</td>\n",
       "      <td>Bergen Ave &amp; Sip Ave</td>\n",
       "      <td>4360</td>\n",
       "    </tr>\n",
       "    <tr>\n",
       "      <th>1670</th>\n",
       "      <td>JC108</td>\n",
       "      <td>Bergen Ave &amp; Stegman St</td>\n",
       "      <td>327</td>\n",
       "    </tr>\n",
       "    <tr>\n",
       "      <th>1669</th>\n",
       "      <td>JC107</td>\n",
       "      <td>Grant Ave &amp; MLK Dr</td>\n",
       "      <td>149</td>\n",
       "    </tr>\n",
       "    <tr>\n",
       "      <th>1668</th>\n",
       "      <td>JC106</td>\n",
       "      <td>Columbus Dr at Exchange Pl</td>\n",
       "      <td>4457</td>\n",
       "    </tr>\n",
       "    <tr>\n",
       "      <th>1667</th>\n",
       "      <td>JC105</td>\n",
       "      <td>Hoboken Ave at Monmouth St</td>\n",
       "      <td>4888</td>\n",
       "    </tr>\n",
       "    <tr>\n",
       "      <th>...</th>\n",
       "      <td>...</td>\n",
       "      <td>...</td>\n",
       "      <td>...</td>\n",
       "    </tr>\n",
       "    <tr>\n",
       "      <th>4</th>\n",
       "      <td>2883.03</td>\n",
       "      <td>3 Ave &amp; Wakeman Pl</td>\n",
       "      <td>525</td>\n",
       "    </tr>\n",
       "    <tr>\n",
       "      <th>3</th>\n",
       "      <td>2872.02</td>\n",
       "      <td>63 St &amp; 5 Ave</td>\n",
       "      <td>178</td>\n",
       "    </tr>\n",
       "    <tr>\n",
       "      <th>2</th>\n",
       "      <td>2832.03</td>\n",
       "      <td>4 Ave &amp; Shore Road Dr</td>\n",
       "      <td>934</td>\n",
       "    </tr>\n",
       "    <tr>\n",
       "      <th>1</th>\n",
       "      <td>2782.02</td>\n",
       "      <td>5 Ave &amp; 66 St</td>\n",
       "      <td>921</td>\n",
       "    </tr>\n",
       "    <tr>\n",
       "      <th>0</th>\n",
       "      <td>2733.03</td>\n",
       "      <td>67 St &amp; Erik Pl</td>\n",
       "      <td>694</td>\n",
       "    </tr>\n",
       "  </tbody>\n",
       "</table>\n",
       "<p>1672 rows × 3 columns</p>\n",
       "</div>"
      ],
      "text/plain": [
       "     Station ID                Station Name  count\n",
       "1671      JC109        Bergen Ave & Sip Ave   4360\n",
       "1670      JC108     Bergen Ave & Stegman St    327\n",
       "1669      JC107          Grant Ave & MLK Dr    149\n",
       "1668      JC106  Columbus Dr at Exchange Pl   4457\n",
       "1667      JC105  Hoboken Ave at Monmouth St   4888\n",
       "...         ...                         ...    ...\n",
       "4       2883.03          3 Ave & Wakeman Pl    525\n",
       "3       2872.02               63 St & 5 Ave    178\n",
       "2       2832.03       4 Ave & Shore Road Dr    934\n",
       "1       2782.02               5 Ave & 66 St    921\n",
       "0       2733.03             67 St & Erik Pl    694\n",
       "\n",
       "[1672 rows x 3 columns]"
      ]
     },
     "execution_count": 94,
     "metadata": {},
     "output_type": "execute_result"
    }
   ],
   "source": [
    "station_names_hist = (\n",
    "    (\n",
    "        station_entries\n",
    "        [['Station ID', 'Station Name']]\n",
    "        .groupby(['Station ID', 'Station Name'])\n",
    "        .size()\n",
    "        .rename('count')\n",
    "    )\n",
    "    .reset_index()\n",
    "    .sort_values(['Station ID', 'count'], ascending=False)\n",
    ")\n",
    "station_names_hist"
   ]
  },
  {
   "cell_type": "code",
   "execution_count": 101,
   "id": "bf0809b6",
   "metadata": {},
   "outputs": [
    {
     "data": {
      "text/plain": [
       "Station ID\n",
       "4488.09      [6776, 31]\n",
       "4781.05      [2975, 25]\n",
       "5329.08      [3899, 36]\n",
       "5382.07    [18437, 211]\n",
       "6535.04    [11898, 226]\n",
       "6708.04    [16538, 511]\n",
       "Name: counts, dtype: object"
      ]
     },
     "execution_count": 101,
     "metadata": {},
     "output_type": "execute_result"
    }
   ],
   "source": [
    "station_counts = station_names_hist.groupby('Station ID').apply(lambda vs: vs['count'].values).rename('counts')\n",
    "station_counts[station_counts.apply(len) > 1]"
   ]
  },
  {
   "cell_type": "code",
   "execution_count": 15,
   "id": "13272808",
   "metadata": {},
   "outputs": [
    {
     "data": {
      "text/plain": [
       "Station ID\n",
       "6708.04    2\n",
       "5329.08    2\n",
       "5382.07    2\n",
       "4488.09    2\n",
       "6535.04    2\n",
       "4781.05    2\n",
       "Name: Station Name, dtype: int64"
      ]
     },
     "execution_count": 15,
     "metadata": {},
     "output_type": "execute_result"
    }
   ],
   "source": [
    "station_names = names.groupby(lambda x:x).unique()\n",
    "station_name_hist = station_names.apply(len).sort_values()\n",
    "name_dupes = station_name_hist[station_name_hist > 1]\n",
    "name_dupes"
   ]
  },
  {
   "cell_type": "code",
   "execution_count": 91,
   "id": "ed068357",
   "metadata": {},
   "outputs": [
    {
     "data": {
      "text/plain": [
       "Station ID\n",
       "2733.03    1\n",
       "7414.17    1\n",
       "7409.08    1\n",
       "7407.13    1\n",
       "7393.09    1\n",
       "          ..\n",
       "5329.08    2\n",
       "5382.07    2\n",
       "4488.09    2\n",
       "6535.04    2\n",
       "4781.05    2\n",
       "Name: Station Name, Length: 1666, dtype: int64"
      ]
     },
     "execution_count": 91,
     "metadata": {},
     "output_type": "execute_result"
    }
   ],
   "source": [
    "station_name_hist"
   ]
  },
  {
   "cell_type": "code",
   "execution_count": 38,
   "id": "cf49098a",
   "metadata": {},
   "outputs": [
    {
     "data": {
      "text/plain": [
       "1666"
      ]
     },
     "execution_count": 38,
     "metadata": {},
     "output_type": "execute_result"
    }
   ],
   "source": [
    "len(station_name_hist)"
   ]
  },
  {
   "cell_type": "code",
   "execution_count": 17,
   "id": "eb352f22",
   "metadata": {},
   "outputs": [
    {
     "data": {
      "text/html": [
       "<div>\n",
       "<style scoped>\n",
       "    .dataframe tbody tr th:only-of-type {\n",
       "        vertical-align: middle;\n",
       "    }\n",
       "\n",
       "    .dataframe tbody tr th {\n",
       "        vertical-align: top;\n",
       "    }\n",
       "\n",
       "    .dataframe thead th {\n",
       "        text-align: right;\n",
       "    }\n",
       "</style>\n",
       "<table border=\"1\" class=\"dataframe\">\n",
       "  <thead>\n",
       "    <tr style=\"text-align: right;\">\n",
       "      <th></th>\n",
       "      <th>Station ID</th>\n",
       "      <th>Station Name</th>\n",
       "    </tr>\n",
       "  </thead>\n",
       "  <tbody>\n",
       "    <tr>\n",
       "      <th>0</th>\n",
       "      <td>6708.04</td>\n",
       "      <td>[Broadway\\t&amp; W 48 St, Broadway\\t&amp; W 48 St]</td>\n",
       "    </tr>\n",
       "    <tr>\n",
       "      <th>1</th>\n",
       "      <td>5329.08</td>\n",
       "      <td>[Murray St\\t&amp; West St, Murray St\\t&amp; West St]</td>\n",
       "    </tr>\n",
       "    <tr>\n",
       "      <th>2</th>\n",
       "      <td>5382.07</td>\n",
       "      <td>[Forsyth St\\t&amp; Grand St, Forsyth St\\t&amp; Grand St]</td>\n",
       "    </tr>\n",
       "    <tr>\n",
       "      <th>3</th>\n",
       "      <td>4488.09</td>\n",
       "      <td>[Boerum Pl\\t&amp; Pacific St, Boerum Pl\\t&amp; Pacific...</td>\n",
       "    </tr>\n",
       "    <tr>\n",
       "      <th>4</th>\n",
       "      <td>6535.04</td>\n",
       "      <td>[W 34 St &amp;\\tHudson Blvd E, W 34 St &amp;\\tHudson B...</td>\n",
       "    </tr>\n",
       "    <tr>\n",
       "      <th>5</th>\n",
       "      <td>4781.05</td>\n",
       "      <td>[Nassau St\\t&amp; Duffield St, Nassau St\\t&amp; Duffie...</td>\n",
       "    </tr>\n",
       "  </tbody>\n",
       "</table>\n",
       "</div>"
      ],
      "text/plain": [
       "  Station ID                                       Station Name\n",
       "0    6708.04         [Broadway\\t& W 48 St, Broadway\\t& W 48 St]\n",
       "1    5329.08       [Murray St\\t& West St, Murray St\\t& West St]\n",
       "2    5382.07   [Forsyth St\\t& Grand St, Forsyth St\\t& Grand St]\n",
       "3    4488.09  [Boerum Pl\\t& Pacific St, Boerum Pl\\t& Pacific...\n",
       "4    6535.04  [W 34 St &\\tHudson Blvd E, W 34 St &\\tHudson B...\n",
       "5    4781.05  [Nassau St\\t& Duffield St, Nassau St\\t& Duffie..."
      ]
     },
     "execution_count": 17,
     "metadata": {},
     "output_type": "execute_result"
    }
   ],
   "source": [
    "dupe_names = station_names.loc[name_dupes.index]\n",
    "dupe_names.reset_index()"
   ]
  },
  {
   "cell_type": "code",
   "execution_count": 39,
   "id": "bb1945e1",
   "metadata": {},
   "outputs": [
    {
     "data": {
      "text/html": [
       "<div>\n",
       "<style scoped>\n",
       "    .dataframe tbody tr th:only-of-type {\n",
       "        vertical-align: middle;\n",
       "    }\n",
       "\n",
       "    .dataframe tbody tr th {\n",
       "        vertical-align: top;\n",
       "    }\n",
       "\n",
       "    .dataframe thead th {\n",
       "        text-align: right;\n",
       "    }\n",
       "</style>\n",
       "<table border=\"1\" class=\"dataframe\">\n",
       "  <thead>\n",
       "    <tr style=\"text-align: right;\">\n",
       "      <th></th>\n",
       "      <th>Station ID</th>\n",
       "      <th>Station Name</th>\n",
       "    </tr>\n",
       "  </thead>\n",
       "  <tbody>\n",
       "    <tr>\n",
       "      <th>266718</th>\n",
       "      <td>2733.03</td>\n",
       "      <td>67 St &amp; Erik Pl</td>\n",
       "    </tr>\n",
       "    <tr>\n",
       "      <th>385403</th>\n",
       "      <td>2782.02</td>\n",
       "      <td>5 Ave &amp; 66 St</td>\n",
       "    </tr>\n",
       "    <tr>\n",
       "      <th>382419</th>\n",
       "      <td>2832.03</td>\n",
       "      <td>4 Ave &amp; Shore Road Dr</td>\n",
       "    </tr>\n",
       "    <tr>\n",
       "      <th>3198</th>\n",
       "      <td>2872.02</td>\n",
       "      <td>63 St &amp; 5 Ave</td>\n",
       "    </tr>\n",
       "    <tr>\n",
       "      <th>375285</th>\n",
       "      <td>2883.03</td>\n",
       "      <td>3 Ave &amp; Wakeman Pl</td>\n",
       "    </tr>\n",
       "    <tr>\n",
       "      <th>...</th>\n",
       "      <td>...</td>\n",
       "      <td>...</td>\n",
       "    </tr>\n",
       "    <tr>\n",
       "      <th>3693084</th>\n",
       "      <td>JC105</td>\n",
       "      <td>Hoboken Ave at Monmouth St</td>\n",
       "    </tr>\n",
       "    <tr>\n",
       "      <th>3678168</th>\n",
       "      <td>JC106</td>\n",
       "      <td>Columbus Dr at Exchange Pl</td>\n",
       "    </tr>\n",
       "    <tr>\n",
       "      <th>3724393</th>\n",
       "      <td>JC107</td>\n",
       "      <td>Grant Ave &amp; MLK Dr</td>\n",
       "    </tr>\n",
       "    <tr>\n",
       "      <th>3717657</th>\n",
       "      <td>JC108</td>\n",
       "      <td>Bergen Ave &amp; Stegman St</td>\n",
       "    </tr>\n",
       "    <tr>\n",
       "      <th>3670879</th>\n",
       "      <td>JC109</td>\n",
       "      <td>Bergen Ave &amp; Sip Ave</td>\n",
       "    </tr>\n",
       "  </tbody>\n",
       "</table>\n",
       "<p>1672 rows × 2 columns</p>\n",
       "</div>"
      ],
      "text/plain": [
       "        Station ID                Station Name\n",
       "266718     2733.03             67 St & Erik Pl\n",
       "385403     2782.02               5 Ave & 66 St\n",
       "382419     2832.03       4 Ave & Shore Road Dr\n",
       "3198       2872.02               63 St & 5 Ave\n",
       "375285     2883.03          3 Ave & Wakeman Pl\n",
       "...            ...                         ...\n",
       "3693084      JC105  Hoboken Ave at Monmouth St\n",
       "3678168      JC106  Columbus Dr at Exchange Pl\n",
       "3724393      JC107          Grant Ave & MLK Dr\n",
       "3717657      JC108     Bergen Ave & Stegman St\n",
       "3670879      JC109        Bergen Ave & Sip Ave\n",
       "\n",
       "[1672 rows x 2 columns]"
      ]
     },
     "execution_count": 39,
     "metadata": {},
     "output_type": "execute_result"
    }
   ],
   "source": [
    "normalized_names = names.to_frame().reset_index().sort_values(['Station ID', 'Station Name']).drop_duplicates()\n",
    "normalized_names"
   ]
  },
  {
   "cell_type": "code",
   "execution_count": 43,
   "id": "3da5c498",
   "metadata": {},
   "outputs": [
    {
     "data": {
      "text/html": [
       "<div>\n",
       "<style scoped>\n",
       "    .dataframe tbody tr th:only-of-type {\n",
       "        vertical-align: middle;\n",
       "    }\n",
       "\n",
       "    .dataframe tbody tr th {\n",
       "        vertical-align: top;\n",
       "    }\n",
       "\n",
       "    .dataframe thead th {\n",
       "        text-align: right;\n",
       "    }\n",
       "</style>\n",
       "<table border=\"1\" class=\"dataframe\">\n",
       "  <thead>\n",
       "    <tr style=\"text-align: right;\">\n",
       "      <th></th>\n",
       "      <th>lat_min</th>\n",
       "      <th>lat_max</th>\n",
       "      <th>lng_min</th>\n",
       "      <th>lng_max</th>\n",
       "      <th>lat_span</th>\n",
       "      <th>lng_span</th>\n",
       "    </tr>\n",
       "    <tr>\n",
       "      <th>Station ID</th>\n",
       "      <th></th>\n",
       "      <th></th>\n",
       "      <th></th>\n",
       "      <th></th>\n",
       "      <th></th>\n",
       "      <th></th>\n",
       "    </tr>\n",
       "  </thead>\n",
       "  <tbody>\n",
       "    <tr>\n",
       "      <th>2733.03</th>\n",
       "      <td>40.633025</td>\n",
       "      <td>40.633505</td>\n",
       "      <td>-74.017024</td>\n",
       "      <td>-74.016480</td>\n",
       "      <td>0.000481</td>\n",
       "      <td>0.000545</td>\n",
       "    </tr>\n",
       "    <tr>\n",
       "      <th>2782.02</th>\n",
       "      <td>40.635679</td>\n",
       "      <td>40.636003</td>\n",
       "      <td>-74.020005</td>\n",
       "      <td>-74.019736</td>\n",
       "      <td>0.000324</td>\n",
       "      <td>0.000269</td>\n",
       "    </tr>\n",
       "    <tr>\n",
       "      <th>2832.03</th>\n",
       "      <td>40.636850</td>\n",
       "      <td>40.637096</td>\n",
       "      <td>-74.022304</td>\n",
       "      <td>-74.021483</td>\n",
       "      <td>0.000246</td>\n",
       "      <td>0.000820</td>\n",
       "    </tr>\n",
       "    <tr>\n",
       "      <th>2872.02</th>\n",
       "      <td>40.637553</td>\n",
       "      <td>40.637744</td>\n",
       "      <td>-74.017844</td>\n",
       "      <td>-74.017689</td>\n",
       "      <td>0.000191</td>\n",
       "      <td>0.000155</td>\n",
       "    </tr>\n",
       "    <tr>\n",
       "      <th>2883.03</th>\n",
       "      <td>40.638202</td>\n",
       "      <td>40.638466</td>\n",
       "      <td>-74.024832</td>\n",
       "      <td>-74.024564</td>\n",
       "      <td>0.000264</td>\n",
       "      <td>0.000268</td>\n",
       "    </tr>\n",
       "    <tr>\n",
       "      <th>...</th>\n",
       "      <td>...</td>\n",
       "      <td>...</td>\n",
       "      <td>...</td>\n",
       "      <td>...</td>\n",
       "      <td>...</td>\n",
       "      <td>...</td>\n",
       "    </tr>\n",
       "    <tr>\n",
       "      <th>JC105</th>\n",
       "      <td>40.735188</td>\n",
       "      <td>40.735444</td>\n",
       "      <td>-74.047022</td>\n",
       "      <td>-74.046410</td>\n",
       "      <td>0.000256</td>\n",
       "      <td>0.000612</td>\n",
       "    </tr>\n",
       "    <tr>\n",
       "      <th>JC106</th>\n",
       "      <td>40.716561</td>\n",
       "      <td>40.717522</td>\n",
       "      <td>-74.033181</td>\n",
       "      <td>-74.032173</td>\n",
       "      <td>0.000961</td>\n",
       "      <td>0.001008</td>\n",
       "    </tr>\n",
       "    <tr>\n",
       "      <th>JC107</th>\n",
       "      <td>40.709047</td>\n",
       "      <td>40.709213</td>\n",
       "      <td>-74.080888</td>\n",
       "      <td>-74.080616</td>\n",
       "      <td>0.000165</td>\n",
       "      <td>0.000272</td>\n",
       "    </tr>\n",
       "    <tr>\n",
       "      <th>JC108</th>\n",
       "      <td>40.706575</td>\n",
       "      <td>40.706798</td>\n",
       "      <td>-74.086814</td>\n",
       "      <td>-74.086634</td>\n",
       "      <td>0.000223</td>\n",
       "      <td>0.000180</td>\n",
       "    </tr>\n",
       "    <tr>\n",
       "      <th>JC109</th>\n",
       "      <td>40.729469</td>\n",
       "      <td>40.732245</td>\n",
       "      <td>-74.065490</td>\n",
       "      <td>-74.061076</td>\n",
       "      <td>0.002776</td>\n",
       "      <td>0.004414</td>\n",
       "    </tr>\n",
       "  </tbody>\n",
       "</table>\n",
       "<p>1666 rows × 6 columns</p>\n",
       "</div>"
      ],
      "text/plain": [
       "              lat_min    lat_max    lng_min    lng_max  lat_span  lng_span\n",
       "Station ID                                                                \n",
       "2733.03     40.633025  40.633505 -74.017024 -74.016480  0.000481  0.000545\n",
       "2782.02     40.635679  40.636003 -74.020005 -74.019736  0.000324  0.000269\n",
       "2832.03     40.636850  40.637096 -74.022304 -74.021483  0.000246  0.000820\n",
       "2872.02     40.637553  40.637744 -74.017844 -74.017689  0.000191  0.000155\n",
       "2883.03     40.638202  40.638466 -74.024832 -74.024564  0.000264  0.000268\n",
       "...               ...        ...        ...        ...       ...       ...\n",
       "JC105       40.735188  40.735444 -74.047022 -74.046410  0.000256  0.000612\n",
       "JC106       40.716561  40.717522 -74.033181 -74.032173  0.000961  0.001008\n",
       "JC107       40.709047  40.709213 -74.080888 -74.080616  0.000165  0.000272\n",
       "JC108       40.706575  40.706798 -74.086814 -74.086634  0.000223  0.000180\n",
       "JC109       40.729469  40.732245 -74.065490 -74.061076  0.002776  0.004414\n",
       "\n",
       "[1666 rows x 6 columns]"
      ]
     },
     "execution_count": 43,
     "metadata": {},
     "output_type": "execute_result"
    }
   ],
   "source": [
    "lat_groups = lats.groupby(lambda x:x)\n",
    "lng_groups = lngs.groupby(lambda x:x)\n",
    "bounds = sxs(\n",
    "    lat_groups.min().rename('lat_min'),\n",
    "    lat_groups.max().rename('lat_max'),\n",
    "    lng_groups.min().rename('lng_min'),\n",
    "    lng_groups.max().rename('lng_max')\n",
    ")\n",
    "bounds['lat_span'] = bounds.lat_max - bounds.lat_min\n",
    "bounds['lng_span'] = bounds.lng_max - bounds.lng_min\n",
    "bounds"
   ]
  },
  {
   "cell_type": "code",
   "execution_count": 44,
   "id": "16e5b65a",
   "metadata": {},
   "outputs": [
    {
     "data": {
      "text/html": [
       "<div>\n",
       "<style scoped>\n",
       "    .dataframe tbody tr th:only-of-type {\n",
       "        vertical-align: middle;\n",
       "    }\n",
       "\n",
       "    .dataframe tbody tr th {\n",
       "        vertical-align: top;\n",
       "    }\n",
       "\n",
       "    .dataframe thead th {\n",
       "        text-align: right;\n",
       "    }\n",
       "</style>\n",
       "<table border=\"1\" class=\"dataframe\">\n",
       "  <thead>\n",
       "    <tr style=\"text-align: right;\">\n",
       "      <th></th>\n",
       "      <th>lat_min</th>\n",
       "      <th>lat_max</th>\n",
       "      <th>lng_min</th>\n",
       "      <th>lng_max</th>\n",
       "      <th>lat_span</th>\n",
       "      <th>lng_span</th>\n",
       "    </tr>\n",
       "    <tr>\n",
       "      <th>Station ID</th>\n",
       "      <th></th>\n",
       "      <th></th>\n",
       "      <th></th>\n",
       "      <th></th>\n",
       "      <th></th>\n",
       "      <th></th>\n",
       "    </tr>\n",
       "  </thead>\n",
       "  <tbody>\n",
       "    <tr>\n",
       "      <th>5342.10</th>\n",
       "      <td>40.641224</td>\n",
       "      <td>40.740510</td>\n",
       "      <td>-73.992344</td>\n",
       "      <td>-73.980970</td>\n",
       "      <td>0.099286</td>\n",
       "      <td>0.011375</td>\n",
       "    </tr>\n",
       "    <tr>\n",
       "      <th>6948.10</th>\n",
       "      <td>40.717022</td>\n",
       "      <td>40.817503</td>\n",
       "      <td>-74.006100</td>\n",
       "      <td>-73.922721</td>\n",
       "      <td>0.100481</td>\n",
       "      <td>0.083380</td>\n",
       "    </tr>\n",
       "    <tr>\n",
       "      <th>5159.07</th>\n",
       "      <td>40.709261</td>\n",
       "      <td>40.809962</td>\n",
       "      <td>-73.991869</td>\n",
       "      <td>-73.936244</td>\n",
       "      <td>0.100701</td>\n",
       "      <td>0.055625</td>\n",
       "    </tr>\n",
       "    <tr>\n",
       "      <th>6364.10</th>\n",
       "      <td>40.748010</td>\n",
       "      <td>40.853189</td>\n",
       "      <td>-73.989603</td>\n",
       "      <td>-73.905468</td>\n",
       "      <td>0.105179</td>\n",
       "      <td>0.084134</td>\n",
       "    </tr>\n",
       "    <tr>\n",
       "      <th>6560.01</th>\n",
       "      <td>40.726019</td>\n",
       "      <td>40.834426</td>\n",
       "      <td>-73.995292</td>\n",
       "      <td>-73.917783</td>\n",
       "      <td>0.108408</td>\n",
       "      <td>0.077510</td>\n",
       "    </tr>\n",
       "    <tr>\n",
       "      <th>5610.09</th>\n",
       "      <td>40.723341</td>\n",
       "      <td>40.833303</td>\n",
       "      <td>-74.004962</td>\n",
       "      <td>-73.939326</td>\n",
       "      <td>0.109962</td>\n",
       "      <td>0.065636</td>\n",
       "    </tr>\n",
       "    <tr>\n",
       "      <th>5561.06</th>\n",
       "      <td>40.716918</td>\n",
       "      <td>40.833303</td>\n",
       "      <td>-73.996812</td>\n",
       "      <td>-73.939326</td>\n",
       "      <td>0.116385</td>\n",
       "      <td>0.057486</td>\n",
       "    </tr>\n",
       "    <tr>\n",
       "      <th>7981.16</th>\n",
       "      <td>40.698082</td>\n",
       "      <td>40.824950</td>\n",
       "      <td>-73.964292</td>\n",
       "      <td>-73.909528</td>\n",
       "      <td>0.126868</td>\n",
       "      <td>0.054765</td>\n",
       "    </tr>\n",
       "    <tr>\n",
       "      <th>5065.14</th>\n",
       "      <td>40.706244</td>\n",
       "      <td>40.833303</td>\n",
       "      <td>-74.005782</td>\n",
       "      <td>-73.939326</td>\n",
       "      <td>0.127059</td>\n",
       "      <td>0.066456</td>\n",
       "    </tr>\n",
       "    <tr>\n",
       "      <th>4452.01</th>\n",
       "      <td>40.688802</td>\n",
       "      <td>40.833303</td>\n",
       "      <td>-73.988918</td>\n",
       "      <td>-73.939326</td>\n",
       "      <td>0.144501</td>\n",
       "      <td>0.049592</td>\n",
       "    </tr>\n",
       "  </tbody>\n",
       "</table>\n",
       "</div>"
      ],
      "text/plain": [
       "              lat_min    lat_max    lng_min    lng_max  lat_span  lng_span\n",
       "Station ID                                                                \n",
       "5342.10     40.641224  40.740510 -73.992344 -73.980970  0.099286  0.011375\n",
       "6948.10     40.717022  40.817503 -74.006100 -73.922721  0.100481  0.083380\n",
       "5159.07     40.709261  40.809962 -73.991869 -73.936244  0.100701  0.055625\n",
       "6364.10     40.748010  40.853189 -73.989603 -73.905468  0.105179  0.084134\n",
       "6560.01     40.726019  40.834426 -73.995292 -73.917783  0.108408  0.077510\n",
       "5610.09     40.723341  40.833303 -74.004962 -73.939326  0.109962  0.065636\n",
       "5561.06     40.716918  40.833303 -73.996812 -73.939326  0.116385  0.057486\n",
       "7981.16     40.698082  40.824950 -73.964292 -73.909528  0.126868  0.054765\n",
       "5065.14     40.706244  40.833303 -74.005782 -73.939326  0.127059  0.066456\n",
       "4452.01     40.688802  40.833303 -73.988918 -73.939326  0.144501  0.049592"
      ]
     },
     "execution_count": 44,
     "metadata": {},
     "output_type": "execute_result"
    }
   ],
   "source": [
    "bounds.sort_values('lat_span').iloc[-10:]"
   ]
  },
  {
   "cell_type": "code",
   "execution_count": 45,
   "id": "983ec8d0",
   "metadata": {},
   "outputs": [
    {
     "data": {
      "text/html": [
       "<div>\n",
       "<style scoped>\n",
       "    .dataframe tbody tr th:only-of-type {\n",
       "        vertical-align: middle;\n",
       "    }\n",
       "\n",
       "    .dataframe tbody tr th {\n",
       "        vertical-align: top;\n",
       "    }\n",
       "\n",
       "    .dataframe thead th {\n",
       "        text-align: right;\n",
       "    }\n",
       "</style>\n",
       "<table border=\"1\" class=\"dataframe\">\n",
       "  <thead>\n",
       "    <tr style=\"text-align: right;\">\n",
       "      <th></th>\n",
       "      <th>lat_min</th>\n",
       "      <th>lat_max</th>\n",
       "      <th>lng_min</th>\n",
       "      <th>lng_max</th>\n",
       "      <th>lat_span</th>\n",
       "      <th>lng_span</th>\n",
       "    </tr>\n",
       "    <tr>\n",
       "      <th>Station ID</th>\n",
       "      <th></th>\n",
       "      <th></th>\n",
       "      <th></th>\n",
       "      <th></th>\n",
       "      <th></th>\n",
       "      <th></th>\n",
       "    </tr>\n",
       "  </thead>\n",
       "  <tbody>\n",
       "    <tr>\n",
       "      <th>7432.09</th>\n",
       "      <td>40.787878</td>\n",
       "      <td>40.869428</td>\n",
       "      <td>-73.970889</td>\n",
       "      <td>-73.891423</td>\n",
       "      <td>0.081550</td>\n",
       "      <td>0.079467</td>\n",
       "    </tr>\n",
       "    <tr>\n",
       "      <th>5847.01</th>\n",
       "      <td>40.703758</td>\n",
       "      <td>40.780110</td>\n",
       "      <td>-74.007358</td>\n",
       "      <td>-73.927344</td>\n",
       "      <td>0.076352</td>\n",
       "      <td>0.080014</td>\n",
       "    </tr>\n",
       "    <tr>\n",
       "      <th>7188.13</th>\n",
       "      <td>40.732979</td>\n",
       "      <td>40.793375</td>\n",
       "      <td>-74.006081</td>\n",
       "      <td>-73.924628</td>\n",
       "      <td>0.060396</td>\n",
       "      <td>0.081453</td>\n",
       "    </tr>\n",
       "    <tr>\n",
       "      <th>6948.10</th>\n",
       "      <td>40.717022</td>\n",
       "      <td>40.817503</td>\n",
       "      <td>-74.006100</td>\n",
       "      <td>-73.922721</td>\n",
       "      <td>0.100481</td>\n",
       "      <td>0.083380</td>\n",
       "    </tr>\n",
       "    <tr>\n",
       "      <th>6364.10</th>\n",
       "      <td>40.748010</td>\n",
       "      <td>40.853189</td>\n",
       "      <td>-73.989603</td>\n",
       "      <td>-73.905468</td>\n",
       "      <td>0.105179</td>\n",
       "      <td>0.084134</td>\n",
       "    </tr>\n",
       "    <tr>\n",
       "      <th>6140.05</th>\n",
       "      <td>40.677729</td>\n",
       "      <td>40.766682</td>\n",
       "      <td>-74.000285</td>\n",
       "      <td>-73.915900</td>\n",
       "      <td>0.088954</td>\n",
       "      <td>0.084384</td>\n",
       "    </tr>\n",
       "    <tr>\n",
       "      <th>6224.05</th>\n",
       "      <td>40.697380</td>\n",
       "      <td>40.743998</td>\n",
       "      <td>-74.000856</td>\n",
       "      <td>-73.915900</td>\n",
       "      <td>0.046618</td>\n",
       "      <td>0.084956</td>\n",
       "    </tr>\n",
       "    <tr>\n",
       "      <th>6072.11</th>\n",
       "      <td>40.697380</td>\n",
       "      <td>40.741196</td>\n",
       "      <td>-74.002438</td>\n",
       "      <td>-73.915900</td>\n",
       "      <td>0.043815</td>\n",
       "      <td>0.086537</td>\n",
       "    </tr>\n",
       "    <tr>\n",
       "      <th>5267.09</th>\n",
       "      <td>40.654847</td>\n",
       "      <td>40.717252</td>\n",
       "      <td>-74.014316</td>\n",
       "      <td>-73.920753</td>\n",
       "      <td>0.062406</td>\n",
       "      <td>0.093563</td>\n",
       "    </tr>\n",
       "    <tr>\n",
       "      <th>6072.06</th>\n",
       "      <td>40.735448</td>\n",
       "      <td>40.813394</td>\n",
       "      <td>-74.006012</td>\n",
       "      <td>-73.909528</td>\n",
       "      <td>0.077946</td>\n",
       "      <td>0.096485</td>\n",
       "    </tr>\n",
       "  </tbody>\n",
       "</table>\n",
       "</div>"
      ],
      "text/plain": [
       "              lat_min    lat_max    lng_min    lng_max  lat_span  lng_span\n",
       "Station ID                                                                \n",
       "7432.09     40.787878  40.869428 -73.970889 -73.891423  0.081550  0.079467\n",
       "5847.01     40.703758  40.780110 -74.007358 -73.927344  0.076352  0.080014\n",
       "7188.13     40.732979  40.793375 -74.006081 -73.924628  0.060396  0.081453\n",
       "6948.10     40.717022  40.817503 -74.006100 -73.922721  0.100481  0.083380\n",
       "6364.10     40.748010  40.853189 -73.989603 -73.905468  0.105179  0.084134\n",
       "6140.05     40.677729  40.766682 -74.000285 -73.915900  0.088954  0.084384\n",
       "6224.05     40.697380  40.743998 -74.000856 -73.915900  0.046618  0.084956\n",
       "6072.11     40.697380  40.741196 -74.002438 -73.915900  0.043815  0.086537\n",
       "5267.09     40.654847  40.717252 -74.014316 -73.920753  0.062406  0.093563\n",
       "6072.06     40.735448  40.813394 -74.006012 -73.909528  0.077946  0.096485"
      ]
     },
     "execution_count": 45,
     "metadata": {},
     "output_type": "execute_result"
    }
   ],
   "source": [
    "bounds.sort_values('lng_span').iloc[-10:]"
   ]
  },
  {
   "cell_type": "code",
   "execution_count": 110,
   "id": "4a7e4365",
   "metadata": {},
   "outputs": [],
   "source": [
    "def row_sketch(a):\n",
    "    restsum = sum(a[1:])\n",
    "    total = a[0] + restsum\n",
    "    num = len(a)\n",
    "    return {\n",
    "        'mode_count': a[0],\n",
    "        'second': a[1] if num > 1 else nan,\n",
    "        'restsum': restsum,\n",
    "        'total': total,\n",
    "        'counts': a,\n",
    "        'first/second': a[0] / a[1] if num > 1 else nan,\n",
    "        'mode_pct': a[0] / total,\n",
    "        'num': num,\n",
    "    }\n",
    "\n",
    "def mode_sketch(df, groupby, thresh=0.5):\n",
    "    idx_name = df.index.name\n",
    "    if not idx_name:\n",
    "        raise RuntimeError('Index needs a name')\n",
    "    if isinstance(groupby, str):\n",
    "        groupby = [groupby]\n",
    "    row_groups = df.reset_index().groupby([idx_name] + groupby)\n",
    "    row_hist = row_groups.size().rename('count').reset_index()\n",
    "    counts = row_hist.groupby(idx_name)['count'].apply(lambda s: list(reversed(sorted(s.values))))\n",
    "    row_sketches = counts.apply(row_sketch).apply(Series)\n",
    "    below_thresh = row_sketches[row_sketches.mode_pct < thresh]\n",
    "    if not below_thresh.empty:\n",
    "        stderr.write(f'{len(below_thresh)} index entries with mode_pct < {thresh}:\\n{below_thresh}\\n')\n",
    "    annotated = (\n",
    "        row_hist\n",
    "        .sort_values([idx_name, 'count'], ascending=False)\n",
    "        .drop_duplicates(subset=idx_name)\n",
    "        .set_index(idx_name)\n",
    "    )\n",
    "    annotated = sxs(annotated, row_sketches).drop(columns=['count']).sort_values('mode_pct')\n",
    "    return annotated"
   ]
  },
  {
   "cell_type": "code",
   "execution_count": 107,
   "id": "5a591c32",
   "metadata": {},
   "outputs": [
    {
     "data": {
      "text/html": [
       "<div>\n",
       "<style scoped>\n",
       "    .dataframe tbody tr th:only-of-type {\n",
       "        vertical-align: middle;\n",
       "    }\n",
       "\n",
       "    .dataframe tbody tr th {\n",
       "        vertical-align: top;\n",
       "    }\n",
       "\n",
       "    .dataframe thead th {\n",
       "        text-align: right;\n",
       "    }\n",
       "</style>\n",
       "<table border=\"1\" class=\"dataframe\">\n",
       "  <thead>\n",
       "    <tr style=\"text-align: right;\">\n",
       "      <th></th>\n",
       "      <th>Station Name</th>\n",
       "      <th>mode_count</th>\n",
       "      <th>second</th>\n",
       "      <th>restsum</th>\n",
       "      <th>total</th>\n",
       "      <th>counts</th>\n",
       "      <th>first/second</th>\n",
       "      <th>mode_pct</th>\n",
       "      <th>num</th>\n",
       "    </tr>\n",
       "    <tr>\n",
       "      <th>Station ID</th>\n",
       "      <th></th>\n",
       "      <th></th>\n",
       "      <th></th>\n",
       "      <th></th>\n",
       "      <th></th>\n",
       "      <th></th>\n",
       "      <th></th>\n",
       "      <th></th>\n",
       "      <th></th>\n",
       "    </tr>\n",
       "  </thead>\n",
       "  <tbody>\n",
       "    <tr>\n",
       "      <th>6708.04</th>\n",
       "      <td>Broadway\\t&amp; W 48 St</td>\n",
       "      <td>16538</td>\n",
       "      <td>511.0</td>\n",
       "      <td>511</td>\n",
       "      <td>17049</td>\n",
       "      <td>[16538, 511]</td>\n",
       "      <td>32.363992</td>\n",
       "      <td>0.970028</td>\n",
       "      <td>2</td>\n",
       "    </tr>\n",
       "    <tr>\n",
       "      <th>6535.04</th>\n",
       "      <td>W 34 St &amp;\\tHudson Blvd E</td>\n",
       "      <td>11898</td>\n",
       "      <td>226.0</td>\n",
       "      <td>226</td>\n",
       "      <td>12124</td>\n",
       "      <td>[11898, 226]</td>\n",
       "      <td>52.646018</td>\n",
       "      <td>0.981359</td>\n",
       "      <td>2</td>\n",
       "    </tr>\n",
       "    <tr>\n",
       "      <th>5382.07</th>\n",
       "      <td>Forsyth St\\t&amp; Grand St</td>\n",
       "      <td>18437</td>\n",
       "      <td>211.0</td>\n",
       "      <td>211</td>\n",
       "      <td>18648</td>\n",
       "      <td>[18437, 211]</td>\n",
       "      <td>87.379147</td>\n",
       "      <td>0.988685</td>\n",
       "      <td>2</td>\n",
       "    </tr>\n",
       "    <tr>\n",
       "      <th>5329.08</th>\n",
       "      <td>Murray St\\t&amp; West St</td>\n",
       "      <td>3899</td>\n",
       "      <td>36.0</td>\n",
       "      <td>36</td>\n",
       "      <td>3935</td>\n",
       "      <td>[3899, 36]</td>\n",
       "      <td>108.305556</td>\n",
       "      <td>0.990851</td>\n",
       "      <td>2</td>\n",
       "    </tr>\n",
       "    <tr>\n",
       "      <th>4781.05</th>\n",
       "      <td>Nassau St\\t&amp; Duffield St</td>\n",
       "      <td>2975</td>\n",
       "      <td>25.0</td>\n",
       "      <td>25</td>\n",
       "      <td>3000</td>\n",
       "      <td>[2975, 25]</td>\n",
       "      <td>119.000000</td>\n",
       "      <td>0.991667</td>\n",
       "      <td>2</td>\n",
       "    </tr>\n",
       "    <tr>\n",
       "      <th>...</th>\n",
       "      <td>...</td>\n",
       "      <td>...</td>\n",
       "      <td>...</td>\n",
       "      <td>...</td>\n",
       "      <td>...</td>\n",
       "      <td>...</td>\n",
       "      <td>...</td>\n",
       "      <td>...</td>\n",
       "      <td>...</td>\n",
       "    </tr>\n",
       "    <tr>\n",
       "      <th>7409.08</th>\n",
       "      <td>W 84 St &amp; Broadway</td>\n",
       "      <td>7321</td>\n",
       "      <td>NaN</td>\n",
       "      <td>0</td>\n",
       "      <td>7321</td>\n",
       "      <td>[7321]</td>\n",
       "      <td>NaN</td>\n",
       "      <td>1.000000</td>\n",
       "      <td>1</td>\n",
       "    </tr>\n",
       "    <tr>\n",
       "      <th>7414.17</th>\n",
       "      <td>3 Ave &amp; E 100 St</td>\n",
       "      <td>2460</td>\n",
       "      <td>NaN</td>\n",
       "      <td>0</td>\n",
       "      <td>2460</td>\n",
       "      <td>[2460]</td>\n",
       "      <td>NaN</td>\n",
       "      <td>1.000000</td>\n",
       "      <td>1</td>\n",
       "    </tr>\n",
       "    <tr>\n",
       "      <th>7432.04</th>\n",
       "      <td>W 90 St &amp; Amsterdam Ave</td>\n",
       "      <td>4956</td>\n",
       "      <td>NaN</td>\n",
       "      <td>0</td>\n",
       "      <td>4956</td>\n",
       "      <td>[4956]</td>\n",
       "      <td>NaN</td>\n",
       "      <td>1.000000</td>\n",
       "      <td>1</td>\n",
       "    </tr>\n",
       "    <tr>\n",
       "      <th>6450.12</th>\n",
       "      <td>8 Ave &amp; W 33 St</td>\n",
       "      <td>18921</td>\n",
       "      <td>NaN</td>\n",
       "      <td>0</td>\n",
       "      <td>18921</td>\n",
       "      <td>[18921]</td>\n",
       "      <td>NaN</td>\n",
       "      <td>1.000000</td>\n",
       "      <td>1</td>\n",
       "    </tr>\n",
       "    <tr>\n",
       "      <th>2733.03</th>\n",
       "      <td>67 St &amp; Erik Pl</td>\n",
       "      <td>694</td>\n",
       "      <td>NaN</td>\n",
       "      <td>0</td>\n",
       "      <td>694</td>\n",
       "      <td>[694]</td>\n",
       "      <td>NaN</td>\n",
       "      <td>1.000000</td>\n",
       "      <td>1</td>\n",
       "    </tr>\n",
       "  </tbody>\n",
       "</table>\n",
       "<p>1666 rows × 9 columns</p>\n",
       "</div>"
      ],
      "text/plain": [
       "                        Station Name  mode_count  second  restsum  total  \\\n",
       "Station ID                                                                 \n",
       "6708.04          Broadway\\t& W 48 St       16538   511.0      511  17049   \n",
       "6535.04     W 34 St &\\tHudson Blvd E       11898   226.0      226  12124   \n",
       "5382.07       Forsyth St\\t& Grand St       18437   211.0      211  18648   \n",
       "5329.08         Murray St\\t& West St        3899    36.0       36   3935   \n",
       "4781.05     Nassau St\\t& Duffield St        2975    25.0       25   3000   \n",
       "...                              ...         ...     ...      ...    ...   \n",
       "7409.08           W 84 St & Broadway        7321     NaN        0   7321   \n",
       "7414.17             3 Ave & E 100 St        2460     NaN        0   2460   \n",
       "7432.04      W 90 St & Amsterdam Ave        4956     NaN        0   4956   \n",
       "6450.12              8 Ave & W 33 St       18921     NaN        0  18921   \n",
       "2733.03              67 St & Erik Pl         694     NaN        0    694   \n",
       "\n",
       "                  counts  first/second  mode_pct  num  \n",
       "Station ID                                             \n",
       "6708.04     [16538, 511]     32.363992  0.970028    2  \n",
       "6535.04     [11898, 226]     52.646018  0.981359    2  \n",
       "5382.07     [18437, 211]     87.379147  0.988685    2  \n",
       "5329.08       [3899, 36]    108.305556  0.990851    2  \n",
       "4781.05       [2975, 25]    119.000000  0.991667    2  \n",
       "...                  ...           ...       ...  ...  \n",
       "7409.08           [7321]           NaN  1.000000    1  \n",
       "7414.17           [2460]           NaN  1.000000    1  \n",
       "7432.04           [4956]           NaN  1.000000    1  \n",
       "6450.12          [18921]           NaN  1.000000    1  \n",
       "2733.03            [694]           NaN  1.000000    1  \n",
       "\n",
       "[1666 rows x 9 columns]"
      ]
     },
     "execution_count": 107,
     "metadata": {},
     "output_type": "execute_result"
    }
   ],
   "source": [
    "annotated_station_names = mode_sketch(names.to_frame(), 'Station Name')\n",
    "annotated_station_names"
   ]
  },
  {
   "cell_type": "code",
   "execution_count": 104,
   "id": "828652f6",
   "metadata": {},
   "outputs": [
    {
     "data": {
      "text/html": [
       "<div>\n",
       "<style scoped>\n",
       "    .dataframe tbody tr th:only-of-type {\n",
       "        vertical-align: middle;\n",
       "    }\n",
       "\n",
       "    .dataframe tbody tr th {\n",
       "        vertical-align: top;\n",
       "    }\n",
       "\n",
       "    .dataframe thead th {\n",
       "        text-align: right;\n",
       "    }\n",
       "</style>\n",
       "<table border=\"1\" class=\"dataframe\">\n",
       "  <thead>\n",
       "    <tr style=\"text-align: right;\">\n",
       "      <th></th>\n",
       "      <th>Latitude</th>\n",
       "      <th>Longitude</th>\n",
       "      <th>mode_count</th>\n",
       "      <th>second</th>\n",
       "      <th>restsum</th>\n",
       "      <th>total</th>\n",
       "      <th>counts</th>\n",
       "      <th>first/second</th>\n",
       "      <th>mode_pct</th>\n",
       "      <th>num</th>\n",
       "    </tr>\n",
       "    <tr>\n",
       "      <th>Station ID</th>\n",
       "      <th></th>\n",
       "      <th></th>\n",
       "      <th></th>\n",
       "      <th></th>\n",
       "      <th></th>\n",
       "      <th></th>\n",
       "      <th></th>\n",
       "      <th></th>\n",
       "      <th></th>\n",
       "      <th></th>\n",
       "    </tr>\n",
       "  </thead>\n",
       "  <tbody>\n",
       "    <tr>\n",
       "      <th>8356.04</th>\n",
       "      <td>40.848793</td>\n",
       "      <td>-73.903178</td>\n",
       "      <td>1773</td>\n",
       "      <td>2.0</td>\n",
       "      <td>1014</td>\n",
       "      <td>2787</td>\n",
       "      <td>[1773, 2, 1, 1, 1, 1, 1, 1, 1, 1, 1, 1, 1, 1, ...</td>\n",
       "      <td>886.500000</td>\n",
       "      <td>0.636168</td>\n",
       "      <td>1014</td>\n",
       "    </tr>\n",
       "    <tr>\n",
       "      <th>8156.03</th>\n",
       "      <td>40.836179</td>\n",
       "      <td>-73.907301</td>\n",
       "      <td>3556</td>\n",
       "      <td>3.0</td>\n",
       "      <td>1972</td>\n",
       "      <td>5528</td>\n",
       "      <td>[3556, 3, 2, 2, 2, 2, 2, 2, 2, 2, 2, 2, 2, 2, ...</td>\n",
       "      <td>1185.333333</td>\n",
       "      <td>0.643271</td>\n",
       "      <td>1954</td>\n",
       "    </tr>\n",
       "    <tr>\n",
       "      <th>8160.03</th>\n",
       "      <td>40.835334</td>\n",
       "      <td>-73.915400</td>\n",
       "      <td>1109</td>\n",
       "      <td>2.0</td>\n",
       "      <td>605</td>\n",
       "      <td>1714</td>\n",
       "      <td>[1109, 2, 2, 2, 2, 2, 2, 1, 1, 1, 1, 1, 1, 1, ...</td>\n",
       "      <td>554.500000</td>\n",
       "      <td>0.647025</td>\n",
       "      <td>600</td>\n",
       "    </tr>\n",
       "    <tr>\n",
       "      <th>8156.01</th>\n",
       "      <td>40.837213</td>\n",
       "      <td>-73.908345</td>\n",
       "      <td>1316</td>\n",
       "      <td>2.0</td>\n",
       "      <td>697</td>\n",
       "      <td>2013</td>\n",
       "      <td>[1316, 2, 2, 2, 1, 1, 1, 1, 1, 1, 1, 1, 1, 1, ...</td>\n",
       "      <td>658.000000</td>\n",
       "      <td>0.653751</td>\n",
       "      <td>695</td>\n",
       "    </tr>\n",
       "    <tr>\n",
       "      <th>6134.13</th>\n",
       "      <td>40.741120</td>\n",
       "      <td>-73.921037</td>\n",
       "      <td>2</td>\n",
       "      <td>1.0</td>\n",
       "      <td>1</td>\n",
       "      <td>3</td>\n",
       "      <td>[2, 1]</td>\n",
       "      <td>2.000000</td>\n",
       "      <td>0.666667</td>\n",
       "      <td>2</td>\n",
       "    </tr>\n",
       "    <tr>\n",
       "      <th>...</th>\n",
       "      <td>...</td>\n",
       "      <td>...</td>\n",
       "      <td>...</td>\n",
       "      <td>...</td>\n",
       "      <td>...</td>\n",
       "      <td>...</td>\n",
       "      <td>...</td>\n",
       "      <td>...</td>\n",
       "      <td>...</td>\n",
       "      <td>...</td>\n",
       "    </tr>\n",
       "    <tr>\n",
       "      <th>7271.01</th>\n",
       "      <td>40.779770</td>\n",
       "      <td>-73.923162</td>\n",
       "      <td>2862</td>\n",
       "      <td>1.0</td>\n",
       "      <td>136</td>\n",
       "      <td>2998</td>\n",
       "      <td>[2862, 1, 1, 1, 1, 1, 1, 1, 1, 1, 1, 1, 1, 1, ...</td>\n",
       "      <td>2862.000000</td>\n",
       "      <td>0.954636</td>\n",
       "      <td>137</td>\n",
       "    </tr>\n",
       "    <tr>\n",
       "      <th>5779.11</th>\n",
       "      <td>40.730311</td>\n",
       "      <td>-73.980472</td>\n",
       "      <td>16704</td>\n",
       "      <td>24.0</td>\n",
       "      <td>776</td>\n",
       "      <td>17480</td>\n",
       "      <td>[16704, 24, 2, 1, 1, 1, 1, 1, 1, 1, 1, 1, 1, 1...</td>\n",
       "      <td>696.000000</td>\n",
       "      <td>0.955606</td>\n",
       "      <td>753</td>\n",
       "    </tr>\n",
       "    <tr>\n",
       "      <th>6599.01</th>\n",
       "      <td>40.757284</td>\n",
       "      <td>-73.953600</td>\n",
       "      <td>5468</td>\n",
       "      <td>1.0</td>\n",
       "      <td>252</td>\n",
       "      <td>5720</td>\n",
       "      <td>[5468, 1, 1, 1, 1, 1, 1, 1, 1, 1, 1, 1, 1, 1, ...</td>\n",
       "      <td>5468.000000</td>\n",
       "      <td>0.955944</td>\n",
       "      <td>253</td>\n",
       "    </tr>\n",
       "    <tr>\n",
       "      <th>5779.09</th>\n",
       "      <td>40.729667</td>\n",
       "      <td>-73.980680</td>\n",
       "      <td>8425</td>\n",
       "      <td>21.0</td>\n",
       "      <td>376</td>\n",
       "      <td>8801</td>\n",
       "      <td>[8425, 21, 1, 1, 1, 1, 1, 1, 1, 1, 1, 1, 1, 1,...</td>\n",
       "      <td>401.190476</td>\n",
       "      <td>0.957278</td>\n",
       "      <td>357</td>\n",
       "    </tr>\n",
       "    <tr>\n",
       "      <th>8491.07</th>\n",
       "      <td>40.857158</td>\n",
       "      <td>-73.927174</td>\n",
       "      <td>2</td>\n",
       "      <td>NaN</td>\n",
       "      <td>0</td>\n",
       "      <td>2</td>\n",
       "      <td>[2]</td>\n",
       "      <td>NaN</td>\n",
       "      <td>1.000000</td>\n",
       "      <td>1</td>\n",
       "    </tr>\n",
       "  </tbody>\n",
       "</table>\n",
       "<p>1666 rows × 10 columns</p>\n",
       "</div>"
      ],
      "text/plain": [
       "             Latitude  Longitude  mode_count  second  restsum  total  \\\n",
       "Station ID                                                             \n",
       "8356.04     40.848793 -73.903178        1773     2.0     1014   2787   \n",
       "8156.03     40.836179 -73.907301        3556     3.0     1972   5528   \n",
       "8160.03     40.835334 -73.915400        1109     2.0      605   1714   \n",
       "8156.01     40.837213 -73.908345        1316     2.0      697   2013   \n",
       "6134.13     40.741120 -73.921037           2     1.0        1      3   \n",
       "...               ...        ...         ...     ...      ...    ...   \n",
       "7271.01     40.779770 -73.923162        2862     1.0      136   2998   \n",
       "5779.11     40.730311 -73.980472       16704    24.0      776  17480   \n",
       "6599.01     40.757284 -73.953600        5468     1.0      252   5720   \n",
       "5779.09     40.729667 -73.980680        8425    21.0      376   8801   \n",
       "8491.07     40.857158 -73.927174           2     NaN        0      2   \n",
       "\n",
       "                                                       counts  first/second  \\\n",
       "Station ID                                                                    \n",
       "8356.04     [1773, 2, 1, 1, 1, 1, 1, 1, 1, 1, 1, 1, 1, 1, ...    886.500000   \n",
       "8156.03     [3556, 3, 2, 2, 2, 2, 2, 2, 2, 2, 2, 2, 2, 2, ...   1185.333333   \n",
       "8160.03     [1109, 2, 2, 2, 2, 2, 2, 1, 1, 1, 1, 1, 1, 1, ...    554.500000   \n",
       "8156.01     [1316, 2, 2, 2, 1, 1, 1, 1, 1, 1, 1, 1, 1, 1, ...    658.000000   \n",
       "6134.13                                                [2, 1]      2.000000   \n",
       "...                                                       ...           ...   \n",
       "7271.01     [2862, 1, 1, 1, 1, 1, 1, 1, 1, 1, 1, 1, 1, 1, ...   2862.000000   \n",
       "5779.11     [16704, 24, 2, 1, 1, 1, 1, 1, 1, 1, 1, 1, 1, 1...    696.000000   \n",
       "6599.01     [5468, 1, 1, 1, 1, 1, 1, 1, 1, 1, 1, 1, 1, 1, ...   5468.000000   \n",
       "5779.09     [8425, 21, 1, 1, 1, 1, 1, 1, 1, 1, 1, 1, 1, 1,...    401.190476   \n",
       "8491.07                                                   [2]           NaN   \n",
       "\n",
       "            mode_pct   num  \n",
       "Station ID                  \n",
       "8356.04     0.636168  1014  \n",
       "8156.03     0.643271  1954  \n",
       "8160.03     0.647025   600  \n",
       "8156.01     0.653751   695  \n",
       "6134.13     0.666667     2  \n",
       "...              ...   ...  \n",
       "7271.01     0.954636   137  \n",
       "5779.11     0.955606   753  \n",
       "6599.01     0.955944   253  \n",
       "5779.09     0.957278   357  \n",
       "8491.07     1.000000     1  \n",
       "\n",
       "[1666 rows x 10 columns]"
      ]
     },
     "execution_count": 104,
     "metadata": {},
     "output_type": "execute_result"
    }
   ],
   "source": [
    "annotated_stations = mode_sketch(sxs(lats, lngs), ['Latitude', 'Longitude',])\n",
    "annotated_stations"
   ]
  },
  {
   "cell_type": "code",
   "execution_count": 109,
   "id": "7145f9bb",
   "metadata": {},
   "outputs": [
    {
     "data": {
      "text/html": [
       "<div>\n",
       "<style scoped>\n",
       "    .dataframe tbody tr th:only-of-type {\n",
       "        vertical-align: middle;\n",
       "    }\n",
       "\n",
       "    .dataframe tbody tr th {\n",
       "        vertical-align: top;\n",
       "    }\n",
       "\n",
       "    .dataframe thead th {\n",
       "        text-align: right;\n",
       "    }\n",
       "</style>\n",
       "<table border=\"1\" class=\"dataframe\">\n",
       "  <thead>\n",
       "    <tr style=\"text-align: right;\">\n",
       "      <th></th>\n",
       "      <th>Station Name</th>\n",
       "      <th>Latitude</th>\n",
       "      <th>Longitude</th>\n",
       "    </tr>\n",
       "    <tr>\n",
       "      <th>Station ID</th>\n",
       "      <th></th>\n",
       "      <th></th>\n",
       "      <th></th>\n",
       "    </tr>\n",
       "  </thead>\n",
       "  <tbody>\n",
       "    <tr>\n",
       "      <th>6708.04</th>\n",
       "      <td>Broadway\\t&amp; W 48 St</td>\n",
       "      <td>40.760177</td>\n",
       "      <td>-73.984868</td>\n",
       "    </tr>\n",
       "    <tr>\n",
       "      <th>6535.04</th>\n",
       "      <td>W 34 St &amp;\\tHudson Blvd E</td>\n",
       "      <td>40.755167</td>\n",
       "      <td>-74.000599</td>\n",
       "    </tr>\n",
       "    <tr>\n",
       "      <th>5382.07</th>\n",
       "      <td>Forsyth St\\t&amp; Grand St</td>\n",
       "      <td>40.717798</td>\n",
       "      <td>-73.993161</td>\n",
       "    </tr>\n",
       "    <tr>\n",
       "      <th>5329.08</th>\n",
       "      <td>Murray St\\t&amp; West St</td>\n",
       "      <td>40.715030</td>\n",
       "      <td>-74.012460</td>\n",
       "    </tr>\n",
       "    <tr>\n",
       "      <th>4781.05</th>\n",
       "      <td>Nassau St\\t&amp; Duffield St</td>\n",
       "      <td>40.698477</td>\n",
       "      <td>-73.983840</td>\n",
       "    </tr>\n",
       "    <tr>\n",
       "      <th>...</th>\n",
       "      <td>...</td>\n",
       "      <td>...</td>\n",
       "      <td>...</td>\n",
       "    </tr>\n",
       "    <tr>\n",
       "      <th>7409.08</th>\n",
       "      <td>W 84 St &amp; Broadway</td>\n",
       "      <td>40.786795</td>\n",
       "      <td>-73.977112</td>\n",
       "    </tr>\n",
       "    <tr>\n",
       "      <th>7414.17</th>\n",
       "      <td>3 Ave &amp; E 100 St</td>\n",
       "      <td>40.787721</td>\n",
       "      <td>-73.947283</td>\n",
       "    </tr>\n",
       "    <tr>\n",
       "      <th>7432.04</th>\n",
       "      <td>W 90 St &amp; Amsterdam Ave</td>\n",
       "      <td>40.790179</td>\n",
       "      <td>-73.972889</td>\n",
       "    </tr>\n",
       "    <tr>\n",
       "      <th>6450.12</th>\n",
       "      <td>8 Ave &amp; W 33 St</td>\n",
       "      <td>40.751551</td>\n",
       "      <td>-73.993934</td>\n",
       "    </tr>\n",
       "    <tr>\n",
       "      <th>2733.03</th>\n",
       "      <td>67 St &amp; Erik Pl</td>\n",
       "      <td>40.633385</td>\n",
       "      <td>-74.016562</td>\n",
       "    </tr>\n",
       "  </tbody>\n",
       "</table>\n",
       "<p>1666 rows × 3 columns</p>\n",
       "</div>"
      ],
      "text/plain": [
       "                        Station Name   Latitude  Longitude\n",
       "Station ID                                                \n",
       "6708.04          Broadway\\t& W 48 St  40.760177 -73.984868\n",
       "6535.04     W 34 St &\\tHudson Blvd E  40.755167 -74.000599\n",
       "5382.07       Forsyth St\\t& Grand St  40.717798 -73.993161\n",
       "5329.08         Murray St\\t& West St  40.715030 -74.012460\n",
       "4781.05     Nassau St\\t& Duffield St  40.698477 -73.983840\n",
       "...                              ...        ...        ...\n",
       "7409.08           W 84 St & Broadway  40.786795 -73.977112\n",
       "7414.17             3 Ave & E 100 St  40.787721 -73.947283\n",
       "7432.04      W 90 St & Amsterdam Ave  40.790179 -73.972889\n",
       "6450.12              8 Ave & W 33 St  40.751551 -73.993934\n",
       "2733.03              67 St & Erik Pl  40.633385 -74.016562\n",
       "\n",
       "[1666 rows x 3 columns]"
      ]
     },
     "execution_count": 109,
     "metadata": {},
     "output_type": "execute_result"
    }
   ],
   "source": [
    "stations = sxs(\n",
    "    annotated_station_names['Station Name'],\n",
    "    annotated_stations[['Latitude', 'Longitude']],\n",
    ")\n",
    "stations"
   ]
  },
  {
   "cell_type": "markdown",
   "id": "ad152f24",
   "metadata": {},
   "source": [
    "### Create unifed \"dockings\" with melted start/end"
   ]
  },
  {
   "cell_type": "code",
   "execution_count": 111,
   "id": "26a5b81c",
   "metadata": {},
   "outputs": [
    {
     "data": {
      "text/html": [
       "<div>\n",
       "<style scoped>\n",
       "    .dataframe tbody tr th:only-of-type {\n",
       "        vertical-align: middle;\n",
       "    }\n",
       "\n",
       "    .dataframe tbody tr th {\n",
       "        vertical-align: top;\n",
       "    }\n",
       "\n",
       "    .dataframe thead th {\n",
       "        text-align: right;\n",
       "    }\n",
       "</style>\n",
       "<table border=\"1\" class=\"dataframe\">\n",
       "  <thead>\n",
       "    <tr style=\"text-align: right;\">\n",
       "      <th></th>\n",
       "      <th>Station ID</th>\n",
       "      <th>Day</th>\n",
       "      <th>Hour</th>\n",
       "      <th>Weekday</th>\n",
       "      <th>Start</th>\n",
       "    </tr>\n",
       "  </thead>\n",
       "  <tbody>\n",
       "    <tr>\n",
       "      <th>0</th>\n",
       "      <td>5351.07</td>\n",
       "      <td>28</td>\n",
       "      <td>0</td>\n",
       "      <td>6</td>\n",
       "      <td>True</td>\n",
       "    </tr>\n",
       "    <tr>\n",
       "      <th>1</th>\n",
       "      <td>6164.09</td>\n",
       "      <td>31</td>\n",
       "      <td>16</td>\n",
       "      <td>2</td>\n",
       "      <td>True</td>\n",
       "    </tr>\n",
       "    <tr>\n",
       "      <th>2</th>\n",
       "      <td>7748.02</td>\n",
       "      <td>27</td>\n",
       "      <td>23</td>\n",
       "      <td>5</td>\n",
       "      <td>True</td>\n",
       "    </tr>\n",
       "    <tr>\n",
       "      <th>3</th>\n",
       "      <td>6164.09</td>\n",
       "      <td>26</td>\n",
       "      <td>19</td>\n",
       "      <td>4</td>\n",
       "      <td>True</td>\n",
       "    </tr>\n",
       "    <tr>\n",
       "      <th>4</th>\n",
       "      <td>5938.11</td>\n",
       "      <td>25</td>\n",
       "      <td>22</td>\n",
       "      <td>3</td>\n",
       "      <td>True</td>\n",
       "    </tr>\n",
       "    <tr>\n",
       "      <th>...</th>\n",
       "      <td>...</td>\n",
       "      <td>...</td>\n",
       "      <td>...</td>\n",
       "      <td>...</td>\n",
       "      <td>...</td>\n",
       "    </tr>\n",
       "    <tr>\n",
       "      <th>115226</th>\n",
       "      <td>HB502</td>\n",
       "      <td>3</td>\n",
       "      <td>19</td>\n",
       "      <td>2</td>\n",
       "      <td>False</td>\n",
       "    </tr>\n",
       "    <tr>\n",
       "      <th>115227</th>\n",
       "      <td>HB603</td>\n",
       "      <td>31</td>\n",
       "      <td>18</td>\n",
       "      <td>2</td>\n",
       "      <td>False</td>\n",
       "    </tr>\n",
       "    <tr>\n",
       "      <th>115228</th>\n",
       "      <td>HB603</td>\n",
       "      <td>24</td>\n",
       "      <td>14</td>\n",
       "      <td>2</td>\n",
       "      <td>False</td>\n",
       "    </tr>\n",
       "    <tr>\n",
       "      <th>115229</th>\n",
       "      <td>HB502</td>\n",
       "      <td>24</td>\n",
       "      <td>19</td>\n",
       "      <td>2</td>\n",
       "      <td>False</td>\n",
       "    </tr>\n",
       "    <tr>\n",
       "      <th>115230</th>\n",
       "      <td>HB603</td>\n",
       "      <td>31</td>\n",
       "      <td>8</td>\n",
       "      <td>2</td>\n",
       "      <td>False</td>\n",
       "    </tr>\n",
       "  </tbody>\n",
       "</table>\n",
       "<p>7570940 rows × 5 columns</p>\n",
       "</div>"
      ],
      "text/plain": [
       "       Station ID  Day  Hour  Weekday  Start\n",
       "0         5351.07   28     0        6   True\n",
       "1         6164.09   31    16        2   True\n",
       "2         7748.02   27    23        5   True\n",
       "3         6164.09   26    19        4   True\n",
       "4         5938.11   25    22        3   True\n",
       "...           ...  ...   ...      ...    ...\n",
       "115226      HB502    3    19        2  False\n",
       "115227      HB603   31    18        2  False\n",
       "115228      HB603   24    14        2  False\n",
       "115229      HB502   24    19        2  False\n",
       "115230      HB603   31     8        2  False\n",
       "\n",
       "[7570940 rows x 5 columns]"
      ]
     },
     "execution_count": 111,
     "metadata": {},
     "output_type": "execute_result"
    }
   ],
   "source": [
    "starts = d[['Start Station ID']].copy()\n",
    "start_times = d['Start Time']\n",
    "ends = d[['End Station ID']].copy()\n",
    "end_times = d['Stop Time']\n",
    "\n",
    "starts['Day'] = start_times.dt.day\n",
    "starts['Hour'] = start_times.dt.hour\n",
    "starts['Weekday'] = start_times.dt.weekday\n",
    "ends['Day'] = end_times.dt.day\n",
    "ends['Hour'] = end_times.dt.hour\n",
    "ends['Weekday'] = end_times.dt.weekday\n",
    "\n",
    "starts = starts.rename(columns={'Start Station ID': 'Station ID'})\n",
    "starts['Start'] = True\n",
    "ends = ends.rename(columns={'End Station ID': 'Station ID'})\n",
    "ends['Start'] = False\n",
    "dockings = pd.concat([starts, ends])\n",
    "dockings"
   ]
  },
  {
   "cell_type": "markdown",
   "id": "5b27ec9e",
   "metadata": {},
   "source": [
    "#### JC overall start/end counts"
   ]
  },
  {
   "cell_type": "code",
   "execution_count": 112,
   "id": "a1012951",
   "metadata": {},
   "outputs": [
    {
     "data": {
      "text/plain": [
       "False    114840\n",
       "True     114839\n",
       "Name: Start, dtype: int64"
      ]
     },
     "execution_count": 112,
     "metadata": {},
     "output_type": "execute_result"
    }
   ],
   "source": [
    "jcs = dockings[dockings['Station ID'].str.match('(?:JC|HB)', na=False)]\n",
    "jcs.Start.value_counts()"
   ]
  },
  {
   "cell_type": "code",
   "execution_count": 113,
   "id": "2435c723",
   "metadata": {
    "scrolled": true
   },
   "outputs": [
    {
     "data": {
      "text/html": [
       "<div>\n",
       "<style scoped>\n",
       "    .dataframe tbody tr th:only-of-type {\n",
       "        vertical-align: middle;\n",
       "    }\n",
       "\n",
       "    .dataframe tbody tr th {\n",
       "        vertical-align: top;\n",
       "    }\n",
       "\n",
       "    .dataframe thead th {\n",
       "        text-align: right;\n",
       "    }\n",
       "</style>\n",
       "<table border=\"1\" class=\"dataframe\">\n",
       "  <thead>\n",
       "    <tr style=\"text-align: right;\">\n",
       "      <th></th>\n",
       "      <th>Count</th>\n",
       "      <th>Station Name</th>\n",
       "      <th>Latitude</th>\n",
       "      <th>Longitude</th>\n",
       "    </tr>\n",
       "    <tr>\n",
       "      <th>Station ID</th>\n",
       "      <th></th>\n",
       "      <th></th>\n",
       "      <th></th>\n",
       "      <th></th>\n",
       "    </tr>\n",
       "  </thead>\n",
       "  <tbody>\n",
       "    <tr>\n",
       "      <th>HB101</th>\n",
       "      <td>3505</td>\n",
       "      <td>Hoboken Terminal - Hudson St &amp; Hudson Pl</td>\n",
       "      <td>40.735938</td>\n",
       "      <td>-74.030305</td>\n",
       "    </tr>\n",
       "    <tr>\n",
       "      <th>HB102</th>\n",
       "      <td>4545</td>\n",
       "      <td>Hoboken Terminal - River St &amp; Hudson Pl</td>\n",
       "      <td>40.736068</td>\n",
       "      <td>-74.029127</td>\n",
       "    </tr>\n",
       "    <tr>\n",
       "      <th>HB103</th>\n",
       "      <td>4567</td>\n",
       "      <td>South Waterfront Walkway - Sinatra Dr &amp; 1 St</td>\n",
       "      <td>40.736982</td>\n",
       "      <td>-74.027781</td>\n",
       "    </tr>\n",
       "    <tr>\n",
       "      <th>HB105</th>\n",
       "      <td>2911</td>\n",
       "      <td>City Hall - Washington St &amp; 1 St</td>\n",
       "      <td>40.737360</td>\n",
       "      <td>-74.030970</td>\n",
       "    </tr>\n",
       "    <tr>\n",
       "      <th>HB201</th>\n",
       "      <td>2437</td>\n",
       "      <td>12 St &amp; Sinatra Dr N</td>\n",
       "      <td>40.750604</td>\n",
       "      <td>-74.024020</td>\n",
       "    </tr>\n",
       "    <tr>\n",
       "      <th>HB202</th>\n",
       "      <td>2317</td>\n",
       "      <td>14 St Ferry - 14 St &amp; Shipyard Ln</td>\n",
       "      <td>40.752961</td>\n",
       "      <td>-74.024353</td>\n",
       "    </tr>\n",
       "    <tr>\n",
       "      <th>HB203</th>\n",
       "      <td>1355</td>\n",
       "      <td>Bloomfield St &amp; 15 St</td>\n",
       "      <td>40.754530</td>\n",
       "      <td>-74.026580</td>\n",
       "    </tr>\n",
       "    <tr>\n",
       "      <th>HB301</th>\n",
       "      <td>1367</td>\n",
       "      <td>4 St &amp; Grand St</td>\n",
       "      <td>40.742258</td>\n",
       "      <td>-74.035111</td>\n",
       "    </tr>\n",
       "    <tr>\n",
       "      <th>HB302</th>\n",
       "      <td>1040</td>\n",
       "      <td>6 St &amp; Grand St</td>\n",
       "      <td>40.744398</td>\n",
       "      <td>-74.034501</td>\n",
       "    </tr>\n",
       "    <tr>\n",
       "      <th>HB303</th>\n",
       "      <td>1276</td>\n",
       "      <td>Clinton St &amp; 7 St</td>\n",
       "      <td>40.745420</td>\n",
       "      <td>-74.033320</td>\n",
       "    </tr>\n",
       "    <tr>\n",
       "      <th>HB304</th>\n",
       "      <td>1274</td>\n",
       "      <td>7 St &amp; Monroe St</td>\n",
       "      <td>40.746413</td>\n",
       "      <td>-74.037977</td>\n",
       "    </tr>\n",
       "    <tr>\n",
       "      <th>HB305</th>\n",
       "      <td>1368</td>\n",
       "      <td>9 St HBLR - Jackson St &amp; 8 St</td>\n",
       "      <td>40.747907</td>\n",
       "      <td>-74.038412</td>\n",
       "    </tr>\n",
       "    <tr>\n",
       "      <th>HB401</th>\n",
       "      <td>1303</td>\n",
       "      <td>Southwest Park - Jackson St &amp; Observer Hwy</td>\n",
       "      <td>40.737551</td>\n",
       "      <td>-74.041664</td>\n",
       "    </tr>\n",
       "    <tr>\n",
       "      <th>HB402</th>\n",
       "      <td>1677</td>\n",
       "      <td>Madison St &amp; 1 St</td>\n",
       "      <td>40.738790</td>\n",
       "      <td>-74.039300</td>\n",
       "    </tr>\n",
       "    <tr>\n",
       "      <th>HB404</th>\n",
       "      <td>757</td>\n",
       "      <td>Mama Johnson Field - 4 St &amp; Jackson St</td>\n",
       "      <td>40.743140</td>\n",
       "      <td>-74.040041</td>\n",
       "    </tr>\n",
       "    <tr>\n",
       "      <th>HB407</th>\n",
       "      <td>1135</td>\n",
       "      <td>Adams St &amp; 2 St</td>\n",
       "      <td>40.739814</td>\n",
       "      <td>-74.036904</td>\n",
       "    </tr>\n",
       "    <tr>\n",
       "      <th>HB408</th>\n",
       "      <td>1170</td>\n",
       "      <td>Marshall St &amp; 2 St</td>\n",
       "      <td>40.740802</td>\n",
       "      <td>-74.042521</td>\n",
       "    </tr>\n",
       "    <tr>\n",
       "      <th>HB409</th>\n",
       "      <td>1534</td>\n",
       "      <td>Clinton St &amp; Newark St</td>\n",
       "      <td>40.737430</td>\n",
       "      <td>-74.035710</td>\n",
       "    </tr>\n",
       "    <tr>\n",
       "      <th>HB501</th>\n",
       "      <td>1703</td>\n",
       "      <td>Columbus Park - Clinton St &amp; 9 St</td>\n",
       "      <td>40.748161</td>\n",
       "      <td>-74.032453</td>\n",
       "    </tr>\n",
       "    <tr>\n",
       "      <th>HB502</th>\n",
       "      <td>2029</td>\n",
       "      <td>11 St &amp; Washington St</td>\n",
       "      <td>40.749985</td>\n",
       "      <td>-74.027150</td>\n",
       "    </tr>\n",
       "    <tr>\n",
       "      <th>HB503</th>\n",
       "      <td>1116</td>\n",
       "      <td>Madison St &amp; 10 St</td>\n",
       "      <td>40.749943</td>\n",
       "      <td>-74.035865</td>\n",
       "    </tr>\n",
       "    <tr>\n",
       "      <th>HB505</th>\n",
       "      <td>1245</td>\n",
       "      <td>Willow Ave &amp; 12 St</td>\n",
       "      <td>40.751867</td>\n",
       "      <td>-74.030377</td>\n",
       "    </tr>\n",
       "    <tr>\n",
       "      <th>HB506</th>\n",
       "      <td>1441</td>\n",
       "      <td>Grand St &amp; 14 St</td>\n",
       "      <td>40.754090</td>\n",
       "      <td>-74.031600</td>\n",
       "    </tr>\n",
       "    <tr>\n",
       "      <th>HB507</th>\n",
       "      <td>730</td>\n",
       "      <td>Adams St &amp; 11 St</td>\n",
       "      <td>40.750916</td>\n",
       "      <td>-74.033541</td>\n",
       "    </tr>\n",
       "    <tr>\n",
       "      <th>HB601</th>\n",
       "      <td>1611</td>\n",
       "      <td>Church Sq Park - 5 St &amp; Park Ave</td>\n",
       "      <td>40.742659</td>\n",
       "      <td>-74.032233</td>\n",
       "    </tr>\n",
       "    <tr>\n",
       "      <th>HB602</th>\n",
       "      <td>671</td>\n",
       "      <td>Stevens - River Ter &amp; 6 St</td>\n",
       "      <td>40.743133</td>\n",
       "      <td>-74.026989</td>\n",
       "    </tr>\n",
       "    <tr>\n",
       "      <th>HB603</th>\n",
       "      <td>1857</td>\n",
       "      <td>8 St &amp; Washington St</td>\n",
       "      <td>40.745984</td>\n",
       "      <td>-74.028199</td>\n",
       "    </tr>\n",
       "    <tr>\n",
       "      <th>HB607</th>\n",
       "      <td>2327</td>\n",
       "      <td>Hudson St &amp; 4 St</td>\n",
       "      <td>40.740973</td>\n",
       "      <td>-74.028603</td>\n",
       "    </tr>\n",
       "    <tr>\n",
       "      <th>JC002</th>\n",
       "      <td>1356</td>\n",
       "      <td>Paulus Hook</td>\n",
       "      <td>40.714145</td>\n",
       "      <td>-74.033552</td>\n",
       "    </tr>\n",
       "    <tr>\n",
       "      <th>JC003</th>\n",
       "      <td>1956</td>\n",
       "      <td>City Hall</td>\n",
       "      <td>40.717732</td>\n",
       "      <td>-74.043845</td>\n",
       "    </tr>\n",
       "    <tr>\n",
       "      <th>JC005</th>\n",
       "      <td>5065</td>\n",
       "      <td>Grove St PATH</td>\n",
       "      <td>40.719586</td>\n",
       "      <td>-74.043117</td>\n",
       "    </tr>\n",
       "    <tr>\n",
       "      <th>JC006</th>\n",
       "      <td>1860</td>\n",
       "      <td>Warren St</td>\n",
       "      <td>40.721124</td>\n",
       "      <td>-74.038051</td>\n",
       "    </tr>\n",
       "    <tr>\n",
       "      <th>JC008</th>\n",
       "      <td>2946</td>\n",
       "      <td>Newport Pkwy</td>\n",
       "      <td>40.728745</td>\n",
       "      <td>-74.032108</td>\n",
       "    </tr>\n",
       "    <tr>\n",
       "      <th>JC009</th>\n",
       "      <td>2578</td>\n",
       "      <td>Hamilton Park</td>\n",
       "      <td>40.727596</td>\n",
       "      <td>-74.044247</td>\n",
       "    </tr>\n",
       "    <tr>\n",
       "      <th>JC011</th>\n",
       "      <td>1441</td>\n",
       "      <td>JC Medical Center</td>\n",
       "      <td>40.716540</td>\n",
       "      <td>-74.049638</td>\n",
       "    </tr>\n",
       "    <tr>\n",
       "      <th>JC013</th>\n",
       "      <td>2521</td>\n",
       "      <td>Marin Light Rail</td>\n",
       "      <td>40.714584</td>\n",
       "      <td>-74.042817</td>\n",
       "    </tr>\n",
       "    <tr>\n",
       "      <th>JC014</th>\n",
       "      <td>1509</td>\n",
       "      <td>Columbus Drive</td>\n",
       "      <td>40.718355</td>\n",
       "      <td>-74.038914</td>\n",
       "    </tr>\n",
       "    <tr>\n",
       "      <th>JC018</th>\n",
       "      <td>376</td>\n",
       "      <td>5 Corners Library</td>\n",
       "      <td>40.734961</td>\n",
       "      <td>-74.059503</td>\n",
       "    </tr>\n",
       "    <tr>\n",
       "      <th>JC019</th>\n",
       "      <td>1002</td>\n",
       "      <td>Hilltop</td>\n",
       "      <td>40.731169</td>\n",
       "      <td>-74.057574</td>\n",
       "    </tr>\n",
       "    <tr>\n",
       "      <th>JC020</th>\n",
       "      <td>966</td>\n",
       "      <td>Baldwin at Montgomery</td>\n",
       "      <td>40.723659</td>\n",
       "      <td>-74.064194</td>\n",
       "    </tr>\n",
       "    <tr>\n",
       "      <th>JC022</th>\n",
       "      <td>850</td>\n",
       "      <td>Oakland Ave</td>\n",
       "      <td>40.737604</td>\n",
       "      <td>-74.052478</td>\n",
       "    </tr>\n",
       "    <tr>\n",
       "      <th>JC023</th>\n",
       "      <td>1114</td>\n",
       "      <td>Brunswick St</td>\n",
       "      <td>40.724176</td>\n",
       "      <td>-74.050656</td>\n",
       "    </tr>\n",
       "    <tr>\n",
       "      <th>JC024</th>\n",
       "      <td>848</td>\n",
       "      <td>Pershing Field</td>\n",
       "      <td>40.742677</td>\n",
       "      <td>-74.051789</td>\n",
       "    </tr>\n",
       "    <tr>\n",
       "      <th>JC027</th>\n",
       "      <td>777</td>\n",
       "      <td>Jersey &amp; 6th St</td>\n",
       "      <td>40.725289</td>\n",
       "      <td>-74.045572</td>\n",
       "    </tr>\n",
       "    <tr>\n",
       "      <th>JC032</th>\n",
       "      <td>1578</td>\n",
       "      <td>Newark Ave</td>\n",
       "      <td>40.721525</td>\n",
       "      <td>-74.046305</td>\n",
       "    </tr>\n",
       "    <tr>\n",
       "      <th>JC034</th>\n",
       "      <td>668</td>\n",
       "      <td>Christ Hospital</td>\n",
       "      <td>40.734786</td>\n",
       "      <td>-74.050444</td>\n",
       "    </tr>\n",
       "    <tr>\n",
       "      <th>JC035</th>\n",
       "      <td>1353</td>\n",
       "      <td>Van Vorst Park</td>\n",
       "      <td>40.718489</td>\n",
       "      <td>-74.047727</td>\n",
       "    </tr>\n",
       "    <tr>\n",
       "      <th>JC038</th>\n",
       "      <td>735</td>\n",
       "      <td>Essex Light Rail</td>\n",
       "      <td>40.712774</td>\n",
       "      <td>-74.036486</td>\n",
       "    </tr>\n",
       "    <tr>\n",
       "      <th>JC051</th>\n",
       "      <td>274</td>\n",
       "      <td>Union St</td>\n",
       "      <td>40.718211</td>\n",
       "      <td>-74.083639</td>\n",
       "    </tr>\n",
       "    <tr>\n",
       "      <th>JC052</th>\n",
       "      <td>2064</td>\n",
       "      <td>Liberty Light Rail</td>\n",
       "      <td>40.711242</td>\n",
       "      <td>-74.055701</td>\n",
       "    </tr>\n",
       "    <tr>\n",
       "      <th>JC053</th>\n",
       "      <td>680</td>\n",
       "      <td>Lincoln Park</td>\n",
       "      <td>40.724605</td>\n",
       "      <td>-74.078406</td>\n",
       "    </tr>\n",
       "    <tr>\n",
       "      <th>JC055</th>\n",
       "      <td>1334</td>\n",
       "      <td>McGinley Square</td>\n",
       "      <td>40.725340</td>\n",
       "      <td>-74.067622</td>\n",
       "    </tr>\n",
       "    <tr>\n",
       "      <th>JC057</th>\n",
       "      <td>861</td>\n",
       "      <td>Riverview Park</td>\n",
       "      <td>40.744319</td>\n",
       "      <td>-74.043991</td>\n",
       "    </tr>\n",
       "    <tr>\n",
       "      <th>JC059</th>\n",
       "      <td>458</td>\n",
       "      <td>Heights Elevator</td>\n",
       "      <td>40.748716</td>\n",
       "      <td>-74.040443</td>\n",
       "    </tr>\n",
       "    <tr>\n",
       "      <th>JC063</th>\n",
       "      <td>188</td>\n",
       "      <td>Jackson Square</td>\n",
       "      <td>40.711130</td>\n",
       "      <td>-74.078900</td>\n",
       "    </tr>\n",
       "    <tr>\n",
       "      <th>JC065</th>\n",
       "      <td>306</td>\n",
       "      <td>Dey St</td>\n",
       "      <td>40.737711</td>\n",
       "      <td>-74.066921</td>\n",
       "    </tr>\n",
       "    <tr>\n",
       "      <th>JC066</th>\n",
       "      <td>2392</td>\n",
       "      <td>Newport PATH</td>\n",
       "      <td>40.727224</td>\n",
       "      <td>-74.033759</td>\n",
       "    </tr>\n",
       "    <tr>\n",
       "      <th>JC072</th>\n",
       "      <td>1100</td>\n",
       "      <td>Morris Canal</td>\n",
       "      <td>40.712419</td>\n",
       "      <td>-74.038526</td>\n",
       "    </tr>\n",
       "    <tr>\n",
       "      <th>JC074</th>\n",
       "      <td>1006</td>\n",
       "      <td>Jersey &amp; 3rd</td>\n",
       "      <td>40.723332</td>\n",
       "      <td>-74.045953</td>\n",
       "    </tr>\n",
       "    <tr>\n",
       "      <th>JC075</th>\n",
       "      <td>881</td>\n",
       "      <td>Monmouth and 6th</td>\n",
       "      <td>40.725685</td>\n",
       "      <td>-74.048790</td>\n",
       "    </tr>\n",
       "    <tr>\n",
       "      <th>JC076</th>\n",
       "      <td>821</td>\n",
       "      <td>Dixon Mills</td>\n",
       "      <td>40.721630</td>\n",
       "      <td>-74.049968</td>\n",
       "    </tr>\n",
       "    <tr>\n",
       "      <th>JC077</th>\n",
       "      <td>588</td>\n",
       "      <td>Astor Place</td>\n",
       "      <td>40.719282</td>\n",
       "      <td>-74.071262</td>\n",
       "    </tr>\n",
       "    <tr>\n",
       "      <th>JC078</th>\n",
       "      <td>900</td>\n",
       "      <td>Lafayette Park</td>\n",
       "      <td>40.713464</td>\n",
       "      <td>-74.062859</td>\n",
       "    </tr>\n",
       "    <tr>\n",
       "      <th>JC080</th>\n",
       "      <td>570</td>\n",
       "      <td>Leonard Gordon Park</td>\n",
       "      <td>40.745910</td>\n",
       "      <td>-74.057271</td>\n",
       "    </tr>\n",
       "    <tr>\n",
       "      <th>JC081</th>\n",
       "      <td>1153</td>\n",
       "      <td>Brunswick &amp; 6th</td>\n",
       "      <td>40.726012</td>\n",
       "      <td>-74.050389</td>\n",
       "    </tr>\n",
       "    <tr>\n",
       "      <th>JC082</th>\n",
       "      <td>1193</td>\n",
       "      <td>Manila &amp; 1st</td>\n",
       "      <td>40.721651</td>\n",
       "      <td>-74.042884</td>\n",
       "    </tr>\n",
       "    <tr>\n",
       "      <th>JC084</th>\n",
       "      <td>503</td>\n",
       "      <td>Communipaw &amp; Berry Lane</td>\n",
       "      <td>40.714358</td>\n",
       "      <td>-74.066611</td>\n",
       "    </tr>\n",
       "    <tr>\n",
       "      <th>JC093</th>\n",
       "      <td>652</td>\n",
       "      <td>Fairmount Ave</td>\n",
       "      <td>40.725726</td>\n",
       "      <td>-74.071959</td>\n",
       "    </tr>\n",
       "    <tr>\n",
       "      <th>JC094</th>\n",
       "      <td>341</td>\n",
       "      <td>Glenwood Ave</td>\n",
       "      <td>40.727551</td>\n",
       "      <td>-74.071061</td>\n",
       "    </tr>\n",
       "    <tr>\n",
       "      <th>JC095</th>\n",
       "      <td>627</td>\n",
       "      <td>Bergen Ave</td>\n",
       "      <td>40.722104</td>\n",
       "      <td>-74.071455</td>\n",
       "    </tr>\n",
       "    <tr>\n",
       "      <th>JC098</th>\n",
       "      <td>2094</td>\n",
       "      <td>Washington St</td>\n",
       "      <td>40.724294</td>\n",
       "      <td>-74.035483</td>\n",
       "    </tr>\n",
       "    <tr>\n",
       "      <th>JC099</th>\n",
       "      <td>678</td>\n",
       "      <td>Montgomery St</td>\n",
       "      <td>40.719420</td>\n",
       "      <td>-74.050990</td>\n",
       "    </tr>\n",
       "    <tr>\n",
       "      <th>JC102</th>\n",
       "      <td>1309</td>\n",
       "      <td>Grand St</td>\n",
       "      <td>40.715178</td>\n",
       "      <td>-74.037683</td>\n",
       "    </tr>\n",
       "    <tr>\n",
       "      <th>JC103</th>\n",
       "      <td>899</td>\n",
       "      <td>Journal Square</td>\n",
       "      <td>40.733670</td>\n",
       "      <td>-74.062500</td>\n",
       "    </tr>\n",
       "    <tr>\n",
       "      <th>JC104</th>\n",
       "      <td>2135</td>\n",
       "      <td>Harborside</td>\n",
       "      <td>40.719252</td>\n",
       "      <td>-74.034234</td>\n",
       "    </tr>\n",
       "    <tr>\n",
       "      <th>JC105</th>\n",
       "      <td>2435</td>\n",
       "      <td>Hoboken Ave at Monmouth St</td>\n",
       "      <td>40.735208</td>\n",
       "      <td>-74.046964</td>\n",
       "    </tr>\n",
       "    <tr>\n",
       "      <th>JC106</th>\n",
       "      <td>2226</td>\n",
       "      <td>Columbus Dr at Exchange Pl</td>\n",
       "      <td>40.716870</td>\n",
       "      <td>-74.032810</td>\n",
       "    </tr>\n",
       "    <tr>\n",
       "      <th>JC107</th>\n",
       "      <td>62</td>\n",
       "      <td>Grant Ave &amp; MLK Dr</td>\n",
       "      <td>40.709198</td>\n",
       "      <td>-74.080843</td>\n",
       "    </tr>\n",
       "    <tr>\n",
       "      <th>JC108</th>\n",
       "      <td>145</td>\n",
       "      <td>Bergen Ave &amp; Stegman St</td>\n",
       "      <td>40.706575</td>\n",
       "      <td>-74.086701</td>\n",
       "    </tr>\n",
       "    <tr>\n",
       "      <th>JC109</th>\n",
       "      <td>2197</td>\n",
       "      <td>Bergen Ave &amp; Sip Ave</td>\n",
       "      <td>40.731009</td>\n",
       "      <td>-74.064437</td>\n",
       "    </tr>\n",
       "  </tbody>\n",
       "</table>\n",
       "</div>"
      ],
      "text/plain": [
       "            Count                                  Station Name   Latitude  \\\n",
       "Station ID                                                                   \n",
       "HB101        3505      Hoboken Terminal - Hudson St & Hudson Pl  40.735938   \n",
       "HB102        4545       Hoboken Terminal - River St & Hudson Pl  40.736068   \n",
       "HB103        4567  South Waterfront Walkway - Sinatra Dr & 1 St  40.736982   \n",
       "HB105        2911              City Hall - Washington St & 1 St  40.737360   \n",
       "HB201        2437                          12 St & Sinatra Dr N  40.750604   \n",
       "HB202        2317             14 St Ferry - 14 St & Shipyard Ln  40.752961   \n",
       "HB203        1355                         Bloomfield St & 15 St  40.754530   \n",
       "HB301        1367                               4 St & Grand St  40.742258   \n",
       "HB302        1040                               6 St & Grand St  40.744398   \n",
       "HB303        1276                             Clinton St & 7 St  40.745420   \n",
       "HB304        1274                              7 St & Monroe St  40.746413   \n",
       "HB305        1368                 9 St HBLR - Jackson St & 8 St  40.747907   \n",
       "HB401        1303    Southwest Park - Jackson St & Observer Hwy  40.737551   \n",
       "HB402        1677                             Madison St & 1 St  40.738790   \n",
       "HB404         757        Mama Johnson Field - 4 St & Jackson St  40.743140   \n",
       "HB407        1135                               Adams St & 2 St  40.739814   \n",
       "HB408        1170                            Marshall St & 2 St  40.740802   \n",
       "HB409        1534                        Clinton St & Newark St  40.737430   \n",
       "HB501        1703             Columbus Park - Clinton St & 9 St  40.748161   \n",
       "HB502        2029                         11 St & Washington St  40.749985   \n",
       "HB503        1116                            Madison St & 10 St  40.749943   \n",
       "HB505        1245                            Willow Ave & 12 St  40.751867   \n",
       "HB506        1441                              Grand St & 14 St  40.754090   \n",
       "HB507         730                              Adams St & 11 St  40.750916   \n",
       "HB601        1611              Church Sq Park - 5 St & Park Ave  40.742659   \n",
       "HB602         671                    Stevens - River Ter & 6 St  40.743133   \n",
       "HB603        1857                          8 St & Washington St  40.745984   \n",
       "HB607        2327                              Hudson St & 4 St  40.740973   \n",
       "JC002        1356                                   Paulus Hook  40.714145   \n",
       "JC003        1956                                     City Hall  40.717732   \n",
       "JC005        5065                                 Grove St PATH  40.719586   \n",
       "JC006        1860                                     Warren St  40.721124   \n",
       "JC008        2946                                  Newport Pkwy  40.728745   \n",
       "JC009        2578                                 Hamilton Park  40.727596   \n",
       "JC011        1441                             JC Medical Center  40.716540   \n",
       "JC013        2521                              Marin Light Rail  40.714584   \n",
       "JC014        1509                                Columbus Drive  40.718355   \n",
       "JC018         376                             5 Corners Library  40.734961   \n",
       "JC019        1002                                       Hilltop  40.731169   \n",
       "JC020         966                         Baldwin at Montgomery  40.723659   \n",
       "JC022         850                                   Oakland Ave  40.737604   \n",
       "JC023        1114                                  Brunswick St  40.724176   \n",
       "JC024         848                                Pershing Field  40.742677   \n",
       "JC027         777                               Jersey & 6th St  40.725289   \n",
       "JC032        1578                                    Newark Ave  40.721525   \n",
       "JC034         668                               Christ Hospital  40.734786   \n",
       "JC035        1353                                Van Vorst Park  40.718489   \n",
       "JC038         735                              Essex Light Rail  40.712774   \n",
       "JC051         274                                      Union St  40.718211   \n",
       "JC052        2064                            Liberty Light Rail  40.711242   \n",
       "JC053         680                                  Lincoln Park  40.724605   \n",
       "JC055        1334                               McGinley Square  40.725340   \n",
       "JC057         861                                Riverview Park  40.744319   \n",
       "JC059         458                              Heights Elevator  40.748716   \n",
       "JC063         188                                Jackson Square  40.711130   \n",
       "JC065         306                                        Dey St  40.737711   \n",
       "JC066        2392                                  Newport PATH  40.727224   \n",
       "JC072        1100                                  Morris Canal  40.712419   \n",
       "JC074        1006                                  Jersey & 3rd  40.723332   \n",
       "JC075         881                              Monmouth and 6th  40.725685   \n",
       "JC076         821                                   Dixon Mills  40.721630   \n",
       "JC077         588                                   Astor Place  40.719282   \n",
       "JC078         900                                Lafayette Park  40.713464   \n",
       "JC080         570                           Leonard Gordon Park  40.745910   \n",
       "JC081        1153                               Brunswick & 6th  40.726012   \n",
       "JC082        1193                                  Manila & 1st  40.721651   \n",
       "JC084         503                       Communipaw & Berry Lane  40.714358   \n",
       "JC093         652                                 Fairmount Ave  40.725726   \n",
       "JC094         341                                  Glenwood Ave  40.727551   \n",
       "JC095         627                                    Bergen Ave  40.722104   \n",
       "JC098        2094                                 Washington St  40.724294   \n",
       "JC099         678                                 Montgomery St  40.719420   \n",
       "JC102        1309                                      Grand St  40.715178   \n",
       "JC103         899                                Journal Square  40.733670   \n",
       "JC104        2135                                    Harborside  40.719252   \n",
       "JC105        2435                    Hoboken Ave at Monmouth St  40.735208   \n",
       "JC106        2226                    Columbus Dr at Exchange Pl  40.716870   \n",
       "JC107          62                            Grant Ave & MLK Dr  40.709198   \n",
       "JC108         145                       Bergen Ave & Stegman St  40.706575   \n",
       "JC109        2197                          Bergen Ave & Sip Ave  40.731009   \n",
       "\n",
       "            Longitude  \n",
       "Station ID             \n",
       "HB101      -74.030305  \n",
       "HB102      -74.029127  \n",
       "HB103      -74.027781  \n",
       "HB105      -74.030970  \n",
       "HB201      -74.024020  \n",
       "HB202      -74.024353  \n",
       "HB203      -74.026580  \n",
       "HB301      -74.035111  \n",
       "HB302      -74.034501  \n",
       "HB303      -74.033320  \n",
       "HB304      -74.037977  \n",
       "HB305      -74.038412  \n",
       "HB401      -74.041664  \n",
       "HB402      -74.039300  \n",
       "HB404      -74.040041  \n",
       "HB407      -74.036904  \n",
       "HB408      -74.042521  \n",
       "HB409      -74.035710  \n",
       "HB501      -74.032453  \n",
       "HB502      -74.027150  \n",
       "HB503      -74.035865  \n",
       "HB505      -74.030377  \n",
       "HB506      -74.031600  \n",
       "HB507      -74.033541  \n",
       "HB601      -74.032233  \n",
       "HB602      -74.026989  \n",
       "HB603      -74.028199  \n",
       "HB607      -74.028603  \n",
       "JC002      -74.033552  \n",
       "JC003      -74.043845  \n",
       "JC005      -74.043117  \n",
       "JC006      -74.038051  \n",
       "JC008      -74.032108  \n",
       "JC009      -74.044247  \n",
       "JC011      -74.049638  \n",
       "JC013      -74.042817  \n",
       "JC014      -74.038914  \n",
       "JC018      -74.059503  \n",
       "JC019      -74.057574  \n",
       "JC020      -74.064194  \n",
       "JC022      -74.052478  \n",
       "JC023      -74.050656  \n",
       "JC024      -74.051789  \n",
       "JC027      -74.045572  \n",
       "JC032      -74.046305  \n",
       "JC034      -74.050444  \n",
       "JC035      -74.047727  \n",
       "JC038      -74.036486  \n",
       "JC051      -74.083639  \n",
       "JC052      -74.055701  \n",
       "JC053      -74.078406  \n",
       "JC055      -74.067622  \n",
       "JC057      -74.043991  \n",
       "JC059      -74.040443  \n",
       "JC063      -74.078900  \n",
       "JC065      -74.066921  \n",
       "JC066      -74.033759  \n",
       "JC072      -74.038526  \n",
       "JC074      -74.045953  \n",
       "JC075      -74.048790  \n",
       "JC076      -74.049968  \n",
       "JC077      -74.071262  \n",
       "JC078      -74.062859  \n",
       "JC080      -74.057271  \n",
       "JC081      -74.050389  \n",
       "JC082      -74.042884  \n",
       "JC084      -74.066611  \n",
       "JC093      -74.071959  \n",
       "JC094      -74.071061  \n",
       "JC095      -74.071455  \n",
       "JC098      -74.035483  \n",
       "JC099      -74.050990  \n",
       "JC102      -74.037683  \n",
       "JC103      -74.062500  \n",
       "JC104      -74.034234  \n",
       "JC105      -74.046964  \n",
       "JC106      -74.032810  \n",
       "JC107      -74.080843  \n",
       "JC108      -74.086701  \n",
       "JC109      -74.064437  "
      ]
     },
     "execution_count": 113,
     "metadata": {},
     "output_type": "execute_result"
    }
   ],
   "source": [
    "jc_starts = jcs[jcs.Start].groupby('Station ID').size().rename('Count')\n",
    "jc_llcs = jc_starts.to_frame().merge(stations, left_index=True, right_index=True)\n",
    "jc_llcs"
   ]
  },
  {
   "cell_type": "markdown",
   "id": "56b635a8",
   "metadata": {},
   "source": [
    "#### Build date range (incl. weekday vs. weekends)"
   ]
  },
  {
   "cell_type": "code",
   "execution_count": 114,
   "id": "3c1d52d1",
   "metadata": {},
   "outputs": [
    {
     "data": {
      "text/plain": [
       "(23, 8)"
      ]
     },
     "execution_count": 114,
     "metadata": {},
     "output_type": "execute_result"
    }
   ],
   "source": [
    "dates = pd.date_range('2022-08-01', '2022-08-31')\n",
    "week_dts = dates[dates.weekday < 5]\n",
    "wknd_dts = dates[dates.weekday >= 5]\n",
    "len(week_dts), len(wknd_dts)"
   ]
  },
  {
   "cell_type": "markdown",
   "id": "77f8ccdf",
   "metadata": {},
   "source": [
    "### Station Counts helper"
   ]
  },
  {
   "cell_type": "code",
   "execution_count": 121,
   "id": "a5f4df07",
   "metadata": {},
   "outputs": [],
   "source": [
    "from typing import Collection\n",
    "\n",
    "def station_counts(*keys, jc=None, weekdays=None, daily_avg=None):\n",
    "    keys = list(keys)\n",
    "    df = dockings\n",
    "    dts = dates\n",
    "    if weekdays is not None:\n",
    "        if weekdays is True:\n",
    "            df = df[df.Weekday < 5]\n",
    "            dts = week_dts\n",
    "        elif weekdays is False:\n",
    "            df = df[df.Weekday >= 5]\n",
    "            dts = wknd_dts\n",
    "        elif isinstance(weekdays, Collection):\n",
    "            weekdays = set(weekdays)\n",
    "            df = df[df.Weekday.apply(lambda wd: wd in weekdays)]\n",
    "            dts = dts[dts.weekday.apply(lambda wd: wd in weekdays)]\n",
    "        else:\n",
    "            raise ValueError(f'Unrecognized weekdays: {weekdays}')\n",
    "\n",
    "    counts = df.groupby(['Station ID'] + keys).size().rename('Count')\n",
    "    counts = counts.reset_index().merge(stations, left_on='Station ID', right_index=True).sort_values('Count')\n",
    "    cols = ['Station Name'] + keys + ['Count']\n",
    "    if daily_avg is None:\n",
    "        if 'Day' in keys or 'Weekday' in keys:\n",
    "            daily_avg = False\n",
    "        else:\n",
    "            daily_avg = True\n",
    "    if daily_avg:\n",
    "        if 'Day' in keys or 'Weekday' in keys:\n",
    "            raise ValueError(\"Can only compute daily averages if daily grouping is not applied\")\n",
    "        counts['Avg'] = counts['Count'] / len(dts)\n",
    "        cols += ['Avg']\n",
    "\n",
    "    counts = counts.set_index('Station ID')[cols]\n",
    "\n",
    "    if jc is True:\n",
    "        counts = counts[counts.index.to_series().str.match('(?:JC|HB)')]\n",
    "    elif js is False:\n",
    "        counts = counts[~counts.index.to_series().str.match('(?:JC|HB)')]\n",
    "\n",
    "    return counts"
   ]
  },
  {
   "cell_type": "markdown",
   "id": "418b6e8c",
   "metadata": {},
   "source": [
    "#### JC counts, by {day,station}"
   ]
  },
  {
   "cell_type": "code",
   "execution_count": 122,
   "id": "79b72f7a",
   "metadata": {},
   "outputs": [
    {
     "data": {
      "text/html": [
       "<div>\n",
       "<style scoped>\n",
       "    .dataframe tbody tr th:only-of-type {\n",
       "        vertical-align: middle;\n",
       "    }\n",
       "\n",
       "    .dataframe tbody tr th {\n",
       "        vertical-align: top;\n",
       "    }\n",
       "\n",
       "    .dataframe thead th {\n",
       "        text-align: right;\n",
       "    }\n",
       "</style>\n",
       "<table border=\"1\" class=\"dataframe\">\n",
       "  <thead>\n",
       "    <tr style=\"text-align: right;\">\n",
       "      <th></th>\n",
       "      <th>Station Name</th>\n",
       "      <th>Day</th>\n",
       "      <th>Count</th>\n",
       "    </tr>\n",
       "    <tr>\n",
       "      <th>Station ID</th>\n",
       "      <th></th>\n",
       "      <th></th>\n",
       "      <th></th>\n",
       "    </tr>\n",
       "  </thead>\n",
       "  <tbody>\n",
       "    <tr>\n",
       "      <th>JC082</th>\n",
       "      <td>Manila &amp; 1st</td>\n",
       "      <td>17</td>\n",
       "      <td>1</td>\n",
       "    </tr>\n",
       "    <tr>\n",
       "      <th>JC107</th>\n",
       "      <td>Grant Ave &amp; MLK Dr</td>\n",
       "      <td>7</td>\n",
       "      <td>1</td>\n",
       "    </tr>\n",
       "    <tr>\n",
       "      <th>JC094</th>\n",
       "      <td>Glenwood Ave</td>\n",
       "      <td>6</td>\n",
       "      <td>1</td>\n",
       "    </tr>\n",
       "    <tr>\n",
       "      <th>JC107</th>\n",
       "      <td>Grant Ave &amp; MLK Dr</td>\n",
       "      <td>20</td>\n",
       "      <td>1</td>\n",
       "    </tr>\n",
       "    <tr>\n",
       "      <th>JC095</th>\n",
       "      <td>Bergen Ave</td>\n",
       "      <td>1</td>\n",
       "      <td>1</td>\n",
       "    </tr>\n",
       "    <tr>\n",
       "      <th>...</th>\n",
       "      <td>...</td>\n",
       "      <td>...</td>\n",
       "      <td>...</td>\n",
       "    </tr>\n",
       "    <tr>\n",
       "      <th>JC005</th>\n",
       "      <td>Grove St PATH</td>\n",
       "      <td>3</td>\n",
       "      <td>409</td>\n",
       "    </tr>\n",
       "    <tr>\n",
       "      <th>HB102</th>\n",
       "      <td>Hoboken Terminal - River St &amp; Hudson Pl</td>\n",
       "      <td>5</td>\n",
       "      <td>410</td>\n",
       "    </tr>\n",
       "    <tr>\n",
       "      <th>JC005</th>\n",
       "      <td>Grove St PATH</td>\n",
       "      <td>17</td>\n",
       "      <td>413</td>\n",
       "    </tr>\n",
       "    <tr>\n",
       "      <th>HB103</th>\n",
       "      <td>South Waterfront Walkway - Sinatra Dr &amp; 1 St</td>\n",
       "      <td>13</td>\n",
       "      <td>455</td>\n",
       "    </tr>\n",
       "    <tr>\n",
       "      <th>HB103</th>\n",
       "      <td>South Waterfront Walkway - Sinatra Dr &amp; 1 St</td>\n",
       "      <td>14</td>\n",
       "      <td>506</td>\n",
       "    </tr>\n",
       "  </tbody>\n",
       "</table>\n",
       "<p>2463 rows × 3 columns</p>\n",
       "</div>"
      ],
      "text/plain": [
       "                                            Station Name  Day  Count\n",
       "Station ID                                                          \n",
       "JC082                                       Manila & 1st   17      1\n",
       "JC107                                 Grant Ave & MLK Dr    7      1\n",
       "JC094                                       Glenwood Ave    6      1\n",
       "JC107                                 Grant Ave & MLK Dr   20      1\n",
       "JC095                                         Bergen Ave    1      1\n",
       "...                                                  ...  ...    ...\n",
       "JC005                                      Grove St PATH    3    409\n",
       "HB102            Hoboken Terminal - River St & Hudson Pl    5    410\n",
       "JC005                                      Grove St PATH   17    413\n",
       "HB103       South Waterfront Walkway - Sinatra Dr & 1 St   13    455\n",
       "HB103       South Waterfront Walkway - Sinatra Dr & 1 St   14    506\n",
       "\n",
       "[2463 rows x 3 columns]"
      ]
     },
     "execution_count": 122,
     "metadata": {},
     "output_type": "execute_result"
    }
   ],
   "source": [
    "jcd = station_counts('Day', jc=True)\n",
    "jcd"
   ]
  },
  {
   "cell_type": "markdown",
   "id": "49eaf4c3",
   "metadata": {},
   "source": [
    "#### Biggest {station,day}s in JC"
   ]
  },
  {
   "cell_type": "code",
   "execution_count": 123,
   "id": "e7449b04",
   "metadata": {
    "scrolled": true
   },
   "outputs": [
    {
     "data": {
      "text/html": [
       "<div>\n",
       "<style scoped>\n",
       "    .dataframe tbody tr th:only-of-type {\n",
       "        vertical-align: middle;\n",
       "    }\n",
       "\n",
       "    .dataframe tbody tr th {\n",
       "        vertical-align: top;\n",
       "    }\n",
       "\n",
       "    .dataframe thead th {\n",
       "        text-align: right;\n",
       "    }\n",
       "</style>\n",
       "<table border=\"1\" class=\"dataframe\">\n",
       "  <thead>\n",
       "    <tr style=\"text-align: right;\">\n",
       "      <th></th>\n",
       "      <th>Station Name</th>\n",
       "      <th>Day</th>\n",
       "      <th>Count</th>\n",
       "    </tr>\n",
       "    <tr>\n",
       "      <th>Station ID</th>\n",
       "      <th></th>\n",
       "      <th></th>\n",
       "      <th></th>\n",
       "    </tr>\n",
       "  </thead>\n",
       "  <tbody>\n",
       "    <tr>\n",
       "      <th>JC098</th>\n",
       "      <td>Washington St</td>\n",
       "      <td>17</td>\n",
       "      <td>216</td>\n",
       "    </tr>\n",
       "    <tr>\n",
       "      <th>JC052</th>\n",
       "      <td>Liberty Light Rail</td>\n",
       "      <td>13</td>\n",
       "      <td>216</td>\n",
       "    </tr>\n",
       "    <tr>\n",
       "      <th>JC008</th>\n",
       "      <td>Newport Pkwy</td>\n",
       "      <td>21</td>\n",
       "      <td>217</td>\n",
       "    </tr>\n",
       "    <tr>\n",
       "      <th>JC066</th>\n",
       "      <td>Newport PATH</td>\n",
       "      <td>7</td>\n",
       "      <td>219</td>\n",
       "    </tr>\n",
       "    <tr>\n",
       "      <th>JC008</th>\n",
       "      <td>Newport Pkwy</td>\n",
       "      <td>7</td>\n",
       "      <td>221</td>\n",
       "    </tr>\n",
       "    <tr>\n",
       "      <th>JC052</th>\n",
       "      <td>Liberty Light Rail</td>\n",
       "      <td>14</td>\n",
       "      <td>222</td>\n",
       "    </tr>\n",
       "    <tr>\n",
       "      <th>JC008</th>\n",
       "      <td>Newport Pkwy</td>\n",
       "      <td>6</td>\n",
       "      <td>222</td>\n",
       "    </tr>\n",
       "    <tr>\n",
       "      <th>JC008</th>\n",
       "      <td>Newport Pkwy</td>\n",
       "      <td>28</td>\n",
       "      <td>223</td>\n",
       "    </tr>\n",
       "    <tr>\n",
       "      <th>JC066</th>\n",
       "      <td>Newport PATH</td>\n",
       "      <td>6</td>\n",
       "      <td>224</td>\n",
       "    </tr>\n",
       "    <tr>\n",
       "      <th>JC106</th>\n",
       "      <td>Columbus Dr at Exchange Pl</td>\n",
       "      <td>6</td>\n",
       "      <td>225</td>\n",
       "    </tr>\n",
       "    <tr>\n",
       "      <th>JC008</th>\n",
       "      <td>Newport Pkwy</td>\n",
       "      <td>20</td>\n",
       "      <td>226</td>\n",
       "    </tr>\n",
       "    <tr>\n",
       "      <th>JC013</th>\n",
       "      <td>Marin Light Rail</td>\n",
       "      <td>14</td>\n",
       "      <td>227</td>\n",
       "    </tr>\n",
       "    <tr>\n",
       "      <th>JC013</th>\n",
       "      <td>Marin Light Rail</td>\n",
       "      <td>13</td>\n",
       "      <td>230</td>\n",
       "    </tr>\n",
       "    <tr>\n",
       "      <th>JC008</th>\n",
       "      <td>Newport Pkwy</td>\n",
       "      <td>19</td>\n",
       "      <td>231</td>\n",
       "    </tr>\n",
       "    <tr>\n",
       "      <th>JC008</th>\n",
       "      <td>Newport Pkwy</td>\n",
       "      <td>27</td>\n",
       "      <td>232</td>\n",
       "    </tr>\n",
       "    <tr>\n",
       "      <th>JC008</th>\n",
       "      <td>Newport Pkwy</td>\n",
       "      <td>5</td>\n",
       "      <td>234</td>\n",
       "    </tr>\n",
       "    <tr>\n",
       "      <th>JC005</th>\n",
       "      <td>Grove St PATH</td>\n",
       "      <td>21</td>\n",
       "      <td>234</td>\n",
       "    </tr>\n",
       "    <tr>\n",
       "      <th>JC005</th>\n",
       "      <td>Grove St PATH</td>\n",
       "      <td>6</td>\n",
       "      <td>235</td>\n",
       "    </tr>\n",
       "    <tr>\n",
       "      <th>JC008</th>\n",
       "      <td>Newport Pkwy</td>\n",
       "      <td>17</td>\n",
       "      <td>238</td>\n",
       "    </tr>\n",
       "    <tr>\n",
       "      <th>JC005</th>\n",
       "      <td>Grove St PATH</td>\n",
       "      <td>22</td>\n",
       "      <td>244</td>\n",
       "    </tr>\n",
       "    <tr>\n",
       "      <th>JC008</th>\n",
       "      <td>Newport Pkwy</td>\n",
       "      <td>14</td>\n",
       "      <td>251</td>\n",
       "    </tr>\n",
       "    <tr>\n",
       "      <th>JC005</th>\n",
       "      <td>Grove St PATH</td>\n",
       "      <td>7</td>\n",
       "      <td>259</td>\n",
       "    </tr>\n",
       "    <tr>\n",
       "      <th>JC098</th>\n",
       "      <td>Washington St</td>\n",
       "      <td>20</td>\n",
       "      <td>260</td>\n",
       "    </tr>\n",
       "    <tr>\n",
       "      <th>JC005</th>\n",
       "      <td>Grove St PATH</td>\n",
       "      <td>28</td>\n",
       "      <td>283</td>\n",
       "    </tr>\n",
       "    <tr>\n",
       "      <th>JC005</th>\n",
       "      <td>Grove St PATH</td>\n",
       "      <td>19</td>\n",
       "      <td>298</td>\n",
       "    </tr>\n",
       "    <tr>\n",
       "      <th>JC005</th>\n",
       "      <td>Grove St PATH</td>\n",
       "      <td>20</td>\n",
       "      <td>300</td>\n",
       "    </tr>\n",
       "    <tr>\n",
       "      <th>JC005</th>\n",
       "      <td>Grove St PATH</td>\n",
       "      <td>27</td>\n",
       "      <td>311</td>\n",
       "    </tr>\n",
       "    <tr>\n",
       "      <th>JC005</th>\n",
       "      <td>Grove St PATH</td>\n",
       "      <td>14</td>\n",
       "      <td>316</td>\n",
       "    </tr>\n",
       "    <tr>\n",
       "      <th>JC005</th>\n",
       "      <td>Grove St PATH</td>\n",
       "      <td>4</td>\n",
       "      <td>321</td>\n",
       "    </tr>\n",
       "    <tr>\n",
       "      <th>JC005</th>\n",
       "      <td>Grove St PATH</td>\n",
       "      <td>13</td>\n",
       "      <td>322</td>\n",
       "    </tr>\n",
       "    <tr>\n",
       "      <th>JC005</th>\n",
       "      <td>Grove St PATH</td>\n",
       "      <td>8</td>\n",
       "      <td>329</td>\n",
       "    </tr>\n",
       "    <tr>\n",
       "      <th>JC005</th>\n",
       "      <td>Grove St PATH</td>\n",
       "      <td>1</td>\n",
       "      <td>330</td>\n",
       "    </tr>\n",
       "    <tr>\n",
       "      <th>JC005</th>\n",
       "      <td>Grove St PATH</td>\n",
       "      <td>30</td>\n",
       "      <td>334</td>\n",
       "    </tr>\n",
       "    <tr>\n",
       "      <th>JC005</th>\n",
       "      <td>Grove St PATH</td>\n",
       "      <td>5</td>\n",
       "      <td>334</td>\n",
       "    </tr>\n",
       "    <tr>\n",
       "      <th>JC005</th>\n",
       "      <td>Grove St PATH</td>\n",
       "      <td>12</td>\n",
       "      <td>348</td>\n",
       "    </tr>\n",
       "    <tr>\n",
       "      <th>JC005</th>\n",
       "      <td>Grove St PATH</td>\n",
       "      <td>9</td>\n",
       "      <td>349</td>\n",
       "    </tr>\n",
       "    <tr>\n",
       "      <th>JC005</th>\n",
       "      <td>Grove St PATH</td>\n",
       "      <td>26</td>\n",
       "      <td>353</td>\n",
       "    </tr>\n",
       "    <tr>\n",
       "      <th>JC005</th>\n",
       "      <td>Grove St PATH</td>\n",
       "      <td>29</td>\n",
       "      <td>354</td>\n",
       "    </tr>\n",
       "    <tr>\n",
       "      <th>JC005</th>\n",
       "      <td>Grove St PATH</td>\n",
       "      <td>10</td>\n",
       "      <td>355</td>\n",
       "    </tr>\n",
       "    <tr>\n",
       "      <th>JC005</th>\n",
       "      <td>Grove St PATH</td>\n",
       "      <td>24</td>\n",
       "      <td>356</td>\n",
       "    </tr>\n",
       "    <tr>\n",
       "      <th>JC005</th>\n",
       "      <td>Grove St PATH</td>\n",
       "      <td>23</td>\n",
       "      <td>360</td>\n",
       "    </tr>\n",
       "    <tr>\n",
       "      <th>JC005</th>\n",
       "      <td>Grove St PATH</td>\n",
       "      <td>11</td>\n",
       "      <td>364</td>\n",
       "    </tr>\n",
       "    <tr>\n",
       "      <th>JC005</th>\n",
       "      <td>Grove St PATH</td>\n",
       "      <td>31</td>\n",
       "      <td>369</td>\n",
       "    </tr>\n",
       "    <tr>\n",
       "      <th>JC005</th>\n",
       "      <td>Grove St PATH</td>\n",
       "      <td>18</td>\n",
       "      <td>373</td>\n",
       "    </tr>\n",
       "    <tr>\n",
       "      <th>JC005</th>\n",
       "      <td>Grove St PATH</td>\n",
       "      <td>16</td>\n",
       "      <td>374</td>\n",
       "    </tr>\n",
       "    <tr>\n",
       "      <th>JC005</th>\n",
       "      <td>Grove St PATH</td>\n",
       "      <td>15</td>\n",
       "      <td>379</td>\n",
       "    </tr>\n",
       "    <tr>\n",
       "      <th>JC005</th>\n",
       "      <td>Grove St PATH</td>\n",
       "      <td>25</td>\n",
       "      <td>380</td>\n",
       "    </tr>\n",
       "    <tr>\n",
       "      <th>JC005</th>\n",
       "      <td>Grove St PATH</td>\n",
       "      <td>2</td>\n",
       "      <td>401</td>\n",
       "    </tr>\n",
       "    <tr>\n",
       "      <th>JC005</th>\n",
       "      <td>Grove St PATH</td>\n",
       "      <td>3</td>\n",
       "      <td>409</td>\n",
       "    </tr>\n",
       "    <tr>\n",
       "      <th>JC005</th>\n",
       "      <td>Grove St PATH</td>\n",
       "      <td>17</td>\n",
       "      <td>413</td>\n",
       "    </tr>\n",
       "  </tbody>\n",
       "</table>\n",
       "</div>"
      ],
      "text/plain": [
       "                          Station Name  Day  Count\n",
       "Station ID                                        \n",
       "JC098                    Washington St   17    216\n",
       "JC052               Liberty Light Rail   13    216\n",
       "JC008                     Newport Pkwy   21    217\n",
       "JC066                     Newport PATH    7    219\n",
       "JC008                     Newport Pkwy    7    221\n",
       "JC052               Liberty Light Rail   14    222\n",
       "JC008                     Newport Pkwy    6    222\n",
       "JC008                     Newport Pkwy   28    223\n",
       "JC066                     Newport PATH    6    224\n",
       "JC106       Columbus Dr at Exchange Pl    6    225\n",
       "JC008                     Newport Pkwy   20    226\n",
       "JC013                 Marin Light Rail   14    227\n",
       "JC013                 Marin Light Rail   13    230\n",
       "JC008                     Newport Pkwy   19    231\n",
       "JC008                     Newport Pkwy   27    232\n",
       "JC008                     Newport Pkwy    5    234\n",
       "JC005                    Grove St PATH   21    234\n",
       "JC005                    Grove St PATH    6    235\n",
       "JC008                     Newport Pkwy   17    238\n",
       "JC005                    Grove St PATH   22    244\n",
       "JC008                     Newport Pkwy   14    251\n",
       "JC005                    Grove St PATH    7    259\n",
       "JC098                    Washington St   20    260\n",
       "JC005                    Grove St PATH   28    283\n",
       "JC005                    Grove St PATH   19    298\n",
       "JC005                    Grove St PATH   20    300\n",
       "JC005                    Grove St PATH   27    311\n",
       "JC005                    Grove St PATH   14    316\n",
       "JC005                    Grove St PATH    4    321\n",
       "JC005                    Grove St PATH   13    322\n",
       "JC005                    Grove St PATH    8    329\n",
       "JC005                    Grove St PATH    1    330\n",
       "JC005                    Grove St PATH   30    334\n",
       "JC005                    Grove St PATH    5    334\n",
       "JC005                    Grove St PATH   12    348\n",
       "JC005                    Grove St PATH    9    349\n",
       "JC005                    Grove St PATH   26    353\n",
       "JC005                    Grove St PATH   29    354\n",
       "JC005                    Grove St PATH   10    355\n",
       "JC005                    Grove St PATH   24    356\n",
       "JC005                    Grove St PATH   23    360\n",
       "JC005                    Grove St PATH   11    364\n",
       "JC005                    Grove St PATH   31    369\n",
       "JC005                    Grove St PATH   18    373\n",
       "JC005                    Grove St PATH   16    374\n",
       "JC005                    Grove St PATH   15    379\n",
       "JC005                    Grove St PATH   25    380\n",
       "JC005                    Grove St PATH    2    401\n",
       "JC005                    Grove St PATH    3    409\n",
       "JC005                    Grove St PATH   17    413"
      ]
     },
     "execution_count": 123,
     "metadata": {},
     "output_type": "execute_result"
    }
   ],
   "source": [
    "jcd[jcd.index.to_series().str.startswith('JC')].iloc[-50:]"
   ]
  },
  {
   "cell_type": "markdown",
   "id": "00405570",
   "metadata": {},
   "source": [
    "### Monthly sum + Daily avg (all JC+HB)"
   ]
  },
  {
   "cell_type": "code",
   "execution_count": 124,
   "id": "edd882d3",
   "metadata": {
    "scrolled": true
   },
   "outputs": [
    {
     "data": {
      "text/html": [
       "<div>\n",
       "<style scoped>\n",
       "    .dataframe tbody tr th:only-of-type {\n",
       "        vertical-align: middle;\n",
       "    }\n",
       "\n",
       "    .dataframe tbody tr th {\n",
       "        vertical-align: top;\n",
       "    }\n",
       "\n",
       "    .dataframe thead th {\n",
       "        text-align: right;\n",
       "    }\n",
       "</style>\n",
       "<table border=\"1\" class=\"dataframe\">\n",
       "  <thead>\n",
       "    <tr style=\"text-align: right;\">\n",
       "      <th></th>\n",
       "      <th>Station Name</th>\n",
       "      <th>Count</th>\n",
       "      <th>Avg</th>\n",
       "    </tr>\n",
       "    <tr>\n",
       "      <th>Station ID</th>\n",
       "      <th></th>\n",
       "      <th></th>\n",
       "      <th></th>\n",
       "    </tr>\n",
       "  </thead>\n",
       "  <tbody>\n",
       "    <tr>\n",
       "      <th>JC107</th>\n",
       "      <td>Grant Ave &amp; MLK Dr</td>\n",
       "      <td>149</td>\n",
       "      <td>4.806452</td>\n",
       "    </tr>\n",
       "    <tr>\n",
       "      <th>JC108</th>\n",
       "      <td>Bergen Ave &amp; Stegman St</td>\n",
       "      <td>327</td>\n",
       "      <td>10.548387</td>\n",
       "    </tr>\n",
       "    <tr>\n",
       "      <th>JC063</th>\n",
       "      <td>Jackson Square</td>\n",
       "      <td>411</td>\n",
       "      <td>13.258065</td>\n",
       "    </tr>\n",
       "    <tr>\n",
       "      <th>JC051</th>\n",
       "      <td>Union St</td>\n",
       "      <td>559</td>\n",
       "      <td>18.032258</td>\n",
       "    </tr>\n",
       "    <tr>\n",
       "      <th>JC065</th>\n",
       "      <td>Dey St</td>\n",
       "      <td>616</td>\n",
       "      <td>19.870968</td>\n",
       "    </tr>\n",
       "    <tr>\n",
       "      <th>JC094</th>\n",
       "      <td>Glenwood Ave</td>\n",
       "      <td>646</td>\n",
       "      <td>20.838710</td>\n",
       "    </tr>\n",
       "    <tr>\n",
       "      <th>JC018</th>\n",
       "      <td>5 Corners Library</td>\n",
       "      <td>718</td>\n",
       "      <td>23.161290</td>\n",
       "    </tr>\n",
       "    <tr>\n",
       "      <th>JC059</th>\n",
       "      <td>Heights Elevator</td>\n",
       "      <td>879</td>\n",
       "      <td>28.354839</td>\n",
       "    </tr>\n",
       "    <tr>\n",
       "      <th>JC084</th>\n",
       "      <td>Communipaw &amp; Berry Lane</td>\n",
       "      <td>1031</td>\n",
       "      <td>33.258065</td>\n",
       "    </tr>\n",
       "    <tr>\n",
       "      <th>JC080</th>\n",
       "      <td>Leonard Gordon Park</td>\n",
       "      <td>1111</td>\n",
       "      <td>35.838710</td>\n",
       "    </tr>\n",
       "    <tr>\n",
       "      <th>JC077</th>\n",
       "      <td>Astor Place</td>\n",
       "      <td>1176</td>\n",
       "      <td>37.935484</td>\n",
       "    </tr>\n",
       "    <tr>\n",
       "      <th>JC095</th>\n",
       "      <td>Bergen Ave</td>\n",
       "      <td>1185</td>\n",
       "      <td>38.225806</td>\n",
       "    </tr>\n",
       "    <tr>\n",
       "      <th>JC093</th>\n",
       "      <td>Fairmount Ave</td>\n",
       "      <td>1217</td>\n",
       "      <td>39.258065</td>\n",
       "    </tr>\n",
       "    <tr>\n",
       "      <th>JC034</th>\n",
       "      <td>Christ Hospital</td>\n",
       "      <td>1269</td>\n",
       "      <td>40.935484</td>\n",
       "    </tr>\n",
       "    <tr>\n",
       "      <th>HB602</th>\n",
       "      <td>Stevens - River Ter &amp; 6 St</td>\n",
       "      <td>1311</td>\n",
       "      <td>42.290323</td>\n",
       "    </tr>\n",
       "    <tr>\n",
       "      <th>JC099</th>\n",
       "      <td>Montgomery St</td>\n",
       "      <td>1365</td>\n",
       "      <td>44.032258</td>\n",
       "    </tr>\n",
       "    <tr>\n",
       "      <th>JC053</th>\n",
       "      <td>Lincoln Park</td>\n",
       "      <td>1376</td>\n",
       "      <td>44.387097</td>\n",
       "    </tr>\n",
       "    <tr>\n",
       "      <th>JC022</th>\n",
       "      <td>Oakland Ave</td>\n",
       "      <td>1509</td>\n",
       "      <td>48.677419</td>\n",
       "    </tr>\n",
       "    <tr>\n",
       "      <th>HB404</th>\n",
       "      <td>Mama Johnson Field - 4 St &amp; Jackson St</td>\n",
       "      <td>1512</td>\n",
       "      <td>48.774194</td>\n",
       "    </tr>\n",
       "    <tr>\n",
       "      <th>JC038</th>\n",
       "      <td>Essex Light Rail</td>\n",
       "      <td>1513</td>\n",
       "      <td>48.806452</td>\n",
       "    </tr>\n",
       "    <tr>\n",
       "      <th>HB507</th>\n",
       "      <td>Adams St &amp; 11 St</td>\n",
       "      <td>1540</td>\n",
       "      <td>49.677419</td>\n",
       "    </tr>\n",
       "    <tr>\n",
       "      <th>JC027</th>\n",
       "      <td>Jersey &amp; 6th St</td>\n",
       "      <td>1557</td>\n",
       "      <td>50.225806</td>\n",
       "    </tr>\n",
       "    <tr>\n",
       "      <th>JC076</th>\n",
       "      <td>Dixon Mills</td>\n",
       "      <td>1644</td>\n",
       "      <td>53.032258</td>\n",
       "    </tr>\n",
       "    <tr>\n",
       "      <th>JC024</th>\n",
       "      <td>Pershing Field</td>\n",
       "      <td>1646</td>\n",
       "      <td>53.096774</td>\n",
       "    </tr>\n",
       "    <tr>\n",
       "      <th>JC057</th>\n",
       "      <td>Riverview Park</td>\n",
       "      <td>1712</td>\n",
       "      <td>55.225806</td>\n",
       "    </tr>\n",
       "    <tr>\n",
       "      <th>JC103</th>\n",
       "      <td>Journal Square</td>\n",
       "      <td>1756</td>\n",
       "      <td>56.645161</td>\n",
       "    </tr>\n",
       "    <tr>\n",
       "      <th>JC075</th>\n",
       "      <td>Monmouth and 6th</td>\n",
       "      <td>1761</td>\n",
       "      <td>56.806452</td>\n",
       "    </tr>\n",
       "    <tr>\n",
       "      <th>JC078</th>\n",
       "      <td>Lafayette Park</td>\n",
       "      <td>1807</td>\n",
       "      <td>58.290323</td>\n",
       "    </tr>\n",
       "    <tr>\n",
       "      <th>JC019</th>\n",
       "      <td>Hilltop</td>\n",
       "      <td>1823</td>\n",
       "      <td>58.806452</td>\n",
       "    </tr>\n",
       "    <tr>\n",
       "      <th>JC020</th>\n",
       "      <td>Baldwin at Montgomery</td>\n",
       "      <td>1908</td>\n",
       "      <td>61.548387</td>\n",
       "    </tr>\n",
       "    <tr>\n",
       "      <th>JC074</th>\n",
       "      <td>Jersey &amp; 3rd</td>\n",
       "      <td>2030</td>\n",
       "      <td>65.483871</td>\n",
       "    </tr>\n",
       "    <tr>\n",
       "      <th>HB302</th>\n",
       "      <td>6 St &amp; Grand St</td>\n",
       "      <td>2089</td>\n",
       "      <td>67.387097</td>\n",
       "    </tr>\n",
       "    <tr>\n",
       "      <th>JC072</th>\n",
       "      <td>Morris Canal</td>\n",
       "      <td>2210</td>\n",
       "      <td>71.290323</td>\n",
       "    </tr>\n",
       "    <tr>\n",
       "      <th>HB503</th>\n",
       "      <td>Madison St &amp; 10 St</td>\n",
       "      <td>2230</td>\n",
       "      <td>71.935484</td>\n",
       "    </tr>\n",
       "    <tr>\n",
       "      <th>JC023</th>\n",
       "      <td>Brunswick St</td>\n",
       "      <td>2261</td>\n",
       "      <td>72.935484</td>\n",
       "    </tr>\n",
       "    <tr>\n",
       "      <th>HB407</th>\n",
       "      <td>Adams St &amp; 2 St</td>\n",
       "      <td>2273</td>\n",
       "      <td>73.322581</td>\n",
       "    </tr>\n",
       "    <tr>\n",
       "      <th>JC081</th>\n",
       "      <td>Brunswick &amp; 6th</td>\n",
       "      <td>2296</td>\n",
       "      <td>74.064516</td>\n",
       "    </tr>\n",
       "    <tr>\n",
       "      <th>HB408</th>\n",
       "      <td>Marshall St &amp; 2 St</td>\n",
       "      <td>2344</td>\n",
       "      <td>75.612903</td>\n",
       "    </tr>\n",
       "    <tr>\n",
       "      <th>JC082</th>\n",
       "      <td>Manila &amp; 1st</td>\n",
       "      <td>2384</td>\n",
       "      <td>76.903226</td>\n",
       "    </tr>\n",
       "    <tr>\n",
       "      <th>JC055</th>\n",
       "      <td>McGinley Square</td>\n",
       "      <td>2393</td>\n",
       "      <td>77.193548</td>\n",
       "    </tr>\n",
       "    <tr>\n",
       "      <th>HB505</th>\n",
       "      <td>Willow Ave &amp; 12 St</td>\n",
       "      <td>2504</td>\n",
       "      <td>80.774194</td>\n",
       "    </tr>\n",
       "    <tr>\n",
       "      <th>HB304</th>\n",
       "      <td>7 St &amp; Monroe St</td>\n",
       "      <td>2553</td>\n",
       "      <td>82.354839</td>\n",
       "    </tr>\n",
       "    <tr>\n",
       "      <th>HB303</th>\n",
       "      <td>Clinton St &amp; 7 St</td>\n",
       "      <td>2566</td>\n",
       "      <td>82.774194</td>\n",
       "    </tr>\n",
       "    <tr>\n",
       "      <th>HB401</th>\n",
       "      <td>Southwest Park - Jackson St &amp; Observer Hwy</td>\n",
       "      <td>2616</td>\n",
       "      <td>84.387097</td>\n",
       "    </tr>\n",
       "    <tr>\n",
       "      <th>JC102</th>\n",
       "      <td>Grand St</td>\n",
       "      <td>2644</td>\n",
       "      <td>85.290323</td>\n",
       "    </tr>\n",
       "    <tr>\n",
       "      <th>JC002</th>\n",
       "      <td>Paulus Hook</td>\n",
       "      <td>2713</td>\n",
       "      <td>87.516129</td>\n",
       "    </tr>\n",
       "    <tr>\n",
       "      <th>HB203</th>\n",
       "      <td>Bloomfield St &amp; 15 St</td>\n",
       "      <td>2723</td>\n",
       "      <td>87.838710</td>\n",
       "    </tr>\n",
       "    <tr>\n",
       "      <th>JC035</th>\n",
       "      <td>Van Vorst Park</td>\n",
       "      <td>2738</td>\n",
       "      <td>88.322581</td>\n",
       "    </tr>\n",
       "    <tr>\n",
       "      <th>HB301</th>\n",
       "      <td>4 St &amp; Grand St</td>\n",
       "      <td>2743</td>\n",
       "      <td>88.483871</td>\n",
       "    </tr>\n",
       "    <tr>\n",
       "      <th>HB305</th>\n",
       "      <td>9 St HBLR - Jackson St &amp; 8 St</td>\n",
       "      <td>2748</td>\n",
       "      <td>88.645161</td>\n",
       "    </tr>\n",
       "    <tr>\n",
       "      <th>JC011</th>\n",
       "      <td>JC Medical Center</td>\n",
       "      <td>2902</td>\n",
       "      <td>93.612903</td>\n",
       "    </tr>\n",
       "    <tr>\n",
       "      <th>HB506</th>\n",
       "      <td>Grand St &amp; 14 St</td>\n",
       "      <td>2920</td>\n",
       "      <td>94.193548</td>\n",
       "    </tr>\n",
       "    <tr>\n",
       "      <th>JC014</th>\n",
       "      <td>Columbus Drive</td>\n",
       "      <td>3039</td>\n",
       "      <td>98.032258</td>\n",
       "    </tr>\n",
       "    <tr>\n",
       "      <th>HB409</th>\n",
       "      <td>Clinton St &amp; Newark St</td>\n",
       "      <td>3059</td>\n",
       "      <td>98.677419</td>\n",
       "    </tr>\n",
       "    <tr>\n",
       "      <th>JC032</th>\n",
       "      <td>Newark Ave</td>\n",
       "      <td>3200</td>\n",
       "      <td>103.225806</td>\n",
       "    </tr>\n",
       "    <tr>\n",
       "      <th>HB601</th>\n",
       "      <td>Church Sq Park - 5 St &amp; Park Ave</td>\n",
       "      <td>3208</td>\n",
       "      <td>103.483871</td>\n",
       "    </tr>\n",
       "    <tr>\n",
       "      <th>HB402</th>\n",
       "      <td>Madison St &amp; 1 St</td>\n",
       "      <td>3365</td>\n",
       "      <td>108.548387</td>\n",
       "    </tr>\n",
       "    <tr>\n",
       "      <th>HB501</th>\n",
       "      <td>Columbus Park - Clinton St &amp; 9 St</td>\n",
       "      <td>3427</td>\n",
       "      <td>110.548387</td>\n",
       "    </tr>\n",
       "    <tr>\n",
       "      <th>HB603</th>\n",
       "      <td>8 St &amp; Washington St</td>\n",
       "      <td>3713</td>\n",
       "      <td>119.774194</td>\n",
       "    </tr>\n",
       "    <tr>\n",
       "      <th>JC006</th>\n",
       "      <td>Warren St</td>\n",
       "      <td>3771</td>\n",
       "      <td>121.645161</td>\n",
       "    </tr>\n",
       "    <tr>\n",
       "      <th>JC003</th>\n",
       "      <td>City Hall</td>\n",
       "      <td>3911</td>\n",
       "      <td>126.161290</td>\n",
       "    </tr>\n",
       "    <tr>\n",
       "      <th>HB502</th>\n",
       "      <td>11 St &amp; Washington St</td>\n",
       "      <td>4093</td>\n",
       "      <td>132.032258</td>\n",
       "    </tr>\n",
       "    <tr>\n",
       "      <th>JC052</th>\n",
       "      <td>Liberty Light Rail</td>\n",
       "      <td>4131</td>\n",
       "      <td>133.258065</td>\n",
       "    </tr>\n",
       "    <tr>\n",
       "      <th>JC098</th>\n",
       "      <td>Washington St</td>\n",
       "      <td>4199</td>\n",
       "      <td>135.451613</td>\n",
       "    </tr>\n",
       "    <tr>\n",
       "      <th>JC104</th>\n",
       "      <td>Harborside</td>\n",
       "      <td>4274</td>\n",
       "      <td>137.870968</td>\n",
       "    </tr>\n",
       "    <tr>\n",
       "      <th>JC109</th>\n",
       "      <td>Bergen Ave &amp; Sip Ave</td>\n",
       "      <td>4360</td>\n",
       "      <td>140.645161</td>\n",
       "    </tr>\n",
       "    <tr>\n",
       "      <th>JC106</th>\n",
       "      <td>Columbus Dr at Exchange Pl</td>\n",
       "      <td>4457</td>\n",
       "      <td>143.774194</td>\n",
       "    </tr>\n",
       "    <tr>\n",
       "      <th>HB607</th>\n",
       "      <td>Hudson St &amp; 4 St</td>\n",
       "      <td>4658</td>\n",
       "      <td>150.258065</td>\n",
       "    </tr>\n",
       "    <tr>\n",
       "      <th>JC066</th>\n",
       "      <td>Newport PATH</td>\n",
       "      <td>4775</td>\n",
       "      <td>154.032258</td>\n",
       "    </tr>\n",
       "    <tr>\n",
       "      <th>HB202</th>\n",
       "      <td>14 St Ferry - 14 St &amp; Shipyard Ln</td>\n",
       "      <td>4781</td>\n",
       "      <td>154.225806</td>\n",
       "    </tr>\n",
       "    <tr>\n",
       "      <th>JC105</th>\n",
       "      <td>Hoboken Ave at Monmouth St</td>\n",
       "      <td>4888</td>\n",
       "      <td>157.677419</td>\n",
       "    </tr>\n",
       "    <tr>\n",
       "      <th>HB201</th>\n",
       "      <td>12 St &amp; Sinatra Dr N</td>\n",
       "      <td>4934</td>\n",
       "      <td>159.161290</td>\n",
       "    </tr>\n",
       "    <tr>\n",
       "      <th>JC013</th>\n",
       "      <td>Marin Light Rail</td>\n",
       "      <td>5047</td>\n",
       "      <td>162.806452</td>\n",
       "    </tr>\n",
       "    <tr>\n",
       "      <th>JC009</th>\n",
       "      <td>Hamilton Park</td>\n",
       "      <td>5183</td>\n",
       "      <td>167.193548</td>\n",
       "    </tr>\n",
       "    <tr>\n",
       "      <th>HB105</th>\n",
       "      <td>City Hall - Washington St &amp; 1 St</td>\n",
       "      <td>5842</td>\n",
       "      <td>188.451613</td>\n",
       "    </tr>\n",
       "    <tr>\n",
       "      <th>JC008</th>\n",
       "      <td>Newport Pkwy</td>\n",
       "      <td>5894</td>\n",
       "      <td>190.129032</td>\n",
       "    </tr>\n",
       "    <tr>\n",
       "      <th>HB101</th>\n",
       "      <td>Hoboken Terminal - Hudson St &amp; Hudson Pl</td>\n",
       "      <td>7039</td>\n",
       "      <td>227.064516</td>\n",
       "    </tr>\n",
       "    <tr>\n",
       "      <th>HB102</th>\n",
       "      <td>Hoboken Terminal - River St &amp; Hudson Pl</td>\n",
       "      <td>8996</td>\n",
       "      <td>290.193548</td>\n",
       "    </tr>\n",
       "    <tr>\n",
       "      <th>HB103</th>\n",
       "      <td>South Waterfront Walkway - Sinatra Dr &amp; 1 St</td>\n",
       "      <td>9134</td>\n",
       "      <td>294.645161</td>\n",
       "    </tr>\n",
       "    <tr>\n",
       "      <th>JC005</th>\n",
       "      <td>Grove St PATH</td>\n",
       "      <td>10387</td>\n",
       "      <td>335.064516</td>\n",
       "    </tr>\n",
       "  </tbody>\n",
       "</table>\n",
       "</div>"
      ],
      "text/plain": [
       "                                            Station Name  Count         Avg\n",
       "Station ID                                                                 \n",
       "JC107                                 Grant Ave & MLK Dr    149    4.806452\n",
       "JC108                            Bergen Ave & Stegman St    327   10.548387\n",
       "JC063                                     Jackson Square    411   13.258065\n",
       "JC051                                           Union St    559   18.032258\n",
       "JC065                                             Dey St    616   19.870968\n",
       "JC094                                       Glenwood Ave    646   20.838710\n",
       "JC018                                  5 Corners Library    718   23.161290\n",
       "JC059                                   Heights Elevator    879   28.354839\n",
       "JC084                            Communipaw & Berry Lane   1031   33.258065\n",
       "JC080                                Leonard Gordon Park   1111   35.838710\n",
       "JC077                                        Astor Place   1176   37.935484\n",
       "JC095                                         Bergen Ave   1185   38.225806\n",
       "JC093                                      Fairmount Ave   1217   39.258065\n",
       "JC034                                    Christ Hospital   1269   40.935484\n",
       "HB602                         Stevens - River Ter & 6 St   1311   42.290323\n",
       "JC099                                      Montgomery St   1365   44.032258\n",
       "JC053                                       Lincoln Park   1376   44.387097\n",
       "JC022                                        Oakland Ave   1509   48.677419\n",
       "HB404             Mama Johnson Field - 4 St & Jackson St   1512   48.774194\n",
       "JC038                                   Essex Light Rail   1513   48.806452\n",
       "HB507                                   Adams St & 11 St   1540   49.677419\n",
       "JC027                                    Jersey & 6th St   1557   50.225806\n",
       "JC076                                        Dixon Mills   1644   53.032258\n",
       "JC024                                     Pershing Field   1646   53.096774\n",
       "JC057                                     Riverview Park   1712   55.225806\n",
       "JC103                                     Journal Square   1756   56.645161\n",
       "JC075                                   Monmouth and 6th   1761   56.806452\n",
       "JC078                                     Lafayette Park   1807   58.290323\n",
       "JC019                                            Hilltop   1823   58.806452\n",
       "JC020                              Baldwin at Montgomery   1908   61.548387\n",
       "JC074                                       Jersey & 3rd   2030   65.483871\n",
       "HB302                                    6 St & Grand St   2089   67.387097\n",
       "JC072                                       Morris Canal   2210   71.290323\n",
       "HB503                                 Madison St & 10 St   2230   71.935484\n",
       "JC023                                       Brunswick St   2261   72.935484\n",
       "HB407                                    Adams St & 2 St   2273   73.322581\n",
       "JC081                                    Brunswick & 6th   2296   74.064516\n",
       "HB408                                 Marshall St & 2 St   2344   75.612903\n",
       "JC082                                       Manila & 1st   2384   76.903226\n",
       "JC055                                    McGinley Square   2393   77.193548\n",
       "HB505                                 Willow Ave & 12 St   2504   80.774194\n",
       "HB304                                   7 St & Monroe St   2553   82.354839\n",
       "HB303                                  Clinton St & 7 St   2566   82.774194\n",
       "HB401         Southwest Park - Jackson St & Observer Hwy   2616   84.387097\n",
       "JC102                                           Grand St   2644   85.290323\n",
       "JC002                                        Paulus Hook   2713   87.516129\n",
       "HB203                              Bloomfield St & 15 St   2723   87.838710\n",
       "JC035                                     Van Vorst Park   2738   88.322581\n",
       "HB301                                    4 St & Grand St   2743   88.483871\n",
       "HB305                      9 St HBLR - Jackson St & 8 St   2748   88.645161\n",
       "JC011                                  JC Medical Center   2902   93.612903\n",
       "HB506                                   Grand St & 14 St   2920   94.193548\n",
       "JC014                                     Columbus Drive   3039   98.032258\n",
       "HB409                             Clinton St & Newark St   3059   98.677419\n",
       "JC032                                         Newark Ave   3200  103.225806\n",
       "HB601                   Church Sq Park - 5 St & Park Ave   3208  103.483871\n",
       "HB402                                  Madison St & 1 St   3365  108.548387\n",
       "HB501                  Columbus Park - Clinton St & 9 St   3427  110.548387\n",
       "HB603                               8 St & Washington St   3713  119.774194\n",
       "JC006                                          Warren St   3771  121.645161\n",
       "JC003                                          City Hall   3911  126.161290\n",
       "HB502                              11 St & Washington St   4093  132.032258\n",
       "JC052                                 Liberty Light Rail   4131  133.258065\n",
       "JC098                                      Washington St   4199  135.451613\n",
       "JC104                                         Harborside   4274  137.870968\n",
       "JC109                               Bergen Ave & Sip Ave   4360  140.645161\n",
       "JC106                         Columbus Dr at Exchange Pl   4457  143.774194\n",
       "HB607                                   Hudson St & 4 St   4658  150.258065\n",
       "JC066                                       Newport PATH   4775  154.032258\n",
       "HB202                  14 St Ferry - 14 St & Shipyard Ln   4781  154.225806\n",
       "JC105                         Hoboken Ave at Monmouth St   4888  157.677419\n",
       "HB201                               12 St & Sinatra Dr N   4934  159.161290\n",
       "JC013                                   Marin Light Rail   5047  162.806452\n",
       "JC009                                      Hamilton Park   5183  167.193548\n",
       "HB105                   City Hall - Washington St & 1 St   5842  188.451613\n",
       "JC008                                       Newport Pkwy   5894  190.129032\n",
       "HB101           Hoboken Terminal - Hudson St & Hudson Pl   7039  227.064516\n",
       "HB102            Hoboken Terminal - River St & Hudson Pl   8996  290.193548\n",
       "HB103       South Waterfront Walkway - Sinatra Dr & 1 St   9134  294.645161\n",
       "JC005                                      Grove St PATH  10387  335.064516"
      ]
     },
     "execution_count": 124,
     "metadata": {},
     "output_type": "execute_result"
    }
   ],
   "source": [
    "sc_all = station_counts(jc=True)\n",
    "sc_all"
   ]
  },
  {
   "cell_type": "markdown",
   "id": "abd01620",
   "metadata": {},
   "source": [
    "### Monthly sum + Daily avg, weekdays only (all JC+HB)"
   ]
  },
  {
   "cell_type": "code",
   "execution_count": 125,
   "id": "052101af",
   "metadata": {
    "scrolled": true
   },
   "outputs": [
    {
     "data": {
      "text/html": [
       "<div>\n",
       "<style scoped>\n",
       "    .dataframe tbody tr th:only-of-type {\n",
       "        vertical-align: middle;\n",
       "    }\n",
       "\n",
       "    .dataframe tbody tr th {\n",
       "        vertical-align: top;\n",
       "    }\n",
       "\n",
       "    .dataframe thead th {\n",
       "        text-align: right;\n",
       "    }\n",
       "</style>\n",
       "<table border=\"1\" class=\"dataframe\">\n",
       "  <thead>\n",
       "    <tr style=\"text-align: right;\">\n",
       "      <th></th>\n",
       "      <th>Station Name</th>\n",
       "      <th>Count</th>\n",
       "      <th>Avg</th>\n",
       "    </tr>\n",
       "    <tr>\n",
       "      <th>Station ID</th>\n",
       "      <th></th>\n",
       "      <th></th>\n",
       "      <th></th>\n",
       "    </tr>\n",
       "  </thead>\n",
       "  <tbody>\n",
       "    <tr>\n",
       "      <th>JC107</th>\n",
       "      <td>Grant Ave &amp; MLK Dr</td>\n",
       "      <td>112</td>\n",
       "      <td>4.869565</td>\n",
       "    </tr>\n",
       "    <tr>\n",
       "      <th>JC108</th>\n",
       "      <td>Bergen Ave &amp; Stegman St</td>\n",
       "      <td>235</td>\n",
       "      <td>10.217391</td>\n",
       "    </tr>\n",
       "    <tr>\n",
       "      <th>JC063</th>\n",
       "      <td>Jackson Square</td>\n",
       "      <td>296</td>\n",
       "      <td>12.869565</td>\n",
       "    </tr>\n",
       "    <tr>\n",
       "      <th>JC051</th>\n",
       "      <td>Union St</td>\n",
       "      <td>391</td>\n",
       "      <td>17.000000</td>\n",
       "    </tr>\n",
       "    <tr>\n",
       "      <th>JC094</th>\n",
       "      <td>Glenwood Ave</td>\n",
       "      <td>479</td>\n",
       "      <td>20.826087</td>\n",
       "    </tr>\n",
       "    <tr>\n",
       "      <th>JC065</th>\n",
       "      <td>Dey St</td>\n",
       "      <td>486</td>\n",
       "      <td>21.130435</td>\n",
       "    </tr>\n",
       "    <tr>\n",
       "      <th>JC018</th>\n",
       "      <td>5 Corners Library</td>\n",
       "      <td>493</td>\n",
       "      <td>21.434783</td>\n",
       "    </tr>\n",
       "    <tr>\n",
       "      <th>JC059</th>\n",
       "      <td>Heights Elevator</td>\n",
       "      <td>619</td>\n",
       "      <td>26.913043</td>\n",
       "    </tr>\n",
       "    <tr>\n",
       "      <th>JC084</th>\n",
       "      <td>Communipaw &amp; Berry Lane</td>\n",
       "      <td>776</td>\n",
       "      <td>33.739130</td>\n",
       "    </tr>\n",
       "    <tr>\n",
       "      <th>JC080</th>\n",
       "      <td>Leonard Gordon Park</td>\n",
       "      <td>829</td>\n",
       "      <td>36.043478</td>\n",
       "    </tr>\n",
       "    <tr>\n",
       "      <th>JC034</th>\n",
       "      <td>Christ Hospital</td>\n",
       "      <td>891</td>\n",
       "      <td>38.739130</td>\n",
       "    </tr>\n",
       "    <tr>\n",
       "      <th>JC077</th>\n",
       "      <td>Astor Place</td>\n",
       "      <td>918</td>\n",
       "      <td>39.913043</td>\n",
       "    </tr>\n",
       "    <tr>\n",
       "      <th>JC095</th>\n",
       "      <td>Bergen Ave</td>\n",
       "      <td>932</td>\n",
       "      <td>40.521739</td>\n",
       "    </tr>\n",
       "    <tr>\n",
       "      <th>JC099</th>\n",
       "      <td>Montgomery St</td>\n",
       "      <td>945</td>\n",
       "      <td>41.086957</td>\n",
       "    </tr>\n",
       "    <tr>\n",
       "      <th>JC053</th>\n",
       "      <td>Lincoln Park</td>\n",
       "      <td>961</td>\n",
       "      <td>41.782609</td>\n",
       "    </tr>\n",
       "    <tr>\n",
       "      <th>JC093</th>\n",
       "      <td>Fairmount Ave</td>\n",
       "      <td>961</td>\n",
       "      <td>41.782609</td>\n",
       "    </tr>\n",
       "    <tr>\n",
       "      <th>HB602</th>\n",
       "      <td>Stevens - River Ter &amp; 6 St</td>\n",
       "      <td>1033</td>\n",
       "      <td>44.913043</td>\n",
       "    </tr>\n",
       "    <tr>\n",
       "      <th>JC038</th>\n",
       "      <td>Essex Light Rail</td>\n",
       "      <td>1062</td>\n",
       "      <td>46.173913</td>\n",
       "    </tr>\n",
       "    <tr>\n",
       "      <th>JC022</th>\n",
       "      <td>Oakland Ave</td>\n",
       "      <td>1101</td>\n",
       "      <td>47.869565</td>\n",
       "    </tr>\n",
       "    <tr>\n",
       "      <th>HB404</th>\n",
       "      <td>Mama Johnson Field - 4 St &amp; Jackson St</td>\n",
       "      <td>1134</td>\n",
       "      <td>49.304348</td>\n",
       "    </tr>\n",
       "    <tr>\n",
       "      <th>HB507</th>\n",
       "      <td>Adams St &amp; 11 St</td>\n",
       "      <td>1150</td>\n",
       "      <td>50.000000</td>\n",
       "    </tr>\n",
       "    <tr>\n",
       "      <th>JC027</th>\n",
       "      <td>Jersey &amp; 6th St</td>\n",
       "      <td>1153</td>\n",
       "      <td>50.130435</td>\n",
       "    </tr>\n",
       "    <tr>\n",
       "      <th>JC024</th>\n",
       "      <td>Pershing Field</td>\n",
       "      <td>1172</td>\n",
       "      <td>50.956522</td>\n",
       "    </tr>\n",
       "    <tr>\n",
       "      <th>JC057</th>\n",
       "      <td>Riverview Park</td>\n",
       "      <td>1232</td>\n",
       "      <td>53.565217</td>\n",
       "    </tr>\n",
       "    <tr>\n",
       "      <th>JC076</th>\n",
       "      <td>Dixon Mills</td>\n",
       "      <td>1280</td>\n",
       "      <td>55.652174</td>\n",
       "    </tr>\n",
       "    <tr>\n",
       "      <th>JC020</th>\n",
       "      <td>Baldwin at Montgomery</td>\n",
       "      <td>1303</td>\n",
       "      <td>56.652174</td>\n",
       "    </tr>\n",
       "    <tr>\n",
       "      <th>JC078</th>\n",
       "      <td>Lafayette Park</td>\n",
       "      <td>1339</td>\n",
       "      <td>58.217391</td>\n",
       "    </tr>\n",
       "    <tr>\n",
       "      <th>JC103</th>\n",
       "      <td>Journal Square</td>\n",
       "      <td>1367</td>\n",
       "      <td>59.434783</td>\n",
       "    </tr>\n",
       "    <tr>\n",
       "      <th>JC019</th>\n",
       "      <td>Hilltop</td>\n",
       "      <td>1382</td>\n",
       "      <td>60.086957</td>\n",
       "    </tr>\n",
       "    <tr>\n",
       "      <th>JC075</th>\n",
       "      <td>Monmouth and 6th</td>\n",
       "      <td>1383</td>\n",
       "      <td>60.130435</td>\n",
       "    </tr>\n",
       "    <tr>\n",
       "      <th>JC072</th>\n",
       "      <td>Morris Canal</td>\n",
       "      <td>1508</td>\n",
       "      <td>65.565217</td>\n",
       "    </tr>\n",
       "    <tr>\n",
       "      <th>JC074</th>\n",
       "      <td>Jersey &amp; 3rd</td>\n",
       "      <td>1514</td>\n",
       "      <td>65.826087</td>\n",
       "    </tr>\n",
       "    <tr>\n",
       "      <th>HB302</th>\n",
       "      <td>6 St &amp; Grand St</td>\n",
       "      <td>1635</td>\n",
       "      <td>71.086957</td>\n",
       "    </tr>\n",
       "    <tr>\n",
       "      <th>HB503</th>\n",
       "      <td>Madison St &amp; 10 St</td>\n",
       "      <td>1668</td>\n",
       "      <td>72.521739</td>\n",
       "    </tr>\n",
       "    <tr>\n",
       "      <th>HB407</th>\n",
       "      <td>Adams St &amp; 2 St</td>\n",
       "      <td>1668</td>\n",
       "      <td>72.521739</td>\n",
       "    </tr>\n",
       "    <tr>\n",
       "      <th>JC023</th>\n",
       "      <td>Brunswick St</td>\n",
       "      <td>1678</td>\n",
       "      <td>72.956522</td>\n",
       "    </tr>\n",
       "    <tr>\n",
       "      <th>HB408</th>\n",
       "      <td>Marshall St &amp; 2 St</td>\n",
       "      <td>1732</td>\n",
       "      <td>75.304348</td>\n",
       "    </tr>\n",
       "    <tr>\n",
       "      <th>HB505</th>\n",
       "      <td>Willow Ave &amp; 12 St</td>\n",
       "      <td>1759</td>\n",
       "      <td>76.478261</td>\n",
       "    </tr>\n",
       "    <tr>\n",
       "      <th>JC082</th>\n",
       "      <td>Manila &amp; 1st</td>\n",
       "      <td>1759</td>\n",
       "      <td>76.478261</td>\n",
       "    </tr>\n",
       "    <tr>\n",
       "      <th>JC055</th>\n",
       "      <td>McGinley Square</td>\n",
       "      <td>1793</td>\n",
       "      <td>77.956522</td>\n",
       "    </tr>\n",
       "    <tr>\n",
       "      <th>JC081</th>\n",
       "      <td>Brunswick &amp; 6th</td>\n",
       "      <td>1821</td>\n",
       "      <td>79.173913</td>\n",
       "    </tr>\n",
       "    <tr>\n",
       "      <th>JC102</th>\n",
       "      <td>Grand St</td>\n",
       "      <td>1890</td>\n",
       "      <td>82.173913</td>\n",
       "    </tr>\n",
       "    <tr>\n",
       "      <th>HB304</th>\n",
       "      <td>7 St &amp; Monroe St</td>\n",
       "      <td>1891</td>\n",
       "      <td>82.217391</td>\n",
       "    </tr>\n",
       "    <tr>\n",
       "      <th>HB303</th>\n",
       "      <td>Clinton St &amp; 7 St</td>\n",
       "      <td>1902</td>\n",
       "      <td>82.695652</td>\n",
       "    </tr>\n",
       "    <tr>\n",
       "      <th>JC002</th>\n",
       "      <td>Paulus Hook</td>\n",
       "      <td>1930</td>\n",
       "      <td>83.913043</td>\n",
       "    </tr>\n",
       "    <tr>\n",
       "      <th>HB401</th>\n",
       "      <td>Southwest Park - Jackson St &amp; Observer Hwy</td>\n",
       "      <td>1937</td>\n",
       "      <td>84.217391</td>\n",
       "    </tr>\n",
       "    <tr>\n",
       "      <th>JC011</th>\n",
       "      <td>JC Medical Center</td>\n",
       "      <td>1952</td>\n",
       "      <td>84.869565</td>\n",
       "    </tr>\n",
       "    <tr>\n",
       "      <th>HB203</th>\n",
       "      <td>Bloomfield St &amp; 15 St</td>\n",
       "      <td>1965</td>\n",
       "      <td>85.434783</td>\n",
       "    </tr>\n",
       "    <tr>\n",
       "      <th>JC035</th>\n",
       "      <td>Van Vorst Park</td>\n",
       "      <td>1980</td>\n",
       "      <td>86.086957</td>\n",
       "    </tr>\n",
       "    <tr>\n",
       "      <th>HB301</th>\n",
       "      <td>4 St &amp; Grand St</td>\n",
       "      <td>2040</td>\n",
       "      <td>88.695652</td>\n",
       "    </tr>\n",
       "    <tr>\n",
       "      <th>HB506</th>\n",
       "      <td>Grand St &amp; 14 St</td>\n",
       "      <td>2044</td>\n",
       "      <td>88.869565</td>\n",
       "    </tr>\n",
       "    <tr>\n",
       "      <th>HB305</th>\n",
       "      <td>9 St HBLR - Jackson St &amp; 8 St</td>\n",
       "      <td>2105</td>\n",
       "      <td>91.521739</td>\n",
       "    </tr>\n",
       "    <tr>\n",
       "      <th>JC014</th>\n",
       "      <td>Columbus Drive</td>\n",
       "      <td>2108</td>\n",
       "      <td>91.652174</td>\n",
       "    </tr>\n",
       "    <tr>\n",
       "      <th>HB409</th>\n",
       "      <td>Clinton St &amp; Newark St</td>\n",
       "      <td>2282</td>\n",
       "      <td>99.217391</td>\n",
       "    </tr>\n",
       "    <tr>\n",
       "      <th>JC032</th>\n",
       "      <td>Newark Ave</td>\n",
       "      <td>2337</td>\n",
       "      <td>101.608696</td>\n",
       "    </tr>\n",
       "    <tr>\n",
       "      <th>HB601</th>\n",
       "      <td>Church Sq Park - 5 St &amp; Park Ave</td>\n",
       "      <td>2391</td>\n",
       "      <td>103.956522</td>\n",
       "    </tr>\n",
       "    <tr>\n",
       "      <th>HB402</th>\n",
       "      <td>Madison St &amp; 1 St</td>\n",
       "      <td>2464</td>\n",
       "      <td>107.130435</td>\n",
       "    </tr>\n",
       "    <tr>\n",
       "      <th>HB501</th>\n",
       "      <td>Columbus Park - Clinton St &amp; 9 St</td>\n",
       "      <td>2542</td>\n",
       "      <td>110.521739</td>\n",
       "    </tr>\n",
       "    <tr>\n",
       "      <th>JC052</th>\n",
       "      <td>Liberty Light Rail</td>\n",
       "      <td>2627</td>\n",
       "      <td>114.217391</td>\n",
       "    </tr>\n",
       "    <tr>\n",
       "      <th>JC006</th>\n",
       "      <td>Warren St</td>\n",
       "      <td>2688</td>\n",
       "      <td>116.869565</td>\n",
       "    </tr>\n",
       "    <tr>\n",
       "      <th>HB603</th>\n",
       "      <td>8 St &amp; Washington St</td>\n",
       "      <td>2764</td>\n",
       "      <td>120.173913</td>\n",
       "    </tr>\n",
       "    <tr>\n",
       "      <th>JC003</th>\n",
       "      <td>City Hall</td>\n",
       "      <td>2834</td>\n",
       "      <td>123.217391</td>\n",
       "    </tr>\n",
       "    <tr>\n",
       "      <th>JC098</th>\n",
       "      <td>Washington St</td>\n",
       "      <td>2916</td>\n",
       "      <td>126.782609</td>\n",
       "    </tr>\n",
       "    <tr>\n",
       "      <th>HB502</th>\n",
       "      <td>11 St &amp; Washington St</td>\n",
       "      <td>2989</td>\n",
       "      <td>129.956522</td>\n",
       "    </tr>\n",
       "    <tr>\n",
       "      <th>HB201</th>\n",
       "      <td>12 St &amp; Sinatra Dr N</td>\n",
       "      <td>3078</td>\n",
       "      <td>133.826087</td>\n",
       "    </tr>\n",
       "    <tr>\n",
       "      <th>JC104</th>\n",
       "      <td>Harborside</td>\n",
       "      <td>3087</td>\n",
       "      <td>134.217391</td>\n",
       "    </tr>\n",
       "    <tr>\n",
       "      <th>JC106</th>\n",
       "      <td>Columbus Dr at Exchange Pl</td>\n",
       "      <td>3147</td>\n",
       "      <td>136.826087</td>\n",
       "    </tr>\n",
       "    <tr>\n",
       "      <th>HB202</th>\n",
       "      <td>14 St Ferry - 14 St &amp; Shipyard Ln</td>\n",
       "      <td>3297</td>\n",
       "      <td>143.347826</td>\n",
       "    </tr>\n",
       "    <tr>\n",
       "      <th>JC109</th>\n",
       "      <td>Bergen Ave &amp; Sip Ave</td>\n",
       "      <td>3390</td>\n",
       "      <td>147.391304</td>\n",
       "    </tr>\n",
       "    <tr>\n",
       "      <th>JC066</th>\n",
       "      <td>Newport PATH</td>\n",
       "      <td>3414</td>\n",
       "      <td>148.434783</td>\n",
       "    </tr>\n",
       "    <tr>\n",
       "      <th>JC013</th>\n",
       "      <td>Marin Light Rail</td>\n",
       "      <td>3420</td>\n",
       "      <td>148.695652</td>\n",
       "    </tr>\n",
       "    <tr>\n",
       "      <th>HB607</th>\n",
       "      <td>Hudson St &amp; 4 St</td>\n",
       "      <td>3495</td>\n",
       "      <td>151.956522</td>\n",
       "    </tr>\n",
       "    <tr>\n",
       "      <th>JC105</th>\n",
       "      <td>Hoboken Ave at Monmouth St</td>\n",
       "      <td>3504</td>\n",
       "      <td>152.347826</td>\n",
       "    </tr>\n",
       "    <tr>\n",
       "      <th>JC009</th>\n",
       "      <td>Hamilton Park</td>\n",
       "      <td>3808</td>\n",
       "      <td>165.565217</td>\n",
       "    </tr>\n",
       "    <tr>\n",
       "      <th>HB105</th>\n",
       "      <td>City Hall - Washington St &amp; 1 St</td>\n",
       "      <td>4082</td>\n",
       "      <td>177.478261</td>\n",
       "    </tr>\n",
       "    <tr>\n",
       "      <th>JC008</th>\n",
       "      <td>Newport Pkwy</td>\n",
       "      <td>4108</td>\n",
       "      <td>178.608696</td>\n",
       "    </tr>\n",
       "    <tr>\n",
       "      <th>HB101</th>\n",
       "      <td>Hoboken Terminal - Hudson St &amp; Hudson Pl</td>\n",
       "      <td>5216</td>\n",
       "      <td>226.782609</td>\n",
       "    </tr>\n",
       "    <tr>\n",
       "      <th>HB103</th>\n",
       "      <td>South Waterfront Walkway - Sinatra Dr &amp; 1 St</td>\n",
       "      <td>6064</td>\n",
       "      <td>263.652174</td>\n",
       "    </tr>\n",
       "    <tr>\n",
       "      <th>HB102</th>\n",
       "      <td>Hoboken Terminal - River St &amp; Hudson Pl</td>\n",
       "      <td>6721</td>\n",
       "      <td>292.217391</td>\n",
       "    </tr>\n",
       "    <tr>\n",
       "      <th>JC005</th>\n",
       "      <td>Grove St PATH</td>\n",
       "      <td>8127</td>\n",
       "      <td>353.347826</td>\n",
       "    </tr>\n",
       "  </tbody>\n",
       "</table>\n",
       "</div>"
      ],
      "text/plain": [
       "                                            Station Name  Count         Avg\n",
       "Station ID                                                                 \n",
       "JC107                                 Grant Ave & MLK Dr    112    4.869565\n",
       "JC108                            Bergen Ave & Stegman St    235   10.217391\n",
       "JC063                                     Jackson Square    296   12.869565\n",
       "JC051                                           Union St    391   17.000000\n",
       "JC094                                       Glenwood Ave    479   20.826087\n",
       "JC065                                             Dey St    486   21.130435\n",
       "JC018                                  5 Corners Library    493   21.434783\n",
       "JC059                                   Heights Elevator    619   26.913043\n",
       "JC084                            Communipaw & Berry Lane    776   33.739130\n",
       "JC080                                Leonard Gordon Park    829   36.043478\n",
       "JC034                                    Christ Hospital    891   38.739130\n",
       "JC077                                        Astor Place    918   39.913043\n",
       "JC095                                         Bergen Ave    932   40.521739\n",
       "JC099                                      Montgomery St    945   41.086957\n",
       "JC053                                       Lincoln Park    961   41.782609\n",
       "JC093                                      Fairmount Ave    961   41.782609\n",
       "HB602                         Stevens - River Ter & 6 St   1033   44.913043\n",
       "JC038                                   Essex Light Rail   1062   46.173913\n",
       "JC022                                        Oakland Ave   1101   47.869565\n",
       "HB404             Mama Johnson Field - 4 St & Jackson St   1134   49.304348\n",
       "HB507                                   Adams St & 11 St   1150   50.000000\n",
       "JC027                                    Jersey & 6th St   1153   50.130435\n",
       "JC024                                     Pershing Field   1172   50.956522\n",
       "JC057                                     Riverview Park   1232   53.565217\n",
       "JC076                                        Dixon Mills   1280   55.652174\n",
       "JC020                              Baldwin at Montgomery   1303   56.652174\n",
       "JC078                                     Lafayette Park   1339   58.217391\n",
       "JC103                                     Journal Square   1367   59.434783\n",
       "JC019                                            Hilltop   1382   60.086957\n",
       "JC075                                   Monmouth and 6th   1383   60.130435\n",
       "JC072                                       Morris Canal   1508   65.565217\n",
       "JC074                                       Jersey & 3rd   1514   65.826087\n",
       "HB302                                    6 St & Grand St   1635   71.086957\n",
       "HB503                                 Madison St & 10 St   1668   72.521739\n",
       "HB407                                    Adams St & 2 St   1668   72.521739\n",
       "JC023                                       Brunswick St   1678   72.956522\n",
       "HB408                                 Marshall St & 2 St   1732   75.304348\n",
       "HB505                                 Willow Ave & 12 St   1759   76.478261\n",
       "JC082                                       Manila & 1st   1759   76.478261\n",
       "JC055                                    McGinley Square   1793   77.956522\n",
       "JC081                                    Brunswick & 6th   1821   79.173913\n",
       "JC102                                           Grand St   1890   82.173913\n",
       "HB304                                   7 St & Monroe St   1891   82.217391\n",
       "HB303                                  Clinton St & 7 St   1902   82.695652\n",
       "JC002                                        Paulus Hook   1930   83.913043\n",
       "HB401         Southwest Park - Jackson St & Observer Hwy   1937   84.217391\n",
       "JC011                                  JC Medical Center   1952   84.869565\n",
       "HB203                              Bloomfield St & 15 St   1965   85.434783\n",
       "JC035                                     Van Vorst Park   1980   86.086957\n",
       "HB301                                    4 St & Grand St   2040   88.695652\n",
       "HB506                                   Grand St & 14 St   2044   88.869565\n",
       "HB305                      9 St HBLR - Jackson St & 8 St   2105   91.521739\n",
       "JC014                                     Columbus Drive   2108   91.652174\n",
       "HB409                             Clinton St & Newark St   2282   99.217391\n",
       "JC032                                         Newark Ave   2337  101.608696\n",
       "HB601                   Church Sq Park - 5 St & Park Ave   2391  103.956522\n",
       "HB402                                  Madison St & 1 St   2464  107.130435\n",
       "HB501                  Columbus Park - Clinton St & 9 St   2542  110.521739\n",
       "JC052                                 Liberty Light Rail   2627  114.217391\n",
       "JC006                                          Warren St   2688  116.869565\n",
       "HB603                               8 St & Washington St   2764  120.173913\n",
       "JC003                                          City Hall   2834  123.217391\n",
       "JC098                                      Washington St   2916  126.782609\n",
       "HB502                              11 St & Washington St   2989  129.956522\n",
       "HB201                               12 St & Sinatra Dr N   3078  133.826087\n",
       "JC104                                         Harborside   3087  134.217391\n",
       "JC106                         Columbus Dr at Exchange Pl   3147  136.826087\n",
       "HB202                  14 St Ferry - 14 St & Shipyard Ln   3297  143.347826\n",
       "JC109                               Bergen Ave & Sip Ave   3390  147.391304\n",
       "JC066                                       Newport PATH   3414  148.434783\n",
       "JC013                                   Marin Light Rail   3420  148.695652\n",
       "HB607                                   Hudson St & 4 St   3495  151.956522\n",
       "JC105                         Hoboken Ave at Monmouth St   3504  152.347826\n",
       "JC009                                      Hamilton Park   3808  165.565217\n",
       "HB105                   City Hall - Washington St & 1 St   4082  177.478261\n",
       "JC008                                       Newport Pkwy   4108  178.608696\n",
       "HB101           Hoboken Terminal - Hudson St & Hudson Pl   5216  226.782609\n",
       "HB103       South Waterfront Walkway - Sinatra Dr & 1 St   6064  263.652174\n",
       "HB102            Hoboken Terminal - River St & Hudson Pl   6721  292.217391\n",
       "JC005                                      Grove St PATH   8127  353.347826"
      ]
     },
     "execution_count": 125,
     "metadata": {},
     "output_type": "execute_result"
    }
   ],
   "source": [
    "sc_wkdy = station_counts(jc=True, weekdays=True)\n",
    "sc_wkdy"
   ]
  },
  {
   "cell_type": "markdown",
   "id": "a2a08c37",
   "metadata": {},
   "source": [
    "### Monthly sum + Daily avg, weekends only (all JC+HB)"
   ]
  },
  {
   "cell_type": "code",
   "execution_count": 126,
   "id": "ada38a5c",
   "metadata": {
    "scrolled": true
   },
   "outputs": [
    {
     "data": {
      "text/html": [
       "<div>\n",
       "<style scoped>\n",
       "    .dataframe tbody tr th:only-of-type {\n",
       "        vertical-align: middle;\n",
       "    }\n",
       "\n",
       "    .dataframe tbody tr th {\n",
       "        vertical-align: top;\n",
       "    }\n",
       "\n",
       "    .dataframe thead th {\n",
       "        text-align: right;\n",
       "    }\n",
       "</style>\n",
       "<table border=\"1\" class=\"dataframe\">\n",
       "  <thead>\n",
       "    <tr style=\"text-align: right;\">\n",
       "      <th></th>\n",
       "      <th>Station Name</th>\n",
       "      <th>Count</th>\n",
       "      <th>Avg</th>\n",
       "    </tr>\n",
       "    <tr>\n",
       "      <th>Station ID</th>\n",
       "      <th></th>\n",
       "      <th></th>\n",
       "      <th></th>\n",
       "    </tr>\n",
       "  </thead>\n",
       "  <tbody>\n",
       "    <tr>\n",
       "      <th>JC107</th>\n",
       "      <td>Grant Ave &amp; MLK Dr</td>\n",
       "      <td>37</td>\n",
       "      <td>4.625</td>\n",
       "    </tr>\n",
       "    <tr>\n",
       "      <th>JC108</th>\n",
       "      <td>Bergen Ave &amp; Stegman St</td>\n",
       "      <td>92</td>\n",
       "      <td>11.500</td>\n",
       "    </tr>\n",
       "    <tr>\n",
       "      <th>JC063</th>\n",
       "      <td>Jackson Square</td>\n",
       "      <td>115</td>\n",
       "      <td>14.375</td>\n",
       "    </tr>\n",
       "    <tr>\n",
       "      <th>JC065</th>\n",
       "      <td>Dey St</td>\n",
       "      <td>130</td>\n",
       "      <td>16.250</td>\n",
       "    </tr>\n",
       "    <tr>\n",
       "      <th>JC094</th>\n",
       "      <td>Glenwood Ave</td>\n",
       "      <td>167</td>\n",
       "      <td>20.875</td>\n",
       "    </tr>\n",
       "    <tr>\n",
       "      <th>JC051</th>\n",
       "      <td>Union St</td>\n",
       "      <td>168</td>\n",
       "      <td>21.000</td>\n",
       "    </tr>\n",
       "    <tr>\n",
       "      <th>JC018</th>\n",
       "      <td>5 Corners Library</td>\n",
       "      <td>225</td>\n",
       "      <td>28.125</td>\n",
       "    </tr>\n",
       "    <tr>\n",
       "      <th>JC095</th>\n",
       "      <td>Bergen Ave</td>\n",
       "      <td>253</td>\n",
       "      <td>31.625</td>\n",
       "    </tr>\n",
       "    <tr>\n",
       "      <th>JC084</th>\n",
       "      <td>Communipaw &amp; Berry Lane</td>\n",
       "      <td>255</td>\n",
       "      <td>31.875</td>\n",
       "    </tr>\n",
       "    <tr>\n",
       "      <th>JC093</th>\n",
       "      <td>Fairmount Ave</td>\n",
       "      <td>256</td>\n",
       "      <td>32.000</td>\n",
       "    </tr>\n",
       "    <tr>\n",
       "      <th>JC077</th>\n",
       "      <td>Astor Place</td>\n",
       "      <td>258</td>\n",
       "      <td>32.250</td>\n",
       "    </tr>\n",
       "    <tr>\n",
       "      <th>JC059</th>\n",
       "      <td>Heights Elevator</td>\n",
       "      <td>260</td>\n",
       "      <td>32.500</td>\n",
       "    </tr>\n",
       "    <tr>\n",
       "      <th>HB602</th>\n",
       "      <td>Stevens - River Ter &amp; 6 St</td>\n",
       "      <td>278</td>\n",
       "      <td>34.750</td>\n",
       "    </tr>\n",
       "    <tr>\n",
       "      <th>JC080</th>\n",
       "      <td>Leonard Gordon Park</td>\n",
       "      <td>282</td>\n",
       "      <td>35.250</td>\n",
       "    </tr>\n",
       "    <tr>\n",
       "      <th>JC076</th>\n",
       "      <td>Dixon Mills</td>\n",
       "      <td>364</td>\n",
       "      <td>45.500</td>\n",
       "    </tr>\n",
       "    <tr>\n",
       "      <th>JC075</th>\n",
       "      <td>Monmouth and 6th</td>\n",
       "      <td>378</td>\n",
       "      <td>47.250</td>\n",
       "    </tr>\n",
       "    <tr>\n",
       "      <th>HB404</th>\n",
       "      <td>Mama Johnson Field - 4 St &amp; Jackson St</td>\n",
       "      <td>378</td>\n",
       "      <td>47.250</td>\n",
       "    </tr>\n",
       "    <tr>\n",
       "      <th>JC034</th>\n",
       "      <td>Christ Hospital</td>\n",
       "      <td>378</td>\n",
       "      <td>47.250</td>\n",
       "    </tr>\n",
       "    <tr>\n",
       "      <th>JC103</th>\n",
       "      <td>Journal Square</td>\n",
       "      <td>389</td>\n",
       "      <td>48.625</td>\n",
       "    </tr>\n",
       "    <tr>\n",
       "      <th>HB507</th>\n",
       "      <td>Adams St &amp; 11 St</td>\n",
       "      <td>390</td>\n",
       "      <td>48.750</td>\n",
       "    </tr>\n",
       "    <tr>\n",
       "      <th>JC027</th>\n",
       "      <td>Jersey &amp; 6th St</td>\n",
       "      <td>404</td>\n",
       "      <td>50.500</td>\n",
       "    </tr>\n",
       "    <tr>\n",
       "      <th>JC022</th>\n",
       "      <td>Oakland Ave</td>\n",
       "      <td>408</td>\n",
       "      <td>51.000</td>\n",
       "    </tr>\n",
       "    <tr>\n",
       "      <th>JC053</th>\n",
       "      <td>Lincoln Park</td>\n",
       "      <td>415</td>\n",
       "      <td>51.875</td>\n",
       "    </tr>\n",
       "    <tr>\n",
       "      <th>JC099</th>\n",
       "      <td>Montgomery St</td>\n",
       "      <td>420</td>\n",
       "      <td>52.500</td>\n",
       "    </tr>\n",
       "    <tr>\n",
       "      <th>JC019</th>\n",
       "      <td>Hilltop</td>\n",
       "      <td>441</td>\n",
       "      <td>55.125</td>\n",
       "    </tr>\n",
       "    <tr>\n",
       "      <th>JC038</th>\n",
       "      <td>Essex Light Rail</td>\n",
       "      <td>451</td>\n",
       "      <td>56.375</td>\n",
       "    </tr>\n",
       "    <tr>\n",
       "      <th>HB302</th>\n",
       "      <td>6 St &amp; Grand St</td>\n",
       "      <td>454</td>\n",
       "      <td>56.750</td>\n",
       "    </tr>\n",
       "    <tr>\n",
       "      <th>JC078</th>\n",
       "      <td>Lafayette Park</td>\n",
       "      <td>468</td>\n",
       "      <td>58.500</td>\n",
       "    </tr>\n",
       "    <tr>\n",
       "      <th>JC024</th>\n",
       "      <td>Pershing Field</td>\n",
       "      <td>474</td>\n",
       "      <td>59.250</td>\n",
       "    </tr>\n",
       "    <tr>\n",
       "      <th>JC081</th>\n",
       "      <td>Brunswick &amp; 6th</td>\n",
       "      <td>475</td>\n",
       "      <td>59.375</td>\n",
       "    </tr>\n",
       "    <tr>\n",
       "      <th>JC057</th>\n",
       "      <td>Riverview Park</td>\n",
       "      <td>480</td>\n",
       "      <td>60.000</td>\n",
       "    </tr>\n",
       "    <tr>\n",
       "      <th>JC074</th>\n",
       "      <td>Jersey &amp; 3rd</td>\n",
       "      <td>516</td>\n",
       "      <td>64.500</td>\n",
       "    </tr>\n",
       "    <tr>\n",
       "      <th>HB503</th>\n",
       "      <td>Madison St &amp; 10 St</td>\n",
       "      <td>562</td>\n",
       "      <td>70.250</td>\n",
       "    </tr>\n",
       "    <tr>\n",
       "      <th>JC023</th>\n",
       "      <td>Brunswick St</td>\n",
       "      <td>583</td>\n",
       "      <td>72.875</td>\n",
       "    </tr>\n",
       "    <tr>\n",
       "      <th>JC055</th>\n",
       "      <td>McGinley Square</td>\n",
       "      <td>600</td>\n",
       "      <td>75.000</td>\n",
       "    </tr>\n",
       "    <tr>\n",
       "      <th>HB407</th>\n",
       "      <td>Adams St &amp; 2 St</td>\n",
       "      <td>605</td>\n",
       "      <td>75.625</td>\n",
       "    </tr>\n",
       "    <tr>\n",
       "      <th>JC020</th>\n",
       "      <td>Baldwin at Montgomery</td>\n",
       "      <td>605</td>\n",
       "      <td>75.625</td>\n",
       "    </tr>\n",
       "    <tr>\n",
       "      <th>HB408</th>\n",
       "      <td>Marshall St &amp; 2 St</td>\n",
       "      <td>612</td>\n",
       "      <td>76.500</td>\n",
       "    </tr>\n",
       "    <tr>\n",
       "      <th>JC082</th>\n",
       "      <td>Manila &amp; 1st</td>\n",
       "      <td>625</td>\n",
       "      <td>78.125</td>\n",
       "    </tr>\n",
       "    <tr>\n",
       "      <th>HB305</th>\n",
       "      <td>9 St HBLR - Jackson St &amp; 8 St</td>\n",
       "      <td>643</td>\n",
       "      <td>80.375</td>\n",
       "    </tr>\n",
       "    <tr>\n",
       "      <th>HB304</th>\n",
       "      <td>7 St &amp; Monroe St</td>\n",
       "      <td>662</td>\n",
       "      <td>82.750</td>\n",
       "    </tr>\n",
       "    <tr>\n",
       "      <th>HB303</th>\n",
       "      <td>Clinton St &amp; 7 St</td>\n",
       "      <td>664</td>\n",
       "      <td>83.000</td>\n",
       "    </tr>\n",
       "    <tr>\n",
       "      <th>HB401</th>\n",
       "      <td>Southwest Park - Jackson St &amp; Observer Hwy</td>\n",
       "      <td>679</td>\n",
       "      <td>84.875</td>\n",
       "    </tr>\n",
       "    <tr>\n",
       "      <th>JC072</th>\n",
       "      <td>Morris Canal</td>\n",
       "      <td>702</td>\n",
       "      <td>87.750</td>\n",
       "    </tr>\n",
       "    <tr>\n",
       "      <th>HB301</th>\n",
       "      <td>4 St &amp; Grand St</td>\n",
       "      <td>703</td>\n",
       "      <td>87.875</td>\n",
       "    </tr>\n",
       "    <tr>\n",
       "      <th>HB505</th>\n",
       "      <td>Willow Ave &amp; 12 St</td>\n",
       "      <td>745</td>\n",
       "      <td>93.125</td>\n",
       "    </tr>\n",
       "    <tr>\n",
       "      <th>JC102</th>\n",
       "      <td>Grand St</td>\n",
       "      <td>754</td>\n",
       "      <td>94.250</td>\n",
       "    </tr>\n",
       "    <tr>\n",
       "      <th>JC035</th>\n",
       "      <td>Van Vorst Park</td>\n",
       "      <td>758</td>\n",
       "      <td>94.750</td>\n",
       "    </tr>\n",
       "    <tr>\n",
       "      <th>HB203</th>\n",
       "      <td>Bloomfield St &amp; 15 St</td>\n",
       "      <td>758</td>\n",
       "      <td>94.750</td>\n",
       "    </tr>\n",
       "    <tr>\n",
       "      <th>HB409</th>\n",
       "      <td>Clinton St &amp; Newark St</td>\n",
       "      <td>777</td>\n",
       "      <td>97.125</td>\n",
       "    </tr>\n",
       "    <tr>\n",
       "      <th>JC002</th>\n",
       "      <td>Paulus Hook</td>\n",
       "      <td>783</td>\n",
       "      <td>97.875</td>\n",
       "    </tr>\n",
       "    <tr>\n",
       "      <th>HB601</th>\n",
       "      <td>Church Sq Park - 5 St &amp; Park Ave</td>\n",
       "      <td>817</td>\n",
       "      <td>102.125</td>\n",
       "    </tr>\n",
       "    <tr>\n",
       "      <th>JC032</th>\n",
       "      <td>Newark Ave</td>\n",
       "      <td>863</td>\n",
       "      <td>107.875</td>\n",
       "    </tr>\n",
       "    <tr>\n",
       "      <th>HB506</th>\n",
       "      <td>Grand St &amp; 14 St</td>\n",
       "      <td>876</td>\n",
       "      <td>109.500</td>\n",
       "    </tr>\n",
       "    <tr>\n",
       "      <th>HB501</th>\n",
       "      <td>Columbus Park - Clinton St &amp; 9 St</td>\n",
       "      <td>885</td>\n",
       "      <td>110.625</td>\n",
       "    </tr>\n",
       "    <tr>\n",
       "      <th>HB402</th>\n",
       "      <td>Madison St &amp; 1 St</td>\n",
       "      <td>901</td>\n",
       "      <td>112.625</td>\n",
       "    </tr>\n",
       "    <tr>\n",
       "      <th>JC014</th>\n",
       "      <td>Columbus Drive</td>\n",
       "      <td>931</td>\n",
       "      <td>116.375</td>\n",
       "    </tr>\n",
       "    <tr>\n",
       "      <th>HB603</th>\n",
       "      <td>8 St &amp; Washington St</td>\n",
       "      <td>949</td>\n",
       "      <td>118.625</td>\n",
       "    </tr>\n",
       "    <tr>\n",
       "      <th>JC011</th>\n",
       "      <td>JC Medical Center</td>\n",
       "      <td>950</td>\n",
       "      <td>118.750</td>\n",
       "    </tr>\n",
       "    <tr>\n",
       "      <th>JC109</th>\n",
       "      <td>Bergen Ave &amp; Sip Ave</td>\n",
       "      <td>970</td>\n",
       "      <td>121.250</td>\n",
       "    </tr>\n",
       "    <tr>\n",
       "      <th>JC003</th>\n",
       "      <td>City Hall</td>\n",
       "      <td>1077</td>\n",
       "      <td>134.625</td>\n",
       "    </tr>\n",
       "    <tr>\n",
       "      <th>JC006</th>\n",
       "      <td>Warren St</td>\n",
       "      <td>1083</td>\n",
       "      <td>135.375</td>\n",
       "    </tr>\n",
       "    <tr>\n",
       "      <th>HB502</th>\n",
       "      <td>11 St &amp; Washington St</td>\n",
       "      <td>1104</td>\n",
       "      <td>138.000</td>\n",
       "    </tr>\n",
       "    <tr>\n",
       "      <th>HB607</th>\n",
       "      <td>Hudson St &amp; 4 St</td>\n",
       "      <td>1163</td>\n",
       "      <td>145.375</td>\n",
       "    </tr>\n",
       "    <tr>\n",
       "      <th>JC104</th>\n",
       "      <td>Harborside</td>\n",
       "      <td>1187</td>\n",
       "      <td>148.375</td>\n",
       "    </tr>\n",
       "    <tr>\n",
       "      <th>JC098</th>\n",
       "      <td>Washington St</td>\n",
       "      <td>1283</td>\n",
       "      <td>160.375</td>\n",
       "    </tr>\n",
       "    <tr>\n",
       "      <th>JC106</th>\n",
       "      <td>Columbus Dr at Exchange Pl</td>\n",
       "      <td>1310</td>\n",
       "      <td>163.750</td>\n",
       "    </tr>\n",
       "    <tr>\n",
       "      <th>JC066</th>\n",
       "      <td>Newport PATH</td>\n",
       "      <td>1361</td>\n",
       "      <td>170.125</td>\n",
       "    </tr>\n",
       "    <tr>\n",
       "      <th>JC009</th>\n",
       "      <td>Hamilton Park</td>\n",
       "      <td>1375</td>\n",
       "      <td>171.875</td>\n",
       "    </tr>\n",
       "    <tr>\n",
       "      <th>JC105</th>\n",
       "      <td>Hoboken Ave at Monmouth St</td>\n",
       "      <td>1384</td>\n",
       "      <td>173.000</td>\n",
       "    </tr>\n",
       "    <tr>\n",
       "      <th>HB202</th>\n",
       "      <td>14 St Ferry - 14 St &amp; Shipyard Ln</td>\n",
       "      <td>1484</td>\n",
       "      <td>185.500</td>\n",
       "    </tr>\n",
       "    <tr>\n",
       "      <th>JC052</th>\n",
       "      <td>Liberty Light Rail</td>\n",
       "      <td>1504</td>\n",
       "      <td>188.000</td>\n",
       "    </tr>\n",
       "    <tr>\n",
       "      <th>JC013</th>\n",
       "      <td>Marin Light Rail</td>\n",
       "      <td>1627</td>\n",
       "      <td>203.375</td>\n",
       "    </tr>\n",
       "    <tr>\n",
       "      <th>HB105</th>\n",
       "      <td>City Hall - Washington St &amp; 1 St</td>\n",
       "      <td>1760</td>\n",
       "      <td>220.000</td>\n",
       "    </tr>\n",
       "    <tr>\n",
       "      <th>JC008</th>\n",
       "      <td>Newport Pkwy</td>\n",
       "      <td>1786</td>\n",
       "      <td>223.250</td>\n",
       "    </tr>\n",
       "    <tr>\n",
       "      <th>HB101</th>\n",
       "      <td>Hoboken Terminal - Hudson St &amp; Hudson Pl</td>\n",
       "      <td>1823</td>\n",
       "      <td>227.875</td>\n",
       "    </tr>\n",
       "    <tr>\n",
       "      <th>HB201</th>\n",
       "      <td>12 St &amp; Sinatra Dr N</td>\n",
       "      <td>1856</td>\n",
       "      <td>232.000</td>\n",
       "    </tr>\n",
       "    <tr>\n",
       "      <th>JC005</th>\n",
       "      <td>Grove St PATH</td>\n",
       "      <td>2260</td>\n",
       "      <td>282.500</td>\n",
       "    </tr>\n",
       "    <tr>\n",
       "      <th>HB102</th>\n",
       "      <td>Hoboken Terminal - River St &amp; Hudson Pl</td>\n",
       "      <td>2275</td>\n",
       "      <td>284.375</td>\n",
       "    </tr>\n",
       "    <tr>\n",
       "      <th>HB103</th>\n",
       "      <td>South Waterfront Walkway - Sinatra Dr &amp; 1 St</td>\n",
       "      <td>3070</td>\n",
       "      <td>383.750</td>\n",
       "    </tr>\n",
       "  </tbody>\n",
       "</table>\n",
       "</div>"
      ],
      "text/plain": [
       "                                            Station Name  Count      Avg\n",
       "Station ID                                                              \n",
       "JC107                                 Grant Ave & MLK Dr     37    4.625\n",
       "JC108                            Bergen Ave & Stegman St     92   11.500\n",
       "JC063                                     Jackson Square    115   14.375\n",
       "JC065                                             Dey St    130   16.250\n",
       "JC094                                       Glenwood Ave    167   20.875\n",
       "JC051                                           Union St    168   21.000\n",
       "JC018                                  5 Corners Library    225   28.125\n",
       "JC095                                         Bergen Ave    253   31.625\n",
       "JC084                            Communipaw & Berry Lane    255   31.875\n",
       "JC093                                      Fairmount Ave    256   32.000\n",
       "JC077                                        Astor Place    258   32.250\n",
       "JC059                                   Heights Elevator    260   32.500\n",
       "HB602                         Stevens - River Ter & 6 St    278   34.750\n",
       "JC080                                Leonard Gordon Park    282   35.250\n",
       "JC076                                        Dixon Mills    364   45.500\n",
       "JC075                                   Monmouth and 6th    378   47.250\n",
       "HB404             Mama Johnson Field - 4 St & Jackson St    378   47.250\n",
       "JC034                                    Christ Hospital    378   47.250\n",
       "JC103                                     Journal Square    389   48.625\n",
       "HB507                                   Adams St & 11 St    390   48.750\n",
       "JC027                                    Jersey & 6th St    404   50.500\n",
       "JC022                                        Oakland Ave    408   51.000\n",
       "JC053                                       Lincoln Park    415   51.875\n",
       "JC099                                      Montgomery St    420   52.500\n",
       "JC019                                            Hilltop    441   55.125\n",
       "JC038                                   Essex Light Rail    451   56.375\n",
       "HB302                                    6 St & Grand St    454   56.750\n",
       "JC078                                     Lafayette Park    468   58.500\n",
       "JC024                                     Pershing Field    474   59.250\n",
       "JC081                                    Brunswick & 6th    475   59.375\n",
       "JC057                                     Riverview Park    480   60.000\n",
       "JC074                                       Jersey & 3rd    516   64.500\n",
       "HB503                                 Madison St & 10 St    562   70.250\n",
       "JC023                                       Brunswick St    583   72.875\n",
       "JC055                                    McGinley Square    600   75.000\n",
       "HB407                                    Adams St & 2 St    605   75.625\n",
       "JC020                              Baldwin at Montgomery    605   75.625\n",
       "HB408                                 Marshall St & 2 St    612   76.500\n",
       "JC082                                       Manila & 1st    625   78.125\n",
       "HB305                      9 St HBLR - Jackson St & 8 St    643   80.375\n",
       "HB304                                   7 St & Monroe St    662   82.750\n",
       "HB303                                  Clinton St & 7 St    664   83.000\n",
       "HB401         Southwest Park - Jackson St & Observer Hwy    679   84.875\n",
       "JC072                                       Morris Canal    702   87.750\n",
       "HB301                                    4 St & Grand St    703   87.875\n",
       "HB505                                 Willow Ave & 12 St    745   93.125\n",
       "JC102                                           Grand St    754   94.250\n",
       "JC035                                     Van Vorst Park    758   94.750\n",
       "HB203                              Bloomfield St & 15 St    758   94.750\n",
       "HB409                             Clinton St & Newark St    777   97.125\n",
       "JC002                                        Paulus Hook    783   97.875\n",
       "HB601                   Church Sq Park - 5 St & Park Ave    817  102.125\n",
       "JC032                                         Newark Ave    863  107.875\n",
       "HB506                                   Grand St & 14 St    876  109.500\n",
       "HB501                  Columbus Park - Clinton St & 9 St    885  110.625\n",
       "HB402                                  Madison St & 1 St    901  112.625\n",
       "JC014                                     Columbus Drive    931  116.375\n",
       "HB603                               8 St & Washington St    949  118.625\n",
       "JC011                                  JC Medical Center    950  118.750\n",
       "JC109                               Bergen Ave & Sip Ave    970  121.250\n",
       "JC003                                          City Hall   1077  134.625\n",
       "JC006                                          Warren St   1083  135.375\n",
       "HB502                              11 St & Washington St   1104  138.000\n",
       "HB607                                   Hudson St & 4 St   1163  145.375\n",
       "JC104                                         Harborside   1187  148.375\n",
       "JC098                                      Washington St   1283  160.375\n",
       "JC106                         Columbus Dr at Exchange Pl   1310  163.750\n",
       "JC066                                       Newport PATH   1361  170.125\n",
       "JC009                                      Hamilton Park   1375  171.875\n",
       "JC105                         Hoboken Ave at Monmouth St   1384  173.000\n",
       "HB202                  14 St Ferry - 14 St & Shipyard Ln   1484  185.500\n",
       "JC052                                 Liberty Light Rail   1504  188.000\n",
       "JC013                                   Marin Light Rail   1627  203.375\n",
       "HB105                   City Hall - Washington St & 1 St   1760  220.000\n",
       "JC008                                       Newport Pkwy   1786  223.250\n",
       "HB101           Hoboken Terminal - Hudson St & Hudson Pl   1823  227.875\n",
       "HB201                               12 St & Sinatra Dr N   1856  232.000\n",
       "JC005                                      Grove St PATH   2260  282.500\n",
       "HB102            Hoboken Terminal - River St & Hudson Pl   2275  284.375\n",
       "HB103       South Waterfront Walkway - Sinatra Dr & 1 St   3070  383.750"
      ]
     },
     "execution_count": 126,
     "metadata": {},
     "output_type": "execute_result"
    }
   ],
   "source": [
    "sc_wknd = station_counts(jc=True, weekdays=False)\n",
    "sc_wknd"
   ]
  },
  {
   "cell_type": "markdown",
   "id": "e7e531c0",
   "metadata": {},
   "source": [
    "### Busiest 5 stations"
   ]
  },
  {
   "cell_type": "code",
   "execution_count": 127,
   "id": "6afcee7b",
   "metadata": {},
   "outputs": [
    {
     "data": {
      "text/plain": [
       "Station ID\n",
       "JC008                                    Newport Pkwy\n",
       "HB101        Hoboken Terminal - Hudson St & Hudson Pl\n",
       "HB102         Hoboken Terminal - River St & Hudson Pl\n",
       "HB103    South Waterfront Walkway - Sinatra Dr & 1 St\n",
       "JC005                                   Grove St PATH\n",
       "Name: Station Name, dtype: object"
      ]
     },
     "execution_count": 127,
     "metadata": {},
     "output_type": "execute_result"
    }
   ],
   "source": [
    "top_stations = sc_all.iloc[-5:]['Station Name']\n",
    "top_stations\n",
    "# top_stations = pd.concat([sc_all.iloc[-5:], sc_wkdy.iloc[-5:], sc_wknd.iloc[-5:]])\n",
    "# top_stations.index.drop_duplicates()"
   ]
  },
  {
   "cell_type": "markdown",
   "id": "ed0137bf",
   "metadata": {},
   "source": [
    "### Daily dockings (start+end), top 5 JC+HB stations"
   ]
  },
  {
   "cell_type": "code",
   "execution_count": 138,
   "id": "35489407",
   "metadata": {},
   "outputs": [
    {
     "data": {
      "text/html": [
       "<div>\n",
       "<style scoped>\n",
       "    .dataframe tbody tr th:only-of-type {\n",
       "        vertical-align: middle;\n",
       "    }\n",
       "\n",
       "    .dataframe tbody tr th {\n",
       "        vertical-align: top;\n",
       "    }\n",
       "\n",
       "    .dataframe thead th {\n",
       "        text-align: right;\n",
       "    }\n",
       "</style>\n",
       "<table border=\"1\" class=\"dataframe\">\n",
       "  <thead>\n",
       "    <tr style=\"text-align: right;\">\n",
       "      <th></th>\n",
       "      <th>Station Name</th>\n",
       "      <th>Day</th>\n",
       "      <th>Count</th>\n",
       "      <th>Date</th>\n",
       "      <th>Weekday</th>\n",
       "    </tr>\n",
       "    <tr>\n",
       "      <th>Station ID</th>\n",
       "      <th></th>\n",
       "      <th></th>\n",
       "      <th></th>\n",
       "      <th></th>\n",
       "      <th></th>\n",
       "    </tr>\n",
       "  </thead>\n",
       "  <tbody>\n",
       "    <tr>\n",
       "      <th>HB103</th>\n",
       "      <td>South Waterfront Walkway - Sinatra Dr &amp; 1 St</td>\n",
       "      <td>1</td>\n",
       "      <td>234</td>\n",
       "      <td>2022-08-01</td>\n",
       "      <td>Weekday</td>\n",
       "    </tr>\n",
       "    <tr>\n",
       "      <th>JC005</th>\n",
       "      <td>Grove St PATH</td>\n",
       "      <td>1</td>\n",
       "      <td>330</td>\n",
       "      <td>2022-08-01</td>\n",
       "      <td>Weekday</td>\n",
       "    </tr>\n",
       "    <tr>\n",
       "      <th>HB102</th>\n",
       "      <td>Hoboken Terminal - River St &amp; Hudson Pl</td>\n",
       "      <td>1</td>\n",
       "      <td>243</td>\n",
       "      <td>2022-08-01</td>\n",
       "      <td>Weekday</td>\n",
       "    </tr>\n",
       "    <tr>\n",
       "      <th>HB101</th>\n",
       "      <td>Hoboken Terminal - Hudson St &amp; Hudson Pl</td>\n",
       "      <td>1</td>\n",
       "      <td>192</td>\n",
       "      <td>2022-08-01</td>\n",
       "      <td>Weekday</td>\n",
       "    </tr>\n",
       "    <tr>\n",
       "      <th>JC008</th>\n",
       "      <td>Newport Pkwy</td>\n",
       "      <td>1</td>\n",
       "      <td>170</td>\n",
       "      <td>2022-08-01</td>\n",
       "      <td>Weekday</td>\n",
       "    </tr>\n",
       "    <tr>\n",
       "      <th>...</th>\n",
       "      <td>...</td>\n",
       "      <td>...</td>\n",
       "      <td>...</td>\n",
       "      <td>...</td>\n",
       "      <td>...</td>\n",
       "    </tr>\n",
       "    <tr>\n",
       "      <th>JC008</th>\n",
       "      <td>Newport Pkwy</td>\n",
       "      <td>31</td>\n",
       "      <td>161</td>\n",
       "      <td>2022-08-31</td>\n",
       "      <td>Weekday</td>\n",
       "    </tr>\n",
       "    <tr>\n",
       "      <th>HB102</th>\n",
       "      <td>Hoboken Terminal - River St &amp; Hudson Pl</td>\n",
       "      <td>31</td>\n",
       "      <td>338</td>\n",
       "      <td>2022-08-31</td>\n",
       "      <td>Weekday</td>\n",
       "    </tr>\n",
       "    <tr>\n",
       "      <th>HB101</th>\n",
       "      <td>Hoboken Terminal - Hudson St &amp; Hudson Pl</td>\n",
       "      <td>31</td>\n",
       "      <td>219</td>\n",
       "      <td>2022-08-31</td>\n",
       "      <td>Weekday</td>\n",
       "    </tr>\n",
       "    <tr>\n",
       "      <th>JC005</th>\n",
       "      <td>Grove St PATH</td>\n",
       "      <td>31</td>\n",
       "      <td>369</td>\n",
       "      <td>2022-08-31</td>\n",
       "      <td>Weekday</td>\n",
       "    </tr>\n",
       "    <tr>\n",
       "      <th>HB103</th>\n",
       "      <td>South Waterfront Walkway - Sinatra Dr &amp; 1 St</td>\n",
       "      <td>31</td>\n",
       "      <td>230</td>\n",
       "      <td>2022-08-31</td>\n",
       "      <td>Weekday</td>\n",
       "    </tr>\n",
       "  </tbody>\n",
       "</table>\n",
       "<p>155 rows × 5 columns</p>\n",
       "</div>"
      ],
      "text/plain": [
       "                                            Station Name  Day  Count  \\\n",
       "Station ID                                                             \n",
       "HB103       South Waterfront Walkway - Sinatra Dr & 1 St    1    234   \n",
       "JC005                                      Grove St PATH    1    330   \n",
       "HB102            Hoboken Terminal - River St & Hudson Pl    1    243   \n",
       "HB101           Hoboken Terminal - Hudson St & Hudson Pl    1    192   \n",
       "JC008                                       Newport Pkwy    1    170   \n",
       "...                                                  ...  ...    ...   \n",
       "JC008                                       Newport Pkwy   31    161   \n",
       "HB102            Hoboken Terminal - River St & Hudson Pl   31    338   \n",
       "HB101           Hoboken Terminal - Hudson St & Hudson Pl   31    219   \n",
       "JC005                                      Grove St PATH   31    369   \n",
       "HB103       South Waterfront Walkway - Sinatra Dr & 1 St   31    230   \n",
       "\n",
       "                 Date  Weekday  \n",
       "Station ID                      \n",
       "HB103      2022-08-01  Weekday  \n",
       "JC005      2022-08-01  Weekday  \n",
       "HB102      2022-08-01  Weekday  \n",
       "HB101      2022-08-01  Weekday  \n",
       "JC008      2022-08-01  Weekday  \n",
       "...               ...      ...  \n",
       "JC008      2022-08-31  Weekday  \n",
       "HB102      2022-08-31  Weekday  \n",
       "HB101      2022-08-31  Weekday  \n",
       "JC005      2022-08-31  Weekday  \n",
       "HB103      2022-08-31  Weekday  \n",
       "\n",
       "[155 rows x 5 columns]"
      ]
     },
     "execution_count": 138,
     "metadata": {},
     "output_type": "execute_result"
    }
   ],
   "source": [
    "ts = jcd[jcd.index.isin(top_stations.index)].copy()\n",
    "ts['Date'] = ts.Day.apply(lambda d: to_dt('2022-08-%02d' % d).date()).astype('datetime64')\n",
    "ts = ts.sort_values('Date')\n",
    "ts['Weekday'] = 'Weekend'\n",
    "ts.loc[ts['Date'].dt.weekday < 5, 'Weekday'] = 'Weekday'\n",
    "ts"
   ]
  },
  {
   "cell_type": "code",
   "execution_count": 139,
   "id": "2b10badd",
   "metadata": {},
   "outputs": [
    {
     "data": {
      "application/vnd.plotly.v1+json": {
       "config": {
        "plotlyServerURL": "https://plot.ly"
       },
       "data": [
        {
         "hovertemplate": "Station Name=South Waterfront Walkway - Sinatra Dr & 1 St<br>Date=%{x}<br>Daily ride starts+stops=%{y}<extra></extra>",
         "legendgroup": "South Waterfront Walkway - Sinatra Dr & 1 St",
         "line": {
          "color": "#636efa",
          "dash": "solid"
         },
         "marker": {
          "symbol": "circle"
         },
         "mode": "lines",
         "name": "South Waterfront Walkway - Sinatra Dr & 1 St",
         "orientation": "v",
         "showlegend": true,
         "type": "scatter",
         "x": [
          "2022-08-01T00:00:00",
          "2022-08-02T00:00:00",
          "2022-08-03T00:00:00",
          "2022-08-04T00:00:00",
          "2022-08-05T00:00:00",
          "2022-08-06T00:00:00",
          "2022-08-07T00:00:00",
          "2022-08-08T00:00:00",
          "2022-08-09T00:00:00",
          "2022-08-10T00:00:00",
          "2022-08-11T00:00:00",
          "2022-08-12T00:00:00",
          "2022-08-13T00:00:00",
          "2022-08-14T00:00:00",
          "2022-08-15T00:00:00",
          "2022-08-16T00:00:00",
          "2022-08-17T00:00:00",
          "2022-08-18T00:00:00",
          "2022-08-19T00:00:00",
          "2022-08-20T00:00:00",
          "2022-08-21T00:00:00",
          "2022-08-22T00:00:00",
          "2022-08-23T00:00:00",
          "2022-08-24T00:00:00",
          "2022-08-25T00:00:00",
          "2022-08-26T00:00:00",
          "2022-08-27T00:00:00",
          "2022-08-28T00:00:00",
          "2022-08-29T00:00:00",
          "2022-08-30T00:00:00",
          "2022-08-31T00:00:00"
         ],
         "xaxis": "x",
         "y": [
          234,
          252,
          274,
          256,
          315,
          369,
          401,
          241,
          227,
          283,
          239,
          315,
          455,
          506,
          267,
          275,
          249,
          272,
          246,
          311,
          332,
          179,
          245,
          310,
          336,
          226,
          323,
          373,
          293,
          300,
          230
         ],
         "yaxis": "y"
        },
        {
         "hovertemplate": "Station Name=Grove St PATH<br>Date=%{x}<br>Daily ride starts+stops=%{y}<extra></extra>",
         "legendgroup": "Grove St PATH",
         "line": {
          "color": "#EF553B",
          "dash": "solid"
         },
         "marker": {
          "symbol": "circle"
         },
         "mode": "lines",
         "name": "Grove St PATH",
         "orientation": "v",
         "showlegend": true,
         "type": "scatter",
         "x": [
          "2022-08-01T00:00:00",
          "2022-08-02T00:00:00",
          "2022-08-03T00:00:00",
          "2022-08-04T00:00:00",
          "2022-08-05T00:00:00",
          "2022-08-06T00:00:00",
          "2022-08-07T00:00:00",
          "2022-08-08T00:00:00",
          "2022-08-09T00:00:00",
          "2022-08-10T00:00:00",
          "2022-08-11T00:00:00",
          "2022-08-12T00:00:00",
          "2022-08-13T00:00:00",
          "2022-08-14T00:00:00",
          "2022-08-15T00:00:00",
          "2022-08-16T00:00:00",
          "2022-08-17T00:00:00",
          "2022-08-18T00:00:00",
          "2022-08-19T00:00:00",
          "2022-08-20T00:00:00",
          "2022-08-21T00:00:00",
          "2022-08-22T00:00:00",
          "2022-08-23T00:00:00",
          "2022-08-24T00:00:00",
          "2022-08-25T00:00:00",
          "2022-08-26T00:00:00",
          "2022-08-27T00:00:00",
          "2022-08-28T00:00:00",
          "2022-08-29T00:00:00",
          "2022-08-30T00:00:00",
          "2022-08-31T00:00:00"
         ],
         "xaxis": "x",
         "y": [
          330,
          401,
          409,
          321,
          334,
          235,
          259,
          329,
          349,
          355,
          364,
          348,
          322,
          316,
          379,
          374,
          413,
          373,
          298,
          300,
          234,
          244,
          360,
          356,
          380,
          353,
          311,
          283,
          354,
          334,
          369
         ],
         "yaxis": "y"
        },
        {
         "hovertemplate": "Station Name=Hoboken Terminal - River St & Hudson Pl<br>Date=%{x}<br>Daily ride starts+stops=%{y}<extra></extra>",
         "legendgroup": "Hoboken Terminal - River St & Hudson Pl",
         "line": {
          "color": "#00cc96",
          "dash": "solid"
         },
         "marker": {
          "symbol": "circle"
         },
         "mode": "lines",
         "name": "Hoboken Terminal - River St & Hudson Pl",
         "orientation": "v",
         "showlegend": true,
         "type": "scatter",
         "x": [
          "2022-08-01T00:00:00",
          "2022-08-02T00:00:00",
          "2022-08-03T00:00:00",
          "2022-08-04T00:00:00",
          "2022-08-05T00:00:00",
          "2022-08-06T00:00:00",
          "2022-08-07T00:00:00",
          "2022-08-08T00:00:00",
          "2022-08-09T00:00:00",
          "2022-08-10T00:00:00",
          "2022-08-11T00:00:00",
          "2022-08-12T00:00:00",
          "2022-08-13T00:00:00",
          "2022-08-14T00:00:00",
          "2022-08-15T00:00:00",
          "2022-08-16T00:00:00",
          "2022-08-17T00:00:00",
          "2022-08-18T00:00:00",
          "2022-08-19T00:00:00",
          "2022-08-20T00:00:00",
          "2022-08-21T00:00:00",
          "2022-08-22T00:00:00",
          "2022-08-23T00:00:00",
          "2022-08-24T00:00:00",
          "2022-08-25T00:00:00",
          "2022-08-26T00:00:00",
          "2022-08-27T00:00:00",
          "2022-08-28T00:00:00",
          "2022-08-29T00:00:00",
          "2022-08-30T00:00:00",
          "2022-08-31T00:00:00"
         ],
         "xaxis": "x",
         "y": [
          243,
          227,
          254,
          293,
          410,
          326,
          246,
          272,
          260,
          314,
          328,
          353,
          400,
          257,
          282,
          332,
          248,
          342,
          334,
          316,
          203,
          192,
          276,
          299,
          294,
          393,
          304,
          223,
          270,
          167,
          338
         ],
         "yaxis": "y"
        },
        {
         "hovertemplate": "Station Name=Hoboken Terminal - Hudson St & Hudson Pl<br>Date=%{x}<br>Daily ride starts+stops=%{y}<extra></extra>",
         "legendgroup": "Hoboken Terminal - Hudson St & Hudson Pl",
         "line": {
          "color": "#ab63fa",
          "dash": "solid"
         },
         "marker": {
          "symbol": "circle"
         },
         "mode": "lines",
         "name": "Hoboken Terminal - Hudson St & Hudson Pl",
         "orientation": "v",
         "showlegend": true,
         "type": "scatter",
         "x": [
          "2022-08-01T00:00:00",
          "2022-08-02T00:00:00",
          "2022-08-03T00:00:00",
          "2022-08-04T00:00:00",
          "2022-08-05T00:00:00",
          "2022-08-06T00:00:00",
          "2022-08-07T00:00:00",
          "2022-08-08T00:00:00",
          "2022-08-09T00:00:00",
          "2022-08-10T00:00:00",
          "2022-08-11T00:00:00",
          "2022-08-12T00:00:00",
          "2022-08-13T00:00:00",
          "2022-08-14T00:00:00",
          "2022-08-15T00:00:00",
          "2022-08-16T00:00:00",
          "2022-08-17T00:00:00",
          "2022-08-18T00:00:00",
          "2022-08-19T00:00:00",
          "2022-08-20T00:00:00",
          "2022-08-21T00:00:00",
          "2022-08-22T00:00:00",
          "2022-08-23T00:00:00",
          "2022-08-24T00:00:00",
          "2022-08-25T00:00:00",
          "2022-08-26T00:00:00",
          "2022-08-27T00:00:00",
          "2022-08-28T00:00:00",
          "2022-08-29T00:00:00",
          "2022-08-30T00:00:00",
          "2022-08-31T00:00:00"
         ],
         "xaxis": "x",
         "y": [
          192,
          184,
          248,
          216,
          280,
          259,
          224,
          170,
          196,
          250,
          252,
          282,
          222,
          221,
          198,
          233,
          240,
          293,
          229,
          307,
          193,
          145,
          226,
          235,
          250,
          267,
          209,
          188,
          166,
          245,
          219
         ],
         "yaxis": "y"
        },
        {
         "hovertemplate": "Station Name=Newport Pkwy<br>Date=%{x}<br>Daily ride starts+stops=%{y}<extra></extra>",
         "legendgroup": "Newport Pkwy",
         "line": {
          "color": "#FFA15A",
          "dash": "solid"
         },
         "marker": {
          "symbol": "circle"
         },
         "mode": "lines",
         "name": "Newport Pkwy",
         "orientation": "v",
         "showlegend": true,
         "type": "scatter",
         "x": [
          "2022-08-01T00:00:00",
          "2022-08-02T00:00:00",
          "2022-08-03T00:00:00",
          "2022-08-04T00:00:00",
          "2022-08-05T00:00:00",
          "2022-08-06T00:00:00",
          "2022-08-07T00:00:00",
          "2022-08-08T00:00:00",
          "2022-08-09T00:00:00",
          "2022-08-10T00:00:00",
          "2022-08-11T00:00:00",
          "2022-08-12T00:00:00",
          "2022-08-13T00:00:00",
          "2022-08-14T00:00:00",
          "2022-08-15T00:00:00",
          "2022-08-16T00:00:00",
          "2022-08-17T00:00:00",
          "2022-08-18T00:00:00",
          "2022-08-19T00:00:00",
          "2022-08-20T00:00:00",
          "2022-08-21T00:00:00",
          "2022-08-22T00:00:00",
          "2022-08-23T00:00:00",
          "2022-08-24T00:00:00",
          "2022-08-25T00:00:00",
          "2022-08-26T00:00:00",
          "2022-08-27T00:00:00",
          "2022-08-28T00:00:00",
          "2022-08-29T00:00:00",
          "2022-08-30T00:00:00",
          "2022-08-31T00:00:00"
         ],
         "xaxis": "x",
         "y": [
          170,
          194,
          204,
          178,
          234,
          222,
          221,
          167,
          149,
          162,
          175,
          146,
          194,
          251,
          193,
          190,
          238,
          209,
          231,
          226,
          217,
          84,
          158,
          189,
          181,
          196,
          232,
          223,
          162,
          137,
          161
         ],
         "yaxis": "y"
        }
       ],
       "layout": {
        "legend": {
         "bgcolor": "rgba(0,0,0,0)",
         "title": {
          "text": "Station Name"
         },
         "tracegroupgap": 0,
         "x": 0.01,
         "xanchor": "left",
         "y": 0.99,
         "yanchor": "top"
        },
        "margin": {
         "t": 60
        },
        "template": {
         "data": {
          "bar": [
           {
            "error_x": {
             "color": "#2a3f5f"
            },
            "error_y": {
             "color": "#2a3f5f"
            },
            "marker": {
             "line": {
              "color": "#E5ECF6",
              "width": 0.5
             },
             "pattern": {
              "fillmode": "overlay",
              "size": 10,
              "solidity": 0.2
             }
            },
            "type": "bar"
           }
          ],
          "barpolar": [
           {
            "marker": {
             "line": {
              "color": "#E5ECF6",
              "width": 0.5
             },
             "pattern": {
              "fillmode": "overlay",
              "size": 10,
              "solidity": 0.2
             }
            },
            "type": "barpolar"
           }
          ],
          "carpet": [
           {
            "aaxis": {
             "endlinecolor": "#2a3f5f",
             "gridcolor": "white",
             "linecolor": "white",
             "minorgridcolor": "white",
             "startlinecolor": "#2a3f5f"
            },
            "baxis": {
             "endlinecolor": "#2a3f5f",
             "gridcolor": "white",
             "linecolor": "white",
             "minorgridcolor": "white",
             "startlinecolor": "#2a3f5f"
            },
            "type": "carpet"
           }
          ],
          "choropleth": [
           {
            "colorbar": {
             "outlinewidth": 0,
             "ticks": ""
            },
            "type": "choropleth"
           }
          ],
          "contour": [
           {
            "colorbar": {
             "outlinewidth": 0,
             "ticks": ""
            },
            "colorscale": [
             [
              0,
              "#0d0887"
             ],
             [
              0.1111111111111111,
              "#46039f"
             ],
             [
              0.2222222222222222,
              "#7201a8"
             ],
             [
              0.3333333333333333,
              "#9c179e"
             ],
             [
              0.4444444444444444,
              "#bd3786"
             ],
             [
              0.5555555555555556,
              "#d8576b"
             ],
             [
              0.6666666666666666,
              "#ed7953"
             ],
             [
              0.7777777777777778,
              "#fb9f3a"
             ],
             [
              0.8888888888888888,
              "#fdca26"
             ],
             [
              1,
              "#f0f921"
             ]
            ],
            "type": "contour"
           }
          ],
          "contourcarpet": [
           {
            "colorbar": {
             "outlinewidth": 0,
             "ticks": ""
            },
            "type": "contourcarpet"
           }
          ],
          "heatmap": [
           {
            "colorbar": {
             "outlinewidth": 0,
             "ticks": ""
            },
            "colorscale": [
             [
              0,
              "#0d0887"
             ],
             [
              0.1111111111111111,
              "#46039f"
             ],
             [
              0.2222222222222222,
              "#7201a8"
             ],
             [
              0.3333333333333333,
              "#9c179e"
             ],
             [
              0.4444444444444444,
              "#bd3786"
             ],
             [
              0.5555555555555556,
              "#d8576b"
             ],
             [
              0.6666666666666666,
              "#ed7953"
             ],
             [
              0.7777777777777778,
              "#fb9f3a"
             ],
             [
              0.8888888888888888,
              "#fdca26"
             ],
             [
              1,
              "#f0f921"
             ]
            ],
            "type": "heatmap"
           }
          ],
          "heatmapgl": [
           {
            "colorbar": {
             "outlinewidth": 0,
             "ticks": ""
            },
            "colorscale": [
             [
              0,
              "#0d0887"
             ],
             [
              0.1111111111111111,
              "#46039f"
             ],
             [
              0.2222222222222222,
              "#7201a8"
             ],
             [
              0.3333333333333333,
              "#9c179e"
             ],
             [
              0.4444444444444444,
              "#bd3786"
             ],
             [
              0.5555555555555556,
              "#d8576b"
             ],
             [
              0.6666666666666666,
              "#ed7953"
             ],
             [
              0.7777777777777778,
              "#fb9f3a"
             ],
             [
              0.8888888888888888,
              "#fdca26"
             ],
             [
              1,
              "#f0f921"
             ]
            ],
            "type": "heatmapgl"
           }
          ],
          "histogram": [
           {
            "marker": {
             "pattern": {
              "fillmode": "overlay",
              "size": 10,
              "solidity": 0.2
             }
            },
            "type": "histogram"
           }
          ],
          "histogram2d": [
           {
            "colorbar": {
             "outlinewidth": 0,
             "ticks": ""
            },
            "colorscale": [
             [
              0,
              "#0d0887"
             ],
             [
              0.1111111111111111,
              "#46039f"
             ],
             [
              0.2222222222222222,
              "#7201a8"
             ],
             [
              0.3333333333333333,
              "#9c179e"
             ],
             [
              0.4444444444444444,
              "#bd3786"
             ],
             [
              0.5555555555555556,
              "#d8576b"
             ],
             [
              0.6666666666666666,
              "#ed7953"
             ],
             [
              0.7777777777777778,
              "#fb9f3a"
             ],
             [
              0.8888888888888888,
              "#fdca26"
             ],
             [
              1,
              "#f0f921"
             ]
            ],
            "type": "histogram2d"
           }
          ],
          "histogram2dcontour": [
           {
            "colorbar": {
             "outlinewidth": 0,
             "ticks": ""
            },
            "colorscale": [
             [
              0,
              "#0d0887"
             ],
             [
              0.1111111111111111,
              "#46039f"
             ],
             [
              0.2222222222222222,
              "#7201a8"
             ],
             [
              0.3333333333333333,
              "#9c179e"
             ],
             [
              0.4444444444444444,
              "#bd3786"
             ],
             [
              0.5555555555555556,
              "#d8576b"
             ],
             [
              0.6666666666666666,
              "#ed7953"
             ],
             [
              0.7777777777777778,
              "#fb9f3a"
             ],
             [
              0.8888888888888888,
              "#fdca26"
             ],
             [
              1,
              "#f0f921"
             ]
            ],
            "type": "histogram2dcontour"
           }
          ],
          "mesh3d": [
           {
            "colorbar": {
             "outlinewidth": 0,
             "ticks": ""
            },
            "type": "mesh3d"
           }
          ],
          "parcoords": [
           {
            "line": {
             "colorbar": {
              "outlinewidth": 0,
              "ticks": ""
             }
            },
            "type": "parcoords"
           }
          ],
          "pie": [
           {
            "automargin": true,
            "type": "pie"
           }
          ],
          "scatter": [
           {
            "fillpattern": {
             "fillmode": "overlay",
             "size": 10,
             "solidity": 0.2
            },
            "type": "scatter"
           }
          ],
          "scatter3d": [
           {
            "line": {
             "colorbar": {
              "outlinewidth": 0,
              "ticks": ""
             }
            },
            "marker": {
             "colorbar": {
              "outlinewidth": 0,
              "ticks": ""
             }
            },
            "type": "scatter3d"
           }
          ],
          "scattercarpet": [
           {
            "marker": {
             "colorbar": {
              "outlinewidth": 0,
              "ticks": ""
             }
            },
            "type": "scattercarpet"
           }
          ],
          "scattergeo": [
           {
            "marker": {
             "colorbar": {
              "outlinewidth": 0,
              "ticks": ""
             }
            },
            "type": "scattergeo"
           }
          ],
          "scattergl": [
           {
            "marker": {
             "colorbar": {
              "outlinewidth": 0,
              "ticks": ""
             }
            },
            "type": "scattergl"
           }
          ],
          "scattermapbox": [
           {
            "marker": {
             "colorbar": {
              "outlinewidth": 0,
              "ticks": ""
             }
            },
            "type": "scattermapbox"
           }
          ],
          "scatterpolar": [
           {
            "marker": {
             "colorbar": {
              "outlinewidth": 0,
              "ticks": ""
             }
            },
            "type": "scatterpolar"
           }
          ],
          "scatterpolargl": [
           {
            "marker": {
             "colorbar": {
              "outlinewidth": 0,
              "ticks": ""
             }
            },
            "type": "scatterpolargl"
           }
          ],
          "scatterternary": [
           {
            "marker": {
             "colorbar": {
              "outlinewidth": 0,
              "ticks": ""
             }
            },
            "type": "scatterternary"
           }
          ],
          "surface": [
           {
            "colorbar": {
             "outlinewidth": 0,
             "ticks": ""
            },
            "colorscale": [
             [
              0,
              "#0d0887"
             ],
             [
              0.1111111111111111,
              "#46039f"
             ],
             [
              0.2222222222222222,
              "#7201a8"
             ],
             [
              0.3333333333333333,
              "#9c179e"
             ],
             [
              0.4444444444444444,
              "#bd3786"
             ],
             [
              0.5555555555555556,
              "#d8576b"
             ],
             [
              0.6666666666666666,
              "#ed7953"
             ],
             [
              0.7777777777777778,
              "#fb9f3a"
             ],
             [
              0.8888888888888888,
              "#fdca26"
             ],
             [
              1,
              "#f0f921"
             ]
            ],
            "type": "surface"
           }
          ],
          "table": [
           {
            "cells": {
             "fill": {
              "color": "#EBF0F8"
             },
             "line": {
              "color": "white"
             }
            },
            "header": {
             "fill": {
              "color": "#C8D4E3"
             },
             "line": {
              "color": "white"
             }
            },
            "type": "table"
           }
          ]
         },
         "layout": {
          "annotationdefaults": {
           "arrowcolor": "#2a3f5f",
           "arrowhead": 0,
           "arrowwidth": 1
          },
          "autotypenumbers": "strict",
          "coloraxis": {
           "colorbar": {
            "outlinewidth": 0,
            "ticks": ""
           }
          },
          "colorscale": {
           "diverging": [
            [
             0,
             "#8e0152"
            ],
            [
             0.1,
             "#c51b7d"
            ],
            [
             0.2,
             "#de77ae"
            ],
            [
             0.3,
             "#f1b6da"
            ],
            [
             0.4,
             "#fde0ef"
            ],
            [
             0.5,
             "#f7f7f7"
            ],
            [
             0.6,
             "#e6f5d0"
            ],
            [
             0.7,
             "#b8e186"
            ],
            [
             0.8,
             "#7fbc41"
            ],
            [
             0.9,
             "#4d9221"
            ],
            [
             1,
             "#276419"
            ]
           ],
           "sequential": [
            [
             0,
             "#0d0887"
            ],
            [
             0.1111111111111111,
             "#46039f"
            ],
            [
             0.2222222222222222,
             "#7201a8"
            ],
            [
             0.3333333333333333,
             "#9c179e"
            ],
            [
             0.4444444444444444,
             "#bd3786"
            ],
            [
             0.5555555555555556,
             "#d8576b"
            ],
            [
             0.6666666666666666,
             "#ed7953"
            ],
            [
             0.7777777777777778,
             "#fb9f3a"
            ],
            [
             0.8888888888888888,
             "#fdca26"
            ],
            [
             1,
             "#f0f921"
            ]
           ],
           "sequentialminus": [
            [
             0,
             "#0d0887"
            ],
            [
             0.1111111111111111,
             "#46039f"
            ],
            [
             0.2222222222222222,
             "#7201a8"
            ],
            [
             0.3333333333333333,
             "#9c179e"
            ],
            [
             0.4444444444444444,
             "#bd3786"
            ],
            [
             0.5555555555555556,
             "#d8576b"
            ],
            [
             0.6666666666666666,
             "#ed7953"
            ],
            [
             0.7777777777777778,
             "#fb9f3a"
            ],
            [
             0.8888888888888888,
             "#fdca26"
            ],
            [
             1,
             "#f0f921"
            ]
           ]
          },
          "colorway": [
           "#636efa",
           "#EF553B",
           "#00cc96",
           "#ab63fa",
           "#FFA15A",
           "#19d3f3",
           "#FF6692",
           "#B6E880",
           "#FF97FF",
           "#FECB52"
          ],
          "font": {
           "color": "#2a3f5f"
          },
          "geo": {
           "bgcolor": "white",
           "lakecolor": "white",
           "landcolor": "#E5ECF6",
           "showlakes": true,
           "showland": true,
           "subunitcolor": "white"
          },
          "hoverlabel": {
           "align": "left"
          },
          "hovermode": "closest",
          "mapbox": {
           "style": "light"
          },
          "paper_bgcolor": "white",
          "plot_bgcolor": "#E5ECF6",
          "polar": {
           "angularaxis": {
            "gridcolor": "white",
            "linecolor": "white",
            "ticks": ""
           },
           "bgcolor": "#E5ECF6",
           "radialaxis": {
            "gridcolor": "white",
            "linecolor": "white",
            "ticks": ""
           }
          },
          "scene": {
           "xaxis": {
            "backgroundcolor": "#E5ECF6",
            "gridcolor": "white",
            "gridwidth": 2,
            "linecolor": "white",
            "showbackground": true,
            "ticks": "",
            "zerolinecolor": "white"
           },
           "yaxis": {
            "backgroundcolor": "#E5ECF6",
            "gridcolor": "white",
            "gridwidth": 2,
            "linecolor": "white",
            "showbackground": true,
            "ticks": "",
            "zerolinecolor": "white"
           },
           "zaxis": {
            "backgroundcolor": "#E5ECF6",
            "gridcolor": "white",
            "gridwidth": 2,
            "linecolor": "white",
            "showbackground": true,
            "ticks": "",
            "zerolinecolor": "white"
           }
          },
          "shapedefaults": {
           "line": {
            "color": "#2a3f5f"
           }
          },
          "ternary": {
           "aaxis": {
            "gridcolor": "white",
            "linecolor": "white",
            "ticks": ""
           },
           "baxis": {
            "gridcolor": "white",
            "linecolor": "white",
            "ticks": ""
           },
           "bgcolor": "#E5ECF6",
           "caxis": {
            "gridcolor": "white",
            "linecolor": "white",
            "ticks": ""
           }
          },
          "title": {
           "x": 0.05
          },
          "xaxis": {
           "automargin": true,
           "gridcolor": "white",
           "linecolor": "white",
           "ticks": "",
           "title": {
            "standoff": 15
           },
           "zerolinecolor": "white",
           "zerolinewidth": 2
          },
          "yaxis": {
           "automargin": true,
           "gridcolor": "white",
           "linecolor": "white",
           "ticks": "",
           "title": {
            "standoff": 15
           },
           "zerolinecolor": "white",
           "zerolinewidth": 2
          }
         }
        },
        "xaxis": {
         "anchor": "y",
         "domain": [
          0,
          1
         ],
         "title": {
          "text": "Date"
         }
        },
        "yaxis": {
         "anchor": "x",
         "domain": [
          0,
          1
         ],
         "title": {
          "text": "Daily ride starts+stops"
         }
        }
       }
      },
      "text/html": [
       "<div>                            <div id=\"8122a62c-c55e-43b9-b545-7ca3d3c086ed\" class=\"plotly-graph-div\" style=\"height:525px; width:100%;\"></div>            <script type=\"text/javascript\">                require([\"plotly\"], function(Plotly) {                    window.PLOTLYENV=window.PLOTLYENV || {};                                    if (document.getElementById(\"8122a62c-c55e-43b9-b545-7ca3d3c086ed\")) {                    Plotly.newPlot(                        \"8122a62c-c55e-43b9-b545-7ca3d3c086ed\",                        [{\"hovertemplate\":\"Station Name=South Waterfront Walkway - Sinatra Dr & 1 St<br>Date=%{x}<br>Daily ride starts+stops=%{y}<extra></extra>\",\"legendgroup\":\"South Waterfront Walkway - Sinatra Dr & 1 St\",\"line\":{\"color\":\"#636efa\",\"dash\":\"solid\"},\"marker\":{\"symbol\":\"circle\"},\"mode\":\"lines\",\"name\":\"South Waterfront Walkway - Sinatra Dr & 1 St\",\"orientation\":\"v\",\"showlegend\":true,\"x\":[\"2022-08-01T00:00:00\",\"2022-08-02T00:00:00\",\"2022-08-03T00:00:00\",\"2022-08-04T00:00:00\",\"2022-08-05T00:00:00\",\"2022-08-06T00:00:00\",\"2022-08-07T00:00:00\",\"2022-08-08T00:00:00\",\"2022-08-09T00:00:00\",\"2022-08-10T00:00:00\",\"2022-08-11T00:00:00\",\"2022-08-12T00:00:00\",\"2022-08-13T00:00:00\",\"2022-08-14T00:00:00\",\"2022-08-15T00:00:00\",\"2022-08-16T00:00:00\",\"2022-08-17T00:00:00\",\"2022-08-18T00:00:00\",\"2022-08-19T00:00:00\",\"2022-08-20T00:00:00\",\"2022-08-21T00:00:00\",\"2022-08-22T00:00:00\",\"2022-08-23T00:00:00\",\"2022-08-24T00:00:00\",\"2022-08-25T00:00:00\",\"2022-08-26T00:00:00\",\"2022-08-27T00:00:00\",\"2022-08-28T00:00:00\",\"2022-08-29T00:00:00\",\"2022-08-30T00:00:00\",\"2022-08-31T00:00:00\"],\"xaxis\":\"x\",\"y\":[234,252,274,256,315,369,401,241,227,283,239,315,455,506,267,275,249,272,246,311,332,179,245,310,336,226,323,373,293,300,230],\"yaxis\":\"y\",\"type\":\"scatter\"},{\"hovertemplate\":\"Station Name=Grove St PATH<br>Date=%{x}<br>Daily ride starts+stops=%{y}<extra></extra>\",\"legendgroup\":\"Grove St PATH\",\"line\":{\"color\":\"#EF553B\",\"dash\":\"solid\"},\"marker\":{\"symbol\":\"circle\"},\"mode\":\"lines\",\"name\":\"Grove St PATH\",\"orientation\":\"v\",\"showlegend\":true,\"x\":[\"2022-08-01T00:00:00\",\"2022-08-02T00:00:00\",\"2022-08-03T00:00:00\",\"2022-08-04T00:00:00\",\"2022-08-05T00:00:00\",\"2022-08-06T00:00:00\",\"2022-08-07T00:00:00\",\"2022-08-08T00:00:00\",\"2022-08-09T00:00:00\",\"2022-08-10T00:00:00\",\"2022-08-11T00:00:00\",\"2022-08-12T00:00:00\",\"2022-08-13T00:00:00\",\"2022-08-14T00:00:00\",\"2022-08-15T00:00:00\",\"2022-08-16T00:00:00\",\"2022-08-17T00:00:00\",\"2022-08-18T00:00:00\",\"2022-08-19T00:00:00\",\"2022-08-20T00:00:00\",\"2022-08-21T00:00:00\",\"2022-08-22T00:00:00\",\"2022-08-23T00:00:00\",\"2022-08-24T00:00:00\",\"2022-08-25T00:00:00\",\"2022-08-26T00:00:00\",\"2022-08-27T00:00:00\",\"2022-08-28T00:00:00\",\"2022-08-29T00:00:00\",\"2022-08-30T00:00:00\",\"2022-08-31T00:00:00\"],\"xaxis\":\"x\",\"y\":[330,401,409,321,334,235,259,329,349,355,364,348,322,316,379,374,413,373,298,300,234,244,360,356,380,353,311,283,354,334,369],\"yaxis\":\"y\",\"type\":\"scatter\"},{\"hovertemplate\":\"Station Name=Hoboken Terminal - River St & Hudson Pl<br>Date=%{x}<br>Daily ride starts+stops=%{y}<extra></extra>\",\"legendgroup\":\"Hoboken Terminal - River St & Hudson Pl\",\"line\":{\"color\":\"#00cc96\",\"dash\":\"solid\"},\"marker\":{\"symbol\":\"circle\"},\"mode\":\"lines\",\"name\":\"Hoboken Terminal - River St & Hudson Pl\",\"orientation\":\"v\",\"showlegend\":true,\"x\":[\"2022-08-01T00:00:00\",\"2022-08-02T00:00:00\",\"2022-08-03T00:00:00\",\"2022-08-04T00:00:00\",\"2022-08-05T00:00:00\",\"2022-08-06T00:00:00\",\"2022-08-07T00:00:00\",\"2022-08-08T00:00:00\",\"2022-08-09T00:00:00\",\"2022-08-10T00:00:00\",\"2022-08-11T00:00:00\",\"2022-08-12T00:00:00\",\"2022-08-13T00:00:00\",\"2022-08-14T00:00:00\",\"2022-08-15T00:00:00\",\"2022-08-16T00:00:00\",\"2022-08-17T00:00:00\",\"2022-08-18T00:00:00\",\"2022-08-19T00:00:00\",\"2022-08-20T00:00:00\",\"2022-08-21T00:00:00\",\"2022-08-22T00:00:00\",\"2022-08-23T00:00:00\",\"2022-08-24T00:00:00\",\"2022-08-25T00:00:00\",\"2022-08-26T00:00:00\",\"2022-08-27T00:00:00\",\"2022-08-28T00:00:00\",\"2022-08-29T00:00:00\",\"2022-08-30T00:00:00\",\"2022-08-31T00:00:00\"],\"xaxis\":\"x\",\"y\":[243,227,254,293,410,326,246,272,260,314,328,353,400,257,282,332,248,342,334,316,203,192,276,299,294,393,304,223,270,167,338],\"yaxis\":\"y\",\"type\":\"scatter\"},{\"hovertemplate\":\"Station Name=Hoboken Terminal - Hudson St & Hudson Pl<br>Date=%{x}<br>Daily ride starts+stops=%{y}<extra></extra>\",\"legendgroup\":\"Hoboken Terminal - Hudson St & Hudson Pl\",\"line\":{\"color\":\"#ab63fa\",\"dash\":\"solid\"},\"marker\":{\"symbol\":\"circle\"},\"mode\":\"lines\",\"name\":\"Hoboken Terminal - Hudson St & Hudson Pl\",\"orientation\":\"v\",\"showlegend\":true,\"x\":[\"2022-08-01T00:00:00\",\"2022-08-02T00:00:00\",\"2022-08-03T00:00:00\",\"2022-08-04T00:00:00\",\"2022-08-05T00:00:00\",\"2022-08-06T00:00:00\",\"2022-08-07T00:00:00\",\"2022-08-08T00:00:00\",\"2022-08-09T00:00:00\",\"2022-08-10T00:00:00\",\"2022-08-11T00:00:00\",\"2022-08-12T00:00:00\",\"2022-08-13T00:00:00\",\"2022-08-14T00:00:00\",\"2022-08-15T00:00:00\",\"2022-08-16T00:00:00\",\"2022-08-17T00:00:00\",\"2022-08-18T00:00:00\",\"2022-08-19T00:00:00\",\"2022-08-20T00:00:00\",\"2022-08-21T00:00:00\",\"2022-08-22T00:00:00\",\"2022-08-23T00:00:00\",\"2022-08-24T00:00:00\",\"2022-08-25T00:00:00\",\"2022-08-26T00:00:00\",\"2022-08-27T00:00:00\",\"2022-08-28T00:00:00\",\"2022-08-29T00:00:00\",\"2022-08-30T00:00:00\",\"2022-08-31T00:00:00\"],\"xaxis\":\"x\",\"y\":[192,184,248,216,280,259,224,170,196,250,252,282,222,221,198,233,240,293,229,307,193,145,226,235,250,267,209,188,166,245,219],\"yaxis\":\"y\",\"type\":\"scatter\"},{\"hovertemplate\":\"Station Name=Newport Pkwy<br>Date=%{x}<br>Daily ride starts+stops=%{y}<extra></extra>\",\"legendgroup\":\"Newport Pkwy\",\"line\":{\"color\":\"#FFA15A\",\"dash\":\"solid\"},\"marker\":{\"symbol\":\"circle\"},\"mode\":\"lines\",\"name\":\"Newport Pkwy\",\"orientation\":\"v\",\"showlegend\":true,\"x\":[\"2022-08-01T00:00:00\",\"2022-08-02T00:00:00\",\"2022-08-03T00:00:00\",\"2022-08-04T00:00:00\",\"2022-08-05T00:00:00\",\"2022-08-06T00:00:00\",\"2022-08-07T00:00:00\",\"2022-08-08T00:00:00\",\"2022-08-09T00:00:00\",\"2022-08-10T00:00:00\",\"2022-08-11T00:00:00\",\"2022-08-12T00:00:00\",\"2022-08-13T00:00:00\",\"2022-08-14T00:00:00\",\"2022-08-15T00:00:00\",\"2022-08-16T00:00:00\",\"2022-08-17T00:00:00\",\"2022-08-18T00:00:00\",\"2022-08-19T00:00:00\",\"2022-08-20T00:00:00\",\"2022-08-21T00:00:00\",\"2022-08-22T00:00:00\",\"2022-08-23T00:00:00\",\"2022-08-24T00:00:00\",\"2022-08-25T00:00:00\",\"2022-08-26T00:00:00\",\"2022-08-27T00:00:00\",\"2022-08-28T00:00:00\",\"2022-08-29T00:00:00\",\"2022-08-30T00:00:00\",\"2022-08-31T00:00:00\"],\"xaxis\":\"x\",\"y\":[170,194,204,178,234,222,221,167,149,162,175,146,194,251,193,190,238,209,231,226,217,84,158,189,181,196,232,223,162,137,161],\"yaxis\":\"y\",\"type\":\"scatter\"}],                        {\"template\":{\"data\":{\"histogram2dcontour\":[{\"type\":\"histogram2dcontour\",\"colorbar\":{\"outlinewidth\":0,\"ticks\":\"\"},\"colorscale\":[[0.0,\"#0d0887\"],[0.1111111111111111,\"#46039f\"],[0.2222222222222222,\"#7201a8\"],[0.3333333333333333,\"#9c179e\"],[0.4444444444444444,\"#bd3786\"],[0.5555555555555556,\"#d8576b\"],[0.6666666666666666,\"#ed7953\"],[0.7777777777777778,\"#fb9f3a\"],[0.8888888888888888,\"#fdca26\"],[1.0,\"#f0f921\"]]}],\"choropleth\":[{\"type\":\"choropleth\",\"colorbar\":{\"outlinewidth\":0,\"ticks\":\"\"}}],\"histogram2d\":[{\"type\":\"histogram2d\",\"colorbar\":{\"outlinewidth\":0,\"ticks\":\"\"},\"colorscale\":[[0.0,\"#0d0887\"],[0.1111111111111111,\"#46039f\"],[0.2222222222222222,\"#7201a8\"],[0.3333333333333333,\"#9c179e\"],[0.4444444444444444,\"#bd3786\"],[0.5555555555555556,\"#d8576b\"],[0.6666666666666666,\"#ed7953\"],[0.7777777777777778,\"#fb9f3a\"],[0.8888888888888888,\"#fdca26\"],[1.0,\"#f0f921\"]]}],\"heatmap\":[{\"type\":\"heatmap\",\"colorbar\":{\"outlinewidth\":0,\"ticks\":\"\"},\"colorscale\":[[0.0,\"#0d0887\"],[0.1111111111111111,\"#46039f\"],[0.2222222222222222,\"#7201a8\"],[0.3333333333333333,\"#9c179e\"],[0.4444444444444444,\"#bd3786\"],[0.5555555555555556,\"#d8576b\"],[0.6666666666666666,\"#ed7953\"],[0.7777777777777778,\"#fb9f3a\"],[0.8888888888888888,\"#fdca26\"],[1.0,\"#f0f921\"]]}],\"heatmapgl\":[{\"type\":\"heatmapgl\",\"colorbar\":{\"outlinewidth\":0,\"ticks\":\"\"},\"colorscale\":[[0.0,\"#0d0887\"],[0.1111111111111111,\"#46039f\"],[0.2222222222222222,\"#7201a8\"],[0.3333333333333333,\"#9c179e\"],[0.4444444444444444,\"#bd3786\"],[0.5555555555555556,\"#d8576b\"],[0.6666666666666666,\"#ed7953\"],[0.7777777777777778,\"#fb9f3a\"],[0.8888888888888888,\"#fdca26\"],[1.0,\"#f0f921\"]]}],\"contourcarpet\":[{\"type\":\"contourcarpet\",\"colorbar\":{\"outlinewidth\":0,\"ticks\":\"\"}}],\"contour\":[{\"type\":\"contour\",\"colorbar\":{\"outlinewidth\":0,\"ticks\":\"\"},\"colorscale\":[[0.0,\"#0d0887\"],[0.1111111111111111,\"#46039f\"],[0.2222222222222222,\"#7201a8\"],[0.3333333333333333,\"#9c179e\"],[0.4444444444444444,\"#bd3786\"],[0.5555555555555556,\"#d8576b\"],[0.6666666666666666,\"#ed7953\"],[0.7777777777777778,\"#fb9f3a\"],[0.8888888888888888,\"#fdca26\"],[1.0,\"#f0f921\"]]}],\"surface\":[{\"type\":\"surface\",\"colorbar\":{\"outlinewidth\":0,\"ticks\":\"\"},\"colorscale\":[[0.0,\"#0d0887\"],[0.1111111111111111,\"#46039f\"],[0.2222222222222222,\"#7201a8\"],[0.3333333333333333,\"#9c179e\"],[0.4444444444444444,\"#bd3786\"],[0.5555555555555556,\"#d8576b\"],[0.6666666666666666,\"#ed7953\"],[0.7777777777777778,\"#fb9f3a\"],[0.8888888888888888,\"#fdca26\"],[1.0,\"#f0f921\"]]}],\"mesh3d\":[{\"type\":\"mesh3d\",\"colorbar\":{\"outlinewidth\":0,\"ticks\":\"\"}}],\"scatter\":[{\"fillpattern\":{\"fillmode\":\"overlay\",\"size\":10,\"solidity\":0.2},\"type\":\"scatter\"}],\"parcoords\":[{\"type\":\"parcoords\",\"line\":{\"colorbar\":{\"outlinewidth\":0,\"ticks\":\"\"}}}],\"scatterpolargl\":[{\"type\":\"scatterpolargl\",\"marker\":{\"colorbar\":{\"outlinewidth\":0,\"ticks\":\"\"}}}],\"bar\":[{\"error_x\":{\"color\":\"#2a3f5f\"},\"error_y\":{\"color\":\"#2a3f5f\"},\"marker\":{\"line\":{\"color\":\"#E5ECF6\",\"width\":0.5},\"pattern\":{\"fillmode\":\"overlay\",\"size\":10,\"solidity\":0.2}},\"type\":\"bar\"}],\"scattergeo\":[{\"type\":\"scattergeo\",\"marker\":{\"colorbar\":{\"outlinewidth\":0,\"ticks\":\"\"}}}],\"scatterpolar\":[{\"type\":\"scatterpolar\",\"marker\":{\"colorbar\":{\"outlinewidth\":0,\"ticks\":\"\"}}}],\"histogram\":[{\"marker\":{\"pattern\":{\"fillmode\":\"overlay\",\"size\":10,\"solidity\":0.2}},\"type\":\"histogram\"}],\"scattergl\":[{\"type\":\"scattergl\",\"marker\":{\"colorbar\":{\"outlinewidth\":0,\"ticks\":\"\"}}}],\"scatter3d\":[{\"type\":\"scatter3d\",\"line\":{\"colorbar\":{\"outlinewidth\":0,\"ticks\":\"\"}},\"marker\":{\"colorbar\":{\"outlinewidth\":0,\"ticks\":\"\"}}}],\"scattermapbox\":[{\"type\":\"scattermapbox\",\"marker\":{\"colorbar\":{\"outlinewidth\":0,\"ticks\":\"\"}}}],\"scatterternary\":[{\"type\":\"scatterternary\",\"marker\":{\"colorbar\":{\"outlinewidth\":0,\"ticks\":\"\"}}}],\"scattercarpet\":[{\"type\":\"scattercarpet\",\"marker\":{\"colorbar\":{\"outlinewidth\":0,\"ticks\":\"\"}}}],\"carpet\":[{\"aaxis\":{\"endlinecolor\":\"#2a3f5f\",\"gridcolor\":\"white\",\"linecolor\":\"white\",\"minorgridcolor\":\"white\",\"startlinecolor\":\"#2a3f5f\"},\"baxis\":{\"endlinecolor\":\"#2a3f5f\",\"gridcolor\":\"white\",\"linecolor\":\"white\",\"minorgridcolor\":\"white\",\"startlinecolor\":\"#2a3f5f\"},\"type\":\"carpet\"}],\"table\":[{\"cells\":{\"fill\":{\"color\":\"#EBF0F8\"},\"line\":{\"color\":\"white\"}},\"header\":{\"fill\":{\"color\":\"#C8D4E3\"},\"line\":{\"color\":\"white\"}},\"type\":\"table\"}],\"barpolar\":[{\"marker\":{\"line\":{\"color\":\"#E5ECF6\",\"width\":0.5},\"pattern\":{\"fillmode\":\"overlay\",\"size\":10,\"solidity\":0.2}},\"type\":\"barpolar\"}],\"pie\":[{\"automargin\":true,\"type\":\"pie\"}]},\"layout\":{\"autotypenumbers\":\"strict\",\"colorway\":[\"#636efa\",\"#EF553B\",\"#00cc96\",\"#ab63fa\",\"#FFA15A\",\"#19d3f3\",\"#FF6692\",\"#B6E880\",\"#FF97FF\",\"#FECB52\"],\"font\":{\"color\":\"#2a3f5f\"},\"hovermode\":\"closest\",\"hoverlabel\":{\"align\":\"left\"},\"paper_bgcolor\":\"white\",\"plot_bgcolor\":\"#E5ECF6\",\"polar\":{\"bgcolor\":\"#E5ECF6\",\"angularaxis\":{\"gridcolor\":\"white\",\"linecolor\":\"white\",\"ticks\":\"\"},\"radialaxis\":{\"gridcolor\":\"white\",\"linecolor\":\"white\",\"ticks\":\"\"}},\"ternary\":{\"bgcolor\":\"#E5ECF6\",\"aaxis\":{\"gridcolor\":\"white\",\"linecolor\":\"white\",\"ticks\":\"\"},\"baxis\":{\"gridcolor\":\"white\",\"linecolor\":\"white\",\"ticks\":\"\"},\"caxis\":{\"gridcolor\":\"white\",\"linecolor\":\"white\",\"ticks\":\"\"}},\"coloraxis\":{\"colorbar\":{\"outlinewidth\":0,\"ticks\":\"\"}},\"colorscale\":{\"sequential\":[[0.0,\"#0d0887\"],[0.1111111111111111,\"#46039f\"],[0.2222222222222222,\"#7201a8\"],[0.3333333333333333,\"#9c179e\"],[0.4444444444444444,\"#bd3786\"],[0.5555555555555556,\"#d8576b\"],[0.6666666666666666,\"#ed7953\"],[0.7777777777777778,\"#fb9f3a\"],[0.8888888888888888,\"#fdca26\"],[1.0,\"#f0f921\"]],\"sequentialminus\":[[0.0,\"#0d0887\"],[0.1111111111111111,\"#46039f\"],[0.2222222222222222,\"#7201a8\"],[0.3333333333333333,\"#9c179e\"],[0.4444444444444444,\"#bd3786\"],[0.5555555555555556,\"#d8576b\"],[0.6666666666666666,\"#ed7953\"],[0.7777777777777778,\"#fb9f3a\"],[0.8888888888888888,\"#fdca26\"],[1.0,\"#f0f921\"]],\"diverging\":[[0,\"#8e0152\"],[0.1,\"#c51b7d\"],[0.2,\"#de77ae\"],[0.3,\"#f1b6da\"],[0.4,\"#fde0ef\"],[0.5,\"#f7f7f7\"],[0.6,\"#e6f5d0\"],[0.7,\"#b8e186\"],[0.8,\"#7fbc41\"],[0.9,\"#4d9221\"],[1,\"#276419\"]]},\"xaxis\":{\"gridcolor\":\"white\",\"linecolor\":\"white\",\"ticks\":\"\",\"title\":{\"standoff\":15},\"zerolinecolor\":\"white\",\"automargin\":true,\"zerolinewidth\":2},\"yaxis\":{\"gridcolor\":\"white\",\"linecolor\":\"white\",\"ticks\":\"\",\"title\":{\"standoff\":15},\"zerolinecolor\":\"white\",\"automargin\":true,\"zerolinewidth\":2},\"scene\":{\"xaxis\":{\"backgroundcolor\":\"#E5ECF6\",\"gridcolor\":\"white\",\"linecolor\":\"white\",\"showbackground\":true,\"ticks\":\"\",\"zerolinecolor\":\"white\",\"gridwidth\":2},\"yaxis\":{\"backgroundcolor\":\"#E5ECF6\",\"gridcolor\":\"white\",\"linecolor\":\"white\",\"showbackground\":true,\"ticks\":\"\",\"zerolinecolor\":\"white\",\"gridwidth\":2},\"zaxis\":{\"backgroundcolor\":\"#E5ECF6\",\"gridcolor\":\"white\",\"linecolor\":\"white\",\"showbackground\":true,\"ticks\":\"\",\"zerolinecolor\":\"white\",\"gridwidth\":2}},\"shapedefaults\":{\"line\":{\"color\":\"#2a3f5f\"}},\"annotationdefaults\":{\"arrowcolor\":\"#2a3f5f\",\"arrowhead\":0,\"arrowwidth\":1},\"geo\":{\"bgcolor\":\"white\",\"landcolor\":\"#E5ECF6\",\"subunitcolor\":\"white\",\"showland\":true,\"showlakes\":true,\"lakecolor\":\"white\"},\"title\":{\"x\":0.05},\"mapbox\":{\"style\":\"light\"}}},\"xaxis\":{\"anchor\":\"y\",\"domain\":[0.0,1.0],\"title\":{\"text\":\"Date\"}},\"yaxis\":{\"anchor\":\"x\",\"domain\":[0.0,1.0],\"title\":{\"text\":\"Daily ride starts+stops\"}},\"legend\":{\"title\":{\"text\":\"Station Name\"},\"tracegroupgap\":0,\"yanchor\":\"top\",\"y\":0.99,\"xanchor\":\"left\",\"x\":0.01,\"bgcolor\":\"rgba(0,0,0,0)\"},\"margin\":{\"t\":60}},                        {\"responsive\": true}                    ).then(function(){\n",
       "                            \n",
       "var gd = document.getElementById('8122a62c-c55e-43b9-b545-7ca3d3c086ed');\n",
       "var x = new MutationObserver(function (mutations, observer) {{\n",
       "        var display = window.getComputedStyle(gd).display;\n",
       "        if (!display || display === 'none') {{\n",
       "            console.log([gd, 'removed!']);\n",
       "            Plotly.purge(gd);\n",
       "            observer.disconnect();\n",
       "        }}\n",
       "}});\n",
       "\n",
       "// Listen for the removal of the full notebook cells\n",
       "var notebookContainer = gd.closest('#notebook-container');\n",
       "if (notebookContainer) {{\n",
       "    x.observe(notebookContainer, {childList: true});\n",
       "}}\n",
       "\n",
       "// Listen for the clearing of the current output cell\n",
       "var outputEl = gd.closest('.output');\n",
       "if (outputEl) {{\n",
       "    x.observe(outputEl, {childList: true});\n",
       "}}\n",
       "\n",
       "                        })                };                });            </script>        </div>"
      ]
     },
     "metadata": {},
     "output_type": "display_data"
    }
   ],
   "source": [
    "fig = px.line(ts, x='Date', y='Count', color='Station Name', labels={'Count': 'Daily ride starts+stops'})\n",
    "fig.update_layout(legend=dict(\n",
    "    yanchor=\"top\",\n",
    "    y=0.99,\n",
    "    xanchor=\"left\",\n",
    "    x=0.01,\n",
    "    bgcolor='rgba(0,0,0,0)' ,\n",
    "))\n",
    "fig"
   ]
  },
  {
   "cell_type": "markdown",
   "id": "706ac21f",
   "metadata": {},
   "source": [
    "### Daily dockings (start+end), Grove St PATH"
   ]
  },
  {
   "cell_type": "code",
   "execution_count": 140,
   "id": "a69f7898",
   "metadata": {},
   "outputs": [
    {
     "data": {
      "application/vnd.plotly.v1+json": {
       "config": {
        "plotlyServerURL": "https://plot.ly"
       },
       "data": [
        {
         "alignmentgroup": "True",
         "hovertemplate": "=Weekday<br>Date=%{x}<br>Daily ride starts+stops=%{y}<extra></extra>",
         "legendgroup": "Weekday",
         "marker": {
          "color": "#636efa",
          "pattern": {
           "shape": ""
          }
         },
         "name": "Weekday",
         "offsetgroup": "Weekday",
         "orientation": "v",
         "showlegend": true,
         "textposition": "auto",
         "type": "bar",
         "x": [
          "2022-08-01T00:00:00",
          "2022-08-02T00:00:00",
          "2022-08-03T00:00:00",
          "2022-08-04T00:00:00",
          "2022-08-05T00:00:00",
          "2022-08-08T00:00:00",
          "2022-08-09T00:00:00",
          "2022-08-10T00:00:00",
          "2022-08-11T00:00:00",
          "2022-08-12T00:00:00",
          "2022-08-15T00:00:00",
          "2022-08-16T00:00:00",
          "2022-08-17T00:00:00",
          "2022-08-18T00:00:00",
          "2022-08-19T00:00:00",
          "2022-08-22T00:00:00",
          "2022-08-23T00:00:00",
          "2022-08-24T00:00:00",
          "2022-08-25T00:00:00",
          "2022-08-26T00:00:00",
          "2022-08-29T00:00:00",
          "2022-08-30T00:00:00",
          "2022-08-31T00:00:00"
         ],
         "xaxis": "x",
         "y": [
          330,
          401,
          409,
          321,
          334,
          329,
          349,
          355,
          364,
          348,
          379,
          374,
          413,
          373,
          298,
          244,
          360,
          356,
          380,
          353,
          354,
          334,
          369
         ],
         "yaxis": "y"
        },
        {
         "alignmentgroup": "True",
         "hovertemplate": "=Weekend<br>Date=%{x}<br>Daily ride starts+stops=%{y}<extra></extra>",
         "legendgroup": "Weekend",
         "marker": {
          "color": "#EF553B",
          "pattern": {
           "shape": ""
          }
         },
         "name": "Weekend",
         "offsetgroup": "Weekend",
         "orientation": "v",
         "showlegend": true,
         "textposition": "auto",
         "type": "bar",
         "x": [
          "2022-08-06T00:00:00",
          "2022-08-07T00:00:00",
          "2022-08-13T00:00:00",
          "2022-08-14T00:00:00",
          "2022-08-20T00:00:00",
          "2022-08-21T00:00:00",
          "2022-08-27T00:00:00",
          "2022-08-28T00:00:00"
         ],
         "xaxis": "x",
         "y": [
          235,
          259,
          322,
          316,
          300,
          234,
          311,
          283
         ],
         "yaxis": "y"
        }
       ],
       "layout": {
        "barmode": "relative",
        "legend": {
         "title": {
          "text": ""
         },
         "tracegroupgap": 0
        },
        "margin": {
         "t": 60
        },
        "template": {
         "data": {
          "bar": [
           {
            "error_x": {
             "color": "#2a3f5f"
            },
            "error_y": {
             "color": "#2a3f5f"
            },
            "marker": {
             "line": {
              "color": "#E5ECF6",
              "width": 0.5
             },
             "pattern": {
              "fillmode": "overlay",
              "size": 10,
              "solidity": 0.2
             }
            },
            "type": "bar"
           }
          ],
          "barpolar": [
           {
            "marker": {
             "line": {
              "color": "#E5ECF6",
              "width": 0.5
             },
             "pattern": {
              "fillmode": "overlay",
              "size": 10,
              "solidity": 0.2
             }
            },
            "type": "barpolar"
           }
          ],
          "carpet": [
           {
            "aaxis": {
             "endlinecolor": "#2a3f5f",
             "gridcolor": "white",
             "linecolor": "white",
             "minorgridcolor": "white",
             "startlinecolor": "#2a3f5f"
            },
            "baxis": {
             "endlinecolor": "#2a3f5f",
             "gridcolor": "white",
             "linecolor": "white",
             "minorgridcolor": "white",
             "startlinecolor": "#2a3f5f"
            },
            "type": "carpet"
           }
          ],
          "choropleth": [
           {
            "colorbar": {
             "outlinewidth": 0,
             "ticks": ""
            },
            "type": "choropleth"
           }
          ],
          "contour": [
           {
            "colorbar": {
             "outlinewidth": 0,
             "ticks": ""
            },
            "colorscale": [
             [
              0,
              "#0d0887"
             ],
             [
              0.1111111111111111,
              "#46039f"
             ],
             [
              0.2222222222222222,
              "#7201a8"
             ],
             [
              0.3333333333333333,
              "#9c179e"
             ],
             [
              0.4444444444444444,
              "#bd3786"
             ],
             [
              0.5555555555555556,
              "#d8576b"
             ],
             [
              0.6666666666666666,
              "#ed7953"
             ],
             [
              0.7777777777777778,
              "#fb9f3a"
             ],
             [
              0.8888888888888888,
              "#fdca26"
             ],
             [
              1,
              "#f0f921"
             ]
            ],
            "type": "contour"
           }
          ],
          "contourcarpet": [
           {
            "colorbar": {
             "outlinewidth": 0,
             "ticks": ""
            },
            "type": "contourcarpet"
           }
          ],
          "heatmap": [
           {
            "colorbar": {
             "outlinewidth": 0,
             "ticks": ""
            },
            "colorscale": [
             [
              0,
              "#0d0887"
             ],
             [
              0.1111111111111111,
              "#46039f"
             ],
             [
              0.2222222222222222,
              "#7201a8"
             ],
             [
              0.3333333333333333,
              "#9c179e"
             ],
             [
              0.4444444444444444,
              "#bd3786"
             ],
             [
              0.5555555555555556,
              "#d8576b"
             ],
             [
              0.6666666666666666,
              "#ed7953"
             ],
             [
              0.7777777777777778,
              "#fb9f3a"
             ],
             [
              0.8888888888888888,
              "#fdca26"
             ],
             [
              1,
              "#f0f921"
             ]
            ],
            "type": "heatmap"
           }
          ],
          "heatmapgl": [
           {
            "colorbar": {
             "outlinewidth": 0,
             "ticks": ""
            },
            "colorscale": [
             [
              0,
              "#0d0887"
             ],
             [
              0.1111111111111111,
              "#46039f"
             ],
             [
              0.2222222222222222,
              "#7201a8"
             ],
             [
              0.3333333333333333,
              "#9c179e"
             ],
             [
              0.4444444444444444,
              "#bd3786"
             ],
             [
              0.5555555555555556,
              "#d8576b"
             ],
             [
              0.6666666666666666,
              "#ed7953"
             ],
             [
              0.7777777777777778,
              "#fb9f3a"
             ],
             [
              0.8888888888888888,
              "#fdca26"
             ],
             [
              1,
              "#f0f921"
             ]
            ],
            "type": "heatmapgl"
           }
          ],
          "histogram": [
           {
            "marker": {
             "pattern": {
              "fillmode": "overlay",
              "size": 10,
              "solidity": 0.2
             }
            },
            "type": "histogram"
           }
          ],
          "histogram2d": [
           {
            "colorbar": {
             "outlinewidth": 0,
             "ticks": ""
            },
            "colorscale": [
             [
              0,
              "#0d0887"
             ],
             [
              0.1111111111111111,
              "#46039f"
             ],
             [
              0.2222222222222222,
              "#7201a8"
             ],
             [
              0.3333333333333333,
              "#9c179e"
             ],
             [
              0.4444444444444444,
              "#bd3786"
             ],
             [
              0.5555555555555556,
              "#d8576b"
             ],
             [
              0.6666666666666666,
              "#ed7953"
             ],
             [
              0.7777777777777778,
              "#fb9f3a"
             ],
             [
              0.8888888888888888,
              "#fdca26"
             ],
             [
              1,
              "#f0f921"
             ]
            ],
            "type": "histogram2d"
           }
          ],
          "histogram2dcontour": [
           {
            "colorbar": {
             "outlinewidth": 0,
             "ticks": ""
            },
            "colorscale": [
             [
              0,
              "#0d0887"
             ],
             [
              0.1111111111111111,
              "#46039f"
             ],
             [
              0.2222222222222222,
              "#7201a8"
             ],
             [
              0.3333333333333333,
              "#9c179e"
             ],
             [
              0.4444444444444444,
              "#bd3786"
             ],
             [
              0.5555555555555556,
              "#d8576b"
             ],
             [
              0.6666666666666666,
              "#ed7953"
             ],
             [
              0.7777777777777778,
              "#fb9f3a"
             ],
             [
              0.8888888888888888,
              "#fdca26"
             ],
             [
              1,
              "#f0f921"
             ]
            ],
            "type": "histogram2dcontour"
           }
          ],
          "mesh3d": [
           {
            "colorbar": {
             "outlinewidth": 0,
             "ticks": ""
            },
            "type": "mesh3d"
           }
          ],
          "parcoords": [
           {
            "line": {
             "colorbar": {
              "outlinewidth": 0,
              "ticks": ""
             }
            },
            "type": "parcoords"
           }
          ],
          "pie": [
           {
            "automargin": true,
            "type": "pie"
           }
          ],
          "scatter": [
           {
            "fillpattern": {
             "fillmode": "overlay",
             "size": 10,
             "solidity": 0.2
            },
            "type": "scatter"
           }
          ],
          "scatter3d": [
           {
            "line": {
             "colorbar": {
              "outlinewidth": 0,
              "ticks": ""
             }
            },
            "marker": {
             "colorbar": {
              "outlinewidth": 0,
              "ticks": ""
             }
            },
            "type": "scatter3d"
           }
          ],
          "scattercarpet": [
           {
            "marker": {
             "colorbar": {
              "outlinewidth": 0,
              "ticks": ""
             }
            },
            "type": "scattercarpet"
           }
          ],
          "scattergeo": [
           {
            "marker": {
             "colorbar": {
              "outlinewidth": 0,
              "ticks": ""
             }
            },
            "type": "scattergeo"
           }
          ],
          "scattergl": [
           {
            "marker": {
             "colorbar": {
              "outlinewidth": 0,
              "ticks": ""
             }
            },
            "type": "scattergl"
           }
          ],
          "scattermapbox": [
           {
            "marker": {
             "colorbar": {
              "outlinewidth": 0,
              "ticks": ""
             }
            },
            "type": "scattermapbox"
           }
          ],
          "scatterpolar": [
           {
            "marker": {
             "colorbar": {
              "outlinewidth": 0,
              "ticks": ""
             }
            },
            "type": "scatterpolar"
           }
          ],
          "scatterpolargl": [
           {
            "marker": {
             "colorbar": {
              "outlinewidth": 0,
              "ticks": ""
             }
            },
            "type": "scatterpolargl"
           }
          ],
          "scatterternary": [
           {
            "marker": {
             "colorbar": {
              "outlinewidth": 0,
              "ticks": ""
             }
            },
            "type": "scatterternary"
           }
          ],
          "surface": [
           {
            "colorbar": {
             "outlinewidth": 0,
             "ticks": ""
            },
            "colorscale": [
             [
              0,
              "#0d0887"
             ],
             [
              0.1111111111111111,
              "#46039f"
             ],
             [
              0.2222222222222222,
              "#7201a8"
             ],
             [
              0.3333333333333333,
              "#9c179e"
             ],
             [
              0.4444444444444444,
              "#bd3786"
             ],
             [
              0.5555555555555556,
              "#d8576b"
             ],
             [
              0.6666666666666666,
              "#ed7953"
             ],
             [
              0.7777777777777778,
              "#fb9f3a"
             ],
             [
              0.8888888888888888,
              "#fdca26"
             ],
             [
              1,
              "#f0f921"
             ]
            ],
            "type": "surface"
           }
          ],
          "table": [
           {
            "cells": {
             "fill": {
              "color": "#EBF0F8"
             },
             "line": {
              "color": "white"
             }
            },
            "header": {
             "fill": {
              "color": "#C8D4E3"
             },
             "line": {
              "color": "white"
             }
            },
            "type": "table"
           }
          ]
         },
         "layout": {
          "annotationdefaults": {
           "arrowcolor": "#2a3f5f",
           "arrowhead": 0,
           "arrowwidth": 1
          },
          "autotypenumbers": "strict",
          "coloraxis": {
           "colorbar": {
            "outlinewidth": 0,
            "ticks": ""
           }
          },
          "colorscale": {
           "diverging": [
            [
             0,
             "#8e0152"
            ],
            [
             0.1,
             "#c51b7d"
            ],
            [
             0.2,
             "#de77ae"
            ],
            [
             0.3,
             "#f1b6da"
            ],
            [
             0.4,
             "#fde0ef"
            ],
            [
             0.5,
             "#f7f7f7"
            ],
            [
             0.6,
             "#e6f5d0"
            ],
            [
             0.7,
             "#b8e186"
            ],
            [
             0.8,
             "#7fbc41"
            ],
            [
             0.9,
             "#4d9221"
            ],
            [
             1,
             "#276419"
            ]
           ],
           "sequential": [
            [
             0,
             "#0d0887"
            ],
            [
             0.1111111111111111,
             "#46039f"
            ],
            [
             0.2222222222222222,
             "#7201a8"
            ],
            [
             0.3333333333333333,
             "#9c179e"
            ],
            [
             0.4444444444444444,
             "#bd3786"
            ],
            [
             0.5555555555555556,
             "#d8576b"
            ],
            [
             0.6666666666666666,
             "#ed7953"
            ],
            [
             0.7777777777777778,
             "#fb9f3a"
            ],
            [
             0.8888888888888888,
             "#fdca26"
            ],
            [
             1,
             "#f0f921"
            ]
           ],
           "sequentialminus": [
            [
             0,
             "#0d0887"
            ],
            [
             0.1111111111111111,
             "#46039f"
            ],
            [
             0.2222222222222222,
             "#7201a8"
            ],
            [
             0.3333333333333333,
             "#9c179e"
            ],
            [
             0.4444444444444444,
             "#bd3786"
            ],
            [
             0.5555555555555556,
             "#d8576b"
            ],
            [
             0.6666666666666666,
             "#ed7953"
            ],
            [
             0.7777777777777778,
             "#fb9f3a"
            ],
            [
             0.8888888888888888,
             "#fdca26"
            ],
            [
             1,
             "#f0f921"
            ]
           ]
          },
          "colorway": [
           "#636efa",
           "#EF553B",
           "#00cc96",
           "#ab63fa",
           "#FFA15A",
           "#19d3f3",
           "#FF6692",
           "#B6E880",
           "#FF97FF",
           "#FECB52"
          ],
          "font": {
           "color": "#2a3f5f"
          },
          "geo": {
           "bgcolor": "white",
           "lakecolor": "white",
           "landcolor": "#E5ECF6",
           "showlakes": true,
           "showland": true,
           "subunitcolor": "white"
          },
          "hoverlabel": {
           "align": "left"
          },
          "hovermode": "closest",
          "mapbox": {
           "style": "light"
          },
          "paper_bgcolor": "white",
          "plot_bgcolor": "#E5ECF6",
          "polar": {
           "angularaxis": {
            "gridcolor": "white",
            "linecolor": "white",
            "ticks": ""
           },
           "bgcolor": "#E5ECF6",
           "radialaxis": {
            "gridcolor": "white",
            "linecolor": "white",
            "ticks": ""
           }
          },
          "scene": {
           "xaxis": {
            "backgroundcolor": "#E5ECF6",
            "gridcolor": "white",
            "gridwidth": 2,
            "linecolor": "white",
            "showbackground": true,
            "ticks": "",
            "zerolinecolor": "white"
           },
           "yaxis": {
            "backgroundcolor": "#E5ECF6",
            "gridcolor": "white",
            "gridwidth": 2,
            "linecolor": "white",
            "showbackground": true,
            "ticks": "",
            "zerolinecolor": "white"
           },
           "zaxis": {
            "backgroundcolor": "#E5ECF6",
            "gridcolor": "white",
            "gridwidth": 2,
            "linecolor": "white",
            "showbackground": true,
            "ticks": "",
            "zerolinecolor": "white"
           }
          },
          "shapedefaults": {
           "line": {
            "color": "#2a3f5f"
           }
          },
          "ternary": {
           "aaxis": {
            "gridcolor": "white",
            "linecolor": "white",
            "ticks": ""
           },
           "baxis": {
            "gridcolor": "white",
            "linecolor": "white",
            "ticks": ""
           },
           "bgcolor": "#E5ECF6",
           "caxis": {
            "gridcolor": "white",
            "linecolor": "white",
            "ticks": ""
           }
          },
          "title": {
           "x": 0.05
          },
          "xaxis": {
           "automargin": true,
           "gridcolor": "white",
           "linecolor": "white",
           "ticks": "",
           "title": {
            "standoff": 15
           },
           "zerolinecolor": "white",
           "zerolinewidth": 2
          },
          "yaxis": {
           "automargin": true,
           "gridcolor": "white",
           "linecolor": "white",
           "ticks": "",
           "title": {
            "standoff": 15
           },
           "zerolinecolor": "white",
           "zerolinewidth": 2
          }
         }
        },
        "title": {
         "text": "Grove St PATH Citibike Station, daily starts+ends",
         "x": 0.5,
         "xanchor": "center",
         "yanchor": "top"
        },
        "xaxis": {
         "anchor": "y",
         "domain": [
          0,
          1
         ],
         "title": {
          "text": "Date"
         }
        },
        "yaxis": {
         "anchor": "x",
         "domain": [
          0,
          1
         ],
         "title": {
          "text": "Daily ride starts+stops"
         }
        }
       }
      },
      "text/html": [
       "<div>                            <div id=\"f2805e63-b867-4993-b866-903d932b3be7\" class=\"plotly-graph-div\" style=\"height:525px; width:100%;\"></div>            <script type=\"text/javascript\">                require([\"plotly\"], function(Plotly) {                    window.PLOTLYENV=window.PLOTLYENV || {};                                    if (document.getElementById(\"f2805e63-b867-4993-b866-903d932b3be7\")) {                    Plotly.newPlot(                        \"f2805e63-b867-4993-b866-903d932b3be7\",                        [{\"alignmentgroup\":\"True\",\"hovertemplate\":\"=Weekday<br>Date=%{x}<br>Daily ride starts+stops=%{y}<extra></extra>\",\"legendgroup\":\"Weekday\",\"marker\":{\"color\":\"#636efa\",\"pattern\":{\"shape\":\"\"}},\"name\":\"Weekday\",\"offsetgroup\":\"Weekday\",\"orientation\":\"v\",\"showlegend\":true,\"textposition\":\"auto\",\"x\":[\"2022-08-01T00:00:00\",\"2022-08-02T00:00:00\",\"2022-08-03T00:00:00\",\"2022-08-04T00:00:00\",\"2022-08-05T00:00:00\",\"2022-08-08T00:00:00\",\"2022-08-09T00:00:00\",\"2022-08-10T00:00:00\",\"2022-08-11T00:00:00\",\"2022-08-12T00:00:00\",\"2022-08-15T00:00:00\",\"2022-08-16T00:00:00\",\"2022-08-17T00:00:00\",\"2022-08-18T00:00:00\",\"2022-08-19T00:00:00\",\"2022-08-22T00:00:00\",\"2022-08-23T00:00:00\",\"2022-08-24T00:00:00\",\"2022-08-25T00:00:00\",\"2022-08-26T00:00:00\",\"2022-08-29T00:00:00\",\"2022-08-30T00:00:00\",\"2022-08-31T00:00:00\"],\"xaxis\":\"x\",\"y\":[330,401,409,321,334,329,349,355,364,348,379,374,413,373,298,244,360,356,380,353,354,334,369],\"yaxis\":\"y\",\"type\":\"bar\"},{\"alignmentgroup\":\"True\",\"hovertemplate\":\"=Weekend<br>Date=%{x}<br>Daily ride starts+stops=%{y}<extra></extra>\",\"legendgroup\":\"Weekend\",\"marker\":{\"color\":\"#EF553B\",\"pattern\":{\"shape\":\"\"}},\"name\":\"Weekend\",\"offsetgroup\":\"Weekend\",\"orientation\":\"v\",\"showlegend\":true,\"textposition\":\"auto\",\"x\":[\"2022-08-06T00:00:00\",\"2022-08-07T00:00:00\",\"2022-08-13T00:00:00\",\"2022-08-14T00:00:00\",\"2022-08-20T00:00:00\",\"2022-08-21T00:00:00\",\"2022-08-27T00:00:00\",\"2022-08-28T00:00:00\"],\"xaxis\":\"x\",\"y\":[235,259,322,316,300,234,311,283],\"yaxis\":\"y\",\"type\":\"bar\"}],                        {\"template\":{\"data\":{\"histogram2dcontour\":[{\"type\":\"histogram2dcontour\",\"colorbar\":{\"outlinewidth\":0,\"ticks\":\"\"},\"colorscale\":[[0.0,\"#0d0887\"],[0.1111111111111111,\"#46039f\"],[0.2222222222222222,\"#7201a8\"],[0.3333333333333333,\"#9c179e\"],[0.4444444444444444,\"#bd3786\"],[0.5555555555555556,\"#d8576b\"],[0.6666666666666666,\"#ed7953\"],[0.7777777777777778,\"#fb9f3a\"],[0.8888888888888888,\"#fdca26\"],[1.0,\"#f0f921\"]]}],\"choropleth\":[{\"type\":\"choropleth\",\"colorbar\":{\"outlinewidth\":0,\"ticks\":\"\"}}],\"histogram2d\":[{\"type\":\"histogram2d\",\"colorbar\":{\"outlinewidth\":0,\"ticks\":\"\"},\"colorscale\":[[0.0,\"#0d0887\"],[0.1111111111111111,\"#46039f\"],[0.2222222222222222,\"#7201a8\"],[0.3333333333333333,\"#9c179e\"],[0.4444444444444444,\"#bd3786\"],[0.5555555555555556,\"#d8576b\"],[0.6666666666666666,\"#ed7953\"],[0.7777777777777778,\"#fb9f3a\"],[0.8888888888888888,\"#fdca26\"],[1.0,\"#f0f921\"]]}],\"heatmap\":[{\"type\":\"heatmap\",\"colorbar\":{\"outlinewidth\":0,\"ticks\":\"\"},\"colorscale\":[[0.0,\"#0d0887\"],[0.1111111111111111,\"#46039f\"],[0.2222222222222222,\"#7201a8\"],[0.3333333333333333,\"#9c179e\"],[0.4444444444444444,\"#bd3786\"],[0.5555555555555556,\"#d8576b\"],[0.6666666666666666,\"#ed7953\"],[0.7777777777777778,\"#fb9f3a\"],[0.8888888888888888,\"#fdca26\"],[1.0,\"#f0f921\"]]}],\"heatmapgl\":[{\"type\":\"heatmapgl\",\"colorbar\":{\"outlinewidth\":0,\"ticks\":\"\"},\"colorscale\":[[0.0,\"#0d0887\"],[0.1111111111111111,\"#46039f\"],[0.2222222222222222,\"#7201a8\"],[0.3333333333333333,\"#9c179e\"],[0.4444444444444444,\"#bd3786\"],[0.5555555555555556,\"#d8576b\"],[0.6666666666666666,\"#ed7953\"],[0.7777777777777778,\"#fb9f3a\"],[0.8888888888888888,\"#fdca26\"],[1.0,\"#f0f921\"]]}],\"contourcarpet\":[{\"type\":\"contourcarpet\",\"colorbar\":{\"outlinewidth\":0,\"ticks\":\"\"}}],\"contour\":[{\"type\":\"contour\",\"colorbar\":{\"outlinewidth\":0,\"ticks\":\"\"},\"colorscale\":[[0.0,\"#0d0887\"],[0.1111111111111111,\"#46039f\"],[0.2222222222222222,\"#7201a8\"],[0.3333333333333333,\"#9c179e\"],[0.4444444444444444,\"#bd3786\"],[0.5555555555555556,\"#d8576b\"],[0.6666666666666666,\"#ed7953\"],[0.7777777777777778,\"#fb9f3a\"],[0.8888888888888888,\"#fdca26\"],[1.0,\"#f0f921\"]]}],\"surface\":[{\"type\":\"surface\",\"colorbar\":{\"outlinewidth\":0,\"ticks\":\"\"},\"colorscale\":[[0.0,\"#0d0887\"],[0.1111111111111111,\"#46039f\"],[0.2222222222222222,\"#7201a8\"],[0.3333333333333333,\"#9c179e\"],[0.4444444444444444,\"#bd3786\"],[0.5555555555555556,\"#d8576b\"],[0.6666666666666666,\"#ed7953\"],[0.7777777777777778,\"#fb9f3a\"],[0.8888888888888888,\"#fdca26\"],[1.0,\"#f0f921\"]]}],\"mesh3d\":[{\"type\":\"mesh3d\",\"colorbar\":{\"outlinewidth\":0,\"ticks\":\"\"}}],\"scatter\":[{\"fillpattern\":{\"fillmode\":\"overlay\",\"size\":10,\"solidity\":0.2},\"type\":\"scatter\"}],\"parcoords\":[{\"type\":\"parcoords\",\"line\":{\"colorbar\":{\"outlinewidth\":0,\"ticks\":\"\"}}}],\"scatterpolargl\":[{\"type\":\"scatterpolargl\",\"marker\":{\"colorbar\":{\"outlinewidth\":0,\"ticks\":\"\"}}}],\"bar\":[{\"error_x\":{\"color\":\"#2a3f5f\"},\"error_y\":{\"color\":\"#2a3f5f\"},\"marker\":{\"line\":{\"color\":\"#E5ECF6\",\"width\":0.5},\"pattern\":{\"fillmode\":\"overlay\",\"size\":10,\"solidity\":0.2}},\"type\":\"bar\"}],\"scattergeo\":[{\"type\":\"scattergeo\",\"marker\":{\"colorbar\":{\"outlinewidth\":0,\"ticks\":\"\"}}}],\"scatterpolar\":[{\"type\":\"scatterpolar\",\"marker\":{\"colorbar\":{\"outlinewidth\":0,\"ticks\":\"\"}}}],\"histogram\":[{\"marker\":{\"pattern\":{\"fillmode\":\"overlay\",\"size\":10,\"solidity\":0.2}},\"type\":\"histogram\"}],\"scattergl\":[{\"type\":\"scattergl\",\"marker\":{\"colorbar\":{\"outlinewidth\":0,\"ticks\":\"\"}}}],\"scatter3d\":[{\"type\":\"scatter3d\",\"line\":{\"colorbar\":{\"outlinewidth\":0,\"ticks\":\"\"}},\"marker\":{\"colorbar\":{\"outlinewidth\":0,\"ticks\":\"\"}}}],\"scattermapbox\":[{\"type\":\"scattermapbox\",\"marker\":{\"colorbar\":{\"outlinewidth\":0,\"ticks\":\"\"}}}],\"scatterternary\":[{\"type\":\"scatterternary\",\"marker\":{\"colorbar\":{\"outlinewidth\":0,\"ticks\":\"\"}}}],\"scattercarpet\":[{\"type\":\"scattercarpet\",\"marker\":{\"colorbar\":{\"outlinewidth\":0,\"ticks\":\"\"}}}],\"carpet\":[{\"aaxis\":{\"endlinecolor\":\"#2a3f5f\",\"gridcolor\":\"white\",\"linecolor\":\"white\",\"minorgridcolor\":\"white\",\"startlinecolor\":\"#2a3f5f\"},\"baxis\":{\"endlinecolor\":\"#2a3f5f\",\"gridcolor\":\"white\",\"linecolor\":\"white\",\"minorgridcolor\":\"white\",\"startlinecolor\":\"#2a3f5f\"},\"type\":\"carpet\"}],\"table\":[{\"cells\":{\"fill\":{\"color\":\"#EBF0F8\"},\"line\":{\"color\":\"white\"}},\"header\":{\"fill\":{\"color\":\"#C8D4E3\"},\"line\":{\"color\":\"white\"}},\"type\":\"table\"}],\"barpolar\":[{\"marker\":{\"line\":{\"color\":\"#E5ECF6\",\"width\":0.5},\"pattern\":{\"fillmode\":\"overlay\",\"size\":10,\"solidity\":0.2}},\"type\":\"barpolar\"}],\"pie\":[{\"automargin\":true,\"type\":\"pie\"}]},\"layout\":{\"autotypenumbers\":\"strict\",\"colorway\":[\"#636efa\",\"#EF553B\",\"#00cc96\",\"#ab63fa\",\"#FFA15A\",\"#19d3f3\",\"#FF6692\",\"#B6E880\",\"#FF97FF\",\"#FECB52\"],\"font\":{\"color\":\"#2a3f5f\"},\"hovermode\":\"closest\",\"hoverlabel\":{\"align\":\"left\"},\"paper_bgcolor\":\"white\",\"plot_bgcolor\":\"#E5ECF6\",\"polar\":{\"bgcolor\":\"#E5ECF6\",\"angularaxis\":{\"gridcolor\":\"white\",\"linecolor\":\"white\",\"ticks\":\"\"},\"radialaxis\":{\"gridcolor\":\"white\",\"linecolor\":\"white\",\"ticks\":\"\"}},\"ternary\":{\"bgcolor\":\"#E5ECF6\",\"aaxis\":{\"gridcolor\":\"white\",\"linecolor\":\"white\",\"ticks\":\"\"},\"baxis\":{\"gridcolor\":\"white\",\"linecolor\":\"white\",\"ticks\":\"\"},\"caxis\":{\"gridcolor\":\"white\",\"linecolor\":\"white\",\"ticks\":\"\"}},\"coloraxis\":{\"colorbar\":{\"outlinewidth\":0,\"ticks\":\"\"}},\"colorscale\":{\"sequential\":[[0.0,\"#0d0887\"],[0.1111111111111111,\"#46039f\"],[0.2222222222222222,\"#7201a8\"],[0.3333333333333333,\"#9c179e\"],[0.4444444444444444,\"#bd3786\"],[0.5555555555555556,\"#d8576b\"],[0.6666666666666666,\"#ed7953\"],[0.7777777777777778,\"#fb9f3a\"],[0.8888888888888888,\"#fdca26\"],[1.0,\"#f0f921\"]],\"sequentialminus\":[[0.0,\"#0d0887\"],[0.1111111111111111,\"#46039f\"],[0.2222222222222222,\"#7201a8\"],[0.3333333333333333,\"#9c179e\"],[0.4444444444444444,\"#bd3786\"],[0.5555555555555556,\"#d8576b\"],[0.6666666666666666,\"#ed7953\"],[0.7777777777777778,\"#fb9f3a\"],[0.8888888888888888,\"#fdca26\"],[1.0,\"#f0f921\"]],\"diverging\":[[0,\"#8e0152\"],[0.1,\"#c51b7d\"],[0.2,\"#de77ae\"],[0.3,\"#f1b6da\"],[0.4,\"#fde0ef\"],[0.5,\"#f7f7f7\"],[0.6,\"#e6f5d0\"],[0.7,\"#b8e186\"],[0.8,\"#7fbc41\"],[0.9,\"#4d9221\"],[1,\"#276419\"]]},\"xaxis\":{\"gridcolor\":\"white\",\"linecolor\":\"white\",\"ticks\":\"\",\"title\":{\"standoff\":15},\"zerolinecolor\":\"white\",\"automargin\":true,\"zerolinewidth\":2},\"yaxis\":{\"gridcolor\":\"white\",\"linecolor\":\"white\",\"ticks\":\"\",\"title\":{\"standoff\":15},\"zerolinecolor\":\"white\",\"automargin\":true,\"zerolinewidth\":2},\"scene\":{\"xaxis\":{\"backgroundcolor\":\"#E5ECF6\",\"gridcolor\":\"white\",\"linecolor\":\"white\",\"showbackground\":true,\"ticks\":\"\",\"zerolinecolor\":\"white\",\"gridwidth\":2},\"yaxis\":{\"backgroundcolor\":\"#E5ECF6\",\"gridcolor\":\"white\",\"linecolor\":\"white\",\"showbackground\":true,\"ticks\":\"\",\"zerolinecolor\":\"white\",\"gridwidth\":2},\"zaxis\":{\"backgroundcolor\":\"#E5ECF6\",\"gridcolor\":\"white\",\"linecolor\":\"white\",\"showbackground\":true,\"ticks\":\"\",\"zerolinecolor\":\"white\",\"gridwidth\":2}},\"shapedefaults\":{\"line\":{\"color\":\"#2a3f5f\"}},\"annotationdefaults\":{\"arrowcolor\":\"#2a3f5f\",\"arrowhead\":0,\"arrowwidth\":1},\"geo\":{\"bgcolor\":\"white\",\"landcolor\":\"#E5ECF6\",\"subunitcolor\":\"white\",\"showland\":true,\"showlakes\":true,\"lakecolor\":\"white\"},\"title\":{\"x\":0.05},\"mapbox\":{\"style\":\"light\"}}},\"xaxis\":{\"anchor\":\"y\",\"domain\":[0.0,1.0],\"title\":{\"text\":\"Date\"}},\"yaxis\":{\"anchor\":\"x\",\"domain\":[0.0,1.0],\"title\":{\"text\":\"Daily ride starts+stops\"}},\"legend\":{\"title\":{\"text\":\"\"},\"tracegroupgap\":0},\"margin\":{\"t\":60},\"barmode\":\"relative\",\"title\":{\"text\":\"Grove St PATH Citibike Station, daily starts+ends\",\"x\":0.5,\"xanchor\":\"center\",\"yanchor\":\"top\"}},                        {\"responsive\": true}                    ).then(function(){\n",
       "                            \n",
       "var gd = document.getElementById('f2805e63-b867-4993-b866-903d932b3be7');\n",
       "var x = new MutationObserver(function (mutations, observer) {{\n",
       "        var display = window.getComputedStyle(gd).display;\n",
       "        if (!display || display === 'none') {{\n",
       "            console.log([gd, 'removed!']);\n",
       "            Plotly.purge(gd);\n",
       "            observer.disconnect();\n",
       "        }}\n",
       "}});\n",
       "\n",
       "// Listen for the removal of the full notebook cells\n",
       "var notebookContainer = gd.closest('#notebook-container');\n",
       "if (notebookContainer) {{\n",
       "    x.observe(notebookContainer, {childList: true});\n",
       "}}\n",
       "\n",
       "// Listen for the clearing of the current output cell\n",
       "var outputEl = gd.closest('.output');\n",
       "if (outputEl) {{\n",
       "    x.observe(outputEl, {childList: true});\n",
       "}}\n",
       "\n",
       "                        })                };                });            </script>        </div>"
      ]
     },
     "metadata": {},
     "output_type": "display_data"
    }
   ],
   "source": [
    "title = 'Grove St PATH Citibike Station, daily starts+ends'\n",
    "fig = px.bar(\n",
    "    ts[ts['Station Name'] == 'Grove St PATH'], \n",
    "    x='Date', y='Count', \n",
    "    color='Weekday', \n",
    "    labels={'Count': 'Daily ride starts+stops', 'Weekday': ''},\n",
    ")\n",
    "fig.update_layout(\n",
    "    title={\n",
    "        'text': title,\n",
    "        'x':0.5,\n",
    "        'xanchor': 'center',\n",
    "        'yanchor': 'top',\n",
    "    },\n",
    ")\n",
    "fig"
   ]
  },
  {
   "cell_type": "code",
   "execution_count": 134,
   "id": "ee08b46f",
   "metadata": {},
   "outputs": [
    {
     "data": {
      "application/vnd.plotly.v1+json": {
       "config": {
        "plotlyServerURL": "https://plot.ly"
       },
       "data": [
        {
         "customdata": [
          [
           "Hoboken Terminal - Hudson St & Hudson Pl",
           3505
          ],
          [
           "Hoboken Terminal - River St & Hudson Pl",
           4545
          ],
          [
           "South Waterfront Walkway - Sinatra Dr & 1 St",
           4567
          ],
          [
           "City Hall - Washington St & 1 St",
           2911
          ],
          [
           "12 St & Sinatra Dr N",
           2437
          ],
          [
           "14 St Ferry - 14 St & Shipyard Ln",
           2317
          ],
          [
           "Bloomfield St & 15 St",
           1355
          ],
          [
           "4 St & Grand St",
           1367
          ],
          [
           "6 St & Grand St",
           1040
          ],
          [
           "Clinton St & 7 St",
           1276
          ],
          [
           "7 St & Monroe St",
           1274
          ],
          [
           "9 St HBLR - Jackson St & 8 St",
           1368
          ],
          [
           "Southwest Park - Jackson St & Observer Hwy",
           1303
          ],
          [
           "Madison St & 1 St",
           1677
          ],
          [
           "Mama Johnson Field - 4 St & Jackson St",
           757
          ],
          [
           "Adams St & 2 St",
           1135
          ],
          [
           "Marshall St & 2 St",
           1170
          ],
          [
           "Clinton St & Newark St",
           1534
          ],
          [
           "Columbus Park - Clinton St & 9 St",
           1703
          ],
          [
           "11 St & Washington St",
           2029
          ],
          [
           "Madison St & 10 St",
           1116
          ],
          [
           "Willow Ave & 12 St",
           1245
          ],
          [
           "Grand St & 14 St",
           1441
          ],
          [
           "Adams St & 11 St",
           730
          ],
          [
           "Church Sq Park - 5 St & Park Ave",
           1611
          ],
          [
           "Stevens - River Ter & 6 St",
           671
          ],
          [
           "8 St & Washington St",
           1857
          ],
          [
           "Hudson St & 4 St",
           2327
          ],
          [
           "Paulus Hook",
           1356
          ],
          [
           "City Hall",
           1956
          ],
          [
           "Grove St PATH",
           5065
          ],
          [
           "Warren St",
           1860
          ],
          [
           "Newport Pkwy",
           2946
          ],
          [
           "Hamilton Park",
           2578
          ],
          [
           "JC Medical Center",
           1441
          ],
          [
           "Marin Light Rail",
           2521
          ],
          [
           "Columbus Drive",
           1509
          ],
          [
           "5 Corners Library",
           376
          ],
          [
           "Hilltop",
           1002
          ],
          [
           "Baldwin at Montgomery",
           966
          ],
          [
           "Oakland Ave",
           850
          ],
          [
           "Brunswick St",
           1114
          ],
          [
           "Pershing Field",
           848
          ],
          [
           "Jersey & 6th St",
           777
          ],
          [
           "Newark Ave",
           1578
          ],
          [
           "Christ Hospital",
           668
          ],
          [
           "Van Vorst Park",
           1353
          ],
          [
           "Essex Light Rail",
           735
          ],
          [
           "Union St",
           274
          ],
          [
           "Liberty Light Rail",
           2064
          ],
          [
           "Lincoln Park",
           680
          ],
          [
           "McGinley Square",
           1334
          ],
          [
           "Riverview Park",
           861
          ],
          [
           "Heights Elevator",
           458
          ],
          [
           "Jackson Square",
           188
          ],
          [
           "Dey St",
           306
          ],
          [
           "Newport PATH",
           2392
          ],
          [
           "Morris Canal",
           1100
          ],
          [
           "Jersey & 3rd",
           1006
          ],
          [
           "Monmouth and 6th",
           881
          ],
          [
           "Dixon Mills",
           821
          ],
          [
           "Astor Place",
           588
          ],
          [
           "Lafayette Park",
           900
          ],
          [
           "Leonard Gordon Park",
           570
          ],
          [
           "Brunswick & 6th",
           1153
          ],
          [
           "Manila & 1st",
           1193
          ],
          [
           "Communipaw & Berry Lane",
           503
          ],
          [
           "Fairmount Ave",
           652
          ],
          [
           "Glenwood Ave",
           341
          ],
          [
           "Bergen Ave",
           627
          ],
          [
           "Washington St",
           2094
          ],
          [
           "Montgomery St",
           678
          ],
          [
           "Grand St",
           1309
          ],
          [
           "Journal Square",
           899
          ],
          [
           "Harborside",
           2135
          ],
          [
           "Hoboken Ave at Monmouth St",
           2435
          ],
          [
           "Columbus Dr at Exchange Pl",
           2226
          ],
          [
           "Grant Ave & MLK Dr",
           62
          ],
          [
           "Bergen Ave & Stegman St",
           145
          ],
          [
           "Bergen Ave & Sip Ave",
           2197
          ]
         ],
         "hovertemplate": "<b>%{hovertext}</b><br><br>Count=%{customdata[1]}<br>Latitude=%{lat}<br>Longitude=%{lon}<br>Station Name=%{customdata[0]}<extra></extra>",
         "hovertext": [
          "Hoboken Terminal - Hudson St & Hudson Pl",
          "Hoboken Terminal - River St & Hudson Pl",
          "South Waterfront Walkway - Sinatra Dr & 1 St",
          "City Hall - Washington St & 1 St",
          "12 St & Sinatra Dr N",
          "14 St Ferry - 14 St & Shipyard Ln",
          "Bloomfield St & 15 St",
          "4 St & Grand St",
          "6 St & Grand St",
          "Clinton St & 7 St",
          "7 St & Monroe St",
          "9 St HBLR - Jackson St & 8 St",
          "Southwest Park - Jackson St & Observer Hwy",
          "Madison St & 1 St",
          "Mama Johnson Field - 4 St & Jackson St",
          "Adams St & 2 St",
          "Marshall St & 2 St",
          "Clinton St & Newark St",
          "Columbus Park - Clinton St & 9 St",
          "11 St & Washington St",
          "Madison St & 10 St",
          "Willow Ave & 12 St",
          "Grand St & 14 St",
          "Adams St & 11 St",
          "Church Sq Park - 5 St & Park Ave",
          "Stevens - River Ter & 6 St",
          "8 St & Washington St",
          "Hudson St & 4 St",
          "Paulus Hook",
          "City Hall",
          "Grove St PATH",
          "Warren St",
          "Newport Pkwy",
          "Hamilton Park",
          "JC Medical Center",
          "Marin Light Rail",
          "Columbus Drive",
          "5 Corners Library",
          "Hilltop",
          "Baldwin at Montgomery",
          "Oakland Ave",
          "Brunswick St",
          "Pershing Field",
          "Jersey & 6th St",
          "Newark Ave",
          "Christ Hospital",
          "Van Vorst Park",
          "Essex Light Rail",
          "Union St",
          "Liberty Light Rail",
          "Lincoln Park",
          "McGinley Square",
          "Riverview Park",
          "Heights Elevator",
          "Jackson Square",
          "Dey St",
          "Newport PATH",
          "Morris Canal",
          "Jersey & 3rd",
          "Monmouth and 6th",
          "Dixon Mills",
          "Astor Place",
          "Lafayette Park",
          "Leonard Gordon Park",
          "Brunswick & 6th",
          "Manila & 1st",
          "Communipaw & Berry Lane",
          "Fairmount Ave",
          "Glenwood Ave",
          "Bergen Ave",
          "Washington St",
          "Montgomery St",
          "Grand St",
          "Journal Square",
          "Harborside",
          "Hoboken Ave at Monmouth St",
          "Columbus Dr at Exchange Pl",
          "Grant Ave & MLK Dr",
          "Bergen Ave & Stegman St",
          "Bergen Ave & Sip Ave"
         ],
         "lat": [
          40.73593758446329,
          40.7360676564825,
          40.73698221818716,
          40.73736,
          40.750604142368964,
          40.752960630464955,
          40.75453,
          40.7422579775645,
          40.744397833095604,
          40.74542,
          40.74641264837719,
          40.74790720968899,
          40.73755127245804,
          40.73879,
          40.74313993965626,
          40.73981372311843,
          40.740802,
          40.73743,
          40.74816121065146,
          40.74998490907138,
          40.74994325412246,
          40.7518674823282,
          40.75409,
          40.750915534784994,
          40.74265933273143,
          40.74313282710551,
          40.745983882915624,
          40.74097260864355,
          40.7141454,
          40.7177325,
          40.71958611647166,
          40.7211236,
          40.7287448,
          40.727595966,
          40.71653978099194,
          40.71458403535893,
          40.71835519823214,
          40.734961020009514,
          40.7311689,
          40.7236589,
          40.7376037,
          40.7241765,
          40.742677141,
          40.72528910781132,
          40.72152515,
          40.734785818,
          40.71848892,
          40.7127742,
          40.7182113,
          40.7112423,
          40.7246050998869,
          40.7253399253558,
          40.7443187,
          40.748715945380226,
          40.71113,
          40.737711,
          40.7272235,
          40.7124188237569,
          40.72333158646436,
          40.72568548362901,
          40.721630142638354,
          40.71928220070702,
          40.71346382669195,
          40.74590996631558,
          40.72601172964625,
          40.721650724879986,
          40.71435836870427,
          40.72572613742557,
          40.72755146730012,
          40.722103786686034,
          40.7242941,
          40.71942,
          40.71517767732029,
          40.73367,
          40.7192517,
          40.73520838045357,
          40.71687,
          40.70919832245443,
          40.70657545063453,
          40.73100888698729
         ],
         "legendgroup": "",
         "lon": [
          -74.03030455112457,
          -74.02912706136703,
          -74.02778059244156,
          -74.03097,
          -74.02402013540268,
          -74.02435272932053,
          -74.02658,
          -74.03511106967926,
          -74.03450086712837,
          -74.03332,
          -74.03797701001167,
          -74.03841152787209,
          -74.04166370630264,
          -74.0393,
          -74.04004096984863,
          -74.03690412640572,
          -74.042521,
          -74.03571,
          -74.0324530005455,
          -74.02715027332306,
          -74.03586477041245,
          -74.03037697076797,
          -74.0316,
          -74.03354063630104,
          -74.03223305940628,
          -74.02698867022991,
          -74.02819901704788,
          -74.02860336005688,
          -74.0335519,
          -74.043845,
          -74.04311746358871,
          -74.03805095,
          -74.0321082,
          -74.044247311,
          -74.0496379137039,
          -74.04281705617905,
          -74.03891444206238,
          -74.0595030784607,
          -74.0575736,
          -74.0641943,
          -74.0524783,
          -74.0506564,
          -74.051788633,
          -74.04557168483734,
          -74.046304543,
          -74.050443636,
          -74.047726625,
          -74.0364857,
          -74.0836394,
          -74.0557013,
          -74.07840594649315,
          -74.06762212514877,
          -74.0439909,
          -74.04044330120087,
          -74.0789,
          -74.066921,
          -74.0337589,
          -74.03852552175522,
          -74.04595255851744,
          -74.04879033565521,
          -74.04996782541275,
          -74.07126188278198,
          -74.06285852193832,
          -74.0572714805603,
          -74.05038893222809,
          -74.04288411140442,
          -74.06661093235016,
          -74.07195925712585,
          -74.07106071710587,
          -74.07145500183105,
          -74.0354826,
          -74.05099,
          -74.03768330812454,
          -74.0625,
          -74.034234,
          -74.04696375131607,
          -74.03281,
          -74.08084273338318,
          -74.0867006778717,
          -74.06443700194359
         ],
         "marker": {
          "color": "#636efa",
          "size": [
           3505,
           4545,
           4567,
           2911,
           2437,
           2317,
           1355,
           1367,
           1040,
           1276,
           1274,
           1368,
           1303,
           1677,
           757,
           1135,
           1170,
           1534,
           1703,
           2029,
           1116,
           1245,
           1441,
           730,
           1611,
           671,
           1857,
           2327,
           1356,
           1956,
           5065,
           1860,
           2946,
           2578,
           1441,
           2521,
           1509,
           376,
           1002,
           966,
           850,
           1114,
           848,
           777,
           1578,
           668,
           1353,
           735,
           274,
           2064,
           680,
           1334,
           861,
           458,
           188,
           306,
           2392,
           1100,
           1006,
           881,
           821,
           588,
           900,
           570,
           1153,
           1193,
           503,
           652,
           341,
           627,
           2094,
           678,
           1309,
           899,
           2135,
           2435,
           2226,
           62,
           145,
           2197
          ],
          "sizemode": "area",
          "sizeref": 12.6625
         },
         "mode": "markers",
         "name": "",
         "showlegend": false,
         "subplot": "mapbox",
         "type": "scattermapbox"
        }
       ],
       "layout": {
        "legend": {
         "itemsizing": "constant",
         "tracegroupgap": 0
        },
        "mapbox": {
         "center": {
          "lat": 40.73112361456843,
          "lon": -74.04594544832472
         },
         "domain": {
          "x": [
           0,
           1
          ],
          "y": [
           0,
           1
          ]
         },
         "style": "open-street-map",
         "zoom": 8
        },
        "margin": {
         "b": 0,
         "l": 0,
         "r": 0,
         "t": 0
        },
        "template": {
         "data": {
          "bar": [
           {
            "error_x": {
             "color": "#2a3f5f"
            },
            "error_y": {
             "color": "#2a3f5f"
            },
            "marker": {
             "line": {
              "color": "#E5ECF6",
              "width": 0.5
             },
             "pattern": {
              "fillmode": "overlay",
              "size": 10,
              "solidity": 0.2
             }
            },
            "type": "bar"
           }
          ],
          "barpolar": [
           {
            "marker": {
             "line": {
              "color": "#E5ECF6",
              "width": 0.5
             },
             "pattern": {
              "fillmode": "overlay",
              "size": 10,
              "solidity": 0.2
             }
            },
            "type": "barpolar"
           }
          ],
          "carpet": [
           {
            "aaxis": {
             "endlinecolor": "#2a3f5f",
             "gridcolor": "white",
             "linecolor": "white",
             "minorgridcolor": "white",
             "startlinecolor": "#2a3f5f"
            },
            "baxis": {
             "endlinecolor": "#2a3f5f",
             "gridcolor": "white",
             "linecolor": "white",
             "minorgridcolor": "white",
             "startlinecolor": "#2a3f5f"
            },
            "type": "carpet"
           }
          ],
          "choropleth": [
           {
            "colorbar": {
             "outlinewidth": 0,
             "ticks": ""
            },
            "type": "choropleth"
           }
          ],
          "contour": [
           {
            "colorbar": {
             "outlinewidth": 0,
             "ticks": ""
            },
            "colorscale": [
             [
              0,
              "#0d0887"
             ],
             [
              0.1111111111111111,
              "#46039f"
             ],
             [
              0.2222222222222222,
              "#7201a8"
             ],
             [
              0.3333333333333333,
              "#9c179e"
             ],
             [
              0.4444444444444444,
              "#bd3786"
             ],
             [
              0.5555555555555556,
              "#d8576b"
             ],
             [
              0.6666666666666666,
              "#ed7953"
             ],
             [
              0.7777777777777778,
              "#fb9f3a"
             ],
             [
              0.8888888888888888,
              "#fdca26"
             ],
             [
              1,
              "#f0f921"
             ]
            ],
            "type": "contour"
           }
          ],
          "contourcarpet": [
           {
            "colorbar": {
             "outlinewidth": 0,
             "ticks": ""
            },
            "type": "contourcarpet"
           }
          ],
          "heatmap": [
           {
            "colorbar": {
             "outlinewidth": 0,
             "ticks": ""
            },
            "colorscale": [
             [
              0,
              "#0d0887"
             ],
             [
              0.1111111111111111,
              "#46039f"
             ],
             [
              0.2222222222222222,
              "#7201a8"
             ],
             [
              0.3333333333333333,
              "#9c179e"
             ],
             [
              0.4444444444444444,
              "#bd3786"
             ],
             [
              0.5555555555555556,
              "#d8576b"
             ],
             [
              0.6666666666666666,
              "#ed7953"
             ],
             [
              0.7777777777777778,
              "#fb9f3a"
             ],
             [
              0.8888888888888888,
              "#fdca26"
             ],
             [
              1,
              "#f0f921"
             ]
            ],
            "type": "heatmap"
           }
          ],
          "heatmapgl": [
           {
            "colorbar": {
             "outlinewidth": 0,
             "ticks": ""
            },
            "colorscale": [
             [
              0,
              "#0d0887"
             ],
             [
              0.1111111111111111,
              "#46039f"
             ],
             [
              0.2222222222222222,
              "#7201a8"
             ],
             [
              0.3333333333333333,
              "#9c179e"
             ],
             [
              0.4444444444444444,
              "#bd3786"
             ],
             [
              0.5555555555555556,
              "#d8576b"
             ],
             [
              0.6666666666666666,
              "#ed7953"
             ],
             [
              0.7777777777777778,
              "#fb9f3a"
             ],
             [
              0.8888888888888888,
              "#fdca26"
             ],
             [
              1,
              "#f0f921"
             ]
            ],
            "type": "heatmapgl"
           }
          ],
          "histogram": [
           {
            "marker": {
             "pattern": {
              "fillmode": "overlay",
              "size": 10,
              "solidity": 0.2
             }
            },
            "type": "histogram"
           }
          ],
          "histogram2d": [
           {
            "colorbar": {
             "outlinewidth": 0,
             "ticks": ""
            },
            "colorscale": [
             [
              0,
              "#0d0887"
             ],
             [
              0.1111111111111111,
              "#46039f"
             ],
             [
              0.2222222222222222,
              "#7201a8"
             ],
             [
              0.3333333333333333,
              "#9c179e"
             ],
             [
              0.4444444444444444,
              "#bd3786"
             ],
             [
              0.5555555555555556,
              "#d8576b"
             ],
             [
              0.6666666666666666,
              "#ed7953"
             ],
             [
              0.7777777777777778,
              "#fb9f3a"
             ],
             [
              0.8888888888888888,
              "#fdca26"
             ],
             [
              1,
              "#f0f921"
             ]
            ],
            "type": "histogram2d"
           }
          ],
          "histogram2dcontour": [
           {
            "colorbar": {
             "outlinewidth": 0,
             "ticks": ""
            },
            "colorscale": [
             [
              0,
              "#0d0887"
             ],
             [
              0.1111111111111111,
              "#46039f"
             ],
             [
              0.2222222222222222,
              "#7201a8"
             ],
             [
              0.3333333333333333,
              "#9c179e"
             ],
             [
              0.4444444444444444,
              "#bd3786"
             ],
             [
              0.5555555555555556,
              "#d8576b"
             ],
             [
              0.6666666666666666,
              "#ed7953"
             ],
             [
              0.7777777777777778,
              "#fb9f3a"
             ],
             [
              0.8888888888888888,
              "#fdca26"
             ],
             [
              1,
              "#f0f921"
             ]
            ],
            "type": "histogram2dcontour"
           }
          ],
          "mesh3d": [
           {
            "colorbar": {
             "outlinewidth": 0,
             "ticks": ""
            },
            "type": "mesh3d"
           }
          ],
          "parcoords": [
           {
            "line": {
             "colorbar": {
              "outlinewidth": 0,
              "ticks": ""
             }
            },
            "type": "parcoords"
           }
          ],
          "pie": [
           {
            "automargin": true,
            "type": "pie"
           }
          ],
          "scatter": [
           {
            "fillpattern": {
             "fillmode": "overlay",
             "size": 10,
             "solidity": 0.2
            },
            "type": "scatter"
           }
          ],
          "scatter3d": [
           {
            "line": {
             "colorbar": {
              "outlinewidth": 0,
              "ticks": ""
             }
            },
            "marker": {
             "colorbar": {
              "outlinewidth": 0,
              "ticks": ""
             }
            },
            "type": "scatter3d"
           }
          ],
          "scattercarpet": [
           {
            "marker": {
             "colorbar": {
              "outlinewidth": 0,
              "ticks": ""
             }
            },
            "type": "scattercarpet"
           }
          ],
          "scattergeo": [
           {
            "marker": {
             "colorbar": {
              "outlinewidth": 0,
              "ticks": ""
             }
            },
            "type": "scattergeo"
           }
          ],
          "scattergl": [
           {
            "marker": {
             "colorbar": {
              "outlinewidth": 0,
              "ticks": ""
             }
            },
            "type": "scattergl"
           }
          ],
          "scattermapbox": [
           {
            "marker": {
             "colorbar": {
              "outlinewidth": 0,
              "ticks": ""
             }
            },
            "type": "scattermapbox"
           }
          ],
          "scatterpolar": [
           {
            "marker": {
             "colorbar": {
              "outlinewidth": 0,
              "ticks": ""
             }
            },
            "type": "scatterpolar"
           }
          ],
          "scatterpolargl": [
           {
            "marker": {
             "colorbar": {
              "outlinewidth": 0,
              "ticks": ""
             }
            },
            "type": "scatterpolargl"
           }
          ],
          "scatterternary": [
           {
            "marker": {
             "colorbar": {
              "outlinewidth": 0,
              "ticks": ""
             }
            },
            "type": "scatterternary"
           }
          ],
          "surface": [
           {
            "colorbar": {
             "outlinewidth": 0,
             "ticks": ""
            },
            "colorscale": [
             [
              0,
              "#0d0887"
             ],
             [
              0.1111111111111111,
              "#46039f"
             ],
             [
              0.2222222222222222,
              "#7201a8"
             ],
             [
              0.3333333333333333,
              "#9c179e"
             ],
             [
              0.4444444444444444,
              "#bd3786"
             ],
             [
              0.5555555555555556,
              "#d8576b"
             ],
             [
              0.6666666666666666,
              "#ed7953"
             ],
             [
              0.7777777777777778,
              "#fb9f3a"
             ],
             [
              0.8888888888888888,
              "#fdca26"
             ],
             [
              1,
              "#f0f921"
             ]
            ],
            "type": "surface"
           }
          ],
          "table": [
           {
            "cells": {
             "fill": {
              "color": "#EBF0F8"
             },
             "line": {
              "color": "white"
             }
            },
            "header": {
             "fill": {
              "color": "#C8D4E3"
             },
             "line": {
              "color": "white"
             }
            },
            "type": "table"
           }
          ]
         },
         "layout": {
          "annotationdefaults": {
           "arrowcolor": "#2a3f5f",
           "arrowhead": 0,
           "arrowwidth": 1
          },
          "autotypenumbers": "strict",
          "coloraxis": {
           "colorbar": {
            "outlinewidth": 0,
            "ticks": ""
           }
          },
          "colorscale": {
           "diverging": [
            [
             0,
             "#8e0152"
            ],
            [
             0.1,
             "#c51b7d"
            ],
            [
             0.2,
             "#de77ae"
            ],
            [
             0.3,
             "#f1b6da"
            ],
            [
             0.4,
             "#fde0ef"
            ],
            [
             0.5,
             "#f7f7f7"
            ],
            [
             0.6,
             "#e6f5d0"
            ],
            [
             0.7,
             "#b8e186"
            ],
            [
             0.8,
             "#7fbc41"
            ],
            [
             0.9,
             "#4d9221"
            ],
            [
             1,
             "#276419"
            ]
           ],
           "sequential": [
            [
             0,
             "#0d0887"
            ],
            [
             0.1111111111111111,
             "#46039f"
            ],
            [
             0.2222222222222222,
             "#7201a8"
            ],
            [
             0.3333333333333333,
             "#9c179e"
            ],
            [
             0.4444444444444444,
             "#bd3786"
            ],
            [
             0.5555555555555556,
             "#d8576b"
            ],
            [
             0.6666666666666666,
             "#ed7953"
            ],
            [
             0.7777777777777778,
             "#fb9f3a"
            ],
            [
             0.8888888888888888,
             "#fdca26"
            ],
            [
             1,
             "#f0f921"
            ]
           ],
           "sequentialminus": [
            [
             0,
             "#0d0887"
            ],
            [
             0.1111111111111111,
             "#46039f"
            ],
            [
             0.2222222222222222,
             "#7201a8"
            ],
            [
             0.3333333333333333,
             "#9c179e"
            ],
            [
             0.4444444444444444,
             "#bd3786"
            ],
            [
             0.5555555555555556,
             "#d8576b"
            ],
            [
             0.6666666666666666,
             "#ed7953"
            ],
            [
             0.7777777777777778,
             "#fb9f3a"
            ],
            [
             0.8888888888888888,
             "#fdca26"
            ],
            [
             1,
             "#f0f921"
            ]
           ]
          },
          "colorway": [
           "#636efa",
           "#EF553B",
           "#00cc96",
           "#ab63fa",
           "#FFA15A",
           "#19d3f3",
           "#FF6692",
           "#B6E880",
           "#FF97FF",
           "#FECB52"
          ],
          "font": {
           "color": "#2a3f5f"
          },
          "geo": {
           "bgcolor": "white",
           "lakecolor": "white",
           "landcolor": "#E5ECF6",
           "showlakes": true,
           "showland": true,
           "subunitcolor": "white"
          },
          "hoverlabel": {
           "align": "left"
          },
          "hovermode": "closest",
          "mapbox": {
           "style": "light"
          },
          "paper_bgcolor": "white",
          "plot_bgcolor": "#E5ECF6",
          "polar": {
           "angularaxis": {
            "gridcolor": "white",
            "linecolor": "white",
            "ticks": ""
           },
           "bgcolor": "#E5ECF6",
           "radialaxis": {
            "gridcolor": "white",
            "linecolor": "white",
            "ticks": ""
           }
          },
          "scene": {
           "xaxis": {
            "backgroundcolor": "#E5ECF6",
            "gridcolor": "white",
            "gridwidth": 2,
            "linecolor": "white",
            "showbackground": true,
            "ticks": "",
            "zerolinecolor": "white"
           },
           "yaxis": {
            "backgroundcolor": "#E5ECF6",
            "gridcolor": "white",
            "gridwidth": 2,
            "linecolor": "white",
            "showbackground": true,
            "ticks": "",
            "zerolinecolor": "white"
           },
           "zaxis": {
            "backgroundcolor": "#E5ECF6",
            "gridcolor": "white",
            "gridwidth": 2,
            "linecolor": "white",
            "showbackground": true,
            "ticks": "",
            "zerolinecolor": "white"
           }
          },
          "shapedefaults": {
           "line": {
            "color": "#2a3f5f"
           }
          },
          "ternary": {
           "aaxis": {
            "gridcolor": "white",
            "linecolor": "white",
            "ticks": ""
           },
           "baxis": {
            "gridcolor": "white",
            "linecolor": "white",
            "ticks": ""
           },
           "bgcolor": "#E5ECF6",
           "caxis": {
            "gridcolor": "white",
            "linecolor": "white",
            "ticks": ""
           }
          },
          "title": {
           "x": 0.05
          },
          "xaxis": {
           "automargin": true,
           "gridcolor": "white",
           "linecolor": "white",
           "ticks": "",
           "title": {
            "standoff": 15
           },
           "zerolinecolor": "white",
           "zerolinewidth": 2
          },
          "yaxis": {
           "automargin": true,
           "gridcolor": "white",
           "linecolor": "white",
           "ticks": "",
           "title": {
            "standoff": 15
           },
           "zerolinecolor": "white",
           "zerolinewidth": 2
          }
         }
        }
       }
      },
      "text/html": [
       "<div>                            <div id=\"432fa5d5-c7da-47b7-9fc0-05c7a77c57ff\" class=\"plotly-graph-div\" style=\"height:525px; width:100%;\"></div>            <script type=\"text/javascript\">                require([\"plotly\"], function(Plotly) {                    window.PLOTLYENV=window.PLOTLYENV || {};                                    if (document.getElementById(\"432fa5d5-c7da-47b7-9fc0-05c7a77c57ff\")) {                    Plotly.newPlot(                        \"432fa5d5-c7da-47b7-9fc0-05c7a77c57ff\",                        [{\"customdata\":[[\"Hoboken Terminal - Hudson St & Hudson Pl\",3505],[\"Hoboken Terminal - River St & Hudson Pl\",4545],[\"South Waterfront Walkway - Sinatra Dr & 1 St\",4567],[\"City Hall - Washington St & 1 St\",2911],[\"12 St & Sinatra Dr N\",2437],[\"14 St Ferry - 14 St & Shipyard Ln\",2317],[\"Bloomfield St & 15 St\",1355],[\"4 St & Grand St\",1367],[\"6 St & Grand St\",1040],[\"Clinton St & 7 St\",1276],[\"7 St & Monroe St\",1274],[\"9 St HBLR - Jackson St & 8 St\",1368],[\"Southwest Park - Jackson St & Observer Hwy\",1303],[\"Madison St & 1 St\",1677],[\"Mama Johnson Field - 4 St & Jackson St\",757],[\"Adams St & 2 St\",1135],[\"Marshall St & 2 St\",1170],[\"Clinton St & Newark St\",1534],[\"Columbus Park - Clinton St & 9 St\",1703],[\"11 St & Washington St\",2029],[\"Madison St & 10 St\",1116],[\"Willow Ave & 12 St\",1245],[\"Grand St & 14 St\",1441],[\"Adams St & 11 St\",730],[\"Church Sq Park - 5 St & Park Ave\",1611],[\"Stevens - River Ter & 6 St\",671],[\"8 St & Washington St\",1857],[\"Hudson St & 4 St\",2327],[\"Paulus Hook\",1356],[\"City Hall\",1956],[\"Grove St PATH\",5065],[\"Warren St\",1860],[\"Newport Pkwy\",2946],[\"Hamilton Park\",2578],[\"JC Medical Center\",1441],[\"Marin Light Rail\",2521],[\"Columbus Drive\",1509],[\"5 Corners Library\",376],[\"Hilltop\",1002],[\"Baldwin at Montgomery\",966],[\"Oakland Ave\",850],[\"Brunswick St\",1114],[\"Pershing Field\",848],[\"Jersey & 6th St\",777],[\"Newark Ave\",1578],[\"Christ Hospital\",668],[\"Van Vorst Park\",1353],[\"Essex Light Rail\",735],[\"Union St\",274],[\"Liberty Light Rail\",2064],[\"Lincoln Park\",680],[\"McGinley Square\",1334],[\"Riverview Park\",861],[\"Heights Elevator\",458],[\"Jackson Square\",188],[\"Dey St\",306],[\"Newport PATH\",2392],[\"Morris Canal\",1100],[\"Jersey & 3rd\",1006],[\"Monmouth and 6th\",881],[\"Dixon Mills\",821],[\"Astor Place\",588],[\"Lafayette Park\",900],[\"Leonard Gordon Park\",570],[\"Brunswick & 6th\",1153],[\"Manila & 1st\",1193],[\"Communipaw & Berry Lane\",503],[\"Fairmount Ave\",652],[\"Glenwood Ave\",341],[\"Bergen Ave\",627],[\"Washington St\",2094],[\"Montgomery St\",678],[\"Grand St\",1309],[\"Journal Square\",899],[\"Harborside\",2135],[\"Hoboken Ave at Monmouth St\",2435],[\"Columbus Dr at Exchange Pl\",2226],[\"Grant Ave & MLK Dr\",62],[\"Bergen Ave & Stegman St\",145],[\"Bergen Ave & Sip Ave\",2197]],\"hovertemplate\":\"<b>%{hovertext}</b><br><br>Count=%{customdata[1]}<br>Latitude=%{lat}<br>Longitude=%{lon}<br>Station Name=%{customdata[0]}<extra></extra>\",\"hovertext\":[\"Hoboken Terminal - Hudson St & Hudson Pl\",\"Hoboken Terminal - River St & Hudson Pl\",\"South Waterfront Walkway - Sinatra Dr & 1 St\",\"City Hall - Washington St & 1 St\",\"12 St & Sinatra Dr N\",\"14 St Ferry - 14 St & Shipyard Ln\",\"Bloomfield St & 15 St\",\"4 St & Grand St\",\"6 St & Grand St\",\"Clinton St & 7 St\",\"7 St & Monroe St\",\"9 St HBLR - Jackson St & 8 St\",\"Southwest Park - Jackson St & Observer Hwy\",\"Madison St & 1 St\",\"Mama Johnson Field - 4 St & Jackson St\",\"Adams St & 2 St\",\"Marshall St & 2 St\",\"Clinton St & Newark St\",\"Columbus Park - Clinton St & 9 St\",\"11 St & Washington St\",\"Madison St & 10 St\",\"Willow Ave & 12 St\",\"Grand St & 14 St\",\"Adams St & 11 St\",\"Church Sq Park - 5 St & Park Ave\",\"Stevens - River Ter & 6 St\",\"8 St & Washington St\",\"Hudson St & 4 St\",\"Paulus Hook\",\"City Hall\",\"Grove St PATH\",\"Warren St\",\"Newport Pkwy\",\"Hamilton Park\",\"JC Medical Center\",\"Marin Light Rail\",\"Columbus Drive\",\"5 Corners Library\",\"Hilltop\",\"Baldwin at Montgomery\",\"Oakland Ave\",\"Brunswick St\",\"Pershing Field\",\"Jersey & 6th St\",\"Newark Ave\",\"Christ Hospital\",\"Van Vorst Park\",\"Essex Light Rail\",\"Union St\",\"Liberty Light Rail\",\"Lincoln Park\",\"McGinley Square\",\"Riverview Park\",\"Heights Elevator\",\"Jackson Square\",\"Dey St\",\"Newport PATH\",\"Morris Canal\",\"Jersey & 3rd\",\"Monmouth and 6th\",\"Dixon Mills\",\"Astor Place\",\"Lafayette Park\",\"Leonard Gordon Park\",\"Brunswick & 6th\",\"Manila & 1st\",\"Communipaw & Berry Lane\",\"Fairmount Ave\",\"Glenwood Ave\",\"Bergen Ave\",\"Washington St\",\"Montgomery St\",\"Grand St\",\"Journal Square\",\"Harborside\",\"Hoboken Ave at Monmouth St\",\"Columbus Dr at Exchange Pl\",\"Grant Ave & MLK Dr\",\"Bergen Ave & Stegman St\",\"Bergen Ave & Sip Ave\"],\"lat\":[40.73593758446329,40.7360676564825,40.73698221818716,40.73736,40.750604142368964,40.752960630464955,40.75453,40.7422579775645,40.744397833095604,40.74542,40.74641264837719,40.74790720968899,40.73755127245804,40.73879,40.74313993965626,40.73981372311843,40.740802,40.73743,40.74816121065146,40.74998490907138,40.74994325412246,40.7518674823282,40.75409,40.750915534784994,40.74265933273143,40.74313282710551,40.745983882915624,40.74097260864355,40.7141454,40.7177325,40.71958611647166,40.7211236,40.7287448,40.727595966,40.71653978099194,40.71458403535893,40.71835519823214,40.734961020009514,40.7311689,40.7236589,40.7376037,40.7241765,40.742677141,40.72528910781132,40.72152515,40.734785818,40.71848892,40.7127742,40.7182113,40.7112423,40.7246050998869,40.7253399253558,40.7443187,40.748715945380226,40.71113,40.737711,40.7272235,40.7124188237569,40.72333158646436,40.72568548362901,40.721630142638354,40.71928220070702,40.71346382669195,40.74590996631558,40.72601172964625,40.721650724879986,40.71435836870427,40.72572613742557,40.72755146730012,40.722103786686034,40.7242941,40.71942,40.71517767732029,40.73367,40.7192517,40.73520838045357,40.71687,40.70919832245443,40.70657545063453,40.73100888698729],\"legendgroup\":\"\",\"lon\":[-74.03030455112457,-74.02912706136703,-74.02778059244156,-74.03097,-74.02402013540268,-74.02435272932053,-74.02658,-74.03511106967926,-74.03450086712837,-74.03332,-74.03797701001167,-74.03841152787209,-74.04166370630264,-74.0393,-74.04004096984863,-74.03690412640572,-74.042521,-74.03571,-74.0324530005455,-74.02715027332306,-74.03586477041245,-74.03037697076797,-74.0316,-74.03354063630104,-74.03223305940628,-74.02698867022991,-74.02819901704788,-74.02860336005688,-74.0335519,-74.043845,-74.04311746358871,-74.03805095,-74.0321082,-74.044247311,-74.0496379137039,-74.04281705617905,-74.03891444206238,-74.0595030784607,-74.0575736,-74.0641943,-74.0524783,-74.0506564,-74.051788633,-74.04557168483734,-74.046304543,-74.050443636,-74.047726625,-74.0364857,-74.0836394,-74.0557013,-74.07840594649315,-74.06762212514877,-74.0439909,-74.04044330120087,-74.0789,-74.066921,-74.0337589,-74.03852552175522,-74.04595255851744,-74.04879033565521,-74.04996782541275,-74.07126188278198,-74.06285852193832,-74.0572714805603,-74.05038893222809,-74.04288411140442,-74.06661093235016,-74.07195925712585,-74.07106071710587,-74.07145500183105,-74.0354826,-74.05099,-74.03768330812454,-74.0625,-74.034234,-74.04696375131607,-74.03281,-74.08084273338318,-74.0867006778717,-74.06443700194359],\"marker\":{\"color\":\"#636efa\",\"size\":[3505,4545,4567,2911,2437,2317,1355,1367,1040,1276,1274,1368,1303,1677,757,1135,1170,1534,1703,2029,1116,1245,1441,730,1611,671,1857,2327,1356,1956,5065,1860,2946,2578,1441,2521,1509,376,1002,966,850,1114,848,777,1578,668,1353,735,274,2064,680,1334,861,458,188,306,2392,1100,1006,881,821,588,900,570,1153,1193,503,652,341,627,2094,678,1309,899,2135,2435,2226,62,145,2197],\"sizemode\":\"area\",\"sizeref\":12.6625},\"mode\":\"markers\",\"name\":\"\",\"showlegend\":false,\"subplot\":\"mapbox\",\"type\":\"scattermapbox\"}],                        {\"template\":{\"data\":{\"histogram2dcontour\":[{\"type\":\"histogram2dcontour\",\"colorbar\":{\"outlinewidth\":0,\"ticks\":\"\"},\"colorscale\":[[0.0,\"#0d0887\"],[0.1111111111111111,\"#46039f\"],[0.2222222222222222,\"#7201a8\"],[0.3333333333333333,\"#9c179e\"],[0.4444444444444444,\"#bd3786\"],[0.5555555555555556,\"#d8576b\"],[0.6666666666666666,\"#ed7953\"],[0.7777777777777778,\"#fb9f3a\"],[0.8888888888888888,\"#fdca26\"],[1.0,\"#f0f921\"]]}],\"choropleth\":[{\"type\":\"choropleth\",\"colorbar\":{\"outlinewidth\":0,\"ticks\":\"\"}}],\"histogram2d\":[{\"type\":\"histogram2d\",\"colorbar\":{\"outlinewidth\":0,\"ticks\":\"\"},\"colorscale\":[[0.0,\"#0d0887\"],[0.1111111111111111,\"#46039f\"],[0.2222222222222222,\"#7201a8\"],[0.3333333333333333,\"#9c179e\"],[0.4444444444444444,\"#bd3786\"],[0.5555555555555556,\"#d8576b\"],[0.6666666666666666,\"#ed7953\"],[0.7777777777777778,\"#fb9f3a\"],[0.8888888888888888,\"#fdca26\"],[1.0,\"#f0f921\"]]}],\"heatmap\":[{\"type\":\"heatmap\",\"colorbar\":{\"outlinewidth\":0,\"ticks\":\"\"},\"colorscale\":[[0.0,\"#0d0887\"],[0.1111111111111111,\"#46039f\"],[0.2222222222222222,\"#7201a8\"],[0.3333333333333333,\"#9c179e\"],[0.4444444444444444,\"#bd3786\"],[0.5555555555555556,\"#d8576b\"],[0.6666666666666666,\"#ed7953\"],[0.7777777777777778,\"#fb9f3a\"],[0.8888888888888888,\"#fdca26\"],[1.0,\"#f0f921\"]]}],\"heatmapgl\":[{\"type\":\"heatmapgl\",\"colorbar\":{\"outlinewidth\":0,\"ticks\":\"\"},\"colorscale\":[[0.0,\"#0d0887\"],[0.1111111111111111,\"#46039f\"],[0.2222222222222222,\"#7201a8\"],[0.3333333333333333,\"#9c179e\"],[0.4444444444444444,\"#bd3786\"],[0.5555555555555556,\"#d8576b\"],[0.6666666666666666,\"#ed7953\"],[0.7777777777777778,\"#fb9f3a\"],[0.8888888888888888,\"#fdca26\"],[1.0,\"#f0f921\"]]}],\"contourcarpet\":[{\"type\":\"contourcarpet\",\"colorbar\":{\"outlinewidth\":0,\"ticks\":\"\"}}],\"contour\":[{\"type\":\"contour\",\"colorbar\":{\"outlinewidth\":0,\"ticks\":\"\"},\"colorscale\":[[0.0,\"#0d0887\"],[0.1111111111111111,\"#46039f\"],[0.2222222222222222,\"#7201a8\"],[0.3333333333333333,\"#9c179e\"],[0.4444444444444444,\"#bd3786\"],[0.5555555555555556,\"#d8576b\"],[0.6666666666666666,\"#ed7953\"],[0.7777777777777778,\"#fb9f3a\"],[0.8888888888888888,\"#fdca26\"],[1.0,\"#f0f921\"]]}],\"surface\":[{\"type\":\"surface\",\"colorbar\":{\"outlinewidth\":0,\"ticks\":\"\"},\"colorscale\":[[0.0,\"#0d0887\"],[0.1111111111111111,\"#46039f\"],[0.2222222222222222,\"#7201a8\"],[0.3333333333333333,\"#9c179e\"],[0.4444444444444444,\"#bd3786\"],[0.5555555555555556,\"#d8576b\"],[0.6666666666666666,\"#ed7953\"],[0.7777777777777778,\"#fb9f3a\"],[0.8888888888888888,\"#fdca26\"],[1.0,\"#f0f921\"]]}],\"mesh3d\":[{\"type\":\"mesh3d\",\"colorbar\":{\"outlinewidth\":0,\"ticks\":\"\"}}],\"scatter\":[{\"fillpattern\":{\"fillmode\":\"overlay\",\"size\":10,\"solidity\":0.2},\"type\":\"scatter\"}],\"parcoords\":[{\"type\":\"parcoords\",\"line\":{\"colorbar\":{\"outlinewidth\":0,\"ticks\":\"\"}}}],\"scatterpolargl\":[{\"type\":\"scatterpolargl\",\"marker\":{\"colorbar\":{\"outlinewidth\":0,\"ticks\":\"\"}}}],\"bar\":[{\"error_x\":{\"color\":\"#2a3f5f\"},\"error_y\":{\"color\":\"#2a3f5f\"},\"marker\":{\"line\":{\"color\":\"#E5ECF6\",\"width\":0.5},\"pattern\":{\"fillmode\":\"overlay\",\"size\":10,\"solidity\":0.2}},\"type\":\"bar\"}],\"scattergeo\":[{\"type\":\"scattergeo\",\"marker\":{\"colorbar\":{\"outlinewidth\":0,\"ticks\":\"\"}}}],\"scatterpolar\":[{\"type\":\"scatterpolar\",\"marker\":{\"colorbar\":{\"outlinewidth\":0,\"ticks\":\"\"}}}],\"histogram\":[{\"marker\":{\"pattern\":{\"fillmode\":\"overlay\",\"size\":10,\"solidity\":0.2}},\"type\":\"histogram\"}],\"scattergl\":[{\"type\":\"scattergl\",\"marker\":{\"colorbar\":{\"outlinewidth\":0,\"ticks\":\"\"}}}],\"scatter3d\":[{\"type\":\"scatter3d\",\"line\":{\"colorbar\":{\"outlinewidth\":0,\"ticks\":\"\"}},\"marker\":{\"colorbar\":{\"outlinewidth\":0,\"ticks\":\"\"}}}],\"scattermapbox\":[{\"type\":\"scattermapbox\",\"marker\":{\"colorbar\":{\"outlinewidth\":0,\"ticks\":\"\"}}}],\"scatterternary\":[{\"type\":\"scatterternary\",\"marker\":{\"colorbar\":{\"outlinewidth\":0,\"ticks\":\"\"}}}],\"scattercarpet\":[{\"type\":\"scattercarpet\",\"marker\":{\"colorbar\":{\"outlinewidth\":0,\"ticks\":\"\"}}}],\"carpet\":[{\"aaxis\":{\"endlinecolor\":\"#2a3f5f\",\"gridcolor\":\"white\",\"linecolor\":\"white\",\"minorgridcolor\":\"white\",\"startlinecolor\":\"#2a3f5f\"},\"baxis\":{\"endlinecolor\":\"#2a3f5f\",\"gridcolor\":\"white\",\"linecolor\":\"white\",\"minorgridcolor\":\"white\",\"startlinecolor\":\"#2a3f5f\"},\"type\":\"carpet\"}],\"table\":[{\"cells\":{\"fill\":{\"color\":\"#EBF0F8\"},\"line\":{\"color\":\"white\"}},\"header\":{\"fill\":{\"color\":\"#C8D4E3\"},\"line\":{\"color\":\"white\"}},\"type\":\"table\"}],\"barpolar\":[{\"marker\":{\"line\":{\"color\":\"#E5ECF6\",\"width\":0.5},\"pattern\":{\"fillmode\":\"overlay\",\"size\":10,\"solidity\":0.2}},\"type\":\"barpolar\"}],\"pie\":[{\"automargin\":true,\"type\":\"pie\"}]},\"layout\":{\"autotypenumbers\":\"strict\",\"colorway\":[\"#636efa\",\"#EF553B\",\"#00cc96\",\"#ab63fa\",\"#FFA15A\",\"#19d3f3\",\"#FF6692\",\"#B6E880\",\"#FF97FF\",\"#FECB52\"],\"font\":{\"color\":\"#2a3f5f\"},\"hovermode\":\"closest\",\"hoverlabel\":{\"align\":\"left\"},\"paper_bgcolor\":\"white\",\"plot_bgcolor\":\"#E5ECF6\",\"polar\":{\"bgcolor\":\"#E5ECF6\",\"angularaxis\":{\"gridcolor\":\"white\",\"linecolor\":\"white\",\"ticks\":\"\"},\"radialaxis\":{\"gridcolor\":\"white\",\"linecolor\":\"white\",\"ticks\":\"\"}},\"ternary\":{\"bgcolor\":\"#E5ECF6\",\"aaxis\":{\"gridcolor\":\"white\",\"linecolor\":\"white\",\"ticks\":\"\"},\"baxis\":{\"gridcolor\":\"white\",\"linecolor\":\"white\",\"ticks\":\"\"},\"caxis\":{\"gridcolor\":\"white\",\"linecolor\":\"white\",\"ticks\":\"\"}},\"coloraxis\":{\"colorbar\":{\"outlinewidth\":0,\"ticks\":\"\"}},\"colorscale\":{\"sequential\":[[0.0,\"#0d0887\"],[0.1111111111111111,\"#46039f\"],[0.2222222222222222,\"#7201a8\"],[0.3333333333333333,\"#9c179e\"],[0.4444444444444444,\"#bd3786\"],[0.5555555555555556,\"#d8576b\"],[0.6666666666666666,\"#ed7953\"],[0.7777777777777778,\"#fb9f3a\"],[0.8888888888888888,\"#fdca26\"],[1.0,\"#f0f921\"]],\"sequentialminus\":[[0.0,\"#0d0887\"],[0.1111111111111111,\"#46039f\"],[0.2222222222222222,\"#7201a8\"],[0.3333333333333333,\"#9c179e\"],[0.4444444444444444,\"#bd3786\"],[0.5555555555555556,\"#d8576b\"],[0.6666666666666666,\"#ed7953\"],[0.7777777777777778,\"#fb9f3a\"],[0.8888888888888888,\"#fdca26\"],[1.0,\"#f0f921\"]],\"diverging\":[[0,\"#8e0152\"],[0.1,\"#c51b7d\"],[0.2,\"#de77ae\"],[0.3,\"#f1b6da\"],[0.4,\"#fde0ef\"],[0.5,\"#f7f7f7\"],[0.6,\"#e6f5d0\"],[0.7,\"#b8e186\"],[0.8,\"#7fbc41\"],[0.9,\"#4d9221\"],[1,\"#276419\"]]},\"xaxis\":{\"gridcolor\":\"white\",\"linecolor\":\"white\",\"ticks\":\"\",\"title\":{\"standoff\":15},\"zerolinecolor\":\"white\",\"automargin\":true,\"zerolinewidth\":2},\"yaxis\":{\"gridcolor\":\"white\",\"linecolor\":\"white\",\"ticks\":\"\",\"title\":{\"standoff\":15},\"zerolinecolor\":\"white\",\"automargin\":true,\"zerolinewidth\":2},\"scene\":{\"xaxis\":{\"backgroundcolor\":\"#E5ECF6\",\"gridcolor\":\"white\",\"linecolor\":\"white\",\"showbackground\":true,\"ticks\":\"\",\"zerolinecolor\":\"white\",\"gridwidth\":2},\"yaxis\":{\"backgroundcolor\":\"#E5ECF6\",\"gridcolor\":\"white\",\"linecolor\":\"white\",\"showbackground\":true,\"ticks\":\"\",\"zerolinecolor\":\"white\",\"gridwidth\":2},\"zaxis\":{\"backgroundcolor\":\"#E5ECF6\",\"gridcolor\":\"white\",\"linecolor\":\"white\",\"showbackground\":true,\"ticks\":\"\",\"zerolinecolor\":\"white\",\"gridwidth\":2}},\"shapedefaults\":{\"line\":{\"color\":\"#2a3f5f\"}},\"annotationdefaults\":{\"arrowcolor\":\"#2a3f5f\",\"arrowhead\":0,\"arrowwidth\":1},\"geo\":{\"bgcolor\":\"white\",\"landcolor\":\"#E5ECF6\",\"subunitcolor\":\"white\",\"showland\":true,\"showlakes\":true,\"lakecolor\":\"white\"},\"title\":{\"x\":0.05},\"mapbox\":{\"style\":\"light\"}}},\"mapbox\":{\"domain\":{\"x\":[0.0,1.0],\"y\":[0.0,1.0]},\"center\":{\"lat\":40.73112361456843,\"lon\":-74.04594544832472},\"zoom\":8,\"style\":\"open-street-map\"},\"legend\":{\"tracegroupgap\":0,\"itemsizing\":\"constant\"},\"margin\":{\"t\":0,\"r\":0,\"l\":0,\"b\":0}},                        {\"responsive\": true}                    ).then(function(){\n",
       "                            \n",
       "var gd = document.getElementById('432fa5d5-c7da-47b7-9fc0-05c7a77c57ff');\n",
       "var x = new MutationObserver(function (mutations, observer) {{\n",
       "        var display = window.getComputedStyle(gd).display;\n",
       "        if (!display || display === 'none') {{\n",
       "            console.log([gd, 'removed!']);\n",
       "            Plotly.purge(gd);\n",
       "            observer.disconnect();\n",
       "        }}\n",
       "}});\n",
       "\n",
       "// Listen for the removal of the full notebook cells\n",
       "var notebookContainer = gd.closest('#notebook-container');\n",
       "if (notebookContainer) {{\n",
       "    x.observe(notebookContainer, {childList: true});\n",
       "}}\n",
       "\n",
       "// Listen for the clearing of the current output cell\n",
       "var outputEl = gd.closest('.output');\n",
       "if (outputEl) {{\n",
       "    x.observe(outputEl, {childList: true});\n",
       "}}\n",
       "\n",
       "                        })                };                });            </script>        </div>"
      ]
     },
     "metadata": {},
     "output_type": "display_data"
    }
   ],
   "source": [
    "fig = px.scatter_mapbox(\n",
    "    jc_llcs,\n",
    "    lat=\"Latitude\", lon=\"Longitude\",\n",
    "    hover_name=\"Station Name\",\n",
    "    hover_data=[\"Station Name\", \"Count\"],\n",
    "    size='Count',\n",
    "    #color_discrete_sequence=[\"fuchsia\"], zoom=3, height=300\n",
    ")\n",
    "fig.update_layout(mapbox_style=\"open-street-map\")\n",
    "fig.update_layout(margin={\"r\":0,\"t\":0,\"l\":0,\"b\":0})\n",
    "fig.show()"
   ]
  }
 ],
 "metadata": {
  "kernelspec": {
   "display_name": "Python 3 (ipykernel)",
   "language": "python",
   "name": "python3"
  },
  "language_info": {
   "codemirror_mode": {
    "name": "ipython",
    "version": 3
   },
   "file_extension": ".py",
   "mimetype": "text/x-python",
   "name": "python",
   "nbconvert_exporter": "python",
   "pygments_lexer": "ipython3",
   "version": "3.9.14"
  }
 },
 "nbformat": 4,
 "nbformat_minor": 5
}
